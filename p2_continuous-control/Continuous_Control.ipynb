{
 "cells": [
  {
   "attachments": {},
   "cell_type": "markdown",
   "metadata": {},
   "source": [
    "# Continuous Control\n",
    "\n",
    "---\n",
    "\n",
    "In this notebook, you will learn how to use the Unity ML-Agents environment for the second project of the [Deep Reinforcement Learning Nanodegree](https://www.udacity.com/course/deep-reinforcement-learning-nanodegree--nd893) program.\n",
    "\n",
    "### 1. Start the Environment\n",
    "\n",
    "We begin by importing the necessary packages.  If the code cell below returns an error, please revisit the project instructions to double-check that you have installed [Unity ML-Agents](https://github.com/Unity-Technologies/ml-agents/blob/master/docs/Installation.md) and [NumPy](http://www.numpy.org/)."
   ]
  },
  {
   "cell_type": "code",
   "execution_count": 1,
   "metadata": {},
   "outputs": [],
   "source": [
    "from unityagents import UnityEnvironment\n",
    "import numpy as np"
   ]
  },
  {
   "attachments": {},
   "cell_type": "markdown",
   "metadata": {},
   "source": [
    "Next, we will start the environment!  **_Before running the code cell below_**, change the `file_name` parameter to match the location of the Unity environment that you downloaded.\n",
    "\n",
    "- **Mac**: `\"path/to/Reacher.app\"`\n",
    "- **Windows** (x86): `\"path/to/Reacher_Windows_x86/Reacher.exe\"`\n",
    "- **Windows** (x86_64): `\"path/to/Reacher_Windows_x86_64/Reacher.exe\"`\n",
    "- **Linux** (x86): `\"path/to/Reacher_Linux/Reacher.x86\"`\n",
    "- **Linux** (x86_64): `\"path/to/Reacher_Linux/Reacher.x86_64\"`\n",
    "- **Linux** (x86, headless): `\"path/to/Reacher_Linux_NoVis/Reacher.x86\"`\n",
    "- **Linux** (x86_64, headless): `\"path/to/Reacher_Linux_NoVis/Reacher.x86_64\"`\n",
    "\n",
    "For instance, if you are using a Mac, then you downloaded `Reacher.app`.  If this file is in the same folder as the notebook, then the line below should appear as follows:\n",
    "```\n",
    "env = UnityEnvironment(file_name=\"Reacher.app\")\n",
    "```"
   ]
  },
  {
   "cell_type": "code",
   "execution_count": 2,
   "metadata": {},
   "outputs": [
    {
     "name": "stderr",
     "output_type": "stream",
     "text": [
      "INFO:unityagents:\n",
      "'Academy' started successfully!\n",
      "Unity Academy name: Academy\n",
      "        Number of Brains: 1\n",
      "        Number of External Brains : 1\n",
      "        Lesson number : 0\n",
      "        Reset Parameters :\n",
      "\t\tgoal_speed -> 1.0\n",
      "\t\tgoal_size -> 5.0\n",
      "Unity brain name: ReacherBrain\n",
      "        Number of Visual Observations (per agent): 0\n",
      "        Vector Observation space type: continuous\n",
      "        Vector Observation space size (per agent): 33\n",
      "        Number of stacked Vector Observation: 1\n",
      "        Vector Action space type: continuous\n",
      "        Vector Action space size (per agent): 4\n",
      "        Vector Action descriptions: , , , \n"
     ]
    }
   ],
   "source": [
    "enable_visualization = False\n",
    "if enable_visualization:\n",
    "    env = UnityEnvironment(file_name='Reacher_Linux/Reacher.x86_64')\n",
    "else:\n",
    "    env = UnityEnvironment(file_name='Reacher_Linux_NoVis/Reacher.x86_64')"
   ]
  },
  {
   "attachments": {},
   "cell_type": "markdown",
   "metadata": {},
   "source": [
    "Environments contain **_brains_** which are responsible for deciding the actions of their associated agents. Here we check for the first brain available, and set it as the default brain we will be controlling from Python."
   ]
  },
  {
   "cell_type": "code",
   "execution_count": 3,
   "metadata": {},
   "outputs": [],
   "source": [
    "# get the default brain\n",
    "brain_name = env.brain_names[0]\n",
    "brain = env.brains[brain_name]"
   ]
  },
  {
   "attachments": {},
   "cell_type": "markdown",
   "metadata": {},
   "source": [
    "### 2. Examine the State and Action Spaces\n",
    "\n",
    "In this environment, a double-jointed arm can move to target locations. A reward of `+0.1` is provided for each step that the agent's hand is in the goal location. Thus, the goal of your agent is to maintain its position at the target location for as many time steps as possible.\n",
    "\n",
    "The observation space consists of `33` variables corresponding to position, rotation, velocity, and angular velocities of the arm.  Each action is a vector with four numbers, corresponding to torque applicable to two joints.  Every entry in the action vector must be a number between `-1` and `1`.\n",
    "\n",
    "Run the code cell below to print some information about the environment."
   ]
  },
  {
   "cell_type": "code",
   "execution_count": 4,
   "metadata": {},
   "outputs": [
    {
     "name": "stdout",
     "output_type": "stream",
     "text": [
      "Number of agents: 20\n",
      "Size of each action: 4\n",
      "There are 20 agents. Each observes a state with length: 33\n",
      "The state for the first agent looks like: [ 0.00000000e+00 -4.00000000e+00  0.00000000e+00  1.00000000e+00\n",
      " -0.00000000e+00 -0.00000000e+00 -4.37113883e-08  0.00000000e+00\n",
      "  0.00000000e+00  0.00000000e+00  0.00000000e+00  0.00000000e+00\n",
      "  0.00000000e+00  0.00000000e+00 -1.00000000e+01  0.00000000e+00\n",
      "  1.00000000e+00 -0.00000000e+00 -0.00000000e+00 -4.37113883e-08\n",
      "  0.00000000e+00  0.00000000e+00  0.00000000e+00  0.00000000e+00\n",
      "  0.00000000e+00  0.00000000e+00  5.75471878e+00 -1.00000000e+00\n",
      "  5.55726624e+00  0.00000000e+00  1.00000000e+00  0.00000000e+00\n",
      " -1.68164849e-01]\n"
     ]
    }
   ],
   "source": [
    "# reset the environment\n",
    "env_info = env.reset(train_mode=True)[brain_name]\n",
    "\n",
    "# number of agents\n",
    "num_agents = len(env_info.agents)\n",
    "print('Number of agents:', num_agents)\n",
    "\n",
    "# size of each action\n",
    "action_size = brain.vector_action_space_size\n",
    "print('Size of each action:', action_size)\n",
    "\n",
    "# examine the state space \n",
    "states = env_info.vector_observations\n",
    "state_size = states.shape[1]\n",
    "print('There are {} agents. Each observes a state with length: {}'.format(states.shape[0], state_size))\n",
    "print('The state for the first agent looks like:', states[0])"
   ]
  },
  {
   "attachments": {},
   "cell_type": "markdown",
   "metadata": {},
   "source": [
    "### 3. Take Random Actions in the Environment\n",
    "\n",
    "In the next code cell, you will learn how to use the Python API to control the agent and receive feedback from the environment.\n",
    "\n",
    "Once this cell is executed, you will watch the agent's performance, if it selects an action at random with each time step.  A window should pop up that allows you to observe the agent, as it moves through the environment.  \n",
    "\n",
    "Of course, as part of the project, you'll have to change the code so that the agent is able to use its experience to gradually choose better actions when interacting with the environment!"
   ]
  },
  {
   "cell_type": "code",
   "execution_count": 5,
   "metadata": {},
   "outputs": [
    {
     "name": "stdout",
     "output_type": "stream",
     "text": [
      "done in  1000  steps\n",
      "Total score (averaged over agents) this episode: 0.12399999722838402\n"
     ]
    }
   ],
   "source": [
    "env_info = env.reset(train_mode=True)[brain_name]     # reset the environment    \n",
    "states = env_info.vector_observations                  # get the current state (for each agent)\n",
    "scores = np.zeros(num_agents)                          # initialize the score (for each agent)\n",
    "t_max = 10000\n",
    "for t in range(t_max):\n",
    "# while True:\n",
    "    actions = np.random.randn(num_agents, action_size) # select an action (for each agent)\n",
    "    actions = np.clip(actions, -1, 1)                  # all actions between -1 and 1\n",
    "    env_info = env.step(actions)[brain_name]           # send all actions to tne environment\n",
    "    next_states = env_info.vector_observations         # get next state (for each agent)\n",
    "    rewards = env_info.rewards                         # get reward (for each agent)\n",
    "    dones = env_info.local_done                        # see if episode finished\n",
    "    scores += env_info.rewards                         # update the score (for each agent)\n",
    "    states = next_states                               # roll over states to next time step\n",
    "    # print('current time: ', t)\n",
    "    if np.any(dones):                                  # exit loop if episode finished\n",
    "        print('done in ', t, ' steps')\n",
    "        break\n",
    "print('Total score (averaged over agents) this episode: {}'.format(np.mean(scores)))"
   ]
  },
  {
   "attachments": {},
   "cell_type": "markdown",
   "metadata": {},
   "source": [
    "When finished, you can close the environment."
   ]
  },
  {
   "cell_type": "code",
   "execution_count": 6,
   "metadata": {},
   "outputs": [],
   "source": [
    "# env.close()"
   ]
  },
  {
   "attachments": {},
   "cell_type": "markdown",
   "metadata": {},
   "source": [
    "### 4. It's Your Turn!\n",
    "\n",
    "Now it's your turn to train your own agent to solve the environment!  When training the environment, set `train_mode=True`, so that the line for resetting the environment looks like the following:\n",
    "```python\n",
    "env_info = env.reset(train_mode=True)[brain_name]\n",
    "```"
   ]
  },
  {
   "cell_type": "code",
   "execution_count": 7,
   "metadata": {},
   "outputs": [],
   "source": [
    "from collections import deque\n",
    "from ddpg_agent import Agent\n",
    "from matplotlib import pyplot as plt\n",
    "import os\n",
    "import datetime\n",
    "import torch\n",
    "\n",
    "# widget bar to display progress\n",
    "# !pip install progressbar\n",
    "import progressbar as pb\n",
    "\n",
    "\n",
    "# Methods on how to improve performance\n",
    "# 1. Deeper and more complex networks\n",
    "#   1.1 make critic deeper(ddpg_result_2022_09_30_15_35_43), batch(40): not working, reward stay below 1\n",
    "# 2. Delayed updates\n",
    "# 3. Tuned hyper parameters\n",
    "#   3.1 different batch size\n",
    "#   20(ddpg_result_2022_09_30_13_04_29)/80(ddpg_result_2022_09_30_14_24_26) not good, 40 good(ddpg_result_2022_09_30_13_27_48)\n",
    "# 4. Noise function (uniform to normal distribution)\n",
    "#   4.1 same batch size(40), smaller variation, better performance(ddpg_result_2022_09_30_13_27_48)\n",
    "# 5. BatchNormalization\n",
    "# 6. Dueling Q network(Not applicable for ddpg continuous control)\n",
    "# 7. N-step bootstrapping\n",
    "# 8. Importance Sampling Priority Queue\n",
    "\n",
    "# Try 1\n",
    "# UPDATE_STEP: 1->20, UPDATE_TIMES: 1->10, BATCH_SIZE: 40(ddpg_result_2022_09_30_16_08_56): not working\n",
    "# Try 2: Change multi_step to step\n",
    "# UPDATE_STEP: 20, UPDATE_TIMES: 5, BATCH_SIZE: 40(ddpg_result_2022_09_30_16_49_02): not working\n",
    "# Try 3:\n",
    "# UPDATE_STEP: 20, UPDATE_TIMES: 5, BATCH_SIZE: 40, disable grad clip for critic, change update time logic: better(ddpg_result_2022_09_30_17_28_04)\n",
    "# Try 4:\n",
    "# UPDATE_STEP: 20, UPDATE_TIMES: 5, BATCH_SIZE: 40, above and add BN in both net:(ddpg_result_2022_10_01_15_16_22) better but still fails\n",
    "# Try 5:\n",
    "# UPDATE_STEP: 20, UPDATE_TIMES: 5, BATCH_SIZE: 128, above:(ddpg_result_2022_10_01_19_12_28) much better but still fails\n",
    "# Try 6:\n",
    "# above and change net param(400,300)->(128,256):(ddpg_result_2022_10_01_22_51_33) worse\n",
    "# Try 7:\n",
    "# same as 5, but increase buffer 1e5->1e6(ddpg_result_2022_10_02_01_44_19): much better but not enough\n",
    "# Try 8:\n",
    "# same as above but change step logic(ddpg_result_2022_10_02_10_04_21): not working\n",
    "# Try 9:\n",
    "# same as above but change noise from normal to ou, noise std 0.2->0.05(ddpg_result_2022_10_02_12_18_34): much better but not enough\n",
    "# Try 10:\n",
    "# same as above but increase update times 5->7:(ddpg_result_2022_10_02_18_35_44) worse\n",
    "# Try 11:\n",
    "# same as above and change update time logic back:(ddpg_result_2022_10_02_22_45_19) huge bump ast start, but then not growing\n",
    "# Try 12:\n",
    "# same as above and change GAMMA 0.99->0.95:(ddpg_result_2022_10_02_23_57_47) not working\n",
    "# Try 13:\n",
    "# fix ou noise error by adding -0.5 bias and add reset:(ddpg_result_2022_10_03_02_05_59) much better but not enough\n",
    "# Try 14:\n",
    "# change detach to no_grad: (ddpg_result_2022_10_04_16_14_37) success\n",
    "# Try 13:\n",
    "# add prioritized exp replay, change update time to 1: (ddpg_result_2022_10_08_21_09_12) success and much faster(however the env unity env got stuck at communication, so only finished 44 episodes)\n",
    "\n",
    "\n",
    "\n",
    "# conclusion\n",
    "# small sampler first to evaluate the learning ability\n",
    "# then increase batch size to give more data to learn\n",
    "\n",
    "\n",
    "def GetFolderPath(name='result'):\n",
    "    cur_folder = os.getcwd()\n",
    "    str_time = datetime.datetime.strftime(datetime.datetime.now(),\n",
    "                                          '%Y_%m_%d_%H_%M_%S')\n",
    "    folder_name = '/' + name + '_' + str_time + '/'\n",
    "    save_path = cur_folder + folder_name\n",
    "    if not os.path.exists(save_path):\n",
    "        os.makedirs(save_path)\n",
    "\n",
    "    return save_path\n",
    "\n",
    "\n",
    "def plot_result(scores, scores_avg, actual_target_score, save_path):\n",
    "    target_score_curve = np.ones(len(scores)) * actual_target_score\n",
    "    fig = plt.figure(figsize=[15,10])\n",
    "    ax = fig.add_axes([0.1, 0.1, 0.8, 0.8])\n",
    "    plt.xlabel(\"episode\"), plt.ylabel(\"score\")\n",
    "    ax.plot(scores)\n",
    "    ax.plot(scores_avg)\n",
    "    ax.plot(target_score_curve)\n",
    "    ax.legend(['score','avg_score', 'target_score'])\n",
    "    plt.savefig(save_path)\n",
    "    plt.close(fig)\n",
    "\n",
    "\n",
    "def Learn(env: UnityEnvironment, n_episodes=1000, max_t=1000, target_score=0.0, actual_target_score=0.0, prioritized_learn=False):\n",
    "\n",
    "    cur_folder = os.getcwd()\n",
    "    str_time = datetime.datetime.strftime(datetime.datetime.now(), '%Y_%m_%d_%H_%M_%S')\n",
    "    folder_name = '/ddpg_result_' + str_time + '/'\n",
    "    save_path = cur_folder + folder_name\n",
    "    if not os.path.isdir(save_path):\n",
    "        os.mkdir(save_path)\n",
    "\n",
    "    widget = ['training loop: ', pb.Percentage(), ' ', \n",
    "          pb.Bar(), ' ', pb.ETA() ]\n",
    "    timer = pb.ProgressBar(widgets=widget, maxval=n_episodes).start()\n",
    "\n",
    "    scores_window = deque(maxlen=20)\n",
    "    avg_agent_scores = []\n",
    "    avg_scores = []\n",
    "    cur_target_score = target_score  \n",
    "\n",
    "    agent = Agent(env, save_path+'log.txt')\n",
    "    \n",
    "    for i_episode in range(1, n_episodes+1):\n",
    "        agent.reset()\n",
    "        env_info = env.reset(train_mode=True)[brain_name]     # reset the environment    \n",
    "        num_agents = len(env_info.agents)\n",
    "        states = env_info.vector_observations                  # get the current state (for each agent)\n",
    "        scores = np.zeros(num_agents)                          # initialize the score (for each agent)\n",
    "        for t in range(max_t):\n",
    "            actions = agent.multi_agent_act(states)\n",
    "            env_info = env.step(actions)[brain_name]           # send all actions to tne environment\n",
    "            next_states = env_info.vector_observations         # get next state (for each agent)\n",
    "            rewards = env_info.rewards                         # get reward (for each agent)\n",
    "            dones = env_info.local_done                        # see if episode finished\n",
    "            # agent.multi_agent_step(states, actions, rewards, next_states, dones)\n",
    "            for i in range(num_agents):\n",
    "                if prioritized_learn:\n",
    "                    agent.priority_step(states[i], actions[i], rewards[i], next_states[i], dones[i], t)\n",
    "                else:\n",
    "                    agent.step(states[i], actions[i], rewards[i], next_states[i], dones[i], t)\n",
    "            states = next_states                               # roll over states to next time step\n",
    "            scores += env_info.rewards                         # update the score (for each agent)\n",
    "            # print('current time: ', t)\n",
    "            if np.any(dones):                                  # exit loop if episode finished\n",
    "                break\n",
    "        scores_window.append(np.mean(scores))\n",
    "        print('\\nEpisode {}\\tTotal score (averaged over agents) this episode: {}'.format(i_episode, scores_window[-1]))\n",
    "        avg_agent_scores.append(scores_window[-1])\n",
    "        avg_scores.append(np.mean(scores_window))\n",
    "        \n",
    "        # update progress widget bar\n",
    "        timer.update(i_episode)\n",
    "        \n",
    "        if avg_agent_scores[-1] > cur_target_score:\n",
    "            print('\\nEnvironment solved in {:d} episodes!\\tAverage Score: {:.2f}'.format(i_episode, avg_scores[-1]))\n",
    "            result_str = 'epi_' + str(i_episode) + '_score_' + str(avg_scores[-1])\n",
    "            torch.save(agent.critic_local.state_dict(), save_path+result_str+'_critic_checkpoint.pth')\n",
    "            torch.save(agent.actor_local.state_dict(), save_path+result_str+'_actor_checkpoint.pth')\n",
    "            cur_target_score = avg_agent_scores[-1]\n",
    "        \n",
    "        pic_save_path = save_path+'results/'\n",
    "        if not os.path.isdir(pic_save_path):\n",
    "            os.mkdir(pic_save_path)\n",
    "        pic_name = 'ddpg_n_epi_'+str(i_episode)+'.png'    \n",
    "        plot_result(avg_agent_scores, avg_scores, actual_target_score, pic_save_path+pic_name) \n",
    "        \n",
    "        if i_episode > 100 and avg_scores[-1] > actual_target_score:\n",
    "            print('training done')\n",
    "            break\n",
    "    \n",
    "    timer.finish()\n",
    "\n",
    "    return avg_scores\n"
   ]
  },
  {
   "cell_type": "code",
   "execution_count": 8,
   "metadata": {},
   "outputs": [
    {
     "name": "stderr",
     "output_type": "stream",
     "text": [
      "training loop:   0% |                                          | ETA:  --:--:--\r"
     ]
    },
    {
     "name": "stdout",
     "output_type": "stream",
     "text": [
      "state size: 33 action size: 4\n",
      "t_step: 1000 \tafter first sample, sample_time: 0.005 \tupdate_time: 0.010 \tlearn_time: 0.026 \tsum: 97.525 \tsize: 20016                                               "
     ]
    },
    {
     "name": "stderr",
     "output_type": "stream",
     "text": [
      "training loop:   0% |                                          | ETA:  10:35:12\r"
     ]
    },
    {
     "name": "stdout",
     "output_type": "stream",
     "text": [
      "t_step: 1000 \tafter first sample, sample_time: 0.004 \tupdate_time: 0.008 \tlearn_time: 0.022 \tsum: 98.064 \tsize: 20020                        \n",
      "Episode 1\tTotal score (averaged over agents) this episode: 0.42049999060109255\n",
      "\n",
      "Environment solved in 1 episodes!\tAverage Score: 0.42\n",
      "t_step: 1000 \tafter first sample, sample_time: 0.004 \tupdate_time: 0.011 \tlearn_time: 0.022 \tsum: 237.152 \tsize: 40032                                                                       "
     ]
    },
    {
     "name": "stderr",
     "output_type": "stream",
     "text": [
      "training loop:   0% |                                          | ETA:  10:33:56\r"
     ]
    },
    {
     "name": "stdout",
     "output_type": "stream",
     "text": [
      "t_step: 1000 \tafter first sample, sample_time: 0.004 \tupdate_time: 0.009 \tlearn_time: 0.019 \tsum: 238.356 \tsize: 40040                        \n",
      "Episode 2\tTotal score (averaged over agents) this episode: 0.9674999783746898\n",
      "\n",
      "Environment solved in 2 episodes!\tAverage Score: 0.69\n",
      "t_step: 1000 \tafter first sample, sample_time: 0.005 \tupdate_time: 0.009 \tlearn_time: 0.017 \tsum: 463.530 \tsize: 60054                                               "
     ]
    },
    {
     "name": "stderr",
     "output_type": "stream",
     "text": [
      "training loop:   1% |                                          | ETA:  10:31:06\r"
     ]
    },
    {
     "name": "stdout",
     "output_type": "stream",
     "text": [
      "t_step: 1000 \tafter first sample, sample_time: 0.008 \tupdate_time: 0.010 \tlearn_time: 0.025 \tsum: 466.834 \tsize: 60060                        \n",
      "Episode 3\tTotal score (averaged over agents) this episode: 0.9169999795034528\n",
      "t_step: 1000 \tafter first sample, sample_time: 0.007 \tupdate_time: 0.010 \tlearn_time: 0.040 \tsum: 729.555 \tsize: 80073                                                                       "
     ]
    },
    {
     "name": "stderr",
     "output_type": "stream",
     "text": [
      "training loop:   1% |                                          | ETA:  10:28:22\r"
     ]
    },
    {
     "name": "stdout",
     "output_type": "stream",
     "text": [
      "t_step: 1000 \tafter first sample, sample_time: 0.005 \tupdate_time: 0.012 \tlearn_time: 0.036 \tsum: 727.571 \tsize: 80080                        \n",
      "Episode 4\tTotal score (averaged over agents) this episode: 0.9619999784976244\n",
      "t_step: 1000 \tafter first sample, sample_time: 0.005 \tupdate_time: 0.009 \tlearn_time: 0.028 \tsum: 1168.539 \tsize: 100093                        "
     ]
    },
    {
     "name": "stderr",
     "output_type": "stream",
     "text": [
      "training loop:   1% |                                          | ETA:  10:26:57\r"
     ]
    },
    {
     "name": "stdout",
     "output_type": "stream",
     "text": [
      "t_step: 1000 \tafter first sample, sample_time: 0.005 \tupdate_time: 0.010 \tlearn_time: 0.022 \tsum: 1153.563 \tsize: 100100                        \n",
      "Episode 5\tTotal score (averaged over agents) this episode: 2.1319999523460864\n",
      "\n",
      "Environment solved in 5 episodes!\tAverage Score: 1.08\n",
      "t_step: 1000 \tafter first sample, sample_time: 0.005 \tupdate_time: 0.011 \tlearn_time: 0.020 \tsum: 1723.256 \tsize: 120115                        "
     ]
    },
    {
     "name": "stderr",
     "output_type": "stream",
     "text": [
      "training loop:   2% |                                          | ETA:  10:40:48\r"
     ]
    },
    {
     "name": "stdout",
     "output_type": "stream",
     "text": [
      "t_step: 1000 \tafter first sample, sample_time: 0.006 \tupdate_time: 0.010 \tlearn_time: 0.017 \tsum: 1713.176 \tsize: 120120                        \n",
      "Episode 6\tTotal score (averaged over agents) this episode: 3.0929999308660627\n",
      "\n",
      "Environment solved in 6 episodes!\tAverage Score: 1.42\n",
      "t_step: 1000 \tafter first sample, sample_time: 0.005 \tupdate_time: 0.010 \tlearn_time: 0.032 \tsum: 2274.729 \tsize: 140135                        "
     ]
    },
    {
     "name": "stderr",
     "output_type": "stream",
     "text": [
      "training loop:   2% |                                          | ETA:  10:45:02\r"
     ]
    },
    {
     "name": "stdout",
     "output_type": "stream",
     "text": [
      "t_step: 1000 \tafter first sample, sample_time: 0.005 \tupdate_time: 0.012 \tlearn_time: 0.021 \tsum: 2266.586 \tsize: 140140                        \n",
      "Episode 7\tTotal score (averaged over agents) this episode: 3.8044999149627983\n",
      "\n",
      "Environment solved in 7 episodes!\tAverage Score: 1.76\n",
      "t_step: 1000 \tafter first sample, sample_time: 0.006 \tupdate_time: 0.011 \tlearn_time: 0.037 \tsum: 2896.600 \tsize: 160157                        "
     ]
    },
    {
     "name": "stderr",
     "output_type": "stream",
     "text": [
      "training loop:   2% |#                                         | ETA:  10:48:02\r"
     ]
    },
    {
     "name": "stdout",
     "output_type": "stream",
     "text": [
      "t_step: 1000 \tafter first sample, sample_time: 0.010 \tupdate_time: 0.011 \tlearn_time: 0.018 \tsum: 2888.715 \tsize: 160160                        \n",
      "Episode 8\tTotal score (averaged over agents) this episode: 4.022999910078942\n",
      "\n",
      "Environment solved in 8 episodes!\tAverage Score: 2.04\n",
      "t_step: 1000 \tafter first sample, sample_time: 0.007 \tupdate_time: 0.012 \tlearn_time: 0.027 \tsum: 3600.126 \tsize: 180177                        "
     ]
    },
    {
     "name": "stderr",
     "output_type": "stream",
     "text": [
      "training loop:   3% |#                                         | ETA:  10:54:12\r"
     ]
    },
    {
     "name": "stdout",
     "output_type": "stream",
     "text": [
      "t_step: 1000 \tafter first sample, sample_time: 0.006 \tupdate_time: 0.012 \tlearn_time: 0.024 \tsum: 3589.022 \tsize: 180180                        \n",
      "Episode 9\tTotal score (averaged over agents) this episode: 4.521999898925424\n",
      "\n",
      "Environment solved in 9 episodes!\tAverage Score: 2.32\n",
      "t_step: 1000 \tafter first sample, sample_time: 0.007 \tupdate_time: 0.012 \tlearn_time: 0.024 \tsum: 4294.976 \tsize: 200195                                               "
     ]
    },
    {
     "name": "stderr",
     "output_type": "stream",
     "text": [
      "training loop:   3% |#                                         | ETA:  10:56:50\r"
     ]
    },
    {
     "name": "stdout",
     "output_type": "stream",
     "text": [
      "t_step: 1000 \tafter first sample, sample_time: 0.006 \tupdate_time: 0.014 \tlearn_time: 0.025 \tsum: 4279.873 \tsize: 200200                        \n",
      "Episode 10\tTotal score (averaged over agents) this episode: 4.973499888833612\n",
      "\n",
      "Environment solved in 10 episodes!\tAverage Score: 2.58\n",
      "t_step: 1000 \tafter first sample, sample_time: 0.006 \tupdate_time: 0.013 \tlearn_time: 0.035 \tsum: 4982.478 \tsize: 220217                        "
     ]
    },
    {
     "name": "stderr",
     "output_type": "stream",
     "text": [
      "training loop:   3% |#                                         | ETA:  10:59:34\r"
     ]
    },
    {
     "name": "stdout",
     "output_type": "stream",
     "text": [
      "t_step: 1000 \tafter first sample, sample_time: 0.011 \tupdate_time: 0.010 \tlearn_time: 0.036 \tsum: 4974.294 \tsize: 220220                        \n",
      "Episode 11\tTotal score (averaged over agents) this episode: 6.217499861028045\n",
      "\n",
      "Environment solved in 11 episodes!\tAverage Score: 2.91\n",
      "t_step: 1000 \tafter first sample, sample_time: 0.007 \tupdate_time: 0.013 \tlearn_time: 0.040 \tsum: 5754.518 \tsize: 240237                                               "
     ]
    },
    {
     "name": "stderr",
     "output_type": "stream",
     "text": [
      "training loop:   4% |#                                         | ETA:  11:02:48\r"
     ]
    },
    {
     "name": "stdout",
     "output_type": "stream",
     "text": [
      "t_step: 1000 \tafter first sample, sample_time: 0.006 \tupdate_time: 0.011 \tlearn_time: 0.027 \tsum: 5742.463 \tsize: 240240                        \n",
      "Episode 12\tTotal score (averaged over agents) this episode: 9.156499795336277\n",
      "\n",
      "Environment solved in 12 episodes!\tAverage Score: 3.43\n",
      "t_step: 1000 \tafter first sample, sample_time: 0.009 \tupdate_time: 0.012 \tlearn_time: 0.025 \tsum: 6533.641 \tsize: 260253                                               "
     ]
    },
    {
     "name": "stderr",
     "output_type": "stream",
     "text": [
      "training loop:   4% |#                                         | ETA:  11:05:56\r"
     ]
    },
    {
     "name": "stdout",
     "output_type": "stream",
     "text": [
      "t_step: 1000 \tafter first sample, sample_time: 0.007 \tupdate_time: 0.017 \tlearn_time: 0.027 \tsum: 6505.528 \tsize: 260260                        \n",
      "Episode 13\tTotal score (averaged over agents) this episode: 10.197999772056937\n",
      "\n",
      "Environment solved in 13 episodes!\tAverage Score: 3.95\n",
      "t_step: 1000 \tafter first sample, sample_time: 0.007 \tupdate_time: 0.014 \tlearn_time: 0.026 \tsum: 7397.847 \tsize: 280278                        "
     ]
    },
    {
     "name": "stderr",
     "output_type": "stream",
     "text": [
      "training loop:   4% |#                                         | ETA:  11:07:30\r"
     ]
    },
    {
     "name": "stdout",
     "output_type": "stream",
     "text": [
      "t_step: 1000 \tafter first sample, sample_time: 0.008 \tupdate_time: 0.015 \tlearn_time: 0.040 \tsum: 7388.576 \tsize: 280280                        \n",
      "Episode 14\tTotal score (averaged over agents) this episode: 11.887999734282493\n",
      "\n",
      "Environment solved in 14 episodes!\tAverage Score: 4.52\n",
      "t_step: 1000 \tafter first sample, sample_time: 0.005 \tupdate_time: 0.013 \tlearn_time: 0.030 \tsum: 8458.384 \tsize: 300299                        "
     ]
    },
    {
     "name": "stderr",
     "output_type": "stream",
     "text": [
      "training loop:   5% |##                                        | ETA:  11:09:12\r"
     ]
    },
    {
     "name": "stdout",
     "output_type": "stream",
     "text": [
      "t_step: 1000 \tafter first sample, sample_time: 0.011 \tupdate_time: 0.012 \tlearn_time: 0.026 \tsum: 8455.548 \tsize: 300300                        \n",
      "Episode 15\tTotal score (averaged over agents) this episode: 15.688999649323524\n",
      "\n",
      "Environment solved in 15 episodes!\tAverage Score: 5.26\n",
      "t_step: 1000 \tafter first sample, sample_time: 0.008 \tupdate_time: 0.016 \tlearn_time: 0.023 \tsum: 9621.733 \tsize: 320314                                                                       "
     ]
    },
    {
     "name": "stderr",
     "output_type": "stream",
     "text": [
      "training loop:   5% |##                                        | ETA:  11:11:57\r"
     ]
    },
    {
     "name": "stdout",
     "output_type": "stream",
     "text": [
      "t_step: 1000 \tafter first sample, sample_time: 0.014 \tupdate_time: 0.015 \tlearn_time: 0.025 \tsum: 9598.545 \tsize: 320320                        \n",
      "Episode 16\tTotal score (averaged over agents) this episode: 18.33549959016964\n",
      "\n",
      "Environment solved in 16 episodes!\tAverage Score: 6.08\n",
      "t_step: 1000 \tafter first sample, sample_time: 0.017 \tupdate_time: 0.016 \tlearn_time: 0.024 \tsum: 10769.190 \tsize: 340338                        "
     ]
    },
    {
     "name": "stderr",
     "output_type": "stream",
     "text": [
      "training loop:   5% |##                                        | ETA:  11:14:55\r"
     ]
    },
    {
     "name": "stdout",
     "output_type": "stream",
     "text": [
      "t_step: 1000 \tafter first sample, sample_time: 0.007 \tupdate_time: 0.013 \tlearn_time: 0.024 \tsum: 10766.052 \tsize: 340340                        \n",
      "Episode 17\tTotal score (averaged over agents) this episode: 21.398499521706253\n",
      "\n",
      "Environment solved in 17 episodes!\tAverage Score: 6.98\n",
      "t_step: 1000 \tafter first sample, sample_time: 0.009 \tupdate_time: 0.012 \tlearn_time: 0.021 \tsum: 12154.316 \tsize: 360354                        "
     ]
    },
    {
     "name": "stderr",
     "output_type": "stream",
     "text": [
      "training loop:   6% |##                                        | ETA:  11:16:15\r"
     ]
    },
    {
     "name": "stdout",
     "output_type": "stream",
     "text": [
      "t_step: 1000 \tafter first sample, sample_time: 0.007 \tupdate_time: 0.010 \tlearn_time: 0.032 \tsum: 12131.532 \tsize: 360360                        \n",
      "Episode 18\tTotal score (averaged over agents) this episode: 26.123499416094273\n",
      "\n",
      "Environment solved in 18 episodes!\tAverage Score: 8.05\n",
      "t_step: 1000 \tafter first sample, sample_time: 0.010 \tupdate_time: 0.016 \tlearn_time: 0.024 \tsum: 13528.547 \tsize: 380374                        "
     ]
    },
    {
     "name": "stderr",
     "output_type": "stream",
     "text": [
      "training loop:   6% |##                                        | ETA:  11:18:30\r"
     ]
    },
    {
     "name": "stdout",
     "output_type": "stream",
     "text": [
      "t_step: 1000 \tafter first sample, sample_time: 0.007 \tupdate_time: 0.018 \tlearn_time: 0.034 \tsum: 13502.792 \tsize: 380380                        \n",
      "Episode 19\tTotal score (averaged over agents) this episode: 30.215499324630947\n",
      "\n",
      "Environment solved in 19 episodes!\tAverage Score: 9.21\n",
      "t_step: 1000 \tafter first sample, sample_time: 0.006 \tupdate_time: 0.015 \tlearn_time: 0.031 \tsum: 15069.215 \tsize: 400396                                              "
     ]
    },
    {
     "name": "stderr",
     "output_type": "stream",
     "text": [
      "training loop:   6% |##                                        | ETA:  11:19:59\r"
     ]
    },
    {
     "name": "stdout",
     "output_type": "stream",
     "text": [
      "t_step: 1000 \tafter first sample, sample_time: 0.010 \tupdate_time: 0.016 \tlearn_time: 0.026 \tsum: 15056.241 \tsize: 400400                        \n",
      "Episode 20\tTotal score (averaged over agents) this episode: 31.21999930217862\n",
      "\n",
      "Environment solved in 20 episodes!\tAverage Score: 10.31\n",
      "t_step: 1000 \tafter first sample, sample_time: 0.012 \tupdate_time: 0.015 \tlearn_time: 0.025 \tsum: 16674.853 \tsize: 420418                                               "
     ]
    },
    {
     "name": "stderr",
     "output_type": "stream",
     "text": [
      "training loop:   7% |##                                        | ETA:  11:21:52\r"
     ]
    },
    {
     "name": "stdout",
     "output_type": "stream",
     "text": [
      "t_step: 1000 \tafter first sample, sample_time: 0.007 \tupdate_time: 0.017 \tlearn_time: 0.032 \tsum: 16669.984 \tsize: 420420                        \n",
      "Episode 21\tTotal score (averaged over agents) this episode: 37.334499165508895\n",
      "\n",
      "Environment solved in 21 episodes!\tAverage Score: 12.16\n",
      "t_step: 1000 \tafter first sample, sample_time: 0.013 \tupdate_time: 0.014 \tlearn_time: 0.022 \tsum: 18208.708 \tsize: 440435                                                                                               "
     ]
    },
    {
     "name": "stderr",
     "output_type": "stream",
     "text": [
      "training loop:   7% |###                                       | ETA:  11:23:42\r"
     ]
    },
    {
     "name": "stdout",
     "output_type": "stream",
     "text": [
      "t_step: 1000 \tafter first sample, sample_time: 0.013 \tupdate_time: 0.013 \tlearn_time: 0.029 \tsum: 18184.763 \tsize: 440440                        \n",
      "Episode 22\tTotal score (averaged over agents) this episode: 37.40049916403368\n",
      "\n",
      "Environment solved in 22 episodes!\tAverage Score: 13.98\n",
      "t_step: 1000 \tafter first sample, sample_time: 0.009 \tupdate_time: 0.016 \tlearn_time: 0.028 \tsum: 19806.279 \tsize: 460456                                                                       "
     ]
    },
    {
     "name": "stderr",
     "output_type": "stream",
     "text": [
      "training loop:   7% |###                                       | ETA:  11:24:16\r"
     ]
    },
    {
     "name": "stdout",
     "output_type": "stream",
     "text": [
      "t_step: 1000 \tafter first sample, sample_time: 0.009 \tupdate_time: 0.018 \tlearn_time: 0.027 \tsum: 19788.406 \tsize: 460460                        \n",
      "Episode 23\tTotal score (averaged over agents) this episode: 37.74999915622175\n",
      "\n",
      "Environment solved in 23 episodes!\tAverage Score: 15.82\n",
      "t_step: 1000 \tafter first sample, sample_time: 0.009 \tupdate_time: 0.016 \tlearn_time: 0.025 \tsum: 21334.734 \tsize: 480477                        "
     ]
    },
    {
     "name": "stderr",
     "output_type": "stream",
     "text": [
      "training loop:   8% |###                                       | ETA:  11:24:55\r"
     ]
    },
    {
     "name": "stdout",
     "output_type": "stream",
     "text": [
      "t_step: 1000 \tafter first sample, sample_time: 0.011 \tupdate_time: 0.012 \tlearn_time: 0.019 \tsum: 21322.578 \tsize: 480480                        \n",
      "Episode 24\tTotal score (averaged over agents) this episode: 36.94149917429313\n",
      "t_step: 1000 \tafter first sample, sample_time: 0.014 \tupdate_time: 0.019 \tlearn_time: 0.027 \tsum: 22793.753 \tsize: 500497                                               "
     ]
    },
    {
     "name": "stderr",
     "output_type": "stream",
     "text": [
      "training loop:   8% |###                                       | ETA:  11:25:37\r"
     ]
    },
    {
     "name": "stdout",
     "output_type": "stream",
     "text": [
      "t_step: 1000 \tafter first sample, sample_time: 0.008 \tupdate_time: 0.015 \tlearn_time: 0.026 \tsum: 22784.656 \tsize: 500500                        \n",
      "Episode 25\tTotal score (averaged over agents) this episode: 37.254499167297034\n",
      "t_step: 1000 \tafter first sample, sample_time: 0.009 \tupdate_time: 0.014 \tlearn_time: 0.023 \tsum: 24089.351 \tsize: 520518                        "
     ]
    },
    {
     "name": "stderr",
     "output_type": "stream",
     "text": [
      "training loop:   8% |###                                       | ETA:  11:26:11\r"
     ]
    },
    {
     "name": "stdout",
     "output_type": "stream",
     "text": [
      "t_step: 1000 \tafter first sample, sample_time: 0.009 \tupdate_time: 0.016 \tlearn_time: 0.034 \tsum: 24079.682 \tsize: 520520                        \n",
      "Episode 26\tTotal score (averaged over agents) this episode: 37.20549916839227\n",
      "t_step: 1000 \tafter first sample, sample_time: 0.011 \tupdate_time: 0.018 \tlearn_time: 0.028 \tsum: 25416.131 \tsize: 540539                        "
     ]
    },
    {
     "name": "stderr",
     "output_type": "stream",
     "text": [
      "training loop:   9% |###                                       | ETA:  11:26:57\r"
     ]
    },
    {
     "name": "stdout",
     "output_type": "stream",
     "text": [
      "t_step: 1000 \tafter first sample, sample_time: 0.007 \tupdate_time: 0.017 \tlearn_time: 0.033 \tsum: 25413.190 \tsize: 540540                        \n",
      "Episode 27\tTotal score (averaged over agents) this episode: 36.695999179780486\n",
      "t_step: 1000 \tafter first sample, sample_time: 0.013 \tupdate_time: 0.016 \tlearn_time: 0.024 \tsum: 26637.191 \tsize: 560558                                               "
     ]
    },
    {
     "name": "stderr",
     "output_type": "stream",
     "text": [
      "training loop:   9% |###                                       | ETA:  11:28:20\r"
     ]
    },
    {
     "name": "stdout",
     "output_type": "stream",
     "text": [
      "t_step: 1000 \tafter first sample, sample_time: 0.015 \tupdate_time: 0.015 \tlearn_time: 0.029 \tsum: 26632.185 \tsize: 560560                        \n",
      "Episode 28\tTotal score (averaged over agents) this episode: 36.10299919303507\n",
      "t_step: 1000 \tafter first sample, sample_time: 0.010 \tupdate_time: 0.016 \tlearn_time: 0.029 \tsum: 27742.341 \tsize: 580579                                                                       "
     ]
    },
    {
     "name": "stderr",
     "output_type": "stream",
     "text": [
      "training loop:   9% |####                                      | ETA:  11:28:57\r"
     ]
    },
    {
     "name": "stdout",
     "output_type": "stream",
     "text": [
      "t_step: 1000 \tafter first sample, sample_time: 0.007 \tupdate_time: 0.018 \tlearn_time: 0.026 \tsum: 27739.886 \tsize: 580580                        \n",
      "Episode 29\tTotal score (averaged over agents) this episode: 34.931999219208954\n",
      "t_step: 1000 \tafter first sample, sample_time: 0.009 \tupdate_time: 0.014 \tlearn_time: 0.023 \tsum: 29090.109 \tsize: 600596                                               "
     ]
    },
    {
     "name": "stderr",
     "output_type": "stream",
     "text": [
      "training loop:  10% |####                                      | ETA:  11:29:56\r"
     ]
    },
    {
     "name": "stdout",
     "output_type": "stream",
     "text": [
      "t_step: 1000 \tafter first sample, sample_time: 0.011 \tupdate_time: 0.020 \tlearn_time: 0.028 \tsum: 29073.531 \tsize: 600600                        \n",
      "Episode 30\tTotal score (averaged over agents) this episode: 33.089999260380864\n",
      "t_step: 1000 \tafter first sample, sample_time: 0.010 \tupdate_time: 0.015 \tlearn_time: 0.023 \tsum: 30274.888 \tsize: 620618                        "
     ]
    },
    {
     "name": "stderr",
     "output_type": "stream",
     "text": [
      "training loop:  10% |####                                      | ETA:  11:30:59\r"
     ]
    },
    {
     "name": "stdout",
     "output_type": "stream",
     "text": [
      "t_step: 1000 \tafter first sample, sample_time: 0.010 \tupdate_time: 0.024 \tlearn_time: 0.037 \tsum: 30268.503 \tsize: 620620                        \n",
      "Episode 31\tTotal score (averaged over agents) this episode: 36.37799918688834\n",
      "t_step: 1000 \tafter first sample, sample_time: 0.007 \tupdate_time: 0.012 \tlearn_time: 0.026 \tsum: 31404.031 \tsize: 640637                        "
     ]
    },
    {
     "name": "stderr",
     "output_type": "stream",
     "text": [
      "training loop:  10% |####                                      | ETA:  11:32:36\r"
     ]
    },
    {
     "name": "stdout",
     "output_type": "stream",
     "text": [
      "t_step: 1000 \tafter first sample, sample_time: 0.017 \tupdate_time: 0.018 \tlearn_time: 0.036 \tsum: 31388.408 \tsize: 640640                        \n",
      "Episode 32\tTotal score (averaged over agents) this episode: 36.45949918506667\n",
      "t_step: 1000 \tafter first sample, sample_time: 0.009 \tupdate_time: 0.013 \tlearn_time: 0.024 \tsum: 32354.956 \tsize: 660658                        "
     ]
    },
    {
     "name": "stderr",
     "output_type": "stream",
     "text": [
      "training loop:  11% |####                                      | ETA:  11:34:29\r"
     ]
    },
    {
     "name": "stdout",
     "output_type": "stream",
     "text": [
      "t_step: 1000 \tafter first sample, sample_time: 0.011 \tupdate_time: 0.022 \tlearn_time: 0.030 \tsum: 32350.154 \tsize: 660660                        \n",
      "Episode 33\tTotal score (averaged over agents) this episode: 36.63649918111041\n",
      "t_step: 1000 \tafter first sample, sample_time: 0.008 \tupdate_time: 0.016 \tlearn_time: 0.029 \tsum: 33515.733 \tsize: 680677                                                                      "
     ]
    },
    {
     "name": "stderr",
     "output_type": "stream",
     "text": [
      "training loop:  11% |####                                      | ETA:  11:36:56\r"
     ]
    },
    {
     "name": "stdout",
     "output_type": "stream",
     "text": [
      "t_step: 1000 \tafter first sample, sample_time: 0.010 \tupdate_time: 0.014 \tlearn_time: 0.024 \tsum: 33507.159 \tsize: 680680                        \n",
      "Episode 34\tTotal score (averaged over agents) this episode: 35.320499210525306\n",
      "t_step: 1000 \tafter first sample, sample_time: 0.011 \tupdate_time: 0.019 \tlearn_time: 0.027 \tsum: 34580.259 \tsize: 700695                        "
     ]
    },
    {
     "name": "stderr",
     "output_type": "stream",
     "text": [
      "training loop:  11% |####                                      | ETA:  11:38:34\r"
     ]
    },
    {
     "name": "stdout",
     "output_type": "stream",
     "text": [
      "t_step: 1000 \tafter first sample, sample_time: 0.011 \tupdate_time: 0.019 \tlearn_time: 0.029 \tsum: 34558.112 \tsize: 700700                        \n",
      "Episode 35\tTotal score (averaged over agents) this episode: 35.56449920507148\n",
      "t_step: 1000 \tafter first sample, sample_time: 0.012 \tupdate_time: 0.021 \tlearn_time: 0.029 \tsum: 35757.536 \tsize: 720719                                                                                               "
     ]
    },
    {
     "name": "stderr",
     "output_type": "stream",
     "text": [
      "training loop:  12% |#####                                     | ETA:  11:39:49\r"
     ]
    },
    {
     "name": "stdout",
     "output_type": "stream",
     "text": [
      "t_step: 1000 \tafter first sample, sample_time: 0.011 \tupdate_time: 0.017 \tlearn_time: 0.026 \tsum: 35755.433 \tsize: 720720                        \n",
      "Episode 36\tTotal score (averaged over agents) this episode: 35.14549921443686\n",
      "t_step: 1000 \tafter first sample, sample_time: 0.013 \tupdate_time: 0.022 \tlearn_time: 0.031 \tsum: 37008.592 \tsize: 740736                                                                                                                       "
     ]
    },
    {
     "name": "stderr",
     "output_type": "stream",
     "text": [
      "training loop:  12% |#####                                     | ETA:  11:40:45\r"
     ]
    },
    {
     "name": "stdout",
     "output_type": "stream",
     "text": [
      "t_step: 1000 \tafter first sample, sample_time: 0.015 \tupdate_time: 0.017 \tlearn_time: 0.023 \tsum: 36993.491 \tsize: 740740                        \n",
      "Episode 37\tTotal score (averaged over agents) this episode: 36.849999176338315\n",
      "t_step: 1000 \tafter first sample, sample_time: 0.006 \tupdate_time: 0.012 \tlearn_time: 0.020 \tsum: 38126.814 \tsize: 760759                        "
     ]
    },
    {
     "name": "stderr",
     "output_type": "stream",
     "text": [
      "training loop:  12% |#####                                     | ETA:  11:41:51\r"
     ]
    },
    {
     "name": "stdout",
     "output_type": "stream",
     "text": [
      "t_step: 1000 \tafter first sample, sample_time: 0.013 \tupdate_time: 0.026 \tlearn_time: 0.033 \tsum: 38118.597 \tsize: 760760                        \n",
      "Episode 38\tTotal score (averaged over agents) this episode: 35.42849920811132\n",
      "t_step: 1000 \tafter first sample, sample_time: 0.013 \tupdate_time: 0.018 \tlearn_time: 0.025 \tsum: 39308.698 \tsize: 780777                        "
     ]
    },
    {
     "name": "stderr",
     "output_type": "stream",
     "text": [
      "training loop:  13% |#####                                     | ETA:  11:42:42\r"
     ]
    },
    {
     "name": "stdout",
     "output_type": "stream",
     "text": [
      "t_step: 1000 \tafter first sample, sample_time: 0.012 \tupdate_time: 0.024 \tlearn_time: 0.033 \tsum: 39293.229 \tsize: 780780                        \n",
      "Episode 39\tTotal score (averaged over agents) this episode: 35.32399921044707\n",
      "t_step: 1000 \tafter first sample, sample_time: 0.010 \tupdate_time: 0.015 \tlearn_time: 0.030 \tsum: 40368.133 \tsize: 800797                                                                                               "
     ]
    },
    {
     "name": "stderr",
     "output_type": "stream",
     "text": [
      "training loop:  13% |#####                                     | ETA:  11:43:52\r"
     ]
    },
    {
     "name": "stdout",
     "output_type": "stream",
     "text": [
      "t_step: 1000 \tafter first sample, sample_time: 0.011 \tupdate_time: 0.019 \tlearn_time: 0.026 \tsum: 40353.786 \tsize: 800800                        \n",
      "Episode 40\tTotal score (averaged over agents) this episode: 35.454999207518995\n",
      "t_step: 1000 \tafter first sample, sample_time: 0.009 \tupdate_time: 0.016 \tlearn_time: 0.026 \tsum: 41552.900 \tsize: 820816                                               "
     ]
    },
    {
     "name": "stderr",
     "output_type": "stream",
     "text": [
      "training loop:  13% |#####                                     | ETA:  11:44:56\r"
     ]
    },
    {
     "name": "stdout",
     "output_type": "stream",
     "text": [
      "t_step: 1000 \tafter first sample, sample_time: 0.010 \tupdate_time: 0.018 \tlearn_time: 0.026 \tsum: 41532.573 \tsize: 820820                        \n",
      "Episode 41\tTotal score (averaged over agents) this episode: 35.05949921635911\n",
      "t_step: 1000 \tafter first sample, sample_time: 0.009 \tupdate_time: 0.016 \tlearn_time: 0.026 \tsum: 42587.731 \tsize: 840836                                               "
     ]
    },
    {
     "name": "stderr",
     "output_type": "stream",
     "text": [
      "training loop:  14% |#####                                     | ETA:  11:45:27\r"
     ]
    },
    {
     "name": "stdout",
     "output_type": "stream",
     "text": [
      "t_step: 1000 \tafter first sample, sample_time: 0.012 \tupdate_time: 0.017 \tlearn_time: 0.025 \tsum: 42570.610 \tsize: 840840                        \n",
      "Episode 42\tTotal score (averaged over agents) this episode: 34.851999220997094\n",
      "t_step: 1000 \tafter first sample, sample_time: 0.015 \tupdate_time: 0.025 \tlearn_time: 0.031 \tsum: 43754.725 \tsize: 860857                        "
     ]
    },
    {
     "name": "stderr",
     "output_type": "stream",
     "text": [
      "training loop:  14% |######                                    | ETA:  11:45:57\r"
     ]
    },
    {
     "name": "stdout",
     "output_type": "stream",
     "text": [
      "t_step: 1000 \tafter first sample, sample_time: 0.007 \tupdate_time: 0.015 \tlearn_time: 0.025 \tsum: 43746.053 \tsize: 860860                        \n",
      "Episode 43\tTotal score (averaged over agents) this episode: 34.259999234229326\n",
      "t_step: 1000 \tafter first sample, sample_time: 0.013 \tupdate_time: 0.018 \tlearn_time: 0.036 \tsum: 44918.696 \tsize: 880876                        "
     ]
    },
    {
     "name": "stderr",
     "output_type": "stream",
     "text": [
      "training loop:  14% |######                                    | ETA:  11:46:15\r"
     ]
    },
    {
     "name": "stdout",
     "output_type": "stream",
     "text": [
      "t_step: 1000 \tafter first sample, sample_time: 0.009 \tupdate_time: 0.018 \tlearn_time: 0.026 \tsum: 44899.628 \tsize: 880880                        \n",
      "Episode 44\tTotal score (averaged over agents) this episode: 34.706999224238096\n",
      "t_step: 1000 \tafter first sample, sample_time: 0.011 \tupdate_time: 0.017 \tlearn_time: 0.030 \tsum: 45942.408 \tsize: 900896                                              "
     ]
    },
    {
     "name": "stderr",
     "output_type": "stream",
     "text": [
      "training loop:  15% |######                                    | ETA:  11:47:02\r"
     ]
    },
    {
     "name": "stdout",
     "output_type": "stream",
     "text": [
      "t_step: 1000 \tafter first sample, sample_time: 0.014 \tupdate_time: 0.018 \tlearn_time: 0.025 \tsum: 45928.198 \tsize: 900900                        \n",
      "Episode 45\tTotal score (averaged over agents) this episode: 36.91699917484075\n",
      "t_step: 1000 \tafter first sample, sample_time: 0.013 \tupdate_time: 0.018 \tlearn_time: 0.029 \tsum: 47204.118 \tsize: 920919                                               "
     ]
    },
    {
     "name": "stderr",
     "output_type": "stream",
     "text": [
      "training loop:  15% |######                                    | ETA:  11:47:23\r"
     ]
    },
    {
     "name": "stdout",
     "output_type": "stream",
     "text": [
      "t_step: 1000 \tafter first sample, sample_time: 0.010 \tupdate_time: 0.018 \tlearn_time: 0.153 \tsum: 47199.461 \tsize: 920920                        \n",
      "Episode 46\tTotal score (averaged over agents) this episode: 36.51749918377027\n",
      "t_step: 1000 \tafter first sample, sample_time: 0.014 \tupdate_time: 0.017 \tlearn_time: 0.031 \tsum: 48342.452 \tsize: 940935                        "
     ]
    },
    {
     "name": "stderr",
     "output_type": "stream",
     "text": [
      "training loop:  15% |######                                    | ETA:  11:47:18\r"
     ]
    },
    {
     "name": "stdout",
     "output_type": "stream",
     "text": [
      "t_step: 1000 \tafter first sample, sample_time: 0.006 \tupdate_time: 0.019 \tlearn_time: 0.027 \tsum: 48318.884 \tsize: 940940                        \n",
      "Episode 47\tTotal score (averaged over agents) this episode: 37.99599915072322\n",
      "\n",
      "Environment solved in 47 episodes!\tAverage Score: 35.65\n",
      "t_step: 1000 \tafter first sample, sample_time: 0.013 \tupdate_time: 0.018 \tlearn_time: 0.027 \tsum: 49169.103 \tsize: 960955                                                                                              "
     ]
    },
    {
     "name": "stderr",
     "output_type": "stream",
     "text": [
      "training loop:  16% |######                                    | ETA:  11:47:32\r"
     ]
    },
    {
     "name": "stdout",
     "output_type": "stream",
     "text": [
      "t_step: 1000 \tafter first sample, sample_time: 0.013 \tupdate_time: 0.022 \tlearn_time: 0.034 \tsum: 49150.122 \tsize: 960960                        \n",
      "Episode 48\tTotal score (averaged over agents) this episode: 37.38049916448072\n",
      "t_step: 1000 \tafter first sample, sample_time: 0.015 \tupdate_time: 0.021 \tlearn_time: 0.031 \tsum: 50544.912 \tsize: 980975                        "
     ]
    },
    {
     "name": "stderr",
     "output_type": "stream",
     "text": [
      "training loop:  16% |######                                    | ETA:  11:47:27\r"
     ]
    },
    {
     "name": "stdout",
     "output_type": "stream",
     "text": [
      "t_step: 1000 \tafter first sample, sample_time: 0.011 \tupdate_time: 0.018 \tlearn_time: 0.028 \tsum: 50528.528 \tsize: 980980                        \n",
      "Episode 49\tTotal score (averaged over agents) this episode: 36.82499917689711\n",
      "t_step: 1000 \tafter first sample, sample_time: 0.014 \tupdate_time: 0.020 \tlearn_time: 0.030 \tsum: 51587.780 \tsize: 1000000                        "
     ]
    },
    {
     "name": "stderr",
     "output_type": "stream",
     "text": [
      "training loop:  16% |#######                                   | ETA:  11:47:24\r"
     ]
    },
    {
     "name": "stdout",
     "output_type": "stream",
     "text": [
      "t_step: 1000 \tafter first sample, sample_time: 0.016 \tupdate_time: 0.025 \tlearn_time: 0.035 \tsum: 51582.819 \tsize: 1000000                        \n",
      "Episode 50\tTotal score (averaged over agents) this episode: 37.534499161038546\n",
      "t_step: 1000 \tafter first sample, sample_time: 0.013 \tupdate_time: 0.019 \tlearn_time: 0.029 \tsum: 52358.846 \tsize: 1000000                        "
     ]
    },
    {
     "name": "stderr",
     "output_type": "stream",
     "text": [
      "training loop:  17% |#######                                   | ETA:  11:48:32\r"
     ]
    },
    {
     "name": "stdout",
     "output_type": "stream",
     "text": [
      "t_step: 1000 \tafter first sample, sample_time: 0.010 \tupdate_time: 0.021 \tlearn_time: 0.036 \tsum: 52337.442 \tsize: 1000000                        \n",
      "Episode 51\tTotal score (averaged over agents) this episode: 37.74949915623292\n",
      "t_step: 1000 \tafter first sample, sample_time: 0.015 \tupdate_time: 0.021 \tlearn_time: 0.029 \tsum: 52859.793 \tsize: 1000000                                               "
     ]
    },
    {
     "name": "stderr",
     "output_type": "stream",
     "text": [
      "training loop:  17% |#######                                   | ETA:  11:49:29\r"
     ]
    },
    {
     "name": "stdout",
     "output_type": "stream",
     "text": [
      "t_step: 1000 \tafter first sample, sample_time: 0.009 \tupdate_time: 0.021 \tlearn_time: 0.031 \tsum: 52844.039 \tsize: 1000000                        \n",
      "Episode 52\tTotal score (averaged over agents) this episode: 36.716999179311095\n",
      "t_step: 1000 \tafter first sample, sample_time: 0.016 \tupdate_time: 0.026 \tlearn_time: 0.034 \tsum: 53418.232 \tsize: 1000000                        "
     ]
    },
    {
     "name": "stderr",
     "output_type": "stream",
     "text": [
      "training loop:  17% |#######                                   | ETA:  11:50:03\r"
     ]
    },
    {
     "name": "stdout",
     "output_type": "stream",
     "text": [
      "t_step: 1000 \tafter first sample, sample_time: 0.010 \tupdate_time: 0.017 \tlearn_time: 0.024 \tsum: 53398.858 \tsize: 1000000                        \n",
      "Episode 53\tTotal score (averaged over agents) this episode: 37.062999171577395\n",
      "t_step: 1000 \tafter first sample, sample_time: 0.010 \tupdate_time: 0.018 \tlearn_time: 0.026 \tsum: 53823.384 \tsize: 1000000                                                                                               "
     ]
    },
    {
     "name": "stderr",
     "output_type": "stream",
     "text": [
      "training loop:  18% |#######                                   | ETA:  11:50:21\r"
     ]
    },
    {
     "name": "stdout",
     "output_type": "stream",
     "text": [
      "t_step: 1000 \tafter first sample, sample_time: 0.014 \tupdate_time: 0.017 \tlearn_time: 0.025 \tsum: 53803.038 \tsize: 1000000                        \n",
      "Episode 54\tTotal score (averaged over agents) this episode: 36.656499180663374\n",
      "t_step: 1000 \tafter first sample, sample_time: 0.020 \tupdate_time: 0.019 \tlearn_time: 0.027 \tsum: 54061.223 \tsize: 1000000                        "
     ]
    },
    {
     "name": "stderr",
     "output_type": "stream",
     "text": [
      "training loop:  18% |#######                                   | ETA:  11:50:56\r"
     ]
    },
    {
     "name": "stdout",
     "output_type": "stream",
     "text": [
      "t_step: 1000 \tafter first sample, sample_time: 0.012 \tupdate_time: 0.021 \tlearn_time: 0.030 \tsum: 54058.064 \tsize: 1000000                        \n",
      "Episode 55\tTotal score (averaged over agents) this episode: 35.9274991969578\n",
      "t_step: 1000 \tafter first sample, sample_time: 0.014 \tupdate_time: 0.032 \tlearn_time: 0.157 \tsum: 54266.737 \tsize: 1000000                        "
     ]
    },
    {
     "name": "stderr",
     "output_type": "stream",
     "text": [
      "training loop:  18% |#######                                   | ETA:  11:51:32\r"
     ]
    },
    {
     "name": "stdout",
     "output_type": "stream",
     "text": [
      "t_step: 1000 \tafter first sample, sample_time: 0.014 \tupdate_time: 0.023 \tlearn_time: 0.037 \tsum: 54249.893 \tsize: 1000000                        \n",
      "Episode 56\tTotal score (averaged over agents) this episode: 38.053499149438\n",
      "\n",
      "Environment solved in 56 episodes!\tAverage Score: 36.36\n",
      "t_step: 1000 \tafter first sample, sample_time: 0.011 \tupdate_time: 0.020 \tlearn_time: 0.028 \tsum: 54193.044 \tsize: 1000000                        "
     ]
    },
    {
     "name": "stderr",
     "output_type": "stream",
     "text": [
      "training loop:  19% |#######                                   | ETA:  11:52:45\r"
     ]
    },
    {
     "name": "stdout",
     "output_type": "stream",
     "text": [
      "t_step: 1000 \tafter first sample, sample_time: 0.015 \tupdate_time: 0.019 \tlearn_time: 0.027 \tsum: 54188.663 \tsize: 1000000                        \n",
      "Episode 57\tTotal score (averaged over agents) this episode: 36.759499178361146\n",
      "t_step: 1000 \tafter first sample, sample_time: 0.008 \tupdate_time: 0.017 \tlearn_time: 0.024 \tsum: 54099.117 \tsize: 1000000                                                                       "
     ]
    },
    {
     "name": "stderr",
     "output_type": "stream",
     "text": [
      "training loop:  19% |########                                  | ETA:  11:53:54\r"
     ]
    },
    {
     "name": "stdout",
     "output_type": "stream",
     "text": [
      "t_step: 1000 \tafter first sample, sample_time: 0.015 \tupdate_time: 0.026 \tlearn_time: 0.035 \tsum: 54088.607 \tsize: 1000000                        \n",
      "Episode 58\tTotal score (averaged over agents) this episode: 35.83049919912592\n",
      "t_step: 1000 \tafter first sample, sample_time: 0.012 \tupdate_time: 0.030 \tlearn_time: 0.114 \tsum: 54172.357 \tsize: 1000000                                                                       "
     ]
    },
    {
     "name": "stderr",
     "output_type": "stream",
     "text": [
      "training loop:  19% |########                                  | ETA:  11:55:34\r"
     ]
    },
    {
     "name": "stdout",
     "output_type": "stream",
     "text": [
      "t_step: 1000 \tafter first sample, sample_time: 0.008 \tupdate_time: 0.020 \tlearn_time: 0.028 \tsum: 54170.626 \tsize: 1000000                        \n",
      "Episode 59\tTotal score (averaged over agents) this episode: 36.914499174896626\n",
      "t_step: 1000 \tafter first sample, sample_time: 0.013 \tupdate_time: 0.024 \tlearn_time: 0.033 \tsum: 54292.597 \tsize: 1000000                        "
     ]
    },
    {
     "name": "stderr",
     "output_type": "stream",
     "text": [
      "training loop:  20% |########                                  | ETA:  11:56:50\r"
     ]
    },
    {
     "name": "stdout",
     "output_type": "stream",
     "text": [
      "t_step: 1000 \tafter first sample, sample_time: 0.019 \tupdate_time: 0.021 \tlearn_time: 0.030 \tsum: 54286.474 \tsize: 1000000                        \n",
      "Episode 60\tTotal score (averaged over agents) this episode: 36.499999184161425\n",
      "t_step: 1000 \tafter first sample, sample_time: 0.016 \tupdate_time: 0.031 \tlearn_time: 0.040 \tsum: 54133.514 \tsize: 1000000                                               "
     ]
    },
    {
     "name": "stderr",
     "output_type": "stream",
     "text": [
      "training loop:  20% |########                                  | ETA:  11:58:25\r"
     ]
    },
    {
     "name": "stdout",
     "output_type": "stream",
     "text": [
      "t_step: 1000 \tafter first sample, sample_time: 0.011 \tupdate_time: 0.024 \tlearn_time: 0.033 \tsum: 54120.865 \tsize: 1000000                        \n",
      "Episode 61\tTotal score (averaged over agents) this episode: 37.96899915132671\n",
      "t_step: 1000 \tafter first sample, sample_time: 0.015 \tupdate_time: 0.032 \tlearn_time: 0.039 \tsum: 53834.281 \tsize: 1000000                        "
     ]
    },
    {
     "name": "stderr",
     "output_type": "stream",
     "text": [
      "training loop:  20% |########                                  | ETA:  11:59:36\r"
     ]
    },
    {
     "name": "stdout",
     "output_type": "stream",
     "text": [
      "t_step: 1000 \tafter first sample, sample_time: 0.020 \tupdate_time: 0.037 \tlearn_time: 0.046 \tsum: 53826.825 \tsize: 1000000                        \n",
      "Episode 62\tTotal score (averaged over agents) this episode: 33.25999925658107\n",
      "t_step: 1000 \tafter first sample, sample_time: 0.012 \tupdate_time: 0.025 \tlearn_time: 0.034 \tsum: 53512.286 \tsize: 1000000                                                                      "
     ]
    },
    {
     "name": "stderr",
     "output_type": "stream",
     "text": [
      "training loop:  21% |########                                  | ETA:  12:01:38\r"
     ]
    },
    {
     "name": "stdout",
     "output_type": "stream",
     "text": [
      "t_step: 1000 \tafter first sample, sample_time: 0.018 \tupdate_time: 0.033 \tlearn_time: 0.043 \tsum: 53500.116 \tsize: 1000000                        \n",
      "Episode 63\tTotal score (averaged over agents) this episode: 34.18499923590571\n",
      "t_step: 1000 \tafter first sample, sample_time: 0.017 \tupdate_time: 0.032 \tlearn_time: 0.046 \tsum: 53304.344 \tsize: 1000000                        "
     ]
    },
    {
     "name": "stderr",
     "output_type": "stream",
     "text": [
      "training loop:  21% |########                                  | ETA:  12:04:04\r"
     ]
    },
    {
     "name": "stdout",
     "output_type": "stream",
     "text": [
      "t_step: 1000 \tafter first sample, sample_time: 0.012 \tupdate_time: 0.032 \tlearn_time: 0.038 \tsum: 53287.783 \tsize: 1000000                        \n",
      "Episode 64\tTotal score (averaged over agents) this episode: 35.14299921449274\n",
      "t_step: 1000 \tafter first sample, sample_time: 0.014 \tupdate_time: 0.024 \tlearn_time: 0.035 \tsum: 53057.010 \tsize: 1000000                                               "
     ]
    },
    {
     "name": "stderr",
     "output_type": "stream",
     "text": [
      "training loop:  21% |#########                                 | ETA:  12:05:47\r"
     ]
    },
    {
     "name": "stdout",
     "output_type": "stream",
     "text": [
      "t_step: 1000 \tafter first sample, sample_time: 0.013 \tupdate_time: 0.026 \tlearn_time: 0.034 \tsum: 53028.979 \tsize: 1000000                        \n",
      "Episode 65\tTotal score (averaged over agents) this episode: 32.780999267287555\n",
      "t_step: 1000 \tafter first sample, sample_time: 0.015 \tupdate_time: 0.032 \tlearn_time: 0.043 \tsum: 52738.381 \tsize: 1000000                        "
     ]
    },
    {
     "name": "stderr",
     "output_type": "stream",
     "text": [
      "training loop:  22% |#########                                 | ETA:  12:07:24\r"
     ]
    },
    {
     "name": "stdout",
     "output_type": "stream",
     "text": [
      "t_step: 1000 \tafter first sample, sample_time: 0.016 \tupdate_time: 0.037 \tlearn_time: 0.046 \tsum: 52708.827 \tsize: 1000000                        \n",
      "Episode 66\tTotal score (averaged over agents) this episode: 33.72349924622104\n",
      "t_step: 1000 \tafter first sample, sample_time: 0.020 \tupdate_time: 0.033 \tlearn_time: 0.040 \tsum: 52507.115 \tsize: 1000000                                               "
     ]
    },
    {
     "name": "stderr",
     "output_type": "stream",
     "text": [
      "training loop:  22% |#########                                 | ETA:  12:10:04\r"
     ]
    },
    {
     "name": "stdout",
     "output_type": "stream",
     "text": [
      "t_step: 1000 \tafter first sample, sample_time: 0.016 \tupdate_time: 0.041 \tlearn_time: 0.048 \tsum: 52491.938 \tsize: 1000000                        \n",
      "Episode 67\tTotal score (averaged over agents) this episode: 35.06799921616912\n",
      "t_step: 1000 \tafter first sample, sample_time: 0.012 \tupdate_time: 0.038 \tlearn_time: 0.045 \tsum: 52471.294 \tsize: 1000000                                                                                              "
     ]
    },
    {
     "name": "stderr",
     "output_type": "stream",
     "text": [
      "training loop:  22% |#########                                 | ETA:  12:13:45\r"
     ]
    },
    {
     "name": "stdout",
     "output_type": "stream",
     "text": [
      "t_step: 1000 \tafter first sample, sample_time: 0.019 \tupdate_time: 0.046 \tlearn_time: 0.053 \tsum: 52451.024 \tsize: 1000000                        \n",
      "Episode 68\tTotal score (averaged over agents) this episode: 33.53649925040081\n",
      "t_step: 1000 \tafter first sample, sample_time: 0.030 \tupdate_time: 0.055 \tlearn_time: 0.062 \tsum: 52233.430 \tsize: 1000000                                                                       "
     ]
    },
    {
     "name": "stderr",
     "output_type": "stream",
     "text": [
      "training loop:  23% |#########                                 | ETA:  12:18:42\r"
     ]
    },
    {
     "name": "stdout",
     "output_type": "stream",
     "text": [
      "t_step: 1000 \tafter first sample, sample_time: 0.022 \tupdate_time: 0.049 \tlearn_time: 0.056 \tsum: 52229.606 \tsize: 1000000                        \n",
      "Episode 69\tTotal score (averaged over agents) this episode: 36.287999188899995\n",
      "t_step: 1000 \tafter first sample, sample_time: 0.024 \tupdate_time: 0.052 \tlearn_time: 0.062 \tsum: 51776.495 \tsize: 1000000                        "
     ]
    },
    {
     "name": "stderr",
     "output_type": "stream",
     "text": [
      "training loop:  23% |#########                                 | ETA:  12:25:05\r"
     ]
    },
    {
     "name": "stdout",
     "output_type": "stream",
     "text": [
      "t_step: 1000 \tafter first sample, sample_time: 0.034 \tupdate_time: 0.072 \tlearn_time: 0.081 \tsum: 51769.146 \tsize: 1000000                        \n",
      "Episode 70\tTotal score (averaged over agents) this episode: 36.93799917437136\n",
      "t_step: 1000 \tafter first sample, sample_time: 0.025 \tupdate_time: 0.055 \tlearn_time: 0.062 \tsum: 51646.025 \tsize: 1000000                                               "
     ]
    },
    {
     "name": "stderr",
     "output_type": "stream",
     "text": [
      "training loop:  23% |#########                                 | ETA:  12:33:08\r"
     ]
    },
    {
     "name": "stdout",
     "output_type": "stream",
     "text": [
      "t_step: 1000 \tafter first sample, sample_time: 0.021 \tupdate_time: 0.085 \tlearn_time: 0.092 \tsum: 51636.578 \tsize: 1000000                        \n",
      "Episode 71\tTotal score (averaged over agents) this episode: 33.743499245774004\n",
      "t_step: 1000 \tafter first sample, sample_time: 0.035 \tupdate_time: 0.057 \tlearn_time: 0.071 \tsum: 51717.149 \tsize: 1000000                        "
     ]
    },
    {
     "name": "stderr",
     "output_type": "stream",
     "text": [
      "training loop:  24% |##########                                | ETA:  12:42:45\r"
     ]
    },
    {
     "name": "stdout",
     "output_type": "stream",
     "text": [
      "t_step: 1000 \tafter first sample, sample_time: 0.033 \tupdate_time: 0.077 \tlearn_time: 0.092 \tsum: 51705.731 \tsize: 1000000                        \n",
      "Episode 72\tTotal score (averaged over agents) this episode: 33.18099925834686\n",
      "t_step: 1000 \tafter first sample, sample_time: 0.044 \tupdate_time: 0.089 \tlearn_time: 0.096 \tsum: 51715.745 \tsize: 1000000                        "
     ]
    },
    {
     "name": "stderr",
     "output_type": "stream",
     "text": [
      "training loop:  24% |##########                                | ETA:  12:55:04\r"
     ]
    },
    {
     "name": "stdout",
     "output_type": "stream",
     "text": [
      "t_step: 1000 \tafter first sample, sample_time: 0.036 \tupdate_time: 0.080 \tlearn_time: 0.090 \tsum: 51706.000 \tsize: 1000000                        \n",
      "Episode 73\tTotal score (averaged over agents) this episode: 33.190499258134516\n",
      "t_step: 1000 \tafter first sample, sample_time: 0.036 \tupdate_time: 0.072 \tlearn_time: 0.080 \tsum: 51594.055 \tsize: 1000000                        "
     ]
    },
    {
     "name": "stderr",
     "output_type": "stream",
     "text": [
      "training loop:  24% |##########                                | ETA:  13:10:30\r"
     ]
    },
    {
     "name": "stdout",
     "output_type": "stream",
     "text": [
      "t_step: 1000 \tafter first sample, sample_time: 0.040 \tupdate_time: 0.093 \tlearn_time: 0.100 \tsum: 51572.773 \tsize: 1000000                        \n",
      "Episode 74\tTotal score (averaged over agents) this episode: 33.56199924983084\n",
      "t_step: 1000 \tafter first sample, sample_time: 0.033 \tupdate_time: 0.095 \tlearn_time: 0.104 \tsum: 51378.923 \tsize: 1000000                        "
     ]
    },
    {
     "name": "stderr",
     "output_type": "stream",
     "text": [
      "training loop:  25% |##########                                | ETA:  13:30:08\r"
     ]
    },
    {
     "name": "stdout",
     "output_type": "stream",
     "text": [
      "t_step: 1000 \tafter first sample, sample_time: 0.050 \tupdate_time: 0.113 \tlearn_time: 0.120 \tsum: 51373.431 \tsize: 1000000                        \n",
      "Episode 75\tTotal score (averaged over agents) this episode: 29.401499342825264\n",
      "t_step: 1000 \tafter first sample, sample_time: 0.070 \tupdate_time: 0.119 \tlearn_time: 0.125 \tsum: 51278.807 \tsize: 1000000                                                                                                                       "
     ]
    },
    {
     "name": "stderr",
     "output_type": "stream",
     "text": [
      "training loop:  25% |##########                                | ETA:  13:52:00\r"
     ]
    },
    {
     "name": "stdout",
     "output_type": "stream",
     "text": [
      "t_step: 1000 \tafter first sample, sample_time: 0.058 \tupdate_time: 0.141 \tlearn_time: 0.148 \tsum: 51278.099 \tsize: 1000000                        \n",
      "Episode 76\tTotal score (averaged over agents) this episode: 31.475499296467753\n",
      "t_step: 1000 \tafter first sample, sample_time: 0.062 \tupdate_time: 0.144 \tlearn_time: 0.155 \tsum: 51341.628 \tsize: 1000000                                               "
     ]
    },
    {
     "name": "stderr",
     "output_type": "stream",
     "text": [
      "training loop:  25% |##########                                | ETA:  14:19:49\r"
     ]
    },
    {
     "name": "stdout",
     "output_type": "stream",
     "text": [
      "t_step: 1000 \tafter first sample, sample_time: 0.063 \tupdate_time: 0.193 \tlearn_time: 0.201 \tsum: 51336.509 \tsize: 1000000                        \n",
      "Episode 77\tTotal score (averaged over agents) this episode: 32.642999270372094\n",
      "t_step: 1000 \tafter first sample, sample_time: 0.083 \tupdate_time: 0.162 \tlearn_time: 0.169 \tsum: 51501.968 \tsize: 1000000                                                                                             "
     ]
    },
    {
     "name": "stderr",
     "output_type": "stream",
     "text": [
      "training loop:  26% |##########                                | ETA:  14:51:20\r"
     ]
    },
    {
     "name": "stdout",
     "output_type": "stream",
     "text": [
      "t_step: 1000 \tafter first sample, sample_time: 0.092 \tupdate_time: 0.174 \tlearn_time: 0.181 \tsum: 51495.846 \tsize: 1000000                        \n",
      "Episode 78\tTotal score (averaged over agents) this episode: 31.900499286968262\n",
      "t_step: 1000 \tafter first sample, sample_time: 0.084 \tupdate_time: 0.204 \tlearn_time: 0.211 \tsum: 51811.725 \tsize: 1000000                                                                       "
     ]
    },
    {
     "name": "stderr",
     "output_type": "stream",
     "text": [
      "training loop:  26% |###########                               | ETA:  15:25:17\r"
     ]
    },
    {
     "name": "stdout",
     "output_type": "stream",
     "text": [
      "t_step: 1000 \tafter first sample, sample_time: 0.070 \tupdate_time: 0.202 \tlearn_time: 0.210 \tsum: 51801.639 \tsize: 1000000                        \n",
      "Episode 79\tTotal score (averaged over agents) this episode: 28.37049936586991\n",
      "t_step: 1000 \tafter first sample, sample_time: 0.092 \tupdate_time: 0.233 \tlearn_time: 0.241 \tsum: 51811.012 \tsize: 1000000                        "
     ]
    },
    {
     "name": "stderr",
     "output_type": "stream",
     "text": [
      "training loop:  26% |###########                               | ETA:  16:06:19\r"
     ]
    },
    {
     "name": "stdout",
     "output_type": "stream",
     "text": [
      "t_step: 1000 \tafter first sample, sample_time: 0.107 \tupdate_time: 0.239 \tlearn_time: 0.249 \tsum: 51796.194 \tsize: 1000000                        \n",
      "Episode 80\tTotal score (averaged over agents) this episode: 32.1374992816709\n",
      "t_step: 1000 \tafter first sample, sample_time: 0.106 \tupdate_time: 0.272 \tlearn_time: 0.280 \tsum: 51980.491 \tsize: 1000000                        "
     ]
    },
    {
     "name": "stderr",
     "output_type": "stream",
     "text": [
      "training loop:  27% |###########                               | ETA:  16:54:22\r"
     ]
    },
    {
     "name": "stdout",
     "output_type": "stream",
     "text": [
      "t_step: 1000 \tafter first sample, sample_time: 0.103 \tupdate_time: 0.297 \tlearn_time: 0.305 \tsum: 51970.796 \tsize: 1000000                        \n",
      "Episode 81\tTotal score (averaged over agents) this episode: 30.002499329391867\n",
      "t_step: 1000 \tafter first sample, sample_time: 0.132 \tupdate_time: 0.277 \tlearn_time: 0.284 \tsum: 52472.310 \tsize: 1000000                        "
     ]
    },
    {
     "name": "stderr",
     "output_type": "stream",
     "text": [
      "training loop:  27% |###########                               | ETA:  17:49:39\r"
     ]
    },
    {
     "name": "stdout",
     "output_type": "stream",
     "text": [
      "t_step: 1000 \tafter first sample, sample_time: 0.155 \tupdate_time: 0.312 \tlearn_time: 0.327 \tsum: 52462.585 \tsize: 1000000                        \n",
      "Episode 82\tTotal score (averaged over agents) this episode: 33.243499256949875\n",
      "t_step: 1000 \tafter first sample, sample_time: 0.114 \tupdate_time: 0.341 \tlearn_time: 0.361 \tsum: 52630.427 \tsize: 1000000                        "
     ]
    },
    {
     "name": "stderr",
     "output_type": "stream",
     "text": [
      "training loop:  27% |###########                               | ETA:  18:54:13\r"
     ]
    },
    {
     "name": "stdout",
     "output_type": "stream",
     "text": [
      "t_step: 1000 \tafter first sample, sample_time: 0.220 \tupdate_time: 0.352 \tlearn_time: 0.366 \tsum: 52619.840 \tsize: 1000000                        \n",
      "Episode 83\tTotal score (averaged over agents) this episode: 31.74199929051101\n",
      "t_step: 1000 \tafter first sample, sample_time: 0.151 \tupdate_time: 0.386 \tlearn_time: 0.392 \tsum: 52702.845 \tsize: 1000000                        "
     ]
    },
    {
     "name": "stderr",
     "output_type": "stream",
     "text": [
      "training loop:  28% |###########                               | ETA:  20:05:22\r"
     ]
    },
    {
     "name": "stdout",
     "output_type": "stream",
     "text": [
      "t_step: 1000 \tafter first sample, sample_time: 0.184 \tupdate_time: 0.419 \tlearn_time: 0.494 \tsum: 52700.056 \tsize: 1000000                        \n",
      "Episode 84\tTotal score (averaged over agents) this episode: 32.518999273143706\n",
      "t_step: 1000 \tafter first sample, sample_time: 0.255 \tupdate_time: 0.527 \tlearn_time: 0.544 \tsum: 52564.045 \tsize: 1000000                        "
     ]
    },
    {
     "name": "stderr",
     "output_type": "stream",
     "text": [
      "training loop:  28% |###########                               | ETA:  21:25:06\r"
     ]
    },
    {
     "name": "stdout",
     "output_type": "stream",
     "text": [
      "t_step: 1000 \tafter first sample, sample_time: 0.168 \tupdate_time: 0.414 \tlearn_time: 0.426 \tsum: 52559.272 \tsize: 1000000                        \n",
      "Episode 85\tTotal score (averaged over agents) this episode: 33.34749925462529\n",
      "t_step: 1000 \tafter first sample, sample_time: 0.182 \tupdate_time: 0.460 \tlearn_time: 0.467 \tsum: 52666.153 \tsize: 1000000                        "
     ]
    },
    {
     "name": "stderr",
     "output_type": "stream",
     "text": [
      "training loop:  28% |############                              | ETA:  23:00:58\r"
     ]
    },
    {
     "name": "stdout",
     "output_type": "stream",
     "text": [
      "t_step: 1000 \tafter first sample, sample_time: 0.222 \tupdate_time: 0.560 \tlearn_time: 0.568 \tsum: 52660.520 \tsize: 1000000                        \n",
      "Episode 86\tTotal score (averaged over agents) this episode: 31.503999295830727\n",
      "t_step: 1000 \tafter first sample, sample_time: 0.313 \tupdate_time: 0.655 \tlearn_time: 0.663 \tsum: 53011.933 \tsize: 1000000                        "
     ]
    },
    {
     "name": "stderr",
     "output_type": "stream",
     "text": [
      "training loop:  29% |##########                          | ETA:  1 day, 0:47:18\r"
     ]
    },
    {
     "name": "stdout",
     "output_type": "stream",
     "text": [
      "t_step: 1000 \tafter first sample, sample_time: 0.252 \tupdate_time: 0.611 \tlearn_time: 0.620 \tsum: 53000.468 \tsize: 1000000                        \n",
      "Episode 87\tTotal score (averaged over agents) this episode: 29.65449933717027\n",
      "t_step: 1000 \tafter first sample, sample_time: 0.264 \tupdate_time: 0.654 \tlearn_time: 0.663 \tsum: 53164.322 \tsize: 1000000                        "
     ]
    },
    {
     "name": "stderr",
     "output_type": "stream",
     "text": [
      "training loop:  29% |##########                          | ETA:  1 day, 2:48:06\r"
     ]
    },
    {
     "name": "stdout",
     "output_type": "stream",
     "text": [
      "t_step: 1000 \tafter first sample, sample_time: 0.293 \tupdate_time: 0.722 \tlearn_time: 0.732 \tsum: 53162.420 \tsize: 1000000                        \n",
      "Episode 88\tTotal score (averaged over agents) this episode: 29.663999336957932\n",
      "t_step: 1000 \tafter first sample, sample_time: 0.243 \tupdate_time: 0.540 \tlearn_time: 0.547 \tsum: 53165.089 \tsize: 1000000                        "
     ]
    },
    {
     "name": "stderr",
     "output_type": "stream",
     "text": [
      "training loop:  29% |##########                          | ETA:  1 day, 5:02:57\r"
     ]
    },
    {
     "name": "stdout",
     "output_type": "stream",
     "text": [
      "t_step: 1000 \tafter first sample, sample_time: 0.267 \tupdate_time: 0.592 \tlearn_time: 0.599 \tsum: 53161.478 \tsize: 1000000                        \n",
      "Episode 89\tTotal score (averaged over agents) this episode: 28.737999357655646\n",
      "t_step: 1000 \tafter first sample, sample_time: 0.224 \tupdate_time: 0.698 \tlearn_time: 0.704 \tsum: 53188.689 \tsize: 1000000                        "
     ]
    },
    {
     "name": "stderr",
     "output_type": "stream",
     "text": [
      "training loop:  30% |##########                          | ETA:  1 day, 7:00:49\r"
     ]
    },
    {
     "name": "stdout",
     "output_type": "stream",
     "text": [
      "t_step: 1000 \tafter first sample, sample_time: 0.251 \tupdate_time: 0.527 \tlearn_time: 0.533 \tsum: 53176.661 \tsize: 1000000                        \n",
      "Episode 90\tTotal score (averaged over agents) this episode: 32.513999273255465\n",
      "t_step: 1000 \tafter first sample, sample_time: 0.267 \tupdate_time: 0.713 \tlearn_time: 0.725 \tsum: 52992.000 \tsize: 1000000                        "
     ]
    },
    {
     "name": "stderr",
     "output_type": "stream",
     "text": [
      "training loop:  30% |##########                          | ETA:  1 day, 9:04:19\r"
     ]
    },
    {
     "name": "stdout",
     "output_type": "stream",
     "text": [
      "t_step: 1000 \tafter first sample, sample_time: 0.322 \tupdate_time: 0.737 \tlearn_time: 0.744 \tsum: 52983.816 \tsize: 1000000                        \n",
      "Episode 91\tTotal score (averaged over agents) this episode: 30.446499319467694\n",
      "t_step: 1000 \tafter first sample, sample_time: 0.428 \tupdate_time: 0.902 \tlearn_time: 0.909 \tsum: 53070.542 \tsize: 1000000                        "
     ]
    },
    {
     "name": "stderr",
     "output_type": "stream",
     "text": [
      "training loop:  30% |##########                         | ETA:  1 day, 11:24:09\r"
     ]
    },
    {
     "name": "stdout",
     "output_type": "stream",
     "text": [
      "t_step: 1000 \tafter first sample, sample_time: 0.402 \tupdate_time: 0.989 \tlearn_time: 0.998 \tsum: 53065.030 \tsize: 1000000                        \n",
      "Episode 92\tTotal score (averaged over agents) this episode: 26.43949940903112\n",
      "t_step: 1000 \tafter first sample, sample_time: 0.255 \tupdate_time: 0.611 \tlearn_time: 0.617 \tsum: 53092.987 \tsize: 1000000                        "
     ]
    },
    {
     "name": "stderr",
     "output_type": "stream",
     "text": [
      "training loop:  31% |##########                         | ETA:  1 day, 13:18:06\r"
     ]
    },
    {
     "name": "stdout",
     "output_type": "stream",
     "text": [
      "t_step: 1000 \tafter first sample, sample_time: 0.250 \tupdate_time: 0.685 \tlearn_time: 0.691 \tsum: 53090.234 \tsize: 1000000                        \n",
      "Episode 93\tTotal score (averaged over agents) this episode: 26.766499401722104\n",
      "t_step: 1000 \tafter first sample, sample_time: 0.402 \tupdate_time: 1.054 \tlearn_time: 1.084 \tsum: 52056.203 \tsize: 1000000                        "
     ]
    },
    {
     "name": "stderr",
     "output_type": "stream",
     "text": [
      "training loop:  31% |##########                         | ETA:  1 day, 15:52:47\r"
     ]
    },
    {
     "name": "stdout",
     "output_type": "stream",
     "text": [
      "t_step: 1000 \tafter first sample, sample_time: 0.415 \tupdate_time: 1.048 \tlearn_time: 1.054 \tsum: 52037.366 \tsize: 1000000                        \n",
      "Episode 94\tTotal score (averaged over agents) this episode: 28.719999358057976\n",
      "t_step: 1000 \tafter first sample, sample_time: 0.448 \tupdate_time: 1.065 \tlearn_time: 1.071 \tsum: 47424.444 \tsize: 1000000                        "
     ]
    },
    {
     "name": "stderr",
     "output_type": "stream",
     "text": [
      "training loop:  31% |###########                        | ETA:  1 day, 19:34:58\r"
     ]
    },
    {
     "name": "stdout",
     "output_type": "stream",
     "text": [
      "t_step: 1000 \tafter first sample, sample_time: 0.521 \tupdate_time: 1.055 \tlearn_time: 1.066 \tsum: 47413.079 \tsize: 1000000                        \n",
      "Episode 95\tTotal score (averaged over agents) this episode: 31.698999291472138\n",
      "t_step: 1000 \tafter first sample, sample_time: 0.423 \tupdate_time: 0.999 \tlearn_time: 1.010 \tsum: 45272.550 \tsize: 1000000                        "
     ]
    },
    {
     "name": "stderr",
     "output_type": "stream",
     "text": [
      "training loop:  32% |###########                        | ETA:  1 day, 23:21:32\r"
     ]
    },
    {
     "name": "stdout",
     "output_type": "stream",
     "text": [
      "t_step: 1000 \tafter first sample, sample_time: 0.472 \tupdate_time: 0.995 \tlearn_time: 1.003 \tsum: 45260.740 \tsize: 1000000                        \n",
      "Episode 96\tTotal score (averaged over agents) this episode: 37.7904991553165\n",
      "t_step: 1000 \tafter first sample, sample_time: 0.307 \tupdate_time: 0.746 \tlearn_time: 0.753 \tsum: 44618.473 \tsize: 1000000                        "
     ]
    },
    {
     "name": "stderr",
     "output_type": "stream",
     "text": [
      "training loop:  32% |###########                        | ETA:  2 days, 1:45:44\r"
     ]
    },
    {
     "name": "stdout",
     "output_type": "stream",
     "text": [
      "t_step: 1000 \tafter first sample, sample_time: 0.325 \tupdate_time: 0.771 \tlearn_time: 0.777 \tsum: 44609.210 \tsize: 1000000                        \n",
      "Episode 97\tTotal score (averaged over agents) this episode: 36.38449918674305\n",
      "t_step: 1000 \tafter first sample, sample_time: 0.352 \tupdate_time: 0.762 \tlearn_time: 0.769 \tsum: 44498.739 \tsize: 1000000                        "
     ]
    },
    {
     "name": "stderr",
     "output_type": "stream",
     "text": [
      "training loop:  32% |###########                        | ETA:  2 days, 3:42:43\r"
     ]
    },
    {
     "name": "stdout",
     "output_type": "stream",
     "text": [
      "t_step: 1000 \tafter first sample, sample_time: 0.306 \tupdate_time: 0.725 \tlearn_time: 0.731 \tsum: 44501.677 \tsize: 1000000                        \n",
      "Episode 98\tTotal score (averaged over agents) this episode: 39.07149912668392\n",
      "\n",
      "Environment solved in 98 episodes!\tAverage Score: 31.54\n",
      "t_step: 1000 \tafter first sample, sample_time: 0.387 \tupdate_time: 0.934 \tlearn_time: 0.941 \tsum: 44600.351 \tsize: 1000000                        "
     ]
    },
    {
     "name": "stderr",
     "output_type": "stream",
     "text": [
      "training loop:  33% |###########                        | ETA:  2 days, 6:11:49\r"
     ]
    },
    {
     "name": "stdout",
     "output_type": "stream",
     "text": [
      "t_step: 1000 \tafter first sample, sample_time: 0.410 \tupdate_time: 0.995 \tlearn_time: 1.004 \tsum: 44593.833 \tsize: 1000000                        \n",
      "Episode 99\tTotal score (averaged over agents) this episode: 39.39499911945313\n",
      "\n",
      "Environment solved in 99 episodes!\tAverage Score: 32.09\n",
      "t_step: 1000 \tafter first sample, sample_time: 0.427 \tupdate_time: 0.899 \tlearn_time: 0.926 \tsum: 44622.562 \tsize: 1000000                        "
     ]
    },
    {
     "name": "stderr",
     "output_type": "stream",
     "text": [
      "training loop:  33% |###########                        | ETA:  2 days, 8:33:42\r"
     ]
    },
    {
     "name": "stdout",
     "output_type": "stream",
     "text": [
      "t_step: 1000 \tafter first sample, sample_time: 0.436 \tupdate_time: 0.848 \tlearn_time: 0.870 \tsum: 44613.195 \tsize: 1000000                        \n",
      "Episode 100\tTotal score (averaged over agents) this episode: 39.23599912300706\n",
      "t_step: 1000 \tafter first sample, sample_time: 0.348 \tupdate_time: 0.833 \tlearn_time: 0.840 \tsum: 44497.822 \tsize: 1000000                        "
     ]
    },
    {
     "name": "stderr",
     "output_type": "stream",
     "text": [
      "training loop: 100% |####################################| Time: 1 day, 5:47:59\r"
     ]
    },
    {
     "name": "stdout",
     "output_type": "stream",
     "text": [
      "t_step: 1000 \tafter first sample, sample_time: 0.393 \tupdate_time: 0.857 \tlearn_time: 0.864 \tsum: 44487.875 \tsize: 1000000                        \n",
      "Episode 101\tTotal score (averaged over agents) this episode: 39.44799911826849\n",
      "\n",
      "Environment solved in 101 episodes!\tAverage Score: 32.92\n",
      "training done\n"
     ]
    },
    {
     "name": "stderr",
     "output_type": "stream",
     "text": [
      "\n"
     ]
    }
   ],
   "source": [
    "# prioritized training\n",
    "prioritized_learn = True\n",
    "scores = Learn(env, 300, 10000, 0.0, 30.0, prioritized_learn)"
   ]
  },
  {
   "cell_type": "code",
   "execution_count": 8,
   "metadata": {},
   "outputs": [
    {
     "name": "stderr",
     "output_type": "stream",
     "text": [
      "training loop:   0% |                                          | ETA:  --:--:--\r"
     ]
    },
    {
     "name": "stdout",
     "output_type": "stream",
     "text": [
      "state size: 33 action size: 4\n"
     ]
    },
    {
     "name": "stderr",
     "output_type": "stream",
     "text": [
      "training loop:   0% |                                          | ETA:  17:07:11\r"
     ]
    },
    {
     "name": "stdout",
     "output_type": "stream",
     "text": [
      "Episode 1\tTotal score (averaged over agents) this episode: 0.5969999866560102\n",
      "\n",
      "Environment solved in 1 episodes!\tAverage Score: 0.60\n"
     ]
    },
    {
     "name": "stderr",
     "output_type": "stream",
     "text": [
      "training loop:   0% |                                          | ETA:  16:16:28\r"
     ]
    },
    {
     "name": "stdout",
     "output_type": "stream",
     "text": [
      "Episode 2\tTotal score (averaged over agents) this episode: 0.6334999858401715\n",
      "\n",
      "Environment solved in 2 episodes!\tAverage Score: 0.62\n"
     ]
    },
    {
     "name": "stderr",
     "output_type": "stream",
     "text": [
      "training loop:   1% |                                          | ETA:  16:14:53\r"
     ]
    },
    {
     "name": "stdout",
     "output_type": "stream",
     "text": [
      "Episode 3\tTotal score (averaged over agents) this episode: 1.0124999773688614\n",
      "\n",
      "Environment solved in 3 episodes!\tAverage Score: 0.75\n"
     ]
    },
    {
     "name": "stderr",
     "output_type": "stream",
     "text": [
      "training loop:   1% |                                          | ETA:  16:36:00\r"
     ]
    },
    {
     "name": "stdout",
     "output_type": "stream",
     "text": [
      "Episode 4\tTotal score (averaged over agents) this episode: 1.4824999668635428\n",
      "\n",
      "Environment solved in 4 episodes!\tAverage Score: 0.93\n"
     ]
    },
    {
     "name": "stderr",
     "output_type": "stream",
     "text": [
      "training loop:   1% |                                          | ETA:  16:31:28\r"
     ]
    },
    {
     "name": "stdout",
     "output_type": "stream",
     "text": [
      "Episode 5\tTotal score (averaged over agents) this episode: 1.765499960538\n",
      "\n",
      "Environment solved in 5 episodes!\tAverage Score: 1.10\n"
     ]
    },
    {
     "name": "stderr",
     "output_type": "stream",
     "text": [
      "training loop:   2% |                                          | ETA:  16:27:24\r"
     ]
    },
    {
     "name": "stdout",
     "output_type": "stream",
     "text": [
      "Episode 6\tTotal score (averaged over agents) this episode: 2.2264999502338467\n",
      "\n",
      "Environment solved in 6 episodes!\tAverage Score: 1.29\n"
     ]
    },
    {
     "name": "stderr",
     "output_type": "stream",
     "text": [
      "training loop:   2% |                                          | ETA:  16:34:56\r"
     ]
    },
    {
     "name": "stdout",
     "output_type": "stream",
     "text": [
      "Episode 7\tTotal score (averaged over agents) this episode: 2.4389999454841016\n",
      "\n",
      "Environment solved in 7 episodes!\tAverage Score: 1.45\n"
     ]
    },
    {
     "name": "stderr",
     "output_type": "stream",
     "text": [
      "training loop:   2% |#                                         | ETA:  16:32:21\r"
     ]
    },
    {
     "name": "stdout",
     "output_type": "stream",
     "text": [
      "Episode 8\tTotal score (averaged over agents) this episode: 3.768999915756285\n",
      "\n",
      "Environment solved in 8 episodes!\tAverage Score: 1.74\n"
     ]
    },
    {
     "name": "stderr",
     "output_type": "stream",
     "text": [
      "training loop:   3% |#                                         | ETA:  16:27:37\r"
     ]
    },
    {
     "name": "stdout",
     "output_type": "stream",
     "text": [
      "Episode 9\tTotal score (averaged over agents) this episode: 3.1969999285414814\n"
     ]
    },
    {
     "name": "stderr",
     "output_type": "stream",
     "text": [
      "training loop:   3% |#                                         | ETA:  16:17:28\r"
     ]
    },
    {
     "name": "stdout",
     "output_type": "stream",
     "text": [
      "Episode 10\tTotal score (averaged over agents) this episode: 2.5074999439530075\n"
     ]
    },
    {
     "name": "stderr",
     "output_type": "stream",
     "text": [
      "training loop:   3% |#                                         | ETA:  16:13:42\r"
     ]
    },
    {
     "name": "stdout",
     "output_type": "stream",
     "text": [
      "Episode 11\tTotal score (averaged over agents) this episode: 2.9969999330118298\n"
     ]
    },
    {
     "name": "stderr",
     "output_type": "stream",
     "text": [
      "training loop:   4% |#                                         | ETA:  16:13:50\r"
     ]
    },
    {
     "name": "stdout",
     "output_type": "stream",
     "text": [
      "Episode 12\tTotal score (averaged over agents) this episode: 3.101999930664897\n"
     ]
    },
    {
     "name": "stderr",
     "output_type": "stream",
     "text": [
      "training loop:   4% |#                                         | ETA:  16:08:24\r"
     ]
    },
    {
     "name": "stdout",
     "output_type": "stream",
     "text": [
      "Episode 13\tTotal score (averaged over agents) this episode: 3.263499927055091\n"
     ]
    },
    {
     "name": "stderr",
     "output_type": "stream",
     "text": [
      "training loop:   4% |#                                         | ETA:  16:05:23\r"
     ]
    },
    {
     "name": "stdout",
     "output_type": "stream",
     "text": [
      "Episode 14\tTotal score (averaged over agents) this episode: 3.8519999139010905\n",
      "\n",
      "Environment solved in 14 episodes!\tAverage Score: 2.35\n"
     ]
    },
    {
     "name": "stderr",
     "output_type": "stream",
     "text": [
      "training loop:   5% |##                                        | ETA:  16:10:12\r"
     ]
    },
    {
     "name": "stdout",
     "output_type": "stream",
     "text": [
      "Episode 15\tTotal score (averaged over agents) this episode: 4.766999893449247\n",
      "\n",
      "Environment solved in 15 episodes!\tAverage Score: 2.51\n"
     ]
    },
    {
     "name": "stderr",
     "output_type": "stream",
     "text": [
      "training loop:   5% |##                                        | ETA:  16:18:19\r"
     ]
    },
    {
     "name": "stdout",
     "output_type": "stream",
     "text": [
      "Episode 16\tTotal score (averaged over agents) this episode: 5.023999887704849\n",
      "\n",
      "Environment solved in 16 episodes!\tAverage Score: 2.66\n"
     ]
    },
    {
     "name": "stderr",
     "output_type": "stream",
     "text": [
      "training loop:   5% |##                                        | ETA:  16:20:09\r"
     ]
    },
    {
     "name": "stdout",
     "output_type": "stream",
     "text": [
      "Episode 17\tTotal score (averaged over agents) this episode: 5.53749987622723\n",
      "\n",
      "Environment solved in 17 episodes!\tAverage Score: 2.83\n"
     ]
    },
    {
     "name": "stderr",
     "output_type": "stream",
     "text": [
      "training loop:   6% |##                                        | ETA:  16:17:03\r"
     ]
    },
    {
     "name": "stdout",
     "output_type": "stream",
     "text": [
      "Episode 18\tTotal score (averaged over agents) this episode: 7.0034998434595765\n",
      "\n",
      "Environment solved in 18 episodes!\tAverage Score: 3.07\n"
     ]
    },
    {
     "name": "stderr",
     "output_type": "stream",
     "text": [
      "training loop:   6% |##                                        | ETA:  16:14:43\r"
     ]
    },
    {
     "name": "stdout",
     "output_type": "stream",
     "text": [
      "Episode 19\tTotal score (averaged over agents) this episode: 6.449499855842442\n"
     ]
    },
    {
     "name": "stderr",
     "output_type": "stream",
     "text": [
      "training loop:   6% |##                                        | ETA:  16:12:49\r"
     ]
    },
    {
     "name": "stdout",
     "output_type": "stream",
     "text": [
      "Episode 20\tTotal score (averaged over agents) this episode: 7.763999826461077\n",
      "\n",
      "Environment solved in 20 episodes!\tAverage Score: 3.47\n"
     ]
    },
    {
     "name": "stderr",
     "output_type": "stream",
     "text": [
      "training loop:   7% |##                                        | ETA:  16:13:50\r"
     ]
    },
    {
     "name": "stdout",
     "output_type": "stream",
     "text": [
      "Episode 21\tTotal score (averaged over agents) this episode: 7.745499826874584\n"
     ]
    },
    {
     "name": "stderr",
     "output_type": "stream",
     "text": [
      "training loop:   7% |###                                       | ETA:  16:13:27\r"
     ]
    },
    {
     "name": "stdout",
     "output_type": "stream",
     "text": [
      "Episode 22\tTotal score (averaged over agents) this episode: 7.492499832529575\n"
     ]
    },
    {
     "name": "stderr",
     "output_type": "stream",
     "text": [
      "training loop:   7% |###                                       | ETA:  16:10:13\r"
     ]
    },
    {
     "name": "stdout",
     "output_type": "stream",
     "text": [
      "Episode 23\tTotal score (averaged over agents) this episode: 6.854499846789986\n"
     ]
    },
    {
     "name": "stderr",
     "output_type": "stream",
     "text": [
      "training loop:   8% |###                                       | ETA:  16:07:35\r"
     ]
    },
    {
     "name": "stdout",
     "output_type": "stream",
     "text": [
      "Episode 24\tTotal score (averaged over agents) this episode: 7.843499824684113\n",
      "\n",
      "Environment solved in 24 episodes!\tAverage Score: 4.78\n"
     ]
    },
    {
     "name": "stderr",
     "output_type": "stream",
     "text": [
      "training loop:   8% |###                                       | ETA:  16:06:35\r"
     ]
    },
    {
     "name": "stdout",
     "output_type": "stream",
     "text": [
      "Episode 25\tTotal score (averaged over agents) this episode: 8.717999805137515\n",
      "\n",
      "Environment solved in 25 episodes!\tAverage Score: 5.13\n"
     ]
    },
    {
     "name": "stderr",
     "output_type": "stream",
     "text": [
      "training loop:   8% |###                                       | ETA:  16:11:25\r"
     ]
    },
    {
     "name": "stdout",
     "output_type": "stream",
     "text": [
      "Episode 26\tTotal score (averaged over agents) this episode: 9.204999794252217\n",
      "\n",
      "Environment solved in 26 episodes!\tAverage Score: 5.48\n"
     ]
    },
    {
     "name": "stderr",
     "output_type": "stream",
     "text": [
      "training loop:   9% |###                                       | ETA:  16:12:12\r"
     ]
    },
    {
     "name": "stdout",
     "output_type": "stream",
     "text": [
      "Episode 27\tTotal score (averaged over agents) this episode: 9.500499787647277\n",
      "\n",
      "Environment solved in 27 episodes!\tAverage Score: 5.83\n"
     ]
    },
    {
     "name": "stderr",
     "output_type": "stream",
     "text": [
      "training loop:   9% |###                                       | ETA:  16:11:04\r"
     ]
    },
    {
     "name": "stdout",
     "output_type": "stream",
     "text": [
      "Episode 28\tTotal score (averaged over agents) this episode: 9.043499797862022\n"
     ]
    },
    {
     "name": "stderr",
     "output_type": "stream",
     "text": [
      "training loop:   9% |####                                      | ETA:  16:12:41\r"
     ]
    },
    {
     "name": "stdout",
     "output_type": "stream",
     "text": [
      "Episode 29\tTotal score (averaged over agents) this episode: 8.712999805249273\n"
     ]
    },
    {
     "name": "stderr",
     "output_type": "stream",
     "text": [
      "training loop:  10% |####                                      | ETA:  16:11:24\r"
     ]
    },
    {
     "name": "stdout",
     "output_type": "stream",
     "text": [
      "Episode 30\tTotal score (averaged over agents) this episode: 8.99599979892373\n"
     ]
    },
    {
     "name": "stderr",
     "output_type": "stream",
     "text": [
      "training loop:  10% |####                                      | ETA:  16:13:51\r"
     ]
    },
    {
     "name": "stdout",
     "output_type": "stream",
     "text": [
      "Episode 31\tTotal score (averaged over agents) this episode: 9.817499780561775\n",
      "\n",
      "Environment solved in 31 episodes!\tAverage Score: 7.03\n"
     ]
    },
    {
     "name": "stderr",
     "output_type": "stream",
     "text": [
      "training loop:  10% |####                                      | ETA:  16:17:15\r"
     ]
    },
    {
     "name": "stdout",
     "output_type": "stream",
     "text": [
      "Episode 32\tTotal score (averaged over agents) this episode: 8.47149981064722\n"
     ]
    },
    {
     "name": "stderr",
     "output_type": "stream",
     "text": [
      "training loop:  11% |####                                      | ETA:  16:15:33\r"
     ]
    },
    {
     "name": "stdout",
     "output_type": "stream",
     "text": [
      "Episode 33\tTotal score (averaged over agents) this episode: 10.238499771151691\n",
      "\n",
      "Environment solved in 33 episodes!\tAverage Score: 7.65\n"
     ]
    },
    {
     "name": "stderr",
     "output_type": "stream",
     "text": [
      "training loop:  11% |####                                      | ETA:  16:14:17\r"
     ]
    },
    {
     "name": "stdout",
     "output_type": "stream",
     "text": [
      "Episode 34\tTotal score (averaged over agents) this episode: 11.491999743133784\n",
      "\n",
      "Environment solved in 34 episodes!\tAverage Score: 8.03\n"
     ]
    },
    {
     "name": "stderr",
     "output_type": "stream",
     "text": [
      "training loop:  11% |####                                      | ETA:  16:12:14\r"
     ]
    },
    {
     "name": "stdout",
     "output_type": "stream",
     "text": [
      "Episode 35\tTotal score (averaged over agents) this episode: 11.25549974841997\n"
     ]
    },
    {
     "name": "stderr",
     "output_type": "stream",
     "text": [
      "training loop:  12% |#####                                     | ETA:  16:13:56\r"
     ]
    },
    {
     "name": "stdout",
     "output_type": "stream",
     "text": [
      "Episode 36\tTotal score (averaged over agents) this episode: 10.93449975559488\n"
     ]
    },
    {
     "name": "stderr",
     "output_type": "stream",
     "text": [
      "training loop:  12% |#####                                     | ETA:  16:16:05\r"
     ]
    },
    {
     "name": "stdout",
     "output_type": "stream",
     "text": [
      "Episode 37\tTotal score (averaged over agents) this episode: 13.38549970081076\n",
      "\n",
      "Environment solved in 37 episodes!\tAverage Score: 9.05\n"
     ]
    },
    {
     "name": "stderr",
     "output_type": "stream",
     "text": [
      "training loop:  12% |#####                                     | ETA:  16:14:25\r"
     ]
    },
    {
     "name": "stdout",
     "output_type": "stream",
     "text": [
      "Episode 38\tTotal score (averaged over agents) this episode: 12.335999724268913\n"
     ]
    },
    {
     "name": "stderr",
     "output_type": "stream",
     "text": [
      "training loop:  13% |#####                                     | ETA:  16:12:43\r"
     ]
    },
    {
     "name": "stdout",
     "output_type": "stream",
     "text": [
      "Episode 39\tTotal score (averaged over agents) this episode: 12.091999729722739\n"
     ]
    },
    {
     "name": "stderr",
     "output_type": "stream",
     "text": [
      "training loop:  13% |#####                                     | ETA:  16:13:00\r"
     ]
    },
    {
     "name": "stdout",
     "output_type": "stream",
     "text": [
      "Episode 40\tTotal score (averaged over agents) this episode: 12.813999713584781\n"
     ]
    },
    {
     "name": "stderr",
     "output_type": "stream",
     "text": [
      "training loop:  13% |#####                                     | ETA:  16:13:36\r"
     ]
    },
    {
     "name": "stdout",
     "output_type": "stream",
     "text": [
      "Episode 41\tTotal score (averaged over agents) this episode: 12.144499728549272\n"
     ]
    },
    {
     "name": "stderr",
     "output_type": "stream",
     "text": [
      "training loop:  14% |#####                                     | ETA:  16:18:15\r"
     ]
    },
    {
     "name": "stdout",
     "output_type": "stream",
     "text": [
      "Episode 42\tTotal score (averaged over agents) this episode: 12.192499727476388\n"
     ]
    },
    {
     "name": "stderr",
     "output_type": "stream",
     "text": [
      "training loop:  14% |######                                    | ETA:  16:18:18\r"
     ]
    },
    {
     "name": "stdout",
     "output_type": "stream",
     "text": [
      "Episode 43\tTotal score (averaged over agents) this episode: 12.321499724593014\n"
     ]
    },
    {
     "name": "stderr",
     "output_type": "stream",
     "text": [
      "training loop:  14% |######                                    | ETA:  16:18:48\r"
     ]
    },
    {
     "name": "stdout",
     "output_type": "stream",
     "text": [
      "Episode 44\tTotal score (averaged over agents) this episode: 12.665999716892838\n"
     ]
    },
    {
     "name": "stderr",
     "output_type": "stream",
     "text": [
      "training loop:  15% |######                                    | ETA:  16:19:46\r"
     ]
    },
    {
     "name": "stdout",
     "output_type": "stream",
     "text": [
      "Episode 45\tTotal score (averaged over agents) this episode: 13.589499696251005\n",
      "\n",
      "Environment solved in 45 episodes!\tAverage Score: 11.06\n"
     ]
    },
    {
     "name": "stderr",
     "output_type": "stream",
     "text": [
      "training loop:  15% |######                                    | ETA:  16:19:04\r"
     ]
    },
    {
     "name": "stdout",
     "output_type": "stream",
     "text": [
      "Episode 46\tTotal score (averaged over agents) this episode: 13.329499702062458\n"
     ]
    },
    {
     "name": "stderr",
     "output_type": "stream",
     "text": [
      "training loop:  15% |######                                    | ETA:  16:22:06\r"
     ]
    },
    {
     "name": "stdout",
     "output_type": "stream",
     "text": [
      "Episode 47\tTotal score (averaged over agents) this episode: 14.674499671999365\n",
      "\n",
      "Environment solved in 47 episodes!\tAverage Score: 11.53\n"
     ]
    },
    {
     "name": "stderr",
     "output_type": "stream",
     "text": [
      "training loop:  16% |######                                    | ETA:  16:23:11\r"
     ]
    },
    {
     "name": "stdout",
     "output_type": "stream",
     "text": [
      "Episode 48\tTotal score (averaged over agents) this episode: 14.634999672882259\n"
     ]
    },
    {
     "name": "stderr",
     "output_type": "stream",
     "text": [
      "training loop:  16% |######                                    | ETA:  16:21:21\r"
     ]
    },
    {
     "name": "stdout",
     "output_type": "stream",
     "text": [
      "Episode 49\tTotal score (averaged over agents) this episode: 14.210999682359397\n"
     ]
    },
    {
     "name": "stderr",
     "output_type": "stream",
     "text": [
      "training loop:  16% |#######                                   | ETA:  16:22:18\r"
     ]
    },
    {
     "name": "stdout",
     "output_type": "stream",
     "text": [
      "Episode 50\tTotal score (averaged over agents) this episode: 15.300999657995998\n",
      "\n",
      "Environment solved in 50 episodes!\tAverage Score: 12.40\n"
     ]
    },
    {
     "name": "stderr",
     "output_type": "stream",
     "text": [
      "training loop:  17% |#######                                   | ETA:  16:22:29\r"
     ]
    },
    {
     "name": "stdout",
     "output_type": "stream",
     "text": [
      "Episode 51\tTotal score (averaged over agents) this episode: 12.985499709751457\n"
     ]
    },
    {
     "name": "stderr",
     "output_type": "stream",
     "text": [
      "training loop:  17% |#######                                   | ETA:  16:23:49\r"
     ]
    },
    {
     "name": "stdout",
     "output_type": "stream",
     "text": [
      "Episode 52\tTotal score (averaged over agents) this episode: 15.603499651234596\n",
      "\n",
      "Environment solved in 52 episodes!\tAverage Score: 12.91\n"
     ]
    },
    {
     "name": "stderr",
     "output_type": "stream",
     "text": [
      "training loop:  17% |#######                                   | ETA:  16:23:11\r"
     ]
    },
    {
     "name": "stdout",
     "output_type": "stream",
     "text": [
      "Episode 53\tTotal score (averaged over agents) this episode: 15.886499644909055\n",
      "\n",
      "Environment solved in 53 episodes!\tAverage Score: 13.19\n"
     ]
    },
    {
     "name": "stderr",
     "output_type": "stream",
     "text": [
      "training loop:  18% |#######                                   | ETA:  16:23:53\r"
     ]
    },
    {
     "name": "stdout",
     "output_type": "stream",
     "text": [
      "Episode 54\tTotal score (averaged over agents) this episode: 15.849999645724893\n"
     ]
    },
    {
     "name": "stderr",
     "output_type": "stream",
     "text": [
      "training loop:  18% |#######                                   | ETA:  16:23:04\r"
     ]
    },
    {
     "name": "stdout",
     "output_type": "stream",
     "text": [
      "Episode 55\tTotal score (averaged over agents) this episode: 16.40649963328615\n",
      "\n",
      "Environment solved in 55 episodes!\tAverage Score: 13.67\n"
     ]
    },
    {
     "name": "stderr",
     "output_type": "stream",
     "text": [
      "training loop:  18% |#######                                   | ETA:  16:24:42\r"
     ]
    },
    {
     "name": "stdout",
     "output_type": "stream",
     "text": [
      "Episode 56\tTotal score (averaged over agents) this episode: 17.31849961290136\n",
      "\n",
      "Environment solved in 56 episodes!\tAverage Score: 13.99\n"
     ]
    },
    {
     "name": "stderr",
     "output_type": "stream",
     "text": [
      "training loop:  19% |#######                                   | ETA:  16:22:33\r"
     ]
    },
    {
     "name": "stdout",
     "output_type": "stream",
     "text": [
      "Episode 57\tTotal score (averaged over agents) this episode: 17.275999613851308\n"
     ]
    },
    {
     "name": "stderr",
     "output_type": "stream",
     "text": [
      "training loop:  19% |########                                  | ETA:  16:19:32\r"
     ]
    },
    {
     "name": "stdout",
     "output_type": "stream",
     "text": [
      "Episode 58\tTotal score (averaged over agents) this episode: 17.622999606095256\n",
      "\n",
      "Environment solved in 58 episodes!\tAverage Score: 14.45\n"
     ]
    },
    {
     "name": "stderr",
     "output_type": "stream",
     "text": [
      "training loop:  19% |########                                  | ETA:  16:19:46\r"
     ]
    },
    {
     "name": "stdout",
     "output_type": "stream",
     "text": [
      "Episode 59\tTotal score (averaged over agents) this episode: 16.59449962908402\n"
     ]
    },
    {
     "name": "stderr",
     "output_type": "stream",
     "text": [
      "training loop:  20% |########                                  | ETA:  16:19:13\r"
     ]
    },
    {
     "name": "stdout",
     "output_type": "stream",
     "text": [
      "Episode 60\tTotal score (averaged over agents) this episode: 14.647499672602862\n"
     ]
    },
    {
     "name": "stderr",
     "output_type": "stream",
     "text": [
      "training loop:  20% |########                                  | ETA:  16:19:31\r"
     ]
    },
    {
     "name": "stdout",
     "output_type": "stream",
     "text": [
      "Episode 61\tTotal score (averaged over agents) this episode: 15.583999651670457\n"
     ]
    },
    {
     "name": "stderr",
     "output_type": "stream",
     "text": [
      "training loop:  20% |########                                  | ETA:  16:16:50\r"
     ]
    },
    {
     "name": "stdout",
     "output_type": "stream",
     "text": [
      "Episode 62\tTotal score (averaged over agents) this episode: 14.270499681029468\n"
     ]
    },
    {
     "name": "stderr",
     "output_type": "stream",
     "text": [
      "training loop:  21% |########                                  | ETA:  16:14:30\r"
     ]
    },
    {
     "name": "stdout",
     "output_type": "stream",
     "text": [
      "Episode 63\tTotal score (averaged over agents) this episode: 16.675999627262353\n"
     ]
    },
    {
     "name": "stderr",
     "output_type": "stream",
     "text": [
      "training loop:  21% |########                                  | ETA:  16:11:46\r"
     ]
    },
    {
     "name": "stdout",
     "output_type": "stream",
     "text": [
      "Episode 64\tTotal score (averaged over agents) this episode: 18.15899959411472\n",
      "\n",
      "Environment solved in 64 episodes!\tAverage Score: 15.53\n"
     ]
    },
    {
     "name": "stderr",
     "output_type": "stream",
     "text": [
      "training loop:  21% |#########                                 | ETA:  16:09:37\r"
     ]
    },
    {
     "name": "stdout",
     "output_type": "stream",
     "text": [
      "Episode 65\tTotal score (averaged over agents) this episode: 19.722499559167773\n",
      "\n",
      "Environment solved in 65 episodes!\tAverage Score: 15.84\n"
     ]
    },
    {
     "name": "stderr",
     "output_type": "stream",
     "text": [
      "training loop:  22% |#########                                 | ETA:  16:05:47\r"
     ]
    },
    {
     "name": "stdout",
     "output_type": "stream",
     "text": [
      "Episode 66\tTotal score (averaged over agents) this episode: 18.629499583598225\n"
     ]
    },
    {
     "name": "stderr",
     "output_type": "stream",
     "text": [
      "training loop:  22% |#########                                 | ETA:  16:01:55\r"
     ]
    },
    {
     "name": "stdout",
     "output_type": "stream",
     "text": [
      "Episode 67\tTotal score (averaged over agents) this episode: 20.863499533664434\n",
      "\n",
      "Environment solved in 67 episodes!\tAverage Score: 16.41\n"
     ]
    },
    {
     "name": "stderr",
     "output_type": "stream",
     "text": [
      "training loop:  22% |#########                                 | ETA:  16:00:22\r"
     ]
    },
    {
     "name": "stdout",
     "output_type": "stream",
     "text": [
      "Episode 68\tTotal score (averaged over agents) this episode: 20.992999530769886\n",
      "\n",
      "Environment solved in 68 episodes!\tAverage Score: 16.73\n"
     ]
    },
    {
     "name": "stderr",
     "output_type": "stream",
     "text": [
      "training loop:  23% |#########                                 | ETA:  15:56:56\r"
     ]
    },
    {
     "name": "stdout",
     "output_type": "stream",
     "text": [
      "Episode 69\tTotal score (averaged over agents) this episode: 22.997499485965818\n",
      "\n",
      "Environment solved in 69 episodes!\tAverage Score: 17.17\n"
     ]
    },
    {
     "name": "stderr",
     "output_type": "stream",
     "text": [
      "training loop:  23% |#########                                 | ETA:  15:53:46\r"
     ]
    },
    {
     "name": "stdout",
     "output_type": "stream",
     "text": [
      "Episode 70\tTotal score (averaged over agents) this episode: 24.406499454472215\n",
      "\n",
      "Environment solved in 70 episodes!\tAverage Score: 17.62\n"
     ]
    },
    {
     "name": "stderr",
     "output_type": "stream",
     "text": [
      "training loop:  23% |#########                                 | ETA:  15:49:51\r"
     ]
    },
    {
     "name": "stdout",
     "output_type": "stream",
     "text": [
      "Episode 71\tTotal score (averaged over agents) this episode: 23.108499483484774\n"
     ]
    },
    {
     "name": "stderr",
     "output_type": "stream",
     "text": [
      "training loop:  24% |##########                                | ETA:  15:46:13\r"
     ]
    },
    {
     "name": "stdout",
     "output_type": "stream",
     "text": [
      "Episode 72\tTotal score (averaged over agents) this episode: 23.248999480344356\n"
     ]
    },
    {
     "name": "stderr",
     "output_type": "stream",
     "text": [
      "training loop:  24% |##########                                | ETA:  15:43:26\r"
     ]
    },
    {
     "name": "stdout",
     "output_type": "stream",
     "text": [
      "Episode 73\tTotal score (averaged over agents) this episode: 23.187499481718987\n"
     ]
    },
    {
     "name": "stderr",
     "output_type": "stream",
     "text": [
      "training loop:  24% |##########                                | ETA:  15:39:25\r"
     ]
    },
    {
     "name": "stdout",
     "output_type": "stream",
     "text": [
      "Episode 74\tTotal score (averaged over agents) this episode: 24.137999460473658\n"
     ]
    },
    {
     "name": "stderr",
     "output_type": "stream",
     "text": [
      "training loop:  25% |##########                                | ETA:  15:35:18\r"
     ]
    },
    {
     "name": "stdout",
     "output_type": "stream",
     "text": [
      "Episode 75\tTotal score (averaged over agents) this episode: 25.104999438859522\n",
      "\n",
      "Environment solved in 75 episodes!\tAverage Score: 19.73\n"
     ]
    },
    {
     "name": "stderr",
     "output_type": "stream",
     "text": [
      "training loop:  25% |##########                                | ETA:  15:31:03\r"
     ]
    },
    {
     "name": "stdout",
     "output_type": "stream",
     "text": [
      "Episode 76\tTotal score (averaged over agents) this episode: 27.55049938419834\n",
      "\n",
      "Environment solved in 76 episodes!\tAverage Score: 20.24\n"
     ]
    },
    {
     "name": "stderr",
     "output_type": "stream",
     "text": [
      "training loop:  25% |##########                                | ETA:  15:27:01\r"
     ]
    },
    {
     "name": "stdout",
     "output_type": "stream",
     "text": [
      "Episode 77\tTotal score (averaged over agents) this episode: 29.332499344367534\n",
      "\n",
      "Environment solved in 77 episodes!\tAverage Score: 20.84\n"
     ]
    },
    {
     "name": "stderr",
     "output_type": "stream",
     "text": [
      "training loop:  26% |##########                                | ETA:  15:23:04\r"
     ]
    },
    {
     "name": "stdout",
     "output_type": "stream",
     "text": [
      "Episode 78\tTotal score (averaged over agents) this episode: 31.74199929051101\n",
      "\n",
      "Environment solved in 78 episodes!\tAverage Score: 21.55\n"
     ]
    },
    {
     "name": "stderr",
     "output_type": "stream",
     "text": [
      "training loop:  26% |###########                               | ETA:  15:19:01\r"
     ]
    },
    {
     "name": "stdout",
     "output_type": "stream",
     "text": [
      "Episode 79\tTotal score (averaged over agents) this episode: 32.509999273344874\n",
      "\n",
      "Environment solved in 79 episodes!\tAverage Score: 22.34\n"
     ]
    },
    {
     "name": "stderr",
     "output_type": "stream",
     "text": [
      "training loop:  26% |###########                               | ETA:  15:14:53\r"
     ]
    },
    {
     "name": "stdout",
     "output_type": "stream",
     "text": [
      "Episode 80\tTotal score (averaged over agents) this episode: 31.997499284800142\n"
     ]
    },
    {
     "name": "stderr",
     "output_type": "stream",
     "text": [
      "training loop:  27% |###########                               | ETA:  15:10:44\r"
     ]
    },
    {
     "name": "stdout",
     "output_type": "stream",
     "text": [
      "Episode 81\tTotal score (averaged over agents) this episode: 31.128499304223805\n"
     ]
    },
    {
     "name": "stderr",
     "output_type": "stream",
     "text": [
      "training loop:  27% |###########                               | ETA:  15:06:23\r"
     ]
    },
    {
     "name": "stdout",
     "output_type": "stream",
     "text": [
      "Episode 82\tTotal score (averaged over agents) this episode: 30.159499325882642\n"
     ]
    },
    {
     "name": "stderr",
     "output_type": "stream",
     "text": [
      "training loop:  27% |###########                               | ETA:  15:02:13\r"
     ]
    },
    {
     "name": "stdout",
     "output_type": "stream",
     "text": [
      "Episode 83\tTotal score (averaged over agents) this episode: 31.877999287471177\n"
     ]
    },
    {
     "name": "stderr",
     "output_type": "stream",
     "text": [
      "training loop:  28% |###########                               | ETA:  14:58:13\r"
     ]
    },
    {
     "name": "stdout",
     "output_type": "stream",
     "text": [
      "Episode 84\tTotal score (averaged over agents) this episode: 33.78249924490228\n",
      "\n",
      "Environment solved in 84 episodes!\tAverage Score: 26.32\n"
     ]
    },
    {
     "name": "stderr",
     "output_type": "stream",
     "text": [
      "training loop:  28% |###########                               | ETA:  14:54:11\r"
     ]
    },
    {
     "name": "stdout",
     "output_type": "stream",
     "text": [
      "Episode 85\tTotal score (averaged over agents) this episode: 38.14149914747104\n",
      "\n",
      "Environment solved in 85 episodes!\tAverage Score: 27.25\n"
     ]
    },
    {
     "name": "stderr",
     "output_type": "stream",
     "text": [
      "training loop:  28% |############                              | ETA:  14:49:53\r"
     ]
    },
    {
     "name": "stdout",
     "output_type": "stream",
     "text": [
      "Episode 86\tTotal score (averaged over agents) this episode: 37.09899917077273\n"
     ]
    },
    {
     "name": "stderr",
     "output_type": "stream",
     "text": [
      "training loop:  29% |############                              | ETA:  14:45:48\r"
     ]
    },
    {
     "name": "stdout",
     "output_type": "stream",
     "text": [
      "Episode 87\tTotal score (averaged over agents) this episode: 37.968499151337895\n"
     ]
    },
    {
     "name": "stderr",
     "output_type": "stream",
     "text": [
      "training loop:  29% |############                              | ETA:  14:41:30\r"
     ]
    },
    {
     "name": "stdout",
     "output_type": "stream",
     "text": [
      "Episode 88\tTotal score (averaged over agents) this episode: 39.139499125164\n",
      "\n",
      "Environment solved in 88 episodes!\tAverage Score: 29.93\n"
     ]
    },
    {
     "name": "stderr",
     "output_type": "stream",
     "text": [
      "training loop:  29% |############                              | ETA:  14:37:16\r"
     ]
    },
    {
     "name": "stdout",
     "output_type": "stream",
     "text": [
      "Episode 89\tTotal score (averaged over agents) this episode: 38.44449914069846\n"
     ]
    },
    {
     "name": "stderr",
     "output_type": "stream",
     "text": [
      "training loop:  30% |############                              | ETA:  14:33:07\r"
     ]
    },
    {
     "name": "stdout",
     "output_type": "stream",
     "text": [
      "Episode 90\tTotal score (averaged over agents) this episode: 37.57949916003272\n"
     ]
    },
    {
     "name": "stderr",
     "output_type": "stream",
     "text": [
      "training loop:  30% |############                              | ETA:  14:29:09\r"
     ]
    },
    {
     "name": "stdout",
     "output_type": "stream",
     "text": [
      "Episode 91\tTotal score (averaged over agents) this episode: 38.48849913971499\n"
     ]
    },
    {
     "name": "stderr",
     "output_type": "stream",
     "text": [
      "training loop:  30% |############                              | ETA:  14:25:03\r"
     ]
    },
    {
     "name": "stdout",
     "output_type": "stream",
     "text": [
      "Episode 92\tTotal score (averaged over agents) this episode: 38.78049913318828\n"
     ]
    },
    {
     "name": "stderr",
     "output_type": "stream",
     "text": [
      "training loop:  31% |#############                             | ETA:  14:21:01\r"
     ]
    },
    {
     "name": "stdout",
     "output_type": "stream",
     "text": [
      "Episode 93\tTotal score (averaged over agents) this episode: 37.67249915795401\n"
     ]
    },
    {
     "name": "stderr",
     "output_type": "stream",
     "text": [
      "training loop:  31% |#############                             | ETA:  14:17:01\r"
     ]
    },
    {
     "name": "stdout",
     "output_type": "stream",
     "text": [
      "Episode 94\tTotal score (averaged over agents) this episode: 37.230999167822304\n"
     ]
    },
    {
     "name": "stderr",
     "output_type": "stream",
     "text": [
      "training loop:  31% |#############                             | ETA:  14:12:54\r"
     ]
    },
    {
     "name": "stdout",
     "output_type": "stream",
     "text": [
      "Episode 95\tTotal score (averaged over agents) this episode: 37.305999166145924\n"
     ]
    },
    {
     "name": "stderr",
     "output_type": "stream",
     "text": [
      "training loop:  32% |#############                             | ETA:  14:09:11\r"
     ]
    },
    {
     "name": "stdout",
     "output_type": "stream",
     "text": [
      "Episode 96\tTotal score (averaged over agents) this episode: 37.370499164704235\n"
     ]
    },
    {
     "name": "stderr",
     "output_type": "stream",
     "text": [
      "training loop:  32% |#############                             | ETA:  14:05:10\r"
     ]
    },
    {
     "name": "stdout",
     "output_type": "stream",
     "text": [
      "Episode 97\tTotal score (averaged over agents) this episode: 37.372999164648355\n"
     ]
    },
    {
     "name": "stderr",
     "output_type": "stream",
     "text": [
      "training loop:  32% |#############                             | ETA:  14:01:18\r"
     ]
    },
    {
     "name": "stdout",
     "output_type": "stream",
     "text": [
      "Episode 98\tTotal score (averaged over agents) this episode: 38.32449914338067\n"
     ]
    },
    {
     "name": "stderr",
     "output_type": "stream",
     "text": [
      "training loop:  33% |#############                             | ETA:  13:57:40\r"
     ]
    },
    {
     "name": "stdout",
     "output_type": "stream",
     "text": [
      "Episode 99\tTotal score (averaged over agents) this episode: 38.09999914839864\n"
     ]
    },
    {
     "name": "stderr",
     "output_type": "stream",
     "text": [
      "training loop:  33% |##############                            | ETA:  13:53:41\r"
     ]
    },
    {
     "name": "stdout",
     "output_type": "stream",
     "text": [
      "Episode 100\tTotal score (averaged over agents) this episode: 37.88249915326014\n"
     ]
    },
    {
     "name": "stderr",
     "output_type": "stream",
     "text": [
      "training loop: 100% |###########################################| Time: 7:01:03\r"
     ]
    },
    {
     "name": "stdout",
     "output_type": "stream",
     "text": [
      "Episode 101\tTotal score (averaged over agents) this episode: 38.50299913939089\n",
      "training done\n"
     ]
    },
    {
     "name": "stderr",
     "output_type": "stream",
     "text": [
      "\n"
     ]
    }
   ],
   "source": [
    "# training\n",
    "prioritized_learn = False\n",
    "scores = Learn(env, 300, 10000, 0.0, 30.0, prioritized_learn)"
   ]
  }
 ],
 "metadata": {
  "kernelspec": {
   "display_name": "drlnd",
   "language": "python",
   "name": "drlnd"
  },
  "language_info": {
   "codemirror_mode": {
    "name": "ipython",
    "version": 3
   },
   "file_extension": ".py",
   "mimetype": "text/x-python",
   "name": "python",
   "nbconvert_exporter": "python",
   "pygments_lexer": "ipython3",
   "version": "3.6.13"
  },
  "vscode": {
   "interpreter": {
    "hash": "2a2a5acb46a67fdc4db5f9e567de32cf722fea3c072c2c9c5a0219048153f98c"
   }
  }
 },
 "nbformat": 4,
 "nbformat_minor": 2
}
