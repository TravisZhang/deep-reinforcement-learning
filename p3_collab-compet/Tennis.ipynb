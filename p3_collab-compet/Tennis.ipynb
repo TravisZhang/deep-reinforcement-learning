{
 "cells": [
  {
   "attachments": {},
   "cell_type": "markdown",
   "metadata": {},
   "source": [
    "# Collaboration and Competition\n",
    "\n",
    "---\n",
    "\n",
    "In this notebook, you will learn how to use the Unity ML-Agents environment for the third project of the [Deep Reinforcement Learning Nanodegree](https://www.udacity.com/course/deep-reinforcement-learning-nanodegree--nd893) program.\n",
    "\n",
    "### 1. Start the Environment\n",
    "\n",
    "We begin by importing the necessary packages.  If the code cell below returns an error, please revisit the project instructions to double-check that you have installed [Unity ML-Agents](https://github.com/Unity-Technologies/ml-agents/blob/master/docs/Installation.md) and [NumPy](http://www.numpy.org/)."
   ]
  },
  {
   "cell_type": "code",
   "execution_count": 1,
   "metadata": {},
   "outputs": [],
   "source": [
    "from unityagents import UnityEnvironment\n",
    "import numpy as np"
   ]
  },
  {
   "attachments": {},
   "cell_type": "markdown",
   "metadata": {},
   "source": [
    "Next, we will start the environment!  **_Before running the code cell below_**, change the `file_name` parameter to match the location of the Unity environment that you downloaded.\n",
    "\n",
    "- **Mac**: `\"path/to/Tennis.app\"`\n",
    "- **Windows** (x86): `\"path/to/Tennis_Windows_x86/Tennis.exe\"`\n",
    "- **Windows** (x86_64): `\"path/to/Tennis_Windows_x86_64/Tennis.exe\"`\n",
    "- **Linux** (x86): `\"path/to/Tennis_Linux/Tennis.x86\"`\n",
    "- **Linux** (x86_64): `\"path/to/Tennis_Linux/Tennis.x86_64\"`\n",
    "- **Linux** (x86, headless): `\"path/to/Tennis_Linux_NoVis/Tennis.x86\"`\n",
    "- **Linux** (x86_64, headless): `\"path/to/Tennis_Linux_NoVis/Tennis.x86_64\"`\n",
    "\n",
    "For instance, if you are using a Mac, then you downloaded `Tennis.app`.  If this file is in the same folder as the notebook, then the line below should appear as follows:\n",
    "```\n",
    "env = UnityEnvironment(file_name=\"Tennis.app\")\n",
    "```"
   ]
  },
  {
   "cell_type": "code",
   "execution_count": 2,
   "metadata": {},
   "outputs": [
    {
     "name": "stderr",
     "output_type": "stream",
     "text": [
      "INFO:unityagents:\n",
      "'Academy' started successfully!\n",
      "Unity Academy name: Academy\n",
      "        Number of Brains: 1\n",
      "        Number of External Brains : 1\n",
      "        Lesson number : 0\n",
      "        Reset Parameters :\n",
      "\t\t\n",
      "Unity brain name: TennisBrain\n",
      "        Number of Visual Observations (per agent): 0\n",
      "        Vector Observation space type: continuous\n",
      "        Vector Observation space size (per agent): 8\n",
      "        Number of stacked Vector Observation: 3\n",
      "        Vector Action space type: continuous\n",
      "        Vector Action space size (per agent): 2\n",
      "        Vector Action descriptions: , \n"
     ]
    }
   ],
   "source": [
    "enable_visualization = False\n",
    "if enable_visualization:\n",
    "    env = UnityEnvironment(file_name='Tennis_Linux/Tennis.x86_64')\n",
    "else:\n",
    "    env = UnityEnvironment(file_name='Tennis_Linux_NoVis/Tennis.x86_64')"
   ]
  },
  {
   "attachments": {},
   "cell_type": "markdown",
   "metadata": {},
   "source": [
    "Environments contain **_brains_** which are responsible for deciding the actions of their associated agents. Here we check for the first brain available, and set it as the default brain we will be controlling from Python."
   ]
  },
  {
   "cell_type": "code",
   "execution_count": 3,
   "metadata": {},
   "outputs": [],
   "source": [
    "# get the default brain\n",
    "brain_name = env.brain_names[0]\n",
    "brain = env.brains[brain_name]"
   ]
  },
  {
   "attachments": {},
   "cell_type": "markdown",
   "metadata": {},
   "source": [
    "### 2. Examine the State and Action Spaces\n",
    "\n",
    "In this environment, two agents control rackets to bounce a ball over a net. If an agent hits the ball over the net, it receives a reward of +0.1.  If an agent lets a ball hit the ground or hits the ball out of bounds, it receives a reward of -0.01.  Thus, the goal of each agent is to keep the ball in play.\n",
    "\n",
    "The observation space consists of 8 variables corresponding to the position and velocity of the ball and racket. Two continuous actions are available, corresponding to movement toward (or away from) the net, and jumping. \n",
    "\n",
    "Run the code cell below to print some information about the environment."
   ]
  },
  {
   "cell_type": "code",
   "execution_count": 4,
   "metadata": {},
   "outputs": [
    {
     "name": "stdout",
     "output_type": "stream",
     "text": [
      "Number of agents: 2\n",
      "Size of each action: 2\n",
      "There are 2 agents. Each observes a state with length: 24\n",
      "The state for the first agent looks like: [ 0.          0.          0.          0.          0.          0.\n",
      "  0.          0.          0.          0.          0.          0.\n",
      "  0.          0.          0.          0.         -6.65278625 -1.5\n",
      " -0.          0.          6.83172083  6.         -0.          0.        ]\n"
     ]
    }
   ],
   "source": [
    "# reset the environment\n",
    "env_info = env.reset(train_mode=True)[brain_name]\n",
    "\n",
    "# number of agents \n",
    "num_agents = len(env_info.agents)\n",
    "print('Number of agents:', num_agents)\n",
    "\n",
    "# size of each action\n",
    "action_size = brain.vector_action_space_size\n",
    "print('Size of each action:', action_size)\n",
    "\n",
    "# examine the state space \n",
    "states = env_info.vector_observations\n",
    "state_size = states.shape[1]\n",
    "print('There are {} agents. Each observes a state with length: {}'.format(states.shape[0], state_size))\n",
    "print('The state for the first agent looks like:', states[0])"
   ]
  },
  {
   "attachments": {},
   "cell_type": "markdown",
   "metadata": {},
   "source": [
    "### 3. Take Random Actions in the Environment\n",
    "\n",
    "In the next code cell, you will learn how to use the Python API to control the agents and receive feedback from the environment.\n",
    "\n",
    "Once this cell is executed, you will watch the agents' performance, if they select actions at random with each time step.  A window should pop up that allows you to observe the agents.\n",
    "\n",
    "Of course, as part of the project, you'll have to change the code so that the agents are able to use their experiences to gradually choose better actions when interacting with the environment!"
   ]
  },
  {
   "cell_type": "code",
   "execution_count": 5,
   "metadata": {},
   "outputs": [
    {
     "name": "stdout",
     "output_type": "stream",
     "text": [
      "game done in  15  iters\n",
      "Score (max over agents) from episode 1: 0.0\n",
      "game done in  15  iters\n",
      "Score (max over agents) from episode 2: 0.0\n",
      "game done in  14  iters\n",
      "Score (max over agents) from episode 3: 0.0\n",
      "game done in  15  iters\n",
      "Score (max over agents) from episode 4: 0.0\n",
      "game done in  14  iters\n",
      "Score (max over agents) from episode 5: 0.0\n"
     ]
    }
   ],
   "source": [
    "for i in range(1, 6):                                      # play game for 5 episodes\n",
    "    env_info = env.reset(train_mode=False)[brain_name]     # reset the environment    \n",
    "    states = env_info.vector_observations                  # get the current state (for each agent)\n",
    "    scores = np.zeros(num_agents)                          # initialize the score (for each agent)\n",
    "    num_iter_for_one_game = 0\n",
    "    while True:\n",
    "        num_iter_for_one_game += 1\n",
    "        actions = np.random.randn(num_agents, action_size) # select an action (for each agent)\n",
    "        actions = np.clip(actions, -1, 1)                  # all actions between -1 and 1\n",
    "        env_info = env.step(actions)[brain_name]           # send all actions to tne environment\n",
    "        next_states = env_info.vector_observations         # get next state (for each agent)\n",
    "        rewards = env_info.rewards                         # get reward (for each agent)\n",
    "        dones = env_info.local_done                        # see if episode finished\n",
    "        scores += env_info.rewards                         # update the score (for each agent)\n",
    "        states = next_states                               # roll over states to next time step\n",
    "        if np.any(dones):                                  # exit loop if episode finished\n",
    "            print('game done in ',num_iter_for_one_game,' iters')\n",
    "            break\n",
    "    print('Score (max over agents) from episode {}: {}'.format(i, np.max(scores)))"
   ]
  },
  {
   "attachments": {},
   "cell_type": "markdown",
   "metadata": {},
   "source": [
    "When finished, you can close the environment."
   ]
  },
  {
   "cell_type": "code",
   "execution_count": 6,
   "metadata": {},
   "outputs": [],
   "source": [
    "# env.close()"
   ]
  },
  {
   "attachments": {},
   "cell_type": "markdown",
   "metadata": {},
   "source": [
    "### 4. It's Your Turn!\n",
    "\n",
    "Now it's your turn to train your own agent to solve the environment!  When training the environment, set `train_mode=True`, so that the line for resetting the environment looks like the following:\n",
    "```python\n",
    "env_info = env.reset(train_mode=True)[brain_name]\n",
    "```"
   ]
  },
  {
   "cell_type": "code",
   "execution_count": 7,
   "metadata": {},
   "outputs": [],
   "source": [
    "from collections import deque\n",
    "from ddpg_agent import Agent\n",
    "from matplotlib import pyplot as plt\n",
    "import os\n",
    "import datetime\n",
    "import torch\n",
    "\n",
    "# widget bar to display progress\n",
    "# !pip install progressbar\n",
    "import progressbar as pb\n",
    "\n",
    "\n",
    "def GetFolderPath(name='result'):\n",
    "    cur_folder = os.getcwd()\n",
    "    str_time = datetime.datetime.strftime(datetime.datetime.now(),\n",
    "                                          '%Y_%m_%d_%H_%M_%S')\n",
    "    folder_name = '/' + name + '_' + str_time + '/'\n",
    "    save_path = cur_folder + folder_name\n",
    "    if not os.path.exists(save_path):\n",
    "        os.makedirs(save_path)\n",
    "\n",
    "    return save_path\n",
    "\n",
    "\n",
    "def plot_result(scores, scores_avg, actual_target_score, save_path):\n",
    "    target_score_curve = np.ones(len(scores)) * actual_target_score\n",
    "    fig = plt.figure(figsize=[15,10])\n",
    "    ax = fig.add_axes([0.1, 0.1, 0.8, 0.8])\n",
    "    plt.xlabel(\"episode\"), plt.ylabel(\"score\")\n",
    "    ax.plot(scores)\n",
    "    ax.plot(scores_avg)\n",
    "    ax.plot(target_score_curve)\n",
    "    ax.legend(['score','avg_score', 'target_score'])\n",
    "    plt.savefig(save_path)\n",
    "    plt.close(fig)\n",
    "\n",
    "# Try 1\n",
    "# Original settings(ddpg_result_2023_05_21_18_19_39): scores not increasing\n",
    "# Try 2\n",
    "# Change BATCH_SIZE 128->1000(ddpg_result_2023_05_21_18_38_24): scores increase a little(0.1) from time to time\n",
    "# Try 3\n",
    "# Above and Change episode 300->1000 BATCH_SIZE to 40(ddpg_result_2023_05_21_19_12_01): not working\n",
    "# Try 4\n",
    "# Above and Change episode 300->1000 BATCH_SIZE to 40 and UPDATE_TIMES 1->10(ddpg_result_2023_05_21_19_20_03): succeeded in 550 episodes\n",
    "# Try 5:\n",
    "# Change model param save logic and episode 1000->1500(ddpg_result_2023_05_21_22_08_57): succeeded in 1500 episodes\n",
    "\n",
    "\n",
    "def Learn(env: UnityEnvironment, n_episodes=1000, max_t=1000, target_score=0.0, actual_target_score=0.0, prioritized_learn=False):\n",
    "\n",
    "    save_path = GetFolderPath('ddpg_result')\n",
    "\n",
    "    widget = ['training loop: ', pb.Percentage(), ' ', \n",
    "          pb.Bar(), ' ', pb.ETA() ]\n",
    "    timer = pb.ProgressBar(widgets=widget, maxval=n_episodes).start()\n",
    "\n",
    "    scores_window = deque(maxlen=100)\n",
    "    max_agent_scores = []\n",
    "    avg_scores = []\n",
    "    cur_target_score = target_score \n",
    "    target_score_reached_counter = 0\n",
    "    target_score_reached_num_needed = int(n_episodes * 0.20)\n",
    "\n",
    "    agent = Agent(env, save_path+'log.txt')\n",
    "    \n",
    "    for i_episode in range(1, n_episodes+1):\n",
    "        agent.reset()\n",
    "        env_info = env.reset(train_mode=True)[brain_name]     # reset the environment    \n",
    "        num_agents = len(env_info.agents)\n",
    "        states = env_info.vector_observations                  # get the current state (for each agent)\n",
    "        scores = np.zeros(num_agents)                          # initialize the score (for each agent)\n",
    "        for t in range(max_t):\n",
    "            actions = agent.multi_agent_act(states)\n",
    "            env_info = env.step(actions)[brain_name]           # send all actions to tne environment\n",
    "            next_states = env_info.vector_observations         # get next state (for each agent)\n",
    "            rewards = env_info.rewards                         # get reward (for each agent)\n",
    "            dones = env_info.local_done                        # see if episode finished\n",
    "            # agent.multi_agent_step(states, actions, rewards, next_states, dones)\n",
    "            for i in range(num_agents):\n",
    "                if prioritized_learn:\n",
    "                    agent.priority_step(states[i], actions[i], rewards[i], next_states[i], dones[i], t)\n",
    "                else:\n",
    "                    agent.step(states[i], actions[i], rewards[i], next_states[i], dones[i], t)\n",
    "            states = next_states                               # roll over states to next time step\n",
    "            scores += env_info.rewards                         # update the score (for each agent)\n",
    "            # print('current time: ', t)\n",
    "            if np.any(dones):                                  # exit loop if episode finished\n",
    "                break\n",
    "        # we take the max score of two agents as score for each episode\n",
    "        scores_window.append(np.max(scores))\n",
    "        print('\\nEpisode {}\\tTotal score (max over agents) this episode: {}'.format(i_episode, scores_window[-1]))\n",
    "        max_agent_scores.append(scores_window[-1])\n",
    "        avg_scores.append(np.mean(scores_window))\n",
    "        \n",
    "        # update progress widget bar\n",
    "        timer.update(i_episode)\n",
    "        \n",
    "        model_saved = False\n",
    "        result_str = 'epi_' + str(i_episode) + '_score_' + str(avg_scores[-1])\n",
    "        if max_agent_scores[-1] > cur_target_score:\n",
    "            print('\\nEnvironment improved in {:d} episodes!\\tAverage Score: {:.2f}'.format(i_episode, avg_scores[-1]))\n",
    "            torch.save(agent.critic_local.state_dict(), save_path+result_str+'_critic_checkpoint.pth')\n",
    "            torch.save(agent.actor_local.state_dict(), save_path+result_str+'_actor_checkpoint.pth')\n",
    "            cur_target_score = max_agent_scores[-1]\n",
    "            model_saved = True\n",
    "        \n",
    "        pic_save_path = save_path+'results/'\n",
    "        if not os.path.isdir(pic_save_path):\n",
    "            os.mkdir(pic_save_path)\n",
    "        pic_name = 'ddpg_n_epi_'+str(i_episode)+'.png'    \n",
    "        plot_result(max_agent_scores, avg_scores, actual_target_score, pic_save_path+pic_name) \n",
    "        \n",
    "        if i_episode > 100 and avg_scores[-1] > actual_target_score:\n",
    "            print('training done')\n",
    "            target_score_reached_counter += 1\n",
    "            if not model_saved:\n",
    "                torch.save(agent.critic_local.state_dict(), save_path+result_str+'_critic_checkpoint.pth')\n",
    "                torch.save(agent.actor_local.state_dict(), save_path+result_str+'_actor_checkpoint.pth')\n",
    "            if target_score_reached_counter >= target_score_reached_num_needed:\n",
    "                break\n",
    "    \n",
    "    timer.finish()\n",
    "\n",
    "    return avg_scores"
   ]
  },
  {
   "cell_type": "code",
   "execution_count": null,
   "metadata": {},
   "outputs": [],
   "source": [
    "# ddpg\n",
    "prioritized_learn = False\n",
    "scores = Learn(env, 1500, 10000, 0.0, 0.5, prioritized_learn)"
   ]
  },
  {
   "cell_type": "code",
   "execution_count": 8,
   "metadata": {},
   "outputs": [
    {
     "name": "stderr",
     "output_type": "stream",
     "text": [
      "training loop:   0% |                                          | ETA:  --:--:--\n",
      "training loop:   0% |                                          | ETA:   0:03:57\n"
     ]
    },
    {
     "name": "stdout",
     "output_type": "stream",
     "text": [
      "state size: 24 action size: 2\n",
      "\n",
      "Episode 1\tTotal score (max over agents) this episode: 0.0\n"
     ]
    },
    {
     "name": "stderr",
     "output_type": "stream",
     "text": [
      "training loop:   0% |                                          | ETA:   0:09:25\n"
     ]
    },
    {
     "name": "stdout",
     "output_type": "stream",
     "text": [
      "\n",
      "Episode 2\tTotal score (max over agents) this episode: 0.0\n"
     ]
    },
    {
     "name": "stderr",
     "output_type": "stream",
     "text": [
      "training loop:   0% |                                          | ETA:   0:09:46\n"
     ]
    },
    {
     "name": "stdout",
     "output_type": "stream",
     "text": [
      "\n",
      "Episode 3\tTotal score (max over agents) this episode: 0.0\n"
     ]
    },
    {
     "name": "stderr",
     "output_type": "stream",
     "text": [
      "training loop:   0% |                                          | ETA:   0:10:59\n"
     ]
    },
    {
     "name": "stdout",
     "output_type": "stream",
     "text": [
      "\n",
      "Episode 4\tTotal score (max over agents) this episode: 0.0\n"
     ]
    },
    {
     "name": "stderr",
     "output_type": "stream",
     "text": [
      "training loop:   0% |                                          | ETA:   0:11:24\n"
     ]
    },
    {
     "name": "stdout",
     "output_type": "stream",
     "text": [
      "\n",
      "Episode 5\tTotal score (max over agents) this episode: 0.0\n"
     ]
    },
    {
     "name": "stderr",
     "output_type": "stream",
     "text": [
      "training loop:   0% |                                          | ETA:   0:11:55\n"
     ]
    },
    {
     "name": "stdout",
     "output_type": "stream",
     "text": [
      "\n",
      "Episode 6\tTotal score (max over agents) this episode: 0.0\n"
     ]
    },
    {
     "name": "stderr",
     "output_type": "stream",
     "text": [
      "training loop:   0% |                                          | ETA:   0:11:40\n"
     ]
    },
    {
     "name": "stdout",
     "output_type": "stream",
     "text": [
      "\n",
      "Episode 7\tTotal score (max over agents) this episode: 0.0\n"
     ]
    },
    {
     "name": "stderr",
     "output_type": "stream",
     "text": [
      "training loop:   0% |                                          | ETA:   0:11:34\n"
     ]
    },
    {
     "name": "stdout",
     "output_type": "stream",
     "text": [
      "\n",
      "Episode 8\tTotal score (max over agents) this episode: 0.0\n"
     ]
    },
    {
     "name": "stderr",
     "output_type": "stream",
     "text": [
      "training loop:   0% |                                          | ETA:   0:11:27\n"
     ]
    },
    {
     "name": "stdout",
     "output_type": "stream",
     "text": [
      "\n",
      "Episode 9\tTotal score (max over agents) this episode: 0.0\n"
     ]
    },
    {
     "name": "stderr",
     "output_type": "stream",
     "text": [
      "training loop:   0% |                                          | ETA:   0:11:14\n"
     ]
    },
    {
     "name": "stdout",
     "output_type": "stream",
     "text": [
      "\n",
      "Episode 10\tTotal score (max over agents) this episode: 0.0\n"
     ]
    },
    {
     "name": "stderr",
     "output_type": "stream",
     "text": [
      "training loop:   0% |                                          | ETA:   0:11:05\n"
     ]
    },
    {
     "name": "stdout",
     "output_type": "stream",
     "text": [
      "\n",
      "Episode 11\tTotal score (max over agents) this episode: 0.0\n"
     ]
    },
    {
     "name": "stderr",
     "output_type": "stream",
     "text": [
      "training loop:   0% |                                          | ETA:   0:11:22\n"
     ]
    },
    {
     "name": "stdout",
     "output_type": "stream",
     "text": [
      "\n",
      "Episode 12\tTotal score (max over agents) this episode: 0.09000000357627869\n",
      "\n",
      "Environment improved in 12 episodes!\tAverage Score: 0.01\n",
      "t_step: 10 \t, sample_time: 0.002 \tupdate_time: 0.002 \tlearn_time: 0.037 \tsum: 9.310 \tsize: 419                        "
     ]
    },
    {
     "name": "stderr",
     "output_type": "stream",
     "text": [
      "training loop:   0% |                                          | ETA:   0:16:13\n"
     ]
    },
    {
     "name": "stdout",
     "output_type": "stream",
     "text": [
      "t_step: 10 \t, sample_time: 0.004 \tupdate_time: 0.005 \tlearn_time: 0.022 \tsum: 6.469 \tsize: 420                        \n",
      "Episode 13\tTotal score (max over agents) this episode: 0.0\n",
      "t_step: 10 \t, sample_time: 0.003 \tupdate_time: 0.003 \tlearn_time: 0.038 \tsum: 5.232 \tsize: 449                        "
     ]
    },
    {
     "name": "stderr",
     "output_type": "stream",
     "text": [
      "training loop:   0% |                                          | ETA:   0:20:45\n"
     ]
    },
    {
     "name": "stdout",
     "output_type": "stream",
     "text": [
      "t_step: 10 \t, sample_time: 0.003 \tupdate_time: 0.003 \tlearn_time: 0.025 \tsum: 4.713 \tsize: 450                        \n",
      "Episode 14\tTotal score (max over agents) this episode: 0.0\n",
      "t_step: 10 \t, sample_time: 0.001 \tupdate_time: 0.002 \tlearn_time: 0.014 \tsum: 5.367 \tsize: 477                        "
     ]
    },
    {
     "name": "stderr",
     "output_type": "stream",
     "text": [
      "training loop:   1% |                                          | ETA:   0:23:33\n"
     ]
    },
    {
     "name": "stdout",
     "output_type": "stream",
     "text": [
      "t_step: 10 \t, sample_time: 0.002 \tupdate_time: 0.003 \tlearn_time: 0.039 \tsum: 5.372 \tsize: 478                        \n",
      "Episode 15\tTotal score (max over agents) this episode: 0.0\n",
      "t_step: 10 \t, sample_time: 0.001 \tupdate_time: 0.002 \tlearn_time: 0.010 \tsum: 4.177 \tsize: 505                        "
     ]
    },
    {
     "name": "stderr",
     "output_type": "stream",
     "text": [
      "training loop:   1% |                                          | ETA:   0:26:40\n"
     ]
    },
    {
     "name": "stdout",
     "output_type": "stream",
     "text": [
      "t_step: 10 \t, sample_time: 0.003 \tupdate_time: 0.002 \tlearn_time: 0.009 \tsum: 5.073 \tsize: 506                        \n",
      "Episode 16\tTotal score (max over agents) this episode: 0.0\n",
      "t_step: 10 \t, sample_time: 0.002 \tupdate_time: 0.004 \tlearn_time: 0.038 \tsum: 4.367 \tsize: 535                        "
     ]
    },
    {
     "name": "stderr",
     "output_type": "stream",
     "text": [
      "training loop:   1% |                                          | ETA:   0:30:04\n"
     ]
    },
    {
     "name": "stdout",
     "output_type": "stream",
     "text": [
      "t_step: 10 \t, sample_time: 0.002 \tupdate_time: 0.002 \tlearn_time: 0.021 \tsum: 4.436 \tsize: 536                        \n",
      "Episode 17\tTotal score (max over agents) this episode: 0.0\n",
      "t_step: 10 \t, sample_time: 0.002 \tupdate_time: 0.002 \tlearn_time: 0.015 \tsum: 4.650 \tsize: 563                        "
     ]
    },
    {
     "name": "stderr",
     "output_type": "stream",
     "text": [
      "training loop:   1% |                                          | ETA:   0:33:10\n"
     ]
    },
    {
     "name": "stdout",
     "output_type": "stream",
     "text": [
      "t_step: 10 \t, sample_time: 0.003 \tupdate_time: 0.003 \tlearn_time: 0.091 \tsum: 4.952 \tsize: 564                        \n",
      "Episode 18\tTotal score (max over agents) this episode: 0.0\n",
      "t_step: 5 \t, sample_time: 0.001 \tupdate_time: 0.002 \tlearn_time: 0.018 \tsum: 4.797 \tsize: 582                        "
     ]
    },
    {
     "name": "stderr",
     "output_type": "stream",
     "text": [
      "training loop:   1% |                                          | ETA:   0:34:45\n"
     ]
    },
    {
     "name": "stdout",
     "output_type": "stream",
     "text": [
      "t_step: 10 \t, sample_time: 0.002 \tupdate_time: 0.002 \tlearn_time: 0.016 \tsum: 4.311 \tsize: 592                        \n",
      "Episode 19\tTotal score (max over agents) this episode: 0.0\n",
      "t_step: 10 \t, sample_time: 0.002 \tupdate_time: 0.003 \tlearn_time: 0.022 \tsum: 4.320 \tsize: 619                        "
     ]
    },
    {
     "name": "stderr",
     "output_type": "stream",
     "text": [
      "training loop:   1% |                                          | ETA:   0:37:14\n"
     ]
    },
    {
     "name": "stdout",
     "output_type": "stream",
     "text": [
      "t_step: 10 \t, sample_time: 0.001 \tupdate_time: 0.003 \tlearn_time: 0.021 \tsum: 4.099 \tsize: 620                        \n",
      "Episode 20\tTotal score (max over agents) this episode: 0.0\n",
      "t_step: 10 \t, sample_time: 0.007 \tupdate_time: 0.012 \tlearn_time: 0.026 \tsum: 5.022 \tsize: 647                        "
     ]
    },
    {
     "name": "stderr",
     "output_type": "stream",
     "text": [
      "training loop:   1% |                                          | ETA:   0:40:03\n"
     ]
    },
    {
     "name": "stdout",
     "output_type": "stream",
     "text": [
      "t_step: 10 \t, sample_time: 0.002 \tupdate_time: 0.002 \tlearn_time: 0.014 \tsum: 4.334 \tsize: 648                        \n",
      "Episode 21\tTotal score (max over agents) this episode: 0.0\n",
      "t_step: 10 \t, sample_time: 0.003 \tupdate_time: 0.003 \tlearn_time: 0.089 \tsum: 4.436 \tsize: 677                        "
     ]
    },
    {
     "name": "stderr",
     "output_type": "stream",
     "text": [
      "training loop:   1% |                                          | ETA:   0:42:29\n"
     ]
    },
    {
     "name": "stdout",
     "output_type": "stream",
     "text": [
      "t_step: 10 \t, sample_time: 0.002 \tupdate_time: 0.002 \tlearn_time: 0.092 \tsum: 4.301 \tsize: 678                        \n",
      "Episode 22\tTotal score (max over agents) this episode: 0.0\n",
      "t_step: 10 \t, sample_time: 0.003 \tupdate_time: 0.002 \tlearn_time: 0.055 \tsum: 5.442 \tsize: 705                        "
     ]
    },
    {
     "name": "stderr",
     "output_type": "stream",
     "text": [
      "training loop:   1% |                                          | ETA:   0:43:55\n"
     ]
    },
    {
     "name": "stdout",
     "output_type": "stream",
     "text": [
      "t_step: 10 \t, sample_time: 0.002 \tupdate_time: 0.003 \tlearn_time: 0.013 \tsum: 4.664 \tsize: 706                        \n",
      "Episode 23\tTotal score (max over agents) this episode: 0.0\n",
      "t_step: 10 \t, sample_time: 0.001 \tupdate_time: 0.004 \tlearn_time: 0.058 \tsum: 6.434 \tsize: 733                        "
     ]
    },
    {
     "name": "stderr",
     "output_type": "stream",
     "text": [
      "training loop:   1% |                                          | ETA:   0:45:04\n"
     ]
    },
    {
     "name": "stdout",
     "output_type": "stream",
     "text": [
      "t_step: 10 \t, sample_time: 0.001 \tupdate_time: 0.003 \tlearn_time: 0.012 \tsum: 6.123 \tsize: 734                        \n",
      "Episode 24\tTotal score (max over agents) this episode: 0.0\n",
      "t_step: 10 \t, sample_time: 0.001 \tupdate_time: 0.002 \tlearn_time: 0.006 \tsum: 4.540 \tsize: 761                        "
     ]
    },
    {
     "name": "stderr",
     "output_type": "stream",
     "text": [
      "training loop:   1% |                                          | ETA:   0:46:37\n"
     ]
    },
    {
     "name": "stdout",
     "output_type": "stream",
     "text": [
      "t_step: 10 \t, sample_time: 0.003 \tupdate_time: 0.003 \tlearn_time: 0.055 \tsum: 4.501 \tsize: 762                        \n",
      "Episode 25\tTotal score (max over agents) this episode: 0.0\n",
      "t_step: 10 \t, sample_time: 0.002 \tupdate_time: 0.004 \tlearn_time: 0.041 \tsum: 4.272 \tsize: 789                        "
     ]
    },
    {
     "name": "stderr",
     "output_type": "stream",
     "text": [
      "training loop:   1% |                                          | ETA:   0:47:19\n"
     ]
    },
    {
     "name": "stdout",
     "output_type": "stream",
     "text": [
      "t_step: 10 \t, sample_time: 0.002 \tupdate_time: 0.002 \tlearn_time: 0.025 \tsum: 4.531 \tsize: 790                        \n",
      "Episode 26\tTotal score (max over agents) this episode: 0.0\n",
      "t_step: 10 \t, sample_time: 0.003 \tupdate_time: 0.004 \tlearn_time: 0.034 \tsum: 4.363 \tsize: 819                        "
     ]
    },
    {
     "name": "stderr",
     "output_type": "stream",
     "text": [
      "training loop:   1% |                                          | ETA:   0:48:17\n"
     ]
    },
    {
     "name": "stdout",
     "output_type": "stream",
     "text": [
      "t_step: 10 \t, sample_time: 0.009 \tupdate_time: 0.003 \tlearn_time: 0.029 \tsum: 5.115 \tsize: 820                        \n",
      "Episode 27\tTotal score (max over agents) this episode: 0.0\n",
      "t_step: 10 \t, sample_time: 0.002 \tupdate_time: 0.003 \tlearn_time: 0.015 \tsum: 5.426 \tsize: 847                        "
     ]
    },
    {
     "name": "stderr",
     "output_type": "stream",
     "text": [
      "training loop:   1% |                                          | ETA:   0:49:04\n"
     ]
    },
    {
     "name": "stdout",
     "output_type": "stream",
     "text": [
      "t_step: 10 \t, sample_time: 0.003 \tupdate_time: 0.002 \tlearn_time: 0.017 \tsum: 5.134 \tsize: 848                        \n",
      "Episode 28\tTotal score (max over agents) this episode: 0.0\n",
      "t_step: 10 \t, sample_time: 0.002 \tupdate_time: 0.003 \tlearn_time: 0.059 \tsum: 5.617 \tsize: 875                        "
     ]
    },
    {
     "name": "stderr",
     "output_type": "stream",
     "text": [
      "training loop:   1% |                                          | ETA:   0:50:09\n"
     ]
    },
    {
     "name": "stdout",
     "output_type": "stream",
     "text": [
      "t_step: 10 \t, sample_time: 0.002 \tupdate_time: 0.002 \tlearn_time: 0.057 \tsum: 5.349 \tsize: 876                        \n",
      "Episode 29\tTotal score (max over agents) this episode: 0.0\n",
      "t_step: 10 \t, sample_time: 0.001 \tupdate_time: 0.003 \tlearn_time: 0.070 \tsum: 4.399 \tsize: 903                        "
     ]
    },
    {
     "name": "stderr",
     "output_type": "stream",
     "text": [
      "training loop:   2% |                                          | ETA:   0:51:07\n"
     ]
    },
    {
     "name": "stdout",
     "output_type": "stream",
     "text": [
      "t_step: 10 \t, sample_time: 0.002 \tupdate_time: 0.003 \tlearn_time: 0.010 \tsum: 4.183 \tsize: 904                        \n",
      "Episode 30\tTotal score (max over agents) this episode: 0.0\n",
      "t_step: 10 \t, sample_time: 0.001 \tupdate_time: 0.002 \tlearn_time: 0.008 \tsum: 5.403 \tsize: 931                        "
     ]
    },
    {
     "name": "stderr",
     "output_type": "stream",
     "text": [
      "training loop:   2% |                                          | ETA:   0:52:16\n"
     ]
    },
    {
     "name": "stdout",
     "output_type": "stream",
     "text": [
      "t_step: 10 \t, sample_time: 0.001 \tupdate_time: 0.006 \tlearn_time: 0.029 \tsum: 5.075 \tsize: 932                        \n",
      "Episode 31\tTotal score (max over agents) this episode: 0.0\n",
      "t_step: 10 \t, sample_time: 0.003 \tupdate_time: 0.002 \tlearn_time: 0.070 \tsum: 6.949 \tsize: 961                        "
     ]
    },
    {
     "name": "stderr",
     "output_type": "stream",
     "text": [
      "training loop:   2% |                                          | ETA:   0:53:00\n"
     ]
    },
    {
     "name": "stdout",
     "output_type": "stream",
     "text": [
      "t_step: 10 \t, sample_time: 0.001 \tupdate_time: 0.003 \tlearn_time: 0.012 \tsum: 5.874 \tsize: 962                        \n",
      "Episode 32\tTotal score (max over agents) this episode: 0.0\n",
      "t_step: 10 \t, sample_time: 0.003 \tupdate_time: 0.002 \tlearn_time: 0.029 \tsum: 4.441 \tsize: 989                        "
     ]
    },
    {
     "name": "stderr",
     "output_type": "stream",
     "text": [
      "training loop:   2% |                                          | ETA:   0:53:20\n"
     ]
    },
    {
     "name": "stdout",
     "output_type": "stream",
     "text": [
      "t_step: 10 \t, sample_time: 0.002 \tupdate_time: 0.003 \tlearn_time: 0.024 \tsum: 5.029 \tsize: 990                        \n",
      "Episode 33\tTotal score (max over agents) this episode: 0.0\n",
      "t_step: 10 \t, sample_time: 0.002 \tupdate_time: 0.002 \tlearn_time: 0.008 \tsum: 4.786 \tsize: 1017                        "
     ]
    },
    {
     "name": "stderr",
     "output_type": "stream",
     "text": [
      "training loop:   2% |                                          | ETA:   0:53:49\n"
     ]
    },
    {
     "name": "stdout",
     "output_type": "stream",
     "text": [
      "t_step: 10 \t, sample_time: 0.002 \tupdate_time: 0.004 \tlearn_time: 0.019 \tsum: 4.590 \tsize: 1018                        \n",
      "Episode 34\tTotal score (max over agents) this episode: 0.0\n",
      "t_step: 10 \t, sample_time: 0.001 \tupdate_time: 0.004 \tlearn_time: 0.052 \tsum: 4.412 \tsize: 1045                        "
     ]
    },
    {
     "name": "stderr",
     "output_type": "stream",
     "text": [
      "training loop:   2% |                                          | ETA:   0:54:00\n"
     ]
    },
    {
     "name": "stdout",
     "output_type": "stream",
     "text": [
      "t_step: 10 \t, sample_time: 0.002 \tupdate_time: 0.002 \tlearn_time: 0.021 \tsum: 4.372 \tsize: 1046                        \n",
      "Episode 35\tTotal score (max over agents) this episode: 0.0\n",
      "t_step: 10 \t, sample_time: 0.013 \tupdate_time: 0.004 \tlearn_time: 0.026 \tsum: 4.560 \tsize: 1073                        "
     ]
    },
    {
     "name": "stderr",
     "output_type": "stream",
     "text": [
      "training loop:   2% |#                                         | ETA:   0:54:42\n"
     ]
    },
    {
     "name": "stdout",
     "output_type": "stream",
     "text": [
      "t_step: 10 \t, sample_time: 0.002 \tupdate_time: 0.006 \tlearn_time: 0.027 \tsum: 5.007 \tsize: 1074                        \n",
      "Episode 36\tTotal score (max over agents) this episode: 0.0\n",
      "t_step: 10 \t, sample_time: 0.002 \tupdate_time: 0.003 \tlearn_time: 0.009 \tsum: 4.943 \tsize: 1104                        "
     ]
    },
    {
     "name": "stderr",
     "output_type": "stream",
     "text": [
      "training loop:   2% |#                                         | ETA:   0:55:26\n"
     ]
    },
    {
     "name": "stdout",
     "output_type": "stream",
     "text": [
      "\n",
      "Episode 37\tTotal score (max over agents) this episode: 0.0\n",
      "t_step: 10 \t, sample_time: 0.002 \tupdate_time: 0.002 \tlearn_time: 0.053 \tsum: 5.676 \tsize: 1131                        "
     ]
    },
    {
     "name": "stderr",
     "output_type": "stream",
     "text": [
      "training loop:   2% |#                                         | ETA:   0:55:42\n"
     ]
    },
    {
     "name": "stdout",
     "output_type": "stream",
     "text": [
      "t_step: 10 \t, sample_time: 0.002 \tupdate_time: 0.002 \tlearn_time: 0.025 \tsum: 6.194 \tsize: 1132                        \n",
      "Episode 38\tTotal score (max over agents) this episode: 0.0\n",
      "t_step: 10 \t, sample_time: 0.002 \tupdate_time: 0.003 \tlearn_time: 0.026 \tsum: 5.915 \tsize: 1160                        "
     ]
    },
    {
     "name": "stderr",
     "output_type": "stream",
     "text": [
      "training loop:   2% |#                                         | ETA:   0:56:08\n"
     ]
    },
    {
     "name": "stdout",
     "output_type": "stream",
     "text": [
      "\n",
      "Episode 39\tTotal score (max over agents) this episode: 0.0\n",
      "t_step: 10 \t, sample_time: 0.002 \tupdate_time: 0.004 \tlearn_time: 0.048 \tsum: 5.326 \tsize: 1187                        "
     ]
    },
    {
     "name": "stderr",
     "output_type": "stream",
     "text": [
      "training loop:   2% |#                                         | ETA:   0:56:33\n"
     ]
    },
    {
     "name": "stdout",
     "output_type": "stream",
     "text": [
      "t_step: 10 \t, sample_time: 0.002 \tupdate_time: 0.004 \tlearn_time: 0.024 \tsum: 5.174 \tsize: 1188                        \n",
      "Episode 40\tTotal score (max over agents) this episode: 0.0\n",
      "t_step: 10 \t, sample_time: 0.002 \tupdate_time: 0.014 \tlearn_time: 0.084 \tsum: 5.046 \tsize: 1215                        "
     ]
    },
    {
     "name": "stderr",
     "output_type": "stream",
     "text": [
      "training loop:   2% |#                                         | ETA:   0:58:20\n"
     ]
    },
    {
     "name": "stdout",
     "output_type": "stream",
     "text": [
      "t_step: 10 \t, sample_time: 0.002 \tupdate_time: 0.004 \tlearn_time: 0.125 \tsum: 4.997 \tsize: 1216                        \n",
      "Episode 41\tTotal score (max over agents) this episode: 0.0\n",
      "t_step: 10 \t, sample_time: 0.001 \tupdate_time: 0.004 \tlearn_time: 0.064 \tsum: 8.327 \tsize: 1245                        "
     ]
    },
    {
     "name": "stderr",
     "output_type": "stream",
     "text": [
      "training loop:   2% |#                                         | ETA:   0:58:57\n"
     ]
    },
    {
     "name": "stdout",
     "output_type": "stream",
     "text": [
      "t_step: 10 \t, sample_time: 0.002 \tupdate_time: 0.003 \tlearn_time: 0.098 \tsum: 8.764 \tsize: 1246                        \n",
      "Episode 42\tTotal score (max over agents) this episode: 0.0\n",
      "t_step: 10 \t, sample_time: 0.002 \tupdate_time: 0.005 \tlearn_time: 0.098 \tsum: 6.389 \tsize: 1273                        "
     ]
    },
    {
     "name": "stderr",
     "output_type": "stream",
     "text": [
      "training loop:   2% |#                                         | ETA:   0:59:28\n"
     ]
    },
    {
     "name": "stdout",
     "output_type": "stream",
     "text": [
      "t_step: 10 \t, sample_time: 0.002 \tupdate_time: 0.003 \tlearn_time: 0.010 \tsum: 5.780 \tsize: 1274                        \n",
      "Episode 43\tTotal score (max over agents) this episode: 0.0\n",
      "t_step: 25 \t, sample_time: 0.003 \tupdate_time: 0.003 \tlearn_time: 0.022 \tsum: 9.842 \tsize: 1331                        "
     ]
    },
    {
     "name": "stderr",
     "output_type": "stream",
     "text": [
      "training loop:   2% |#                                         | ETA:   1:02:35\n"
     ]
    },
    {
     "name": "stdout",
     "output_type": "stream",
     "text": [
      "t_step: 25 \t, sample_time: 0.002 \tupdate_time: 0.019 \tlearn_time: 0.060 \tsum: 9.800 \tsize: 1332                        \n",
      "Episode 44\tTotal score (max over agents) this episode: 0.10000000149011612\n",
      "\n",
      "Environment improved in 44 episodes!\tAverage Score: 0.00\n",
      "t_step: 10 \t, sample_time: 0.001 \tupdate_time: 0.003 \tlearn_time: 0.010 \tsum: 9.329 \tsize: 1361                        "
     ]
    },
    {
     "name": "stderr",
     "output_type": "stream",
     "text": [
      "training loop:   3% |#                                         | ETA:   1:03:19\n"
     ]
    },
    {
     "name": "stdout",
     "output_type": "stream",
     "text": [
      "t_step: 10 \t, sample_time: 0.002 \tupdate_time: 0.003 \tlearn_time: 0.050 \tsum: 9.464 \tsize: 1362                        \n",
      "Episode 45\tTotal score (max over agents) this episode: 0.0\n",
      "t_step: 10 \t, sample_time: 0.002 \tupdate_time: 0.005 \tlearn_time: 0.056 \tsum: 9.417 \tsize: 1389                        "
     ]
    },
    {
     "name": "stderr",
     "output_type": "stream",
     "text": [
      "training loop:   3% |#                                         | ETA:   1:03:33\n"
     ]
    },
    {
     "name": "stdout",
     "output_type": "stream",
     "text": [
      "t_step: 10 \t, sample_time: 0.002 \tupdate_time: 0.003 \tlearn_time: 0.033 \tsum: 8.805 \tsize: 1390                        \n",
      "Episode 46\tTotal score (max over agents) this episode: 0.0\n",
      "t_step: 10 \t, sample_time: 0.002 \tupdate_time: 0.002 \tlearn_time: 0.030 \tsum: 7.577 \tsize: 1419                        "
     ]
    },
    {
     "name": "stderr",
     "output_type": "stream",
     "text": [
      "training loop:   3% |#                                         | ETA:   1:03:15\n"
     ]
    },
    {
     "name": "stdout",
     "output_type": "stream",
     "text": [
      "t_step: 10 \t, sample_time: 0.002 \tupdate_time: 0.002 \tlearn_time: 0.048 \tsum: 7.429 \tsize: 1420                        \n",
      "Episode 47\tTotal score (max over agents) this episode: 0.0\n",
      "t_step: 10 \t, sample_time: 0.002 \tupdate_time: 0.003 \tlearn_time: 0.029 \tsum: 8.305 \tsize: 1447                        "
     ]
    },
    {
     "name": "stderr",
     "output_type": "stream",
     "text": [
      "training loop:   3% |#                                         | ETA:   1:02:52\n"
     ]
    },
    {
     "name": "stdout",
     "output_type": "stream",
     "text": [
      "t_step: 10 \t, sample_time: 0.002 \tupdate_time: 0.004 \tlearn_time: 0.013 \tsum: 8.084 \tsize: 1448                        \n",
      "Episode 48\tTotal score (max over agents) this episode: 0.0\n",
      "t_step: 10 \t, sample_time: 0.003 \tupdate_time: 0.002 \tlearn_time: 0.052 \tsum: 11.457 \tsize: 1475                        "
     ]
    },
    {
     "name": "stderr",
     "output_type": "stream",
     "text": [
      "training loop:   3% |#                                         | ETA:   1:02:21\n"
     ]
    },
    {
     "name": "stdout",
     "output_type": "stream",
     "text": [
      "t_step: 10 \t, sample_time: 0.002 \tupdate_time: 0.004 \tlearn_time: 0.034 \tsum: 11.398 \tsize: 1476                        \n",
      "Episode 49\tTotal score (max over agents) this episode: 0.0\n",
      "t_step: 10 \t, sample_time: 0.009 \tupdate_time: 0.003 \tlearn_time: 0.010 \tsum: 10.332 \tsize: 1503                        "
     ]
    },
    {
     "name": "stderr",
     "output_type": "stream",
     "text": [
      "training loop:   3% |#                                         | ETA:   1:01:59\n"
     ]
    },
    {
     "name": "stdout",
     "output_type": "stream",
     "text": [
      "t_step: 10 \t, sample_time: 0.002 \tupdate_time: 0.003 \tlearn_time: 0.013 \tsum: 9.924 \tsize: 1504                        \n",
      "Episode 50\tTotal score (max over agents) this episode: 0.0\n",
      "t_step: 5 \t, sample_time: 0.002 \tupdate_time: 0.002 \tlearn_time: 0.014 \tsum: 10.864 \tsize: 1522                        "
     ]
    },
    {
     "name": "stderr",
     "output_type": "stream",
     "text": [
      "training loop:   3% |#                                         | ETA:   1:01:25\n"
     ]
    },
    {
     "name": "stdout",
     "output_type": "stream",
     "text": [
      "t_step: 10 \t, sample_time: 0.003 \tupdate_time: 0.002 \tlearn_time: 0.013 \tsum: 9.231 \tsize: 1532                         \n",
      "Episode 51\tTotal score (max over agents) this episode: 0.0\n",
      "t_step: 5 \t, sample_time: 0.002 \tupdate_time: 0.003 \tlearn_time: 0.012 \tsum: 9.902 \tsize: 1552                        "
     ]
    },
    {
     "name": "stderr",
     "output_type": "stream",
     "text": [
      "training loop:   3% |#                                         | ETA:   1:00:58\n"
     ]
    },
    {
     "name": "stdout",
     "output_type": "stream",
     "text": [
      "t_step: 10 \t, sample_time: 0.003 \tupdate_time: 0.003 \tlearn_time: 0.012 \tsum: 13.116 \tsize: 1562                        \n",
      "Episode 52\tTotal score (max over agents) this episode: 0.0\n",
      "t_step: 5 \t, sample_time: 0.002 \tupdate_time: 0.003 \tlearn_time: 0.007 \tsum: 12.559 \tsize: 1580                        "
     ]
    },
    {
     "name": "stderr",
     "output_type": "stream",
     "text": [
      "training loop:   3% |#                                         | ETA:   1:00:53\n"
     ]
    },
    {
     "name": "stdout",
     "output_type": "stream",
     "text": [
      "t_step: 10 \t, sample_time: 0.001 \tupdate_time: 0.007 \tlearn_time: 0.026 \tsum: 13.080 \tsize: 1590                        \n",
      "Episode 53\tTotal score (max over agents) this episode: 0.0\n",
      "t_step: 10 \t, sample_time: 0.001 \tupdate_time: 0.003 \tlearn_time: 0.011 \tsum: 14.947 \tsize: 1617                        "
     ]
    },
    {
     "name": "stderr",
     "output_type": "stream",
     "text": [
      "training loop:   3% |#                                         | ETA:   1:00:41\n"
     ]
    },
    {
     "name": "stdout",
     "output_type": "stream",
     "text": [
      "t_step: 10 \t, sample_time: 0.001 \tupdate_time: 0.003 \tlearn_time: 0.014 \tsum: 14.732 \tsize: 1618                        \n",
      "Episode 54\tTotal score (max over agents) this episode: 0.0\n",
      "t_step: 5 \t, sample_time: 0.002 \tupdate_time: 0.004 \tlearn_time: 0.012 \tsum: 12.826 \tsize: 1636                        "
     ]
    },
    {
     "name": "stderr",
     "output_type": "stream",
     "text": [
      "training loop:   3% |#                                         | ETA:   1:00:19\n"
     ]
    },
    {
     "name": "stdout",
     "output_type": "stream",
     "text": [
      "t_step: 10 \t, sample_time: 0.002 \tupdate_time: 0.002 \tlearn_time: 0.010 \tsum: 12.231 \tsize: 1646                        \n",
      "Episode 55\tTotal score (max over agents) this episode: 0.0\n",
      "t_step: 10 \t, sample_time: 0.002 \tupdate_time: 0.003 \tlearn_time: 0.032 \tsum: 12.809 \tsize: 1674                        "
     ]
    },
    {
     "name": "stderr",
     "output_type": "stream",
     "text": [
      "training loop:   3% |#                                         | ETA:   0:59:57\n"
     ]
    },
    {
     "name": "stdout",
     "output_type": "stream",
     "text": [
      "\n",
      "Episode 56\tTotal score (max over agents) this episode: 0.0\n",
      "t_step: 10 \t, sample_time: 0.002 \tupdate_time: 0.003 \tlearn_time: 0.108 \tsum: 11.539 \tsize: 1703                        "
     ]
    },
    {
     "name": "stderr",
     "output_type": "stream",
     "text": [
      "training loop:   3% |#                                         | ETA:   0:59:57\n"
     ]
    },
    {
     "name": "stdout",
     "output_type": "stream",
     "text": [
      "t_step: 10 \t, sample_time: 0.002 \tupdate_time: 0.003 \tlearn_time: 0.027 \tsum: 11.153 \tsize: 1704                        \n",
      "Episode 57\tTotal score (max over agents) this episode: 0.0\n",
      "t_step: 5 \t, sample_time: 0.003 \tupdate_time: 0.004 \tlearn_time: 0.043 \tsum: 11.663 \tsize: 1722                        "
     ]
    },
    {
     "name": "stderr",
     "output_type": "stream",
     "text": [
      "training loop:   3% |#                                         | ETA:   0:59:41\n"
     ]
    },
    {
     "name": "stdout",
     "output_type": "stream",
     "text": [
      "t_step: 10 \t, sample_time: 0.002 \tupdate_time: 0.002 \tlearn_time: 0.013 \tsum: 11.506 \tsize: 1732                        \n",
      "Episode 58\tTotal score (max over agents) this episode: 0.0\n",
      "t_step: 10 \t, sample_time: 0.002 \tupdate_time: 0.002 \tlearn_time: 0.010 \tsum: 11.353 \tsize: 1759                        "
     ]
    },
    {
     "name": "stderr",
     "output_type": "stream",
     "text": [
      "training loop:   3% |#                                         | ETA:   0:59:23\n"
     ]
    },
    {
     "name": "stdout",
     "output_type": "stream",
     "text": [
      "t_step: 10 \t, sample_time: 0.002 \tupdate_time: 0.008 \tlearn_time: 0.015 \tsum: 10.580 \tsize: 1760                        \n",
      "Episode 59\tTotal score (max over agents) this episode: 0.0\n",
      "t_step: 5 \t, sample_time: 0.002 \tupdate_time: 0.003 \tlearn_time: 0.053 \tsum: 10.190 \tsize: 1778                        "
     ]
    },
    {
     "name": "stderr",
     "output_type": "stream",
     "text": [
      "training loop:   4% |#                                         | ETA:   0:59:02\n"
     ]
    },
    {
     "name": "stdout",
     "output_type": "stream",
     "text": [
      "t_step: 10 \t, sample_time: 0.002 \tupdate_time: 0.003 \tlearn_time: 0.010 \tsum: 10.000 \tsize: 1788                        \n",
      "Episode 60\tTotal score (max over agents) this episode: 0.0\n",
      "t_step: 10 \t, sample_time: 0.002 \tupdate_time: 0.003 \tlearn_time: 0.018 \tsum: 12.197 \tsize: 1816                        "
     ]
    },
    {
     "name": "stderr",
     "output_type": "stream",
     "text": [
      "training loop:   4% |#                                         | ETA:   0:58:48\n"
     ]
    },
    {
     "name": "stdout",
     "output_type": "stream",
     "text": [
      "\n",
      "Episode 61\tTotal score (max over agents) this episode: 0.0\n",
      "t_step: 10 \t, sample_time: 0.001 \tupdate_time: 0.002 \tlearn_time: 0.025 \tsum: 13.702 \tsize: 1846                        "
     ]
    },
    {
     "name": "stderr",
     "output_type": "stream",
     "text": [
      "training loop:   4% |#                                         | ETA:   0:58:29\n"
     ]
    },
    {
     "name": "stdout",
     "output_type": "stream",
     "text": [
      "\n",
      "Episode 62\tTotal score (max over agents) this episode: 0.0\n",
      "t_step: 5 \t, sample_time: 0.002 \tupdate_time: 0.002 \tlearn_time: 0.016 \tsum: 14.918 \tsize: 1864                        "
     ]
    },
    {
     "name": "stderr",
     "output_type": "stream",
     "text": [
      "training loop:   4% |#                                         | ETA:   0:58:10\n"
     ]
    },
    {
     "name": "stdout",
     "output_type": "stream",
     "text": [
      "t_step: 10 \t, sample_time: 0.002 \tupdate_time: 0.002 \tlearn_time: 0.008 \tsum: 13.811 \tsize: 1874                        \n",
      "Episode 63\tTotal score (max over agents) this episode: 0.0\n",
      "t_step: 5 \t, sample_time: 0.002 \tupdate_time: 0.003 \tlearn_time: 0.012 \tsum: 14.724 \tsize: 1892                        "
     ]
    },
    {
     "name": "stderr",
     "output_type": "stream",
     "text": [
      "training loop:   4% |#                                         | ETA:   0:57:48\n"
     ]
    },
    {
     "name": "stdout",
     "output_type": "stream",
     "text": [
      "t_step: 10 \t, sample_time: 0.003 \tupdate_time: 0.003 \tlearn_time: 0.016 \tsum: 14.852 \tsize: 1902                        \n",
      "Episode 64\tTotal score (max over agents) this episode: 0.0\n",
      "t_step: 10 \t, sample_time: 0.002 \tupdate_time: 0.002 \tlearn_time: 0.008 \tsum: 13.468 \tsize: 1929                        "
     ]
    },
    {
     "name": "stderr",
     "output_type": "stream",
     "text": [
      "training loop:   4% |#                                         | ETA:   0:57:34\n"
     ]
    },
    {
     "name": "stdout",
     "output_type": "stream",
     "text": [
      "t_step: 10 \t, sample_time: 0.003 \tupdate_time: 0.005 \tlearn_time: 0.015 \tsum: 13.328 \tsize: 1930                        \n",
      "Episode 65\tTotal score (max over agents) this episode: 0.0\n",
      "t_step: 10 \t, sample_time: 0.001 \tupdate_time: 0.004 \tlearn_time: 0.021 \tsum: 13.059 \tsize: 1957                        "
     ]
    },
    {
     "name": "stderr",
     "output_type": "stream",
     "text": [
      "training loop:   4% |#                                         | ETA:   0:57:20\n"
     ]
    },
    {
     "name": "stdout",
     "output_type": "stream",
     "text": [
      "t_step: 10 \t, sample_time: 0.003 \tupdate_time: 0.007 \tlearn_time: 0.030 \tsum: 13.182 \tsize: 1958                        \n",
      "Episode 66\tTotal score (max over agents) this episode: 0.0\n",
      "t_step: 5 \t, sample_time: 0.001 \tupdate_time: 0.003 \tlearn_time: 0.014 \tsum: 12.368 \tsize: 1978                        "
     ]
    },
    {
     "name": "stderr",
     "output_type": "stream",
     "text": [
      "training loop:   4% |#                                         | ETA:   0:57:10\n"
     ]
    },
    {
     "name": "stdout",
     "output_type": "stream",
     "text": [
      "t_step: 10 \t, sample_time: 0.003 \tupdate_time: 0.003 \tlearn_time: 0.011 \tsum: 12.609 \tsize: 1988                        \n",
      "Episode 67\tTotal score (max over agents) this episode: 0.0\n",
      "t_step: 10 \t, sample_time: 0.002 \tupdate_time: 0.003 \tlearn_time: 0.024 \tsum: 15.043 \tsize: 2015                        "
     ]
    },
    {
     "name": "stderr",
     "output_type": "stream",
     "text": [
      "training loop:   4% |#                                         | ETA:   0:56:54\n"
     ]
    },
    {
     "name": "stdout",
     "output_type": "stream",
     "text": [
      "t_step: 10 \t, sample_time: 0.002 \tupdate_time: 0.002 \tlearn_time: 0.034 \tsum: 14.595 \tsize: 2016                        \n",
      "Episode 68\tTotal score (max over agents) this episode: 0.0\n",
      "t_step: 10 \t, sample_time: 0.001 \tupdate_time: 0.003 \tlearn_time: 0.045 \tsum: 12.926 \tsize: 2043                        "
     ]
    },
    {
     "name": "stderr",
     "output_type": "stream",
     "text": [
      "training loop:   4% |#                                         | ETA:   0:56:41\n"
     ]
    },
    {
     "name": "stdout",
     "output_type": "stream",
     "text": [
      "t_step: 10 \t, sample_time: 0.003 \tupdate_time: 0.002 \tlearn_time: 0.013 \tsum: 13.107 \tsize: 2044                        \n",
      "Episode 69\tTotal score (max over agents) this episode: 0.0\n",
      "t_step: 5 \t, sample_time: 0.002 \tupdate_time: 0.003 \tlearn_time: 0.045 \tsum: 13.522 \tsize: 2062                        "
     ]
    },
    {
     "name": "stderr",
     "output_type": "stream",
     "text": [
      "training loop:   4% |#                                         | ETA:   0:56:25\n"
     ]
    },
    {
     "name": "stdout",
     "output_type": "stream",
     "text": [
      "t_step: 10 \t, sample_time: 0.001 \tupdate_time: 0.003 \tlearn_time: 0.034 \tsum: 13.186 \tsize: 2072                        \n",
      "Episode 70\tTotal score (max over agents) this episode: 0.0\n",
      "t_step: 10 \t, sample_time: 0.002 \tupdate_time: 0.002 \tlearn_time: 0.018 \tsum: 15.231 \tsize: 2099                        "
     ]
    },
    {
     "name": "stderr",
     "output_type": "stream",
     "text": [
      "training loop:   4% |#                                         | ETA:   0:56:19\n"
     ]
    },
    {
     "name": "stdout",
     "output_type": "stream",
     "text": [
      "t_step: 10 \t, sample_time: 0.003 \tupdate_time: 0.003 \tlearn_time: 0.029 \tsum: 14.356 \tsize: 2100                        \n",
      "Episode 71\tTotal score (max over agents) this episode: 0.0\n",
      "t_step: 10 \t, sample_time: 0.002 \tupdate_time: 0.004 \tlearn_time: 0.019 \tsum: 14.248 \tsize: 2129                        "
     ]
    },
    {
     "name": "stderr",
     "output_type": "stream",
     "text": [
      "training loop:   4% |##                                        | ETA:   0:56:13\n"
     ]
    },
    {
     "name": "stdout",
     "output_type": "stream",
     "text": [
      "t_step: 10 \t, sample_time: 0.002 \tupdate_time: 0.003 \tlearn_time: 0.017 \tsum: 13.936 \tsize: 2130                        \n",
      "Episode 72\tTotal score (max over agents) this episode: 0.0\n",
      "t_step: 10 \t, sample_time: 0.004 \tupdate_time: 0.005 \tlearn_time: 0.060 \tsum: 13.948 \tsize: 2157                        "
     ]
    },
    {
     "name": "stderr",
     "output_type": "stream",
     "text": [
      "training loop:   4% |##                                        | ETA:   0:56:04\n"
     ]
    },
    {
     "name": "stdout",
     "output_type": "stream",
     "text": [
      "t_step: 10 \t, sample_time: 0.003 \tupdate_time: 0.005 \tlearn_time: 0.020 \tsum: 13.826 \tsize: 2158                        \n",
      "Episode 73\tTotal score (max over agents) this episode: 0.0\n",
      "t_step: 10 \t, sample_time: 0.002 \tupdate_time: 0.003 \tlearn_time: 0.044 \tsum: 12.809 \tsize: 2185                        "
     ]
    },
    {
     "name": "stderr",
     "output_type": "stream",
     "text": [
      "training loop:   4% |##                                        | ETA:   0:55:59\n"
     ]
    },
    {
     "name": "stdout",
     "output_type": "stream",
     "text": [
      "t_step: 10 \t, sample_time: 0.001 \tupdate_time: 0.002 \tlearn_time: 0.039 \tsum: 12.286 \tsize: 2186                        \n",
      "Episode 74\tTotal score (max over agents) this episode: 0.0\n",
      "t_step: 10 \t, sample_time: 0.002 \tupdate_time: 0.003 \tlearn_time: 0.029 \tsum: 14.871 \tsize: 2213                        "
     ]
    },
    {
     "name": "stderr",
     "output_type": "stream",
     "text": [
      "training loop:   5% |##                                        | ETA:   0:55:47\n"
     ]
    },
    {
     "name": "stdout",
     "output_type": "stream",
     "text": [
      "t_step: 10 \t, sample_time: 0.002 \tupdate_time: 0.002 \tlearn_time: 0.014 \tsum: 15.266 \tsize: 2214                        \n",
      "Episode 75\tTotal score (max over agents) this episode: 0.0\n",
      "t_step: 5 \t, sample_time: 0.001 \tupdate_time: 0.003 \tlearn_time: 0.021 \tsum: 15.390 \tsize: 2232                        "
     ]
    },
    {
     "name": "stderr",
     "output_type": "stream",
     "text": [
      "training loop:   5% |##                                        | ETA:   0:55:32\n"
     ]
    },
    {
     "name": "stdout",
     "output_type": "stream",
     "text": [
      "t_step: 10 \t, sample_time: 0.002 \tupdate_time: 0.003 \tlearn_time: 0.024 \tsum: 14.515 \tsize: 2242                        \n",
      "Episode 76\tTotal score (max over agents) this episode: 0.0\n",
      "t_step: 10 \t, sample_time: 0.002 \tupdate_time: 0.003 \tlearn_time: 0.016 \tsum: 15.528 \tsize: 2271                        "
     ]
    },
    {
     "name": "stderr",
     "output_type": "stream",
     "text": [
      "training loop:   5% |##                                        | ETA:   0:55:22\n"
     ]
    },
    {
     "name": "stdout",
     "output_type": "stream",
     "text": [
      "t_step: 10 \t, sample_time: 0.002 \tupdate_time: 0.004 \tlearn_time: 0.035 \tsum: 15.684 \tsize: 2272                        \n",
      "Episode 77\tTotal score (max over agents) this episode: 0.0\n",
      "t_step: 10 \t, sample_time: 0.002 \tupdate_time: 0.004 \tlearn_time: 0.024 \tsum: 14.885 \tsize: 2300                        "
     ]
    },
    {
     "name": "stderr",
     "output_type": "stream",
     "text": [
      "training loop:   5% |##                                        | ETA:   0:55:07\n"
     ]
    },
    {
     "name": "stdout",
     "output_type": "stream",
     "text": [
      "\n",
      "Episode 78\tTotal score (max over agents) this episode: 0.0\n",
      "t_step: 5 \t, sample_time: 0.002 \tupdate_time: 0.003 \tlearn_time: 0.028 \tsum: 14.390 \tsize: 2318                        "
     ]
    },
    {
     "name": "stderr",
     "output_type": "stream",
     "text": [
      "training loop:   5% |##                                        | ETA:   0:55:00\n"
     ]
    },
    {
     "name": "stdout",
     "output_type": "stream",
     "text": [
      "t_step: 10 \t, sample_time: 0.003 \tupdate_time: 0.003 \tlearn_time: 0.009 \tsum: 13.229 \tsize: 2328                        \n",
      "Episode 79\tTotal score (max over agents) this episode: 0.0\n",
      "t_step: 10 \t, sample_time: 0.002 \tupdate_time: 0.003 \tlearn_time: 0.011 \tsum: 13.067 \tsize: 2355                        "
     ]
    },
    {
     "name": "stderr",
     "output_type": "stream",
     "text": [
      "training loop:   5% |##                                        | ETA:   0:55:04\n"
     ]
    },
    {
     "name": "stdout",
     "output_type": "stream",
     "text": [
      "t_step: 10 \t, sample_time: 0.002 \tupdate_time: 0.002 \tlearn_time: 0.045 \tsum: 14.638 \tsize: 2356                        \n",
      "Episode 80\tTotal score (max over agents) this episode: 0.0\n",
      "t_step: 5 \t, sample_time: 0.002 \tupdate_time: 0.003 \tlearn_time: 0.013 \tsum: 16.314 \tsize: 2376                        "
     ]
    },
    {
     "name": "stderr",
     "output_type": "stream",
     "text": [
      "training loop:   5% |##                                        | ETA:   0:54:52\n"
     ]
    },
    {
     "name": "stdout",
     "output_type": "stream",
     "text": [
      "t_step: 10 \t, sample_time: 0.002 \tupdate_time: 0.003 \tlearn_time: 0.009 \tsum: 16.248 \tsize: 2386                        \n",
      "Episode 81\tTotal score (max over agents) this episode: 0.0\n",
      "t_step: 10 \t, sample_time: 0.001 \tupdate_time: 0.003 \tlearn_time: 0.015 \tsum: 15.841 \tsize: 2413                        "
     ]
    },
    {
     "name": "stderr",
     "output_type": "stream",
     "text": [
      "training loop:   5% |##                                        | ETA:   0:54:41\n"
     ]
    },
    {
     "name": "stdout",
     "output_type": "stream",
     "text": [
      "t_step: 10 \t, sample_time: 0.002 \tupdate_time: 0.003 \tlearn_time: 0.011 \tsum: 15.324 \tsize: 2414                        \n",
      "Episode 82\tTotal score (max over agents) this episode: 0.0\n",
      "t_step: 10 \t, sample_time: 0.002 \tupdate_time: 0.003 \tlearn_time: 0.026 \tsum: 16.317 \tsize: 2443                        "
     ]
    },
    {
     "name": "stderr",
     "output_type": "stream",
     "text": [
      "training loop:   5% |##                                        | ETA:   0:54:38\n"
     ]
    },
    {
     "name": "stdout",
     "output_type": "stream",
     "text": [
      "t_step: 10 \t, sample_time: 0.003 \tupdate_time: 0.003 \tlearn_time: 0.055 \tsum: 15.930 \tsize: 2444                        \n",
      "Episode 83\tTotal score (max over agents) this episode: 0.0\n",
      "t_step: 10 \t, sample_time: 0.001 \tupdate_time: 0.003 \tlearn_time: 0.012 \tsum: 13.354 \tsize: 2471                        "
     ]
    },
    {
     "name": "stderr",
     "output_type": "stream",
     "text": [
      "training loop:   5% |##                                        | ETA:   0:54:30\n"
     ]
    },
    {
     "name": "stdout",
     "output_type": "stream",
     "text": [
      "t_step: 10 \t, sample_time: 0.003 \tupdate_time: 0.003 \tlearn_time: 0.033 \tsum: 14.482 \tsize: 2472                        \n",
      "Episode 84\tTotal score (max over agents) this episode: 0.0\n",
      "t_step: 25 \t, sample_time: 0.002 \tupdate_time: 0.003 \tlearn_time: 0.011 \tsum: 19.069 \tsize: 2529                        "
     ]
    },
    {
     "name": "stderr",
     "output_type": "stream",
     "text": [
      "training loop:   5% |##                                        | ETA:   0:54:45\n"
     ]
    },
    {
     "name": "stdout",
     "output_type": "stream",
     "text": [
      "t_step: 25 \t, sample_time: 0.002 \tupdate_time: 0.002 \tlearn_time: 0.046 \tsum: 18.887 \tsize: 2530                        \n",
      "Episode 85\tTotal score (max over agents) this episode: 0.09000000171363354\n",
      "t_step: 5 \t, sample_time: 0.002 \tupdate_time: 0.003 \tlearn_time: 0.012 \tsum: 19.140 \tsize: 2550                        "
     ]
    },
    {
     "name": "stderr",
     "output_type": "stream",
     "text": [
      "training loop:   5% |##                                        | ETA:   0:54:43\n"
     ]
    },
    {
     "name": "stdout",
     "output_type": "stream",
     "text": [
      "t_step: 10 \t, sample_time: 0.003 \tupdate_time: 0.003 \tlearn_time: 0.009 \tsum: 18.394 \tsize: 2560                        \n",
      "Episode 86\tTotal score (max over agents) this episode: 0.0\n",
      "t_step: 10 \t, sample_time: 0.002 \tupdate_time: 0.003 \tlearn_time: 0.058 \tsum: 19.383 \tsize: 2589                        "
     ]
    },
    {
     "name": "stderr",
     "output_type": "stream",
     "text": [
      "training loop:   5% |##                                        | ETA:   0:54:47\n"
     ]
    },
    {
     "name": "stdout",
     "output_type": "stream",
     "text": [
      "t_step: 10 \t, sample_time: 0.002 \tupdate_time: 0.003 \tlearn_time: 0.009 \tsum: 19.433 \tsize: 2590                        \n",
      "Episode 87\tTotal score (max over agents) this episode: 0.0\n",
      "t_step: 10 \t, sample_time: 0.002 \tupdate_time: 0.003 \tlearn_time: 0.013 \tsum: 18.343 \tsize: 2618                        "
     ]
    },
    {
     "name": "stderr",
     "output_type": "stream",
     "text": [
      "training loop:   5% |##                                        | ETA:   0:54:34\n"
     ]
    },
    {
     "name": "stdout",
     "output_type": "stream",
     "text": [
      "\n",
      "Episode 88\tTotal score (max over agents) this episode: 0.0\n",
      "t_step: 10 \t, sample_time: 0.003 \tupdate_time: 0.003 \tlearn_time: 0.017 \tsum: 17.277 \tsize: 2645                        "
     ]
    },
    {
     "name": "stderr",
     "output_type": "stream",
     "text": [
      "training loop:   5% |##                                        | ETA:   0:54:28\n"
     ]
    },
    {
     "name": "stdout",
     "output_type": "stream",
     "text": [
      "t_step: 10 \t, sample_time: 0.001 \tupdate_time: 0.003 \tlearn_time: 0.017 \tsum: 16.964 \tsize: 2646                        \n",
      "Episode 89\tTotal score (max over agents) this episode: 0.0\n",
      "t_step: 5 \t, sample_time: 0.001 \tupdate_time: 0.002 \tlearn_time: 0.010 \tsum: 17.339 \tsize: 2664                        "
     ]
    },
    {
     "name": "stderr",
     "output_type": "stream",
     "text": [
      "training loop:   6% |##                                        | ETA:   0:54:25\n"
     ]
    },
    {
     "name": "stdout",
     "output_type": "stream",
     "text": [
      "t_step: 10 \t, sample_time: 0.001 \tupdate_time: 0.003 \tlearn_time: 0.016 \tsum: 17.979 \tsize: 2674                        \n",
      "Episode 90\tTotal score (max over agents) this episode: 0.0\n",
      "t_step: 10 \t, sample_time: 0.002 \tupdate_time: 0.003 \tlearn_time: 0.011 \tsum: 18.323 \tsize: 2701                        "
     ]
    },
    {
     "name": "stderr",
     "output_type": "stream",
     "text": [
      "training loop:   6% |##                                        | ETA:   0:54:20\n"
     ]
    },
    {
     "name": "stdout",
     "output_type": "stream",
     "text": [
      "t_step: 10 \t, sample_time: 0.007 \tupdate_time: 0.009 \tlearn_time: 0.025 \tsum: 18.488 \tsize: 2702                        \n",
      "Episode 91\tTotal score (max over agents) this episode: 0.0\n",
      "t_step: 10 \t, sample_time: 0.003 \tupdate_time: 0.006 \tlearn_time: 0.019 \tsum: 17.949 \tsize: 2731                        "
     ]
    },
    {
     "name": "stderr",
     "output_type": "stream",
     "text": [
      "training loop:   6% |##                                        | ETA:   0:54:10\n"
     ]
    },
    {
     "name": "stdout",
     "output_type": "stream",
     "text": [
      "t_step: 10 \t, sample_time: 0.003 \tupdate_time: 0.003 \tlearn_time: 0.011 \tsum: 17.327 \tsize: 2732                        \n",
      "Episode 92\tTotal score (max over agents) this episode: 0.0\n",
      "t_step: 5 \t, sample_time: 0.002 \tupdate_time: 0.003 \tlearn_time: 0.010 \tsum: 15.779 \tsize: 2750                        "
     ]
    },
    {
     "name": "stderr",
     "output_type": "stream",
     "text": [
      "training loop:   6% |##                                        | ETA:   0:53:59\n"
     ]
    },
    {
     "name": "stdout",
     "output_type": "stream",
     "text": [
      "t_step: 10 \t, sample_time: 0.004 \tupdate_time: 0.005 \tlearn_time: 0.017 \tsum: 16.528 \tsize: 2760                        \n",
      "Episode 93\tTotal score (max over agents) this episode: 0.0\n",
      "t_step: 5 \t, sample_time: 0.002 \tupdate_time: 0.003 \tlearn_time: 0.009 \tsum: 15.784 \tsize: 2778                        "
     ]
    },
    {
     "name": "stderr",
     "output_type": "stream",
     "text": [
      "training loop:   6% |##                                        | ETA:   0:53:51\n"
     ]
    },
    {
     "name": "stdout",
     "output_type": "stream",
     "text": [
      "t_step: 10 \t, sample_time: 0.002 \tupdate_time: 0.004 \tlearn_time: 0.011 \tsum: 16.150 \tsize: 2788                        \n",
      "Episode 94\tTotal score (max over agents) this episode: 0.0\n",
      "t_step: 10 \t, sample_time: 0.001 \tupdate_time: 0.003 \tlearn_time: 0.038 \tsum: 19.710 \tsize: 2815                        "
     ]
    },
    {
     "name": "stderr",
     "output_type": "stream",
     "text": [
      "training loop:   6% |##                                        | ETA:   0:53:47\n"
     ]
    },
    {
     "name": "stdout",
     "output_type": "stream",
     "text": [
      "t_step: 10 \t, sample_time: 0.003 \tupdate_time: 0.003 \tlearn_time: 0.047 \tsum: 20.307 \tsize: 2816                        \n",
      "Episode 95\tTotal score (max over agents) this episode: 0.0\n",
      "t_step: 10 \t, sample_time: 0.002 \tupdate_time: 0.003 \tlearn_time: 0.020 \tsum: 17.663 \tsize: 2844                        "
     ]
    },
    {
     "name": "stderr",
     "output_type": "stream",
     "text": [
      "training loop:   6% |##                                        | ETA:   0:53:35\n"
     ]
    },
    {
     "name": "stdout",
     "output_type": "stream",
     "text": [
      "\n",
      "Episode 96\tTotal score (max over agents) this episode: 0.0\n",
      "t_step: 10 \t, sample_time: 0.001 \tupdate_time: 0.002 \tlearn_time: 0.013 \tsum: 17.259 \tsize: 2873                        "
     ]
    },
    {
     "name": "stderr",
     "output_type": "stream",
     "text": [
      "training loop:   6% |##                                        | ETA:   0:53:28\n"
     ]
    },
    {
     "name": "stdout",
     "output_type": "stream",
     "text": [
      "t_step: 10 \t, sample_time: 0.002 \tupdate_time: 0.003 \tlearn_time: 0.023 \tsum: 17.153 \tsize: 2874                        \n",
      "Episode 97\tTotal score (max over agents) this episode: 0.0\n",
      "t_step: 5 \t, sample_time: 0.002 \tupdate_time: 0.003 \tlearn_time: 0.027 \tsum: 18.509 \tsize: 2892                        "
     ]
    },
    {
     "name": "stderr",
     "output_type": "stream",
     "text": [
      "training loop:   6% |##                                        | ETA:   0:53:26\n"
     ]
    },
    {
     "name": "stdout",
     "output_type": "stream",
     "text": [
      "t_step: 10 \t, sample_time: 0.003 \tupdate_time: 0.003 \tlearn_time: 0.010 \tsum: 17.722 \tsize: 2902                        \n",
      "Episode 98\tTotal score (max over agents) this episode: 0.0\n",
      "t_step: 5 \t, sample_time: 0.003 \tupdate_time: 0.003 \tlearn_time: 0.011 \tsum: 17.190 \tsize: 2920                        "
     ]
    },
    {
     "name": "stderr",
     "output_type": "stream",
     "text": [
      "training loop:   6% |##                                        | ETA:   0:53:16\n"
     ]
    },
    {
     "name": "stdout",
     "output_type": "stream",
     "text": [
      "t_step: 10 \t, sample_time: 0.002 \tupdate_time: 0.004 \tlearn_time: 0.016 \tsum: 16.277 \tsize: 2930                        \n",
      "Episode 99\tTotal score (max over agents) this episode: 0.0\n",
      "t_step: 30 \t, sample_time: 0.001 \tupdate_time: 0.002 \tlearn_time: 0.014 \tsum: 17.331 \tsize: 2997                        "
     ]
    },
    {
     "name": "stderr",
     "output_type": "stream",
     "text": [
      "training loop:   6% |##                                        | ETA:   0:53:38\n"
     ]
    },
    {
     "name": "stdout",
     "output_type": "stream",
     "text": [
      "t_step: 30 \t, sample_time: 0.002 \tupdate_time: 0.003 \tlearn_time: 0.013 \tsum: 17.829 \tsize: 2998                        \n",
      "Episode 100\tTotal score (max over agents) this episode: 0.09000000171363354\n",
      "t_step: 10 \t, sample_time: 0.001 \tupdate_time: 0.002 \tlearn_time: 0.013 \tsum: 20.234 \tsize: 3019                        "
     ]
    },
    {
     "name": "stderr",
     "output_type": "stream",
     "text": [
      "training loop:   6% |##                                        | ETA:   0:53:41\n"
     ]
    },
    {
     "name": "stdout",
     "output_type": "stream",
     "text": [
      "t_step: 10 \t, sample_time: 0.002 \tupdate_time: 0.004 \tlearn_time: 0.030 \tsum: 20.342 \tsize: 3020                        \n",
      "Episode 101\tTotal score (max over agents) this episode: 0.0\n",
      "t_step: 25 \t, sample_time: 0.003 \tupdate_time: 0.003 \tlearn_time: 0.012 \tsum: 19.458 \tsize: 3078                        "
     ]
    },
    {
     "name": "stderr",
     "output_type": "stream",
     "text": [
      "training loop:   6% |##                                        | ETA:   0:54:02\n"
     ]
    },
    {
     "name": "stdout",
     "output_type": "stream",
     "text": [
      "t_step: 30 \t, sample_time: 0.002 \tupdate_time: 0.003 \tlearn_time: 0.009 \tsum: 19.192 \tsize: 3088                        \n",
      "Episode 102\tTotal score (max over agents) this episode: 0.10000000149011612\n",
      "t_step: 10 \t, sample_time: 0.002 \tupdate_time: 0.003 \tlearn_time: 0.011 \tsum: 22.343 \tsize: 3114                        "
     ]
    },
    {
     "name": "stderr",
     "output_type": "stream",
     "text": [
      "training loop:   6% |##                                        | ETA:   0:53:54\n"
     ]
    },
    {
     "name": "stdout",
     "output_type": "stream",
     "text": [
      "\n",
      "Episode 103\tTotal score (max over agents) this episode: 0.0\n",
      "t_step: 30 \t, sample_time: 0.002 \tupdate_time: 0.004 \tlearn_time: 0.016 \tsum: 21.667 \tsize: 3182                        "
     ]
    },
    {
     "name": "stderr",
     "output_type": "stream",
     "text": [
      "training loop:   6% |##                                        | ETA:   0:54:11\n"
     ]
    },
    {
     "name": "stdout",
     "output_type": "stream",
     "text": [
      "\n",
      "Episode 104\tTotal score (max over agents) this episode: 0.0\n",
      "t_step: 5 \t, sample_time: 0.003 \tupdate_time: 0.004 \tlearn_time: 0.022 \tsum: 20.947 \tsize: 3198                        "
     ]
    },
    {
     "name": "stderr",
     "output_type": "stream",
     "text": [
      "training loop:   7% |##                                        | ETA:   0:54:04\n"
     ]
    },
    {
     "name": "stdout",
     "output_type": "stream",
     "text": [
      "t_step: 10 \t, sample_time: 0.002 \tupdate_time: 0.002 \tlearn_time: 0.013 \tsum: 20.906 \tsize: 3208                        \n",
      "Episode 105\tTotal score (max over agents) this episode: 0.0\n",
      "t_step: 30 \t, sample_time: 0.002 \tupdate_time: 0.007 \tlearn_time: 0.028 \tsum: 20.577 \tsize: 3275                        "
     ]
    },
    {
     "name": "stderr",
     "output_type": "stream",
     "text": [
      "training loop:   7% |##                                        | ETA:   0:54:25\n"
     ]
    },
    {
     "name": "stdout",
     "output_type": "stream",
     "text": [
      "t_step: 30 \t, sample_time: 0.002 \tupdate_time: 0.003 \tlearn_time: 0.014 \tsum: 20.373 \tsize: 3276                        \n",
      "Episode 106\tTotal score (max over agents) this episode: 0.10000000149011612\n",
      "t_step: 5 \t, sample_time: 0.002 \tupdate_time: 0.003 \tlearn_time: 0.022 \tsum: 20.988 \tsize: 3292                        "
     ]
    },
    {
     "name": "stderr",
     "output_type": "stream",
     "text": [
      "training loop:   7% |##                                        | ETA:   0:54:14\n"
     ]
    },
    {
     "name": "stdout",
     "output_type": "stream",
     "text": [
      "t_step: 10 \t, sample_time: 0.002 \tupdate_time: 0.003 \tlearn_time: 0.021 \tsum: 21.341 \tsize: 3302                        \n",
      "Episode 107\tTotal score (max over agents) this episode: 0.0\n",
      "t_step: 5 \t, sample_time: 0.002 \tupdate_time: 0.003 \tlearn_time: 0.015 \tsum: 21.414 \tsize: 3322                        "
     ]
    },
    {
     "name": "stderr",
     "output_type": "stream",
     "text": [
      "training loop:   7% |###                                       | ETA:   0:54:01\n"
     ]
    },
    {
     "name": "stdout",
     "output_type": "stream",
     "text": [
      "t_step: 10 \t, sample_time: 0.003 \tupdate_time: 0.004 \tlearn_time: 0.013 \tsum: 21.431 \tsize: 3332                        \n",
      "Episode 108\tTotal score (max over agents) this episode: 0.0\n",
      "t_step: 5 \t, sample_time: 0.002 \tupdate_time: 0.008 \tlearn_time: 0.032 \tsum: 20.431 \tsize: 3350                        "
     ]
    },
    {
     "name": "stderr",
     "output_type": "stream",
     "text": [
      "training loop:   7% |###                                       | ETA:   0:53:50\n"
     ]
    },
    {
     "name": "stdout",
     "output_type": "stream",
     "text": [
      "t_step: 10 \t, sample_time: 0.003 \tupdate_time: 0.007 \tlearn_time: 0.017 \tsum: 20.767 \tsize: 3360                        \n",
      "Episode 109\tTotal score (max over agents) this episode: 0.0\n",
      "t_step: 10 \t, sample_time: 0.002 \tupdate_time: 0.002 \tlearn_time: 0.038 \tsum: 20.569 \tsize: 3388                        "
     ]
    },
    {
     "name": "stderr",
     "output_type": "stream",
     "text": [
      "training loop:   7% |###                                       | ETA:   0:53:45\n"
     ]
    },
    {
     "name": "stdout",
     "output_type": "stream",
     "text": [
      "\n",
      "Episode 110\tTotal score (max over agents) this episode: 0.0\n",
      "t_step: 10 \t, sample_time: 0.002 \tupdate_time: 0.009 \tlearn_time: 0.020 \tsum: 21.920 \tsize: 3415                        "
     ]
    },
    {
     "name": "stderr",
     "output_type": "stream",
     "text": [
      "training loop:   7% |###                                       | ETA:   0:53:41\n"
     ]
    },
    {
     "name": "stdout",
     "output_type": "stream",
     "text": [
      "t_step: 10 \t, sample_time: 0.002 \tupdate_time: 0.004 \tlearn_time: 0.016 \tsum: 21.769 \tsize: 3416                        \n",
      "Episode 111\tTotal score (max over agents) this episode: 0.0\n",
      "t_step: 10 \t, sample_time: 0.002 \tupdate_time: 0.006 \tlearn_time: 0.014 \tsum: 21.594 \tsize: 3443                        "
     ]
    },
    {
     "name": "stderr",
     "output_type": "stream",
     "text": [
      "training loop:   7% |###                                       | ETA:   0:53:37\n"
     ]
    },
    {
     "name": "stdout",
     "output_type": "stream",
     "text": [
      "t_step: 10 \t, sample_time: 0.001 \tupdate_time: 0.004 \tlearn_time: 0.020 \tsum: 21.257 \tsize: 3444                        \n",
      "Episode 112\tTotal score (max over agents) this episode: 0.0\n",
      "t_step: 5 \t, sample_time: 0.001 \tupdate_time: 0.002 \tlearn_time: 0.014 \tsum: 21.351 \tsize: 3464                        "
     ]
    },
    {
     "name": "stderr",
     "output_type": "stream",
     "text": [
      "training loop:   7% |###                                       | ETA:   0:53:28\n"
     ]
    },
    {
     "name": "stdout",
     "output_type": "stream",
     "text": [
      "t_step: 10 \t, sample_time: 0.003 \tupdate_time: 0.004 \tlearn_time: 0.015 \tsum: 20.479 \tsize: 3474                        \n",
      "Episode 113\tTotal score (max over agents) this episode: 0.0\n",
      "t_step: 5 \t, sample_time: 0.001 \tupdate_time: 0.003 \tlearn_time: 0.040 \tsum: 21.558 \tsize: 3492                        "
     ]
    },
    {
     "name": "stderr",
     "output_type": "stream",
     "text": [
      "training loop:   7% |###                                       | ETA:   0:53:20\n"
     ]
    },
    {
     "name": "stdout",
     "output_type": "stream",
     "text": [
      "t_step: 10 \t, sample_time: 0.003 \tupdate_time: 0.003 \tlearn_time: 0.009 \tsum: 21.437 \tsize: 3502                        \n",
      "Episode 114\tTotal score (max over agents) this episode: 0.0\n",
      "t_step: 10 \t, sample_time: 0.003 \tupdate_time: 0.002 \tlearn_time: 0.010 \tsum: 21.615 \tsize: 3529                        "
     ]
    },
    {
     "name": "stderr",
     "output_type": "stream",
     "text": [
      "training loop:   7% |###                                       | ETA:   0:53:12\n"
     ]
    },
    {
     "name": "stdout",
     "output_type": "stream",
     "text": [
      "t_step: 10 \t, sample_time: 0.003 \tupdate_time: 0.004 \tlearn_time: 0.017 \tsum: 22.257 \tsize: 3530                        \n",
      "Episode 115\tTotal score (max over agents) this episode: 0.0\n",
      "t_step: 5 \t, sample_time: 0.003 \tupdate_time: 0.004 \tlearn_time: 0.020 \tsum: 21.502 \tsize: 3548                        "
     ]
    },
    {
     "name": "stderr",
     "output_type": "stream",
     "text": [
      "training loop:   7% |###                                       | ETA:   0:53:04\n"
     ]
    },
    {
     "name": "stdout",
     "output_type": "stream",
     "text": [
      "t_step: 10 \t, sample_time: 0.001 \tupdate_time: 0.003 \tlearn_time: 0.008 \tsum: 22.104 \tsize: 3558                        \n",
      "Episode 116\tTotal score (max over agents) this episode: 0.0\n",
      "t_step: 10 \t, sample_time: 0.002 \tupdate_time: 0.004 \tlearn_time: 0.022 \tsum: 24.297 \tsize: 3585                        "
     ]
    },
    {
     "name": "stderr",
     "output_type": "stream",
     "text": [
      "training loop:   7% |###                                       | ETA:   0:53:03\n"
     ]
    },
    {
     "name": "stdout",
     "output_type": "stream",
     "text": [
      "t_step: 10 \t, sample_time: 0.003 \tupdate_time: 0.004 \tlearn_time: 0.022 \tsum: 23.919 \tsize: 3586                        \n",
      "Episode 117\tTotal score (max over agents) this episode: 0.0\n",
      "t_step: 10 \t, sample_time: 0.003 \tupdate_time: 0.004 \tlearn_time: 0.012 \tsum: 24.235 \tsize: 3615                        "
     ]
    },
    {
     "name": "stderr",
     "output_type": "stream",
     "text": [
      "training loop:   7% |###                                       | ETA:   0:53:00\n"
     ]
    },
    {
     "name": "stdout",
     "output_type": "stream",
     "text": [
      "t_step: 10 \t, sample_time: 0.002 \tupdate_time: 0.004 \tlearn_time: 0.019 \tsum: 24.236 \tsize: 3616                        \n",
      "Episode 118\tTotal score (max over agents) this episode: 0.0\n",
      "t_step: 5 \t, sample_time: 0.002 \tupdate_time: 0.003 \tlearn_time: 0.010 \tsum: 23.815 \tsize: 3634                        "
     ]
    },
    {
     "name": "stderr",
     "output_type": "stream",
     "text": [
      "training loop:   7% |###                                       | ETA:   0:52:54\n"
     ]
    },
    {
     "name": "stdout",
     "output_type": "stream",
     "text": [
      "t_step: 10 \t, sample_time: 0.002 \tupdate_time: 0.002 \tlearn_time: 0.010 \tsum: 23.997 \tsize: 3644                        \n",
      "Episode 119\tTotal score (max over agents) this episode: 0.0\n",
      "t_step: 5 \t, sample_time: 0.002 \tupdate_time: 0.003 \tlearn_time: 0.008 \tsum: 23.651 \tsize: 3662                        "
     ]
    },
    {
     "name": "stderr",
     "output_type": "stream",
     "text": [
      "training loop:   8% |###                                       | ETA:   0:52:47\n"
     ]
    },
    {
     "name": "stdout",
     "output_type": "stream",
     "text": [
      "t_step: 10 \t, sample_time: 0.002 \tupdate_time: 0.004 \tlearn_time: 0.018 \tsum: 22.655 \tsize: 3672                        \n",
      "Episode 120\tTotal score (max over agents) this episode: 0.0\n",
      "t_step: 10 \t, sample_time: 0.002 \tupdate_time: 0.004 \tlearn_time: 0.015 \tsum: 23.459 \tsize: 3699                        "
     ]
    },
    {
     "name": "stderr",
     "output_type": "stream",
     "text": [
      "training loop:   8% |###                                       | ETA:   0:52:39\n"
     ]
    },
    {
     "name": "stdout",
     "output_type": "stream",
     "text": [
      "t_step: 10 \t, sample_time: 0.001 \tupdate_time: 0.003 \tlearn_time: 0.018 \tsum: 23.130 \tsize: 3700                        \n",
      "Episode 121\tTotal score (max over agents) this episode: 0.0\n",
      "t_step: 10 \t, sample_time: 0.002 \tupdate_time: 0.003 \tlearn_time: 0.010 \tsum: 22.840 \tsize: 3728                        "
     ]
    },
    {
     "name": "stderr",
     "output_type": "stream",
     "text": [
      "training loop:   8% |###                                       | ETA:   0:52:36\n"
     ]
    },
    {
     "name": "stdout",
     "output_type": "stream",
     "text": [
      "\n",
      "Episode 122\tTotal score (max over agents) this episode: 0.0\n",
      "t_step: 5 \t, sample_time: 0.002 \tupdate_time: 0.004 \tlearn_time: 0.029 \tsum: 23.196 \tsize: 3748                        "
     ]
    },
    {
     "name": "stderr",
     "output_type": "stream",
     "text": [
      "training loop:   8% |###                                       | ETA:   0:52:29\n"
     ]
    },
    {
     "name": "stdout",
     "output_type": "stream",
     "text": [
      "t_step: 10 \t, sample_time: 0.001 \tupdate_time: 0.003 \tlearn_time: 0.009 \tsum: 22.299 \tsize: 3758                        \n",
      "Episode 123\tTotal score (max over agents) this episode: 0.0\n",
      "t_step: 10 \t, sample_time: 0.002 \tupdate_time: 0.003 \tlearn_time: 0.015 \tsum: 22.071 \tsize: 3786                        "
     ]
    },
    {
     "name": "stderr",
     "output_type": "stream",
     "text": [
      "training loop:   8% |###                                       | ETA:   0:52:27\n"
     ]
    },
    {
     "name": "stdout",
     "output_type": "stream",
     "text": [
      "\n",
      "Episode 124\tTotal score (max over agents) this episode: 0.0\n",
      "t_step: 10 \t, sample_time: 0.003 \tupdate_time: 0.003 \tlearn_time: 0.017 \tsum: 23.901 \tsize: 3814                        "
     ]
    },
    {
     "name": "stderr",
     "output_type": "stream",
     "text": [
      "training loop:   8% |###                                       | ETA:   0:52:21\n"
     ]
    },
    {
     "name": "stdout",
     "output_type": "stream",
     "text": [
      "\n",
      "Episode 125\tTotal score (max over agents) this episode: 0.0\n",
      "t_step: 5 \t, sample_time: 0.011 \tupdate_time: 0.005 \tlearn_time: 0.036 \tsum: 24.388 \tsize: 3832                        "
     ]
    },
    {
     "name": "stderr",
     "output_type": "stream",
     "text": [
      "training loop:   8% |###                                       | ETA:   0:52:16\n"
     ]
    },
    {
     "name": "stdout",
     "output_type": "stream",
     "text": [
      "t_step: 10 \t, sample_time: 0.002 \tupdate_time: 0.003 \tlearn_time: 0.010 \tsum: 25.433 \tsize: 3842                        \n",
      "Episode 126\tTotal score (max over agents) this episode: 0.0\n",
      "t_step: 10 \t, sample_time: 0.002 \tupdate_time: 0.003 \tlearn_time: 0.019 \tsum: 23.694 \tsize: 3869                        "
     ]
    },
    {
     "name": "stderr",
     "output_type": "stream",
     "text": [
      "training loop:   8% |###                                       | ETA:   0:52:09\n"
     ]
    },
    {
     "name": "stdout",
     "output_type": "stream",
     "text": [
      "t_step: 10 \t, sample_time: 0.006 \tupdate_time: 0.002 \tlearn_time: 0.012 \tsum: 23.246 \tsize: 3870                        \n",
      "Episode 127\tTotal score (max over agents) this episode: 0.0\n",
      "t_step: 5 \t, sample_time: 0.003 \tupdate_time: 0.005 \tlearn_time: 0.055 \tsum: 23.390 \tsize: 3890                        "
     ]
    },
    {
     "name": "stderr",
     "output_type": "stream",
     "text": [
      "training loop:   8% |###                                       | ETA:   0:52:11\n"
     ]
    },
    {
     "name": "stdout",
     "output_type": "stream",
     "text": [
      "t_step: 10 \t, sample_time: 0.002 \tupdate_time: 0.002 \tlearn_time: 0.013 \tsum: 23.563 \tsize: 3900                        \n",
      "Episode 128\tTotal score (max over agents) this episode: 0.0\n",
      "t_step: 10 \t, sample_time: 0.002 \tupdate_time: 0.003 \tlearn_time: 0.011 \tsum: 22.790 \tsize: 3928                        "
     ]
    },
    {
     "name": "stderr",
     "output_type": "stream",
     "text": [
      "training loop:   8% |###                                       | ETA:   0:52:03\n"
     ]
    },
    {
     "name": "stdout",
     "output_type": "stream",
     "text": [
      "\n",
      "Episode 129\tTotal score (max over agents) this episode: 0.0\n",
      "t_step: 10 \t, sample_time: 0.002 \tupdate_time: 0.004 \tlearn_time: 0.019 \tsum: 24.019 \tsize: 3955                        "
     ]
    },
    {
     "name": "stderr",
     "output_type": "stream",
     "text": [
      "training loop:   8% |###                                       | ETA:   0:51:58\n"
     ]
    },
    {
     "name": "stdout",
     "output_type": "stream",
     "text": [
      "t_step: 10 \t, sample_time: 0.002 \tupdate_time: 0.004 \tlearn_time: 0.027 \tsum: 23.423 \tsize: 3956                        \n",
      "Episode 130\tTotal score (max over agents) this episode: 0.0\n",
      "t_step: 10 \t, sample_time: 0.004 \tupdate_time: 0.003 \tlearn_time: 0.011 \tsum: 23.353 \tsize: 3984                        "
     ]
    },
    {
     "name": "stderr",
     "output_type": "stream",
     "text": [
      "training loop:   8% |###                                       | ETA:   0:51:49\n"
     ]
    },
    {
     "name": "stdout",
     "output_type": "stream",
     "text": [
      "\n",
      "Episode 131\tTotal score (max over agents) this episode: 0.0\n",
      "t_step: 5 \t, sample_time: 0.002 \tupdate_time: 0.003 \tlearn_time: 0.009 \tsum: 26.256 \tsize: 4002                        "
     ]
    },
    {
     "name": "stderr",
     "output_type": "stream",
     "text": [
      "training loop:   8% |###                                       | ETA:   0:51:46\n"
     ]
    },
    {
     "name": "stdout",
     "output_type": "stream",
     "text": [
      "t_step: 10 \t, sample_time: 0.001 \tupdate_time: 0.002 \tlearn_time: 0.013 \tsum: 27.197 \tsize: 4012                        \n",
      "Episode 132\tTotal score (max over agents) this episode: 0.0\n",
      "t_step: 10 \t, sample_time: 0.002 \tupdate_time: 0.004 \tlearn_time: 0.011 \tsum: 25.318 \tsize: 4041                        "
     ]
    },
    {
     "name": "stderr",
     "output_type": "stream",
     "text": [
      "training loop:   8% |###                                       | ETA:   0:51:47\n"
     ]
    },
    {
     "name": "stdout",
     "output_type": "stream",
     "text": [
      "t_step: 10 \t, sample_time: 0.002 \tupdate_time: 0.003 \tlearn_time: 0.084 \tsum: 25.001 \tsize: 4042                        \n",
      "Episode 133\tTotal score (max over agents) this episode: 0.0\n",
      "t_step: 10 \t, sample_time: 0.002 \tupdate_time: 0.005 \tlearn_time: 0.026 \tsum: 26.287 \tsize: 4069                        "
     ]
    },
    {
     "name": "stderr",
     "output_type": "stream",
     "text": [
      "training loop:   8% |###                                       | ETA:   0:51:43\n"
     ]
    },
    {
     "name": "stdout",
     "output_type": "stream",
     "text": [
      "t_step: 10 \t, sample_time: 0.001 \tupdate_time: 0.003 \tlearn_time: 0.020 \tsum: 25.525 \tsize: 4070                        \n",
      "Episode 134\tTotal score (max over agents) this episode: 0.0\n",
      "t_step: 10 \t, sample_time: 0.002 \tupdate_time: 0.003 \tlearn_time: 0.024 \tsum: 23.864 \tsize: 4097                        "
     ]
    },
    {
     "name": "stderr",
     "output_type": "stream",
     "text": [
      "training loop:   9% |###                                       | ETA:   0:51:38\n"
     ]
    },
    {
     "name": "stdout",
     "output_type": "stream",
     "text": [
      "t_step: 10 \t, sample_time: 0.002 \tupdate_time: 0.003 \tlearn_time: 0.054 \tsum: 24.307 \tsize: 4098                        \n",
      "Episode 135\tTotal score (max over agents) this episode: 0.0\n",
      "t_step: 10 \t, sample_time: 0.002 \tupdate_time: 0.003 \tlearn_time: 0.018 \tsum: 22.992 \tsize: 4126                        "
     ]
    },
    {
     "name": "stderr",
     "output_type": "stream",
     "text": [
      "training loop:   9% |###                                       | ETA:   0:51:40\n"
     ]
    },
    {
     "name": "stdout",
     "output_type": "stream",
     "text": [
      "\n",
      "Episode 136\tTotal score (max over agents) this episode: 0.0\n",
      "t_step: 10 \t, sample_time: 0.002 \tupdate_time: 0.003 \tlearn_time: 0.010 \tsum: 26.417 \tsize: 4153                        "
     ]
    },
    {
     "name": "stderr",
     "output_type": "stream",
     "text": [
      "training loop:   9% |###                                       | ETA:   0:51:34\n"
     ]
    },
    {
     "name": "stdout",
     "output_type": "stream",
     "text": [
      "t_step: 10 \t, sample_time: 0.002 \tupdate_time: 0.004 \tlearn_time: 0.063 \tsum: 26.105 \tsize: 4154                        \n",
      "Episode 137\tTotal score (max over agents) this episode: 0.0\n",
      "t_step: 40 \t, sample_time: 0.001 \tupdate_time: 0.003 \tlearn_time: 0.014 \tsum: 27.554 \tsize: 4244                        "
     ]
    },
    {
     "name": "stderr",
     "output_type": "stream",
     "text": [
      "training loop:   9% |###                                       | ETA:   0:52:04\n"
     ]
    },
    {
     "name": "stdout",
     "output_type": "stream",
     "text": [
      "t_step: 45 \t, sample_time: 0.003 \tupdate_time: 0.003 \tlearn_time: 0.009 \tsum: 26.545 \tsize: 4254                        \n",
      "Episode 138\tTotal score (max over agents) this episode: 0.10000000149011612\n",
      "t_step: 10 \t, sample_time: 0.001 \tupdate_time: 0.003 \tlearn_time: 0.010 \tsum: 26.781 \tsize: 4280                        "
     ]
    },
    {
     "name": "stderr",
     "output_type": "stream",
     "text": [
      "training loop:   9% |###                                       | ETA:   0:51:56\n"
     ]
    },
    {
     "name": "stdout",
     "output_type": "stream",
     "text": [
      "\n",
      "Episode 139\tTotal score (max over agents) this episode: 0.0\n",
      "t_step: 10 \t, sample_time: 0.002 \tupdate_time: 0.004 \tlearn_time: 0.014 \tsum: 27.379 \tsize: 4307                        "
     ]
    },
    {
     "name": "stderr",
     "output_type": "stream",
     "text": [
      "training loop:   9% |###                                       | ETA:   0:51:56\n"
     ]
    },
    {
     "name": "stdout",
     "output_type": "stream",
     "text": [
      "t_step: 10 \t, sample_time: 0.002 \tupdate_time: 0.007 \tlearn_time: 0.021 \tsum: 27.135 \tsize: 4308                        \n",
      "Episode 140\tTotal score (max over agents) this episode: 0.0\n",
      "t_step: 65 \t, sample_time: 0.003 \tupdate_time: 0.004 \tlearn_time: 0.016 \tsum: 31.863 \tsize: 4445                        "
     ]
    },
    {
     "name": "stderr",
     "output_type": "stream",
     "text": [
      "training loop:   9% |###                                       | ETA:   0:52:56\n"
     ]
    },
    {
     "name": "stdout",
     "output_type": "stream",
     "text": [
      "t_step: 65 \t, sample_time: 0.002 \tupdate_time: 0.004 \tlearn_time: 0.011 \tsum: 31.969 \tsize: 4446                        \n",
      "Episode 141\tTotal score (max over agents) this episode: 0.10000000149011612\n",
      "t_step: 140 \t, sample_time: 0.005 \tupdate_time: 0.004 \tlearn_time: 0.020 \tsum: 34.602 \tsize: 4734                                               "
     ]
    },
    {
     "name": "stderr",
     "output_type": "stream",
     "text": [
      "training loop:   9% |###                                       | ETA:   0:55:09\n"
     ]
    },
    {
     "name": "stdout",
     "output_type": "stream",
     "text": [
      "t_step: 145 \t, sample_time: 0.002 \tupdate_time: 0.003 \tlearn_time: 0.019 \tsum: 34.752 \tsize: 4744                        \n",
      "Episode 142\tTotal score (max over agents) this episode: 0.4000000059604645\n",
      "\n",
      "Environment improved in 142 episodes!\tAverage Score: 0.01\n",
      "t_step: 10 \t, sample_time: 0.002 \tupdate_time: 0.003 \tlearn_time: 0.027 \tsum: 35.887 \tsize: 4768                        "
     ]
    },
    {
     "name": "stderr",
     "output_type": "stream",
     "text": [
      "training loop:   9% |####                                      | ETA:   0:55:03\n"
     ]
    },
    {
     "name": "stdout",
     "output_type": "stream",
     "text": [
      "\n",
      "Episode 143\tTotal score (max over agents) this episode: 0.0\n",
      "t_step: 10 \t, sample_time: 0.002 \tupdate_time: 0.003 \tlearn_time: 0.046 \tsum: 36.247 \tsize: 4796                        "
     ]
    },
    {
     "name": "stderr",
     "output_type": "stream",
     "text": [
      "training loop:   9% |####                                      | ETA:   0:55:08\n"
     ]
    },
    {
     "name": "stdout",
     "output_type": "stream",
     "text": [
      "t_step: 15 \t, sample_time: 0.002 \tupdate_time: 0.005 \tlearn_time: 0.015 \tsum: 36.679 \tsize: 4806                        \n",
      "Episode 144\tTotal score (max over agents) this episode: 0.0\n",
      "t_step: 50 \t, sample_time: 0.002 \tupdate_time: 0.003 \tlearn_time: 0.014 \tsum: 36.593 \tsize: 4909                        "
     ]
    },
    {
     "name": "stderr",
     "output_type": "stream",
     "text": [
      "training loop:   9% |####                                      | ETA:   0:55:44\n"
     ]
    },
    {
     "name": "stdout",
     "output_type": "stream",
     "text": [
      "t_step: 50 \t, sample_time: 0.003 \tupdate_time: 0.003 \tlearn_time: 0.032 \tsum: 37.352 \tsize: 4910                        \n",
      "Episode 145\tTotal score (max over agents) this episode: 0.10000000149011612\n",
      "t_step: 15 \t, sample_time: 0.002 \tupdate_time: 0.003 \tlearn_time: 0.147 \tsum: 36.765 \tsize: 4945                        "
     ]
    },
    {
     "name": "stderr",
     "output_type": "stream",
     "text": [
      "training loop:   9% |####                                      | ETA:   0:55:45\n"
     ]
    },
    {
     "name": "stdout",
     "output_type": "stream",
     "text": [
      "t_step: 15 \t, sample_time: 0.002 \tupdate_time: 0.004 \tlearn_time: 0.045 \tsum: 36.297 \tsize: 4946                        \n",
      "Episode 146\tTotal score (max over agents) this episode: 0.0\n",
      "t_step: 10 \t, sample_time: 0.002 \tupdate_time: 0.004 \tlearn_time: 0.017 \tsum: 39.952 \tsize: 4974                        "
     ]
    },
    {
     "name": "stderr",
     "output_type": "stream",
     "text": [
      "training loop:   9% |####                                      | ETA:   0:55:37\n"
     ]
    },
    {
     "name": "stdout",
     "output_type": "stream",
     "text": [
      "\n",
      "Episode 147\tTotal score (max over agents) this episode: 0.0\n",
      "t_step: 10 \t, sample_time: 0.005 \tupdate_time: 0.004 \tlearn_time: 0.033 \tsum: 37.915 \tsize: 5001                        "
     ]
    },
    {
     "name": "stderr",
     "output_type": "stream",
     "text": [
      "training loop:   9% |####                                      | ETA:   0:55:30\n"
     ]
    },
    {
     "name": "stdout",
     "output_type": "stream",
     "text": [
      "t_step: 10 \t, sample_time: 0.002 \tupdate_time: 0.005 \tlearn_time: 0.031 \tsum: 37.464 \tsize: 5002                        \n",
      "Episode 148\tTotal score (max over agents) this episode: 0.0\n",
      "t_step: 10 \t, sample_time: 0.002 \tupdate_time: 0.004 \tlearn_time: 0.027 \tsum: 38.059 \tsize: 5029                        "
     ]
    },
    {
     "name": "stderr",
     "output_type": "stream",
     "text": [
      "training loop:   9% |####                                      | ETA:   0:55:29\n"
     ]
    },
    {
     "name": "stdout",
     "output_type": "stream",
     "text": [
      "t_step: 10 \t, sample_time: 0.003 \tupdate_time: 0.004 \tlearn_time: 0.090 \tsum: 37.752 \tsize: 5030                        \n",
      "Episode 149\tTotal score (max over agents) this episode: 0.0\n",
      "t_step: 25 \t, sample_time: 0.002 \tupdate_time: 0.003 \tlearn_time: 0.011 \tsum: 36.372 \tsize: 5088                        "
     ]
    },
    {
     "name": "stderr",
     "output_type": "stream",
     "text": [
      "training loop:  10% |####                                      | ETA:   0:55:36\n"
     ]
    },
    {
     "name": "stdout",
     "output_type": "stream",
     "text": [
      "t_step: 30 \t, sample_time: 0.002 \tupdate_time: 0.003 \tlearn_time: 0.010 \tsum: 36.831 \tsize: 5098                        \n",
      "Episode 150\tTotal score (max over agents) this episode: 0.0\n",
      "t_step: 10 \t, sample_time: 0.001 \tupdate_time: 0.003 \tlearn_time: 0.017 \tsum: 36.091 \tsize: 5121                        "
     ]
    },
    {
     "name": "stderr",
     "output_type": "stream",
     "text": [
      "training loop:  10% |####                                      | ETA:   0:55:30\n"
     ]
    },
    {
     "name": "stdout",
     "output_type": "stream",
     "text": [
      "t_step: 10 \t, sample_time: 0.002 \tupdate_time: 0.002 \tlearn_time: 0.009 \tsum: 36.600 \tsize: 5122                        \n",
      "Episode 151\tTotal score (max over agents) this episode: 0.0\n",
      "t_step: 10 \t, sample_time: 0.002 \tupdate_time: 0.003 \tlearn_time: 0.013 \tsum: 38.479 \tsize: 5149                        "
     ]
    },
    {
     "name": "stderr",
     "output_type": "stream",
     "text": [
      "training loop:  10% |####                                      | ETA:   0:55:25\n"
     ]
    },
    {
     "name": "stdout",
     "output_type": "stream",
     "text": [
      "t_step: 10 \t, sample_time: 0.003 \tupdate_time: 0.003 \tlearn_time: 0.018 \tsum: 37.987 \tsize: 5150                        \n",
      "Episode 152\tTotal score (max over agents) this episode: 0.0\n",
      "t_step: 10 \t, sample_time: 0.003 \tupdate_time: 0.003 \tlearn_time: 0.013 \tsum: 37.194 \tsize: 5177                        "
     ]
    },
    {
     "name": "stderr",
     "output_type": "stream",
     "text": [
      "training loop:  10% |####                                      | ETA:   0:55:16\n"
     ]
    },
    {
     "name": "stdout",
     "output_type": "stream",
     "text": [
      "t_step: 10 \t, sample_time: 0.004 \tupdate_time: 0.003 \tlearn_time: 0.010 \tsum: 36.921 \tsize: 5178                        \n",
      "Episode 153\tTotal score (max over agents) this episode: 0.0\n",
      "t_step: 10 \t, sample_time: 0.002 \tupdate_time: 0.003 \tlearn_time: 0.011 \tsum: 39.057 \tsize: 5205                        "
     ]
    },
    {
     "name": "stderr",
     "output_type": "stream",
     "text": [
      "training loop:  10% |####                                      | ETA:   0:55:08\n"
     ]
    },
    {
     "name": "stdout",
     "output_type": "stream",
     "text": [
      "t_step: 10 \t, sample_time: 0.004 \tupdate_time: 0.004 \tlearn_time: 0.037 \tsum: 39.126 \tsize: 5206                        \n",
      "Episode 154\tTotal score (max over agents) this episode: 0.0\n",
      "t_step: 10 \t, sample_time: 0.002 \tupdate_time: 0.003 \tlearn_time: 0.020 \tsum: 39.096 \tsize: 5234                        "
     ]
    },
    {
     "name": "stderr",
     "output_type": "stream",
     "text": [
      "training loop:  10% |####                                      | ETA:   0:55:03\n"
     ]
    },
    {
     "name": "stdout",
     "output_type": "stream",
     "text": [
      "\n",
      "Episode 155\tTotal score (max over agents) this episode: 0.0\n",
      "t_step: 20 \t, sample_time: 0.002 \tupdate_time: 0.002 \tlearn_time: 0.011 \tsum: 38.483 \tsize: 5284                        "
     ]
    },
    {
     "name": "stderr",
     "output_type": "stream",
     "text": [
      "training loop:  10% |####                                      | ETA:   0:55:10\n"
     ]
    },
    {
     "name": "stdout",
     "output_type": "stream",
     "text": [
      "t_step: 25 \t, sample_time: 0.002 \tupdate_time: 0.004 \tlearn_time: 0.012 \tsum: 39.574 \tsize: 5294                        \n",
      "Episode 156\tTotal score (max over agents) this episode: 0.09000000171363354\n",
      "t_step: 10 \t, sample_time: 0.003 \tupdate_time: 0.005 \tlearn_time: 0.068 \tsum: 39.485 \tsize: 5321                        "
     ]
    },
    {
     "name": "stderr",
     "output_type": "stream",
     "text": [
      "training loop:  10% |####                                      | ETA:   0:55:04\n"
     ]
    },
    {
     "name": "stdout",
     "output_type": "stream",
     "text": [
      "t_step: 10 \t, sample_time: 0.004 \tupdate_time: 0.005 \tlearn_time: 0.094 \tsum: 39.104 \tsize: 5322                        \n",
      "Episode 157\tTotal score (max over agents) this episode: 0.0\n",
      "t_step: 25 \t, sample_time: 0.014 \tupdate_time: 0.003 \tlearn_time: 0.029 \tsum: 41.025 \tsize: 5381                        "
     ]
    },
    {
     "name": "stderr",
     "output_type": "stream",
     "text": [
      "training loop:  10% |####                                      | ETA:   0:55:12\n"
     ]
    },
    {
     "name": "stdout",
     "output_type": "stream",
     "text": [
      "t_step: 25 \t, sample_time: 0.003 \tupdate_time: 0.003 \tlearn_time: 0.015 \tsum: 41.747 \tsize: 5382                        \n",
      "Episode 158\tTotal score (max over agents) this episode: 0.0\n",
      "t_step: 10 \t, sample_time: 0.002 \tupdate_time: 0.017 \tlearn_time: 0.036 \tsum: 41.845 \tsize: 5409                        "
     ]
    },
    {
     "name": "stderr",
     "output_type": "stream",
     "text": [
      "training loop:  10% |####                                      | ETA:   0:55:07\n"
     ]
    },
    {
     "name": "stdout",
     "output_type": "stream",
     "text": [
      "t_step: 10 \t, sample_time: 0.002 \tupdate_time: 0.005 \tlearn_time: 0.070 \tsum: 41.689 \tsize: 5410                        \n",
      "Episode 159\tTotal score (max over agents) this episode: 0.0\n",
      "t_step: 10 \t, sample_time: 0.002 \tupdate_time: 0.002 \tlearn_time: 0.011 \tsum: 41.459 \tsize: 5439                        "
     ]
    },
    {
     "name": "stderr",
     "output_type": "stream",
     "text": [
      "training loop:  10% |####                                      | ETA:   0:54:59\n"
     ]
    },
    {
     "name": "stdout",
     "output_type": "stream",
     "text": [
      "t_step: 10 \t, sample_time: 0.006 \tupdate_time: 0.003 \tlearn_time: 0.014 \tsum: 41.389 \tsize: 5440                        \n",
      "Episode 160\tTotal score (max over agents) this episode: 0.0\n",
      "t_step: 10 \t, sample_time: 0.002 \tupdate_time: 0.003 \tlearn_time: 0.014 \tsum: 42.329 \tsize: 5468                        "
     ]
    },
    {
     "name": "stderr",
     "output_type": "stream",
     "text": [
      "training loop:  10% |####                                      | ETA:   0:54:50\n"
     ]
    },
    {
     "name": "stdout",
     "output_type": "stream",
     "text": [
      "\n",
      "Episode 161\tTotal score (max over agents) this episode: 0.0\n",
      "t_step: 10 \t, sample_time: 0.002 \tupdate_time: 0.005 \tlearn_time: 0.028 \tsum: 44.407 \tsize: 5497                        "
     ]
    },
    {
     "name": "stderr",
     "output_type": "stream",
     "text": [
      "training loop:  10% |####                                      | ETA:   0:54:43\n"
     ]
    },
    {
     "name": "stdout",
     "output_type": "stream",
     "text": [
      "t_step: 10 \t, sample_time: 0.002 \tupdate_time: 0.003 \tlearn_time: 0.022 \tsum: 43.764 \tsize: 5498                        \n",
      "Episode 162\tTotal score (max over agents) this episode: 0.0\n",
      "t_step: 5 \t, sample_time: 0.002 \tupdate_time: 0.003 \tlearn_time: 0.012 \tsum: 43.470 \tsize: 5516                        "
     ]
    },
    {
     "name": "stderr",
     "output_type": "stream",
     "text": [
      "training loop:  10% |####                                      | ETA:   0:54:41\n"
     ]
    },
    {
     "name": "stdout",
     "output_type": "stream",
     "text": [
      "t_step: 10 \t, sample_time: 0.003 \tupdate_time: 0.004 \tlearn_time: 0.012 \tsum: 42.498 \tsize: 5526                        \n",
      "Episode 163\tTotal score (max over agents) this episode: 0.0\n",
      "t_step: 10 \t, sample_time: 0.004 \tupdate_time: 0.005 \tlearn_time: 0.035 \tsum: 42.080 \tsize: 5553                        "
     ]
    },
    {
     "name": "stderr",
     "output_type": "stream",
     "text": [
      "training loop:  10% |####                                      | ETA:   0:54:38\n"
     ]
    },
    {
     "name": "stdout",
     "output_type": "stream",
     "text": [
      "t_step: 10 \t, sample_time: 0.001 \tupdate_time: 0.004 \tlearn_time: 0.034 \tsum: 42.161 \tsize: 5554                        \n",
      "Episode 164\tTotal score (max over agents) this episode: 0.0\n",
      "t_step: 5 \t, sample_time: 0.003 \tupdate_time: 0.003 \tlearn_time: 0.020 \tsum: 45.958 \tsize: 5572                        "
     ]
    },
    {
     "name": "stderr",
     "output_type": "stream",
     "text": [
      "training loop:  11% |####                                      | ETA:   0:54:31\n"
     ]
    },
    {
     "name": "stdout",
     "output_type": "stream",
     "text": [
      "t_step: 10 \t, sample_time: 0.002 \tupdate_time: 0.003 \tlearn_time: 0.010 \tsum: 44.737 \tsize: 5582                        \n",
      "Episode 165\tTotal score (max over agents) this episode: 0.0\n",
      "t_step: 10 \t, sample_time: 0.002 \tupdate_time: 0.003 \tlearn_time: 0.012 \tsum: 43.511 \tsize: 5609                        "
     ]
    },
    {
     "name": "stderr",
     "output_type": "stream",
     "text": [
      "training loop:  11% |####                                      | ETA:   0:54:26\n"
     ]
    },
    {
     "name": "stdout",
     "output_type": "stream",
     "text": [
      "t_step: 10 \t, sample_time: 0.004 \tupdate_time: 0.005 \tlearn_time: 0.025 \tsum: 43.513 \tsize: 5610                        \n",
      "Episode 166\tTotal score (max over agents) this episode: 0.0\n",
      "t_step: 10 \t, sample_time: 0.002 \tupdate_time: 0.003 \tlearn_time: 0.011 \tsum: 43.761 \tsize: 5639                        "
     ]
    },
    {
     "name": "stderr",
     "output_type": "stream",
     "text": [
      "training loop:  11% |####                                      | ETA:   0:54:22\n"
     ]
    },
    {
     "name": "stdout",
     "output_type": "stream",
     "text": [
      "t_step: 10 \t, sample_time: 0.002 \tupdate_time: 0.002 \tlearn_time: 0.009 \tsum: 43.715 \tsize: 5640                        \n",
      "Episode 167\tTotal score (max over agents) this episode: 0.0\n",
      "t_step: 10 \t, sample_time: 0.002 \tupdate_time: 0.008 \tlearn_time: 0.059 \tsum: 44.793 \tsize: 5665                        "
     ]
    },
    {
     "name": "stderr",
     "output_type": "stream",
     "text": [
      "training loop:  11% |####                                      | ETA:   0:54:19\n"
     ]
    },
    {
     "name": "stdout",
     "output_type": "stream",
     "text": [
      "t_step: 10 \t, sample_time: 0.003 \tupdate_time: 0.003 \tlearn_time: 0.279 \tsum: 45.133 \tsize: 5666                        \n",
      "Episode 168\tTotal score (max over agents) this episode: 0.0\n",
      "t_step: 10 \t, sample_time: 0.003 \tupdate_time: 0.004 \tlearn_time: 0.013 \tsum: 42.330 \tsize: 5696                        "
     ]
    },
    {
     "name": "stderr",
     "output_type": "stream",
     "text": [
      "training loop:  11% |####                                      | ETA:   0:54:19\n"
     ]
    },
    {
     "name": "stdout",
     "output_type": "stream",
     "text": [
      "\n",
      "Episode 169\tTotal score (max over agents) this episode: 0.0\n",
      "t_step: 10 \t, sample_time: 0.002 \tupdate_time: 0.003 \tlearn_time: 0.074 \tsum: 42.613 \tsize: 5723                        "
     ]
    },
    {
     "name": "stderr",
     "output_type": "stream",
     "text": [
      "training loop:  11% |####                                      | ETA:   0:54:14\n"
     ]
    },
    {
     "name": "stdout",
     "output_type": "stream",
     "text": [
      "t_step: 10 \t, sample_time: 0.001 \tupdate_time: 0.003 \tlearn_time: 0.015 \tsum: 42.198 \tsize: 5724                        \n",
      "Episode 170\tTotal score (max over agents) this episode: 0.0\n",
      "t_step: 5 \t, sample_time: 0.002 \tupdate_time: 0.003 \tlearn_time: 0.021 \tsum: 43.031 \tsize: 5742                        "
     ]
    },
    {
     "name": "stderr",
     "output_type": "stream",
     "text": [
      "training loop:  11% |####                                      | ETA:   0:54:06\n"
     ]
    },
    {
     "name": "stdout",
     "output_type": "stream",
     "text": [
      "t_step: 10 \t, sample_time: 0.002 \tupdate_time: 0.005 \tlearn_time: 0.016 \tsum: 43.016 \tsize: 5752                        \n",
      "Episode 171\tTotal score (max over agents) this episode: 0.0\n",
      "t_step: 5 \t, sample_time: 0.002 \tupdate_time: 0.003 \tlearn_time: 0.024 \tsum: 43.525 \tsize: 5770                        "
     ]
    },
    {
     "name": "stderr",
     "output_type": "stream",
     "text": [
      "training loop:  11% |####                                      | ETA:   0:54:00\n"
     ]
    },
    {
     "name": "stdout",
     "output_type": "stream",
     "text": [
      "t_step: 10 \t, sample_time: 0.002 \tupdate_time: 0.004 \tlearn_time: 0.010 \tsum: 43.706 \tsize: 5780                        \n",
      "Episode 172\tTotal score (max over agents) this episode: 0.0\n",
      "t_step: 10 \t, sample_time: 0.002 \tupdate_time: 0.003 \tlearn_time: 0.011 \tsum: 42.401 \tsize: 5808                        "
     ]
    },
    {
     "name": "stderr",
     "output_type": "stream",
     "text": [
      "training loop:  11% |####                                      | ETA:   0:53:52\n"
     ]
    },
    {
     "name": "stdout",
     "output_type": "stream",
     "text": [
      "\n",
      "Episode 173\tTotal score (max over agents) this episode: 0.0\n",
      "t_step: 25 \t, sample_time: 0.003 \tupdate_time: 0.004 \tlearn_time: 0.013 \tsum: 45.395 \tsize: 5867                        "
     ]
    },
    {
     "name": "stderr",
     "output_type": "stream",
     "text": [
      "training loop:  11% |####                                      | ETA:   0:53:56\n"
     ]
    },
    {
     "name": "stdout",
     "output_type": "stream",
     "text": [
      "t_step: 25 \t, sample_time: 0.002 \tupdate_time: 0.004 \tlearn_time: 0.012 \tsum: 46.269 \tsize: 5868                        \n",
      "Episode 174\tTotal score (max over agents) this episode: 0.09000000171363354\n",
      "t_step: 25 \t, sample_time: 0.002 \tupdate_time: 0.003 \tlearn_time: 0.020 \tsum: 49.902 \tsize: 5927                        "
     ]
    },
    {
     "name": "stderr",
     "output_type": "stream",
     "text": [
      "training loop:  11% |####                                      | ETA:   0:54:08\n"
     ]
    },
    {
     "name": "stdout",
     "output_type": "stream",
     "text": [
      "t_step: 25 \t, sample_time: 0.002 \tupdate_time: 0.005 \tlearn_time: 0.049 \tsum: 49.172 \tsize: 5928                        \n",
      "Episode 175\tTotal score (max over agents) this episode: 0.10000000149011612\n",
      "t_step: 45 \t, sample_time: 0.002 \tupdate_time: 0.003 \tlearn_time: 0.012 \tsum: 51.034 \tsize: 6028                        "
     ]
    },
    {
     "name": "stderr",
     "output_type": "stream",
     "text": [
      "training loop:  11% |####                                      | ETA:   0:54:36\n"
     ]
    },
    {
     "name": "stdout",
     "output_type": "stream",
     "text": [
      "t_step: 50 \t, sample_time: 0.002 \tupdate_time: 0.003 \tlearn_time: 0.009 \tsum: 51.360 \tsize: 6038                        \n",
      "Episode 176\tTotal score (max over agents) this episode: 0.10000000149011612\n",
      "t_step: 30 \t, sample_time: 0.002 \tupdate_time: 0.004 \tlearn_time: 0.017 \tsum: 52.813 \tsize: 6099                        "
     ]
    },
    {
     "name": "stderr",
     "output_type": "stream",
     "text": [
      "training loop:  11% |####                                      | ETA:   0:54:47\n"
     ]
    },
    {
     "name": "stdout",
     "output_type": "stream",
     "text": [
      "t_step: 30 \t, sample_time: 0.004 \tupdate_time: 0.003 \tlearn_time: 0.030 \tsum: 51.830 \tsize: 6100                        \n",
      "Episode 177\tTotal score (max over agents) this episode: 0.10000000149011612\n",
      "t_step: 10 \t, sample_time: 0.003 \tupdate_time: 0.007 \tlearn_time: 0.019 \tsum: 53.314 \tsize: 6121                        "
     ]
    },
    {
     "name": "stderr",
     "output_type": "stream",
     "text": [
      "training loop:  11% |####                                      | ETA:   0:54:46\n"
     ]
    },
    {
     "name": "stdout",
     "output_type": "stream",
     "text": [
      "t_step: 10 \t, sample_time: 0.002 \tupdate_time: 0.003 \tlearn_time: 0.029 \tsum: 53.093 \tsize: 6122                        \n",
      "Episode 178\tTotal score (max over agents) this episode: 0.0\n",
      "t_step: 5 \t, sample_time: 0.003 \tupdate_time: 0.003 \tlearn_time: 0.011 \tsum: 54.603 \tsize: 6142                        "
     ]
    },
    {
     "name": "stderr",
     "output_type": "stream",
     "text": [
      "training loop:  11% |#####                                     | ETA:   0:54:38\n"
     ]
    },
    {
     "name": "stdout",
     "output_type": "stream",
     "text": [
      "t_step: 10 \t, sample_time: 0.002 \tupdate_time: 0.003 \tlearn_time: 0.010 \tsum: 54.881 \tsize: 6152                        \n",
      "Episode 179\tTotal score (max over agents) this episode: 0.0\n",
      "t_step: 50 \t, sample_time: 0.003 \tupdate_time: 0.005 \tlearn_time: 0.025 \tsum: 56.886 \tsize: 6259                        "
     ]
    },
    {
     "name": "stderr",
     "output_type": "stream",
     "text": [
      "training loop:  12% |#####                                     | ETA:   0:55:02\n"
     ]
    },
    {
     "name": "stdout",
     "output_type": "stream",
     "text": [
      "t_step: 50 \t, sample_time: 0.003 \tupdate_time: 0.003 \tlearn_time: 0.033 \tsum: 57.075 \tsize: 6260                        \n",
      "Episode 180\tTotal score (max over agents) this episode: 0.10000000149011612\n",
      "t_step: 10 \t, sample_time: 0.003 \tupdate_time: 0.003 \tlearn_time: 0.015 \tsum: 58.734 \tsize: 6282                        "
     ]
    },
    {
     "name": "stderr",
     "output_type": "stream",
     "text": [
      "training loop:  12% |#####                                     | ETA:   0:54:58\n"
     ]
    },
    {
     "name": "stdout",
     "output_type": "stream",
     "text": [
      "                        \n",
      "Episode 181\tTotal score (max over agents) this episode: 0.0\n",
      "t_step: 30 \t, sample_time: 0.003 \tupdate_time: 0.003 \tlearn_time: 0.014 \tsum: 60.691 \tsize: 6351                        "
     ]
    },
    {
     "name": "stderr",
     "output_type": "stream",
     "text": [
      "training loop:  12% |#####                                     | ETA:   0:55:13\n"
     ]
    },
    {
     "name": "stdout",
     "output_type": "stream",
     "text": [
      "t_step: 30 \t, sample_time: 0.002 \tupdate_time: 0.003 \tlearn_time: 0.010 \tsum: 60.164 \tsize: 6352                        \n",
      "Episode 182\tTotal score (max over agents) this episode: 0.10000000149011612\n",
      "t_step: 5 \t, sample_time: 0.003 \tupdate_time: 0.004 \tlearn_time: 0.015 \tsum: 61.240 \tsize: 6364                        "
     ]
    },
    {
     "name": "stderr",
     "output_type": "stream",
     "text": [
      "training loop:  12% |#####                                     | ETA:   0:55:06\n"
     ]
    },
    {
     "name": "stdout",
     "output_type": "stream",
     "text": [
      "t_step: 10 \t, sample_time: 0.002 \tupdate_time: 0.004 \tlearn_time: 0.012 \tsum: 60.989 \tsize: 6374                        \n",
      "Episode 183\tTotal score (max over agents) this episode: 0.0\n",
      "t_step: 30 \t, sample_time: 0.002 \tupdate_time: 0.002 \tlearn_time: 0.031 \tsum: 63.416 \tsize: 6441                        "
     ]
    },
    {
     "name": "stderr",
     "output_type": "stream",
     "text": [
      "training loop:  12% |#####                                     | ETA:   0:55:17\n"
     ]
    },
    {
     "name": "stdout",
     "output_type": "stream",
     "text": [
      "t_step: 30 \t, sample_time: 0.002 \tupdate_time: 0.008 \tlearn_time: 0.041 \tsum: 62.876 \tsize: 6442                        \n",
      "Episode 184\tTotal score (max over agents) this episode: 0.09000000171363354\n",
      "t_step: 30 \t, sample_time: 0.002 \tupdate_time: 0.004 \tlearn_time: 0.039 \tsum: 63.782 \tsize: 6503                        "
     ]
    },
    {
     "name": "stderr",
     "output_type": "stream",
     "text": [
      "training loop:  12% |#####                                     | ETA:   0:55:31\n"
     ]
    },
    {
     "name": "stdout",
     "output_type": "stream",
     "text": [
      "t_step: 30 \t, sample_time: 0.003 \tupdate_time: 0.014 \tlearn_time: 0.030 \tsum: 63.926 \tsize: 6504                        \n",
      "Episode 185\tTotal score (max over agents) this episode: 0.09000000171363354\n",
      "t_step: 15 \t, sample_time: 0.002 \tupdate_time: 0.004 \tlearn_time: 0.034 \tsum: 63.191 \tsize: 6537                        "
     ]
    },
    {
     "name": "stderr",
     "output_type": "stream",
     "text": [
      "training loop:  12% |#####                                     | ETA:   0:55:30\n"
     ]
    },
    {
     "name": "stdout",
     "output_type": "stream",
     "text": [
      "t_step: 15 \t, sample_time: 0.002 \tupdate_time: 0.004 \tlearn_time: 0.030 \tsum: 62.730 \tsize: 6538                        \n",
      "Episode 186\tTotal score (max over agents) this episode: 0.0\n",
      "t_step: 30 \t, sample_time: 0.003 \tupdate_time: 0.004 \tlearn_time: 0.052 \tsum: 65.915 \tsize: 6599                        "
     ]
    },
    {
     "name": "stderr",
     "output_type": "stream",
     "text": [
      "training loop:  12% |#####                                     | ETA:   0:55:41\n"
     ]
    },
    {
     "name": "stdout",
     "output_type": "stream",
     "text": [
      "t_step: 30 \t, sample_time: 0.003 \tupdate_time: 0.003 \tlearn_time: 0.009 \tsum: 66.247 \tsize: 6600                        \n",
      "Episode 187\tTotal score (max over agents) this episode: 0.10000000149011612\n",
      "t_step: 10 \t, sample_time: 0.003 \tupdate_time: 0.004 \tlearn_time: 0.012 \tsum: 67.167 \tsize: 6623                        "
     ]
    },
    {
     "name": "stderr",
     "output_type": "stream",
     "text": [
      "training loop:  12% |#####                                     | ETA:   0:55:33\n"
     ]
    },
    {
     "name": "stdout",
     "output_type": "stream",
     "text": [
      "t_step: 10 \t, sample_time: 0.002 \tupdate_time: 0.003 \tlearn_time: 0.008 \tsum: 67.580 \tsize: 6624                        \n",
      "Episode 188\tTotal score (max over agents) this episode: 0.0\n",
      "t_step: 10 \t, sample_time: 0.002 \tupdate_time: 0.006 \tlearn_time: 0.055 \tsum: 65.145 \tsize: 6651                        "
     ]
    },
    {
     "name": "stderr",
     "output_type": "stream",
     "text": [
      "training loop:  12% |#####                                     | ETA:   0:55:27\n"
     ]
    },
    {
     "name": "stdout",
     "output_type": "stream",
     "text": [
      "t_step: 10 \t, sample_time: 0.003 \tupdate_time: 0.018 \tlearn_time: 0.030 \tsum: 64.377 \tsize: 6652                        \n",
      "Episode 189\tTotal score (max over agents) this episode: 0.0\n",
      "t_step: 5 \t, sample_time: 0.002 \tupdate_time: 0.015 \tlearn_time: 0.069 \tsum: 64.569 \tsize: 6670                        "
     ]
    },
    {
     "name": "stderr",
     "output_type": "stream",
     "text": [
      "training loop:  12% |#####                                     | ETA:   0:55:20\n"
     ]
    },
    {
     "name": "stdout",
     "output_type": "stream",
     "text": [
      "t_step: 10 \t, sample_time: 0.003 \tupdate_time: 0.003 \tlearn_time: 0.013 \tsum: 63.324 \tsize: 6680                        \n",
      "Episode 190\tTotal score (max over agents) this episode: 0.0\n",
      "t_step: 50 \t, sample_time: 0.002 \tupdate_time: 0.005 \tlearn_time: 0.021 \tsum: 65.929 \tsize: 6787                        "
     ]
    },
    {
     "name": "stderr",
     "output_type": "stream",
     "text": [
      "training loop:  12% |#####                                     | ETA:   0:55:47\n"
     ]
    },
    {
     "name": "stdout",
     "output_type": "stream",
     "text": [
      "t_step: 50 \t, sample_time: 0.002 \tupdate_time: 0.003 \tlearn_time: 0.045 \tsum: 65.505 \tsize: 6788                        \n",
      "Episode 191\tTotal score (max over agents) this episode: 0.10000000149011612\n",
      "t_step: 15 \t, sample_time: 0.002 \tupdate_time: 0.004 \tlearn_time: 0.029 \tsum: 68.703 \tsize: 6823                        "
     ]
    },
    {
     "name": "stderr",
     "output_type": "stream",
     "text": [
      "training loop:  12% |#####                                     | ETA:   0:55:48\n"
     ]
    },
    {
     "name": "stdout",
     "output_type": "stream",
     "text": [
      "t_step: 15 \t, sample_time: 0.002 \tupdate_time: 0.003 \tlearn_time: 0.044 \tsum: 69.582 \tsize: 6824                        \n",
      "Episode 192\tTotal score (max over agents) this episode: 0.0\n",
      "t_step: 5 \t, sample_time: 0.007 \tupdate_time: 0.003 \tlearn_time: 0.048 \tsum: 70.093 \tsize: 6836                        "
     ]
    },
    {
     "name": "stderr",
     "output_type": "stream",
     "text": [
      "training loop:  12% |#####                                     | ETA:   0:55:43\n"
     ]
    },
    {
     "name": "stdout",
     "output_type": "stream",
     "text": [
      "t_step: 10 \t, sample_time: 0.002 \tupdate_time: 0.004 \tlearn_time: 0.011 \tsum: 69.873 \tsize: 6846                        \n",
      "Episode 193\tTotal score (max over agents) this episode: 0.0\n",
      "t_step: 25 \t, sample_time: 0.002 \tupdate_time: 0.004 \tlearn_time: 0.012 \tsum: 71.682 \tsize: 6904                        "
     ]
    },
    {
     "name": "stderr",
     "output_type": "stream",
     "text": [
      "training loop:  12% |#####                                     | ETA:   0:55:54\n"
     ]
    },
    {
     "name": "stdout",
     "output_type": "stream",
     "text": [
      "t_step: 30 \t, sample_time: 0.002 \tupdate_time: 0.003 \tlearn_time: 0.021 \tsum: 71.296 \tsize: 6914                        \n",
      "Episode 194\tTotal score (max over agents) this episode: 0.09000000171363354\n",
      "t_step: 25 \t, sample_time: 0.002 \tupdate_time: 0.004 \tlearn_time: 0.014 \tsum: 72.679 \tsize: 6965                        "
     ]
    },
    {
     "name": "stderr",
     "output_type": "stream",
     "text": [
      "training loop:  13% |#####                                     | ETA:   0:56:00\n"
     ]
    },
    {
     "name": "stdout",
     "output_type": "stream",
     "text": [
      "t_step: 25 \t, sample_time: 0.003 \tupdate_time: 0.004 \tlearn_time: 0.050 \tsum: 72.281 \tsize: 6966                        \n",
      "Episode 195\tTotal score (max over agents) this episode: 0.09000000171363354\n",
      "t_step: 10 \t, sample_time: 0.002 \tupdate_time: 0.003 \tlearn_time: 0.017 \tsum: 72.179 \tsize: 6995                        "
     ]
    },
    {
     "name": "stderr",
     "output_type": "stream",
     "text": [
      "training loop:  13% |#####                                     | ETA:   0:55:53\n"
     ]
    },
    {
     "name": "stdout",
     "output_type": "stream",
     "text": [
      "t_step: 10 \t, sample_time: 0.011 \tupdate_time: 0.003 \tlearn_time: 0.017 \tsum: 72.534 \tsize: 6996                        \n",
      "Episode 196\tTotal score (max over agents) this episode: 0.0\n",
      "t_step: 10 \t, sample_time: 0.017 \tupdate_time: 0.006 \tlearn_time: 0.131 \tsum: 72.257 \tsize: 7025                        "
     ]
    },
    {
     "name": "stderr",
     "output_type": "stream",
     "text": [
      "training loop:  13% |#####                                     | ETA:   0:55:49\n"
     ]
    },
    {
     "name": "stdout",
     "output_type": "stream",
     "text": [
      "t_step: 10 \t, sample_time: 0.003 \tupdate_time: 0.006 \tlearn_time: 0.019 \tsum: 72.254 \tsize: 7026                        \n",
      "Episode 197\tTotal score (max over agents) this episode: 0.0\n",
      "t_step: 30 \t, sample_time: 0.002 \tupdate_time: 0.004 \tlearn_time: 0.023 \tsum: 75.297 \tsize: 7094                        "
     ]
    },
    {
     "name": "stderr",
     "output_type": "stream",
     "text": [
      "training loop:  13% |#####                                     | ETA:   0:55:56\n"
     ]
    },
    {
     "name": "stdout",
     "output_type": "stream",
     "text": [
      "\n",
      "Episode 198\tTotal score (max over agents) this episode: 0.10000000149011612\n",
      "t_step: 10 \t, sample_time: 0.005 \tupdate_time: 0.006 \tlearn_time: 0.030 \tsum: 77.758 \tsize: 7119                        "
     ]
    },
    {
     "name": "stderr",
     "output_type": "stream",
     "text": [
      "training loop:  13% |#####                                     | ETA:   0:55:49\n"
     ]
    },
    {
     "name": "stdout",
     "output_type": "stream",
     "text": [
      "t_step: 10 \t, sample_time: 0.002 \tupdate_time: 0.003 \tlearn_time: 0.017 \tsum: 78.524 \tsize: 7120                        \n",
      "Episode 199\tTotal score (max over agents) this episode: 0.0\n",
      "t_step: 25 \t, sample_time: 0.002 \tupdate_time: 0.004 \tlearn_time: 0.021 \tsum: 75.220 \tsize: 7177                        "
     ]
    },
    {
     "name": "stderr",
     "output_type": "stream",
     "text": [
      "training loop:  13% |#####                                     | ETA:   0:55:57\n"
     ]
    },
    {
     "name": "stdout",
     "output_type": "stream",
     "text": [
      "t_step: 25 \t, sample_time: 0.003 \tupdate_time: 0.003 \tlearn_time: 0.011 \tsum: 75.924 \tsize: 7178                        \n",
      "Episode 200\tTotal score (max over agents) this episode: 0.10000000149011612\n",
      "t_step: 25 \t, sample_time: 0.002 \tupdate_time: 0.003 \tlearn_time: 0.028 \tsum: 80.152 \tsize: 7238                        "
     ]
    },
    {
     "name": "stderr",
     "output_type": "stream",
     "text": [
      "training loop:  13% |#####                                     | ETA:   0:56:08\n"
     ]
    },
    {
     "name": "stdout",
     "output_type": "stream",
     "text": [
      "t_step: 30 \t, sample_time: 0.003 \tupdate_time: 0.005 \tlearn_time: 0.011 \tsum: 81.015 \tsize: 7248                        \n",
      "Episode 201\tTotal score (max over agents) this episode: 0.10000000149011612\n",
      "t_step: 10 \t, sample_time: 0.002 \tupdate_time: 0.003 \tlearn_time: 0.012 \tsum: 78.259 \tsize: 7269                        "
     ]
    },
    {
     "name": "stderr",
     "output_type": "stream",
     "text": [
      "training loop:  13% |#####                                     | ETA:   0:56:03\n"
     ]
    },
    {
     "name": "stdout",
     "output_type": "stream",
     "text": [
      "t_step: 10 \t, sample_time: 0.002 \tupdate_time: 0.005 \tlearn_time: 0.025 \tsum: 77.504 \tsize: 7270                        \n",
      "Episode 202\tTotal score (max over agents) this episode: 0.0\n",
      "t_step: 10 \t, sample_time: 0.002 \tupdate_time: 0.003 \tlearn_time: 0.024 \tsum: 79.021 \tsize: 7298                        "
     ]
    },
    {
     "name": "stderr",
     "output_type": "stream",
     "text": [
      "training loop:  13% |#####                                     | ETA:   0:55:56\n"
     ]
    },
    {
     "name": "stdout",
     "output_type": "stream",
     "text": [
      "\n",
      "Episode 203\tTotal score (max over agents) this episode: 0.0\n",
      "t_step: 30 \t, sample_time: 0.003 \tupdate_time: 0.005 \tlearn_time: 0.024 \tsum: 80.518 \tsize: 7367                        "
     ]
    },
    {
     "name": "stderr",
     "output_type": "stream",
     "text": [
      "training loop:  13% |#####                                     | ETA:   0:56:10\n"
     ]
    },
    {
     "name": "stdout",
     "output_type": "stream",
     "text": [
      "t_step: 30 \t, sample_time: 0.004 \tupdate_time: 0.004 \tlearn_time: 0.020 \tsum: 80.545 \tsize: 7368                        \n",
      "Episode 204\tTotal score (max over agents) this episode: 0.10000000149011612\n",
      "t_step: 30 \t, sample_time: 0.002 \tupdate_time: 0.003 \tlearn_time: 0.012 \tsum: 82.997 \tsize: 7434                        "
     ]
    },
    {
     "name": "stderr",
     "output_type": "stream",
     "text": [
      "training loop:  13% |#####                                     | ETA:   0:56:19\n"
     ]
    },
    {
     "name": "stdout",
     "output_type": "stream",
     "text": [
      "\n",
      "Episode 205\tTotal score (max over agents) this episode: 0.10000000149011612\n",
      "t_step: 10 \t, sample_time: 0.002 \tupdate_time: 0.004 \tlearn_time: 0.013 \tsum: 84.526 \tsize: 7459                        "
     ]
    },
    {
     "name": "stderr",
     "output_type": "stream",
     "text": [
      "training loop:  13% |#####                                     | ETA:   0:56:13\n"
     ]
    },
    {
     "name": "stdout",
     "output_type": "stream",
     "text": [
      "t_step: 10 \t, sample_time: 0.003 \tupdate_time: 0.003 \tlearn_time: 0.021 \tsum: 83.950 \tsize: 7460                        \n",
      "Episode 206\tTotal score (max over agents) this episode: 0.0\n",
      "t_step: 15 \t, sample_time: 0.002 \tupdate_time: 0.004 \tlearn_time: 0.011 \tsum: 84.100 \tsize: 7498                        "
     ]
    },
    {
     "name": "stderr",
     "output_type": "stream",
     "text": [
      "training loop:  13% |#####                                     | ETA:   0:56:09\n"
     ]
    },
    {
     "name": "stdout",
     "output_type": "stream",
     "text": [
      "\n",
      "Episode 207\tTotal score (max over agents) this episode: 0.0\n",
      "t_step: 15 \t, sample_time: 0.002 \tupdate_time: 0.004 \tlearn_time: 0.024 \tsum: 82.524 \tsize: 7531                        "
     ]
    },
    {
     "name": "stderr",
     "output_type": "stream",
     "text": [
      "training loop:  13% |#####                                     | ETA:   0:56:07\n"
     ]
    },
    {
     "name": "stdout",
     "output_type": "stream",
     "text": [
      "t_step: 15 \t, sample_time: 0.001 \tupdate_time: 0.003 \tlearn_time: 0.019 \tsum: 82.318 \tsize: 7532                        \n",
      "Episode 208\tTotal score (max over agents) this episode: 0.0\n",
      "t_step: 30 \t, sample_time: 0.004 \tupdate_time: 0.004 \tlearn_time: 0.026 \tsum: 85.791 \tsize: 7595                        "
     ]
    },
    {
     "name": "stderr",
     "output_type": "stream",
     "text": [
      "training loop:  13% |#####                                     | ETA:   0:56:13\n"
     ]
    },
    {
     "name": "stdout",
     "output_type": "stream",
     "text": [
      "t_step: 30 \t, sample_time: 0.002 \tupdate_time: 0.003 \tlearn_time: 0.023 \tsum: 86.485 \tsize: 7596                        \n",
      "Episode 209\tTotal score (max over agents) this episode: 0.10000000149011612\n",
      "t_step: 15 \t, sample_time: 0.002 \tupdate_time: 0.005 \tlearn_time: 0.041 \tsum: 87.857 \tsize: 7631                        "
     ]
    },
    {
     "name": "stderr",
     "output_type": "stream",
     "text": [
      "training loop:  14% |#####                                     | ETA:   0:56:12\n"
     ]
    },
    {
     "name": "stdout",
     "output_type": "stream",
     "text": [
      "t_step: 15 \t, sample_time: 0.001 \tupdate_time: 0.003 \tlearn_time: 0.035 \tsum: 88.085 \tsize: 7632                        \n",
      "Episode 210\tTotal score (max over agents) this episode: 0.0\n",
      "t_step: 15 \t, sample_time: 0.002 \tupdate_time: 0.003 \tlearn_time: 0.016 \tsum: 86.487 \tsize: 7665                        "
     ]
    },
    {
     "name": "stderr",
     "output_type": "stream",
     "text": [
      "training loop:  14% |#####                                     | ETA:   0:56:07\n"
     ]
    },
    {
     "name": "stdout",
     "output_type": "stream",
     "text": [
      "t_step: 15 \t, sample_time: 0.002 \tupdate_time: 0.004 \tlearn_time: 0.017 \tsum: 86.430 \tsize: 7666                        \n",
      "Episode 211\tTotal score (max over agents) this episode: 0.0\n",
      "t_step: 10 \t, sample_time: 0.002 \tupdate_time: 0.004 \tlearn_time: 0.022 \tsum: 83.812 \tsize: 7688                        "
     ]
    },
    {
     "name": "stderr",
     "output_type": "stream",
     "text": [
      "training loop:  14% |#####                                     | ETA:   0:56:02\n"
     ]
    },
    {
     "name": "stdout",
     "output_type": "stream",
     "text": [
      "\n",
      "Episode 212\tTotal score (max over agents) this episode: 0.0\n",
      "t_step: 25 \t, sample_time: 0.003 \tupdate_time: 0.003 \tlearn_time: 0.015 \tsum: 91.263 \tsize: 7745                        "
     ]
    },
    {
     "name": "stderr",
     "output_type": "stream",
     "text": [
      "training loop:  14% |#####                                     | ETA:   0:56:06\n"
     ]
    },
    {
     "name": "stdout",
     "output_type": "stream",
     "text": [
      "t_step: 25 \t, sample_time: 0.002 \tupdate_time: 0.003 \tlearn_time: 0.011 \tsum: 91.084 \tsize: 7746                        \n",
      "Episode 213\tTotal score (max over agents) this episode: 0.10000000149011612\n",
      "t_step: 25 \t, sample_time: 0.005 \tupdate_time: 0.004 \tlearn_time: 0.018 \tsum: 92.144 \tsize: 7803                        "
     ]
    },
    {
     "name": "stderr",
     "output_type": "stream",
     "text": [
      "training loop:  14% |#####                                     | ETA:   0:56:10\n"
     ]
    },
    {
     "name": "stdout",
     "output_type": "stream",
     "text": [
      "t_step: 25 \t, sample_time: 0.004 \tupdate_time: 0.004 \tlearn_time: 0.027 \tsum: 92.105 \tsize: 7804                        \n",
      "Episode 214\tTotal score (max over agents) this episode: 0.10000000149011612\n",
      "t_step: 30 \t, sample_time: 0.002 \tupdate_time: 0.003 \tlearn_time: 0.022 \tsum: 93.353 \tsize: 7873                        "
     ]
    },
    {
     "name": "stderr",
     "output_type": "stream",
     "text": [
      "training loop:  14% |######                                    | ETA:   0:56:21\n"
     ]
    },
    {
     "name": "stdout",
     "output_type": "stream",
     "text": [
      "t_step: 30 \t, sample_time: 0.003 \tupdate_time: 0.003 \tlearn_time: 0.022 \tsum: 91.564 \tsize: 7874                        \n",
      "Episode 215\tTotal score (max over agents) this episode: 0.10000000149011612\n",
      "t_step: 30 \t, sample_time: 0.003 \tupdate_time: 0.008 \tlearn_time: 0.054 \tsum: 96.026 \tsize: 7939                        "
     ]
    },
    {
     "name": "stderr",
     "output_type": "stream",
     "text": [
      "training loop:  14% |######                                    | ETA:   0:56:27\n"
     ]
    },
    {
     "name": "stdout",
     "output_type": "stream",
     "text": [
      "t_step: 30 \t, sample_time: 0.002 \tupdate_time: 0.003 \tlearn_time: 0.015 \tsum: 95.791 \tsize: 7940                        \n",
      "Episode 216\tTotal score (max over agents) this episode: 0.10000000149011612\n",
      "t_step: 30 \t, sample_time: 0.003 \tupdate_time: 0.006 \tlearn_time: 0.030 \tsum: 99.908 \tsize: 8005                        "
     ]
    },
    {
     "name": "stderr",
     "output_type": "stream",
     "text": [
      "training loop:  14% |######                                    | ETA:   0:56:35\n"
     ]
    },
    {
     "name": "stdout",
     "output_type": "stream",
     "text": [
      "t_step: 30 \t, sample_time: 0.011 \tupdate_time: 0.004 \tlearn_time: 0.029 \tsum: 98.849 \tsize: 8006                        \n",
      "Episode 217\tTotal score (max over agents) this episode: 0.10000000149011612\n",
      "t_step: 45 \t, sample_time: 0.002 \tupdate_time: 0.003 \tlearn_time: 0.010 \tsum: 101.015 \tsize: 8101                        "
     ]
    },
    {
     "name": "stderr",
     "output_type": "stream",
     "text": [
      "training loop:  14% |######                                    | ETA:   0:56:51\n"
     ]
    },
    {
     "name": "stdout",
     "output_type": "stream",
     "text": [
      "t_step: 45 \t, sample_time: 0.002 \tupdate_time: 0.007 \tlearn_time: 0.037 \tsum: 100.926 \tsize: 8102                        \n",
      "Episode 218\tTotal score (max over agents) this episode: 0.10000000149011612\n",
      "t_step: 10 \t, sample_time: 0.005 \tupdate_time: 0.009 \tlearn_time: 0.050 \tsum: 100.798 \tsize: 8123                        "
     ]
    },
    {
     "name": "stderr",
     "output_type": "stream",
     "text": [
      "training loop:  14% |######                                    | ETA:   0:56:46\n"
     ]
    },
    {
     "name": "stdout",
     "output_type": "stream",
     "text": [
      "t_step: 10 \t, sample_time: 0.002 \tupdate_time: 0.003 \tlearn_time: 0.062 \tsum: 100.753 \tsize: 8124                        \n",
      "Episode 219\tTotal score (max over agents) this episode: 0.0\n",
      "t_step: 5 \t, sample_time: 0.002 \tupdate_time: 0.004 \tlearn_time: 0.013 \tsum: 99.267 \tsize: 8142                         "
     ]
    },
    {
     "name": "stderr",
     "output_type": "stream",
     "text": [
      "training loop:  14% |######                                    | ETA:   0:56:41\n"
     ]
    },
    {
     "name": "stdout",
     "output_type": "stream",
     "text": [
      "t_step: 10 \t, sample_time: 0.002 \tupdate_time: 0.004 \tlearn_time: 0.011 \tsum: 98.413 \tsize: 8152                        \n",
      "Episode 220\tTotal score (max over agents) this episode: 0.0\n",
      "t_step: 10 \t, sample_time: 0.002 \tupdate_time: 0.007 \tlearn_time: 0.016 \tsum: 102.141 \tsize: 8179                        "
     ]
    },
    {
     "name": "stderr",
     "output_type": "stream",
     "text": [
      "training loop:  14% |######                                    | ETA:   0:56:36\n"
     ]
    },
    {
     "name": "stdout",
     "output_type": "stream",
     "text": [
      "t_step: 10 \t, sample_time: 0.002 \tupdate_time: 0.004 \tlearn_time: 0.014 \tsum: 102.119 \tsize: 8180                        \n",
      "Episode 221\tTotal score (max over agents) this episode: 0.0\n",
      "t_step: 10 \t, sample_time: 0.002 \tupdate_time: 0.007 \tlearn_time: 0.051 \tsum: 104.121 \tsize: 8207                        "
     ]
    },
    {
     "name": "stderr",
     "output_type": "stream",
     "text": [
      "training loop:  14% |######                                    | ETA:   0:56:29\n"
     ]
    },
    {
     "name": "stdout",
     "output_type": "stream",
     "text": [
      "t_step: 10 \t, sample_time: 0.003 \tupdate_time: 0.004 \tlearn_time: 0.017 \tsum: 103.185 \tsize: 8208                        \n",
      "Episode 222\tTotal score (max over agents) this episode: 0.0\n",
      "t_step: 10 \t, sample_time: 0.004 \tupdate_time: 0.004 \tlearn_time: 0.048 \tsum: 100.943 \tsize: 8237                        "
     ]
    },
    {
     "name": "stderr",
     "output_type": "stream",
     "text": [
      "training loop:  14% |######                                    | ETA:   0:56:29\n"
     ]
    },
    {
     "name": "stdout",
     "output_type": "stream",
     "text": [
      "t_step: 10 \t, sample_time: 0.005 \tupdate_time: 0.008 \tlearn_time: 0.105 \tsum: 101.080 \tsize: 8238                        \n",
      "Episode 223\tTotal score (max over agents) this episode: 0.0\n",
      "t_step: 10 \t, sample_time: 0.002 \tupdate_time: 0.003 \tlearn_time: 0.017 \tsum: 102.911 \tsize: 8265                        "
     ]
    },
    {
     "name": "stderr",
     "output_type": "stream",
     "text": [
      "training loop:  14% |######                                    | ETA:   0:56:23\n"
     ]
    },
    {
     "name": "stdout",
     "output_type": "stream",
     "text": [
      "t_step: 10 \t, sample_time: 0.003 \tupdate_time: 0.006 \tlearn_time: 0.058 \tsum: 101.892 \tsize: 8266                        \n",
      "Episode 224\tTotal score (max over agents) this episode: 0.0\n",
      "t_step: 10 \t, sample_time: 0.003 \tupdate_time: 0.004 \tlearn_time: 0.015 \tsum: 104.391 \tsize: 8293                        "
     ]
    },
    {
     "name": "stderr",
     "output_type": "stream",
     "text": [
      "training loop:  15% |######                                    | ETA:   0:56:20\n"
     ]
    },
    {
     "name": "stdout",
     "output_type": "stream",
     "text": [
      "t_step: 10 \t, sample_time: 0.002 \tupdate_time: 0.004 \tlearn_time: 0.012 \tsum: 103.442 \tsize: 8294                        \n",
      "Episode 225\tTotal score (max over agents) this episode: 0.0\n",
      "t_step: 10 \t, sample_time: 0.002 \tupdate_time: 0.006 \tlearn_time: 0.204 \tsum: 104.703 \tsize: 8321                        "
     ]
    },
    {
     "name": "stderr",
     "output_type": "stream",
     "text": [
      "training loop:  15% |######                                    | ETA:   0:56:16\n"
     ]
    },
    {
     "name": "stdout",
     "output_type": "stream",
     "text": [
      "t_step: 10 \t, sample_time: 0.002 \tupdate_time: 0.003 \tlearn_time: 0.010 \tsum: 104.645 \tsize: 8322                        \n",
      "Episode 226\tTotal score (max over agents) this episode: 0.0\n",
      "t_step: 5 \t, sample_time: 0.002 \tupdate_time: 0.003 \tlearn_time: 0.016 \tsum: 104.317 \tsize: 8340                        "
     ]
    },
    {
     "name": "stderr",
     "output_type": "stream",
     "text": [
      "training loop:  15% |######                                    | ETA:   0:56:09\n"
     ]
    },
    {
     "name": "stdout",
     "output_type": "stream",
     "text": [
      "t_step: 10 \t, sample_time: 0.002 \tupdate_time: 0.002 \tlearn_time: 0.009 \tsum: 104.320 \tsize: 8350                        \n",
      "Episode 227\tTotal score (max over agents) this episode: 0.0\n",
      "t_step: 10 \t, sample_time: 0.003 \tupdate_time: 0.004 \tlearn_time: 0.013 \tsum: 108.309 \tsize: 8379                        "
     ]
    },
    {
     "name": "stderr",
     "output_type": "stream",
     "text": [
      "training loop:  15% |######                                    | ETA:   0:56:06\n"
     ]
    },
    {
     "name": "stdout",
     "output_type": "stream",
     "text": [
      "t_step: 10 \t, sample_time: 0.002 \tupdate_time: 0.003 \tlearn_time: 0.012 \tsum: 110.030 \tsize: 8380                        \n",
      "Episode 228\tTotal score (max over agents) this episode: 0.0\n",
      "t_step: 10 \t, sample_time: 0.002 \tupdate_time: 0.003 \tlearn_time: 0.028 \tsum: 108.883 \tsize: 8407                        "
     ]
    },
    {
     "name": "stderr",
     "output_type": "stream",
     "text": [
      "training loop:  15% |######                                    | ETA:   0:56:02\n"
     ]
    },
    {
     "name": "stdout",
     "output_type": "stream",
     "text": [
      "t_step: 10 \t, sample_time: 0.002 \tupdate_time: 0.004 \tlearn_time: 0.082 \tsum: 108.665 \tsize: 8408                        \n",
      "Episode 229\tTotal score (max over agents) this episode: 0.0\n",
      "t_step: 35 \t, sample_time: 0.004 \tupdate_time: 0.005 \tlearn_time: 0.016 \tsum: 106.558 \tsize: 8486                        "
     ]
    },
    {
     "name": "stderr",
     "output_type": "stream",
     "text": [
      "training loop:  15% |######                                    | ETA:   0:56:14\n"
     ]
    },
    {
     "name": "stdout",
     "output_type": "stream",
     "text": [
      "t_step: 40 \t, sample_time: 0.002 \tupdate_time: 0.004 \tlearn_time: 0.011 \tsum: 107.433 \tsize: 8496                        \n",
      "Episode 230\tTotal score (max over agents) this episode: 0.10000000149011612\n",
      "t_step: 10 \t, sample_time: 0.002 \tupdate_time: 0.005 \tlearn_time: 0.011 \tsum: 110.298 \tsize: 8519                        "
     ]
    },
    {
     "name": "stderr",
     "output_type": "stream",
     "text": [
      "training loop:  15% |######                                    | ETA:   0:56:07\n"
     ]
    },
    {
     "name": "stdout",
     "output_type": "stream",
     "text": [
      "t_step: 10 \t, sample_time: 0.002 \tupdate_time: 0.005 \tlearn_time: 0.092 \tsum: 109.948 \tsize: 8520                        \n",
      "Episode 231\tTotal score (max over agents) this episode: 0.0\n",
      "t_step: 10 \t, sample_time: 0.002 \tupdate_time: 0.004 \tlearn_time: 0.016 \tsum: 113.293 \tsize: 8547                        "
     ]
    },
    {
     "name": "stderr",
     "output_type": "stream",
     "text": [
      "training loop:  15% |######                                    | ETA:   0:56:00\n"
     ]
    },
    {
     "name": "stdout",
     "output_type": "stream",
     "text": [
      "t_step: 10 \t, sample_time: 0.002 \tupdate_time: 0.005 \tlearn_time: 0.024 \tsum: 113.014 \tsize: 8548                        \n",
      "Episode 232\tTotal score (max over agents) this episode: 0.0\n",
      "t_step: 10 \t, sample_time: 0.004 \tupdate_time: 0.003 \tlearn_time: 0.014 \tsum: 110.491 \tsize: 8578                        "
     ]
    },
    {
     "name": "stderr",
     "output_type": "stream",
     "text": [
      "training loop:  15% |######                                    | ETA:   0:55:59\n"
     ]
    },
    {
     "name": "stdout",
     "output_type": "stream",
     "text": [
      "\n",
      "Episode 233\tTotal score (max over agents) this episode: 0.0\n",
      "t_step: 10 \t, sample_time: 0.002 \tupdate_time: 0.003 \tlearn_time: 0.036 \tsum: 111.110 \tsize: 8605                        "
     ]
    },
    {
     "name": "stderr",
     "output_type": "stream",
     "text": [
      "training loop:  15% |######                                    | ETA:   0:55:55\n"
     ]
    },
    {
     "name": "stdout",
     "output_type": "stream",
     "text": [
      "t_step: 10 \t, sample_time: 0.003 \tupdate_time: 0.005 \tlearn_time: 0.070 \tsum: 111.229 \tsize: 8606                        \n",
      "Episode 234\tTotal score (max over agents) this episode: 0.0\n",
      "t_step: 10 \t, sample_time: 0.002 \tupdate_time: 0.003 \tlearn_time: 0.033 \tsum: 108.756 \tsize: 8633                        "
     ]
    },
    {
     "name": "stderr",
     "output_type": "stream",
     "text": [
      "training loop:  15% |######                                    | ETA:   0:55:52\n"
     ]
    },
    {
     "name": "stdout",
     "output_type": "stream",
     "text": [
      "t_step: 10 \t, sample_time: 0.002 \tupdate_time: 0.003 \tlearn_time: 0.045 \tsum: 107.921 \tsize: 8634                        \n",
      "Episode 235\tTotal score (max over agents) this episode: 0.0\n",
      "t_step: 5 \t, sample_time: 0.002 \tupdate_time: 0.004 \tlearn_time: 0.012 \tsum: 108.404 \tsize: 8652                        "
     ]
    },
    {
     "name": "stderr",
     "output_type": "stream",
     "text": [
      "training loop:  15% |######                                    | ETA:   0:55:46\n"
     ]
    },
    {
     "name": "stdout",
     "output_type": "stream",
     "text": [
      "t_step: 10 \t, sample_time: 0.002 \tupdate_time: 0.004 \tlearn_time: 0.012 \tsum: 107.894 \tsize: 8662                        \n",
      "Episode 236\tTotal score (max over agents) this episode: 0.0\n",
      "t_step: 10 \t, sample_time: 0.002 \tupdate_time: 0.006 \tlearn_time: 0.027 \tsum: 109.452 \tsize: 8689                        "
     ]
    },
    {
     "name": "stderr",
     "output_type": "stream",
     "text": [
      "training loop:  15% |######                                    | ETA:   0:55:39\n"
     ]
    },
    {
     "name": "stdout",
     "output_type": "stream",
     "text": [
      "t_step: 10 \t, sample_time: 0.002 \tupdate_time: 0.004 \tlearn_time: 0.031 \tsum: 110.529 \tsize: 8690                        \n",
      "Episode 237\tTotal score (max over agents) this episode: 0.0\n",
      "t_step: 10 \t, sample_time: 0.002 \tupdate_time: 0.003 \tlearn_time: 0.019 \tsum: 113.676 \tsize: 8720                        "
     ]
    },
    {
     "name": "stderr",
     "output_type": "stream",
     "text": [
      "training loop:  15% |######                                    | ETA:   0:55:36\n"
     ]
    },
    {
     "name": "stdout",
     "output_type": "stream",
     "text": [
      "\n",
      "Episode 238\tTotal score (max over agents) this episode: 0.0\n",
      "t_step: 5 \t, sample_time: 0.001 \tupdate_time: 0.003 \tlearn_time: 0.014 \tsum: 112.292 \tsize: 8738                        "
     ]
    },
    {
     "name": "stderr",
     "output_type": "stream",
     "text": [
      "training loop:  15% |######                                    | ETA:   0:55:29\n"
     ]
    },
    {
     "name": "stdout",
     "output_type": "stream",
     "text": [
      "t_step: 10 \t, sample_time: 0.003 \tupdate_time: 0.004 \tlearn_time: 0.011 \tsum: 114.771 \tsize: 8748                        \n",
      "Episode 239\tTotal score (max over agents) this episode: 0.0\n",
      "t_step: 10 \t, sample_time: 0.002 \tupdate_time: 0.005 \tlearn_time: 0.038 \tsum: 112.951 \tsize: 8775                        "
     ]
    },
    {
     "name": "stderr",
     "output_type": "stream",
     "text": [
      "training loop:  16% |######                                    | ETA:   0:55:25\n"
     ]
    },
    {
     "name": "stdout",
     "output_type": "stream",
     "text": [
      "t_step: 10 \t, sample_time: 0.003 \tupdate_time: 0.004 \tlearn_time: 0.050 \tsum: 112.707 \tsize: 8776                        \n",
      "Episode 240\tTotal score (max over agents) this episode: 0.0\n",
      "t_step: 10 \t, sample_time: 0.002 \tupdate_time: 0.003 \tlearn_time: 0.008 \tsum: 112.340 \tsize: 8803                        "
     ]
    },
    {
     "name": "stderr",
     "output_type": "stream",
     "text": [
      "training loop:  16% |######                                    | ETA:   0:55:18\n"
     ]
    },
    {
     "name": "stdout",
     "output_type": "stream",
     "text": [
      "t_step: 10 \t, sample_time: 0.003 \tupdate_time: 0.003 \tlearn_time: 0.013 \tsum: 110.667 \tsize: 8804                        \n",
      "Episode 241\tTotal score (max over agents) this episode: 0.0\n",
      "t_step: 10 \t, sample_time: 0.002 \tupdate_time: 0.003 \tlearn_time: 0.017 \tsum: 111.601 \tsize: 8834                        "
     ]
    },
    {
     "name": "stderr",
     "output_type": "stream",
     "text": [
      "training loop:  16% |######                                    | ETA:   0:55:12\n"
     ]
    },
    {
     "name": "stdout",
     "output_type": "stream",
     "text": [
      "\n",
      "Episode 242\tTotal score (max over agents) this episode: 0.0\n",
      "t_step: 10 \t, sample_time: 0.002 \tupdate_time: 0.005 \tlearn_time: 0.019 \tsum: 113.655 \tsize: 8861                        "
     ]
    },
    {
     "name": "stderr",
     "output_type": "stream",
     "text": [
      "training loop:  16% |######                                    | ETA:   0:55:08\n"
     ]
    },
    {
     "name": "stdout",
     "output_type": "stream",
     "text": [
      "t_step: 10 \t, sample_time: 0.002 \tupdate_time: 0.004 \tlearn_time: 0.029 \tsum: 113.057 \tsize: 8862                        \n",
      "Episode 243\tTotal score (max over agents) this episode: 0.0\n",
      "t_step: 10 \t, sample_time: 0.002 \tupdate_time: 0.003 \tlearn_time: 0.019 \tsum: 110.853 \tsize: 8889                        "
     ]
    },
    {
     "name": "stderr",
     "output_type": "stream",
     "text": [
      "training loop:  16% |######                                    | ETA:   0:55:04\n"
     ]
    },
    {
     "name": "stdout",
     "output_type": "stream",
     "text": [
      "t_step: 10 \t, sample_time: 0.002 \tupdate_time: 0.004 \tlearn_time: 0.013 \tsum: 110.914 \tsize: 8890                        \n",
      "Episode 244\tTotal score (max over agents) this episode: 0.0\n",
      "t_step: 5 \t, sample_time: 0.002 \tupdate_time: 0.003 \tlearn_time: 0.016 \tsum: 112.541 \tsize: 8908                        "
     ]
    },
    {
     "name": "stderr",
     "output_type": "stream",
     "text": [
      "training loop:  16% |######                                    | ETA:   0:54:58\n"
     ]
    },
    {
     "name": "stdout",
     "output_type": "stream",
     "text": [
      "t_step: 10 \t, sample_time: 0.002 \tupdate_time: 0.003 \tlearn_time: 0.010 \tsum: 112.345 \tsize: 8918                        \n",
      "Episode 245\tTotal score (max over agents) this episode: 0.0\n",
      "t_step: 10 \t, sample_time: 0.003 \tupdate_time: 0.005 \tlearn_time: 0.023 \tsum: 115.349 \tsize: 8946                        "
     ]
    },
    {
     "name": "stderr",
     "output_type": "stream",
     "text": [
      "training loop:  16% |######                                    | ETA:   0:54:52\n"
     ]
    },
    {
     "name": "stdout",
     "output_type": "stream",
     "text": [
      "\n",
      "Episode 246\tTotal score (max over agents) this episode: 0.0\n",
      "t_step: 10 \t, sample_time: 0.004 \tupdate_time: 0.004 \tlearn_time: 0.013 \tsum: 115.592 \tsize: 8975                        "
     ]
    },
    {
     "name": "stderr",
     "output_type": "stream",
     "text": [
      "training loop:  16% |######                                    | ETA:   0:54:50\n"
     ]
    },
    {
     "name": "stdout",
     "output_type": "stream",
     "text": [
      "t_step: 10 \t, sample_time: 0.005 \tupdate_time: 0.007 \tlearn_time: 0.057 \tsum: 116.180 \tsize: 8976                        \n",
      "Episode 247\tTotal score (max over agents) this episode: 0.0\n",
      "t_step: 10 \t, sample_time: 0.002 \tupdate_time: 0.004 \tlearn_time: 0.011 \tsum: 114.780 \tsize: 9004                        \n",
      "Episode 248\tTotal score (max over agents) this episode: 0.0\n"
     ]
    },
    {
     "name": "stderr",
     "output_type": "stream",
     "text": [
      "training loop:  16% |######                                    | ETA:   0:54:45\n"
     ]
    },
    {
     "name": "stdout",
     "output_type": "stream",
     "text": [
      "t_step: 10 \t, sample_time: 0.002 \tupdate_time: 0.005 \tlearn_time: 0.031 \tsum: 114.907 \tsize: 9031                        "
     ]
    },
    {
     "name": "stderr",
     "output_type": "stream",
     "text": [
      "training loop:  16% |######                                    | ETA:   0:54:42\n"
     ]
    },
    {
     "name": "stdout",
     "output_type": "stream",
     "text": [
      "t_step: 10 \t, sample_time: 0.017 \tupdate_time: 0.004 \tlearn_time: 0.062 \tsum: 114.094 \tsize: 9032                        \n",
      "Episode 249\tTotal score (max over agents) this episode: 0.0\n",
      "t_step: 50 \t, sample_time: 0.004 \tupdate_time: 0.005 \tlearn_time: 0.091 \tsum: 116.229 \tsize: 9139                        "
     ]
    },
    {
     "name": "stderr",
     "output_type": "stream",
     "text": [
      "training loop:  16% |#######                                   | ETA:   0:54:59\n"
     ]
    },
    {
     "name": "stdout",
     "output_type": "stream",
     "text": [
      "t_step: 50 \t, sample_time: 0.002 \tupdate_time: 0.003 \tlearn_time: 0.024 \tsum: 114.272 \tsize: 9140                        \n",
      "Episode 250\tTotal score (max over agents) this episode: 0.10000000149011612\n",
      "t_step: 10 \t, sample_time: 0.002 \tupdate_time: 0.004 \tlearn_time: 0.013 \tsum: 115.558 \tsize: 9167                        "
     ]
    },
    {
     "name": "stderr",
     "output_type": "stream",
     "text": [
      "training loop:  16% |#######                                   | ETA:   0:54:55\n"
     ]
    },
    {
     "name": "stdout",
     "output_type": "stream",
     "text": [
      "t_step: 10 \t, sample_time: 0.002 \tupdate_time: 0.003 \tlearn_time: 0.015 \tsum: 117.907 \tsize: 9168                        \n",
      "Episode 251\tTotal score (max over agents) this episode: 0.0\n",
      "t_step: 10 \t, sample_time: 0.002 \tupdate_time: 0.003 \tlearn_time: 0.015 \tsum: 120.534 \tsize: 9197                        "
     ]
    },
    {
     "name": "stderr",
     "output_type": "stream",
     "text": [
      "training loop:  16% |#######                                   | ETA:   0:54:49\n"
     ]
    },
    {
     "name": "stdout",
     "output_type": "stream",
     "text": [
      "t_step: 10 \t, sample_time: 0.002 \tupdate_time: 0.005 \tlearn_time: 0.013 \tsum: 121.011 \tsize: 9198                        \n",
      "Episode 252\tTotal score (max over agents) this episode: 0.0\n",
      "t_step: 10 \t, sample_time: 0.002 \tupdate_time: 0.004 \tlearn_time: 0.031 \tsum: 118.918 \tsize: 9225                        "
     ]
    },
    {
     "name": "stderr",
     "output_type": "stream",
     "text": [
      "training loop:  16% |#######                                   | ETA:   0:54:42\n"
     ]
    },
    {
     "name": "stdout",
     "output_type": "stream",
     "text": [
      "t_step: 10 \t, sample_time: 0.002 \tupdate_time: 0.005 \tlearn_time: 0.025 \tsum: 120.393 \tsize: 9226                        \n",
      "Episode 253\tTotal score (max over agents) this episode: 0.0\n",
      "t_step: 10 \t, sample_time: 0.002 \tupdate_time: 0.004 \tlearn_time: 0.013 \tsum: 121.775 \tsize: 9253                        "
     ]
    },
    {
     "name": "stderr",
     "output_type": "stream",
     "text": [
      "training loop:  16% |#######                                   | ETA:   0:54:34\n"
     ]
    },
    {
     "name": "stdout",
     "output_type": "stream",
     "text": [
      "t_step: 10 \t, sample_time: 0.003 \tupdate_time: 0.003 \tlearn_time: 0.054 \tsum: 122.232 \tsize: 9254                        \n",
      "Episode 254\tTotal score (max over agents) this episode: 0.0\n",
      "t_step: 5 \t, sample_time: 0.002 \tupdate_time: 0.004 \tlearn_time: 0.022 \tsum: 119.860 \tsize: 9272                        "
     ]
    },
    {
     "name": "stderr",
     "output_type": "stream",
     "text": [
      "training loop:  17% |#######                                   | ETA:   0:54:28\n"
     ]
    },
    {
     "name": "stdout",
     "output_type": "stream",
     "text": [
      "t_step: 10 \t, sample_time: 0.002 \tupdate_time: 0.005 \tlearn_time: 0.014 \tsum: 120.708 \tsize: 9282                        \n",
      "Episode 255\tTotal score (max over agents) this episode: 0.0\n",
      "t_step: 10 \t, sample_time: 0.003 \tupdate_time: 0.004 \tlearn_time: 0.011 \tsum: 119.956 \tsize: 9310                        "
     ]
    },
    {
     "name": "stderr",
     "output_type": "stream",
     "text": [
      "training loop:  17% |#######                                   | ETA:   0:54:21\n"
     ]
    },
    {
     "name": "stdout",
     "output_type": "stream",
     "text": [
      "\n",
      "Episode 256\tTotal score (max over agents) this episode: 0.0\n",
      "t_step: 50 \t, sample_time: 0.002 \tupdate_time: 0.004 \tlearn_time: 0.019 \tsum: 124.888 \tsize: 9417                        "
     ]
    },
    {
     "name": "stderr",
     "output_type": "stream",
     "text": [
      "training loop:  17% |#######                                   | ETA:   0:54:38\n"
     ]
    },
    {
     "name": "stdout",
     "output_type": "stream",
     "text": [
      "t_step: 50 \t, sample_time: 0.002 \tupdate_time: 0.004 \tlearn_time: 0.095 \tsum: 124.500 \tsize: 9418                        \n",
      "Episode 257\tTotal score (max over agents) this episode: 0.10000000149011612\n",
      "t_step: 5 \t, sample_time: 0.003 \tupdate_time: 0.003 \tlearn_time: 0.018 \tsum: 123.216 \tsize: 9432                        "
     ]
    },
    {
     "name": "stderr",
     "output_type": "stream",
     "text": [
      "training loop:  17% |#######                                   | ETA:   0:54:32\n"
     ]
    },
    {
     "name": "stdout",
     "output_type": "stream",
     "text": [
      "t_step: 10 \t, sample_time: 0.002 \tupdate_time: 0.004 \tlearn_time: 0.013 \tsum: 123.784 \tsize: 9442                        \n",
      "Episode 258\tTotal score (max over agents) this episode: 0.0\n",
      "t_step: 10 \t, sample_time: 0.003 \tupdate_time: 0.004 \tlearn_time: 0.053 \tsum: 120.653 \tsize: 9469                        "
     ]
    },
    {
     "name": "stderr",
     "output_type": "stream",
     "text": [
      "training loop:  17% |#######                                   | ETA:   0:54:25\n"
     ]
    },
    {
     "name": "stdout",
     "output_type": "stream",
     "text": [
      "t_step: 10 \t, sample_time: 0.002 \tupdate_time: 0.004 \tlearn_time: 0.011 \tsum: 121.821 \tsize: 9470                        \n",
      "Episode 259\tTotal score (max over agents) this episode: 0.0\n",
      "t_step: 5 \t, sample_time: 0.002 \tupdate_time: 0.003 \tlearn_time: 0.010 \tsum: 125.623 \tsize: 9488                        "
     ]
    },
    {
     "name": "stderr",
     "output_type": "stream",
     "text": [
      "training loop:  17% |#######                                   | ETA:   0:54:19\n"
     ]
    },
    {
     "name": "stdout",
     "output_type": "stream",
     "text": [
      "t_step: 10 \t, sample_time: 0.002 \tupdate_time: 0.003 \tlearn_time: 0.010 \tsum: 126.256 \tsize: 9498                        \n",
      "Episode 260\tTotal score (max over agents) this episode: 0.0\n",
      "t_step: 10 \t, sample_time: 0.004 \tupdate_time: 0.006 \tlearn_time: 0.023 \tsum: 125.715 \tsize: 9527                        "
     ]
    },
    {
     "name": "stderr",
     "output_type": "stream",
     "text": [
      "training loop:  17% |#######                                   | ETA:   0:54:12\n"
     ]
    },
    {
     "name": "stdout",
     "output_type": "stream",
     "text": [
      "t_step: 10 \t, sample_time: 0.002 \tupdate_time: 0.003 \tlearn_time: 0.012 \tsum: 126.494 \tsize: 9528                        \n",
      "Episode 261\tTotal score (max over agents) this episode: 0.0\n",
      "t_step: 25 \t, sample_time: 0.004 \tupdate_time: 0.003 \tlearn_time: 0.008 \tsum: 125.236 \tsize: 9586                        "
     ]
    },
    {
     "name": "stderr",
     "output_type": "stream",
     "text": [
      "training loop:  17% |#######                                   | ETA:   0:54:12\n"
     ]
    },
    {
     "name": "stdout",
     "output_type": "stream",
     "text": [
      "t_step: 30 \t, sample_time: 0.002 \tupdate_time: 0.005 \tlearn_time: 0.014 \tsum: 124.767 \tsize: 9596                        \n",
      "Episode 262\tTotal score (max over agents) this episode: 0.10000000149011612\n",
      "t_step: 5 \t, sample_time: 0.003 \tupdate_time: 0.003 \tlearn_time: 0.014 \tsum: 127.354 \tsize: 9616                        "
     ]
    },
    {
     "name": "stderr",
     "output_type": "stream",
     "text": [
      "training loop:  17% |#######                                   | ETA:   0:54:04\n"
     ]
    },
    {
     "name": "stdout",
     "output_type": "stream",
     "text": [
      "t_step: 10 \t, sample_time: 0.002 \tupdate_time: 0.003 \tlearn_time: 0.014 \tsum: 126.714 \tsize: 9626                        \n",
      "Episode 263\tTotal score (max over agents) this episode: 0.0\n",
      "t_step: 10 \t, sample_time: 0.002 \tupdate_time: 0.003 \tlearn_time: 0.018 \tsum: 128.022 \tsize: 9655                        "
     ]
    },
    {
     "name": "stderr",
     "output_type": "stream",
     "text": [
      "training loop:  17% |#######                                   | ETA:   0:53:57\n"
     ]
    },
    {
     "name": "stdout",
     "output_type": "stream",
     "text": [
      "t_step: 10 \t, sample_time: 0.004 \tupdate_time: 0.003 \tlearn_time: 0.017 \tsum: 128.119 \tsize: 9656                        \n",
      "Episode 264\tTotal score (max over agents) this episode: 0.0\n",
      "t_step: 25 \t, sample_time: 0.002 \tupdate_time: 0.004 \tlearn_time: 0.023 \tsum: 124.515 \tsize: 9714                        "
     ]
    },
    {
     "name": "stderr",
     "output_type": "stream",
     "text": [
      "training loop:  17% |#######                                   | ETA:   0:53:59\n"
     ]
    },
    {
     "name": "stdout",
     "output_type": "stream",
     "text": [
      "t_step: 30 \t, sample_time: 0.006 \tupdate_time: 0.005 \tlearn_time: 0.017 \tsum: 124.551 \tsize: 9724                        \n",
      "Episode 265\tTotal score (max over agents) this episode: 0.0\n",
      "t_step: 5 \t, sample_time: 0.002 \tupdate_time: 0.003 \tlearn_time: 0.010 \tsum: 124.933 \tsize: 9738                        "
     ]
    },
    {
     "name": "stderr",
     "output_type": "stream",
     "text": [
      "training loop:  17% |#######                                   | ETA:   0:53:51\n"
     ]
    },
    {
     "name": "stdout",
     "output_type": "stream",
     "text": [
      "t_step: 10 \t, sample_time: 0.004 \tupdate_time: 0.003 \tlearn_time: 0.011 \tsum: 125.714 \tsize: 9748                        \n",
      "Episode 266\tTotal score (max over agents) this episode: 0.0\n",
      "t_step: 5 \t, sample_time: 0.002 \tupdate_time: 0.005 \tlearn_time: 0.026 \tsum: 127.132 \tsize: 9766                        "
     ]
    },
    {
     "name": "stderr",
     "output_type": "stream",
     "text": [
      "training loop:  17% |#######                                   | ETA:   0:53:43\n"
     ]
    },
    {
     "name": "stdout",
     "output_type": "stream",
     "text": [
      "t_step: 10 \t, sample_time: 0.002 \tupdate_time: 0.003 \tlearn_time: 0.011 \tsum: 127.158 \tsize: 9776                        \n",
      "Episode 267\tTotal score (max over agents) this episode: 0.0\n",
      "t_step: 10 \t, sample_time: 0.002 \tupdate_time: 0.003 \tlearn_time: 0.018 \tsum: 128.010 \tsize: 9803                        "
     ]
    },
    {
     "name": "stderr",
     "output_type": "stream",
     "text": [
      "training loop:  17% |#######                                   | ETA:   0:53:38\n"
     ]
    },
    {
     "name": "stdout",
     "output_type": "stream",
     "text": [
      "t_step: 10 \t, sample_time: 0.002 \tupdate_time: 0.008 \tlearn_time: 0.021 \tsum: 127.951 \tsize: 9804                        \n",
      "Episode 268\tTotal score (max over agents) this episode: 0.0\n",
      "t_step: 10 \t, sample_time: 0.003 \tupdate_time: 0.003 \tlearn_time: 0.011 \tsum: 130.019 \tsize: 9832                        "
     ]
    },
    {
     "name": "stderr",
     "output_type": "stream",
     "text": [
      "training loop:  17% |#######                                   | ETA:   0:53:30\n"
     ]
    },
    {
     "name": "stdout",
     "output_type": "stream",
     "text": [
      "\n",
      "Episode 269\tTotal score (max over agents) this episode: 0.0\n",
      "t_step: 5 \t, sample_time: 0.002 \tupdate_time: 0.006 \tlearn_time: 0.012 \tsum: 130.460 \tsize: 9852                        "
     ]
    },
    {
     "name": "stderr",
     "output_type": "stream",
     "text": [
      "training loop:  18% |#######                                   | ETA:   0:53:23\n"
     ]
    },
    {
     "name": "stdout",
     "output_type": "stream",
     "text": [
      "t_step: 10 \t, sample_time: 0.003 \tupdate_time: 0.003 \tlearn_time: 0.013 \tsum: 130.268 \tsize: 9862                        \n",
      "Episode 270\tTotal score (max over agents) this episode: 0.0\n",
      "t_step: 10 \t, sample_time: 0.003 \tupdate_time: 0.005 \tlearn_time: 0.039 \tsum: 129.831 \tsize: 9889                        "
     ]
    },
    {
     "name": "stderr",
     "output_type": "stream",
     "text": [
      "training loop:  18% |#######                                   | ETA:   0:53:16\n"
     ]
    },
    {
     "name": "stdout",
     "output_type": "stream",
     "text": [
      "t_step: 10 \t, sample_time: 0.005 \tupdate_time: 0.003 \tlearn_time: 0.011 \tsum: 129.067 \tsize: 9890                        \n",
      "Episode 271\tTotal score (max over agents) this episode: 0.0\n",
      "t_step: 30 \t, sample_time: 0.002 \tupdate_time: 0.005 \tlearn_time: 0.012 \tsum: 132.739 \tsize: 9957                        "
     ]
    },
    {
     "name": "stderr",
     "output_type": "stream",
     "text": [
      "training loop:  18% |#######                                   | ETA:   0:53:20\n"
     ]
    },
    {
     "name": "stdout",
     "output_type": "stream",
     "text": [
      "t_step: 30 \t, sample_time: 0.002 \tupdate_time: 0.003 \tlearn_time: 0.048 \tsum: 132.644 \tsize: 9958                        \n",
      "Episode 272\tTotal score (max over agents) this episode: 0.0\n",
      "t_step: 45 \t, sample_time: 0.002 \tupdate_time: 0.003 \tlearn_time: 0.014 \tsum: 134.704 \tsize: 10058                        "
     ]
    },
    {
     "name": "stderr",
     "output_type": "stream",
     "text": [
      "training loop:  18% |#######                                   | ETA:   0:53:33\n"
     ]
    },
    {
     "name": "stdout",
     "output_type": "stream",
     "text": [
      "t_step: 50 \t, sample_time: 0.002 \tupdate_time: 0.005 \tlearn_time: 0.013 \tsum: 135.366 \tsize: 10068                        \n",
      "Episode 273\tTotal score (max over agents) this episode: 0.10000000149011612\n",
      "t_step: 10 \t, sample_time: 0.002 \tupdate_time: 0.003 \tlearn_time: 0.010 \tsum: 134.724 \tsize: 10091                        "
     ]
    },
    {
     "name": "stderr",
     "output_type": "stream",
     "text": [
      "training loop:  18% |#######                                   | ETA:   0:53:28\n"
     ]
    },
    {
     "name": "stdout",
     "output_type": "stream",
     "text": [
      "t_step: 10 \t, sample_time: 0.002 \tupdate_time: 0.003 \tlearn_time: 0.023 \tsum: 134.412 \tsize: 10092                        \n",
      "Episode 274\tTotal score (max over agents) this episode: 0.0\n",
      "t_step: 70 \t, sample_time: 0.003 \tupdate_time: 0.003 \tlearn_time: 0.029 \tsum: 137.760 \tsize: 10241                                                "
     ]
    },
    {
     "name": "stderr",
     "output_type": "stream",
     "text": [
      "training loop:  18% |#######                                   | ETA:   0:53:43\n"
     ]
    },
    {
     "name": "stdout",
     "output_type": "stream",
     "text": [
      "t_step: 70 \t, sample_time: 0.002 \tupdate_time: 0.007 \tlearn_time: 0.138 \tsum: 137.198 \tsize: 10242                        \n",
      "Episode 275\tTotal score (max over agents) this episode: 0.20000000298023224\n",
      "t_step: 15 \t, sample_time: 0.003 \tupdate_time: 0.005 \tlearn_time: 0.018 \tsum: 137.309 \tsize: 10273                        "
     ]
    },
    {
     "name": "stderr",
     "output_type": "stream",
     "text": [
      "training loop:  18% |#######                                   | ETA:   0:53:38\n"
     ]
    },
    {
     "name": "stdout",
     "output_type": "stream",
     "text": [
      "t_step: 15 \t, sample_time: 0.002 \tupdate_time: 0.005 \tlearn_time: 0.014 \tsum: 136.742 \tsize: 10274                        \n",
      "Episode 276\tTotal score (max over agents) this episode: 0.0\n",
      "t_step: 10 \t, sample_time: 0.003 \tupdate_time: 0.003 \tlearn_time: 0.022 \tsum: 138.562 \tsize: 10297                        "
     ]
    },
    {
     "name": "stderr",
     "output_type": "stream",
     "text": [
      "training loop:  18% |#######                                   | ETA:   0:53:35\n"
     ]
    },
    {
     "name": "stdout",
     "output_type": "stream",
     "text": [
      "t_step: 10 \t, sample_time: 0.002 \tupdate_time: 0.004 \tlearn_time: 0.023 \tsum: 136.358 \tsize: 10298                        \n",
      "Episode 277\tTotal score (max over agents) this episode: 0.0\n",
      "t_step: 10 \t, sample_time: 0.002 \tupdate_time: 0.003 \tlearn_time: 0.010 \tsum: 140.752 \tsize: 10325                        "
     ]
    },
    {
     "name": "stderr",
     "output_type": "stream",
     "text": [
      "training loop:  18% |#######                                   | ETA:   0:53:28\n"
     ]
    },
    {
     "name": "stdout",
     "output_type": "stream",
     "text": [
      "t_step: 10 \t, sample_time: 0.003 \tupdate_time: 0.004 \tlearn_time: 0.013 \tsum: 139.346 \tsize: 10326                        \n",
      "Episode 278\tTotal score (max over agents) this episode: 0.0\n",
      "t_step: 10 \t, sample_time: 0.002 \tupdate_time: 0.004 \tlearn_time: 0.018 \tsum: 139.853 \tsize: 10355                        "
     ]
    },
    {
     "name": "stderr",
     "output_type": "stream",
     "text": [
      "training loop:  18% |#######                                   | ETA:   0:53:23\n"
     ]
    },
    {
     "name": "stdout",
     "output_type": "stream",
     "text": [
      "t_step: 10 \t, sample_time: 0.002 \tupdate_time: 0.005 \tlearn_time: 0.022 \tsum: 140.430 \tsize: 10356                        \n",
      "Episode 279\tTotal score (max over agents) this episode: 0.0\n",
      "t_step: 20 \t, sample_time: 0.002 \tupdate_time: 0.003 \tlearn_time: 0.012 \tsum: 145.447 \tsize: 10404                        "
     ]
    },
    {
     "name": "stderr",
     "output_type": "stream",
     "text": [
      "training loop:  18% |#######                                   | ETA:   0:53:23\n"
     ]
    },
    {
     "name": "stdout",
     "output_type": "stream",
     "text": [
      "t_step: 25 \t, sample_time: 0.002 \tupdate_time: 0.004 \tlearn_time: 0.012 \tsum: 145.903 \tsize: 10414                        \n",
      "Episode 280\tTotal score (max over agents) this episode: 0.09000000171363354\n",
      "t_step: 5 \t, sample_time: 0.003 \tupdate_time: 0.007 \tlearn_time: 0.012 \tsum: 144.099 \tsize: 10434                        "
     ]
    },
    {
     "name": "stderr",
     "output_type": "stream",
     "text": [
      "training loop:  18% |#######                                   | ETA:   0:53:16\n"
     ]
    },
    {
     "name": "stdout",
     "output_type": "stream",
     "text": [
      "t_step: 10 \t, sample_time: 0.002 \tupdate_time: 0.005 \tlearn_time: 0.013 \tsum: 143.243 \tsize: 10444                        \n",
      "Episode 281\tTotal score (max over agents) this episode: 0.0\n",
      "t_step: 30 \t, sample_time: 0.002 \tupdate_time: 0.003 \tlearn_time: 0.013 \tsum: 144.379 \tsize: 10513                        "
     ]
    },
    {
     "name": "stderr",
     "output_type": "stream",
     "text": [
      "training loop:  18% |#######                                   | ETA:   0:53:20\n"
     ]
    },
    {
     "name": "stdout",
     "output_type": "stream",
     "text": [
      "t_step: 30 \t, sample_time: 0.002 \tupdate_time: 0.004 \tlearn_time: 0.016 \tsum: 144.418 \tsize: 10514                        \n",
      "Episode 282\tTotal score (max over agents) this episode: 0.10000000149011612\n",
      "t_step: 25 \t, sample_time: 0.002 \tupdate_time: 0.003 \tlearn_time: 0.015 \tsum: 147.770 \tsize: 10570                        "
     ]
    },
    {
     "name": "stderr",
     "output_type": "stream",
     "text": [
      "training loop:  18% |#######                                   | ETA:   0:53:22\n"
     ]
    },
    {
     "name": "stdout",
     "output_type": "stream",
     "text": [
      "\n",
      "Episode 283\tTotal score (max over agents) this episode: 0.09000000171363354\n",
      "t_step: 30 \t, sample_time: 0.003 \tupdate_time: 0.004 \tlearn_time: 0.011 \tsum: 149.098 \tsize: 10639                        "
     ]
    },
    {
     "name": "stderr",
     "output_type": "stream",
     "text": [
      "training loop:  18% |#######                                   | ETA:   0:53:25\n"
     ]
    },
    {
     "name": "stdout",
     "output_type": "stream",
     "text": [
      "t_step: 30 \t, sample_time: 0.002 \tupdate_time: 0.003 \tlearn_time: 0.017 \tsum: 147.357 \tsize: 10640                        \n",
      "Episode 284\tTotal score (max over agents) this episode: 0.09000000171363354\n",
      "t_step: 10 \t, sample_time: 0.002 \tupdate_time: 0.003 \tlearn_time: 0.047 \tsum: 148.019 \tsize: 10661                        "
     ]
    },
    {
     "name": "stderr",
     "output_type": "stream",
     "text": [
      "training loop:  19% |#######                                   | ETA:   0:53:19\n"
     ]
    },
    {
     "name": "stdout",
     "output_type": "stream",
     "text": [
      "t_step: 10 \t, sample_time: 0.002 \tupdate_time: 0.005 \tlearn_time: 0.017 \tsum: 147.192 \tsize: 10662                        \n",
      "Episode 285\tTotal score (max over agents) this episode: 0.0\n",
      "t_step: 20 \t, sample_time: 0.002 \tupdate_time: 0.003 \tlearn_time: 0.015 \tsum: 149.984 \tsize: 10710                        "
     ]
    },
    {
     "name": "stderr",
     "output_type": "stream",
     "text": [
      "training loop:  19% |########                                  | ETA:   0:53:18\n"
     ]
    },
    {
     "name": "stdout",
     "output_type": "stream",
     "text": [
      "t_step: 25 \t, sample_time: 0.002 \tupdate_time: 0.003 \tlearn_time: 0.010 \tsum: 150.638 \tsize: 10720                        \n",
      "Episode 286\tTotal score (max over agents) this episode: 0.09000000171363354\n",
      "t_step: 10 \t, sample_time: 0.003 \tupdate_time: 0.003 \tlearn_time: 0.011 \tsum: 148.777 \tsize: 10749                        "
     ]
    },
    {
     "name": "stderr",
     "output_type": "stream",
     "text": [
      "training loop:  19% |########                                  | ETA:   0:53:12\n"
     ]
    },
    {
     "name": "stdout",
     "output_type": "stream",
     "text": [
      "t_step: 10 \t, sample_time: 0.005 \tupdate_time: 0.004 \tlearn_time: 0.011 \tsum: 147.375 \tsize: 10750                        \n",
      "Episode 287\tTotal score (max over agents) this episode: 0.0\n",
      "t_step: 10 \t, sample_time: 0.001 \tupdate_time: 0.004 \tlearn_time: 0.084 \tsum: 149.327 \tsize: 10779                        "
     ]
    },
    {
     "name": "stderr",
     "output_type": "stream",
     "text": [
      "training loop:  19% |########                                  | ETA:   0:53:06\n"
     ]
    },
    {
     "name": "stdout",
     "output_type": "stream",
     "text": [
      "t_step: 10 \t, sample_time: 0.002 \tupdate_time: 0.003 \tlearn_time: 0.013 \tsum: 148.520 \tsize: 10780                        \n",
      "Episode 288\tTotal score (max over agents) this episode: 0.0\n",
      "t_step: 25 \t, sample_time: 0.002 \tupdate_time: 0.003 \tlearn_time: 0.011 \tsum: 152.172 \tsize: 10840                        "
     ]
    },
    {
     "name": "stderr",
     "output_type": "stream",
     "text": [
      "training loop:  19% |########                                  | ETA:   0:53:10\n"
     ]
    },
    {
     "name": "stdout",
     "output_type": "stream",
     "text": [
      "t_step: 30 \t, sample_time: 0.002 \tupdate_time: 0.003 \tlearn_time: 0.008 \tsum: 151.586 \tsize: 10850                        \n",
      "Episode 289\tTotal score (max over agents) this episode: 0.10000000149011612\n",
      "t_step: 25 \t, sample_time: 0.003 \tupdate_time: 0.004 \tlearn_time: 0.012 \tsum: 150.681 \tsize: 10906                        "
     ]
    },
    {
     "name": "stderr",
     "output_type": "stream",
     "text": [
      "training loop:  19% |########                                  | ETA:   0:53:10\n"
     ]
    },
    {
     "name": "stdout",
     "output_type": "stream",
     "text": [
      "t_step: 30 \t, sample_time: 0.002 \tupdate_time: 0.004 \tlearn_time: 0.011 \tsum: 148.849 \tsize: 10916                        \n",
      "Episode 290\tTotal score (max over agents) this episode: 0.10000000149011612\n",
      "t_step: 25 \t, sample_time: 0.002 \tupdate_time: 0.003 \tlearn_time: 0.013 \tsum: 153.811 \tsize: 10970                        "
     ]
    },
    {
     "name": "stderr",
     "output_type": "stream",
     "text": [
      "training loop:  19% |########                                  | ETA:   0:53:12\n"
     ]
    },
    {
     "name": "stdout",
     "output_type": "stream",
     "text": [
      "t_step: 30 \t, sample_time: 0.002 \tupdate_time: 0.003 \tlearn_time: 0.009 \tsum: 155.769 \tsize: 10980                        \n",
      "Episode 291\tTotal score (max over agents) this episode: 0.10000000149011612\n",
      "t_step: 30 \t, sample_time: 0.004 \tupdate_time: 0.004 \tlearn_time: 0.023 \tsum: 155.320 \tsize: 11041                        "
     ]
    },
    {
     "name": "stderr",
     "output_type": "stream",
     "text": [
      "training loop:  19% |########                                  | ETA:   0:53:13\n"
     ]
    },
    {
     "name": "stdout",
     "output_type": "stream",
     "text": [
      "t_step: 30 \t, sample_time: 0.003 \tupdate_time: 0.004 \tlearn_time: 0.015 \tsum: 155.005 \tsize: 11042                        \n",
      "Episode 292\tTotal score (max over agents) this episode: 0.10000000149011612\n",
      "t_step: 5 \t, sample_time: 0.002 \tupdate_time: 0.003 \tlearn_time: 0.012 \tsum: 152.574 \tsize: 11054                        "
     ]
    },
    {
     "name": "stderr",
     "output_type": "stream",
     "text": [
      "training loop:  19% |########                                  | ETA:   0:53:07\n"
     ]
    },
    {
     "name": "stdout",
     "output_type": "stream",
     "text": [
      "t_step: 10 \t, sample_time: 0.002 \tupdate_time: 0.005 \tlearn_time: 0.012 \tsum: 152.341 \tsize: 11064                        \n",
      "Episode 293\tTotal score (max over agents) this episode: 0.0\n",
      "t_step: 5 \t, sample_time: 0.002 \tupdate_time: 0.004 \tlearn_time: 0.011 \tsum: 155.465 \tsize: 11082                        "
     ]
    },
    {
     "name": "stderr",
     "output_type": "stream",
     "text": [
      "training loop:  19% |########                                  | ETA:   0:52:59\n"
     ]
    },
    {
     "name": "stdout",
     "output_type": "stream",
     "text": [
      "t_step: 10 \t, sample_time: 0.002 \tupdate_time: 0.003 \tlearn_time: 0.013 \tsum: 156.167 \tsize: 11092                        \n",
      "Episode 294\tTotal score (max over agents) this episode: 0.0\n",
      "t_step: 25 \t, sample_time: 0.002 \tupdate_time: 0.013 \tlearn_time: 0.021 \tsum: 154.712 \tsize: 11150                        "
     ]
    },
    {
     "name": "stderr",
     "output_type": "stream",
     "text": [
      "training loop:  19% |########                                  | ETA:   0:53:00\n"
     ]
    },
    {
     "name": "stdout",
     "output_type": "stream",
     "text": [
      "t_step: 30 \t, sample_time: 0.002 \tupdate_time: 0.009 \tlearn_time: 0.014 \tsum: 154.086 \tsize: 11160                        \n",
      "Episode 295\tTotal score (max over agents) this episode: 0.10000000149011612\n",
      "t_step: 5 \t, sample_time: 0.004 \tupdate_time: 0.004 \tlearn_time: 0.025 \tsum: 154.786 \tsize: 11172                        "
     ]
    },
    {
     "name": "stderr",
     "output_type": "stream",
     "text": [
      "training loop:  19% |########                                  | ETA:   0:52:53\n"
     ]
    },
    {
     "name": "stdout",
     "output_type": "stream",
     "text": [
      "t_step: 10 \t, sample_time: 0.002 \tupdate_time: 0.003 \tlearn_time: 0.010 \tsum: 154.914 \tsize: 11182                        \n",
      "Episode 296\tTotal score (max over agents) this episode: 0.0\n",
      "t_step: 10 \t, sample_time: 0.002 \tupdate_time: 0.005 \tlearn_time: 0.015 \tsum: 156.605 \tsize: 11209                        "
     ]
    },
    {
     "name": "stderr",
     "output_type": "stream",
     "text": [
      "training loop:  19% |########                                  | ETA:   0:52:46\n"
     ]
    },
    {
     "name": "stdout",
     "output_type": "stream",
     "text": [
      "t_step: 10 \t, sample_time: 0.002 \tupdate_time: 0.003 \tlearn_time: 0.077 \tsum: 155.331 \tsize: 11210                        \n",
      "Episode 297\tTotal score (max over agents) this episode: 0.0\n",
      "t_step: 10 \t, sample_time: 0.002 \tupdate_time: 0.004 \tlearn_time: 0.017 \tsum: 158.324 \tsize: 11237                        "
     ]
    },
    {
     "name": "stderr",
     "output_type": "stream",
     "text": [
      "training loop:  19% |########                                  | ETA:   0:52:42\n"
     ]
    },
    {
     "name": "stdout",
     "output_type": "stream",
     "text": [
      "t_step: 10 \t, sample_time: 0.004 \tupdate_time: 0.004 \tlearn_time: 0.015 \tsum: 158.211 \tsize: 11238                        \n",
      "Episode 298\tTotal score (max over agents) this episode: 0.0\n",
      "t_step: 10 \t, sample_time: 0.004 \tupdate_time: 0.007 \tlearn_time: 0.079 \tsum: 159.523 \tsize: 11265                        "
     ]
    },
    {
     "name": "stderr",
     "output_type": "stream",
     "text": [
      "training loop:  19% |########                                  | ETA:   0:52:39\n"
     ]
    },
    {
     "name": "stdout",
     "output_type": "stream",
     "text": [
      "t_step: 10 \t, sample_time: 0.002 \tupdate_time: 0.004 \tlearn_time: 0.011 \tsum: 159.489 \tsize: 11266                        \n",
      "Episode 299\tTotal score (max over agents) this episode: 0.0\n",
      "t_step: 30 \t, sample_time: 0.002 \tupdate_time: 0.003 \tlearn_time: 0.014 \tsum: 161.275 \tsize: 11334                        \n",
      "Episode 300\tTotal score (max over agents) this episode: 0.09000000171363354"
     ]
    },
    {
     "name": "stderr",
     "output_type": "stream",
     "text": [
      "training loop:  20% |########                                  | ETA:   0:52:41\n"
     ]
    },
    {
     "name": "stdout",
     "output_type": "stream",
     "text": [
      "\n",
      "t_step: 25 \t, sample_time: 0.004 \tupdate_time: 0.004 \tlearn_time: 0.012 \tsum: 160.547 \tsize: 11386                        "
     ]
    },
    {
     "name": "stderr",
     "output_type": "stream",
     "text": [
      "training loop:  20% |########                                  | ETA:   0:52:43\n"
     ]
    },
    {
     "name": "stdout",
     "output_type": "stream",
     "text": [
      "t_step: 30 \t, sample_time: 0.002 \tupdate_time: 0.006 \tlearn_time: 0.023 \tsum: 159.702 \tsize: 11396                        \n",
      "Episode 301\tTotal score (max over agents) this episode: 0.09000000171363354\n",
      "t_step: 5 \t, sample_time: 0.004 \tupdate_time: 0.005 \tlearn_time: 0.042 \tsum: 162.145 \tsize: 11408                        "
     ]
    },
    {
     "name": "stderr",
     "output_type": "stream",
     "text": [
      "training loop:  20% |########                                  | ETA:   0:52:36\n"
     ]
    },
    {
     "name": "stdout",
     "output_type": "stream",
     "text": [
      "t_step: 10 \t, sample_time: 0.002 \tupdate_time: 0.004 \tlearn_time: 0.025 \tsum: 163.438 \tsize: 11418                        \n",
      "Episode 302\tTotal score (max over agents) this episode: 0.0\n",
      "t_step: 30 \t, sample_time: 0.002 \tupdate_time: 0.004 \tlearn_time: 0.032 \tsum: 164.920 \tsize: 11485                        "
     ]
    },
    {
     "name": "stderr",
     "output_type": "stream",
     "text": [
      "training loop:  20% |########                                  | ETA:   0:52:40\n"
     ]
    },
    {
     "name": "stdout",
     "output_type": "stream",
     "text": [
      "t_step: 30 \t, sample_time: 0.002 \tupdate_time: 0.010 \tlearn_time: 0.040 \tsum: 163.245 \tsize: 11486                        \n",
      "Episode 303\tTotal score (max over agents) this episode: 0.10000000149011612\n",
      "t_step: 30 \t, sample_time: 0.002 \tupdate_time: 0.003 \tlearn_time: 0.010 \tsum: 166.486 \tsize: 11547                        "
     ]
    },
    {
     "name": "stderr",
     "output_type": "stream",
     "text": [
      "training loop:  20% |########                                  | ETA:   0:52:44\n"
     ]
    },
    {
     "name": "stdout",
     "output_type": "stream",
     "text": [
      "t_step: 30 \t, sample_time: 0.001 \tupdate_time: 0.003 \tlearn_time: 0.011 \tsum: 162.962 \tsize: 11548                        \n",
      "Episode 304\tTotal score (max over agents) this episode: 0.09000000171363354\n",
      "t_step: 25 \t, sample_time: 0.002 \tupdate_time: 0.006 \tlearn_time: 0.020 \tsum: 167.433 \tsize: 11602                        "
     ]
    },
    {
     "name": "stderr",
     "output_type": "stream",
     "text": [
      "training loop:  20% |########                                  | ETA:   0:52:45\n"
     ]
    },
    {
     "name": "stdout",
     "output_type": "stream",
     "text": [
      "t_step: 30 \t, sample_time: 0.002 \tupdate_time: 0.004 \tlearn_time: 0.012 \tsum: 167.982 \tsize: 11612                        \n",
      "Episode 305\tTotal score (max over agents) this episode: 0.09000000171363354\n",
      "t_step: 30 \t, sample_time: 0.002 \tupdate_time: 0.004 \tlearn_time: 0.011 \tsum: 168.696 \tsize: 11673                        "
     ]
    },
    {
     "name": "stderr",
     "output_type": "stream",
     "text": [
      "training loop:  20% |########                                  | ETA:   0:52:46\n"
     ]
    },
    {
     "name": "stdout",
     "output_type": "stream",
     "text": [
      "t_step: 30 \t, sample_time: 0.003 \tupdate_time: 0.005 \tlearn_time: 0.015 \tsum: 169.020 \tsize: 11674                        \n",
      "Episode 306\tTotal score (max over agents) this episode: 0.09000000171363354\n",
      "t_step: 25 \t, sample_time: 0.002 \tupdate_time: 0.003 \tlearn_time: 0.009 \tsum: 172.114 \tsize: 11726                        "
     ]
    },
    {
     "name": "stderr",
     "output_type": "stream",
     "text": [
      "training loop:  20% |########                                  | ETA:   0:52:49\n"
     ]
    },
    {
     "name": "stdout",
     "output_type": "stream",
     "text": [
      "t_step: 30 \t, sample_time: 0.002 \tupdate_time: 0.005 \tlearn_time: 0.014 \tsum: 172.637 \tsize: 11736                        \n",
      "Episode 307\tTotal score (max over agents) this episode: 0.09000000171363354\n",
      "t_step: 25 \t, sample_time: 0.002 \tupdate_time: 0.006 \tlearn_time: 0.019 \tsum: 172.770 \tsize: 11788                        "
     ]
    },
    {
     "name": "stderr",
     "output_type": "stream",
     "text": [
      "training loop:  20% |########                                  | ETA:   0:52:48\n"
     ]
    },
    {
     "name": "stdout",
     "output_type": "stream",
     "text": [
      "t_step: 30 \t, sample_time: 0.002 \tupdate_time: 0.011 \tlearn_time: 0.022 \tsum: 173.769 \tsize: 11798                        \n",
      "Episode 308\tTotal score (max over agents) this episode: 0.09000000171363354\n",
      "t_step: 25 \t, sample_time: 0.002 \tupdate_time: 0.003 \tlearn_time: 0.007 \tsum: 173.274 \tsize: 11850                        "
     ]
    },
    {
     "name": "stderr",
     "output_type": "stream",
     "text": [
      "training loop:  20% |########                                  | ETA:   0:52:49\n"
     ]
    },
    {
     "name": "stdout",
     "output_type": "stream",
     "text": [
      "t_step: 30 \t, sample_time: 0.002 \tupdate_time: 0.004 \tlearn_time: 0.010 \tsum: 173.412 \tsize: 11860                        \n",
      "Episode 309\tTotal score (max over agents) this episode: 0.10000000149011612\n",
      "t_step: 25 \t, sample_time: 0.002 \tupdate_time: 0.005 \tlearn_time: 0.017 \tsum: 174.708 \tsize: 11914                        "
     ]
    },
    {
     "name": "stderr",
     "output_type": "stream",
     "text": [
      "training loop:  20% |########                                  | ETA:   0:52:51\n"
     ]
    },
    {
     "name": "stdout",
     "output_type": "stream",
     "text": [
      "t_step: 30 \t, sample_time: 0.002 \tupdate_time: 0.003 \tlearn_time: 0.010 \tsum: 173.307 \tsize: 11924                        \n",
      "Episode 310\tTotal score (max over agents) this episode: 0.10000000149011612\n",
      "t_step: 20 \t, sample_time: 0.002 \tupdate_time: 0.003 \tlearn_time: 0.010 \tsum: 176.363 \tsize: 11966                        "
     ]
    },
    {
     "name": "stderr",
     "output_type": "stream",
     "text": [
      "training loop:  20% |########                                  | ETA:   0:52:49\n"
     ]
    },
    {
     "name": "stdout",
     "output_type": "stream",
     "text": [
      "t_step: 25 \t, sample_time: 0.004 \tupdate_time: 0.006 \tlearn_time: 0.013 \tsum: 175.357 \tsize: 11976                        \n",
      "Episode 311\tTotal score (max over agents) this episode: 0.10000000149011612\n",
      "t_step: 10 \t, sample_time: 0.002 \tupdate_time: 0.016 \tlearn_time: 0.044 \tsum: 176.849 \tsize: 12005                        "
     ]
    },
    {
     "name": "stderr",
     "output_type": "stream",
     "text": [
      "training loop:  20% |########                                  | ETA:   0:52:46\n"
     ]
    },
    {
     "name": "stdout",
     "output_type": "stream",
     "text": [
      "t_step: 10 \t, sample_time: 0.002 \tupdate_time: 0.004 \tlearn_time: 0.011 \tsum: 175.553 \tsize: 12006                        \n",
      "Episode 312\tTotal score (max over agents) this episode: 0.0\n",
      "t_step: 25 \t, sample_time: 0.002 \tupdate_time: 0.003 \tlearn_time: 0.013 \tsum: 173.137 \tsize: 12066                        "
     ]
    },
    {
     "name": "stderr",
     "output_type": "stream",
     "text": [
      "training loop:  20% |########                                  | ETA:   0:52:49\n"
     ]
    },
    {
     "name": "stdout",
     "output_type": "stream",
     "text": [
      "t_step: 30 \t, sample_time: 0.001 \tupdate_time: 0.004 \tlearn_time: 0.012 \tsum: 171.597 \tsize: 12076                        \n",
      "Episode 313\tTotal score (max over agents) this episode: 0.09000000171363354\n",
      "t_step: 25 \t, sample_time: 0.001 \tupdate_time: 0.004 \tlearn_time: 0.026 \tsum: 176.213 \tsize: 12128                        "
     ]
    },
    {
     "name": "stderr",
     "output_type": "stream",
     "text": [
      "training loop:  20% |########                                  | ETA:   0:52:50\n"
     ]
    },
    {
     "name": "stdout",
     "output_type": "stream",
     "text": [
      "t_step: 30 \t, sample_time: 0.002 \tupdate_time: 0.003 \tlearn_time: 0.014 \tsum: 177.302 \tsize: 12138                        \n",
      "Episode 314\tTotal score (max over agents) this episode: 0.10000000149011612\n",
      "t_step: 25 \t, sample_time: 0.002 \tupdate_time: 0.004 \tlearn_time: 0.014 \tsum: 175.544 \tsize: 12190                        "
     ]
    },
    {
     "name": "stderr",
     "output_type": "stream",
     "text": [
      "training loop:  21% |########                                  | ETA:   0:52:50\n"
     ]
    },
    {
     "name": "stdout",
     "output_type": "stream",
     "text": [
      "t_step: 30 \t, sample_time: 0.003 \tupdate_time: 0.003 \tlearn_time: 0.011 \tsum: 176.223 \tsize: 12200                        \n",
      "Episode 315\tTotal score (max over agents) this episode: 0.10000000149011612\n",
      "t_step: 25 \t, sample_time: 0.002 \tupdate_time: 0.004 \tlearn_time: 0.024 \tsum: 180.946 \tsize: 12254                        "
     ]
    },
    {
     "name": "stderr",
     "output_type": "stream",
     "text": [
      "training loop:  21% |########                                  | ETA:   0:52:47\n"
     ]
    },
    {
     "name": "stdout",
     "output_type": "stream",
     "text": [
      "\n",
      "Episode 316\tTotal score (max over agents) this episode: 0.09000000171363354\n",
      "t_step: 30 \t, sample_time: 0.002 \tupdate_time: 0.005 \tlearn_time: 0.020 \tsum: 181.390 \tsize: 12323                                                "
     ]
    },
    {
     "name": "stderr",
     "output_type": "stream",
     "text": [
      "training loop:  21% |########                                  | ETA:   0:52:48\n"
     ]
    },
    {
     "name": "stdout",
     "output_type": "stream",
     "text": [
      "t_step: 30 \t, sample_time: 0.003 \tupdate_time: 0.004 \tlearn_time: 0.016 \tsum: 180.425 \tsize: 12324                        \n",
      "Episode 317\tTotal score (max over agents) this episode: 0.10000000149011612\n",
      "t_step: 25 \t, sample_time: 0.002 \tupdate_time: 0.003 \tlearn_time: 0.011 \tsum: 179.085 \tsize: 12376                        "
     ]
    },
    {
     "name": "stderr",
     "output_type": "stream",
     "text": [
      "training loop:  21% |########                                  | ETA:   0:52:48\n"
     ]
    },
    {
     "name": "stdout",
     "output_type": "stream",
     "text": [
      "t_step: 30 \t, sample_time: 0.003 \tupdate_time: 0.005 \tlearn_time: 0.021 \tsum: 178.952 \tsize: 12386                        \n",
      "Episode 318\tTotal score (max over agents) this episode: 0.10000000149011612\n",
      "t_step: 25 \t, sample_time: 0.002 \tupdate_time: 0.003 \tlearn_time: 0.023 \tsum: 183.197 \tsize: 12437                        "
     ]
    },
    {
     "name": "stderr",
     "output_type": "stream",
     "text": [
      "training loop:  21% |########                                  | ETA:   0:52:46\n"
     ]
    },
    {
     "name": "stdout",
     "output_type": "stream",
     "text": [
      "t_step: 25 \t, sample_time: 0.002 \tupdate_time: 0.003 \tlearn_time: 0.012 \tsum: 181.395 \tsize: 12438                        \n",
      "Episode 319\tTotal score (max over agents) this episode: 0.09000000171363354\n",
      "t_step: 25 \t, sample_time: 0.002 \tupdate_time: 0.004 \tlearn_time: 0.011 \tsum: 185.933 \tsize: 12495                        "
     ]
    },
    {
     "name": "stderr",
     "output_type": "stream",
     "text": [
      "training loop:  21% |########                                  | ETA:   0:52:45\n"
     ]
    },
    {
     "name": "stdout",
     "output_type": "stream",
     "text": [
      "t_step: 25 \t, sample_time: 0.002 \tupdate_time: 0.003 \tlearn_time: 0.044 \tsum: 186.555 \tsize: 12496                        \n",
      "Episode 320\tTotal score (max over agents) this episode: 0.10000000149011612\n",
      "t_step: 30 \t, sample_time: 0.002 \tupdate_time: 0.004 \tlearn_time: 0.024 \tsum: 193.645 \tsize: 12565                        "
     ]
    },
    {
     "name": "stderr",
     "output_type": "stream",
     "text": [
      "training loop:  21% |########                                  | ETA:   0:52:49\n"
     ]
    },
    {
     "name": "stdout",
     "output_type": "stream",
     "text": [
      "t_step: 30 \t, sample_time: 0.002 \tupdate_time: 0.004 \tlearn_time: 0.020 \tsum: 194.249 \tsize: 12566                        \n",
      "Episode 321\tTotal score (max over agents) this episode: 0.09000000171363354\n",
      "t_step: 25 \t, sample_time: 0.002 \tupdate_time: 0.004 \tlearn_time: 0.016 \tsum: 191.181 \tsize: 12617                        "
     ]
    },
    {
     "name": "stderr",
     "output_type": "stream",
     "text": [
      "training loop:  21% |#########                                 | ETA:   0:52:48\n"
     ]
    },
    {
     "name": "stdout",
     "output_type": "stream",
     "text": [
      "t_step: 25 \t, sample_time: 0.002 \tupdate_time: 0.003 \tlearn_time: 0.027 \tsum: 191.008 \tsize: 12618                        \n",
      "Episode 322\tTotal score (max over agents) this episode: 0.09000000171363354\n",
      "t_step: 20 \t, sample_time: 0.003 \tupdate_time: 0.006 \tlearn_time: 0.015 \tsum: 200.572 \tsize: 12668                        "
     ]
    },
    {
     "name": "stderr",
     "output_type": "stream",
     "text": [
      "training loop:  21% |#########                                 | ETA:   0:52:45\n"
     ]
    },
    {
     "name": "stdout",
     "output_type": "stream",
     "text": [
      "\n",
      "Episode 323\tTotal score (max over agents) this episode: 0.0\n",
      "t_step: 5 \t, sample_time: 0.002 \tupdate_time: 0.005 \tlearn_time: 0.012 \tsum: 199.106 \tsize: 12688                        "
     ]
    },
    {
     "name": "stderr",
     "output_type": "stream",
     "text": [
      "training loop:  21% |#########                                 | ETA:   0:52:39\n"
     ]
    },
    {
     "name": "stdout",
     "output_type": "stream",
     "text": [
      "t_step: 10 \t, sample_time: 0.002 \tupdate_time: 0.003 \tlearn_time: 0.013 \tsum: 198.731 \tsize: 12698                        \n",
      "Episode 324\tTotal score (max over agents) this episode: 0.0\n",
      "t_step: 10 \t, sample_time: 0.002 \tupdate_time: 0.004 \tlearn_time: 0.011 \tsum: 200.444 \tsize: 12727                        "
     ]
    },
    {
     "name": "stderr",
     "output_type": "stream",
     "text": [
      "training loop:  21% |#########                                 | ETA:   0:52:33\n"
     ]
    },
    {
     "name": "stdout",
     "output_type": "stream",
     "text": [
      "t_step: 10 \t, sample_time: 0.003 \tupdate_time: 0.005 \tlearn_time: 0.014 \tsum: 199.310 \tsize: 12728                        \n",
      "Episode 325\tTotal score (max over agents) this episode: 0.0\n",
      "t_step: 15 \t, sample_time: 0.002 \tupdate_time: 0.004 \tlearn_time: 0.022 \tsum: 202.505 \tsize: 12766                        "
     ]
    },
    {
     "name": "stderr",
     "output_type": "stream",
     "text": [
      "training loop:  21% |#########                                 | ETA:   0:52:31\n"
     ]
    },
    {
     "name": "stdout",
     "output_type": "stream",
     "text": [
      "t_step: 20 \t, sample_time: 0.003 \tupdate_time: 0.003 \tlearn_time: 0.010 \tsum: 202.735 \tsize: 12776                        \n",
      "Episode 326\tTotal score (max over agents) this episode: 0.0\n",
      "t_step: 25 \t, sample_time: 0.002 \tupdate_time: 0.004 \tlearn_time: 0.015 \tsum: 203.838 \tsize: 12832                        "
     ]
    },
    {
     "name": "stderr",
     "output_type": "stream",
     "text": [
      "training loop:  21% |#########                                 | ETA:   0:52:32\n"
     ]
    },
    {
     "name": "stdout",
     "output_type": "stream",
     "text": [
      "\n",
      "Episode 327\tTotal score (max over agents) this episode: 0.10000000149011612\n",
      "t_step: 25 \t, sample_time: 0.006 \tupdate_time: 0.004 \tlearn_time: 0.016 \tsum: 207.758 \tsize: 12891                        "
     ]
    },
    {
     "name": "stderr",
     "output_type": "stream",
     "text": [
      "training loop:  21% |#########                                 | ETA:   0:52:33\n"
     ]
    },
    {
     "name": "stdout",
     "output_type": "stream",
     "text": [
      "t_step: 25 \t, sample_time: 0.002 \tupdate_time: 0.004 \tlearn_time: 0.011 \tsum: 207.816 \tsize: 12892                        \n",
      "Episode 328\tTotal score (max over agents) this episode: 0.09000000171363354\n",
      "t_step: 5 \t, sample_time: 0.003 \tupdate_time: 0.003 \tlearn_time: 0.031 \tsum: 202.055 \tsize: 12912                        "
     ]
    },
    {
     "name": "stderr",
     "output_type": "stream",
     "text": [
      "training loop:  21% |#########                                 | ETA:   0:52:28\n"
     ]
    },
    {
     "name": "stdout",
     "output_type": "stream",
     "text": [
      "t_step: 10 \t, sample_time: 0.002 \tupdate_time: 0.004 \tlearn_time: 0.014 \tsum: 201.345 \tsize: 12922                        \n",
      "Episode 329\tTotal score (max over agents) this episode: 0.0\n",
      "t_step: 15 \t, sample_time: 0.002 \tupdate_time: 0.004 \tlearn_time: 0.011 \tsum: 203.518 \tsize: 12959                        "
     ]
    },
    {
     "name": "stderr",
     "output_type": "stream",
     "text": [
      "training loop:  22% |#########                                 | ETA:   0:52:24\n"
     ]
    },
    {
     "name": "stdout",
     "output_type": "stream",
     "text": [
      "t_step: 15 \t, sample_time: 0.002 \tupdate_time: 0.004 \tlearn_time: 0.017 \tsum: 202.552 \tsize: 12960                        \n",
      "Episode 330\tTotal score (max over agents) this episode: 0.0\n",
      "t_step: 10 \t, sample_time: 0.003 \tupdate_time: 0.008 \tlearn_time: 0.014 \tsum: 201.981 \tsize: 12982                        "
     ]
    },
    {
     "name": "stderr",
     "output_type": "stream",
     "text": [
      "training loop:  22% |#########                                 | ETA:   0:52:19\n"
     ]
    },
    {
     "name": "stdout",
     "output_type": "stream",
     "text": [
      "\n",
      "Episode 331\tTotal score (max over agents) this episode: 0.0\n",
      "t_step: 10 \t, sample_time: 0.004 \tupdate_time: 0.007 \tlearn_time: 0.044 \tsum: 204.239 \tsize: 13009                        "
     ]
    },
    {
     "name": "stderr",
     "output_type": "stream",
     "text": [
      "training loop:  22% |#########                                 | ETA:   0:52:18\n"
     ]
    },
    {
     "name": "stdout",
     "output_type": "stream",
     "text": [
      "t_step: 10 \t, sample_time: 0.003 \tupdate_time: 0.005 \tlearn_time: 0.016 \tsum: 201.509 \tsize: 13010                        \n",
      "Episode 332\tTotal score (max over agents) this episode: 0.0\n",
      "t_step: 10 \t, sample_time: 0.003 \tupdate_time: 0.006 \tlearn_time: 0.015 \tsum: 202.509 \tsize: 13037                        "
     ]
    },
    {
     "name": "stderr",
     "output_type": "stream",
     "text": [
      "training loop:  22% |#########                                 | ETA:   0:52:13\n"
     ]
    },
    {
     "name": "stdout",
     "output_type": "stream",
     "text": [
      "t_step: 10 \t, sample_time: 0.003 \tupdate_time: 0.004 \tlearn_time: 0.023 \tsum: 202.011 \tsize: 13038                        \n",
      "Episode 333\tTotal score (max over agents) this episode: 0.0\n",
      "t_step: 5 \t, sample_time: 0.004 \tupdate_time: 0.003 \tlearn_time: 0.012 \tsum: 202.625 \tsize: 13058                        "
     ]
    },
    {
     "name": "stderr",
     "output_type": "stream",
     "text": [
      "training loop:  22% |#########                                 | ETA:   0:52:06\n"
     ]
    },
    {
     "name": "stdout",
     "output_type": "stream",
     "text": [
      "t_step: 10 \t, sample_time: 0.002 \tupdate_time: 0.006 \tlearn_time: 0.020 \tsum: 203.318 \tsize: 13068                        \n",
      "Episode 334\tTotal score (max over agents) this episode: 0.0\n",
      "t_step: 10 \t, sample_time: 0.003 \tupdate_time: 0.007 \tlearn_time: 0.014 \tsum: 206.887 \tsize: 13095                        "
     ]
    },
    {
     "name": "stderr",
     "output_type": "stream",
     "text": [
      "training loop:  22% |#########                                 | ETA:   0:52:00\n"
     ]
    },
    {
     "name": "stdout",
     "output_type": "stream",
     "text": [
      "t_step: 10 \t, sample_time: 0.002 \tupdate_time: 0.005 \tlearn_time: 0.014 \tsum: 206.202 \tsize: 13096                        \n",
      "Episode 335\tTotal score (max over agents) this episode: 0.0\n",
      "t_step: 10 \t, sample_time: 0.002 \tupdate_time: 0.005 \tlearn_time: 0.016 \tsum: 210.241 \tsize: 13123                        "
     ]
    },
    {
     "name": "stderr",
     "output_type": "stream",
     "text": [
      "training loop:  22% |#########                                 | ETA:   0:51:55\n"
     ]
    },
    {
     "name": "stdout",
     "output_type": "stream",
     "text": [
      "t_step: 10 \t, sample_time: 0.002 \tupdate_time: 0.003 \tlearn_time: 0.046 \tsum: 209.524 \tsize: 13124                        \n",
      "Episode 336\tTotal score (max over agents) this episode: 0.0\n",
      "t_step: 10 \t, sample_time: 0.002 \tupdate_time: 0.004 \tlearn_time: 0.012 \tsum: 212.112 \tsize: 13151                        "
     ]
    },
    {
     "name": "stderr",
     "output_type": "stream",
     "text": [
      "training loop:  22% |#########                                 | ETA:   0:51:50\n"
     ]
    },
    {
     "name": "stdout",
     "output_type": "stream",
     "text": [
      "t_step: 10 \t, sample_time: 0.002 \tupdate_time: 0.007 \tlearn_time: 0.019 \tsum: 208.592 \tsize: 13152                        \n",
      "Episode 337\tTotal score (max over agents) this episode: 0.0\n",
      "t_step: 10 \t, sample_time: 0.003 \tupdate_time: 0.004 \tlearn_time: 0.012 \tsum: 204.176 \tsize: 13180                        "
     ]
    },
    {
     "name": "stderr",
     "output_type": "stream",
     "text": [
      "training loop:  22% |#########                                 | ETA:   0:51:45\n"
     ]
    },
    {
     "name": "stdout",
     "output_type": "stream",
     "text": [
      "\n",
      "Episode 338\tTotal score (max over agents) this episode: 0.0\n",
      "t_step: 10 \t, sample_time: 0.003 \tupdate_time: 0.004 \tlearn_time: 0.012 \tsum: 204.520 \tsize: 13210                        \n",
      "Episode 339\tTotal score (max over agents) this episode: 0.0\n"
     ]
    },
    {
     "name": "stderr",
     "output_type": "stream",
     "text": [
      "training loop:  22% |#########                                 | ETA:   0:51:40\n"
     ]
    },
    {
     "name": "stdout",
     "output_type": "stream",
     "text": [
      "t_step: 5 \t, sample_time: 0.003 \tupdate_time: 0.003 \tlearn_time: 0.024 \tsum: 207.416 \tsize: 13228                        "
     ]
    },
    {
     "name": "stderr",
     "output_type": "stream",
     "text": [
      "training loop:  22% |#########                                 | ETA:   0:51:34\n"
     ]
    },
    {
     "name": "stdout",
     "output_type": "stream",
     "text": [
      "t_step: 10 \t, sample_time: 0.002 \tupdate_time: 0.004 \tlearn_time: 0.013 \tsum: 207.500 \tsize: 13238                        \n",
      "Episode 340\tTotal score (max over agents) this episode: 0.0\n",
      "t_step: 5 \t, sample_time: 0.002 \tupdate_time: 0.005 \tlearn_time: 0.016 \tsum: 211.755 \tsize: 13256                        "
     ]
    },
    {
     "name": "stderr",
     "output_type": "stream",
     "text": [
      "training loop:  22% |#########                                 | ETA:   0:51:28\n"
     ]
    },
    {
     "name": "stdout",
     "output_type": "stream",
     "text": [
      "t_step: 10 \t, sample_time: 0.002 \tupdate_time: 0.004 \tlearn_time: 0.011 \tsum: 211.568 \tsize: 13266                        \n",
      "Episode 341\tTotal score (max over agents) this episode: 0.0\n",
      "t_step: 10 \t, sample_time: 0.003 \tupdate_time: 0.003 \tlearn_time: 0.018 \tsum: 214.292 \tsize: 13293                        "
     ]
    },
    {
     "name": "stderr",
     "output_type": "stream",
     "text": [
      "training loop:  22% |#########                                 | ETA:   0:51:23\n"
     ]
    },
    {
     "name": "stdout",
     "output_type": "stream",
     "text": [
      "t_step: 10 \t, sample_time: 0.002 \tupdate_time: 0.005 \tlearn_time: 0.013 \tsum: 213.838 \tsize: 13294                        \n",
      "Episode 342\tTotal score (max over agents) this episode: 0.0\n",
      "t_step: 5 \t, sample_time: 0.002 \tupdate_time: 0.005 \tlearn_time: 0.012 \tsum: 212.752 \tsize: 13312                        "
     ]
    },
    {
     "name": "stderr",
     "output_type": "stream",
     "text": [
      "training loop:  22% |#########                                 | ETA:   0:51:17\n"
     ]
    },
    {
     "name": "stdout",
     "output_type": "stream",
     "text": [
      "t_step: 10 \t, sample_time: 0.003 \tupdate_time: 0.005 \tlearn_time: 0.011 \tsum: 212.785 \tsize: 13322                        \n",
      "Episode 343\tTotal score (max over agents) this episode: 0.0\n",
      "t_step: 10 \t, sample_time: 0.004 \tupdate_time: 0.005 \tlearn_time: 0.012 \tsum: 208.605 \tsize: 13349                        "
     ]
    },
    {
     "name": "stderr",
     "output_type": "stream",
     "text": [
      "training loop:  22% |#########                                 | ETA:   0:51:12\n"
     ]
    },
    {
     "name": "stdout",
     "output_type": "stream",
     "text": [
      "t_step: 10 \t, sample_time: 0.002 \tupdate_time: 0.005 \tlearn_time: 0.017 \tsum: 209.209 \tsize: 13350                        \n",
      "Episode 344\tTotal score (max over agents) this episode: 0.0\n",
      "t_step: 5 \t, sample_time: 0.002 \tupdate_time: 0.006 \tlearn_time: 0.020 \tsum: 207.633 \tsize: 13368                        "
     ]
    },
    {
     "name": "stderr",
     "output_type": "stream",
     "text": [
      "training loop:  23% |#########                                 | ETA:   0:51:06\n"
     ]
    },
    {
     "name": "stdout",
     "output_type": "stream",
     "text": [
      "t_step: 10 \t, sample_time: 0.002 \tupdate_time: 0.003 \tlearn_time: 0.009 \tsum: 207.249 \tsize: 13378                        \n",
      "Episode 345\tTotal score (max over agents) this episode: 0.0\n",
      "t_step: 10 \t, sample_time: 0.002 \tupdate_time: 0.005 \tlearn_time: 0.026 \tsum: 209.296 \tsize: 13405                        "
     ]
    },
    {
     "name": "stderr",
     "output_type": "stream",
     "text": [
      "training loop:  23% |#########                                 | ETA:   0:50:59\n"
     ]
    },
    {
     "name": "stdout",
     "output_type": "stream",
     "text": [
      "t_step: 10 \t, sample_time: 0.003 \tupdate_time: 0.005 \tlearn_time: 0.017 \tsum: 207.398 \tsize: 13406                        \n",
      "Episode 346\tTotal score (max over agents) this episode: 0.0\n",
      "t_step: 5 \t, sample_time: 0.002 \tupdate_time: 0.005 \tlearn_time: 0.014 \tsum: 208.626 \tsize: 13424                        "
     ]
    },
    {
     "name": "stderr",
     "output_type": "stream",
     "text": [
      "training loop:  23% |#########                                 | ETA:   0:50:56\n"
     ]
    },
    {
     "name": "stdout",
     "output_type": "stream",
     "text": [
      "t_step: 10 \t, sample_time: 0.002 \tupdate_time: 0.004 \tlearn_time: 0.015 \tsum: 208.471 \tsize: 13434                        \n",
      "Episode 347\tTotal score (max over agents) this episode: 0.0\n",
      "t_step: 10 \t, sample_time: 0.004 \tupdate_time: 0.006 \tlearn_time: 0.038 \tsum: 208.034 \tsize: 13461                        "
     ]
    },
    {
     "name": "stderr",
     "output_type": "stream",
     "text": [
      "training loop:  23% |#########                                 | ETA:   0:50:51\n"
     ]
    },
    {
     "name": "stdout",
     "output_type": "stream",
     "text": [
      "t_step: 10 \t, sample_time: 0.002 \tupdate_time: 0.008 \tlearn_time: 0.017 \tsum: 205.205 \tsize: 13462                        \n",
      "Episode 348\tTotal score (max over agents) this episode: 0.0\n",
      "t_step: 10 \t, sample_time: 0.002 \tupdate_time: 0.004 \tlearn_time: 0.012 \tsum: 205.765 \tsize: 13490                        "
     ]
    },
    {
     "name": "stderr",
     "output_type": "stream",
     "text": [
      "training loop:  23% |#########                                 | ETA:   0:50:46\n"
     ]
    },
    {
     "name": "stdout",
     "output_type": "stream",
     "text": [
      "\n",
      "Episode 349\tTotal score (max over agents) this episode: 0.0\n",
      "t_step: 20 \t, sample_time: 0.002 \tupdate_time: 0.004 \tlearn_time: 0.022 \tsum: 209.636 \tsize: 13540                        "
     ]
    },
    {
     "name": "stderr",
     "output_type": "stream",
     "text": [
      "training loop:  23% |#########                                 | ETA:   0:50:43\n"
     ]
    },
    {
     "name": "stdout",
     "output_type": "stream",
     "text": [
      "t_step: 25 \t, sample_time: 0.002 \tupdate_time: 0.007 \tlearn_time: 0.016 \tsum: 211.631 \tsize: 13550                        \n",
      "Episode 350\tTotal score (max over agents) this episode: 0.10000000149011612\n",
      "t_step: 15 \t, sample_time: 0.002 \tupdate_time: 0.012 \tlearn_time: 0.065 \tsum: 213.431 \tsize: 13589                        "
     ]
    },
    {
     "name": "stderr",
     "output_type": "stream",
     "text": [
      "training loop:  23% |#########                                 | ETA:   0:50:38\n"
     ]
    },
    {
     "name": "stdout",
     "output_type": "stream",
     "text": [
      "t_step: 15 \t, sample_time: 0.002 \tupdate_time: 0.005 \tlearn_time: 0.020 \tsum: 213.456 \tsize: 13590                        \n",
      "Episode 351\tTotal score (max over agents) this episode: 0.0\n",
      "t_step: 10 \t, sample_time: 0.002 \tupdate_time: 0.005 \tlearn_time: 0.015 \tsum: 212.814 \tsize: 13611                        "
     ]
    },
    {
     "name": "stderr",
     "output_type": "stream",
     "text": [
      "training loop:  23% |#########                                 | ETA:   0:50:32\n"
     ]
    },
    {
     "name": "stdout",
     "output_type": "stream",
     "text": [
      "t_step: 10 \t, sample_time: 0.003 \tupdate_time: 0.004 \tlearn_time: 0.021 \tsum: 211.329 \tsize: 13612                        \n",
      "Episode 352\tTotal score (max over agents) this episode: 0.0\n",
      "t_step: 25 \t, sample_time: 0.008 \tupdate_time: 0.002 \tlearn_time: 0.017 \tsum: 214.350 \tsize: 13669                        "
     ]
    },
    {
     "name": "stderr",
     "output_type": "stream",
     "text": [
      "training loop:  23% |#########                                 | ETA:   0:50:31\n"
     ]
    },
    {
     "name": "stdout",
     "output_type": "stream",
     "text": [
      "t_step: 25 \t, sample_time: 0.003 \tupdate_time: 0.003 \tlearn_time: 0.028 \tsum: 214.657 \tsize: 13670                        \n",
      "Episode 353\tTotal score (max over agents) this episode: 0.10000000149011612\n",
      "t_step: 10 \t, sample_time: 0.003 \tupdate_time: 0.004 \tlearn_time: 0.011 \tsum: 216.300 \tsize: 13700                        "
     ]
    },
    {
     "name": "stderr",
     "output_type": "stream",
     "text": [
      "training loop:  23% |#########                                 | ETA:   0:50:25\n"
     ]
    },
    {
     "name": "stdout",
     "output_type": "stream",
     "text": [
      "\n",
      "Episode 354\tTotal score (max over agents) this episode: 0.0\n",
      "t_step: 5 \t, sample_time: 0.002 \tupdate_time: 0.003 \tlearn_time: 0.009 \tsum: 217.461 \tsize: 13720                        "
     ]
    },
    {
     "name": "stderr",
     "output_type": "stream",
     "text": [
      "training loop:  23% |#########                                 | ETA:   0:50:19\n"
     ]
    },
    {
     "name": "stdout",
     "output_type": "stream",
     "text": [
      "t_step: 10 \t, sample_time: 0.002 \tupdate_time: 0.004 \tlearn_time: 0.012 \tsum: 217.290 \tsize: 13730                        \n",
      "Episode 355\tTotal score (max over agents) this episode: 0.0\n",
      "t_step: 5 \t, sample_time: 0.002 \tupdate_time: 0.004 \tlearn_time: 0.011 \tsum: 219.333 \tsize: 13748                        "
     ]
    },
    {
     "name": "stderr",
     "output_type": "stream",
     "text": [
      "training loop:  23% |#########                                 | ETA:   0:50:13\n"
     ]
    },
    {
     "name": "stdout",
     "output_type": "stream",
     "text": [
      "t_step: 10 \t, sample_time: 0.002 \tupdate_time: 0.004 \tlearn_time: 0.014 \tsum: 218.810 \tsize: 13758                        \n",
      "Episode 356\tTotal score (max over agents) this episode: 0.0\n",
      "t_step: 5 \t, sample_time: 0.002 \tupdate_time: 0.004 \tlearn_time: 0.018 \tsum: 219.288 \tsize: 13776                        "
     ]
    },
    {
     "name": "stderr",
     "output_type": "stream",
     "text": [
      "training loop:  23% |#########                                 | ETA:   0:50:06\n"
     ]
    },
    {
     "name": "stdout",
     "output_type": "stream",
     "text": [
      "t_step: 10 \t, sample_time: 0.002 \tupdate_time: 0.003 \tlearn_time: 0.028 \tsum: 216.579 \tsize: 13786                        \n",
      "Episode 357\tTotal score (max over agents) this episode: 0.0\n",
      "t_step: 15 \t, sample_time: 0.003 \tupdate_time: 0.004 \tlearn_time: 0.018 \tsum: 219.942 \tsize: 13823                        "
     ]
    },
    {
     "name": "stderr",
     "output_type": "stream",
     "text": [
      "training loop:  23% |##########                                | ETA:   0:50:03\n"
     ]
    },
    {
     "name": "stdout",
     "output_type": "stream",
     "text": [
      "t_step: 15 \t, sample_time: 0.003 \tupdate_time: 0.008 \tlearn_time: 0.027 \tsum: 218.513 \tsize: 13824                        \n",
      "Episode 358\tTotal score (max over agents) this episode: 0.0\n",
      "t_step: 10 \t, sample_time: 0.002 \tupdate_time: 0.016 \tlearn_time: 0.081 \tsum: 219.321 \tsize: 13845                        "
     ]
    },
    {
     "name": "stderr",
     "output_type": "stream",
     "text": [
      "training loop:  23% |##########                                | ETA:   0:49:58\n"
     ]
    },
    {
     "name": "stdout",
     "output_type": "stream",
     "text": [
      "t_step: 10 \t, sample_time: 0.003 \tupdate_time: 0.004 \tlearn_time: 0.012 \tsum: 218.558 \tsize: 13846                        \n",
      "Episode 359\tTotal score (max over agents) this episode: 0.0\n",
      "t_step: 10 \t, sample_time: 0.003 \tupdate_time: 0.004 \tlearn_time: 0.012 \tsum: 216.427 \tsize: 13873                        "
     ]
    },
    {
     "name": "stderr",
     "output_type": "stream",
     "text": [
      "training loop:  24% |##########                                | ETA:   0:49:52\n"
     ]
    },
    {
     "name": "stdout",
     "output_type": "stream",
     "text": [
      "t_step: 10 \t, sample_time: 0.003 \tupdate_time: 0.005 \tlearn_time: 0.014 \tsum: 218.184 \tsize: 13874                        \n",
      "Episode 360\tTotal score (max over agents) this episode: 0.0\n",
      "t_step: 5 \t, sample_time: 0.002 \tupdate_time: 0.003 \tlearn_time: 0.011 \tsum: 218.464 \tsize: 13892                        "
     ]
    },
    {
     "name": "stderr",
     "output_type": "stream",
     "text": [
      "training loop:  24% |##########                                | ETA:   0:49:46\n"
     ]
    },
    {
     "name": "stdout",
     "output_type": "stream",
     "text": [
      "t_step: 10 \t, sample_time: 0.002 \tupdate_time: 0.005 \tlearn_time: 0.013 \tsum: 217.915 \tsize: 13902                        \n",
      "Episode 361\tTotal score (max over agents) this episode: 0.0\n",
      "t_step: 20 \t, sample_time: 0.002 \tupdate_time: 0.003 \tlearn_time: 0.017 \tsum: 220.353 \tsize: 13948                        "
     ]
    },
    {
     "name": "stderr",
     "output_type": "stream",
     "text": [
      "training loop:  24% |##########                                | ETA:   0:49:46\n"
     ]
    },
    {
     "name": "stdout",
     "output_type": "stream",
     "text": [
      "t_step: 25 \t, sample_time: 0.003 \tupdate_time: 0.004 \tlearn_time: 0.021 \tsum: 220.966 \tsize: 13958                        \n",
      "Episode 362\tTotal score (max over agents) this episode: 0.10000000149011612\n",
      "t_step: 10 \t, sample_time: 0.003 \tupdate_time: 0.004 \tlearn_time: 0.011 \tsum: 232.185 \tsize: 13987                        "
     ]
    },
    {
     "name": "stderr",
     "output_type": "stream",
     "text": [
      "training loop:  24% |##########                                | ETA:   0:49:41\n"
     ]
    },
    {
     "name": "stdout",
     "output_type": "stream",
     "text": [
      "t_step: 10 \t, sample_time: 0.003 \tupdate_time: 0.005 \tlearn_time: 0.054 \tsum: 228.445 \tsize: 13988                        \n",
      "Episode 363\tTotal score (max over agents) this episode: 0.0\n",
      "t_step: 10 \t, sample_time: 0.006 \tupdate_time: 0.006 \tlearn_time: 0.038 \tsum: 230.559 \tsize: 14015                        "
     ]
    },
    {
     "name": "stderr",
     "output_type": "stream",
     "text": [
      "training loop:  24% |##########                                | ETA:   0:49:36\n"
     ]
    },
    {
     "name": "stdout",
     "output_type": "stream",
     "text": [
      "t_step: 10 \t, sample_time: 0.002 \tupdate_time: 0.007 \tlearn_time: 0.017 \tsum: 226.076 \tsize: 14016                        \n",
      "Episode 364\tTotal score (max over agents) this episode: 0.0\n",
      "t_step: 10 \t, sample_time: 0.002 \tupdate_time: 0.008 \tlearn_time: 0.015 \tsum: 230.780 \tsize: 14041                        "
     ]
    },
    {
     "name": "stderr",
     "output_type": "stream",
     "text": [
      "training loop:  24% |##########                                | ETA:   0:49:31\n"
     ]
    },
    {
     "name": "stdout",
     "output_type": "stream",
     "text": [
      "t_step: 10 \t, sample_time: 0.002 \tupdate_time: 0.003 \tlearn_time: 0.039 \tsum: 228.677 \tsize: 14042                        \n",
      "Episode 365\tTotal score (max over agents) this episode: 0.0\n",
      "t_step: 10 \t, sample_time: 0.002 \tupdate_time: 0.004 \tlearn_time: 0.036 \tsum: 236.838 \tsize: 14072                        "
     ]
    },
    {
     "name": "stderr",
     "output_type": "stream",
     "text": [
      "training loop:  24% |##########                                | ETA:   0:49:26\n"
     ]
    },
    {
     "name": "stdout",
     "output_type": "stream",
     "text": [
      "\n",
      "Episode 366\tTotal score (max over agents) this episode: 0.0\n",
      "t_step: 10 \t, sample_time: 0.002 \tupdate_time: 0.004 \tlearn_time: 0.023 \tsum: 235.156 \tsize: 14100                        \n",
      "Episode 367\tTotal score (max over agents) this episode: 0.0"
     ]
    },
    {
     "name": "stderr",
     "output_type": "stream",
     "text": [
      "training loop:  24% |##########                                | ETA:   0:49:22\n"
     ]
    },
    {
     "name": "stdout",
     "output_type": "stream",
     "text": [
      "\n",
      "t_step: 5 \t, sample_time: 0.003 \tupdate_time: 0.003 \tlearn_time: 0.018 \tsum: 232.701 \tsize: 14118                        "
     ]
    },
    {
     "name": "stderr",
     "output_type": "stream",
     "text": [
      "training loop:  24% |##########                                | ETA:   0:49:16\n"
     ]
    },
    {
     "name": "stdout",
     "output_type": "stream",
     "text": [
      "t_step: 10 \t, sample_time: 0.002 \tupdate_time: 0.007 \tlearn_time: 0.017 \tsum: 230.358 \tsize: 14128                        \n",
      "Episode 368\tTotal score (max over agents) this episode: 0.0\n",
      "t_step: 10 \t, sample_time: 0.002 \tupdate_time: 0.003 \tlearn_time: 0.049 \tsum: 226.797 \tsize: 14155                        "
     ]
    },
    {
     "name": "stderr",
     "output_type": "stream",
     "text": [
      "training loop:  24% |##########                                | ETA:   0:49:12\n"
     ]
    },
    {
     "name": "stdout",
     "output_type": "stream",
     "text": [
      "t_step: 10 \t, sample_time: 0.003 \tupdate_time: 0.005 \tlearn_time: 0.024 \tsum: 226.531 \tsize: 14156                        \n",
      "Episode 369\tTotal score (max over agents) this episode: 0.0\n",
      "t_step: 10 \t, sample_time: 0.005 \tupdate_time: 0.005 \tlearn_time: 0.025 \tsum: 230.873 \tsize: 14183                        "
     ]
    },
    {
     "name": "stderr",
     "output_type": "stream",
     "text": [
      "training loop:  24% |##########                                | ETA:   0:49:08\n"
     ]
    },
    {
     "name": "stdout",
     "output_type": "stream",
     "text": [
      "t_step: 10 \t, sample_time: 0.002 \tupdate_time: 0.003 \tlearn_time: 0.014 \tsum: 229.720 \tsize: 14184                        \n",
      "Episode 370\tTotal score (max over agents) this episode: 0.0\n",
      "t_step: 10 \t, sample_time: 0.002 \tupdate_time: 0.003 \tlearn_time: 0.014 \tsum: 231.636 \tsize: 14213                        "
     ]
    },
    {
     "name": "stderr",
     "output_type": "stream",
     "text": [
      "training loop:  24% |##########                                | ETA:   0:49:03\n"
     ]
    },
    {
     "name": "stdout",
     "output_type": "stream",
     "text": [
      "t_step: 10 \t, sample_time: 0.004 \tupdate_time: 0.003 \tlearn_time: 0.017 \tsum: 228.826 \tsize: 14214                        \n",
      "Episode 371\tTotal score (max over agents) this episode: 0.0\n",
      "t_step: 10 \t, sample_time: 0.002 \tupdate_time: 0.005 \tlearn_time: 0.016 \tsum: 229.065 \tsize: 14241                        "
     ]
    },
    {
     "name": "stderr",
     "output_type": "stream",
     "text": [
      "training loop:  24% |##########                                | ETA:   0:48:58\n"
     ]
    },
    {
     "name": "stdout",
     "output_type": "stream",
     "text": [
      "t_step: 10 \t, sample_time: 0.002 \tupdate_time: 0.003 \tlearn_time: 0.010 \tsum: 228.678 \tsize: 14242                        \n",
      "Episode 372\tTotal score (max over agents) this episode: 0.0\n",
      "t_step: 5 \t, sample_time: 0.003 \tupdate_time: 0.005 \tlearn_time: 0.029 \tsum: 230.435 \tsize: 14260                        "
     ]
    },
    {
     "name": "stderr",
     "output_type": "stream",
     "text": [
      "training loop:  24% |##########                                | ETA:   0:48:53\n"
     ]
    },
    {
     "name": "stdout",
     "output_type": "stream",
     "text": [
      "t_step: 10 \t, sample_time: 0.003 \tupdate_time: 0.003 \tlearn_time: 0.012 \tsum: 234.909 \tsize: 14270                        \n",
      "Episode 373\tTotal score (max over agents) this episode: 0.0\n",
      "t_step: 10 \t, sample_time: 0.002 \tupdate_time: 0.005 \tlearn_time: 0.079 \tsum: 240.716 \tsize: 14297                        "
     ]
    },
    {
     "name": "stderr",
     "output_type": "stream",
     "text": [
      "training loop:  24% |##########                                | ETA:   0:48:49\n"
     ]
    },
    {
     "name": "stdout",
     "output_type": "stream",
     "text": [
      "t_step: 10 \t, sample_time: 0.002 \tupdate_time: 0.006 \tlearn_time: 0.016 \tsum: 240.084 \tsize: 14298                        \n",
      "Episode 374\tTotal score (max over agents) this episode: 0.0\n",
      "t_step: 5 \t, sample_time: 0.003 \tupdate_time: 0.004 \tlearn_time: 0.011 \tsum: 238.656 \tsize: 14316                        "
     ]
    },
    {
     "name": "stderr",
     "output_type": "stream",
     "text": [
      "training loop:  25% |##########                                | ETA:   0:48:44\n"
     ]
    },
    {
     "name": "stdout",
     "output_type": "stream",
     "text": [
      "t_step: 10 \t, sample_time: 0.002 \tupdate_time: 0.003 \tlearn_time: 0.012 \tsum: 235.660 \tsize: 14326                        \n",
      "Episode 375\tTotal score (max over agents) this episode: 0.0\n",
      "t_step: 5 \t, sample_time: 0.003 \tupdate_time: 0.004 \tlearn_time: 0.012 \tsum: 238.521 \tsize: 14346                        "
     ]
    },
    {
     "name": "stderr",
     "output_type": "stream",
     "text": [
      "training loop:  25% |##########                                | ETA:   0:48:38\n"
     ]
    },
    {
     "name": "stdout",
     "output_type": "stream",
     "text": [
      "t_step: 10 \t, sample_time: 0.003 \tupdate_time: 0.004 \tlearn_time: 0.015 \tsum: 237.350 \tsize: 14356                        \n",
      "Episode 376\tTotal score (max over agents) this episode: 0.0\n",
      "t_step: 25 \t, sample_time: 0.002 \tupdate_time: 0.004 \tlearn_time: 0.063 \tsum: 241.999 \tsize: 14413                        "
     ]
    },
    {
     "name": "stderr",
     "output_type": "stream",
     "text": [
      "training loop:  25% |##########                                | ETA:   0:48:41\n"
     ]
    },
    {
     "name": "stdout",
     "output_type": "stream",
     "text": [
      "t_step: 25 \t, sample_time: 0.002 \tupdate_time: 0.003 \tlearn_time: 0.012 \tsum: 241.260 \tsize: 14414                        \n",
      "Episode 377\tTotal score (max over agents) this episode: 0.09000000171363354\n",
      "t_step: 5 \t, sample_time: 0.003 \tupdate_time: 0.004 \tlearn_time: 0.011 \tsum: 243.438 \tsize: 14434                        "
     ]
    },
    {
     "name": "stderr",
     "output_type": "stream",
     "text": [
      "training loop:  25% |##########                                | ETA:   0:48:36\n"
     ]
    },
    {
     "name": "stdout",
     "output_type": "stream",
     "text": [
      "t_step: 10 \t, sample_time: 0.002 \tupdate_time: 0.003 \tlearn_time: 0.008 \tsum: 241.948 \tsize: 14444                        \n",
      "Episode 378\tTotal score (max over agents) this episode: 0.0\n",
      "t_step: 5 \t, sample_time: 0.002 \tupdate_time: 0.006 \tlearn_time: 0.015 \tsum: 240.318 \tsize: 14464                        "
     ]
    },
    {
     "name": "stderr",
     "output_type": "stream",
     "text": [
      "training loop:  25% |##########                                | ETA:   0:48:31\n"
     ]
    },
    {
     "name": "stdout",
     "output_type": "stream",
     "text": [
      "t_step: 10 \t, sample_time: 0.003 \tupdate_time: 0.003 \tlearn_time: 0.018 \tsum: 244.304 \tsize: 14474                        \n",
      "Episode 379\tTotal score (max over agents) this episode: 0.0\n",
      "t_step: 25 \t, sample_time: 0.002 \tupdate_time: 0.004 \tlearn_time: 0.011 \tsum: 240.367 \tsize: 14532                        "
     ]
    },
    {
     "name": "stderr",
     "output_type": "stream",
     "text": [
      "training loop:  25% |##########                                | ETA:   0:48:31\n"
     ]
    },
    {
     "name": "stdout",
     "output_type": "stream",
     "text": [
      "t_step: 30 \t, sample_time: 0.002 \tupdate_time: 0.005 \tlearn_time: 0.011 \tsum: 241.787 \tsize: 14542                        \n",
      "Episode 380\tTotal score (max over agents) this episode: 0.10000000149011612\n",
      "t_step: 10 \t, sample_time: 0.002 \tupdate_time: 0.003 \tlearn_time: 0.009 \tsum: 240.930 \tsize: 14568                        "
     ]
    },
    {
     "name": "stderr",
     "output_type": "stream",
     "text": [
      "training loop:  25% |##########                                | ETA:   0:48:27\n"
     ]
    },
    {
     "name": "stdout",
     "output_type": "stream",
     "text": [
      "\n",
      "Episode 381\tTotal score (max over agents) this episode: 0.0\n",
      "t_step: 5 \t, sample_time: 0.002 \tupdate_time: 0.004 \tlearn_time: 0.011 \tsum: 242.752 \tsize: 14586                        "
     ]
    },
    {
     "name": "stderr",
     "output_type": "stream",
     "text": [
      "training loop:  25% |##########                                | ETA:   0:48:22\n"
     ]
    },
    {
     "name": "stdout",
     "output_type": "stream",
     "text": [
      "t_step: 10 \t, sample_time: 0.002 \tupdate_time: 0.003 \tlearn_time: 0.015 \tsum: 246.108 \tsize: 14596                        \n",
      "Episode 382\tTotal score (max over agents) this episode: 0.0\n",
      "t_step: 5 \t, sample_time: 0.002 \tupdate_time: 0.004 \tlearn_time: 0.012 \tsum: 249.044 \tsize: 14614                        "
     ]
    },
    {
     "name": "stderr",
     "output_type": "stream",
     "text": [
      "training loop:  25% |##########                                | ETA:   0:48:16\n"
     ]
    },
    {
     "name": "stdout",
     "output_type": "stream",
     "text": [
      "t_step: 10 \t, sample_time: 0.004 \tupdate_time: 0.003 \tlearn_time: 0.010 \tsum: 250.673 \tsize: 14624                        \n",
      "Episode 383\tTotal score (max over agents) this episode: 0.0\n",
      "t_step: 10 \t, sample_time: 0.004 \tupdate_time: 0.004 \tlearn_time: 0.015 \tsum: 252.727 \tsize: 14651                        "
     ]
    },
    {
     "name": "stderr",
     "output_type": "stream",
     "text": [
      "training loop:  25% |##########                                | ETA:   0:48:12\n"
     ]
    },
    {
     "name": "stdout",
     "output_type": "stream",
     "text": [
      "t_step: 10 \t, sample_time: 0.002 \tupdate_time: 0.005 \tlearn_time: 0.012 \tsum: 252.957 \tsize: 14652                        \n",
      "Episode 384\tTotal score (max over agents) this episode: 0.0\n",
      "t_step: 10 \t, sample_time: 0.003 \tupdate_time: 0.003 \tlearn_time: 0.011 \tsum: 259.919 \tsize: 14679                        "
     ]
    },
    {
     "name": "stderr",
     "output_type": "stream",
     "text": [
      "training loop:  25% |##########                                | ETA:   0:48:06\n"
     ]
    },
    {
     "name": "stdout",
     "output_type": "stream",
     "text": [
      "t_step: 10 \t, sample_time: 0.002 \tupdate_time: 0.003 \tlearn_time: 0.014 \tsum: 257.659 \tsize: 14680                        \n",
      "Episode 385\tTotal score (max over agents) this episode: 0.0\n",
      "t_step: 10 \t, sample_time: 0.002 \tupdate_time: 0.005 \tlearn_time: 0.014 \tsum: 260.814 \tsize: 14709                        "
     ]
    },
    {
     "name": "stderr",
     "output_type": "stream",
     "text": [
      "training loop:  25% |##########                                | ETA:   0:48:02\n"
     ]
    },
    {
     "name": "stdout",
     "output_type": "stream",
     "text": [
      "t_step: 10 \t, sample_time: 0.002 \tupdate_time: 0.003 \tlearn_time: 0.100 \tsum: 257.914 \tsize: 14710                        \n",
      "Episode 386\tTotal score (max over agents) this episode: 0.0\n",
      "t_step: 20 \t, sample_time: 0.002 \tupdate_time: 0.003 \tlearn_time: 0.010 \tsum: 261.548 \tsize: 14757                        "
     ]
    },
    {
     "name": "stderr",
     "output_type": "stream",
     "text": [
      "training loop:  25% |##########                                | ETA:   0:48:02\n"
     ]
    },
    {
     "name": "stdout",
     "output_type": "stream",
     "text": [
      "t_step: 20 \t, sample_time: 0.004 \tupdate_time: 0.006 \tlearn_time: 0.015 \tsum: 260.902 \tsize: 14758                        \n",
      "Episode 387\tTotal score (max over agents) this episode: 0.0\n",
      "t_step: 5 \t, sample_time: 0.002 \tupdate_time: 0.004 \tlearn_time: 0.010 \tsum: 258.766 \tsize: 14774                        "
     ]
    },
    {
     "name": "stderr",
     "output_type": "stream",
     "text": [
      "training loop:  25% |##########                                | ETA:   0:47:56\n"
     ]
    },
    {
     "name": "stdout",
     "output_type": "stream",
     "text": [
      "t_step: 10 \t, sample_time: 0.002 \tupdate_time: 0.003 \tlearn_time: 0.010 \tsum: 259.653 \tsize: 14784                        \n",
      "Episode 388\tTotal score (max over agents) this episode: 0.0\n",
      "t_step: 10 \t, sample_time: 0.002 \tupdate_time: 0.005 \tlearn_time: 0.014 \tsum: 262.040 \tsize: 14812                        "
     ]
    },
    {
     "name": "stderr",
     "output_type": "stream",
     "text": [
      "training loop:  25% |##########                                | ETA:   0:47:51\n"
     ]
    },
    {
     "name": "stdout",
     "output_type": "stream",
     "text": [
      "\n",
      "Episode 389\tTotal score (max over agents) this episode: 0.0\n",
      "t_step: 10 \t, sample_time: 0.002 \tupdate_time: 0.004 \tlearn_time: 0.028 \tsum: 265.812 \tsize: 14839                        "
     ]
    },
    {
     "name": "stderr",
     "output_type": "stream",
     "text": [
      "training loop:  26% |##########                                | ETA:   0:47:46\n"
     ]
    },
    {
     "name": "stdout",
     "output_type": "stream",
     "text": [
      "t_step: 10 \t, sample_time: 0.002 \tupdate_time: 0.016 \tlearn_time: 0.057 \tsum: 263.768 \tsize: 14840                        \n",
      "Episode 390\tTotal score (max over agents) this episode: 0.0\n",
      "t_step: 10 \t, sample_time: 0.014 \tupdate_time: 0.005 \tlearn_time: 0.070 \tsum: 261.958 \tsize: 14867                        "
     ]
    },
    {
     "name": "stderr",
     "output_type": "stream",
     "text": [
      "training loop:  26% |##########                                | ETA:   0:47:41\n"
     ]
    },
    {
     "name": "stdout",
     "output_type": "stream",
     "text": [
      "t_step: 10 \t, sample_time: 0.005 \tupdate_time: 0.003 \tlearn_time: 0.011 \tsum: 261.724 \tsize: 14868                        \n",
      "Episode 391\tTotal score (max over agents) this episode: 0.0\n",
      "t_step: 5 \t, sample_time: 0.001 \tupdate_time: 0.003 \tlearn_time: 0.012 \tsum: 264.212 \tsize: 14888                        "
     ]
    },
    {
     "name": "stderr",
     "output_type": "stream",
     "text": [
      "training loop:  26% |##########                                | ETA:   0:47:36\n"
     ]
    },
    {
     "name": "stdout",
     "output_type": "stream",
     "text": [
      "t_step: 10 \t, sample_time: 0.003 \tupdate_time: 0.003 \tlearn_time: 0.015 \tsum: 262.730 \tsize: 14898                        \n",
      "Episode 392\tTotal score (max over agents) this episode: 0.0\n",
      "t_step: 10 \t, sample_time: 0.005 \tupdate_time: 0.010 \tlearn_time: 0.020 \tsum: 263.527 \tsize: 14925                        "
     ]
    },
    {
     "name": "stderr",
     "output_type": "stream",
     "text": [
      "training loop:  26% |###########                               | ETA:   0:47:33\n"
     ]
    },
    {
     "name": "stdout",
     "output_type": "stream",
     "text": [
      "t_step: 10 \t, sample_time: 0.003 \tupdate_time: 0.007 \tlearn_time: 0.027 \tsum: 263.090 \tsize: 14926                        \n",
      "Episode 393\tTotal score (max over agents) this episode: 0.0\n",
      "t_step: 10 \t, sample_time: 0.002 \tupdate_time: 0.004 \tlearn_time: 0.011 \tsum: 263.133 \tsize: 14953                        "
     ]
    },
    {
     "name": "stderr",
     "output_type": "stream",
     "text": [
      "training loop:  26% |###########                               | ETA:   0:47:29\n"
     ]
    },
    {
     "name": "stdout",
     "output_type": "stream",
     "text": [
      "t_step: 10 \t, sample_time: 0.002 \tupdate_time: 0.005 \tlearn_time: 0.014 \tsum: 264.911 \tsize: 14954                        \n",
      "Episode 394\tTotal score (max over agents) this episode: 0.0\n",
      "t_step: 5 \t, sample_time: 0.005 \tupdate_time: 0.005 \tlearn_time: 0.012 \tsum: 270.240 \tsize: 14972                        "
     ]
    },
    {
     "name": "stderr",
     "output_type": "stream",
     "text": [
      "training loop:  26% |###########                               | ETA:   0:47:23\n"
     ]
    },
    {
     "name": "stdout",
     "output_type": "stream",
     "text": [
      "t_step: 10 \t, sample_time: 0.002 \tupdate_time: 0.003 \tlearn_time: 0.011 \tsum: 272.101 \tsize: 14982                        \n",
      "Episode 395\tTotal score (max over agents) this episode: 0.0\n",
      "t_step: 10 \t, sample_time: 0.002 \tupdate_time: 0.003 \tlearn_time: 0.035 \tsum: 276.597 \tsize: 15009                        "
     ]
    },
    {
     "name": "stderr",
     "output_type": "stream",
     "text": [
      "training loop:  26% |###########                               | ETA:   0:47:18\n"
     ]
    },
    {
     "name": "stdout",
     "output_type": "stream",
     "text": [
      "t_step: 10 \t, sample_time: 0.003 \tupdate_time: 0.009 \tlearn_time: 0.025 \tsum: 277.045 \tsize: 15010                        \n",
      "Episode 396\tTotal score (max over agents) this episode: 0.0\n",
      "t_step: 10 \t, sample_time: 0.002 \tupdate_time: 0.003 \tlearn_time: 0.009 \tsum: 276.635 \tsize: 15040                        "
     ]
    },
    {
     "name": "stderr",
     "output_type": "stream",
     "text": [
      "training loop:  26% |###########                               | ETA:   0:47:13\n"
     ]
    },
    {
     "name": "stdout",
     "output_type": "stream",
     "text": [
      "\n",
      "Episode 397\tTotal score (max over agents) this episode: 0.0\n",
      "t_step: 10 \t, sample_time: 0.002 \tupdate_time: 0.003 \tlearn_time: 0.017 \tsum: 280.039 \tsize: 15067                        "
     ]
    },
    {
     "name": "stderr",
     "output_type": "stream",
     "text": [
      "training loop:  26% |###########                               | ETA:   0:47:12\n"
     ]
    },
    {
     "name": "stdout",
     "output_type": "stream",
     "text": [
      "t_step: 10 \t, sample_time: 0.003 \tupdate_time: 0.007 \tlearn_time: 0.045 \tsum: 280.106 \tsize: 15068                        \n",
      "Episode 398\tTotal score (max over agents) this episode: 0.0\n",
      "t_step: 5 \t, sample_time: 0.002 \tupdate_time: 0.004 \tlearn_time: 0.011 \tsum: 276.377 \tsize: 15086                        "
     ]
    },
    {
     "name": "stderr",
     "output_type": "stream",
     "text": [
      "training loop:  26% |###########                               | ETA:   0:47:07\n"
     ]
    },
    {
     "name": "stdout",
     "output_type": "stream",
     "text": [
      "t_step: 10 \t, sample_time: 0.002 \tupdate_time: 0.005 \tlearn_time: 0.013 \tsum: 277.376 \tsize: 15096                        \n",
      "Episode 399\tTotal score (max over agents) this episode: 0.0\n",
      "t_step: 10 \t, sample_time: 0.003 \tupdate_time: 0.005 \tlearn_time: 0.012 \tsum: 276.791 \tsize: 15123                        "
     ]
    },
    {
     "name": "stderr",
     "output_type": "stream",
     "text": [
      "training loop:  26% |###########                               | ETA:   0:47:02\n"
     ]
    },
    {
     "name": "stdout",
     "output_type": "stream",
     "text": [
      "t_step: 10 \t, sample_time: 0.004 \tupdate_time: 0.003 \tlearn_time: 0.012 \tsum: 274.946 \tsize: 15124                        \n",
      "Episode 400\tTotal score (max over agents) this episode: 0.0\n",
      "t_step: 10 \t, sample_time: 0.002 \tupdate_time: 0.004 \tlearn_time: 0.020 \tsum: 278.835 \tsize: 15151                        "
     ]
    },
    {
     "name": "stderr",
     "output_type": "stream",
     "text": [
      "training loop:  26% |###########                               | ETA:   0:46:57\n"
     ]
    },
    {
     "name": "stdout",
     "output_type": "stream",
     "text": [
      "t_step: 10 \t, sample_time: 0.003 \tupdate_time: 0.005 \tlearn_time: 0.018 \tsum: 277.587 \tsize: 15152                        \n",
      "Episode 401\tTotal score (max over agents) this episode: 0.0\n",
      "t_step: 10 \t, sample_time: 0.002 \tupdate_time: 0.004 \tlearn_time: 0.014 \tsum: 274.934 \tsize: 15181                        "
     ]
    },
    {
     "name": "stderr",
     "output_type": "stream",
     "text": [
      "training loop:  26% |###########                               | ETA:   0:46:53\n"
     ]
    },
    {
     "name": "stdout",
     "output_type": "stream",
     "text": [
      "t_step: 10 \t, sample_time: 0.002 \tupdate_time: 0.004 \tlearn_time: 0.010 \tsum: 273.753 \tsize: 15182                        \n",
      "Episode 402\tTotal score (max over agents) this episode: 0.0\n",
      "t_step: 5 \t, sample_time: 0.002 \tupdate_time: 0.003 \tlearn_time: 0.021 \tsum: 276.982 \tsize: 15200                        "
     ]
    },
    {
     "name": "stderr",
     "output_type": "stream",
     "text": [
      "training loop:  26% |###########                               | ETA:   0:46:48\n"
     ]
    },
    {
     "name": "stdout",
     "output_type": "stream",
     "text": [
      "t_step: 10 \t, sample_time: 0.002 \tupdate_time: 0.004 \tlearn_time: 0.011 \tsum: 283.767 \tsize: 15210                        \n",
      "Episode 403\tTotal score (max over agents) this episode: 0.0\n",
      "t_step: 10 \t, sample_time: 0.002 \tupdate_time: 0.005 \tlearn_time: 0.013 \tsum: 285.093 \tsize: 15238                        "
     ]
    },
    {
     "name": "stderr",
     "output_type": "stream",
     "text": [
      "training loop:  26% |###########                               | ETA:   0:46:43\n"
     ]
    },
    {
     "name": "stdout",
     "output_type": "stream",
     "text": [
      "\n",
      "Episode 404\tTotal score (max over agents) this episode: 0.0\n",
      "t_step: 10 \t, sample_time: 0.004 \tupdate_time: 0.005 \tlearn_time: 0.015 \tsum: 285.600 \tsize: 15265                        "
     ]
    },
    {
     "name": "stderr",
     "output_type": "stream",
     "text": [
      "training loop:  27% |###########                               | ETA:   0:46:38\n"
     ]
    },
    {
     "name": "stdout",
     "output_type": "stream",
     "text": [
      "t_step: 10 \t, sample_time: 0.002 \tupdate_time: 0.003 \tlearn_time: 0.013 \tsum: 279.947 \tsize: 15266                        \n",
      "Episode 405\tTotal score (max over agents) this episode: 0.0\n",
      "t_step: 10 \t, sample_time: 0.002 \tupdate_time: 0.004 \tlearn_time: 0.012 \tsum: 283.588 \tsize: 15293                        "
     ]
    },
    {
     "name": "stderr",
     "output_type": "stream",
     "text": [
      "training loop:  27% |###########                               | ETA:   0:46:32\n"
     ]
    },
    {
     "name": "stdout",
     "output_type": "stream",
     "text": [
      "t_step: 10 \t, sample_time: 0.003 \tupdate_time: 0.003 \tlearn_time: 0.011 \tsum: 284.734 \tsize: 15294                        \n",
      "Episode 406\tTotal score (max over agents) this episode: 0.0\n",
      "t_step: 10 \t, sample_time: 0.002 \tupdate_time: 0.004 \tlearn_time: 0.030 \tsum: 277.277 \tsize: 15323                        "
     ]
    },
    {
     "name": "stderr",
     "output_type": "stream",
     "text": [
      "training loop:  27% |###########                               | ETA:   0:46:28\n"
     ]
    },
    {
     "name": "stdout",
     "output_type": "stream",
     "text": [
      "t_step: 10 \t, sample_time: 0.002 \tupdate_time: 0.004 \tlearn_time: 0.015 \tsum: 275.751 \tsize: 15324                        \n",
      "Episode 407\tTotal score (max over agents) this episode: 0.0\n",
      "t_step: 5 \t, sample_time: 0.002 \tupdate_time: 0.003 \tlearn_time: 0.012 \tsum: 276.237 \tsize: 15342                        "
     ]
    },
    {
     "name": "stderr",
     "output_type": "stream",
     "text": [
      "training loop:  27% |###########                               | ETA:   0:46:24\n"
     ]
    },
    {
     "name": "stdout",
     "output_type": "stream",
     "text": [
      "t_step: 10 \t, sample_time: 0.002 \tupdate_time: 0.004 \tlearn_time: 0.013 \tsum: 276.011 \tsize: 15352                        \n",
      "Episode 408\tTotal score (max over agents) this episode: 0.0\n",
      "t_step: 10 \t, sample_time: 0.005 \tupdate_time: 0.004 \tlearn_time: 0.011 \tsum: 283.274 \tsize: 15379                        "
     ]
    },
    {
     "name": "stderr",
     "output_type": "stream",
     "text": [
      "training loop:  27% |###########                               | ETA:   0:46:19\n"
     ]
    },
    {
     "name": "stdout",
     "output_type": "stream",
     "text": [
      "t_step: 10 \t, sample_time: 0.002 \tupdate_time: 0.005 \tlearn_time: 0.012 \tsum: 283.139 \tsize: 15380                        \n",
      "Episode 409\tTotal score (max over agents) this episode: 0.0\n",
      "t_step: 10 \t, sample_time: 0.002 \tupdate_time: 0.005 \tlearn_time: 0.016 \tsum: 284.548 \tsize: 15408                        "
     ]
    },
    {
     "name": "stderr",
     "output_type": "stream",
     "text": [
      "training loop:  27% |###########                               | ETA:   0:46:15\n"
     ]
    },
    {
     "name": "stdout",
     "output_type": "stream",
     "text": [
      "\n",
      "Episode 410\tTotal score (max over agents) this episode: 0.0\n",
      "t_step: 5 \t, sample_time: 0.001 \tupdate_time: 0.003 \tlearn_time: 0.011 \tsum: 286.834 \tsize: 15426                        "
     ]
    },
    {
     "name": "stderr",
     "output_type": "stream",
     "text": [
      "training loop:  27% |###########                               | ETA:   0:46:09\n"
     ]
    },
    {
     "name": "stdout",
     "output_type": "stream",
     "text": [
      "t_step: 10 \t, sample_time: 0.002 \tupdate_time: 0.003 \tlearn_time: 0.019 \tsum: 287.553 \tsize: 15436                        \n",
      "Episode 411\tTotal score (max over agents) this episode: 0.0\n",
      "t_step: 10 \t, sample_time: 0.002 \tupdate_time: 0.003 \tlearn_time: 0.018 \tsum: 289.353 \tsize: 15465                        "
     ]
    },
    {
     "name": "stderr",
     "output_type": "stream",
     "text": [
      "training loop:  27% |###########                               | ETA:   0:46:04\n"
     ]
    },
    {
     "name": "stdout",
     "output_type": "stream",
     "text": [
      "t_step: 10 \t, sample_time: 0.002 \tupdate_time: 0.006 \tlearn_time: 0.016 \tsum: 288.722 \tsize: 15466                        \n",
      "Episode 412\tTotal score (max over agents) this episode: 0.0\n",
      "t_step: 10 \t, sample_time: 0.002 \tupdate_time: 0.006 \tlearn_time: 0.019 \tsum: 288.587 \tsize: 15493                        "
     ]
    },
    {
     "name": "stderr",
     "output_type": "stream",
     "text": [
      "training loop:  27% |###########                               | ETA:   0:46:01\n"
     ]
    },
    {
     "name": "stdout",
     "output_type": "stream",
     "text": [
      "t_step: 10 \t, sample_time: 0.002 \tupdate_time: 0.006 \tlearn_time: 0.013 \tsum: 290.918 \tsize: 15494                        \n",
      "Episode 413\tTotal score (max over agents) this episode: 0.0\n",
      "t_step: 10 \t, sample_time: 0.002 \tupdate_time: 0.003 \tlearn_time: 0.010 \tsum: 295.601 \tsize: 15522                        "
     ]
    },
    {
     "name": "stderr",
     "output_type": "stream",
     "text": [
      "training loop:  27% |###########                               | ETA:   0:45:56\n"
     ]
    },
    {
     "name": "stdout",
     "output_type": "stream",
     "text": [
      "\n",
      "Episode 414\tTotal score (max over agents) this episode: 0.0\n",
      "t_step: 5 \t, sample_time: 0.003 \tupdate_time: 0.004 \tlearn_time: 0.011 \tsum: 299.349 \tsize: 15540                        "
     ]
    },
    {
     "name": "stderr",
     "output_type": "stream",
     "text": [
      "training loop:  27% |###########                               | ETA:   0:45:51\n"
     ]
    },
    {
     "name": "stdout",
     "output_type": "stream",
     "text": [
      "t_step: 10 \t, sample_time: 0.003 \tupdate_time: 0.003 \tlearn_time: 0.009 \tsum: 304.915 \tsize: 15550                        \n",
      "Episode 415\tTotal score (max over agents) this episode: 0.0\n",
      "t_step: 10 \t, sample_time: 0.002 \tupdate_time: 0.003 \tlearn_time: 0.018 \tsum: 302.349 \tsize: 15577                        "
     ]
    },
    {
     "name": "stderr",
     "output_type": "stream",
     "text": [
      "training loop:  27% |###########                               | ETA:   0:45:47\n"
     ]
    },
    {
     "name": "stdout",
     "output_type": "stream",
     "text": [
      "t_step: 10 \t, sample_time: 0.003 \tupdate_time: 0.004 \tlearn_time: 0.042 \tsum: 303.558 \tsize: 15578                        \n",
      "Episode 416\tTotal score (max over agents) this episode: 0.0\n",
      "t_step: 10 \t, sample_time: 0.003 \tupdate_time: 0.004 \tlearn_time: 0.020 \tsum: 303.147 \tsize: 15607                        "
     ]
    },
    {
     "name": "stderr",
     "output_type": "stream",
     "text": [
      "training loop:  27% |###########                               | ETA:   0:45:43\n"
     ]
    },
    {
     "name": "stdout",
     "output_type": "stream",
     "text": [
      "t_step: 10 \t, sample_time: 0.003 \tupdate_time: 0.006 \tlearn_time: 0.124 \tsum: 304.195 \tsize: 15608                        \n",
      "Episode 417\tTotal score (max over agents) this episode: 0.0\n",
      "t_step: 5 \t, sample_time: 0.002 \tupdate_time: 0.005 \tlearn_time: 0.024 \tsum: 309.908 \tsize: 15626                        "
     ]
    },
    {
     "name": "stderr",
     "output_type": "stream",
     "text": [
      "training loop:  27% |###########                               | ETA:   0:45:38\n"
     ]
    },
    {
     "name": "stdout",
     "output_type": "stream",
     "text": [
      "t_step: 10 \t, sample_time: 0.002 \tupdate_time: 0.004 \tlearn_time: 0.016 \tsum: 313.142 \tsize: 15636                        \n",
      "Episode 418\tTotal score (max over agents) this episode: 0.0\n",
      "t_step: 10 \t, sample_time: 0.002 \tupdate_time: 0.005 \tlearn_time: 0.030 \tsum: 313.986 \tsize: 15663                        "
     ]
    },
    {
     "name": "stderr",
     "output_type": "stream",
     "text": [
      "training loop:  27% |###########                               | ETA:   0:45:34\n"
     ]
    },
    {
     "name": "stdout",
     "output_type": "stream",
     "text": [
      "t_step: 10 \t, sample_time: 0.002 \tupdate_time: 0.005 \tlearn_time: 0.012 \tsum: 312.152 \tsize: 15664                        \n",
      "Episode 419\tTotal score (max over agents) this episode: 0.0\n",
      "t_step: 10 \t, sample_time: 0.002 \tupdate_time: 0.003 \tlearn_time: 0.013 \tsum: 312.023 \tsize: 15691                        "
     ]
    },
    {
     "name": "stderr",
     "output_type": "stream",
     "text": [
      "training loop:  28% |###########                               | ETA:   0:45:30\n"
     ]
    },
    {
     "name": "stdout",
     "output_type": "stream",
     "text": [
      "t_step: 10 \t, sample_time: 0.006 \tupdate_time: 0.005 \tlearn_time: 0.019 \tsum: 312.452 \tsize: 15692                        \n",
      "Episode 420\tTotal score (max over agents) this episode: 0.0\n",
      "t_step: 10 \t, sample_time: 0.008 \tupdate_time: 0.002 \tlearn_time: 0.041 \tsum: 315.313 \tsize: 15719                        "
     ]
    },
    {
     "name": "stderr",
     "output_type": "stream",
     "text": [
      "training loop:  28% |###########                               | ETA:   0:45:27\n"
     ]
    },
    {
     "name": "stdout",
     "output_type": "stream",
     "text": [
      "t_step: 10 \t, sample_time: 0.003 \tupdate_time: 0.007 \tlearn_time: 0.022 \tsum: 314.327 \tsize: 15720                        \n",
      "Episode 421\tTotal score (max over agents) this episode: 0.0\n",
      "t_step: 10 \t, sample_time: 0.003 \tupdate_time: 0.004 \tlearn_time: 0.013 \tsum: 327.650 \tsize: 15749                        "
     ]
    },
    {
     "name": "stderr",
     "output_type": "stream",
     "text": [
      "training loop:  28% |###########                               | ETA:   0:45:22\n"
     ]
    },
    {
     "name": "stdout",
     "output_type": "stream",
     "text": [
      "t_step: 10 \t, sample_time: 0.002 \tupdate_time: 0.005 \tlearn_time: 0.038 \tsum: 325.899 \tsize: 15750                        \n",
      "Episode 422\tTotal score (max over agents) this episode: 0.0\n",
      "t_step: 10 \t, sample_time: 0.002 \tupdate_time: 0.004 \tlearn_time: 0.013 \tsum: 326.342 \tsize: 15778                        "
     ]
    },
    {
     "name": "stderr",
     "output_type": "stream",
     "text": [
      "training loop:  28% |###########                               | ETA:   0:45:18\n"
     ]
    },
    {
     "name": "stdout",
     "output_type": "stream",
     "text": [
      "\n",
      "Episode 423\tTotal score (max over agents) this episode: 0.0\n",
      "t_step: 10 \t, sample_time: 0.002 \tupdate_time: 0.003 \tlearn_time: 0.021 \tsum: 324.354 \tsize: 15805                        "
     ]
    },
    {
     "name": "stderr",
     "output_type": "stream",
     "text": [
      "training loop:  28% |###########                               | ETA:   0:45:15\n"
     ]
    },
    {
     "name": "stdout",
     "output_type": "stream",
     "text": [
      "t_step: 10 \t, sample_time: 0.002 \tupdate_time: 0.003 \tlearn_time: 0.025 \tsum: 319.438 \tsize: 15806                        \n",
      "Episode 424\tTotal score (max over agents) this episode: 0.0\n",
      "t_step: 10 \t, sample_time: 0.003 \tupdate_time: 0.003 \tlearn_time: 0.031 \tsum: 327.916 \tsize: 15833                        "
     ]
    },
    {
     "name": "stderr",
     "output_type": "stream",
     "text": [
      "training loop:  28% |###########                               | ETA:   0:45:12\n"
     ]
    },
    {
     "name": "stdout",
     "output_type": "stream",
     "text": [
      "t_step: 10 \t, sample_time: 0.006 \tupdate_time: 0.004 \tlearn_time: 0.012 \tsum: 324.395 \tsize: 15834                        \n",
      "Episode 425\tTotal score (max over agents) this episode: 0.0\n",
      "t_step: 10 \t, sample_time: 0.002 \tupdate_time: 0.003 \tlearn_time: 0.011 \tsum: 327.691 \tsize: 15862                        "
     ]
    },
    {
     "name": "stderr",
     "output_type": "stream",
     "text": [
      "training loop:  28% |###########                               | ETA:   0:45:09\n"
     ]
    },
    {
     "name": "stdout",
     "output_type": "stream",
     "text": [
      "\n",
      "Episode 426\tTotal score (max over agents) this episode: 0.0\n",
      "t_step: 10 \t, sample_time: 0.020 \tupdate_time: 0.005 \tlearn_time: 0.016 \tsum: 331.863 \tsize: 15892                        "
     ]
    },
    {
     "name": "stderr",
     "output_type": "stream",
     "text": [
      "training loop:  28% |###########                               | ETA:   0:45:04\n"
     ]
    },
    {
     "name": "stdout",
     "output_type": "stream",
     "text": [
      "\n",
      "Episode 427\tTotal score (max over agents) this episode: 0.0\n",
      "t_step: 10 \t, sample_time: 0.003 \tupdate_time: 0.004 \tlearn_time: 0.010 \tsum: 329.837 \tsize: 15919                        "
     ]
    },
    {
     "name": "stderr",
     "output_type": "stream",
     "text": [
      "training loop:  28% |###########                               | ETA:   0:45:00\n"
     ]
    },
    {
     "name": "stdout",
     "output_type": "stream",
     "text": [
      "t_step: 10 \t, sample_time: 0.002 \tupdate_time: 0.004 \tlearn_time: 0.013 \tsum: 331.323 \tsize: 15920                        \n",
      "Episode 428\tTotal score (max over agents) this episode: 0.0\n",
      "t_step: 10 \t, sample_time: 0.003 \tupdate_time: 0.005 \tlearn_time: 0.015 \tsum: 335.342 \tsize: 15947                        "
     ]
    },
    {
     "name": "stderr",
     "output_type": "stream",
     "text": [
      "training loop:  28% |############                              | ETA:   0:44:56\n"
     ]
    },
    {
     "name": "stdout",
     "output_type": "stream",
     "text": [
      "t_step: 10 \t, sample_time: 0.002 \tupdate_time: 0.014 \tlearn_time: 0.085 \tsum: 334.828 \tsize: 15948                        \n",
      "Episode 429\tTotal score (max over agents) this episode: 0.0\n",
      "t_step: 10 \t, sample_time: 0.004 \tupdate_time: 0.005 \tlearn_time: 0.028 \tsum: 335.580 \tsize: 15975                        "
     ]
    },
    {
     "name": "stderr",
     "output_type": "stream",
     "text": [
      "training loop:  28% |############                              | ETA:   0:44:52\n"
     ]
    },
    {
     "name": "stdout",
     "output_type": "stream",
     "text": [
      "t_step: 10 \t, sample_time: 0.003 \tupdate_time: 0.005 \tlearn_time: 0.016 \tsum: 333.235 \tsize: 15976                        \n",
      "Episode 430\tTotal score (max over agents) this episode: 0.0\n",
      "t_step: 10 \t, sample_time: 0.002 \tupdate_time: 0.004 \tlearn_time: 0.019 \tsum: 328.901 \tsize: 16004                        "
     ]
    },
    {
     "name": "stderr",
     "output_type": "stream",
     "text": [
      "training loop:  28% |############                              | ETA:   0:44:48\n"
     ]
    },
    {
     "name": "stdout",
     "output_type": "stream",
     "text": [
      "\n",
      "Episode 431\tTotal score (max over agents) this episode: 0.0\n",
      "t_step: 10 \t, sample_time: 0.003 \tupdate_time: 0.006 \tlearn_time: 0.077 \tsum: 331.833 \tsize: 16033                        "
     ]
    },
    {
     "name": "stderr",
     "output_type": "stream",
     "text": [
      "training loop:  28% |############                              | ETA:   0:44:48\n"
     ]
    },
    {
     "name": "stdout",
     "output_type": "stream",
     "text": [
      "t_step: 10 \t, sample_time: 0.002 \tupdate_time: 0.006 \tlearn_time: 0.017 \tsum: 329.675 \tsize: 16034                        \n",
      "Episode 432\tTotal score (max over agents) this episode: 0.0\n",
      "t_step: 10 \t, sample_time: 0.005 \tupdate_time: 0.003 \tlearn_time: 0.010 \tsum: 342.495 \tsize: 16062                        "
     ]
    },
    {
     "name": "stderr",
     "output_type": "stream",
     "text": [
      "training loop:  28% |############                              | ETA:   0:44:44\n"
     ]
    },
    {
     "name": "stdout",
     "output_type": "stream",
     "text": [
      "\n",
      "Episode 433\tTotal score (max over agents) this episode: 0.0\n",
      "t_step: 20 \t, sample_time: 0.005 \tupdate_time: 0.004 \tlearn_time: 0.068 \tsum: 340.607 \tsize: 16109                        "
     ]
    },
    {
     "name": "stderr",
     "output_type": "stream",
     "text": [
      "training loop:  28% |############                              | ETA:   0:44:44\n"
     ]
    },
    {
     "name": "stdout",
     "output_type": "stream",
     "text": [
      "t_step: 20 \t, sample_time: 0.002 \tupdate_time: 0.004 \tlearn_time: 0.014 \tsum: 340.282 \tsize: 16110                        \n",
      "Episode 434\tTotal score (max over agents) this episode: 0.0\n",
      "t_step: 10 \t, sample_time: 0.003 \tupdate_time: 0.004 \tlearn_time: 0.017 \tsum: 348.678 \tsize: 16137                        "
     ]
    },
    {
     "name": "stderr",
     "output_type": "stream",
     "text": [
      "training loop:  29% |############                              | ETA:   0:44:39\n"
     ]
    },
    {
     "name": "stdout",
     "output_type": "stream",
     "text": [
      "t_step: 10 \t, sample_time: 0.002 \tupdate_time: 0.004 \tlearn_time: 0.011 \tsum: 348.188 \tsize: 16138                        \n",
      "Episode 435\tTotal score (max over agents) this episode: 0.0\n",
      "t_step: 10 \t, sample_time: 0.002 \tupdate_time: 0.004 \tlearn_time: 0.034 \tsum: 347.273 \tsize: 16167                        "
     ]
    },
    {
     "name": "stderr",
     "output_type": "stream",
     "text": [
      "training loop:  29% |############                              | ETA:   0:44:35\n"
     ]
    },
    {
     "name": "stdout",
     "output_type": "stream",
     "text": [
      "t_step: 10 \t, sample_time: 0.003 \tupdate_time: 0.008 \tlearn_time: 0.035 \tsum: 350.010 \tsize: 16168                        \n",
      "Episode 436\tTotal score (max over agents) this episode: 0.0\n",
      "t_step: 10 \t, sample_time: 0.013 \tupdate_time: 0.008 \tlearn_time: 0.024 \tsum: 355.916 \tsize: 16195                        "
     ]
    },
    {
     "name": "stderr",
     "output_type": "stream",
     "text": [
      "training loop:  29% |############                              | ETA:   0:44:31\n"
     ]
    },
    {
     "name": "stdout",
     "output_type": "stream",
     "text": [
      "t_step: 10 \t, sample_time: 0.002 \tupdate_time: 0.003 \tlearn_time: 0.010 \tsum: 356.424 \tsize: 16196                        \n",
      "Episode 437\tTotal score (max over agents) this episode: 0.0\n",
      "t_step: 10 \t, sample_time: 0.003 \tupdate_time: 0.006 \tlearn_time: 0.014 \tsum: 352.589 \tsize: 16224                        "
     ]
    },
    {
     "name": "stderr",
     "output_type": "stream",
     "text": [
      "training loop:  29% |############                              | ETA:   0:44:28\n"
     ]
    },
    {
     "name": "stdout",
     "output_type": "stream",
     "text": [
      "\n",
      "Episode 438\tTotal score (max over agents) this episode: 0.0\n",
      "t_step: 10 \t, sample_time: 0.004 \tupdate_time: 0.003 \tlearn_time: 0.015 \tsum: 357.442 \tsize: 16251                        "
     ]
    },
    {
     "name": "stderr",
     "output_type": "stream",
     "text": [
      "training loop:  29% |############                              | ETA:   0:44:24\n"
     ]
    },
    {
     "name": "stdout",
     "output_type": "stream",
     "text": [
      "t_step: 10 \t, sample_time: 0.003 \tupdate_time: 0.007 \tlearn_time: 0.028 \tsum: 350.933 \tsize: 16252                        \n",
      "Episode 439\tTotal score (max over agents) this episode: 0.0\n",
      "t_step: 10 \t, sample_time: 0.002 \tupdate_time: 0.003 \tlearn_time: 0.031 \tsum: 362.300 \tsize: 16280                        "
     ]
    },
    {
     "name": "stderr",
     "output_type": "stream",
     "text": [
      "training loop:  29% |############                              | ETA:   0:44:20\n"
     ]
    },
    {
     "name": "stdout",
     "output_type": "stream",
     "text": [
      "\n",
      "Episode 440\tTotal score (max over agents) this episode: 0.0\n",
      "t_step: 5 \t, sample_time: 0.002 \tupdate_time: 0.004 \tlearn_time: 0.013 \tsum: 365.251 \tsize: 16300                        "
     ]
    },
    {
     "name": "stderr",
     "output_type": "stream",
     "text": [
      "training loop:  29% |############                              | ETA:   0:44:15\n"
     ]
    },
    {
     "name": "stdout",
     "output_type": "stream",
     "text": [
      "t_step: 10 \t, sample_time: 0.002 \tupdate_time: 0.003 \tlearn_time: 0.021 \tsum: 364.357 \tsize: 16310                        \n",
      "Episode 441\tTotal score (max over agents) this episode: 0.0\n",
      "t_step: 10 \t, sample_time: 0.002 \tupdate_time: 0.003 \tlearn_time: 0.017 \tsum: 370.328 \tsize: 16337                        "
     ]
    },
    {
     "name": "stderr",
     "output_type": "stream",
     "text": [
      "training loop:  29% |############                              | ETA:   0:44:10\n"
     ]
    },
    {
     "name": "stdout",
     "output_type": "stream",
     "text": [
      "t_step: 10 \t, sample_time: 0.002 \tupdate_time: 0.003 \tlearn_time: 0.019 \tsum: 369.490 \tsize: 16338                        \n",
      "Episode 442\tTotal score (max over agents) this episode: 0.0\n",
      "t_step: 10 \t, sample_time: 0.002 \tupdate_time: 0.004 \tlearn_time: 0.013 \tsum: 372.966 \tsize: 16365                        "
     ]
    },
    {
     "name": "stderr",
     "output_type": "stream",
     "text": [
      "training loop:  29% |############                              | ETA:   0:44:05\n"
     ]
    },
    {
     "name": "stdout",
     "output_type": "stream",
     "text": [
      "t_step: 10 \t, sample_time: 0.004 \tupdate_time: 0.004 \tlearn_time: 0.020 \tsum: 373.888 \tsize: 16366                        \n",
      "Episode 443\tTotal score (max over agents) this episode: 0.0\n",
      "t_step: 5 \t, sample_time: 0.002 \tupdate_time: 0.003 \tlearn_time: 0.016 \tsum: 382.500 \tsize: 16386                        "
     ]
    },
    {
     "name": "stderr",
     "output_type": "stream",
     "text": [
      "training loop:  29% |############                              | ETA:   0:44:01\n"
     ]
    },
    {
     "name": "stdout",
     "output_type": "stream",
     "text": [
      "t_step: 10 \t, sample_time: 0.002 \tupdate_time: 0.003 \tlearn_time: 0.012 \tsum: 378.690 \tsize: 16396                        \n",
      "Episode 444\tTotal score (max over agents) this episode: 0.0\n",
      "t_step: 5 \t, sample_time: 0.003 \tupdate_time: 0.004 \tlearn_time: 0.020 \tsum: 378.456 \tsize: 16414                        "
     ]
    },
    {
     "name": "stderr",
     "output_type": "stream",
     "text": [
      "training loop:  29% |############                              | ETA:   0:43:56\n"
     ]
    },
    {
     "name": "stdout",
     "output_type": "stream",
     "text": [
      "t_step: 10 \t, sample_time: 0.002 \tupdate_time: 0.004 \tlearn_time: 0.011 \tsum: 379.792 \tsize: 16424                        \n",
      "Episode 445\tTotal score (max over agents) this episode: 0.0\n",
      "t_step: 5 \t, sample_time: 0.002 \tupdate_time: 0.004 \tlearn_time: 0.019 \tsum: 376.215 \tsize: 16442                        "
     ]
    },
    {
     "name": "stderr",
     "output_type": "stream",
     "text": [
      "training loop:  29% |############                              | ETA:   0:43:51\n"
     ]
    },
    {
     "name": "stdout",
     "output_type": "stream",
     "text": [
      "t_step: 10 \t, sample_time: 0.003 \tupdate_time: 0.004 \tlearn_time: 0.014 \tsum: 377.906 \tsize: 16452                        \n",
      "Episode 446\tTotal score (max over agents) this episode: 0.0\n",
      "t_step: 25 \t, sample_time: 0.003 \tupdate_time: 0.003 \tlearn_time: 0.009 \tsum: 397.291 \tsize: 16512                        "
     ]
    },
    {
     "name": "stderr",
     "output_type": "stream",
     "text": [
      "training loop:  29% |############                              | ETA:   0:43:50\n"
     ]
    },
    {
     "name": "stdout",
     "output_type": "stream",
     "text": [
      "t_step: 30 \t, sample_time: 0.002 \tupdate_time: 0.004 \tlearn_time: 0.010 \tsum: 401.360 \tsize: 16522                        \n",
      "Episode 447\tTotal score (max over agents) this episode: 0.10000000149011612\n",
      "t_step: 10 \t, sample_time: 0.002 \tupdate_time: 0.004 \tlearn_time: 0.013 \tsum: 416.390 \tsize: 16547                        "
     ]
    },
    {
     "name": "stderr",
     "output_type": "stream",
     "text": [
      "training loop:  29% |############                              | ETA:   0:43:45\n"
     ]
    },
    {
     "name": "stdout",
     "output_type": "stream",
     "text": [
      "t_step: 10 \t, sample_time: 0.002 \tupdate_time: 0.005 \tlearn_time: 0.015 \tsum: 410.836 \tsize: 16548                        \n",
      "Episode 448\tTotal score (max over agents) this episode: 0.0\n",
      "t_step: 10 \t, sample_time: 0.003 \tupdate_time: 0.004 \tlearn_time: 0.015 \tsum: 410.896 \tsize: 16575                        "
     ]
    },
    {
     "name": "stderr",
     "output_type": "stream",
     "text": [
      "training loop:  29% |############                              | ETA:   0:43:41\n"
     ]
    },
    {
     "name": "stdout",
     "output_type": "stream",
     "text": [
      "t_step: 10 \t, sample_time: 0.002 \tupdate_time: 0.006 \tlearn_time: 0.037 \tsum: 412.782 \tsize: 16576                        \n",
      "Episode 449\tTotal score (max over agents) this episode: 0.0\n",
      "t_step: 10 \t, sample_time: 0.003 \tupdate_time: 0.004 \tlearn_time: 0.012 \tsum: 424.081 \tsize: 16603                        "
     ]
    },
    {
     "name": "stderr",
     "output_type": "stream",
     "text": [
      "training loop:  30% |############                              | ETA:   0:43:38\n"
     ]
    },
    {
     "name": "stdout",
     "output_type": "stream",
     "text": [
      "t_step: 10 \t, sample_time: 0.004 \tupdate_time: 0.004 \tlearn_time: 0.010 \tsum: 419.523 \tsize: 16604                        \n",
      "Episode 450\tTotal score (max over agents) this episode: 0.0\n",
      "t_step: 10 \t, sample_time: 0.002 \tupdate_time: 0.005 \tlearn_time: 0.022 \tsum: 425.296 \tsize: 16631                        "
     ]
    },
    {
     "name": "stderr",
     "output_type": "stream",
     "text": [
      "training loop:  30% |############                              | ETA:   0:43:34\n"
     ]
    },
    {
     "name": "stdout",
     "output_type": "stream",
     "text": [
      "t_step: 10 \t, sample_time: 0.002 \tupdate_time: 0.005 \tlearn_time: 0.042 \tsum: 425.916 \tsize: 16632                        \n",
      "Episode 451\tTotal score (max over agents) this episode: 0.0\n",
      "t_step: 5 \t, sample_time: 0.004 \tupdate_time: 0.004 \tlearn_time: 0.031 \tsum: 432.805 \tsize: 16650                        "
     ]
    },
    {
     "name": "stderr",
     "output_type": "stream",
     "text": [
      "training loop:  30% |############                              | ETA:   0:43:29\n"
     ]
    },
    {
     "name": "stdout",
     "output_type": "stream",
     "text": [
      "t_step: 10 \t, sample_time: 0.002 \tupdate_time: 0.003 \tlearn_time: 0.017 \tsum: 433.520 \tsize: 16660                        \n",
      "Episode 452\tTotal score (max over agents) this episode: 0.0\n",
      "t_step: 5 \t, sample_time: 0.005 \tupdate_time: 0.007 \tlearn_time: 0.025 \tsum: 434.007 \tsize: 16680                        "
     ]
    },
    {
     "name": "stderr",
     "output_type": "stream",
     "text": [
      "training loop:  30% |############                              | ETA:   0:43:24\n"
     ]
    },
    {
     "name": "stdout",
     "output_type": "stream",
     "text": [
      "t_step: 10 \t, sample_time: 0.002 \tupdate_time: 0.003 \tlearn_time: 0.016 \tsum: 434.942 \tsize: 16690                        \n",
      "Episode 453\tTotal score (max over agents) this episode: 0.0\n",
      "t_step: 5 \t, sample_time: 0.002 \tupdate_time: 0.003 \tlearn_time: 0.012 \tsum: 438.025 \tsize: 16708                        "
     ]
    },
    {
     "name": "stderr",
     "output_type": "stream",
     "text": [
      "training loop:  30% |############                              | ETA:   0:43:20\n"
     ]
    },
    {
     "name": "stdout",
     "output_type": "stream",
     "text": [
      "t_step: 10 \t, sample_time: 0.002 \tupdate_time: 0.007 \tlearn_time: 0.015 \tsum: 438.871 \tsize: 16718                        \n",
      "Episode 454\tTotal score (max over agents) this episode: 0.0\n",
      "t_step: 10 \t, sample_time: 0.002 \tupdate_time: 0.004 \tlearn_time: 0.021 \tsum: 447.348 \tsize: 16745                        "
     ]
    },
    {
     "name": "stderr",
     "output_type": "stream",
     "text": [
      "training loop:  30% |############                              | ETA:   0:43:16\n"
     ]
    },
    {
     "name": "stdout",
     "output_type": "stream",
     "text": [
      "t_step: 10 \t, sample_time: 0.003 \tupdate_time: 0.007 \tlearn_time: 0.019 \tsum: 443.486 \tsize: 16746                        \n",
      "Episode 455\tTotal score (max over agents) this episode: 0.0\n",
      "t_step: 10 \t, sample_time: 0.002 \tupdate_time: 0.006 \tlearn_time: 0.023 \tsum: 444.542 \tsize: 16773                        "
     ]
    },
    {
     "name": "stderr",
     "output_type": "stream",
     "text": [
      "training loop:  30% |############                              | ETA:   0:43:13\n"
     ]
    },
    {
     "name": "stdout",
     "output_type": "stream",
     "text": [
      "t_step: 10 \t, sample_time: 0.002 \tupdate_time: 0.009 \tlearn_time: 0.017 \tsum: 435.259 \tsize: 16774                        \n",
      "Episode 456\tTotal score (max over agents) this episode: 0.0\n",
      "t_step: 5 \t, sample_time: 0.003 \tupdate_time: 0.013 \tlearn_time: 0.027 \tsum: 438.215 \tsize: 16792                        "
     ]
    },
    {
     "name": "stderr",
     "output_type": "stream",
     "text": [
      "training loop:  30% |############                              | ETA:   0:43:08\n"
     ]
    },
    {
     "name": "stdout",
     "output_type": "stream",
     "text": [
      "t_step: 10 \t, sample_time: 0.002 \tupdate_time: 0.004 \tlearn_time: 0.011 \tsum: 437.775 \tsize: 16802                        \n",
      "Episode 457\tTotal score (max over agents) this episode: 0.0\n",
      "t_step: 10 \t, sample_time: 0.002 \tupdate_time: 0.006 \tlearn_time: 0.012 \tsum: 455.901 \tsize: 16831                        "
     ]
    },
    {
     "name": "stderr",
     "output_type": "stream",
     "text": [
      "training loop:  30% |############                              | ETA:   0:43:04\n"
     ]
    },
    {
     "name": "stdout",
     "output_type": "stream",
     "text": [
      "t_step: 10 \t, sample_time: 0.002 \tupdate_time: 0.004 \tlearn_time: 0.027 \tsum: 447.495 \tsize: 16832                        \n",
      "Episode 458\tTotal score (max over agents) this episode: 0.0\n",
      "t_step: 10 \t, sample_time: 0.003 \tupdate_time: 0.004 \tlearn_time: 0.012 \tsum: 441.657 \tsize: 16860                        "
     ]
    },
    {
     "name": "stderr",
     "output_type": "stream",
     "text": [
      "training loop:  30% |############                              | ETA:   0:43:00\n"
     ]
    },
    {
     "name": "stdout",
     "output_type": "stream",
     "text": [
      "\n",
      "Episode 459\tTotal score (max over agents) this episode: 0.0\n",
      "t_step: 5 \t, sample_time: 0.005 \tupdate_time: 0.005 \tlearn_time: 0.028 \tsum: 442.455 \tsize: 16880                        "
     ]
    },
    {
     "name": "stderr",
     "output_type": "stream",
     "text": [
      "training loop:  30% |############                              | ETA:   0:42:55\n"
     ]
    },
    {
     "name": "stdout",
     "output_type": "stream",
     "text": [
      "t_step: 10 \t, sample_time: 0.002 \tupdate_time: 0.003 \tlearn_time: 0.010 \tsum: 449.946 \tsize: 16890                        \n",
      "Episode 460\tTotal score (max over agents) this episode: 0.0\n",
      "t_step: 25 \t, sample_time: 0.004 \tupdate_time: 0.006 \tlearn_time: 0.015 \tsum: 464.840 \tsize: 16948                        "
     ]
    },
    {
     "name": "stderr",
     "output_type": "stream",
     "text": [
      "training loop:  30% |############                              | ETA:   0:42:54\n"
     ]
    },
    {
     "name": "stdout",
     "output_type": "stream",
     "text": [
      "t_step: 30 \t, sample_time: 0.003 \tupdate_time: 0.004 \tlearn_time: 0.030 \tsum: 471.870 \tsize: 16958                        \n",
      "Episode 461\tTotal score (max over agents) this episode: 0.10000000149011612\n",
      "t_step: 10 \t, sample_time: 0.002 \tupdate_time: 0.004 \tlearn_time: 0.016 \tsum: 474.984 \tsize: 16984                        "
     ]
    },
    {
     "name": "stderr",
     "output_type": "stream",
     "text": [
      "training loop:  30% |############                              | ETA:   0:42:51\n"
     ]
    },
    {
     "name": "stdout",
     "output_type": "stream",
     "text": [
      "t_step: 15 \t, sample_time: 0.003 \tupdate_time: 0.004 \tlearn_time: 0.011 \tsum: 472.577 \tsize: 16994                        \n",
      "Episode 462\tTotal score (max over agents) this episode: 0.0\n",
      "t_step: 20 \t, sample_time: 0.002 \tupdate_time: 0.005 \tlearn_time: 0.023 \tsum: 471.432 \tsize: 17044                        "
     ]
    },
    {
     "name": "stderr",
     "output_type": "stream",
     "text": [
      "training loop:  30% |############                              | ETA:   0:42:49\n"
     ]
    },
    {
     "name": "stdout",
     "output_type": "stream",
     "text": [
      "t_step: 25 \t, sample_time: 0.003 \tupdate_time: 0.004 \tlearn_time: 0.040 \tsum: 477.306 \tsize: 17054                        \n",
      "Episode 463\tTotal score (max over agents) this episode: 0.10000000149011612\n",
      "t_step: 5 \t, sample_time: 0.002 \tupdate_time: 0.003 \tlearn_time: 0.009 \tsum: 476.987 \tsize: 17068                        "
     ]
    },
    {
     "name": "stderr",
     "output_type": "stream",
     "text": [
      "training loop:  30% |############                              | ETA:   0:42:45\n"
     ]
    },
    {
     "name": "stdout",
     "output_type": "stream",
     "text": [
      "t_step: 10 \t, sample_time: 0.002 \tupdate_time: 0.003 \tlearn_time: 0.009 \tsum: 482.129 \tsize: 17078                        \n",
      "Episode 464\tTotal score (max over agents) this episode: 0.0\n",
      "t_step: 35 \t, sample_time: 0.002 \tupdate_time: 0.005 \tlearn_time: 0.011 \tsum: 480.802 \tsize: 17157                        "
     ]
    },
    {
     "name": "stderr",
     "output_type": "stream",
     "text": [
      "training loop:  31% |#############                             | ETA:   0:42:47\n"
     ]
    },
    {
     "name": "stdout",
     "output_type": "stream",
     "text": [
      "t_step: 35 \t, sample_time: 0.003 \tupdate_time: 0.003 \tlearn_time: 0.017 \tsum: 477.551 \tsize: 17158                        \n",
      "Episode 465\tTotal score (max over agents) this episode: 0.10000000149011612\n",
      "t_step: 10 \t, sample_time: 0.002 \tupdate_time: 0.004 \tlearn_time: 0.017 \tsum: 474.991 \tsize: 17179                        "
     ]
    },
    {
     "name": "stderr",
     "output_type": "stream",
     "text": [
      "training loop:  31% |#############                             | ETA:   0:42:43\n"
     ]
    },
    {
     "name": "stdout",
     "output_type": "stream",
     "text": [
      "t_step: 10 \t, sample_time: 0.002 \tupdate_time: 0.004 \tlearn_time: 0.025 \tsum: 466.287 \tsize: 17180                        \n",
      "Episode 466\tTotal score (max over agents) this episode: 0.0\n",
      "t_step: 10 \t, sample_time: 0.002 \tupdate_time: 0.005 \tlearn_time: 0.013 \tsum: 472.319 \tsize: 17208                        "
     ]
    },
    {
     "name": "stderr",
     "output_type": "stream",
     "text": [
      "training loop:  31% |#############                             | ETA:   0:42:40\n"
     ]
    },
    {
     "name": "stdout",
     "output_type": "stream",
     "text": [
      "t_step: 15 \t, sample_time: 0.003 \tupdate_time: 0.003 \tlearn_time: 0.010 \tsum: 469.339 \tsize: 17218                        \n",
      "Episode 467\tTotal score (max over agents) this episode: 0.0\n",
      "t_step: 30 \t, sample_time: 0.004 \tupdate_time: 0.008 \tlearn_time: 0.067 \tsum: 480.688 \tsize: 17279                        "
     ]
    },
    {
     "name": "stderr",
     "output_type": "stream",
     "text": [
      "training loop:  31% |#############                             | ETA:   0:42:41\n"
     ]
    },
    {
     "name": "stdout",
     "output_type": "stream",
     "text": [
      "t_step: 30 \t, sample_time: 0.003 \tupdate_time: 0.005 \tlearn_time: 0.010 \tsum: 476.723 \tsize: 17280                        \n",
      "Episode 468\tTotal score (max over agents) this episode: 0.10000000149011612\n",
      "t_step: 35 \t, sample_time: 0.003 \tupdate_time: 0.004 \tlearn_time: 0.010 \tsum: 504.402 \tsize: 17355                        "
     ]
    },
    {
     "name": "stderr",
     "output_type": "stream",
     "text": [
      "training loop:  31% |#############                             | ETA:   0:42:43\n"
     ]
    },
    {
     "name": "stdout",
     "output_type": "stream",
     "text": [
      "t_step: 35 \t, sample_time: 0.002 \tupdate_time: 0.004 \tlearn_time: 0.017 \tsum: 498.252 \tsize: 17356                        \n",
      "Episode 469\tTotal score (max over agents) this episode: 0.10000000149011612\n",
      "t_step: 10 \t, sample_time: 0.002 \tupdate_time: 0.004 \tlearn_time: 0.010 \tsum: 487.549 \tsize: 17378                        "
     ]
    },
    {
     "name": "stderr",
     "output_type": "stream",
     "text": [
      "training loop:  31% |#############                             | ETA:   0:42:40\n"
     ]
    },
    {
     "name": "stdout",
     "output_type": "stream",
     "text": [
      "t_step: 15 \t, sample_time: 0.002 \tupdate_time: 0.006 \tlearn_time: 0.019 \tsum: 487.557 \tsize: 17388                        \n",
      "Episode 470\tTotal score (max over agents) this episode: 0.09000000357627869\n",
      "t_step: 25 \t, sample_time: 0.004 \tupdate_time: 0.004 \tlearn_time: 0.013 \tsum: 496.207 \tsize: 17448                        "
     ]
    },
    {
     "name": "stderr",
     "output_type": "stream",
     "text": [
      "training loop:  31% |#############                             | ETA:   0:42:38\n"
     ]
    },
    {
     "name": "stdout",
     "output_type": "stream",
     "text": [
      "\n",
      "Episode 471\tTotal score (max over agents) this episode: 0.10000000149011612\n",
      "t_step: 10 \t, sample_time: 0.002 \tupdate_time: 0.005 \tlearn_time: 0.011 \tsum: 494.211 \tsize: 17478                        "
     ]
    },
    {
     "name": "stderr",
     "output_type": "stream",
     "text": [
      "training loop:  31% |#############                             | ETA:   0:42:34\n"
     ]
    },
    {
     "name": "stdout",
     "output_type": "stream",
     "text": [
      "\n",
      "Episode 472\tTotal score (max over agents) this episode: 0.0\n",
      "t_step: 30 \t, sample_time: 0.003 \tupdate_time: 0.006 \tlearn_time: 0.013 \tsum: 502.951 \tsize: 17545                        "
     ]
    },
    {
     "name": "stderr",
     "output_type": "stream",
     "text": [
      "training loop:  31% |#############                             | ETA:   0:42:34\n"
     ]
    },
    {
     "name": "stdout",
     "output_type": "stream",
     "text": [
      "t_step: 30 \t, sample_time: 0.004 \tupdate_time: 0.006 \tlearn_time: 0.016 \tsum: 499.480 \tsize: 17546                        \n",
      "Episode 473\tTotal score (max over agents) this episode: 0.10000000149011612\n",
      "t_step: 10 \t, sample_time: 0.002 \tupdate_time: 0.005 \tlearn_time: 0.019 \tsum: 507.832 \tsize: 17571                        "
     ]
    },
    {
     "name": "stderr",
     "output_type": "stream",
     "text": [
      "training loop:  31% |#############                             | ETA:   0:42:30\n"
     ]
    },
    {
     "name": "stdout",
     "output_type": "stream",
     "text": [
      "t_step: 10 \t, sample_time: 0.002 \tupdate_time: 0.003 \tlearn_time: 0.013 \tsum: 497.933 \tsize: 17572                        \n",
      "Episode 474\tTotal score (max over agents) this episode: 0.0\n",
      "t_step: 10 \t, sample_time: 0.002 \tupdate_time: 0.004 \tlearn_time: 0.010 \tsum: 503.146 \tsize: 17599                        "
     ]
    },
    {
     "name": "stderr",
     "output_type": "stream",
     "text": [
      "training loop:  31% |#############                             | ETA:   0:42:26\n"
     ]
    },
    {
     "name": "stdout",
     "output_type": "stream",
     "text": [
      "t_step: 10 \t, sample_time: 0.002 \tupdate_time: 0.005 \tlearn_time: 0.018 \tsum: 501.204 \tsize: 17600                        \n",
      "Episode 475\tTotal score (max over agents) this episode: 0.0\n",
      "t_step: 5 \t, sample_time: 0.002 \tupdate_time: 0.004 \tlearn_time: 0.069 \tsum: 504.655 \tsize: 17618                        "
     ]
    },
    {
     "name": "stderr",
     "output_type": "stream",
     "text": [
      "training loop:  31% |#############                             | ETA:   0:42:22\n"
     ]
    },
    {
     "name": "stdout",
     "output_type": "stream",
     "text": [
      "t_step: 10 \t, sample_time: 0.002 \tupdate_time: 0.005 \tlearn_time: 0.028 \tsum: 504.013 \tsize: 17628                        \n",
      "Episode 476\tTotal score (max over agents) this episode: 0.0\n",
      "t_step: 15 \t, sample_time: 0.002 \tupdate_time: 0.005 \tlearn_time: 0.047 \tsum: 512.187 \tsize: 17665                        "
     ]
    },
    {
     "name": "stderr",
     "output_type": "stream",
     "text": [
      "training loop:  31% |#############                             | ETA:   0:42:22\n"
     ]
    },
    {
     "name": "stdout",
     "output_type": "stream",
     "text": [
      "t_step: 15 \t, sample_time: 0.003 \tupdate_time: 0.005 \tlearn_time: 0.015 \tsum: 507.680 \tsize: 17666                        \n",
      "Episode 477\tTotal score (max over agents) this episode: 0.0\n",
      "t_step: 25 \t, sample_time: 0.004 \tupdate_time: 0.007 \tlearn_time: 0.066 \tsum: 502.777 \tsize: 17718                        "
     ]
    },
    {
     "name": "stderr",
     "output_type": "stream",
     "text": [
      "training loop:  31% |#############                             | ETA:   0:42:24\n"
     ]
    },
    {
     "name": "stdout",
     "output_type": "stream",
     "text": [
      "t_step: 30 \t, sample_time: 0.002 \tupdate_time: 0.006 \tlearn_time: 0.019 \tsum: 495.941 \tsize: 17728                        \n",
      "Episode 478\tTotal score (max over agents) this episode: 0.10000000149011612\n",
      "t_step: 10 \t, sample_time: 0.002 \tupdate_time: 0.005 \tlearn_time: 0.012 \tsum: 508.345 \tsize: 17752                        "
     ]
    },
    {
     "name": "stderr",
     "output_type": "stream",
     "text": [
      "training loop:  31% |#############                             | ETA:   0:42:22\n"
     ]
    },
    {
     "name": "stdout",
     "output_type": "stream",
     "text": [
      "\n",
      "Episode 479\tTotal score (max over agents) this episode: 0.0\n",
      "t_step: 10 \t, sample_time: 0.002 \tupdate_time: 0.007 \tlearn_time: 0.053 \tsum: 516.697 \tsize: 17779                        "
     ]
    },
    {
     "name": "stderr",
     "output_type": "stream",
     "text": [
      "training loop:  32% |#############                             | ETA:   0:42:19\n"
     ]
    },
    {
     "name": "stdout",
     "output_type": "stream",
     "text": [
      "t_step: 10 \t, sample_time: 0.002 \tupdate_time: 0.004 \tlearn_time: 0.019 \tsum: 506.885 \tsize: 17780                        \n",
      "Episode 480\tTotal score (max over agents) this episode: 0.0\n",
      "t_step: 10 \t, sample_time: 0.002 \tupdate_time: 0.006 \tlearn_time: 0.013 \tsum: 513.485 \tsize: 17808                        "
     ]
    },
    {
     "name": "stderr",
     "output_type": "stream",
     "text": [
      "training loop:  32% |#############                             | ETA:   0:42:15\n"
     ]
    },
    {
     "name": "stdout",
     "output_type": "stream",
     "text": [
      "\n",
      "Episode 481\tTotal score (max over agents) this episode: 0.0\n",
      "t_step: 10 \t, sample_time: 0.001 \tupdate_time: 0.002 \tlearn_time: 0.026 \tsum: 523.074 \tsize: 17835                        "
     ]
    },
    {
     "name": "stderr",
     "output_type": "stream",
     "text": [
      "training loop:  32% |#############                             | ETA:   0:42:12\n"
     ]
    },
    {
     "name": "stdout",
     "output_type": "stream",
     "text": [
      "t_step: 10 \t, sample_time: 0.004 \tupdate_time: 0.006 \tlearn_time: 0.022 \tsum: 516.698 \tsize: 17836                        \n",
      "Episode 482\tTotal score (max over agents) this episode: 0.0\n",
      "t_step: 5 \t, sample_time: 0.004 \tupdate_time: 0.005 \tlearn_time: 0.018 \tsum: 513.420 \tsize: 17854                        "
     ]
    },
    {
     "name": "stderr",
     "output_type": "stream",
     "text": [
      "training loop:  32% |#############                             | ETA:   0:42:08\n"
     ]
    },
    {
     "name": "stdout",
     "output_type": "stream",
     "text": [
      "t_step: 10 \t, sample_time: 0.002 \tupdate_time: 0.005 \tlearn_time: 0.017 \tsum: 510.727 \tsize: 17864                        \n",
      "Episode 483\tTotal score (max over agents) this episode: 0.0\n",
      "t_step: 10 \t, sample_time: 0.004 \tupdate_time: 0.004 \tlearn_time: 0.022 \tsum: 534.463 \tsize: 17893                        "
     ]
    },
    {
     "name": "stderr",
     "output_type": "stream",
     "text": [
      "training loop:  32% |#############                             | ETA:   0:42:06\n"
     ]
    },
    {
     "name": "stdout",
     "output_type": "stream",
     "text": [
      "t_step: 10 \t, sample_time: 0.002 \tupdate_time: 0.010 \tlearn_time: 0.019 \tsum: 534.626 \tsize: 17894                        \n",
      "Episode 484\tTotal score (max over agents) this episode: 0.0\n",
      "t_step: 10 \t, sample_time: 0.003 \tupdate_time: 0.015 \tlearn_time: 0.025 \tsum: 531.718 \tsize: 17921                        "
     ]
    },
    {
     "name": "stderr",
     "output_type": "stream",
     "text": [
      "training loop:  32% |#############                             | ETA:   0:42:02\n"
     ]
    },
    {
     "name": "stdout",
     "output_type": "stream",
     "text": [
      "t_step: 10 \t, sample_time: 0.002 \tupdate_time: 0.005 \tlearn_time: 0.015 \tsum: 528.470 \tsize: 17922                        \n",
      "Episode 485\tTotal score (max over agents) this episode: 0.0\n",
      "t_step: 10 \t, sample_time: 0.003 \tupdate_time: 0.007 \tlearn_time: 0.017 \tsum: 519.034 \tsize: 17949                        "
     ]
    },
    {
     "name": "stderr",
     "output_type": "stream",
     "text": [
      "training loop:  32% |#############                             | ETA:   0:42:00\n"
     ]
    },
    {
     "name": "stdout",
     "output_type": "stream",
     "text": [
      "t_step: 10 \t, sample_time: 0.003 \tupdate_time: 0.007 \tlearn_time: 0.017 \tsum: 516.905 \tsize: 17950                        \n",
      "Episode 486\tTotal score (max over agents) this episode: 0.0\n",
      "t_step: 5 \t, sample_time: 0.002 \tupdate_time: 0.003 \tlearn_time: 0.012 \tsum: 516.257 \tsize: 17970                        "
     ]
    },
    {
     "name": "stderr",
     "output_type": "stream",
     "text": [
      "training loop:  32% |#############                             | ETA:   0:41:56\n"
     ]
    },
    {
     "name": "stdout",
     "output_type": "stream",
     "text": [
      "t_step: 10 \t, sample_time: 0.002 \tupdate_time: 0.004 \tlearn_time: 0.016 \tsum: 511.947 \tsize: 17980                        \n",
      "Episode 487\tTotal score (max over agents) this episode: 0.0\n",
      "t_step: 10 \t, sample_time: 0.003 \tupdate_time: 0.004 \tlearn_time: 0.013 \tsum: 520.042 \tsize: 18007                        "
     ]
    },
    {
     "name": "stderr",
     "output_type": "stream",
     "text": [
      "training loop:  32% |#############                             | ETA:   0:41:52\n"
     ]
    },
    {
     "name": "stdout",
     "output_type": "stream",
     "text": [
      "t_step: 10 \t, sample_time: 0.004 \tupdate_time: 0.003 \tlearn_time: 0.013 \tsum: 521.497 \tsize: 18008                        \n",
      "Episode 488\tTotal score (max over agents) this episode: 0.0\n",
      "t_step: 10 \t, sample_time: 0.003 \tupdate_time: 0.005 \tlearn_time: 0.011 \tsum: 518.714 \tsize: 18037                        "
     ]
    },
    {
     "name": "stderr",
     "output_type": "stream",
     "text": [
      "training loop:  32% |#############                             | ETA:   0:41:48\n"
     ]
    },
    {
     "name": "stdout",
     "output_type": "stream",
     "text": [
      "t_step: 10 \t, sample_time: 0.004 \tupdate_time: 0.004 \tlearn_time: 0.012 \tsum: 518.351 \tsize: 18038                        \n",
      "Episode 489\tTotal score (max over agents) this episode: 0.0\n",
      "t_step: 10 \t, sample_time: 0.002 \tupdate_time: 0.004 \tlearn_time: 0.014 \tsum: 523.714 \tsize: 18066                        "
     ]
    },
    {
     "name": "stderr",
     "output_type": "stream",
     "text": [
      "training loop:  32% |#############                             | ETA:   0:41:43\n"
     ]
    },
    {
     "name": "stdout",
     "output_type": "stream",
     "text": [
      "\n",
      "Episode 490\tTotal score (max over agents) this episode: 0.0\n",
      "t_step: 10 \t, sample_time: 0.002 \tupdate_time: 0.005 \tlearn_time: 0.017 \tsum: 524.853 \tsize: 18096                        "
     ]
    },
    {
     "name": "stderr",
     "output_type": "stream",
     "text": [
      "training loop:  32% |#############                             | ETA:   0:41:39\n"
     ]
    },
    {
     "name": "stdout",
     "output_type": "stream",
     "text": [
      "\n",
      "Episode 491\tTotal score (max over agents) this episode: 0.0\n",
      "t_step: 10 \t, sample_time: 0.002 \tupdate_time: 0.005 \tlearn_time: 0.012 \tsum: 538.065 \tsize: 18123                        "
     ]
    },
    {
     "name": "stderr",
     "output_type": "stream",
     "text": [
      "training loop:  32% |#############                             | ETA:   0:41:36\n"
     ]
    },
    {
     "name": "stdout",
     "output_type": "stream",
     "text": [
      "t_step: 10 \t, sample_time: 0.003 \tupdate_time: 0.007 \tlearn_time: 0.026 \tsum: 536.764 \tsize: 18124                        \n",
      "Episode 492\tTotal score (max over agents) this episode: 0.0\n",
      "t_step: 10 \t, sample_time: 0.002 \tupdate_time: 0.003 \tlearn_time: 0.010 \tsum: 537.664 \tsize: 18151                        "
     ]
    },
    {
     "name": "stderr",
     "output_type": "stream",
     "text": [
      "training loop:  32% |#############                             | ETA:   0:41:33\n"
     ]
    },
    {
     "name": "stdout",
     "output_type": "stream",
     "text": [
      "t_step: 10 \t, sample_time: 0.003 \tupdate_time: 0.006 \tlearn_time: 0.022 \tsum: 533.989 \tsize: 18152                        \n",
      "Episode 493\tTotal score (max over agents) this episode: 0.0\n",
      "t_step: 10 \t, sample_time: 0.003 \tupdate_time: 0.008 \tlearn_time: 0.116 \tsum: 524.315 \tsize: 18179                        "
     ]
    },
    {
     "name": "stderr",
     "output_type": "stream",
     "text": [
      "training loop:  32% |#############                             | ETA:   0:41:30\n"
     ]
    },
    {
     "name": "stdout",
     "output_type": "stream",
     "text": [
      "t_step: 10 \t, sample_time: 0.002 \tupdate_time: 0.009 \tlearn_time: 0.022 \tsum: 519.384 \tsize: 18180                        \n",
      "Episode 494\tTotal score (max over agents) this episode: 0.0\n",
      "t_step: 15 \t, sample_time: 0.003 \tupdate_time: 0.005 \tlearn_time: 0.014 \tsum: 526.753 \tsize: 18219                        "
     ]
    },
    {
     "name": "stderr",
     "output_type": "stream",
     "text": [
      "training loop:  33% |#############                             | ETA:   0:41:27\n"
     ]
    },
    {
     "name": "stdout",
     "output_type": "stream",
     "text": [
      "t_step: 15 \t, sample_time: 0.002 \tupdate_time: 0.005 \tlearn_time: 0.011 \tsum: 521.361 \tsize: 18220                        \n",
      "Episode 495\tTotal score (max over agents) this episode: 0.0\n",
      "t_step: 10 \t, sample_time: 0.002 \tupdate_time: 0.004 \tlearn_time: 0.012 \tsum: 526.222 \tsize: 18241                        "
     ]
    },
    {
     "name": "stderr",
     "output_type": "stream",
     "text": [
      "training loop:  33% |#############                             | ETA:   0:41:23\n"
     ]
    },
    {
     "name": "stdout",
     "output_type": "stream",
     "text": [
      "t_step: 10 \t, sample_time: 0.002 \tupdate_time: 0.005 \tlearn_time: 0.015 \tsum: 526.176 \tsize: 18242                        \n",
      "Episode 496\tTotal score (max over agents) this episode: 0.0\n",
      "t_step: 10 \t, sample_time: 0.003 \tupdate_time: 0.006 \tlearn_time: 0.016 \tsum: 528.053 \tsize: 18271                        "
     ]
    },
    {
     "name": "stderr",
     "output_type": "stream",
     "text": [
      "training loop:  33% |#############                             | ETA:   0:41:18\n"
     ]
    },
    {
     "name": "stdout",
     "output_type": "stream",
     "text": [
      "t_step: 10 \t, sample_time: 0.003 \tupdate_time: 0.005 \tlearn_time: 0.030 \tsum: 527.690 \tsize: 18272                        \n",
      "Episode 497\tTotal score (max over agents) this episode: 0.0\n",
      "t_step: 10 \t, sample_time: 0.004 \tupdate_time: 0.005 \tlearn_time: 0.019 \tsum: 531.543 \tsize: 18299                        "
     ]
    },
    {
     "name": "stderr",
     "output_type": "stream",
     "text": [
      "training loop:  33% |#############                             | ETA:   0:41:15\n"
     ]
    },
    {
     "name": "stdout",
     "output_type": "stream",
     "text": [
      "t_step: 10 \t, sample_time: 0.003 \tupdate_time: 0.004 \tlearn_time: 0.030 \tsum: 523.338 \tsize: 18300                        \n",
      "Episode 498\tTotal score (max over agents) this episode: 0.0\n",
      "t_step: 10 \t, sample_time: 0.002 \tupdate_time: 0.005 \tlearn_time: 0.013 \tsum: 533.970 \tsize: 18328                        "
     ]
    },
    {
     "name": "stderr",
     "output_type": "stream",
     "text": [
      "training loop:  33% |#############                             | ETA:   0:41:11\n"
     ]
    },
    {
     "name": "stdout",
     "output_type": "stream",
     "text": [
      "\n",
      "Episode 499\tTotal score (max over agents) this episode: 0.0\n",
      "t_step: 10 \t, sample_time: 0.002 \tupdate_time: 0.004 \tlearn_time: 0.014 \tsum: 532.075 \tsize: 18355                        "
     ]
    },
    {
     "name": "stderr",
     "output_type": "stream",
     "text": [
      "training loop:  33% |##############                            | ETA:   0:41:07\n"
     ]
    },
    {
     "name": "stdout",
     "output_type": "stream",
     "text": [
      "t_step: 10 \t, sample_time: 0.003 \tupdate_time: 0.005 \tlearn_time: 0.056 \tsum: 524.171 \tsize: 18356                        \n",
      "Episode 500\tTotal score (max over agents) this episode: 0.0\n",
      "t_step: 5 \t, sample_time: 0.003 \tupdate_time: 0.006 \tlearn_time: 0.078 \tsum: 521.261 \tsize: 18376                        "
     ]
    },
    {
     "name": "stderr",
     "output_type": "stream",
     "text": [
      "training loop:  33% |##############                            | ETA:   0:41:04\n"
     ]
    },
    {
     "name": "stdout",
     "output_type": "stream",
     "text": [
      "t_step: 10 \t, sample_time: 0.002 \tupdate_time: 0.005 \tlearn_time: 0.012 \tsum: 518.394 \tsize: 18386                        \n",
      "Episode 501\tTotal score (max over agents) this episode: 0.0\n",
      "t_step: 5 \t, sample_time: 0.002 \tupdate_time: 0.005 \tlearn_time: 0.020 \tsum: 521.799 \tsize: 18404                        "
     ]
    },
    {
     "name": "stderr",
     "output_type": "stream",
     "text": [
      "training loop:  33% |##############                            | ETA:   0:41:00\n"
     ]
    },
    {
     "name": "stdout",
     "output_type": "stream",
     "text": [
      "t_step: 10 \t, sample_time: 0.002 \tupdate_time: 0.004 \tlearn_time: 0.021 \tsum: 529.198 \tsize: 18414                        \n",
      "Episode 502\tTotal score (max over agents) this episode: 0.0\n",
      "t_step: 10 \t, sample_time: 0.003 \tupdate_time: 0.007 \tlearn_time: 0.013 \tsum: 535.379 \tsize: 18443                        "
     ]
    },
    {
     "name": "stderr",
     "output_type": "stream",
     "text": [
      "training loop:  33% |##############                            | ETA:   0:40:57\n"
     ]
    },
    {
     "name": "stdout",
     "output_type": "stream",
     "text": [
      "t_step: 10 \t, sample_time: 0.003 \tupdate_time: 0.003 \tlearn_time: 0.013 \tsum: 530.134 \tsize: 18444                        \n",
      "Episode 503\tTotal score (max over agents) this episode: 0.0\n",
      "t_step: 10 \t, sample_time: 0.003 \tupdate_time: 0.006 \tlearn_time: 0.058 \tsum: 535.454 \tsize: 18471                        "
     ]
    },
    {
     "name": "stderr",
     "output_type": "stream",
     "text": [
      "training loop:  33% |##############                            | ETA:   0:40:54\n"
     ]
    },
    {
     "name": "stdout",
     "output_type": "stream",
     "text": [
      "t_step: 10 \t, sample_time: 0.004 \tupdate_time: 0.004 \tlearn_time: 0.018 \tsum: 531.136 \tsize: 18472                        \n",
      "Episode 504\tTotal score (max over agents) this episode: 0.0\n",
      "t_step: 10 \t, sample_time: 0.002 \tupdate_time: 0.003 \tlearn_time: 0.008 \tsum: 533.769 \tsize: 18499                        "
     ]
    },
    {
     "name": "stderr",
     "output_type": "stream",
     "text": [
      "training loop:  33% |##############                            | ETA:   0:40:51\n"
     ]
    },
    {
     "name": "stdout",
     "output_type": "stream",
     "text": [
      "t_step: 10 \t, sample_time: 0.002 \tupdate_time: 0.004 \tlearn_time: 0.013 \tsum: 527.457 \tsize: 18500                        \n",
      "Episode 505\tTotal score (max over agents) this episode: 0.0\n",
      "t_step: 10 \t, sample_time: 0.002 \tupdate_time: 0.005 \tlearn_time: 0.021 \tsum: 532.641 \tsize: 18527                        "
     ]
    },
    {
     "name": "stderr",
     "output_type": "stream",
     "text": [
      "training loop:  33% |##############                            | ETA:   0:40:47\n"
     ]
    },
    {
     "name": "stdout",
     "output_type": "stream",
     "text": [
      "t_step: 10 \t, sample_time: 0.002 \tupdate_time: 0.004 \tlearn_time: 0.012 \tsum: 528.827 \tsize: 18528                        \n",
      "Episode 506\tTotal score (max over agents) this episode: 0.0\n",
      "t_step: 10 \t, sample_time: 0.002 \tupdate_time: 0.004 \tlearn_time: 0.018 \tsum: 536.020 \tsize: 18555                        "
     ]
    },
    {
     "name": "stderr",
     "output_type": "stream",
     "text": [
      "training loop:  33% |##############                            | ETA:   0:40:43\n"
     ]
    },
    {
     "name": "stdout",
     "output_type": "stream",
     "text": [
      "t_step: 10 \t, sample_time: 0.002 \tupdate_time: 0.003 \tlearn_time: 0.031 \tsum: 533.060 \tsize: 18556                        \n",
      "Episode 507\tTotal score (max over agents) this episode: 0.0\n",
      "t_step: 10 \t, sample_time: 0.002 \tupdate_time: 0.005 \tlearn_time: 0.013 \tsum: 533.495 \tsize: 18586                        "
     ]
    },
    {
     "name": "stderr",
     "output_type": "stream",
     "text": [
      "training loop:  33% |##############                            | ETA:   0:40:40\n"
     ]
    },
    {
     "name": "stdout",
     "output_type": "stream",
     "text": [
      "\n",
      "Episode 508\tTotal score (max over agents) this episode: 0.0\n",
      "t_step: 10 \t, sample_time: 0.004 \tupdate_time: 0.003 \tlearn_time: 0.010 \tsum: 535.184 \tsize: 18613                        "
     ]
    },
    {
     "name": "stderr",
     "output_type": "stream",
     "text": [
      "training loop:  33% |##############                            | ETA:   0:40:37\n"
     ]
    },
    {
     "name": "stdout",
     "output_type": "stream",
     "text": [
      "t_step: 10 \t, sample_time: 0.002 \tupdate_time: 0.003 \tlearn_time: 0.015 \tsum: 538.354 \tsize: 18614                        \n",
      "Episode 509\tTotal score (max over agents) this episode: 0.0\n",
      "t_step: 10 \t, sample_time: 0.002 \tupdate_time: 0.006 \tlearn_time: 0.023 \tsum: 538.491 \tsize: 18641                        "
     ]
    },
    {
     "name": "stderr",
     "output_type": "stream",
     "text": [
      "training loop:  34% |##############                            | ETA:   0:40:34\n"
     ]
    },
    {
     "name": "stdout",
     "output_type": "stream",
     "text": [
      "t_step: 10 \t, sample_time: 0.003 \tupdate_time: 0.007 \tlearn_time: 0.017 \tsum: 541.051 \tsize: 18642                        \n",
      "Episode 510\tTotal score (max over agents) this episode: 0.0\n",
      "t_step: 5 \t, sample_time: 0.002 \tupdate_time: 0.006 \tlearn_time: 0.012 \tsum: 542.796 \tsize: 18660                        "
     ]
    },
    {
     "name": "stderr",
     "output_type": "stream",
     "text": [
      "training loop:  34% |##############                            | ETA:   0:40:29\n"
     ]
    },
    {
     "name": "stdout",
     "output_type": "stream",
     "text": [
      "t_step: 10 \t, sample_time: 0.002 \tupdate_time: 0.004 \tlearn_time: 0.011 \tsum: 547.037 \tsize: 18670                        \n",
      "Episode 511\tTotal score (max over agents) this episode: 0.0\n",
      "t_step: 10 \t, sample_time: 0.003 \tupdate_time: 0.005 \tlearn_time: 0.025 \tsum: 555.147 \tsize: 18698                        "
     ]
    },
    {
     "name": "stderr",
     "output_type": "stream",
     "text": [
      "training loop:  34% |##############                            | ETA:   0:40:27\n"
     ]
    },
    {
     "name": "stdout",
     "output_type": "stream",
     "text": [
      "t_step: 15 \t, sample_time: 0.002 \tupdate_time: 0.003 \tlearn_time: 0.010 \tsum: 550.599 \tsize: 18708                        \n",
      "Episode 512\tTotal score (max over agents) this episode: 0.0\n",
      "t_step: 10 \t, sample_time: 0.002 \tupdate_time: 0.004 \tlearn_time: 0.011 \tsum: 559.775 \tsize: 18729                        "
     ]
    },
    {
     "name": "stderr",
     "output_type": "stream",
     "text": [
      "training loop:  34% |##############                            | ETA:   0:40:23\n"
     ]
    },
    {
     "name": "stdout",
     "output_type": "stream",
     "text": [
      "t_step: 10 \t, sample_time: 0.002 \tupdate_time: 0.004 \tlearn_time: 0.014 \tsum: 558.385 \tsize: 18730                        \n",
      "Episode 513\tTotal score (max over agents) this episode: 0.0\n",
      "t_step: 5 \t, sample_time: 0.003 \tupdate_time: 0.003 \tlearn_time: 0.012 \tsum: 550.669 \tsize: 18748                        "
     ]
    },
    {
     "name": "stderr",
     "output_type": "stream",
     "text": [
      "training loop:  34% |##############                            | ETA:   0:40:19\n"
     ]
    },
    {
     "name": "stdout",
     "output_type": "stream",
     "text": [
      "t_step: 10 \t, sample_time: 0.004 \tupdate_time: 0.005 \tlearn_time: 0.012 \tsum: 554.082 \tsize: 18758                        \n",
      "Episode 514\tTotal score (max over agents) this episode: 0.0\n",
      "t_step: 10 \t, sample_time: 0.003 \tupdate_time: 0.005 \tlearn_time: 0.012 \tsum: 555.786 \tsize: 18787                                               "
     ]
    },
    {
     "name": "stderr",
     "output_type": "stream",
     "text": [
      "training loop:  34% |##############                            | ETA:   0:40:15\n"
     ]
    },
    {
     "name": "stdout",
     "output_type": "stream",
     "text": [
      "t_step: 10 \t, sample_time: 0.003 \tupdate_time: 0.004 \tlearn_time: 0.074 \tsum: 551.056 \tsize: 18788                        \n",
      "Episode 515\tTotal score (max over agents) this episode: 0.0\n",
      "t_step: 10 \t, sample_time: 0.003 \tupdate_time: 0.004 \tlearn_time: 0.020 \tsum: 551.754 \tsize: 18815                        "
     ]
    },
    {
     "name": "stderr",
     "output_type": "stream",
     "text": [
      "training loop:  34% |##############                            | ETA:   0:40:12\n"
     ]
    },
    {
     "name": "stdout",
     "output_type": "stream",
     "text": [
      "t_step: 10 \t, sample_time: 0.002 \tupdate_time: 0.005 \tlearn_time: 0.022 \tsum: 550.230 \tsize: 18816                        \n",
      "Episode 516\tTotal score (max over agents) this episode: 0.0\n",
      "t_step: 5 \t, sample_time: 0.002 \tupdate_time: 0.007 \tlearn_time: 0.016 \tsum: 554.560 \tsize: 18834                        "
     ]
    },
    {
     "name": "stderr",
     "output_type": "stream",
     "text": [
      "training loop:  34% |##############                            | ETA:   0:40:08\n"
     ]
    },
    {
     "name": "stdout",
     "output_type": "stream",
     "text": [
      "t_step: 10 \t, sample_time: 0.002 \tupdate_time: 0.004 \tlearn_time: 0.010 \tsum: 547.409 \tsize: 18844                        \n",
      "Episode 517\tTotal score (max over agents) this episode: 0.0\n",
      "t_step: 10 \t, sample_time: 0.002 \tupdate_time: 0.006 \tlearn_time: 0.023 \tsum: 556.389 \tsize: 18873                        "
     ]
    },
    {
     "name": "stderr",
     "output_type": "stream",
     "text": [
      "training loop:  34% |##############                            | ETA:   0:40:03\n"
     ]
    },
    {
     "name": "stdout",
     "output_type": "stream",
     "text": [
      "t_step: 10 \t, sample_time: 0.002 \tupdate_time: 0.007 \tlearn_time: 0.014 \tsum: 553.563 \tsize: 18874                        \n",
      "Episode 518\tTotal score (max over agents) this episode: 0.0\n",
      "t_step: 5 \t, sample_time: 0.002 \tupdate_time: 0.003 \tlearn_time: 0.010 \tsum: 553.417 \tsize: 18892                        "
     ]
    },
    {
     "name": "stderr",
     "output_type": "stream",
     "text": [
      "training loop:  34% |##############                            | ETA:   0:39:59\n"
     ]
    },
    {
     "name": "stdout",
     "output_type": "stream",
     "text": [
      "t_step: 10 \t, sample_time: 0.002 \tupdate_time: 0.003 \tlearn_time: 0.009 \tsum: 550.748 \tsize: 18902                        \n",
      "Episode 519\tTotal score (max over agents) this episode: 0.0\n",
      "t_step: 10 \t, sample_time: 0.004 \tupdate_time: 0.003 \tlearn_time: 0.041 \tsum: 549.016 \tsize: 18929                        "
     ]
    },
    {
     "name": "stderr",
     "output_type": "stream",
     "text": [
      "training loop:  34% |##############                            | ETA:   0:39:56\n"
     ]
    },
    {
     "name": "stdout",
     "output_type": "stream",
     "text": [
      "t_step: 10 \t, sample_time: 0.003 \tupdate_time: 0.006 \tlearn_time: 0.013 \tsum: 544.452 \tsize: 18930                        \n",
      "Episode 520\tTotal score (max over agents) this episode: 0.0\n",
      "t_step: 10 \t, sample_time: 0.002 \tupdate_time: 0.005 \tlearn_time: 0.014 \tsum: 537.171 \tsize: 18957                        "
     ]
    },
    {
     "name": "stderr",
     "output_type": "stream",
     "text": [
      "training loop:  34% |##############                            | ETA:   0:39:53\n"
     ]
    },
    {
     "name": "stdout",
     "output_type": "stream",
     "text": [
      "t_step: 10 \t, sample_time: 0.002 \tupdate_time: 0.003 \tlearn_time: 0.015 \tsum: 537.613 \tsize: 18958                        \n",
      "Episode 521\tTotal score (max over agents) this episode: 0.0\n",
      "t_step: 10 \t, sample_time: 0.002 \tupdate_time: 0.004 \tlearn_time: 0.042 \tsum: 552.520 \tsize: 18985                        "
     ]
    },
    {
     "name": "stderr",
     "output_type": "stream",
     "text": [
      "training loop:  34% |##############                            | ETA:   0:39:49\n"
     ]
    },
    {
     "name": "stdout",
     "output_type": "stream",
     "text": [
      "t_step: 10 \t, sample_time: 0.003 \tupdate_time: 0.003 \tlearn_time: 0.051 \tsum: 547.075 \tsize: 18986                        \n",
      "Episode 522\tTotal score (max over agents) this episode: 0.0\n",
      "t_step: 5 \t, sample_time: 0.002 \tupdate_time: 0.003 \tlearn_time: 0.011 \tsum: 550.788 \tsize: 19006                        "
     ]
    },
    {
     "name": "stderr",
     "output_type": "stream",
     "text": [
      "training loop:  34% |##############                            | ETA:   0:39:45\n"
     ]
    },
    {
     "name": "stdout",
     "output_type": "stream",
     "text": [
      "t_step: 10 \t, sample_time: 0.002 \tupdate_time: 0.003 \tlearn_time: 0.008 \tsum: 547.555 \tsize: 19016                        \n",
      "Episode 523\tTotal score (max over agents) this episode: 0.0\n",
      "t_step: 10 \t, sample_time: 0.002 \tupdate_time: 0.003 \tlearn_time: 0.010 \tsum: 557.734 \tsize: 19044                        "
     ]
    },
    {
     "name": "stderr",
     "output_type": "stream",
     "text": [
      "training loop:  34% |##############                            | ETA:   0:39:41\n"
     ]
    },
    {
     "name": "stdout",
     "output_type": "stream",
     "text": [
      "\n",
      "Episode 524\tTotal score (max over agents) this episode: 0.0\n",
      "t_step: 10 \t, sample_time: 0.002 \tupdate_time: 0.003 \tlearn_time: 0.011 \tsum: 558.759 \tsize: 19072                        "
     ]
    },
    {
     "name": "stderr",
     "output_type": "stream",
     "text": [
      "training loop:  35% |##############                            | ETA:   0:39:37\n"
     ]
    },
    {
     "name": "stdout",
     "output_type": "stream",
     "text": [
      "\n",
      "Episode 525\tTotal score (max over agents) this episode: 0.0\n",
      "t_step: 10 \t, sample_time: 0.004 \tupdate_time: 0.007 \tlearn_time: 0.055 \tsum: 553.255 \tsize: 19099                        "
     ]
    },
    {
     "name": "stderr",
     "output_type": "stream",
     "text": [
      "training loop:  35% |##############                            | ETA:   0:39:34\n"
     ]
    },
    {
     "name": "stdout",
     "output_type": "stream",
     "text": [
      "t_step: 10 \t, sample_time: 0.002 \tupdate_time: 0.007 \tlearn_time: 0.016 \tsum: 551.102 \tsize: 19100                        \n",
      "Episode 526\tTotal score (max over agents) this episode: 0.0\n",
      "t_step: 10 \t, sample_time: 0.002 \tupdate_time: 0.004 \tlearn_time: 0.016 \tsum: 546.490 \tsize: 19127                        "
     ]
    },
    {
     "name": "stderr",
     "output_type": "stream",
     "text": [
      "training loop:  35% |##############                            | ETA:   0:39:31\n"
     ]
    },
    {
     "name": "stdout",
     "output_type": "stream",
     "text": [
      "t_step: 10 \t, sample_time: 0.002 \tupdate_time: 0.006 \tlearn_time: 0.059 \tsum: 547.919 \tsize: 19128                        \n",
      "Episode 527\tTotal score (max over agents) this episode: 0.0\n",
      "t_step: 10 \t, sample_time: 0.003 \tupdate_time: 0.006 \tlearn_time: 0.024 \tsum: 546.588 \tsize: 19157                        "
     ]
    },
    {
     "name": "stderr",
     "output_type": "stream",
     "text": [
      "training loop:  35% |##############                            | ETA:   0:39:28\n"
     ]
    },
    {
     "name": "stdout",
     "output_type": "stream",
     "text": [
      "t_step: 10 \t, sample_time: 0.002 \tupdate_time: 0.004 \tlearn_time: 0.028 \tsum: 547.048 \tsize: 19158                        \n",
      "Episode 528\tTotal score (max over agents) this episode: 0.0\n",
      "t_step: 5 \t, sample_time: 0.002 \tupdate_time: 0.005 \tlearn_time: 0.011 \tsum: 549.209 \tsize: 19176                        "
     ]
    },
    {
     "name": "stderr",
     "output_type": "stream",
     "text": [
      "training loop:  35% |##############                            | ETA:   0:39:24\n"
     ]
    },
    {
     "name": "stdout",
     "output_type": "stream",
     "text": [
      "t_step: 10 \t, sample_time: 0.003 \tupdate_time: 0.003 \tlearn_time: 0.010 \tsum: 550.444 \tsize: 19186                        \n",
      "Episode 529\tTotal score (max over agents) this episode: 0.0\n",
      "t_step: 10 \t, sample_time: 0.002 \tupdate_time: 0.005 \tlearn_time: 0.016 \tsum: 553.944 \tsize: 19215                        "
     ]
    },
    {
     "name": "stderr",
     "output_type": "stream",
     "text": [
      "training loop:  35% |##############                            | ETA:   0:39:20\n"
     ]
    },
    {
     "name": "stdout",
     "output_type": "stream",
     "text": [
      "t_step: 10 \t, sample_time: 0.002 \tupdate_time: 0.006 \tlearn_time: 0.018 \tsum: 552.574 \tsize: 19216                        \n",
      "Episode 530\tTotal score (max over agents) this episode: 0.0\n",
      "t_step: 10 \t, sample_time: 0.004 \tupdate_time: 0.006 \tlearn_time: 0.015 \tsum: 558.506 \tsize: 19243                        "
     ]
    },
    {
     "name": "stderr",
     "output_type": "stream",
     "text": [
      "training loop:  35% |##############                            | ETA:   0:39:16\n"
     ]
    },
    {
     "name": "stdout",
     "output_type": "stream",
     "text": [
      "t_step: 10 \t, sample_time: 0.002 \tupdate_time: 0.003 \tlearn_time: 0.010 \tsum: 556.825 \tsize: 19244                        \n",
      "Episode 531\tTotal score (max over agents) this episode: 0.0\n",
      "t_step: 10 \t, sample_time: 0.002 \tupdate_time: 0.004 \tlearn_time: 0.010 \tsum: 558.031 \tsize: 19271                        "
     ]
    },
    {
     "name": "stderr",
     "output_type": "stream",
     "text": [
      "training loop:  35% |##############                            | ETA:   0:39:12\n"
     ]
    },
    {
     "name": "stdout",
     "output_type": "stream",
     "text": [
      "t_step: 10 \t, sample_time: 0.002 \tupdate_time: 0.005 \tlearn_time: 0.014 \tsum: 550.247 \tsize: 19272                        \n",
      "Episode 532\tTotal score (max over agents) this episode: 0.0\n",
      "t_step: 5 \t, sample_time: 0.002 \tupdate_time: 0.004 \tlearn_time: 0.014 \tsum: 551.946 \tsize: 19290                        "
     ]
    },
    {
     "name": "stderr",
     "output_type": "stream",
     "text": [
      "training loop:  35% |##############                            | ETA:   0:39:09\n"
     ]
    },
    {
     "name": "stdout",
     "output_type": "stream",
     "text": [
      "t_step: 10 \t, sample_time: 0.003 \tupdate_time: 0.005 \tlearn_time: 0.012 \tsum: 551.713 \tsize: 19300                        \n",
      "Episode 533\tTotal score (max over agents) this episode: 0.0\n",
      "t_step: 10 \t, sample_time: 0.003 \tupdate_time: 0.005 \tlearn_time: 0.018 \tsum: 560.724 \tsize: 19327                        "
     ]
    },
    {
     "name": "stderr",
     "output_type": "stream",
     "text": [
      "training loop:  35% |##############                            | ETA:   0:39:05\n"
     ]
    },
    {
     "name": "stdout",
     "output_type": "stream",
     "text": [
      "t_step: 10 \t, sample_time: 0.003 \tupdate_time: 0.005 \tlearn_time: 0.016 \tsum: 557.448 \tsize: 19328                        \n",
      "Episode 534\tTotal score (max over agents) this episode: 0.0\n",
      "t_step: 5 \t, sample_time: 0.002 \tupdate_time: 0.003 \tlearn_time: 0.027 \tsum: 550.783 \tsize: 19348                        "
     ]
    },
    {
     "name": "stderr",
     "output_type": "stream",
     "text": [
      "training loop:  35% |##############                            | ETA:   0:39:02\n"
     ]
    },
    {
     "name": "stdout",
     "output_type": "stream",
     "text": [
      "t_step: 10 \t, sample_time: 0.005 \tupdate_time: 0.004 \tlearn_time: 0.011 \tsum: 563.625 \tsize: 19358                        \n",
      "Episode 535\tTotal score (max over agents) this episode: 0.0\n",
      "t_step: 5 \t, sample_time: 0.003 \tupdate_time: 0.005 \tlearn_time: 0.019 \tsum: 561.259 \tsize: 19376                        "
     ]
    },
    {
     "name": "stderr",
     "output_type": "stream",
     "text": [
      "training loop:  35% |###############                           | ETA:   0:38:57\n"
     ]
    },
    {
     "name": "stdout",
     "output_type": "stream",
     "text": [
      "t_step: 10 \t, sample_time: 0.003 \tupdate_time: 0.005 \tlearn_time: 0.015 \tsum: 562.300 \tsize: 19386                        \n",
      "Episode 536\tTotal score (max over agents) this episode: 0.0\n",
      "t_step: 25 \t, sample_time: 0.009 \tupdate_time: 0.004 \tlearn_time: 0.014 \tsum: 566.844 \tsize: 19444                        "
     ]
    },
    {
     "name": "stderr",
     "output_type": "stream",
     "text": [
      "training loop:  35% |###############                           | ETA:   0:38:57\n"
     ]
    },
    {
     "name": "stdout",
     "output_type": "stream",
     "text": [
      "t_step: 30 \t, sample_time: 0.002 \tupdate_time: 0.004 \tlearn_time: 0.010 \tsum: 571.735 \tsize: 19454                        \n",
      "Episode 537\tTotal score (max over agents) this episode: 0.0\n",
      "t_step: 5 \t, sample_time: 0.003 \tupdate_time: 0.004 \tlearn_time: 0.018 \tsum: 565.346 \tsize: 19470                        "
     ]
    },
    {
     "name": "stderr",
     "output_type": "stream",
     "text": [
      "training loop:  35% |###############                           | ETA:   0:38:53\n"
     ]
    },
    {
     "name": "stdout",
     "output_type": "stream",
     "text": [
      "t_step: 10 \t, sample_time: 0.002 \tupdate_time: 0.005 \tlearn_time: 0.014 \tsum: 562.809 \tsize: 19480                        \n",
      "Episode 538\tTotal score (max over agents) this episode: 0.0\n",
      "t_step: 5 \t, sample_time: 0.002 \tupdate_time: 0.003 \tlearn_time: 0.018 \tsum: 579.636 \tsize: 19498                        "
     ]
    },
    {
     "name": "stderr",
     "output_type": "stream",
     "text": [
      "training loop:  35% |###############                           | ETA:   0:38:50\n"
     ]
    },
    {
     "name": "stdout",
     "output_type": "stream",
     "text": [
      "t_step: 10 \t, sample_time: 0.003 \tupdate_time: 0.007 \tlearn_time: 0.021 \tsum: 580.934 \tsize: 19508                        \n",
      "Episode 539\tTotal score (max over agents) this episode: 0.0\n",
      "t_step: 25 \t, sample_time: 0.003 \tupdate_time: 0.007 \tlearn_time: 0.016 \tsum: 582.084 \tsize: 19566                        "
     ]
    },
    {
     "name": "stderr",
     "output_type": "stream",
     "text": [
      "training loop:  36% |###############                           | ETA:   0:38:50\n"
     ]
    },
    {
     "name": "stdout",
     "output_type": "stream",
     "text": [
      "t_step: 30 \t, sample_time: 0.002 \tupdate_time: 0.003 \tlearn_time: 0.010 \tsum: 584.212 \tsize: 19576                        \n",
      "Episode 540\tTotal score (max over agents) this episode: 0.0\n",
      "t_step: 10 \t, sample_time: 0.003 \tupdate_time: 0.004 \tlearn_time: 0.022 \tsum: 592.261 \tsize: 19601                        "
     ]
    },
    {
     "name": "stderr",
     "output_type": "stream",
     "text": [
      "training loop:  36% |###############                           | ETA:   0:38:47\n"
     ]
    },
    {
     "name": "stdout",
     "output_type": "stream",
     "text": [
      "t_step: 10 \t, sample_time: 0.003 \tupdate_time: 0.004 \tlearn_time: 0.014 \tsum: 588.715 \tsize: 19602                        \n",
      "Episode 541\tTotal score (max over agents) this episode: 0.0\n",
      "t_step: 10 \t, sample_time: 0.002 \tupdate_time: 0.004 \tlearn_time: 0.016 \tsum: 597.654 \tsize: 19629                        "
     ]
    },
    {
     "name": "stderr",
     "output_type": "stream",
     "text": [
      "training loop:  36% |###############                           | ETA:   0:38:45\n"
     ]
    },
    {
     "name": "stdout",
     "output_type": "stream",
     "text": [
      "t_step: 10 \t, sample_time: 0.003 \tupdate_time: 0.005 \tlearn_time: 0.017 \tsum: 595.676 \tsize: 19630                        \n",
      "Episode 542\tTotal score (max over agents) this episode: 0.0\n",
      "t_step: 5 \t, sample_time: 0.002 \tupdate_time: 0.004 \tlearn_time: 0.010 \tsum: 579.143 \tsize: 19648                        "
     ]
    },
    {
     "name": "stderr",
     "output_type": "stream",
     "text": [
      "training loop:  36% |###############                           | ETA:   0:38:41\n"
     ]
    },
    {
     "name": "stdout",
     "output_type": "stream",
     "text": [
      "t_step: 10 \t, sample_time: 0.002 \tupdate_time: 0.004 \tlearn_time: 0.029 \tsum: 582.063 \tsize: 19658                        \n",
      "Episode 543\tTotal score (max over agents) this episode: 0.0\n",
      "t_step: 10 \t, sample_time: 0.002 \tupdate_time: 0.004 \tlearn_time: 0.012 \tsum: 586.032 \tsize: 19685                        "
     ]
    },
    {
     "name": "stderr",
     "output_type": "stream",
     "text": [
      "training loop:  36% |###############                           | ETA:   0:38:39\n"
     ]
    },
    {
     "name": "stdout",
     "output_type": "stream",
     "text": [
      "t_step: 10 \t, sample_time: 0.002 \tupdate_time: 0.005 \tlearn_time: 0.027 \tsum: 582.587 \tsize: 19686                        \n",
      "Episode 544\tTotal score (max over agents) this episode: 0.0\n",
      "t_step: 10 \t, sample_time: 0.003 \tupdate_time: 0.009 \tlearn_time: 0.022 \tsum: 585.574 \tsize: 19715                        "
     ]
    },
    {
     "name": "stderr",
     "output_type": "stream",
     "text": [
      "training loop:  36% |###############                           | ETA:   0:38:35\n"
     ]
    },
    {
     "name": "stdout",
     "output_type": "stream",
     "text": [
      "t_step: 10 \t, sample_time: 0.007 \tupdate_time: 0.006 \tlearn_time: 0.025 \tsum: 585.337 \tsize: 19716                        \n",
      "Episode 545\tTotal score (max over agents) this episode: 0.0\n",
      "t_step: 10 \t, sample_time: 0.002 \tupdate_time: 0.005 \tlearn_time: 0.022 \tsum: 573.191 \tsize: 19744                        "
     ]
    },
    {
     "name": "stderr",
     "output_type": "stream",
     "text": [
      "training loop:  36% |###############                           | ETA:   0:38:32\n"
     ]
    },
    {
     "name": "stdout",
     "output_type": "stream",
     "text": [
      "\n",
      "Episode 546\tTotal score (max over agents) this episode: 0.0\n",
      "t_step: 5 \t, sample_time: 0.002 \tupdate_time: 0.005 \tlearn_time: 0.024 \tsum: 575.823 \tsize: 19762                        "
     ]
    },
    {
     "name": "stderr",
     "output_type": "stream",
     "text": [
      "training loop:  36% |###############                           | ETA:   0:38:28\n"
     ]
    },
    {
     "name": "stdout",
     "output_type": "stream",
     "text": [
      "t_step: 10 \t, sample_time: 0.002 \tupdate_time: 0.004 \tlearn_time: 0.014 \tsum: 573.951 \tsize: 19772                        \n",
      "Episode 547\tTotal score (max over agents) this episode: 0.0\n",
      "t_step: 5 \t, sample_time: 0.003 \tupdate_time: 0.004 \tlearn_time: 0.013 \tsum: 564.232 \tsize: 19790                        "
     ]
    },
    {
     "name": "stderr",
     "output_type": "stream",
     "text": [
      "training loop:  36% |###############                           | ETA:   0:38:24\n"
     ]
    },
    {
     "name": "stdout",
     "output_type": "stream",
     "text": [
      "t_step: 10 \t, sample_time: 0.002 \tupdate_time: 0.005 \tlearn_time: 0.013 \tsum: 566.891 \tsize: 19800                        \n",
      "Episode 548\tTotal score (max over agents) this episode: 0.0\n",
      "t_step: 35 \t, sample_time: 0.001 \tupdate_time: 0.007 \tlearn_time: 0.052 \tsum: 582.380 \tsize: 19877                        "
     ]
    },
    {
     "name": "stderr",
     "output_type": "stream",
     "text": [
      "training loop:  36% |###############                           | ETA:   0:38:25\n"
     ]
    },
    {
     "name": "stdout",
     "output_type": "stream",
     "text": [
      "t_step: 35 \t, sample_time: 0.004 \tupdate_time: 0.005 \tlearn_time: 0.021 \tsum: 579.312 \tsize: 19878                        \n",
      "Episode 549\tTotal score (max over agents) this episode: 0.10000000149011612\n",
      "t_step: 10 \t, sample_time: 0.004 \tupdate_time: 0.004 \tlearn_time: 0.013 \tsum: 580.928 \tsize: 19902                        "
     ]
    },
    {
     "name": "stderr",
     "output_type": "stream",
     "text": [
      "training loop:  36% |###############                           | ETA:   0:38:22\n"
     ]
    },
    {
     "name": "stdout",
     "output_type": "stream",
     "text": [
      "\n",
      "Episode 550\tTotal score (max over agents) this episode: 0.0\n",
      "t_step: 10 \t, sample_time: 0.003 \tupdate_time: 0.006 \tlearn_time: 0.029 \tsum: 576.591 \tsize: 19929                        "
     ]
    },
    {
     "name": "stderr",
     "output_type": "stream",
     "text": [
      "training loop:  36% |###############                           | ETA:   0:38:19\n"
     ]
    },
    {
     "name": "stdout",
     "output_type": "stream",
     "text": [
      "t_step: 10 \t, sample_time: 0.003 \tupdate_time: 0.006 \tlearn_time: 0.019 \tsum: 577.185 \tsize: 19930                        \n",
      "Episode 551\tTotal score (max over agents) this episode: 0.0\n",
      "t_step: 10 \t, sample_time: 0.002 \tupdate_time: 0.005 \tlearn_time: 0.012 \tsum: 577.658 \tsize: 19958                        "
     ]
    },
    {
     "name": "stderr",
     "output_type": "stream",
     "text": [
      "training loop:  36% |###############                           | ETA:   0:38:15\n"
     ]
    },
    {
     "name": "stdout",
     "output_type": "stream",
     "text": [
      "\n",
      "Episode 552\tTotal score (max over agents) this episode: 0.0\n",
      "t_step: 10 \t, sample_time: 0.002 \tupdate_time: 0.006 \tlearn_time: 0.013 \tsum: 574.182 \tsize: 19986                        "
     ]
    },
    {
     "name": "stderr",
     "output_type": "stream",
     "text": [
      "training loop:  36% |###############                           | ETA:   0:38:12\n"
     ]
    },
    {
     "name": "stdout",
     "output_type": "stream",
     "text": [
      "\n",
      "Episode 553\tTotal score (max over agents) this episode: 0.0\n",
      "t_step: 10 \t, sample_time: 0.002 \tupdate_time: 0.004 \tlearn_time: 0.013 \tsum: 574.115 \tsize: 20013                        "
     ]
    },
    {
     "name": "stderr",
     "output_type": "stream",
     "text": [
      "training loop:  36% |###############                           | ETA:   0:38:09\n"
     ]
    },
    {
     "name": "stdout",
     "output_type": "stream",
     "text": [
      "t_step: 10 \t, sample_time: 0.002 \tupdate_time: 0.003 \tlearn_time: 0.010 \tsum: 570.394 \tsize: 20014                        \n",
      "Episode 554\tTotal score (max over agents) this episode: 0.0\n",
      "t_step: 10 \t, sample_time: 0.003 \tupdate_time: 0.007 \tlearn_time: 0.060 \tsum: 572.948 \tsize: 20043                        "
     ]
    },
    {
     "name": "stderr",
     "output_type": "stream",
     "text": [
      "training loop:  37% |###############                           | ETA:   0:38:07\n"
     ]
    },
    {
     "name": "stdout",
     "output_type": "stream",
     "text": [
      "t_step: 10 \t, sample_time: 0.002 \tupdate_time: 0.006 \tlearn_time: 0.072 \tsum: 572.824 \tsize: 20044                        \n",
      "Episode 555\tTotal score (max over agents) this episode: 0.0\n",
      "t_step: 10 \t, sample_time: 0.013 \tupdate_time: 0.005 \tlearn_time: 0.014 \tsum: 580.175 \tsize: 20071                        "
     ]
    },
    {
     "name": "stderr",
     "output_type": "stream",
     "text": [
      "training loop:  37% |###############                           | ETA:   0:38:04\n"
     ]
    },
    {
     "name": "stdout",
     "output_type": "stream",
     "text": [
      "t_step: 10 \t, sample_time: 0.003 \tupdate_time: 0.006 \tlearn_time: 0.018 \tsum: 574.432 \tsize: 20072                        \n",
      "Episode 556\tTotal score (max over agents) this episode: 0.0\n",
      "t_step: 10 \t, sample_time: 0.006 \tupdate_time: 0.005 \tlearn_time: 0.041 \tsum: 579.562 \tsize: 20099                        "
     ]
    },
    {
     "name": "stderr",
     "output_type": "stream",
     "text": [
      "training loop:  37% |###############                           | ETA:   0:38:01\n"
     ]
    },
    {
     "name": "stdout",
     "output_type": "stream",
     "text": [
      "t_step: 10 \t, sample_time: 0.004 \tupdate_time: 0.005 \tlearn_time: 0.046 \tsum: 576.561 \tsize: 20100                        \n",
      "Episode 557\tTotal score (max over agents) this episode: 0.0\n",
      "t_step: 15 \t, sample_time: 0.002 \tupdate_time: 0.003 \tlearn_time: 0.033 \tsum: 585.109 \tsize: 20137                        "
     ]
    },
    {
     "name": "stderr",
     "output_type": "stream",
     "text": [
      "training loop:  37% |###############                           | ETA:   0:37:59\n"
     ]
    },
    {
     "name": "stdout",
     "output_type": "stream",
     "text": [
      "t_step: 15 \t, sample_time: 0.004 \tupdate_time: 0.005 \tlearn_time: 0.022 \tsum: 579.312 \tsize: 20138                        \n",
      "Episode 558\tTotal score (max over agents) this episode: 0.0\n",
      "t_step: 10 \t, sample_time: 0.002 \tupdate_time: 0.004 \tlearn_time: 0.016 \tsum: 582.448 \tsize: 20165                        "
     ]
    },
    {
     "name": "stderr",
     "output_type": "stream",
     "text": [
      "training loop:  37% |###############                           | ETA:   0:37:56\n"
     ]
    },
    {
     "name": "stdout",
     "output_type": "stream",
     "text": [
      "t_step: 10 \t, sample_time: 0.004 \tupdate_time: 0.005 \tlearn_time: 0.015 \tsum: 581.886 \tsize: 20166                        \n",
      "Episode 559\tTotal score (max over agents) this episode: 0.0\n",
      "t_step: 10 \t, sample_time: 0.002 \tupdate_time: 0.004 \tlearn_time: 0.018 \tsum: 586.532 \tsize: 20194                        \n",
      "Episode 560\tTotal score (max over agents) this episode: 0.0\n"
     ]
    },
    {
     "name": "stderr",
     "output_type": "stream",
     "text": [
      "training loop:  37% |###############                           | ETA:   0:37:53\n"
     ]
    },
    {
     "name": "stdout",
     "output_type": "stream",
     "text": [
      "t_step: 10 \t, sample_time: 0.002 \tupdate_time: 0.006 \tlearn_time: 0.017 \tsum: 575.833 \tsize: 20221                        "
     ]
    },
    {
     "name": "stderr",
     "output_type": "stream",
     "text": [
      "training loop:  37% |###############                           | ETA:   0:37:51\n"
     ]
    },
    {
     "name": "stdout",
     "output_type": "stream",
     "text": [
      "t_step: 10 \t, sample_time: 0.006 \tupdate_time: 0.004 \tlearn_time: 0.060 \tsum: 577.094 \tsize: 20222                        \n",
      "Episode 561\tTotal score (max over agents) this episode: 0.0\n",
      "t_step: 10 \t, sample_time: 0.004 \tupdate_time: 0.006 \tlearn_time: 0.024 \tsum: 585.340 \tsize: 20249                        "
     ]
    },
    {
     "name": "stderr",
     "output_type": "stream",
     "text": [
      "training loop:  37% |###############                           | ETA:   0:37:48\n"
     ]
    },
    {
     "name": "stdout",
     "output_type": "stream",
     "text": [
      "t_step: 10 \t, sample_time: 0.004 \tupdate_time: 0.005 \tlearn_time: 0.037 \tsum: 582.348 \tsize: 20250                        \n",
      "Episode 562\tTotal score (max over agents) this episode: 0.0\n",
      "t_step: 10 \t, sample_time: 0.004 \tupdate_time: 0.005 \tlearn_time: 0.050 \tsum: 578.837 \tsize: 20279                        "
     ]
    },
    {
     "name": "stderr",
     "output_type": "stream",
     "text": [
      "training loop:  37% |###############                           | ETA:   0:37:45\n"
     ]
    },
    {
     "name": "stdout",
     "output_type": "stream",
     "text": [
      "t_step: 10 \t, sample_time: 0.002 \tupdate_time: 0.005 \tlearn_time: 0.026 \tsum: 579.083 \tsize: 20280                        \n",
      "Episode 563\tTotal score (max over agents) this episode: 0.0\n",
      "t_step: 35 \t, sample_time: 0.002 \tupdate_time: 0.005 \tlearn_time: 0.012 \tsum: 576.655 \tsize: 20357                        "
     ]
    },
    {
     "name": "stderr",
     "output_type": "stream",
     "text": [
      "training loop:  37% |###############                           | ETA:   0:37:47\n"
     ]
    },
    {
     "name": "stdout",
     "output_type": "stream",
     "text": [
      "t_step: 35 \t, sample_time: 0.003 \tupdate_time: 0.008 \tlearn_time: 0.028 \tsum: 577.136 \tsize: 20358                        \n",
      "Episode 564\tTotal score (max over agents) this episode: 0.10000000149011612\n",
      "t_step: 10 \t, sample_time: 0.003 \tupdate_time: 0.004 \tlearn_time: 0.014 \tsum: 584.322 \tsize: 20383                        "
     ]
    },
    {
     "name": "stderr",
     "output_type": "stream",
     "text": [
      "training loop:  37% |###############                           | ETA:   0:37:44\n"
     ]
    },
    {
     "name": "stdout",
     "output_type": "stream",
     "text": [
      "t_step: 10 \t, sample_time: 0.002 \tupdate_time: 0.003 \tlearn_time: 0.014 \tsum: 584.707 \tsize: 20384                        \n",
      "Episode 565\tTotal score (max over agents) this episode: 0.0\n",
      "t_step: 40 \t, sample_time: 0.004 \tupdate_time: 0.004 \tlearn_time: 0.028 \tsum: 562.296 \tsize: 20472                        "
     ]
    },
    {
     "name": "stderr",
     "output_type": "stream",
     "text": [
      "training loop:  37% |###############                           | ETA:   0:37:49\n"
     ]
    },
    {
     "name": "stdout",
     "output_type": "stream",
     "text": [
      "\n",
      "Episode 566\tTotal score (max over agents) this episode: 0.10000000149011612\n",
      "t_step: 10 \t, sample_time: 0.003 \tupdate_time: 0.003 \tlearn_time: 0.011 \tsum: 568.068 \tsize: 20501                        "
     ]
    },
    {
     "name": "stderr",
     "output_type": "stream",
     "text": [
      "training loop:  37% |###############                           | ETA:   0:37:45\n"
     ]
    },
    {
     "name": "stdout",
     "output_type": "stream",
     "text": [
      "t_step: 10 \t, sample_time: 0.006 \tupdate_time: 0.004 \tlearn_time: 0.024 \tsum: 564.403 \tsize: 20502                        \n",
      "Episode 567\tTotal score (max over agents) this episode: 0.0\n",
      "t_step: 10 \t, sample_time: 0.002 \tupdate_time: 0.006 \tlearn_time: 0.022 \tsum: 563.344 \tsize: 20529                        "
     ]
    },
    {
     "name": "stderr",
     "output_type": "stream",
     "text": [
      "training loop:  37% |###############                           | ETA:   0:37:42\n"
     ]
    },
    {
     "name": "stdout",
     "output_type": "stream",
     "text": [
      "t_step: 10 \t, sample_time: 0.004 \tupdate_time: 0.007 \tlearn_time: 0.042 \tsum: 558.250 \tsize: 20530                        \n",
      "Episode 568\tTotal score (max over agents) this episode: 0.0\n",
      "t_step: 10 \t, sample_time: 0.013 \tupdate_time: 0.005 \tlearn_time: 0.014 \tsum: 559.596 \tsize: 20559                        "
     ]
    },
    {
     "name": "stderr",
     "output_type": "stream",
     "text": [
      "training loop:  37% |###############                           | ETA:   0:37:39\n"
     ]
    },
    {
     "name": "stdout",
     "output_type": "stream",
     "text": [
      "t_step: 10 \t, sample_time: 0.003 \tupdate_time: 0.007 \tlearn_time: 0.020 \tsum: 560.473 \tsize: 20560                        \n",
      "Episode 569\tTotal score (max over agents) this episode: 0.0\n",
      "t_step: 25 \t, sample_time: 0.002 \tupdate_time: 0.005 \tlearn_time: 0.083 \tsum: 555.085 \tsize: 20618                        "
     ]
    },
    {
     "name": "stderr",
     "output_type": "stream",
     "text": [
      "training loop:  38% |###############                           | ETA:   0:37:41\n"
     ]
    },
    {
     "name": "stdout",
     "output_type": "stream",
     "text": [
      "t_step: 30 \t, sample_time: 0.003 \tupdate_time: 0.004 \tlearn_time: 0.012 \tsum: 555.911 \tsize: 20628                        \n",
      "Episode 570\tTotal score (max over agents) this episode: 0.10000000149011612\n",
      "t_step: 25 \t, sample_time: 0.004 \tupdate_time: 0.004 \tlearn_time: 0.015 \tsum: 553.407 \tsize: 20681                        "
     ]
    },
    {
     "name": "stderr",
     "output_type": "stream",
     "text": [
      "training loop:  38% |###############                           | ETA:   0:37:42\n"
     ]
    },
    {
     "name": "stdout",
     "output_type": "stream",
     "text": [
      "t_step: 25 \t, sample_time: 0.004 \tupdate_time: 0.005 \tlearn_time: 0.041 \tsum: 550.723 \tsize: 20682                        \n",
      "Episode 571\tTotal score (max over agents) this episode: 0.10000000149011612\n",
      "t_step: 15 \t, sample_time: 0.002 \tupdate_time: 0.005 \tlearn_time: 0.015 \tsum: 551.969 \tsize: 20715                        "
     ]
    },
    {
     "name": "stderr",
     "output_type": "stream",
     "text": [
      "training loop:  38% |################                          | ETA:   0:37:40\n"
     ]
    },
    {
     "name": "stdout",
     "output_type": "stream",
     "text": [
      "t_step: 15 \t, sample_time: 0.002 \tupdate_time: 0.005 \tlearn_time: 0.029 \tsum: 557.965 \tsize: 20716                        \n",
      "Episode 572\tTotal score (max over agents) this episode: 0.0\n",
      "t_step: 30 \t, sample_time: 0.003 \tupdate_time: 0.004 \tlearn_time: 0.015 \tsum: 560.289 \tsize: 20785                        "
     ]
    },
    {
     "name": "stderr",
     "output_type": "stream",
     "text": [
      "training loop:  38% |################                          | ETA:   0:37:42\n"
     ]
    },
    {
     "name": "stdout",
     "output_type": "stream",
     "text": [
      "t_step: 30 \t, sample_time: 0.002 \tupdate_time: 0.006 \tlearn_time: 0.013 \tsum: 556.344 \tsize: 20786                        \n",
      "Episode 573\tTotal score (max over agents) this episode: 0.10000000149011612\n",
      "t_step: 30 \t, sample_time: 0.007 \tupdate_time: 0.004 \tlearn_time: 0.012 \tsum: 550.817 \tsize: 20851                        "
     ]
    },
    {
     "name": "stderr",
     "output_type": "stream",
     "text": [
      "training loop:  38% |################                          | ETA:   0:37:44\n"
     ]
    },
    {
     "name": "stdout",
     "output_type": "stream",
     "text": [
      "t_step: 30 \t, sample_time: 0.003 \tupdate_time: 0.005 \tlearn_time: 0.104 \tsum: 548.312 \tsize: 20852                        \n",
      "Episode 574\tTotal score (max over agents) this episode: 0.10000000149011612\n",
      "t_step: 25 \t, sample_time: 0.005 \tupdate_time: 0.004 \tlearn_time: 0.022 \tsum: 538.721 \tsize: 20906                        "
     ]
    },
    {
     "name": "stderr",
     "output_type": "stream",
     "text": [
      "training loop:  38% |################                          | ETA:   0:37:44\n"
     ]
    },
    {
     "name": "stdout",
     "output_type": "stream",
     "text": [
      "t_step: 30 \t, sample_time: 0.002 \tupdate_time: 0.005 \tlearn_time: 0.015 \tsum: 543.905 \tsize: 20916                        \n",
      "Episode 575\tTotal score (max over agents) this episode: 0.0\n",
      "t_step: 65 \t, sample_time: 0.002 \tupdate_time: 0.005 \tlearn_time: 0.017 \tsum: 546.373 \tsize: 21050                        "
     ]
    },
    {
     "name": "stderr",
     "output_type": "stream",
     "text": [
      "training loop:  38% |################                          | ETA:   0:37:48\n"
     ]
    },
    {
     "name": "stdout",
     "output_type": "stream",
     "text": [
      "\n",
      "Episode 576\tTotal score (max over agents) this episode: 0.20000000298023224\n",
      "t_step: 25 \t, sample_time: 0.002 \tupdate_time: 0.006 \tlearn_time: 0.037 \tsum: 559.592 \tsize: 21108                        "
     ]
    },
    {
     "name": "stderr",
     "output_type": "stream",
     "text": [
      "training loop:  38% |################                          | ETA:   0:37:48\n"
     ]
    },
    {
     "name": "stdout",
     "output_type": "stream",
     "text": [
      "t_step: 30 \t, sample_time: 0.002 \tupdate_time: 0.005 \tlearn_time: 0.023 \tsum: 558.992 \tsize: 21118                        \n",
      "Episode 577\tTotal score (max over agents) this episode: 0.0\n",
      "t_step: 30 \t, sample_time: 0.003 \tupdate_time: 0.003 \tlearn_time: 0.028 \tsum: 554.074 \tsize: 21181                        "
     ]
    },
    {
     "name": "stderr",
     "output_type": "stream",
     "text": [
      "training loop:  38% |################                          | ETA:   0:37:47\n"
     ]
    },
    {
     "name": "stdout",
     "output_type": "stream",
     "text": [
      "t_step: 30 \t, sample_time: 0.002 \tupdate_time: 0.004 \tlearn_time: 0.051 \tsum: 550.400 \tsize: 21182                        \n",
      "Episode 578\tTotal score (max over agents) this episode: 0.10000000149011612\n",
      "t_step: 30 \t, sample_time: 0.003 \tupdate_time: 0.005 \tlearn_time: 0.012 \tsum: 552.103 \tsize: 21247                        "
     ]
    },
    {
     "name": "stderr",
     "output_type": "stream",
     "text": [
      "training loop:  38% |################                          | ETA:   0:37:47\n"
     ]
    },
    {
     "name": "stdout",
     "output_type": "stream",
     "text": [
      "t_step: 30 \t, sample_time: 0.002 \tupdate_time: 0.004 \tlearn_time: 0.017 \tsum: 551.863 \tsize: 21248                        \n",
      "Episode 579\tTotal score (max over agents) this episode: 0.10000000149011612\n",
      "t_step: 25 \t, sample_time: 0.002 \tupdate_time: 0.003 \tlearn_time: 0.024 \tsum: 554.766 \tsize: 21303                        "
     ]
    },
    {
     "name": "stderr",
     "output_type": "stream",
     "text": [
      "training loop:  38% |################                          | ETA:   0:37:46\n"
     ]
    },
    {
     "name": "stdout",
     "output_type": "stream",
     "text": [
      "t_step: 25 \t, sample_time: 0.002 \tupdate_time: 0.004 \tlearn_time: 0.015 \tsum: 550.710 \tsize: 21304                        \n",
      "Episode 580\tTotal score (max over agents) this episode: 0.10000000149011612\n",
      "t_step: 25 \t, sample_time: 0.002 \tupdate_time: 0.005 \tlearn_time: 0.025 \tsum: 543.572 \tsize: 21360                        "
     ]
    },
    {
     "name": "stderr",
     "output_type": "stream",
     "text": [
      "training loop:  38% |################                          | ETA:   0:37:46\n"
     ]
    },
    {
     "name": "stdout",
     "output_type": "stream",
     "text": [
      "t_step: 30 \t, sample_time: 0.004 \tupdate_time: 0.004 \tlearn_time: 0.011 \tsum: 546.631 \tsize: 21370                        \n",
      "Episode 581\tTotal score (max over agents) this episode: 0.10000000149011612\n",
      "t_step: 25 \t, sample_time: 0.002 \tupdate_time: 0.011 \tlearn_time: 0.019 \tsum: 544.960 \tsize: 21426                        "
     ]
    },
    {
     "name": "stderr",
     "output_type": "stream",
     "text": [
      "training loop:  38% |################                          | ETA:   0:37:46\n"
     ]
    },
    {
     "name": "stdout",
     "output_type": "stream",
     "text": [
      "t_step: 30 \t, sample_time: 0.002 \tupdate_time: 0.005 \tlearn_time: 0.013 \tsum: 546.073 \tsize: 21436                        \n",
      "Episode 582\tTotal score (max over agents) this episode: 0.09000000171363354\n",
      "t_step: 15 \t, sample_time: 0.002 \tupdate_time: 0.004 \tlearn_time: 0.013 \tsum: 542.346 \tsize: 21475                        "
     ]
    },
    {
     "name": "stderr",
     "output_type": "stream",
     "text": [
      "training loop:  38% |################                          | ETA:   0:37:43\n"
     ]
    },
    {
     "name": "stdout",
     "output_type": "stream",
     "text": [
      "t_step: 15 \t, sample_time: 0.002 \tupdate_time: 0.004 \tlearn_time: 0.029 \tsum: 540.956 \tsize: 21476                        \n",
      "Episode 583\tTotal score (max over agents) this episode: 0.0\n",
      "t_step: 15 \t, sample_time: 0.007 \tupdate_time: 0.005 \tlearn_time: 0.028 \tsum: 545.829 \tsize: 21516                        "
     ]
    },
    {
     "name": "stderr",
     "output_type": "stream",
     "text": [
      "training loop:  38% |################                          | ETA:   0:37:41\n"
     ]
    },
    {
     "name": "stdout",
     "output_type": "stream",
     "text": [
      "t_step: 20 \t, sample_time: 0.001 \tupdate_time: 0.003 \tlearn_time: 0.021 \tsum: 547.612 \tsize: 21526                        \n",
      "Episode 584\tTotal score (max over agents) this episode: 0.09000000171363354\n",
      "t_step: 30 \t, sample_time: 0.002 \tupdate_time: 0.004 \tlearn_time: 0.010 \tsum: 554.500 \tsize: 21593                        "
     ]
    },
    {
     "name": "stderr",
     "output_type": "stream",
     "text": [
      "training loop:  39% |################                          | ETA:   0:37:40\n"
     ]
    },
    {
     "name": "stdout",
     "output_type": "stream",
     "text": [
      "t_step: 30 \t, sample_time: 0.004 \tupdate_time: 0.004 \tlearn_time: 0.015 \tsum: 555.888 \tsize: 21594                        \n",
      "Episode 585\tTotal score (max over agents) this episode: 0.10000000149011612\n",
      "t_step: 30 \t, sample_time: 0.002 \tupdate_time: 0.003 \tlearn_time: 0.009 \tsum: 550.543 \tsize: 21659                        "
     ]
    },
    {
     "name": "stderr",
     "output_type": "stream",
     "text": [
      "training loop:  39% |################                          | ETA:   0:37:41\n"
     ]
    },
    {
     "name": "stdout",
     "output_type": "stream",
     "text": [
      "t_step: 30 \t, sample_time: 0.002 \tupdate_time: 0.004 \tlearn_time: 0.025 \tsum: 542.327 \tsize: 21660                        \n",
      "Episode 586\tTotal score (max over agents) this episode: 0.10000000149011612\n",
      "t_step: 30 \t, sample_time: 0.004 \tupdate_time: 0.009 \tlearn_time: 0.043 \tsum: 545.640 \tsize: 21730                        "
     ]
    },
    {
     "name": "stderr",
     "output_type": "stream",
     "text": [
      "training loop:  39% |################                          | ETA:   0:37:41\n"
     ]
    },
    {
     "name": "stdout",
     "output_type": "stream",
     "text": [
      "t_step: 35 \t, sample_time: 0.003 \tupdate_time: 0.004 \tlearn_time: 0.017 \tsum: 543.286 \tsize: 21740                        \n",
      "Episode 587\tTotal score (max over agents) this episode: 0.10000000149011612\n",
      "t_step: 35 \t, sample_time: 0.002 \tupdate_time: 0.004 \tlearn_time: 0.033 \tsum: 549.253 \tsize: 21816                        "
     ]
    },
    {
     "name": "stderr",
     "output_type": "stream",
     "text": [
      "training loop:  39% |################                          | ETA:   0:37:42\n"
     ]
    },
    {
     "name": "stdout",
     "output_type": "stream",
     "text": [
      "t_step: 40 \t, sample_time: 0.002 \tupdate_time: 0.006 \tlearn_time: 0.013 \tsum: 545.738 \tsize: 21826                        \n",
      "Episode 588\tTotal score (max over agents) this episode: 0.10000000149011612\n",
      "t_step: 20 \t, sample_time: 0.002 \tupdate_time: 0.004 \tlearn_time: 0.011 \tsum: 544.981 \tsize: 21870                        "
     ]
    },
    {
     "name": "stderr",
     "output_type": "stream",
     "text": [
      "training loop:  39% |################                          | ETA:   0:37:40\n"
     ]
    },
    {
     "name": "stdout",
     "output_type": "stream",
     "text": [
      "t_step: 25 \t, sample_time: 0.003 \tupdate_time: 0.006 \tlearn_time: 0.013 \tsum: 542.920 \tsize: 21880                        \n",
      "Episode 589\tTotal score (max over agents) this episode: 0.10000000149011612\n",
      "t_step: 30 \t, sample_time: 0.002 \tupdate_time: 0.006 \tlearn_time: 0.021 \tsum: 541.512 \tsize: 21947                        "
     ]
    },
    {
     "name": "stderr",
     "output_type": "stream",
     "text": [
      "training loop:  39% |################                          | ETA:   0:37:40\n"
     ]
    },
    {
     "name": "stdout",
     "output_type": "stream",
     "text": [
      "t_step: 30 \t, sample_time: 0.003 \tupdate_time: 0.008 \tlearn_time: 0.036 \tsum: 542.176 \tsize: 21948                        \n",
      "Episode 590\tTotal score (max over agents) this episode: 0.10000000149011612\n",
      "t_step: 30 \t, sample_time: 0.003 \tupdate_time: 0.003 \tlearn_time: 0.029 \tsum: 535.947 \tsize: 22010                        "
     ]
    },
    {
     "name": "stderr",
     "output_type": "stream",
     "text": [
      "training loop:  39% |################                          | ETA:   0:37:39\n"
     ]
    },
    {
     "name": "stdout",
     "output_type": "stream",
     "text": [
      "\n",
      "Episode 591\tTotal score (max over agents) this episode: 0.10000000149011612\n",
      "t_step: 35 \t, sample_time: 0.005 \tupdate_time: 0.006 \tlearn_time: 0.014 \tsum: 537.707 \tsize: 22089                        "
     ]
    },
    {
     "name": "stderr",
     "output_type": "stream",
     "text": [
      "training loop:  39% |################                          | ETA:   0:37:40\n"
     ]
    },
    {
     "name": "stdout",
     "output_type": "stream",
     "text": [
      "t_step: 35 \t, sample_time: 0.002 \tupdate_time: 0.006 \tlearn_time: 0.014 \tsum: 536.323 \tsize: 22090                        \n",
      "Episode 592\tTotal score (max over agents) this episode: 0.10000000149011612\n",
      "t_step: 15 \t, sample_time: 0.003 \tupdate_time: 0.004 \tlearn_time: 0.016 \tsum: 541.194 \tsize: 22122                        "
     ]
    },
    {
     "name": "stderr",
     "output_type": "stream",
     "text": [
      "training loop:  39% |################                          | ETA:   0:37:38\n"
     ]
    },
    {
     "name": "stdout",
     "output_type": "stream",
     "text": [
      "t_step: 20 \t, sample_time: 0.003 \tupdate_time: 0.004 \tlearn_time: 0.015 \tsum: 539.561 \tsize: 22132                        \n",
      "Episode 593\tTotal score (max over agents) this episode: 0.10000000149011612\n",
      "t_step: 25 \t, sample_time: 0.004 \tupdate_time: 0.006 \tlearn_time: 0.065 \tsum: 540.656 \tsize: 22183                        "
     ]
    },
    {
     "name": "stderr",
     "output_type": "stream",
     "text": [
      "training loop:  39% |################                          | ETA:   0:37:38\n"
     ]
    },
    {
     "name": "stdout",
     "output_type": "stream",
     "text": [
      "t_step: 25 \t, sample_time: 0.002 \tupdate_time: 0.004 \tlearn_time: 0.012 \tsum: 536.273 \tsize: 22184                        \n",
      "Episode 594\tTotal score (max over agents) this episode: 0.10000000149011612\n",
      "t_step: 30 \t, sample_time: 0.003 \tupdate_time: 0.004 \tlearn_time: 0.013 \tsum: 546.356 \tsize: 22246                        "
     ]
    },
    {
     "name": "stderr",
     "output_type": "stream",
     "text": [
      "training loop:  39% |################                          | ETA:   0:37:38\n"
     ]
    },
    {
     "name": "stdout",
     "output_type": "stream",
     "text": [
      "t_step: 35 \t, sample_time: 0.002 \tupdate_time: 0.004 \tlearn_time: 0.010 \tsum: 545.904 \tsize: 22256                        \n",
      "Episode 595\tTotal score (max over agents) this episode: 0.10000000149011612\n",
      "t_step: 30 \t, sample_time: 0.002 \tupdate_time: 0.007 \tlearn_time: 0.022 \tsum: 546.357 \tsize: 22319                        "
     ]
    },
    {
     "name": "stderr",
     "output_type": "stream",
     "text": [
      "training loop:  39% |################                          | ETA:   0:37:39\n"
     ]
    },
    {
     "name": "stdout",
     "output_type": "stream",
     "text": [
      "t_step: 30 \t, sample_time: 0.003 \tupdate_time: 0.005 \tlearn_time: 0.023 \tsum: 542.619 \tsize: 22320                        \n",
      "Episode 596\tTotal score (max over agents) this episode: 0.10000000149011612\n",
      "t_step: 25 \t, sample_time: 0.004 \tupdate_time: 0.005 \tlearn_time: 0.039 \tsum: 546.306 \tsize: 22375                        "
     ]
    },
    {
     "name": "stderr",
     "output_type": "stream",
     "text": [
      "training loop:  39% |################                          | ETA:   0:37:39\n"
     ]
    },
    {
     "name": "stdout",
     "output_type": "stream",
     "text": [
      "t_step: 25 \t, sample_time: 0.002 \tupdate_time: 0.012 \tlearn_time: 0.020 \tsum: 543.980 \tsize: 22376                        \n",
      "Episode 597\tTotal score (max over agents) this episode: 0.10000000149011612\n",
      "t_step: 30 \t, sample_time: 0.003 \tupdate_time: 0.006 \tlearn_time: 0.047 \tsum: 542.328 \tsize: 22446                        "
     ]
    },
    {
     "name": "stderr",
     "output_type": "stream",
     "text": [
      "training loop:  39% |################                          | ETA:   0:37:39\n"
     ]
    },
    {
     "name": "stdout",
     "output_type": "stream",
     "text": [
      "\n",
      "Episode 598\tTotal score (max over agents) this episode: 0.10000000149011612\n",
      "t_step: 30 \t, sample_time: 0.002 \tupdate_time: 0.006 \tlearn_time: 0.014 \tsum: 547.131 \tsize: 22516                        "
     ]
    },
    {
     "name": "stderr",
     "output_type": "stream",
     "text": [
      "training loop:  39% |################                          | ETA:   0:37:38\n"
     ]
    },
    {
     "name": "stdout",
     "output_type": "stream",
     "text": [
      "t_step: 35 \t, sample_time: 0.002 \tupdate_time: 0.006 \tlearn_time: 0.021 \tsum: 546.489 \tsize: 22526                        \n",
      "Episode 599\tTotal score (max over agents) this episode: 0.10000000149011612\n",
      "t_step: 35 \t, sample_time: 0.002 \tupdate_time: 0.004 \tlearn_time: 0.011 \tsum: 556.714 \tsize: 22597                        "
     ]
    },
    {
     "name": "stderr",
     "output_type": "stream",
     "text": [
      "training loop:  40% |################                          | ETA:   0:37:41\n"
     ]
    },
    {
     "name": "stdout",
     "output_type": "stream",
     "text": [
      "t_step: 35 \t, sample_time: 0.002 \tupdate_time: 0.003 \tlearn_time: 0.021 \tsum: 551.623 \tsize: 22598                        \n",
      "Episode 600\tTotal score (max over agents) this episode: 0.10000000149011612\n",
      "t_step: 20 \t, sample_time: 0.003 \tupdate_time: 0.004 \tlearn_time: 0.010 \tsum: 543.864 \tsize: 22640                        "
     ]
    },
    {
     "name": "stderr",
     "output_type": "stream",
     "text": [
      "training loop:  40% |################                          | ETA:   0:37:40\n"
     ]
    },
    {
     "name": "stdout",
     "output_type": "stream",
     "text": [
      "t_step: 25 \t, sample_time: 0.002 \tupdate_time: 0.006 \tlearn_time: 0.027 \tsum: 548.362 \tsize: 22650                        \n",
      "Episode 601\tTotal score (max over agents) this episode: 0.10000000149011612\n",
      "t_step: 35 \t, sample_time: 0.002 \tupdate_time: 0.005 \tlearn_time: 0.016 \tsum: 545.372 \tsize: 22727                        "
     ]
    },
    {
     "name": "stderr",
     "output_type": "stream",
     "text": [
      "training loop:  40% |################                          | ETA:   0:37:41\n"
     ]
    },
    {
     "name": "stdout",
     "output_type": "stream",
     "text": [
      "t_step: 35 \t, sample_time: 0.003 \tupdate_time: 0.004 \tlearn_time: 0.013 \tsum: 542.616 \tsize: 22728                        \n",
      "Episode 602\tTotal score (max over agents) this episode: 0.10000000149011612\n",
      "t_step: 25 \t, sample_time: 0.002 \tupdate_time: 0.005 \tlearn_time: 0.013 \tsum: 544.568 \tsize: 22783                        "
     ]
    },
    {
     "name": "stderr",
     "output_type": "stream",
     "text": [
      "training loop:  40% |################                          | ETA:   0:37:40\n"
     ]
    },
    {
     "name": "stdout",
     "output_type": "stream",
     "text": [
      "t_step: 25 \t, sample_time: 0.002 \tupdate_time: 0.004 \tlearn_time: 0.010 \tsum: 544.425 \tsize: 22784                        \n",
      "Episode 603\tTotal score (max over agents) this episode: 0.10000000149011612\n",
      "t_step: 25 \t, sample_time: 0.003 \tupdate_time: 0.006 \tlearn_time: 0.021 \tsum: 545.983 \tsize: 22835                        "
     ]
    },
    {
     "name": "stderr",
     "output_type": "stream",
     "text": [
      "training loop:  40% |################                          | ETA:   0:37:39\n"
     ]
    },
    {
     "name": "stdout",
     "output_type": "stream",
     "text": [
      "t_step: 25 \t, sample_time: 0.003 \tupdate_time: 0.004 \tlearn_time: 0.024 \tsum: 544.112 \tsize: 22836                        \n",
      "Episode 604\tTotal score (max over agents) this episode: 0.10000000149011612\n",
      "t_step: 20 \t, sample_time: 0.004 \tupdate_time: 0.005 \tlearn_time: 0.056 \tsum: 552.909 \tsize: 22882                        "
     ]
    },
    {
     "name": "stderr",
     "output_type": "stream",
     "text": [
      "training loop:  40% |################                          | ETA:   0:37:38\n"
     ]
    },
    {
     "name": "stdout",
     "output_type": "stream",
     "text": [
      "t_step: 25 \t, sample_time: 0.003 \tupdate_time: 0.006 \tlearn_time: 0.012 \tsum: 549.457 \tsize: 22892                        \n",
      "Episode 605\tTotal score (max over agents) this episode: 0.10000000149011612\n",
      "t_step: 10 \t, sample_time: 0.005 \tupdate_time: 0.006 \tlearn_time: 0.032 \tsum: 549.170 \tsize: 22918                        "
     ]
    },
    {
     "name": "stderr",
     "output_type": "stream",
     "text": [
      "training loop:  40% |################                          | ETA:   0:37:35\n"
     ]
    },
    {
     "name": "stdout",
     "output_type": "stream",
     "text": [
      "t_step: 15 \t, sample_time: 0.003 \tupdate_time: 0.004 \tlearn_time: 0.013 \tsum: 546.511 \tsize: 22928                        \n",
      "Episode 606\tTotal score (max over agents) this episode: 0.0\n",
      "t_step: 25 \t, sample_time: 0.002 \tupdate_time: 0.003 \tlearn_time: 0.029 \tsum: 548.590 \tsize: 22988                        "
     ]
    },
    {
     "name": "stderr",
     "output_type": "stream",
     "text": [
      "training loop:  40% |################                          | ETA:   0:37:34\n"
     ]
    },
    {
     "name": "stdout",
     "output_type": "stream",
     "text": [
      "t_step: 30 \t, sample_time: 0.008 \tupdate_time: 0.008 \tlearn_time: 0.026 \tsum: 548.613 \tsize: 22998                        \n",
      "Episode 607\tTotal score (max over agents) this episode: 0.10000000149011612\n",
      "t_step: 20 \t, sample_time: 0.002 \tupdate_time: 0.004 \tlearn_time: 0.011 \tsum: 544.847 \tsize: 23042                        "
     ]
    },
    {
     "name": "stderr",
     "output_type": "stream",
     "text": [
      "training loop:  40% |#################                         | ETA:   0:37:32\n"
     ]
    },
    {
     "name": "stdout",
     "output_type": "stream",
     "text": [
      "t_step: 25 \t, sample_time: 0.004 \tupdate_time: 0.004 \tlearn_time: 0.011 \tsum: 542.500 \tsize: 23052                        \n",
      "Episode 608\tTotal score (max over agents) this episode: 0.10000000149011612\n",
      "t_step: 15 \t, sample_time: 0.002 \tupdate_time: 0.003 \tlearn_time: 0.012 \tsum: 545.996 \tsize: 23086                        "
     ]
    },
    {
     "name": "stderr",
     "output_type": "stream",
     "text": [
      "training loop:  40% |#################                         | ETA:   0:37:30\n"
     ]
    },
    {
     "name": "stdout",
     "output_type": "stream",
     "text": [
      "t_step: 20 \t, sample_time: 0.002 \tupdate_time: 0.004 \tlearn_time: 0.009 \tsum: 546.300 \tsize: 23096                        \n",
      "Episode 609\tTotal score (max over agents) this episode: 0.09000000357627869\n",
      "t_step: 30 \t, sample_time: 0.003 \tupdate_time: 0.006 \tlearn_time: 0.016 \tsum: 547.811 \tsize: 23158                        "
     ]
    },
    {
     "name": "stderr",
     "output_type": "stream",
     "text": [
      "training loop:  40% |#################                         | ETA:   0:37:31\n"
     ]
    },
    {
     "name": "stdout",
     "output_type": "stream",
     "text": [
      "\n",
      "Episode 610\tTotal score (max over agents) this episode: 0.10000000149011612\n",
      "t_step: 40 \t, sample_time: 0.002 \tupdate_time: 0.003 \tlearn_time: 0.031 \tsum: 552.726 \tsize: 23241                        "
     ]
    },
    {
     "name": "stderr",
     "output_type": "stream",
     "text": [
      "training loop:  40% |#################                         | ETA:   0:37:33\n"
     ]
    },
    {
     "name": "stdout",
     "output_type": "stream",
     "text": [
      "t_step: 40 \t, sample_time: 0.003 \tupdate_time: 0.005 \tlearn_time: 0.015 \tsum: 550.917 \tsize: 23242                        \n",
      "Episode 611\tTotal score (max over agents) this episode: 0.10000000149011612\n",
      "t_step: 10 \t, sample_time: 0.002 \tupdate_time: 0.004 \tlearn_time: 0.015 \tsum: 547.645 \tsize: 23270                        "
     ]
    },
    {
     "name": "stderr",
     "output_type": "stream",
     "text": [
      "training loop:  40% |#################                         | ETA:   0:37:30\n"
     ]
    },
    {
     "name": "stdout",
     "output_type": "stream",
     "text": [
      "\n",
      "Episode 612\tTotal score (max over agents) this episode: 0.0\n",
      "t_step: 15 \t, sample_time: 0.004 \tupdate_time: 0.003 \tlearn_time: 0.025 \tsum: 552.458 \tsize: 23307                        "
     ]
    },
    {
     "name": "stderr",
     "output_type": "stream",
     "text": [
      "training loop:  40% |#################                         | ETA:   0:37:29\n"
     ]
    },
    {
     "name": "stdout",
     "output_type": "stream",
     "text": [
      "t_step: 15 \t, sample_time: 0.002 \tupdate_time: 0.003 \tlearn_time: 0.017 \tsum: 547.862 \tsize: 23308                        \n",
      "Episode 613\tTotal score (max over agents) this episode: 0.0\n",
      "t_step: 25 \t, sample_time: 0.003 \tupdate_time: 0.009 \tlearn_time: 0.019 \tsum: 549.880 \tsize: 23361                        "
     ]
    },
    {
     "name": "stderr",
     "output_type": "stream",
     "text": [
      "training loop:  40% |#################                         | ETA:   0:37:29\n"
     ]
    },
    {
     "name": "stdout",
     "output_type": "stream",
     "text": [
      "t_step: 25 \t, sample_time: 0.004 \tupdate_time: 0.010 \tlearn_time: 0.023 \tsum: 550.290 \tsize: 23362                        \n",
      "Episode 614\tTotal score (max over agents) this episode: 0.10000000149011612\n",
      "t_step: 25 \t, sample_time: 0.002 \tupdate_time: 0.008 \tlearn_time: 0.014 \tsum: 544.842 \tsize: 23415                        "
     ]
    },
    {
     "name": "stderr",
     "output_type": "stream",
     "text": [
      "training loop:  41% |#################                         | ETA:   0:37:29\n"
     ]
    },
    {
     "name": "stdout",
     "output_type": "stream",
     "text": [
      "t_step: 25 \t, sample_time: 0.002 \tupdate_time: 0.006 \tlearn_time: 0.020 \tsum: 546.746 \tsize: 23416                        \n",
      "Episode 615\tTotal score (max over agents) this episode: 0.10000000149011612\n",
      "t_step: 25 \t, sample_time: 0.002 \tupdate_time: 0.006 \tlearn_time: 0.015 \tsum: 551.771 \tsize: 23469                        "
     ]
    },
    {
     "name": "stderr",
     "output_type": "stream",
     "text": [
      "training loop:  41% |#################                         | ETA:   0:37:28\n"
     ]
    },
    {
     "name": "stdout",
     "output_type": "stream",
     "text": [
      "t_step: 25 \t, sample_time: 0.002 \tupdate_time: 0.005 \tlearn_time: 0.012 \tsum: 550.150 \tsize: 23470                        \n",
      "Episode 616\tTotal score (max over agents) this episode: 0.10000000149011612\n",
      "t_step: 20 \t, sample_time: 0.004 \tupdate_time: 0.005 \tlearn_time: 0.012 \tsum: 551.357 \tsize: 23519                        "
     ]
    },
    {
     "name": "stderr",
     "output_type": "stream",
     "text": [
      "training loop:  41% |#################                         | ETA:   0:37:27\n"
     ]
    },
    {
     "name": "stdout",
     "output_type": "stream",
     "text": [
      "t_step: 20 \t, sample_time: 0.002 \tupdate_time: 0.004 \tlearn_time: 0.012 \tsum: 547.796 \tsize: 23520                        \n",
      "Episode 617\tTotal score (max over agents) this episode: 0.0\n",
      "t_step: 25 \t, sample_time: 0.002 \tupdate_time: 0.004 \tlearn_time: 0.017 \tsum: 544.303 \tsize: 23571                        "
     ]
    },
    {
     "name": "stderr",
     "output_type": "stream",
     "text": [
      "training loop:  41% |#################                         | ETA:   0:37:27\n"
     ]
    },
    {
     "name": "stdout",
     "output_type": "stream",
     "text": [
      "t_step: 25 \t, sample_time: 0.002 \tupdate_time: 0.006 \tlearn_time: 0.022 \tsum: 545.925 \tsize: 23572                        \n",
      "Episode 618\tTotal score (max over agents) this episode: 0.10000000149011612\n",
      "t_step: 25 \t, sample_time: 0.010 \tupdate_time: 0.012 \tlearn_time: 0.032 \tsum: 556.616 \tsize: 23629                        "
     ]
    },
    {
     "name": "stderr",
     "output_type": "stream",
     "text": [
      "training loop:  41% |#################                         | ETA:   0:37:26\n"
     ]
    },
    {
     "name": "stdout",
     "output_type": "stream",
     "text": [
      "t_step: 25 \t, sample_time: 0.003 \tupdate_time: 0.004 \tlearn_time: 0.114 \tsum: 554.640 \tsize: 23630                        \n",
      "Episode 619\tTotal score (max over agents) this episode: 0.10000000149011612\n",
      "t_step: 35 \t, sample_time: 0.003 \tupdate_time: 0.004 \tlearn_time: 0.026 \tsum: 554.334 \tsize: 23703                        "
     ]
    },
    {
     "name": "stderr",
     "output_type": "stream",
     "text": [
      "training loop:  41% |#################                         | ETA:   0:37:28\n"
     ]
    },
    {
     "name": "stdout",
     "output_type": "stream",
     "text": [
      "t_step: 35 \t, sample_time: 0.004 \tupdate_time: 0.003 \tlearn_time: 0.009 \tsum: 551.880 \tsize: 23704                        \n",
      "Episode 620\tTotal score (max over agents) this episode: 0.10000000149011612\n",
      "t_step: 25 \t, sample_time: 0.002 \tupdate_time: 0.005 \tlearn_time: 0.038 \tsum: 545.843 \tsize: 23758                        "
     ]
    },
    {
     "name": "stderr",
     "output_type": "stream",
     "text": [
      "training loop:  41% |#################                         | ETA:   0:37:27\n"
     ]
    },
    {
     "name": "stdout",
     "output_type": "stream",
     "text": [
      "t_step: 30 \t, sample_time: 0.002 \tupdate_time: 0.003 \tlearn_time: 0.010 \tsum: 545.983 \tsize: 23768                        \n",
      "Episode 621\tTotal score (max over agents) this episode: 0.10000000149011612\n",
      "t_step: 30 \t, sample_time: 0.004 \tupdate_time: 0.004 \tlearn_time: 0.014 \tsum: 549.661 \tsize: 23830                        \n",
      "Episode 622\tTotal score (max over agents) this episode: 0.10000000149011612\n"
     ]
    },
    {
     "name": "stderr",
     "output_type": "stream",
     "text": [
      "training loop:  41% |#################                         | ETA:   0:37:26\n"
     ]
    },
    {
     "name": "stdout",
     "output_type": "stream",
     "text": [
      "t_step: 10 \t, sample_time: 0.003 \tupdate_time: 0.006 \tlearn_time: 0.015 \tsum: 549.856 \tsize: 23851                        "
     ]
    },
    {
     "name": "stderr",
     "output_type": "stream",
     "text": [
      "training loop:  41% |#################                         | ETA:   0:37:22\n"
     ]
    },
    {
     "name": "stdout",
     "output_type": "stream",
     "text": [
      "t_step: 10 \t, sample_time: 0.002 \tupdate_time: 0.006 \tlearn_time: 0.049 \tsum: 547.575 \tsize: 23852                        \n",
      "Episode 623\tTotal score (max over agents) this episode: 0.0\n",
      "t_step: 25 \t, sample_time: 0.003 \tupdate_time: 0.006 \tlearn_time: 0.013 \tsum: 551.261 \tsize: 23909                        "
     ]
    },
    {
     "name": "stderr",
     "output_type": "stream",
     "text": [
      "training loop:  41% |#################                         | ETA:   0:37:20\n"
     ]
    },
    {
     "name": "stdout",
     "output_type": "stream",
     "text": [
      "t_step: 25 \t, sample_time: 0.002 \tupdate_time: 0.005 \tlearn_time: 0.024 \tsum: 546.582 \tsize: 23910                        \n",
      "Episode 624\tTotal score (max over agents) this episode: 0.10000000149011612\n",
      "t_step: 15 \t, sample_time: 0.002 \tupdate_time: 0.003 \tlearn_time: 0.009 \tsum: 554.942 \tsize: 23945                        "
     ]
    },
    {
     "name": "stderr",
     "output_type": "stream",
     "text": [
      "training loop:  41% |#################                         | ETA:   0:37:18\n"
     ]
    },
    {
     "name": "stdout",
     "output_type": "stream",
     "text": [
      "t_step: 15 \t, sample_time: 0.002 \tupdate_time: 0.003 \tlearn_time: 0.012 \tsum: 552.131 \tsize: 23946                        \n",
      "Episode 625\tTotal score (max over agents) this episode: 0.0\n",
      "t_step: 35 \t, sample_time: 0.002 \tupdate_time: 0.007 \tlearn_time: 0.014 \tsum: 552.708 \tsize: 24020                        "
     ]
    },
    {
     "name": "stderr",
     "output_type": "stream",
     "text": [
      "training loop:  41% |#################                         | ETA:   0:37:18\n"
     ]
    },
    {
     "name": "stdout",
     "output_type": "stream",
     "text": [
      "\n",
      "Episode 626\tTotal score (max over agents) this episode: 0.10000000149011612\n",
      "t_step: 55 \t, sample_time: 0.002 \tupdate_time: 0.003 \tlearn_time: 0.034 \tsum: 564.878 \tsize: 24139                        "
     ]
    },
    {
     "name": "stderr",
     "output_type": "stream",
     "text": [
      "training loop:  41% |#################                         | ETA:   0:37:21\n"
     ]
    },
    {
     "name": "stdout",
     "output_type": "stream",
     "text": [
      "t_step: 55 \t, sample_time: 0.003 \tupdate_time: 0.004 \tlearn_time: 0.050 \tsum: 562.175 \tsize: 24140                        \n",
      "Episode 627\tTotal score (max over agents) this episode: 0.10000000149011612\n",
      "t_step: 20 \t, sample_time: 0.004 \tupdate_time: 0.003 \tlearn_time: 0.013 \tsum: 566.916 \tsize: 24183                        "
     ]
    },
    {
     "name": "stderr",
     "output_type": "stream",
     "text": [
      "training loop:  41% |#################                         | ETA:   0:37:19\n"
     ]
    },
    {
     "name": "stdout",
     "output_type": "stream",
     "text": [
      "t_step: 20 \t, sample_time: 0.002 \tupdate_time: 0.003 \tlearn_time: 0.012 \tsum: 562.780 \tsize: 24184                        \n",
      "Episode 628\tTotal score (max over agents) this episode: 0.09000000357627869\n",
      "t_step: 30 \t, sample_time: 0.006 \tupdate_time: 0.003 \tlearn_time: 0.010 \tsum: 569.236 \tsize: 24245                        "
     ]
    },
    {
     "name": "stderr",
     "output_type": "stream",
     "text": [
      "training loop:  41% |#################                         | ETA:   0:37:19\n"
     ]
    },
    {
     "name": "stdout",
     "output_type": "stream",
     "text": [
      "t_step: 30 \t, sample_time: 0.005 \tupdate_time: 0.003 \tlearn_time: 0.028 \tsum: 569.765 \tsize: 24246                        \n",
      "Episode 629\tTotal score (max over agents) this episode: 0.10000000149011612\n",
      "t_step: 25 \t, sample_time: 0.003 \tupdate_time: 0.005 \tlearn_time: 0.049 \tsum: 568.172 \tsize: 24298                        "
     ]
    },
    {
     "name": "stderr",
     "output_type": "stream",
     "text": [
      "training loop:  42% |#################                         | ETA:   0:37:19\n"
     ]
    },
    {
     "name": "stdout",
     "output_type": "stream",
     "text": [
      "t_step: 30 \t, sample_time: 0.002 \tupdate_time: 0.004 \tlearn_time: 0.014 \tsum: 566.960 \tsize: 24308                        \n",
      "Episode 630\tTotal score (max over agents) this episode: 0.10000000149011612\n",
      "t_step: 25 \t, sample_time: 0.005 \tupdate_time: 0.005 \tlearn_time: 0.015 \tsum: 572.466 \tsize: 24359                        "
     ]
    },
    {
     "name": "stderr",
     "output_type": "stream",
     "text": [
      "training loop:  42% |#################                         | ETA:   0:37:18\n"
     ]
    },
    {
     "name": "stdout",
     "output_type": "stream",
     "text": [
      "t_step: 25 \t, sample_time: 0.002 \tupdate_time: 0.005 \tlearn_time: 0.025 \tsum: 572.422 \tsize: 24360                        \n",
      "Episode 631\tTotal score (max over agents) this episode: 0.10000000149011612\n",
      "t_step: 10 \t, sample_time: 0.017 \tupdate_time: 0.004 \tlearn_time: 0.066 \tsum: 572.620 \tsize: 24386                        "
     ]
    },
    {
     "name": "stderr",
     "output_type": "stream",
     "text": [
      "training loop:  42% |#################                         | ETA:   0:37:16\n"
     ]
    },
    {
     "name": "stdout",
     "output_type": "stream",
     "text": [
      "t_step: 15 \t, sample_time: 0.002 \tupdate_time: 0.004 \tlearn_time: 0.014 \tsum: 572.889 \tsize: 24396                        \n",
      "Episode 632\tTotal score (max over agents) this episode: 0.09000000357627869\n",
      "t_step: 25 \t, sample_time: 0.002 \tupdate_time: 0.004 \tlearn_time: 0.022 \tsum: 576.653 \tsize: 24453                        "
     ]
    },
    {
     "name": "stderr",
     "output_type": "stream",
     "text": [
      "training loop:  42% |#################                         | ETA:   0:37:14\n"
     ]
    },
    {
     "name": "stdout",
     "output_type": "stream",
     "text": [
      "t_step: 25 \t, sample_time: 0.003 \tupdate_time: 0.007 \tlearn_time: 0.031 \tsum: 573.795 \tsize: 24454                        \n",
      "Episode 633\tTotal score (max over agents) this episode: 0.10000000149011612\n",
      "t_step: 45 \t, sample_time: 0.003 \tupdate_time: 0.004 \tlearn_time: 0.013 \tsum: 577.220 \tsize: 24552                        "
     ]
    },
    {
     "name": "stderr",
     "output_type": "stream",
     "text": [
      "training loop:  42% |#################                         | ETA:   0:37:17\n"
     ]
    },
    {
     "name": "stdout",
     "output_type": "stream",
     "text": [
      "\n",
      "Episode 634\tTotal score (max over agents) this episode: 0.10000000149011612\n",
      "t_step: 25 \t, sample_time: 0.002 \tupdate_time: 0.005 \tlearn_time: 0.011 \tsum: 576.529 \tsize: 24610                        "
     ]
    },
    {
     "name": "stderr",
     "output_type": "stream",
     "text": [
      "training loop:  42% |#################                         | ETA:   0:37:15\n"
     ]
    },
    {
     "name": "stdout",
     "output_type": "stream",
     "text": [
      "\n",
      "Episode 635\tTotal score (max over agents) this episode: 0.10000000149011612\n",
      "t_step: 60 \t, sample_time: 0.003 \tupdate_time: 0.007 \tlearn_time: 0.015 \tsum: 573.912 \tsize: 24738                        "
     ]
    },
    {
     "name": "stderr",
     "output_type": "stream",
     "text": [
      "training loop:  42% |#################                         | ETA:   0:37:19\n"
     ]
    },
    {
     "name": "stdout",
     "output_type": "stream",
     "text": [
      "t_step: 65 \t, sample_time: 0.004 \tupdate_time: 0.009 \tlearn_time: 0.019 \tsum: 574.894 \tsize: 24748                        \n",
      "Episode 636\tTotal score (max over agents) this episode: 0.20000000298023224\n",
      "t_step: 30 \t, sample_time: 0.002 \tupdate_time: 0.003 \tlearn_time: 0.008 \tsum: 578.025 \tsize: 24811                        "
     ]
    },
    {
     "name": "stderr",
     "output_type": "stream",
     "text": [
      "training loop:  42% |#################                         | ETA:   0:37:18\n"
     ]
    },
    {
     "name": "stdout",
     "output_type": "stream",
     "text": [
      "t_step: 30 \t, sample_time: 0.002 \tupdate_time: 0.004 \tlearn_time: 0.012 \tsum: 574.550 \tsize: 24812                        \n",
      "Episode 637\tTotal score (max over agents) this episode: 0.10000000149011612\n",
      "t_step: 30 \t, sample_time: 0.004 \tupdate_time: 0.005 \tlearn_time: 0.013 \tsum: 580.352 \tsize: 24877                        "
     ]
    },
    {
     "name": "stderr",
     "output_type": "stream",
     "text": [
      "training loop:  42% |#################                         | ETA:   0:37:18\n"
     ]
    },
    {
     "name": "stdout",
     "output_type": "stream",
     "text": [
      "t_step: 30 \t, sample_time: 0.002 \tupdate_time: 0.005 \tlearn_time: 0.013 \tsum: 571.670 \tsize: 24878                        \n",
      "Episode 638\tTotal score (max over agents) this episode: 0.10000000149011612\n",
      "t_step: 45 \t, sample_time: 0.002 \tupdate_time: 0.010 \tlearn_time: 0.052 \tsum: 579.918 \tsize: 24969                        "
     ]
    },
    {
     "name": "stderr",
     "output_type": "stream",
     "text": [
      "training loop:  42% |#################                         | ETA:   0:37:19\n"
     ]
    },
    {
     "name": "stdout",
     "output_type": "stream",
     "text": [
      "t_step: 45 \t, sample_time: 0.004 \tupdate_time: 0.004 \tlearn_time: 0.019 \tsum: 580.467 \tsize: 24970                        \n",
      "Episode 639\tTotal score (max over agents) this episode: 0.10000000149011612\n",
      "t_step: 30 \t, sample_time: 0.006 \tupdate_time: 0.005 \tlearn_time: 0.012 \tsum: 586.374 \tsize: 25039                        "
     ]
    },
    {
     "name": "stderr",
     "output_type": "stream",
     "text": [
      "training loop:  42% |#################                         | ETA:   0:37:19\n"
     ]
    },
    {
     "name": "stdout",
     "output_type": "stream",
     "text": [
      "t_step: 30 \t, sample_time: 0.004 \tupdate_time: 0.005 \tlearn_time: 0.041 \tsum: 586.515 \tsize: 25040                        \n",
      "Episode 640\tTotal score (max over agents) this episode: 0.10000000149011612\n",
      "t_step: 10 \t, sample_time: 0.003 \tupdate_time: 0.004 \tlearn_time: 0.012 \tsum: 589.174 \tsize: 25063                        "
     ]
    },
    {
     "name": "stderr",
     "output_type": "stream",
     "text": [
      "training loop:  42% |#################                         | ETA:   0:37:15\n"
     ]
    },
    {
     "name": "stdout",
     "output_type": "stream",
     "text": [
      "t_step: 10 \t, sample_time: 0.002 \tupdate_time: 0.008 \tlearn_time: 0.023 \tsum: 584.766 \tsize: 25064                        \n",
      "Episode 641\tTotal score (max over agents) this episode: 0.0\n",
      "t_step: 5 \t, sample_time: 0.005 \tupdate_time: 0.004 \tlearn_time: 0.020 \tsum: 588.045 \tsize: 25084                        "
     ]
    },
    {
     "name": "stderr",
     "output_type": "stream",
     "text": [
      "training loop:  42% |#################                         | ETA:   0:37:12\n"
     ]
    },
    {
     "name": "stdout",
     "output_type": "stream",
     "text": [
      "t_step: 10 \t, sample_time: 0.002 \tupdate_time: 0.004 \tlearn_time: 0.012 \tsum: 590.688 \tsize: 25094                        \n",
      "Episode 642\tTotal score (max over agents) this episode: 0.0\n",
      "t_step: 30 \t, sample_time: 0.002 \tupdate_time: 0.005 \tlearn_time: 0.016 \tsum: 599.028 \tsize: 25161                        "
     ]
    },
    {
     "name": "stderr",
     "output_type": "stream",
     "text": [
      "training loop:  42% |##################                        | ETA:   0:37:11\n"
     ]
    },
    {
     "name": "stdout",
     "output_type": "stream",
     "text": [
      "t_step: 30 \t, sample_time: 0.003 \tupdate_time: 0.006 \tlearn_time: 0.021 \tsum: 591.860 \tsize: 25162                        \n",
      "Episode 643\tTotal score (max over agents) this episode: 0.10000000149011612\n",
      "t_step: 20 \t, sample_time: 0.002 \tupdate_time: 0.005 \tlearn_time: 0.015 \tsum: 594.545 \tsize: 25207                        "
     ]
    },
    {
     "name": "stderr",
     "output_type": "stream",
     "text": [
      "training loop:  42% |##################                        | ETA:   0:37:09\n"
     ]
    },
    {
     "name": "stdout",
     "output_type": "stream",
     "text": [
      "t_step: 20 \t, sample_time: 0.002 \tupdate_time: 0.007 \tlearn_time: 0.075 \tsum: 590.900 \tsize: 25208                        \n",
      "Episode 644\tTotal score (max over agents) this episode: 0.0\n",
      "t_step: 25 \t, sample_time: 0.002 \tupdate_time: 0.003 \tlearn_time: 0.010 \tsum: 589.935 \tsize: 25262                        "
     ]
    },
    {
     "name": "stderr",
     "output_type": "stream",
     "text": [
      "training loop:  43% |##################                        | ETA:   0:37:09\n"
     ]
    },
    {
     "name": "stdout",
     "output_type": "stream",
     "text": [
      "t_step: 30 \t, sample_time: 0.004 \tupdate_time: 0.003 \tlearn_time: 0.013 \tsum: 589.944 \tsize: 25272                        \n",
      "Episode 645\tTotal score (max over agents) this episode: 0.10000000149011612\n",
      "t_step: 15 \t, sample_time: 0.002 \tupdate_time: 0.003 \tlearn_time: 0.014 \tsum: 583.939 \tsize: 25306                        "
     ]
    },
    {
     "name": "stderr",
     "output_type": "stream",
     "text": [
      "training loop:  43% |##################                        | ETA:   0:37:06\n"
     ]
    },
    {
     "name": "stdout",
     "output_type": "stream",
     "text": [
      "t_step: 20 \t, sample_time: 0.002 \tupdate_time: 0.005 \tlearn_time: 0.017 \tsum: 586.046 \tsize: 25316                        \n",
      "Episode 646\tTotal score (max over agents) this episode: 0.0\n",
      "t_step: 35 \t, sample_time: 0.002 \tupdate_time: 0.004 \tlearn_time: 0.026 \tsum: 586.694 \tsize: 25387                        "
     ]
    },
    {
     "name": "stderr",
     "output_type": "stream",
     "text": [
      "training loop:  43% |##################                        | ETA:   0:37:08\n"
     ]
    },
    {
     "name": "stdout",
     "output_type": "stream",
     "text": [
      "t_step: 35 \t, sample_time: 0.003 \tupdate_time: 0.004 \tlearn_time: 0.019 \tsum: 584.747 \tsize: 25388                        \n",
      "Episode 647\tTotal score (max over agents) this episode: 0.10000000149011612\n",
      "t_step: 30 \t, sample_time: 0.002 \tupdate_time: 0.005 \tlearn_time: 0.015 \tsum: 590.099 \tsize: 25451                        "
     ]
    },
    {
     "name": "stderr",
     "output_type": "stream",
     "text": [
      "training loop:  43% |##################                        | ETA:   0:37:07\n"
     ]
    },
    {
     "name": "stdout",
     "output_type": "stream",
     "text": [
      "t_step: 30 \t, sample_time: 0.002 \tupdate_time: 0.007 \tlearn_time: 0.102 \tsum: 583.864 \tsize: 25452                        \n",
      "Episode 648\tTotal score (max over agents) this episode: 0.10000000149011612\n",
      "t_step: 25 \t, sample_time: 0.004 \tupdate_time: 0.003 \tlearn_time: 0.016 \tsum: 584.672 \tsize: 25506                        "
     ]
    },
    {
     "name": "stderr",
     "output_type": "stream",
     "text": [
      "training loop:  43% |##################                        | ETA:   0:37:06\n"
     ]
    },
    {
     "name": "stdout",
     "output_type": "stream",
     "text": [
      "t_step: 30 \t, sample_time: 0.003 \tupdate_time: 0.007 \tlearn_time: 0.019 \tsum: 594.879 \tsize: 25516                        \n",
      "Episode 649\tTotal score (max over agents) this episode: 0.10000000149011612\n",
      "t_step: 30 \t, sample_time: 0.003 \tupdate_time: 0.003 \tlearn_time: 0.021 \tsum: 591.351 \tsize: 25583                        "
     ]
    },
    {
     "name": "stderr",
     "output_type": "stream",
     "text": [
      "training loop:  43% |##################                        | ETA:   0:37:06\n"
     ]
    },
    {
     "name": "stdout",
     "output_type": "stream",
     "text": [
      "t_step: 30 \t, sample_time: 0.016 \tupdate_time: 0.003 \tlearn_time: 0.175 \tsum: 588.244 \tsize: 25584                        \n",
      "Episode 650\tTotal score (max over agents) this episode: 0.10000000149011612\n",
      "t_step: 30 \t, sample_time: 0.007 \tupdate_time: 0.005 \tlearn_time: 0.015 \tsum: 601.225 \tsize: 25647                        "
     ]
    },
    {
     "name": "stderr",
     "output_type": "stream",
     "text": [
      "training loop:  43% |##################                        | ETA:   0:37:05\n"
     ]
    },
    {
     "name": "stdout",
     "output_type": "stream",
     "text": [
      "t_step: 30 \t, sample_time: 0.002 \tupdate_time: 0.003 \tlearn_time: 0.013 \tsum: 590.833 \tsize: 25648                        \n",
      "Episode 651\tTotal score (max over agents) this episode: 0.10000000149011612\n",
      "t_step: 30 \t, sample_time: 0.002 \tupdate_time: 0.004 \tlearn_time: 0.015 \tsum: 601.858 \tsize: 25715                        "
     ]
    },
    {
     "name": "stderr",
     "output_type": "stream",
     "text": [
      "training loop:  43% |##################                        | ETA:   0:37:04\n"
     ]
    },
    {
     "name": "stdout",
     "output_type": "stream",
     "text": [
      "t_step: 30 \t, sample_time: 0.002 \tupdate_time: 0.003 \tlearn_time: 0.023 \tsum: 593.874 \tsize: 25716                        \n",
      "Episode 652\tTotal score (max over agents) this episode: 0.10000000149011612\n",
      "t_step: 45 \t, sample_time: 0.003 \tupdate_time: 0.005 \tlearn_time: 0.018 \tsum: 593.943 \tsize: 25815                        "
     ]
    },
    {
     "name": "stderr",
     "output_type": "stream",
     "text": [
      "training loop:  43% |##################                        | ETA:   0:37:06\n"
     ]
    },
    {
     "name": "stdout",
     "output_type": "stream",
     "text": [
      "t_step: 45 \t, sample_time: 0.002 \tupdate_time: 0.004 \tlearn_time: 0.037 \tsum: 594.499 \tsize: 25816                        \n",
      "Episode 653\tTotal score (max over agents) this episode: 0.10000000149011612\n",
      "t_step: 10 \t, sample_time: 0.002 \tupdate_time: 0.003 \tlearn_time: 0.013 \tsum: 597.254 \tsize: 25845                        "
     ]
    },
    {
     "name": "stderr",
     "output_type": "stream",
     "text": [
      "training loop:  43% |##################                        | ETA:   0:37:02\n"
     ]
    },
    {
     "name": "stdout",
     "output_type": "stream",
     "text": [
      "t_step: 10 \t, sample_time: 0.002 \tupdate_time: 0.004 \tlearn_time: 0.030 \tsum: 598.926 \tsize: 25846                        \n",
      "Episode 654\tTotal score (max over agents) this episode: 0.0\n",
      "t_step: 45 \t, sample_time: 0.002 \tupdate_time: 0.004 \tlearn_time: 0.012 \tsum: 603.931 \tsize: 25945                        "
     ]
    },
    {
     "name": "stderr",
     "output_type": "stream",
     "text": [
      "training loop:  43% |##################                        | ETA:   0:37:04\n"
     ]
    },
    {
     "name": "stdout",
     "output_type": "stream",
     "text": [
      "t_step: 45 \t, sample_time: 0.002 \tupdate_time: 0.005 \tlearn_time: 0.015 \tsum: 602.095 \tsize: 25946                        \n",
      "Episode 655\tTotal score (max over agents) this episode: 0.10000000149011612\n",
      "t_step: 30 \t, sample_time: 0.003 \tupdate_time: 0.005 \tlearn_time: 0.027 \tsum: 605.926 \tsize: 26009                        "
     ]
    },
    {
     "name": "stderr",
     "output_type": "stream",
     "text": [
      "training loop:  43% |##################                        | ETA:   0:37:03\n"
     ]
    },
    {
     "name": "stdout",
     "output_type": "stream",
     "text": [
      "t_step: 30 \t, sample_time: 0.014 \tupdate_time: 0.003 \tlearn_time: 0.031 \tsum: 602.783 \tsize: 26010                        \n",
      "Episode 656\tTotal score (max over agents) this episode: 0.10000000149011612\n",
      "t_step: 40 \t, sample_time: 0.003 \tupdate_time: 0.004 \tlearn_time: 0.013 \tsum: 605.619 \tsize: 26096                        \n",
      "Episode 657\tTotal score (max over agents) this episode: 0.10000000149011612\n"
     ]
    },
    {
     "name": "stderr",
     "output_type": "stream",
     "text": [
      "training loop:  43% |##################                        | ETA:   0:37:04\n"
     ]
    },
    {
     "name": "stdout",
     "output_type": "stream",
     "text": [
      "t_step: 45 \t, sample_time: 0.002 \tupdate_time: 0.006 \tlearn_time: 0.024 \tsum: 616.513 \tsize: 26191                        "
     ]
    },
    {
     "name": "stderr",
     "output_type": "stream",
     "text": [
      "training loop:  43% |##################                        | ETA:   0:37:06\n"
     ]
    },
    {
     "name": "stdout",
     "output_type": "stream",
     "text": [
      "t_step: 45 \t, sample_time: 0.002 \tupdate_time: 0.003 \tlearn_time: 0.032 \tsum: 607.337 \tsize: 26192                        \n",
      "Episode 658\tTotal score (max over agents) this episode: 0.09000000171363354\n",
      "t_step: 80 \t, sample_time: 0.011 \tupdate_time: 0.007 \tlearn_time: 0.081 \tsum: 604.213 \tsize: 26359                        "
     ]
    },
    {
     "name": "stderr",
     "output_type": "stream",
     "text": [
      "training loop:  43% |##################                        | ETA:   0:37:11\n"
     ]
    },
    {
     "name": "stdout",
     "output_type": "stream",
     "text": [
      "t_step: 80 \t, sample_time: 0.002 \tupdate_time: 0.005 \tlearn_time: 0.026 \tsum: 603.699 \tsize: 26360                        \n",
      "Episode 659\tTotal score (max over agents) this episode: 0.10000000149011612\n",
      "t_step: 50 \t, sample_time: 0.006 \tupdate_time: 0.006 \tlearn_time: 0.028 \tsum: 613.222 \tsize: 26461                        "
     ]
    },
    {
     "name": "stderr",
     "output_type": "stream",
     "text": [
      "training loop:  44% |##################                        | ETA:   0:37:12\n"
     ]
    },
    {
     "name": "stdout",
     "output_type": "stream",
     "text": [
      "t_step: 50 \t, sample_time: 0.003 \tupdate_time: 0.006 \tlearn_time: 0.046 \tsum: 610.988 \tsize: 26462                        \n",
      "Episode 660\tTotal score (max over agents) this episode: 0.10000000149011612\n",
      "t_step: 5 \t, sample_time: 0.003 \tupdate_time: 0.006 \tlearn_time: 0.046 \tsum: 614.737 \tsize: 26474                        "
     ]
    },
    {
     "name": "stderr",
     "output_type": "stream",
     "text": [
      "training loop:  44% |##################                        | ETA:   0:37:09\n"
     ]
    },
    {
     "name": "stdout",
     "output_type": "stream",
     "text": [
      "t_step: 10 \t, sample_time: 0.003 \tupdate_time: 0.006 \tlearn_time: 0.022 \tsum: 612.228 \tsize: 26484                        \n",
      "Episode 661\tTotal score (max over agents) this episode: 0.0\n",
      "t_step: 50 \t, sample_time: 0.005 \tupdate_time: 0.004 \tlearn_time: 0.019 \tsum: 619.537 \tsize: 26591                        "
     ]
    },
    {
     "name": "stderr",
     "output_type": "stream",
     "text": [
      "training loop:  44% |##################                        | ETA:   0:37:11\n"
     ]
    },
    {
     "name": "stdout",
     "output_type": "stream",
     "text": [
      "t_step: 50 \t, sample_time: 0.002 \tupdate_time: 0.008 \tlearn_time: 0.091 \tsum: 615.688 \tsize: 26592                        \n",
      "Episode 662\tTotal score (max over agents) this episode: 0.10000000149011612\n",
      "t_step: 30 \t, sample_time: 0.002 \tupdate_time: 0.004 \tlearn_time: 0.017 \tsum: 616.251 \tsize: 26661                        "
     ]
    },
    {
     "name": "stderr",
     "output_type": "stream",
     "text": [
      "training loop:  44% |##################                        | ETA:   0:37:10\n"
     ]
    },
    {
     "name": "stdout",
     "output_type": "stream",
     "text": [
      "t_step: 30 \t, sample_time: 0.002 \tupdate_time: 0.005 \tlearn_time: 0.014 \tsum: 609.614 \tsize: 26662                        \n",
      "Episode 663\tTotal score (max over agents) this episode: 0.10000000149011612\n",
      "t_step: 45 \t, sample_time: 0.003 \tupdate_time: 0.005 \tlearn_time: 0.011 \tsum: 616.501 \tsize: 26757                        "
     ]
    },
    {
     "name": "stderr",
     "output_type": "stream",
     "text": [
      "training loop:  44% |##################                        | ETA:   0:37:11\n"
     ]
    },
    {
     "name": "stdout",
     "output_type": "stream",
     "text": [
      "t_step: 45 \t, sample_time: 0.002 \tupdate_time: 0.003 \tlearn_time: 0.013 \tsum: 614.355 \tsize: 26758                        \n",
      "Episode 664\tTotal score (max over agents) this episode: 0.10000000149011612\n",
      "t_step: 50 \t, sample_time: 0.002 \tupdate_time: 0.004 \tlearn_time: 0.024 \tsum: 610.301 \tsize: 26868                        "
     ]
    },
    {
     "name": "stderr",
     "output_type": "stream",
     "text": [
      "training loop:  44% |##################                        | ETA:   0:37:14\n"
     ]
    },
    {
     "name": "stdout",
     "output_type": "stream",
     "text": [
      "t_step: 55 \t, sample_time: 0.003 \tupdate_time: 0.004 \tlearn_time: 0.016 \tsum: 611.363 \tsize: 26878                        \n",
      "Episode 665\tTotal score (max over agents) this episode: 0.10000000149011612\n",
      "t_step: 105 \t, sample_time: 0.003 \tupdate_time: 0.004 \tlearn_time: 0.035 \tsum: 616.382 \tsize: 27095                        "
     ]
    },
    {
     "name": "stderr",
     "output_type": "stream",
     "text": [
      "training loop:  44% |##################                        | ETA:   0:37:22\n"
     ]
    },
    {
     "name": "stdout",
     "output_type": "stream",
     "text": [
      "t_step: 105 \t, sample_time: 0.004 \tupdate_time: 0.007 \tlearn_time: 0.029 \tsum: 612.515 \tsize: 27096                        \n",
      "Episode 666\tTotal score (max over agents) this episode: 0.30000000447034836\n",
      "t_step: 30 \t, sample_time: 0.002 \tupdate_time: 0.006 \tlearn_time: 0.015 \tsum: 617.668 \tsize: 27163                        "
     ]
    },
    {
     "name": "stderr",
     "output_type": "stream",
     "text": [
      "training loop:  44% |##################                        | ETA:   0:37:22\n"
     ]
    },
    {
     "name": "stdout",
     "output_type": "stream",
     "text": [
      "t_step: 30 \t, sample_time: 0.008 \tupdate_time: 0.003 \tlearn_time: 0.019 \tsum: 616.430 \tsize: 27164                        \n",
      "Episode 667\tTotal score (max over agents) this episode: 0.10000000149011612\n",
      "t_step: 10 \t, sample_time: 0.003 \tupdate_time: 0.004 \tlearn_time: 0.014 \tsum: 618.125 \tsize: 27194                        "
     ]
    },
    {
     "name": "stderr",
     "output_type": "stream",
     "text": [
      "training loop:  44% |##################                        | ETA:   0:37:19\n"
     ]
    },
    {
     "name": "stdout",
     "output_type": "stream",
     "text": [
      "t_step: 15 \t, sample_time: 0.008 \tupdate_time: 0.003 \tlearn_time: 0.011 \tsum: 617.284 \tsize: 27204                        \n",
      "Episode 668\tTotal score (max over agents) this episode: 0.0\n",
      "t_step: 60 \t, sample_time: 0.004 \tupdate_time: 0.008 \tlearn_time: 0.017 \tsum: 620.440 \tsize: 27332                        "
     ]
    },
    {
     "name": "stderr",
     "output_type": "stream",
     "text": [
      "training loop:  44% |##################                        | ETA:   0:37:24\n"
     ]
    },
    {
     "name": "stdout",
     "output_type": "stream",
     "text": [
      "t_step: 65 \t, sample_time: 0.004 \tupdate_time: 0.005 \tlearn_time: 0.014 \tsum: 616.361 \tsize: 27342                        \n",
      "Episode 669\tTotal score (max over agents) this episode: 0.10000000149011612\n",
      "t_step: 30 \t, sample_time: 0.002 \tupdate_time: 0.005 \tlearn_time: 0.027 \tsum: 615.220 \tsize: 27410                        "
     ]
    },
    {
     "name": "stderr",
     "output_type": "stream",
     "text": [
      "training loop:  44% |##################                        | ETA:   0:37:22\n"
     ]
    },
    {
     "name": "stdout",
     "output_type": "stream",
     "text": [
      "\n",
      "Episode 670\tTotal score (max over agents) this episode: 0.10000000149011612\n",
      "t_step: 30 \t, sample_time: 0.003 \tupdate_time: 0.006 \tlearn_time: 0.033 \tsum: 617.900 \tsize: 27479                        "
     ]
    },
    {
     "name": "stderr",
     "output_type": "stream",
     "text": [
      "training loop:  44% |##################                        | ETA:   0:37:22\n"
     ]
    },
    {
     "name": "stdout",
     "output_type": "stream",
     "text": [
      "t_step: 30 \t, sample_time: 0.002 \tupdate_time: 0.007 \tlearn_time: 0.018 \tsum: 616.006 \tsize: 27480                        \n",
      "Episode 671\tTotal score (max over agents) this episode: 0.10000000149011612\n",
      "t_step: 30 \t, sample_time: 0.003 \tupdate_time: 0.008 \tlearn_time: 0.061 \tsum: 619.550 \tsize: 27547                        "
     ]
    },
    {
     "name": "stderr",
     "output_type": "stream",
     "text": [
      "training loop:  44% |##################                        | ETA:   0:37:22\n"
     ]
    },
    {
     "name": "stdout",
     "output_type": "stream",
     "text": [
      "t_step: 30 \t, sample_time: 0.002 \tupdate_time: 0.007 \tlearn_time: 0.033 \tsum: 617.864 \tsize: 27548                        \n",
      "Episode 672\tTotal score (max over agents) this episode: 0.10000000149011612\n",
      "t_step: 65 \t, sample_time: 0.003 \tupdate_time: 0.007 \tlearn_time: 0.016 \tsum: 626.826 \tsize: 27683                        "
     ]
    },
    {
     "name": "stderr",
     "output_type": "stream",
     "text": [
      "training loop:  44% |##################                        | ETA:   0:37:26\n"
     ]
    },
    {
     "name": "stdout",
     "output_type": "stream",
     "text": [
      "t_step: 65 \t, sample_time: 0.002 \tupdate_time: 0.004 \tlearn_time: 0.017 \tsum: 619.260 \tsize: 27684                        \n",
      "Episode 673\tTotal score (max over agents) this episode: 0.10000000149011612\n",
      "t_step: 15 \t, sample_time: 0.004 \tupdate_time: 0.006 \tlearn_time: 0.013 \tsum: 618.821 \tsize: 27721                        "
     ]
    },
    {
     "name": "stderr",
     "output_type": "stream",
     "text": [
      "training loop:  44% |##################                        | ETA:   0:37:24\n"
     ]
    },
    {
     "name": "stdout",
     "output_type": "stream",
     "text": [
      "t_step: 15 \t, sample_time: 0.003 \tupdate_time: 0.003 \tlearn_time: 0.028 \tsum: 616.919 \tsize: 27722                        \n",
      "Episode 674\tTotal score (max over agents) this episode: 0.0\n",
      "t_step: 30 \t, sample_time: 0.024 \tupdate_time: 0.011 \tlearn_time: 0.058 \tsum: 622.379 \tsize: 27785                        "
     ]
    },
    {
     "name": "stderr",
     "output_type": "stream",
     "text": [
      "training loop:  45% |##################                        | ETA:   0:37:28\n"
     ]
    },
    {
     "name": "stdout",
     "output_type": "stream",
     "text": [
      "t_step: 30 \t, sample_time: 0.005 \tupdate_time: 0.008 \tlearn_time: 0.113 \tsum: 620.522 \tsize: 27786                        \n",
      "Episode 675\tTotal score (max over agents) this episode: 0.10000000149011612\n",
      "t_step: 70 \t, sample_time: 0.002 \tupdate_time: 0.005 \tlearn_time: 0.017 \tsum: 628.474 \tsize: 27931                        "
     ]
    },
    {
     "name": "stderr",
     "output_type": "stream",
     "text": [
      "training loop:  45% |##################                        | ETA:   0:37:37\n"
     ]
    },
    {
     "name": "stdout",
     "output_type": "stream",
     "text": [
      "t_step: 70 \t, sample_time: 0.005 \tupdate_time: 0.004 \tlearn_time: 0.030 \tsum: 629.016 \tsize: 27932                        \n",
      "Episode 676\tTotal score (max over agents) this episode: 0.20000000298023224\n",
      "t_step: 35 \t, sample_time: 0.003 \tupdate_time: 0.003 \tlearn_time: 0.019 \tsum: 632.667 \tsize: 28011                        "
     ]
    },
    {
     "name": "stderr",
     "output_type": "stream",
     "text": [
      "training loop:  45% |##################                        | ETA:   0:37:39\n"
     ]
    },
    {
     "name": "stdout",
     "output_type": "stream",
     "text": [
      "t_step: 35 \t, sample_time: 0.002 \tupdate_time: 0.003 \tlearn_time: 0.015 \tsum: 632.163 \tsize: 28012                        \n",
      "Episode 677\tTotal score (max over agents) this episode: 0.10000000149011612\n",
      "t_step: 50 \t, sample_time: 0.003 \tupdate_time: 0.006 \tlearn_time: 0.027 \tsum: 626.307 \tsize: 28113                        "
     ]
    },
    {
     "name": "stderr",
     "output_type": "stream",
     "text": [
      "training loop:  45% |##################                        | ETA:   0:37:41\n"
     ]
    },
    {
     "name": "stdout",
     "output_type": "stream",
     "text": [
      "t_step: 50 \t, sample_time: 0.002 \tupdate_time: 0.006 \tlearn_time: 0.032 \tsum: 625.237 \tsize: 28114                        \n",
      "Episode 678\tTotal score (max over agents) this episode: 0.20000000298023224\n",
      "t_step: 15 \t, sample_time: 0.003 \tupdate_time: 0.009 \tlearn_time: 0.049 \tsum: 632.412 \tsize: 28145                        "
     ]
    },
    {
     "name": "stderr",
     "output_type": "stream",
     "text": [
      "training loop:  45% |###################                       | ETA:   0:37:45\n"
     ]
    },
    {
     "name": "stdout",
     "output_type": "stream",
     "text": [
      "t_step: 15 \t, sample_time: 0.005 \tupdate_time: 0.006 \tlearn_time: 0.029 \tsum: 630.514 \tsize: 28146                        \n",
      "Episode 679\tTotal score (max over agents) this episode: 0.0\n",
      "t_step: 20 \t, sample_time: 0.003 \tupdate_time: 0.011 \tlearn_time: 0.079 \tsum: 630.712 \tsize: 28189                        "
     ]
    },
    {
     "name": "stderr",
     "output_type": "stream",
     "text": [
      "training loop:  45% |###################                       | ETA:   0:37:43\n"
     ]
    },
    {
     "name": "stdout",
     "output_type": "stream",
     "text": [
      "t_step: 20 \t, sample_time: 0.004 \tupdate_time: 0.004 \tlearn_time: 0.011 \tsum: 627.725 \tsize: 28190                        \n",
      "Episode 680\tTotal score (max over agents) this episode: 0.0\n",
      "t_step: 15 \t, sample_time: 0.003 \tupdate_time: 0.007 \tlearn_time: 0.036 \tsum: 624.253 \tsize: 28227                        "
     ]
    },
    {
     "name": "stderr",
     "output_type": "stream",
     "text": [
      "training loop:  45% |###################                       | ETA:   0:37:41\n"
     ]
    },
    {
     "name": "stdout",
     "output_type": "stream",
     "text": [
      "t_step: 15 \t, sample_time: 0.003 \tupdate_time: 0.003 \tlearn_time: 0.018 \tsum: 621.694 \tsize: 28228                        \n",
      "Episode 681\tTotal score (max over agents) this episode: 0.0\n",
      "t_step: 25 \t, sample_time: 0.004 \tupdate_time: 0.006 \tlearn_time: 0.023 \tsum: 618.968 \tsize: 28279                        "
     ]
    },
    {
     "name": "stderr",
     "output_type": "stream",
     "text": [
      "training loop:  45% |###################                       | ETA:   0:37:40\n"
     ]
    },
    {
     "name": "stdout",
     "output_type": "stream",
     "text": [
      "t_step: 25 \t, sample_time: 0.003 \tupdate_time: 0.006 \tlearn_time: 0.021 \tsum: 620.740 \tsize: 28280                        \n",
      "Episode 682\tTotal score (max over agents) this episode: 0.10000000149011612\n",
      "t_step: 40 \t, sample_time: 0.003 \tupdate_time: 0.007 \tlearn_time: 0.015 \tsum: 631.007 \tsize: 28365                        "
     ]
    },
    {
     "name": "stderr",
     "output_type": "stream",
     "text": [
      "training loop:  45% |###################                       | ETA:   0:37:42\n"
     ]
    },
    {
     "name": "stdout",
     "output_type": "stream",
     "text": [
      "t_step: 40 \t, sample_time: 0.002 \tupdate_time: 0.008 \tlearn_time: 0.016 \tsum: 624.802 \tsize: 28366                        \n",
      "Episode 683\tTotal score (max over agents) this episode: 0.10000000149011612\n",
      "t_step: 30 \t, sample_time: 0.003 \tupdate_time: 0.005 \tlearn_time: 0.015 \tsum: 638.911 \tsize: 28431                        "
     ]
    },
    {
     "name": "stderr",
     "output_type": "stream",
     "text": [
      "training loop:  45% |###################                       | ETA:   0:37:42\n"
     ]
    },
    {
     "name": "stdout",
     "output_type": "stream",
     "text": [
      "t_step: 30 \t, sample_time: 0.002 \tupdate_time: 0.003 \tlearn_time: 0.031 \tsum: 635.983 \tsize: 28432                        \n",
      "Episode 684\tTotal score (max over agents) this episode: 0.10000000149011612\n",
      "t_step: 15 \t, sample_time: 0.002 \tupdate_time: 0.008 \tlearn_time: 0.017 \tsum: 641.818 \tsize: 28469                        "
     ]
    },
    {
     "name": "stderr",
     "output_type": "stream",
     "text": [
      "training loop:  45% |###################                       | ETA:   0:37:39\n"
     ]
    },
    {
     "name": "stdout",
     "output_type": "stream",
     "text": [
      "t_step: 15 \t, sample_time: 0.003 \tupdate_time: 0.006 \tlearn_time: 0.032 \tsum: 637.940 \tsize: 28470                        \n",
      "Episode 685\tTotal score (max over agents) this episode: 0.0\n",
      "t_step: 10 \t, sample_time: 0.003 \tupdate_time: 0.006 \tlearn_time: 0.013 \tsum: 634.950 \tsize: 28491                        "
     ]
    },
    {
     "name": "stderr",
     "output_type": "stream",
     "text": [
      "training loop:  45% |###################                       | ETA:   0:37:36\n"
     ]
    },
    {
     "name": "stdout",
     "output_type": "stream",
     "text": [
      "t_step: 10 \t, sample_time: 0.003 \tupdate_time: 0.006 \tlearn_time: 0.017 \tsum: 634.542 \tsize: 28492                        \n",
      "Episode 686\tTotal score (max over agents) this episode: 0.0\n",
      "t_step: 10 \t, sample_time: 0.002 \tupdate_time: 0.005 \tlearn_time: 0.014 \tsum: 639.211 \tsize: 28519                        "
     ]
    },
    {
     "name": "stderr",
     "output_type": "stream",
     "text": [
      "training loop:  45% |###################                       | ETA:   0:37:32\n"
     ]
    },
    {
     "name": "stdout",
     "output_type": "stream",
     "text": [
      "t_step: 10 \t, sample_time: 0.004 \tupdate_time: 0.006 \tlearn_time: 0.020 \tsum: 635.911 \tsize: 28520                        \n",
      "Episode 687\tTotal score (max over agents) this episode: 0.0\n",
      "t_step: 15 \t, sample_time: 0.002 \tupdate_time: 0.007 \tlearn_time: 0.035 \tsum: 640.573 \tsize: 28557                        "
     ]
    },
    {
     "name": "stderr",
     "output_type": "stream",
     "text": [
      "training loop:  45% |###################                       | ETA:   0:37:30\n"
     ]
    },
    {
     "name": "stdout",
     "output_type": "stream",
     "text": [
      "t_step: 15 \t, sample_time: 0.003 \tupdate_time: 0.004 \tlearn_time: 0.017 \tsum: 634.595 \tsize: 28558                        \n",
      "Episode 688\tTotal score (max over agents) this episode: 0.0\n",
      "t_step: 15 \t, sample_time: 0.002 \tupdate_time: 0.005 \tlearn_time: 0.032 \tsum: 641.990 \tsize: 28591                        "
     ]
    },
    {
     "name": "stderr",
     "output_type": "stream",
     "text": [
      "training loop:  45% |###################                       | ETA:   0:37:27\n"
     ]
    },
    {
     "name": "stdout",
     "output_type": "stream",
     "text": [
      "t_step: 15 \t, sample_time: 0.004 \tupdate_time: 0.009 \tlearn_time: 0.018 \tsum: 635.706 \tsize: 28592                        \n",
      "Episode 689\tTotal score (max over agents) this episode: 0.0\n",
      "t_step: 10 \t, sample_time: 0.003 \tupdate_time: 0.006 \tlearn_time: 0.015 \tsum: 641.455 \tsize: 28617                        "
     ]
    },
    {
     "name": "stderr",
     "output_type": "stream",
     "text": [
      "training loop:  46% |###################                       | ETA:   0:37:24\n"
     ]
    },
    {
     "name": "stdout",
     "output_type": "stream",
     "text": [
      "t_step: 10 \t, sample_time: 0.004 \tupdate_time: 0.007 \tlearn_time: 0.034 \tsum: 637.445 \tsize: 28618                        \n",
      "Episode 690\tTotal score (max over agents) this episode: 0.0\n",
      "t_step: 15 \t, sample_time: 0.005 \tupdate_time: 0.006 \tlearn_time: 0.020 \tsum: 646.619 \tsize: 28655                        "
     ]
    },
    {
     "name": "stderr",
     "output_type": "stream",
     "text": [
      "training loop:  46% |###################                       | ETA:   0:37:22\n"
     ]
    },
    {
     "name": "stdout",
     "output_type": "stream",
     "text": [
      "t_step: 15 \t, sample_time: 0.003 \tupdate_time: 0.004 \tlearn_time: 0.014 \tsum: 641.406 \tsize: 28656                        \n",
      "Episode 691\tTotal score (max over agents) this episode: 0.0\n",
      "t_step: 10 \t, sample_time: 0.003 \tupdate_time: 0.005 \tlearn_time: 0.033 \tsum: 643.075 \tsize: 28685                        "
     ]
    },
    {
     "name": "stderr",
     "output_type": "stream",
     "text": [
      "training loop:  46% |###################                       | ETA:   0:37:19\n"
     ]
    },
    {
     "name": "stdout",
     "output_type": "stream",
     "text": [
      "t_step: 10 \t, sample_time: 0.003 \tupdate_time: 0.004 \tlearn_time: 0.017 \tsum: 637.012 \tsize: 28686                        \n",
      "Episode 692\tTotal score (max over agents) this episode: 0.0\n",
      "t_step: 30 \t, sample_time: 0.003 \tupdate_time: 0.004 \tlearn_time: 0.075 \tsum: 633.860 \tsize: 28753                        "
     ]
    },
    {
     "name": "stderr",
     "output_type": "stream",
     "text": [
      "training loop:  46% |###################                       | ETA:   0:37:18\n"
     ]
    },
    {
     "name": "stdout",
     "output_type": "stream",
     "text": [
      "t_step: 30 \t, sample_time: 0.002 \tupdate_time: 0.006 \tlearn_time: 0.028 \tsum: 629.936 \tsize: 28754                        \n",
      "Episode 693\tTotal score (max over agents) this episode: 0.10000000149011612\n",
      "t_step: 20 \t, sample_time: 0.003 \tupdate_time: 0.006 \tlearn_time: 0.017 \tsum: 631.775 \tsize: 28803                        "
     ]
    },
    {
     "name": "stderr",
     "output_type": "stream",
     "text": [
      "training loop:  46% |###################                       | ETA:   0:37:16\n"
     ]
    },
    {
     "name": "stdout",
     "output_type": "stream",
     "text": [
      "t_step: 20 \t, sample_time: 0.002 \tupdate_time: 0.006 \tlearn_time: 0.033 \tsum: 633.164 \tsize: 28804                        \n",
      "Episode 694\tTotal score (max over agents) this episode: 0.0\n",
      "t_step: 30 \t, sample_time: 0.004 \tupdate_time: 0.007 \tlearn_time: 0.082 \tsum: 627.341 \tsize: 28865                        "
     ]
    },
    {
     "name": "stderr",
     "output_type": "stream",
     "text": [
      "training loop:  46% |###################                       | ETA:   0:37:15\n"
     ]
    },
    {
     "name": "stdout",
     "output_type": "stream",
     "text": [
      "t_step: 30 \t, sample_time: 0.002 \tupdate_time: 0.006 \tlearn_time: 0.033 \tsum: 629.883 \tsize: 28866                        \n",
      "Episode 695\tTotal score (max over agents) this episode: 0.10000000149011612\n",
      "t_step: 15 \t, sample_time: 0.003 \tupdate_time: 0.006 \tlearn_time: 0.015 \tsum: 633.539 \tsize: 28901                        "
     ]
    },
    {
     "name": "stderr",
     "output_type": "stream",
     "text": [
      "training loop:  46% |###################                       | ETA:   0:37:12\n"
     ]
    },
    {
     "name": "stdout",
     "output_type": "stream",
     "text": [
      "t_step: 15 \t, sample_time: 0.002 \tupdate_time: 0.004 \tlearn_time: 0.018 \tsum: 630.605 \tsize: 28902                        \n",
      "Episode 696\tTotal score (max over agents) this episode: 0.0\n",
      "t_step: 10 \t, sample_time: 0.002 \tupdate_time: 0.005 \tlearn_time: 0.013 \tsum: 627.392 \tsize: 28926                        "
     ]
    },
    {
     "name": "stderr",
     "output_type": "stream",
     "text": [
      "training loop:  46% |###################                       | ETA:   0:37:08\n"
     ]
    },
    {
     "name": "stdout",
     "output_type": "stream",
     "text": [
      "\n",
      "Episode 697\tTotal score (max over agents) this episode: 0.0\n",
      "t_step: 15 \t, sample_time: 0.003 \tupdate_time: 0.011 \tlearn_time: 0.023 \tsum: 634.522 \tsize: 28963                        "
     ]
    },
    {
     "name": "stderr",
     "output_type": "stream",
     "text": [
      "training loop:  46% |###################                       | ETA:   0:37:06\n"
     ]
    },
    {
     "name": "stdout",
     "output_type": "stream",
     "text": [
      "t_step: 15 \t, sample_time: 0.013 \tupdate_time: 0.003 \tlearn_time: 0.037 \tsum: 636.688 \tsize: 28964                        \n",
      "Episode 698\tTotal score (max over agents) this episode: 0.0\n",
      "t_step: 15 \t, sample_time: 0.002 \tupdate_time: 0.006 \tlearn_time: 0.050 \tsum: 637.619 \tsize: 28999                        "
     ]
    },
    {
     "name": "stderr",
     "output_type": "stream",
     "text": [
      "training loop:  46% |###################                       | ETA:   0:37:04\n"
     ]
    },
    {
     "name": "stdout",
     "output_type": "stream",
     "text": [
      "t_step: 15 \t, sample_time: 0.004 \tupdate_time: 0.006 \tlearn_time: 0.030 \tsum: 633.091 \tsize: 29000                        \n",
      "Episode 699\tTotal score (max over agents) this episode: 0.0\n",
      "t_step: 10 \t, sample_time: 0.002 \tupdate_time: 0.006 \tlearn_time: 0.019 \tsum: 639.123 \tsize: 29023                        "
     ]
    },
    {
     "name": "stderr",
     "output_type": "stream",
     "text": [
      "training loop:  46% |###################                       | ETA:   0:37:00\n"
     ]
    },
    {
     "name": "stdout",
     "output_type": "stream",
     "text": [
      "t_step: 10 \t, sample_time: 0.002 \tupdate_time: 0.004 \tlearn_time: 0.025 \tsum: 634.204 \tsize: 29024                        \n",
      "Episode 700\tTotal score (max over agents) this episode: 0.0\n",
      "t_step: 10 \t, sample_time: 0.002 \tupdate_time: 0.004 \tlearn_time: 0.023 \tsum: 634.628 \tsize: 29051                        "
     ]
    },
    {
     "name": "stderr",
     "output_type": "stream",
     "text": [
      "training loop:  46% |###################                       | ETA:   0:36:57\n"
     ]
    },
    {
     "name": "stdout",
     "output_type": "stream",
     "text": [
      "t_step: 10 \t, sample_time: 0.002 \tupdate_time: 0.005 \tlearn_time: 0.015 \tsum: 634.334 \tsize: 29052                        \n",
      "Episode 701\tTotal score (max over agents) this episode: 0.0\n",
      "t_step: 55 \t, sample_time: 0.004 \tupdate_time: 0.004 \tlearn_time: 0.015 \tsum: 639.708 \tsize: 29171                        "
     ]
    },
    {
     "name": "stderr",
     "output_type": "stream",
     "text": [
      "training loop:  46% |###################                       | ETA:   0:36:59\n"
     ]
    },
    {
     "name": "stdout",
     "output_type": "stream",
     "text": [
      "t_step: 55 \t, sample_time: 0.004 \tupdate_time: 0.003 \tlearn_time: 0.037 \tsum: 633.818 \tsize: 29172                        \n",
      "Episode 702\tTotal score (max over agents) this episode: 0.10000000149011612\n",
      "t_step: 5 \t, sample_time: 0.002 \tupdate_time: 0.003 \tlearn_time: 0.015 \tsum: 634.455 \tsize: 29186                        "
     ]
    },
    {
     "name": "stderr",
     "output_type": "stream",
     "text": [
      "training loop:  46% |###################                       | ETA:   0:36:56\n"
     ]
    },
    {
     "name": "stdout",
     "output_type": "stream",
     "text": [
      "t_step: 10 \t, sample_time: 0.002 \tupdate_time: 0.004 \tlearn_time: 0.011 \tsum: 633.204 \tsize: 29196                        \n",
      "Episode 703\tTotal score (max over agents) this episode: 0.0\n",
      "t_step: 10 \t, sample_time: 0.002 \tupdate_time: 0.005 \tlearn_time: 0.024 \tsum: 634.251 \tsize: 29225                        "
     ]
    },
    {
     "name": "stderr",
     "output_type": "stream",
     "text": [
      "training loop:  46% |###################                       | ETA:   0:36:52\n"
     ]
    },
    {
     "name": "stdout",
     "output_type": "stream",
     "text": [
      "t_step: 10 \t, sample_time: 0.002 \tupdate_time: 0.003 \tlearn_time: 0.011 \tsum: 630.518 \tsize: 29226                        \n",
      "Episode 704\tTotal score (max over agents) this episode: 0.0\n",
      "t_step: 15 \t, sample_time: 0.002 \tupdate_time: 0.004 \tlearn_time: 0.012 \tsum: 641.399 \tsize: 29263                        "
     ]
    },
    {
     "name": "stderr",
     "output_type": "stream",
     "text": [
      "training loop:  47% |###################                       | ETA:   0:36:49\n"
     ]
    },
    {
     "name": "stdout",
     "output_type": "stream",
     "text": [
      "t_step: 15 \t, sample_time: 0.002 \tupdate_time: 0.004 \tlearn_time: 0.014 \tsum: 636.298 \tsize: 29264                        \n",
      "Episode 705\tTotal score (max over agents) this episode: 0.0\n",
      "t_step: 5 \t, sample_time: 0.004 \tupdate_time: 0.005 \tlearn_time: 0.013 \tsum: 640.379 \tsize: 29282                        "
     ]
    },
    {
     "name": "stderr",
     "output_type": "stream",
     "text": [
      "training loop:  47% |###################                       | ETA:   0:36:44\n"
     ]
    },
    {
     "name": "stdout",
     "output_type": "stream",
     "text": [
      "t_step: 10 \t, sample_time: 0.002 \tupdate_time: 0.004 \tlearn_time: 0.012 \tsum: 642.484 \tsize: 29292                        \n",
      "Episode 706\tTotal score (max over agents) this episode: 0.0\n",
      "t_step: 10 \t, sample_time: 0.003 \tupdate_time: 0.007 \tlearn_time: 0.078 \tsum: 646.244 \tsize: 29319                        "
     ]
    },
    {
     "name": "stderr",
     "output_type": "stream",
     "text": [
      "training loop:  47% |###################                       | ETA:   0:36:41\n"
     ]
    },
    {
     "name": "stdout",
     "output_type": "stream",
     "text": [
      "t_step: 10 \t, sample_time: 0.002 \tupdate_time: 0.003 \tlearn_time: 0.013 \tsum: 639.019 \tsize: 29320                        \n",
      "Episode 707\tTotal score (max over agents) this episode: 0.0\n",
      "t_step: 10 \t, sample_time: 0.003 \tupdate_time: 0.010 \tlearn_time: 0.024 \tsum: 640.615 \tsize: 29347                        "
     ]
    },
    {
     "name": "stderr",
     "output_type": "stream",
     "text": [
      "training loop:  47% |###################                       | ETA:   0:36:38\n"
     ]
    },
    {
     "name": "stdout",
     "output_type": "stream",
     "text": [
      "t_step: 10 \t, sample_time: 0.002 \tupdate_time: 0.005 \tlearn_time: 0.013 \tsum: 636.671 \tsize: 29348                        \n",
      "Episode 708\tTotal score (max over agents) this episode: 0.0\n",
      "t_step: 55 \t, sample_time: 0.004 \tupdate_time: 0.006 \tlearn_time: 0.016 \tsum: 633.362 \tsize: 29467                                                "
     ]
    },
    {
     "name": "stderr",
     "output_type": "stream",
     "text": [
      "training loop:  47% |###################                       | ETA:   0:36:39\n"
     ]
    },
    {
     "name": "stdout",
     "output_type": "stream",
     "text": [
      "t_step: 55 \t, sample_time: 0.002 \tupdate_time: 0.004 \tlearn_time: 0.026 \tsum: 633.727 \tsize: 29468                        \n",
      "Episode 709\tTotal score (max over agents) this episode: 0.10000000149011612\n",
      "t_step: 20 \t, sample_time: 0.002 \tupdate_time: 0.004 \tlearn_time: 0.016 \tsum: 641.072 \tsize: 29509                        "
     ]
    },
    {
     "name": "stderr",
     "output_type": "stream",
     "text": [
      "training loop:  47% |###################                       | ETA:   0:36:36\n"
     ]
    },
    {
     "name": "stdout",
     "output_type": "stream",
     "text": [
      "t_step: 20 \t, sample_time: 0.002 \tupdate_time: 0.010 \tlearn_time: 0.016 \tsum: 638.663 \tsize: 29510                        \n",
      "Episode 710\tTotal score (max over agents) this episode: 0.0\n",
      "t_step: 70 \t, sample_time: 0.002 \tupdate_time: 0.003 \tlearn_time: 0.008 \tsum: 642.958 \tsize: 29659                        "
     ]
    },
    {
     "name": "stderr",
     "output_type": "stream",
     "text": [
      "training loop:  47% |###################                       | ETA:   0:36:39\n"
     ]
    },
    {
     "name": "stdout",
     "output_type": "stream",
     "text": [
      "t_step: 70 \t, sample_time: 0.004 \tupdate_time: 0.004 \tlearn_time: 0.012 \tsum: 639.973 \tsize: 29660                        \n",
      "Episode 711\tTotal score (max over agents) this episode: 0.20000000298023224\n",
      "t_step: 50 \t, sample_time: 0.003 \tupdate_time: 0.004 \tlearn_time: 0.017 \tsum: 638.218 \tsize: 29769                        "
     ]
    },
    {
     "name": "stderr",
     "output_type": "stream",
     "text": [
      "training loop:  47% |###################                       | ETA:   0:36:40\n"
     ]
    },
    {
     "name": "stdout",
     "output_type": "stream",
     "text": [
      "t_step: 50 \t, sample_time: 0.002 \tupdate_time: 0.004 \tlearn_time: 0.013 \tsum: 636.875 \tsize: 29770                        \n",
      "Episode 712\tTotal score (max over agents) this episode: 0.10000000149011612\n",
      "t_step: 45 \t, sample_time: 0.004 \tupdate_time: 0.004 \tlearn_time: 0.025 \tsum: 640.141 \tsize: 29864                        "
     ]
    },
    {
     "name": "stderr",
     "output_type": "stream",
     "text": [
      "training loop:  47% |###################                       | ETA:   0:36:41\n"
     ]
    },
    {
     "name": "stdout",
     "output_type": "stream",
     "text": [
      "t_step: 50 \t, sample_time: 0.002 \tupdate_time: 0.007 \tlearn_time: 0.017 \tsum: 645.716 \tsize: 29874                        \n",
      "Episode 713\tTotal score (max over agents) this episode: 0.10000000149011612\n",
      "t_step: 10 \t, sample_time: 0.002 \tupdate_time: 0.004 \tlearn_time: 0.013 \tsum: 637.798 \tsize: 29898                        "
     ]
    },
    {
     "name": "stderr",
     "output_type": "stream",
     "text": [
      "training loop:  47% |###################                       | ETA:   0:36:38\n"
     ]
    },
    {
     "name": "stdout",
     "output_type": "stream",
     "text": [
      "t_step: 15 \t, sample_time: 0.004 \tupdate_time: 0.004 \tlearn_time: 0.015 \tsum: 640.244 \tsize: 29908                        \n",
      "Episode 714\tTotal score (max over agents) this episode: 0.0\n",
      "t_step: 55 \t, sample_time: 0.003 \tupdate_time: 0.003 \tlearn_time: 0.032 \tsum: 638.034 \tsize: 30020                        "
     ]
    },
    {
     "name": "stderr",
     "output_type": "stream",
     "text": [
      "training loop:  47% |####################                      | ETA:   0:36:40\n"
     ]
    },
    {
     "name": "stdout",
     "output_type": "stream",
     "text": [
      "t_step: 60 \t, sample_time: 0.003 \tupdate_time: 0.005 \tlearn_time: 0.023 \tsum: 639.571 \tsize: 30030                        \n",
      "Episode 715\tTotal score (max over agents) this episode: 0.20000000298023224\n",
      "t_step: 10 \t, sample_time: 0.003 \tupdate_time: 0.004 \tlearn_time: 0.012 \tsum: 646.788 \tsize: 30051                        "
     ]
    },
    {
     "name": "stderr",
     "output_type": "stream",
     "text": [
      "training loop:  47% |####################                      | ETA:   0:36:36\n"
     ]
    },
    {
     "name": "stdout",
     "output_type": "stream",
     "text": [
      "t_step: 10 \t, sample_time: 0.002 \tupdate_time: 0.006 \tlearn_time: 0.019 \tsum: 639.719 \tsize: 30052                        \n",
      "Episode 716\tTotal score (max over agents) this episode: 0.0\n",
      "t_step: 50 \t, sample_time: 0.002 \tupdate_time: 0.005 \tlearn_time: 0.013 \tsum: 639.757 \tsize: 30160                        "
     ]
    },
    {
     "name": "stderr",
     "output_type": "stream",
     "text": [
      "training loop:  47% |####################                      | ETA:   0:36:37\n"
     ]
    },
    {
     "name": "stdout",
     "output_type": "stream",
     "text": [
      "t_step: 55 \t, sample_time: 0.002 \tupdate_time: 0.006 \tlearn_time: 0.016 \tsum: 639.919 \tsize: 30170                        \n",
      "Episode 717\tTotal score (max over agents) this episode: 0.10000000149011612\n",
      "t_step: 30 \t, sample_time: 0.002 \tupdate_time: 0.003 \tlearn_time: 0.014 \tsum: 649.512 \tsize: 30233                        "
     ]
    },
    {
     "name": "stderr",
     "output_type": "stream",
     "text": [
      "training loop:  47% |####################                      | ETA:   0:36:36\n"
     ]
    },
    {
     "name": "stdout",
     "output_type": "stream",
     "text": [
      "t_step: 30 \t, sample_time: 0.002 \tupdate_time: 0.006 \tlearn_time: 0.025 \tsum: 643.530 \tsize: 30234                        \n",
      "Episode 718\tTotal score (max over agents) this episode: 0.10000000149011612\n",
      "t_step: 50 \t, sample_time: 0.002 \tupdate_time: 0.004 \tlearn_time: 0.022 \tsum: 636.303 \tsize: 30341                        "
     ]
    },
    {
     "name": "stderr",
     "output_type": "stream",
     "text": [
      "training loop:  47% |####################                      | ETA:   0:36:37\n"
     ]
    },
    {
     "name": "stdout",
     "output_type": "stream",
     "text": [
      "t_step: 50 \t, sample_time: 0.002 \tupdate_time: 0.004 \tlearn_time: 0.031 \tsum: 634.982 \tsize: 30342                        \n",
      "Episode 719\tTotal score (max over agents) this episode: 0.10000000149011612\n",
      "t_step: 10 \t, sample_time: 0.003 \tupdate_time: 0.005 \tlearn_time: 0.112 \tsum: 636.937 \tsize: 30371                        "
     ]
    },
    {
     "name": "stderr",
     "output_type": "stream",
     "text": [
      "training loop:  48% |####################                      | ETA:   0:36:34\n"
     ]
    },
    {
     "name": "stdout",
     "output_type": "stream",
     "text": [
      "t_step: 10 \t, sample_time: 0.002 \tupdate_time: 0.004 \tlearn_time: 0.015 \tsum: 639.379 \tsize: 30372                        \n",
      "Episode 720\tTotal score (max over agents) this episode: 0.0\n",
      "t_step: 10 \t, sample_time: 0.002 \tupdate_time: 0.004 \tlearn_time: 0.029 \tsum: 646.776 \tsize: 30399                        "
     ]
    },
    {
     "name": "stderr",
     "output_type": "stream",
     "text": [
      "training loop:  48% |####################                      | ETA:   0:36:29\n"
     ]
    },
    {
     "name": "stdout",
     "output_type": "stream",
     "text": [
      "t_step: 10 \t, sample_time: 0.002 \tupdate_time: 0.004 \tlearn_time: 0.015 \tsum: 641.633 \tsize: 30400                        \n",
      "Episode 721\tTotal score (max over agents) this episode: 0.0\n",
      "t_step: 45 \t, sample_time: 0.002 \tupdate_time: 0.005 \tlearn_time: 0.016 \tsum: 645.625 \tsize: 30498                        "
     ]
    },
    {
     "name": "stderr",
     "output_type": "stream",
     "text": [
      "training loop:  48% |####################                      | ETA:   0:36:31\n"
     ]
    },
    {
     "name": "stdout",
     "output_type": "stream",
     "text": [
      "t_step: 50 \t, sample_time: 0.002 \tupdate_time: 0.005 \tlearn_time: 0.012 \tsum: 640.931 \tsize: 30508                        \n",
      "Episode 722\tTotal score (max over agents) this episode: 0.10000000149011612\n",
      "t_step: 10 \t, sample_time: 0.002 \tupdate_time: 0.005 \tlearn_time: 0.014 \tsum: 647.400 \tsize: 30529                        "
     ]
    },
    {
     "name": "stderr",
     "output_type": "stream",
     "text": [
      "training loop:  48% |####################                      | ETA:   0:36:27\n"
     ]
    },
    {
     "name": "stdout",
     "output_type": "stream",
     "text": [
      "t_step: 10 \t, sample_time: 0.004 \tupdate_time: 0.005 \tlearn_time: 0.013 \tsum: 646.829 \tsize: 30530                        \n",
      "Episode 723\tTotal score (max over agents) this episode: 0.0\n",
      "t_step: 45 \t, sample_time: 0.005 \tupdate_time: 0.003 \tlearn_time: 0.018 \tsum: 646.806 \tsize: 30629                        "
     ]
    },
    {
     "name": "stderr",
     "output_type": "stream",
     "text": [
      "training loop:  48% |####################                      | ETA:   0:36:27\n"
     ]
    },
    {
     "name": "stdout",
     "output_type": "stream",
     "text": [
      "t_step: 45 \t, sample_time: 0.003 \tupdate_time: 0.005 \tlearn_time: 0.013 \tsum: 647.624 \tsize: 30630                        \n",
      "Episode 724\tTotal score (max over agents) this episode: 0.10000000149011612\n",
      "t_step: 10 \t, sample_time: 0.002 \tupdate_time: 0.005 \tlearn_time: 0.014 \tsum: 649.401 \tsize: 30651                        "
     ]
    },
    {
     "name": "stderr",
     "output_type": "stream",
     "text": [
      "training loop:  48% |####################                      | ETA:   0:36:23\n"
     ]
    },
    {
     "name": "stdout",
     "output_type": "stream",
     "text": [
      "t_step: 10 \t, sample_time: 0.002 \tupdate_time: 0.004 \tlearn_time: 0.016 \tsum: 644.251 \tsize: 30652                        \n",
      "Episode 725\tTotal score (max over agents) this episode: 0.0\n",
      "t_step: 10 \t, sample_time: 0.003 \tupdate_time: 0.006 \tlearn_time: 0.019 \tsum: 647.987 \tsize: 30679                        "
     ]
    },
    {
     "name": "stderr",
     "output_type": "stream",
     "text": [
      "training loop:  48% |####################                      | ETA:   0:36:20\n"
     ]
    },
    {
     "name": "stdout",
     "output_type": "stream",
     "text": [
      "t_step: 10 \t, sample_time: 0.003 \tupdate_time: 0.005 \tlearn_time: 0.019 \tsum: 645.553 \tsize: 30680                        \n",
      "Episode 726\tTotal score (max over agents) this episode: 0.0\n",
      "t_step: 10 \t, sample_time: 0.003 \tupdate_time: 0.004 \tlearn_time: 0.037 \tsum: 652.793 \tsize: 30710                        "
     ]
    },
    {
     "name": "stderr",
     "output_type": "stream",
     "text": [
      "training loop:  48% |####################                      | ETA:   0:36:17\n"
     ]
    },
    {
     "name": "stdout",
     "output_type": "stream",
     "text": [
      "t_step: 15 \t, sample_time: 0.002 \tupdate_time: 0.003 \tlearn_time: 0.012 \tsum: 649.176 \tsize: 30720                        \n",
      "Episode 727\tTotal score (max over agents) this episode: 0.0\n",
      "t_step: 25 \t, sample_time: 0.002 \tupdate_time: 0.004 \tlearn_time: 0.011 \tsum: 651.918 \tsize: 30776                        "
     ]
    },
    {
     "name": "stderr",
     "output_type": "stream",
     "text": [
      "training loop:  48% |####################                      | ETA:   0:36:15\n"
     ]
    },
    {
     "name": "stdout",
     "output_type": "stream",
     "text": [
      "t_step: 30 \t, sample_time: 0.003 \tupdate_time: 0.004 \tlearn_time: 0.014 \tsum: 650.545 \tsize: 30786                        \n",
      "Episode 728\tTotal score (max over agents) this episode: 0.10000000149011612\n",
      "t_step: 15 \t, sample_time: 0.003 \tupdate_time: 0.006 \tlearn_time: 0.037 \tsum: 655.067 \tsize: 30819                        "
     ]
    },
    {
     "name": "stderr",
     "output_type": "stream",
     "text": [
      "training loop:  48% |####################                      | ETA:   0:36:12\n"
     ]
    },
    {
     "name": "stdout",
     "output_type": "stream",
     "text": [
      "t_step: 15 \t, sample_time: 0.002 \tupdate_time: 0.005 \tlearn_time: 0.020 \tsum: 651.006 \tsize: 30820                        \n",
      "Episode 729\tTotal score (max over agents) this episode: 0.0\n",
      "t_step: 30 \t, sample_time: 0.002 \tupdate_time: 0.004 \tlearn_time: 0.049 \tsum: 655.432 \tsize: 30881                        "
     ]
    },
    {
     "name": "stderr",
     "output_type": "stream",
     "text": [
      "training loop:  48% |####################                      | ETA:   0:36:10\n"
     ]
    },
    {
     "name": "stdout",
     "output_type": "stream",
     "text": [
      "t_step: 30 \t, sample_time: 0.003 \tupdate_time: 0.006 \tlearn_time: 0.018 \tsum: 650.776 \tsize: 30882                        \n",
      "Episode 730\tTotal score (max over agents) this episode: 0.10000000149011612\n",
      "t_step: 60 \t, sample_time: 0.002 \tupdate_time: 0.004 \tlearn_time: 0.012 \tsum: 646.017 \tsize: 31008                        "
     ]
    },
    {
     "name": "stderr",
     "output_type": "stream",
     "text": [
      "training loop:  48% |####################                      | ETA:   0:36:12\n"
     ]
    },
    {
     "name": "stdout",
     "output_type": "stream",
     "text": [
      "t_step: 65 \t, sample_time: 0.003 \tupdate_time: 0.003 \tlearn_time: 0.014 \tsum: 647.886 \tsize: 31018                        \n",
      "Episode 731\tTotal score (max over agents) this episode: 0.20000000298023224\n",
      "t_step: 60 \t, sample_time: 0.005 \tupdate_time: 0.005 \tlearn_time: 0.060 \tsum: 650.833 \tsize: 31139                        "
     ]
    },
    {
     "name": "stderr",
     "output_type": "stream",
     "text": [
      "training loop:  48% |####################                      | ETA:   0:36:14\n"
     ]
    },
    {
     "name": "stdout",
     "output_type": "stream",
     "text": [
      "t_step: 60 \t, sample_time: 0.002 \tupdate_time: 0.004 \tlearn_time: 0.013 \tsum: 645.293 \tsize: 31140                        \n",
      "Episode 732\tTotal score (max over agents) this episode: 0.19000000320374966\n",
      "t_step: 50 \t, sample_time: 0.002 \tupdate_time: 0.008 \tlearn_time: 0.016 \tsum: 638.438 \tsize: 31246                        "
     ]
    },
    {
     "name": "stderr",
     "output_type": "stream",
     "text": [
      "training loop:  48% |####################                      | ETA:   0:36:14\n"
     ]
    },
    {
     "name": "stdout",
     "output_type": "stream",
     "text": [
      "t_step: 55 \t, sample_time: 0.002 \tupdate_time: 0.005 \tlearn_time: 0.011 \tsum: 638.900 \tsize: 31256                        \n",
      "Episode 733\tTotal score (max over agents) this episode: 0.10000000149011612\n",
      "t_step: 10 \t, sample_time: 0.003 \tupdate_time: 0.008 \tlearn_time: 0.021 \tsum: 650.350 \tsize: 31279                        "
     ]
    },
    {
     "name": "stderr",
     "output_type": "stream",
     "text": [
      "training loop:  48% |####################                      | ETA:   0:36:11\n"
     ]
    },
    {
     "name": "stdout",
     "output_type": "stream",
     "text": [
      "t_step: 10 \t, sample_time: 0.002 \tupdate_time: 0.007 \tlearn_time: 0.027 \tsum: 641.987 \tsize: 31280                        \n",
      "Episode 734\tTotal score (max over agents) this episode: 0.0\n",
      "t_step: 10 \t, sample_time: 0.002 \tupdate_time: 0.006 \tlearn_time: 0.013 \tsum: 645.478 \tsize: 31308                        "
     ]
    },
    {
     "name": "stderr",
     "output_type": "stream",
     "text": [
      "training loop:  49% |####################                      | ETA:   0:36:07\n"
     ]
    },
    {
     "name": "stdout",
     "output_type": "stream",
     "text": [
      "t_step: 15 \t, sample_time: 0.002 \tupdate_time: 0.004 \tlearn_time: 0.013 \tsum: 643.229 \tsize: 31318                        \n",
      "Episode 735\tTotal score (max over agents) this episode: 0.0\n",
      "t_step: 5 \t, sample_time: 0.004 \tupdate_time: 0.004 \tlearn_time: 0.014 \tsum: 652.500 \tsize: 31332                        "
     ]
    },
    {
     "name": "stderr",
     "output_type": "stream",
     "text": [
      "training loop:  49% |####################                      | ETA:   0:36:03\n"
     ]
    },
    {
     "name": "stdout",
     "output_type": "stream",
     "text": [
      "t_step: 10 \t, sample_time: 0.002 \tupdate_time: 0.006 \tlearn_time: 0.025 \tsum: 648.193 \tsize: 31342                        \n",
      "Episode 736\tTotal score (max over agents) this episode: 0.0\n",
      "t_step: 30 \t, sample_time: 0.002 \tupdate_time: 0.005 \tlearn_time: 0.014 \tsum: 650.635 \tsize: 31409                        "
     ]
    },
    {
     "name": "stderr",
     "output_type": "stream",
     "text": [
      "training loop:  49% |####################                      | ETA:   0:36:01\n"
     ]
    },
    {
     "name": "stdout",
     "output_type": "stream",
     "text": [
      "t_step: 30 \t, sample_time: 0.014 \tupdate_time: 0.005 \tlearn_time: 0.070 \tsum: 648.367 \tsize: 31410                        \n",
      "Episode 737\tTotal score (max over agents) this episode: 0.10000000149011612\n",
      "t_step: 130 \t, sample_time: 0.003 \tupdate_time: 0.005 \tlearn_time: 0.013 \tsum: 660.610 \tsize: 31675                        "
     ]
    },
    {
     "name": "stderr",
     "output_type": "stream",
     "text": [
      "training loop:  49% |####################                      | ETA:   0:36:11\n"
     ]
    },
    {
     "name": "stdout",
     "output_type": "stream",
     "text": [
      "t_step: 130 \t, sample_time: 0.006 \tupdate_time: 0.004 \tlearn_time: 0.050 \tsum: 655.087 \tsize: 31676                        \n",
      "Episode 738\tTotal score (max over agents) this episode: 0.30000000447034836\n",
      "t_step: 10 \t, sample_time: 0.003 \tupdate_time: 0.006 \tlearn_time: 0.021 \tsum: 653.430 \tsize: 31702                        "
     ]
    },
    {
     "name": "stderr",
     "output_type": "stream",
     "text": [
      "training loop:  49% |####################                      | ETA:   0:36:07\n"
     ]
    },
    {
     "name": "stdout",
     "output_type": "stream",
     "text": [
      "\n",
      "Episode 739\tTotal score (max over agents) this episode: 0.0\n",
      "t_step: 30 \t, sample_time: 0.002 \tupdate_time: 0.004 \tlearn_time: 0.016 \tsum: 656.911 \tsize: 31769                        "
     ]
    },
    {
     "name": "stderr",
     "output_type": "stream",
     "text": [
      "training loop:  49% |####################                      | ETA:   0:36:06\n"
     ]
    },
    {
     "name": "stdout",
     "output_type": "stream",
     "text": [
      "t_step: 30 \t, sample_time: 0.002 \tupdate_time: 0.006 \tlearn_time: 0.030 \tsum: 653.582 \tsize: 31770                        \n",
      "Episode 740\tTotal score (max over agents) this episode: 0.10000000149011612\n",
      "t_step: 140 \t, sample_time: 0.006 \tupdate_time: 0.005 \tlearn_time: 0.013 \tsum: 650.709 \tsize: 32057                        "
     ]
    },
    {
     "name": "stderr",
     "output_type": "stream",
     "text": [
      "training loop:  49% |####################                      | ETA:   0:36:16\n"
     ]
    },
    {
     "name": "stdout",
     "output_type": "stream",
     "text": [
      "t_step: 140 \t, sample_time: 0.002 \tupdate_time: 0.005 \tlearn_time: 0.130 \tsum: 647.626 \tsize: 32058                        \n",
      "Episode 741\tTotal score (max over agents) this episode: 0.30000000447034836\n",
      "t_step: 30 \t, sample_time: 0.005 \tupdate_time: 0.003 \tlearn_time: 0.037 \tsum: 653.828 \tsize: 32119                        "
     ]
    },
    {
     "name": "stderr",
     "output_type": "stream",
     "text": [
      "training loop:  49% |####################                      | ETA:   0:36:14\n"
     ]
    },
    {
     "name": "stdout",
     "output_type": "stream",
     "text": [
      "t_step: 30 \t, sample_time: 0.004 \tupdate_time: 0.006 \tlearn_time: 0.025 \tsum: 649.531 \tsize: 32120                        \n",
      "Episode 742\tTotal score (max over agents) this episode: 0.0\n",
      "t_step: 40 \t, sample_time: 0.002 \tupdate_time: 0.005 \tlearn_time: 0.014 \tsum: 652.082 \tsize: 32207                        "
     ]
    },
    {
     "name": "stderr",
     "output_type": "stream",
     "text": [
      "training loop:  49% |####################                      | ETA:   0:36:14\n"
     ]
    },
    {
     "name": "stdout",
     "output_type": "stream",
     "text": [
      "t_step: 40 \t, sample_time: 0.002 \tupdate_time: 0.008 \tlearn_time: 0.027 \tsum: 646.350 \tsize: 32208                        \n",
      "Episode 743\tTotal score (max over agents) this episode: 0.10000000149011612\n",
      "t_step: 30 \t, sample_time: 0.002 \tupdate_time: 0.004 \tlearn_time: 0.011 \tsum: 647.694 \tsize: 32278                        "
     ]
    },
    {
     "name": "stderr",
     "output_type": "stream",
     "text": [
      "training loop:  49% |####################                      | ETA:   0:36:14\n"
     ]
    },
    {
     "name": "stdout",
     "output_type": "stream",
     "text": [
      "\n",
      "Episode 744\tTotal score (max over agents) this episode: 0.10000000149011612\n",
      "t_step: 50 \t, sample_time: 0.003 \tupdate_time: 0.004 \tlearn_time: 0.014 \tsum: 654.634 \tsize: 32383                        "
     ]
    },
    {
     "name": "stderr",
     "output_type": "stream",
     "text": [
      "training loop:  49% |####################                      | ETA:   0:36:15\n"
     ]
    },
    {
     "name": "stdout",
     "output_type": "stream",
     "text": [
      "t_step: 50 \t, sample_time: 0.002 \tupdate_time: 0.006 \tlearn_time: 0.021 \tsum: 654.294 \tsize: 32384                        \n",
      "Episode 745\tTotal score (max over agents) this episode: 0.10000000149011612\n",
      "t_step: 30 \t, sample_time: 0.002 \tupdate_time: 0.004 \tlearn_time: 0.010 \tsum: 654.260 \tsize: 32451                        "
     ]
    },
    {
     "name": "stderr",
     "output_type": "stream",
     "text": [
      "training loop:  49% |####################                      | ETA:   0:36:14\n"
     ]
    },
    {
     "name": "stdout",
     "output_type": "stream",
     "text": [
      "t_step: 30 \t, sample_time: 0.002 \tupdate_time: 0.006 \tlearn_time: 0.017 \tsum: 650.522 \tsize: 32452                        \n",
      "Episode 746\tTotal score (max over agents) this episode: 0.10000000149011612\n",
      "t_step: 50 \t, sample_time: 0.002 \tupdate_time: 0.004 \tlearn_time: 0.011 \tsum: 656.289 \tsize: 32557                        "
     ]
    },
    {
     "name": "stderr",
     "output_type": "stream",
     "text": [
      "training loop:  49% |####################                      | ETA:   0:36:15\n"
     ]
    },
    {
     "name": "stdout",
     "output_type": "stream",
     "text": [
      "t_step: 50 \t, sample_time: 0.002 \tupdate_time: 0.005 \tlearn_time: 0.037 \tsum: 647.956 \tsize: 32558                        \n",
      "Episode 747\tTotal score (max over agents) this episode: 0.10000000149011612\n",
      "t_step: 25 \t, sample_time: 0.003 \tupdate_time: 0.004 \tlearn_time: 0.012 \tsum: 657.232 \tsize: 32611                        "
     ]
    },
    {
     "name": "stderr",
     "output_type": "stream",
     "text": [
      "training loop:  49% |####################                      | ETA:   0:36:12\n"
     ]
    },
    {
     "name": "stdout",
     "output_type": "stream",
     "text": [
      "t_step: 25 \t, sample_time: 0.004 \tupdate_time: 0.004 \tlearn_time: 0.011 \tsum: 648.364 \tsize: 32612                        \n",
      "Episode 748\tTotal score (max over agents) this episode: 0.10000000149011612\n",
      "t_step: 30 \t, sample_time: 0.002 \tupdate_time: 0.005 \tlearn_time: 0.012 \tsum: 650.346 \tsize: 32679                        "
     ]
    },
    {
     "name": "stderr",
     "output_type": "stream",
     "text": [
      "training loop:  49% |####################                      | ETA:   0:36:11\n"
     ]
    },
    {
     "name": "stdout",
     "output_type": "stream",
     "text": [
      "t_step: 30 \t, sample_time: 0.003 \tupdate_time: 0.008 \tlearn_time: 0.020 \tsum: 644.477 \tsize: 32680                        \n",
      "Episode 749\tTotal score (max over agents) this episode: 0.10000000149011612\n",
      "t_step: 50 \t, sample_time: 0.003 \tupdate_time: 0.006 \tlearn_time: 0.045 \tsum: 652.580 \tsize: 32789                        "
     ]
    },
    {
     "name": "stderr",
     "output_type": "stream",
     "text": [
      "training loop:  50% |#####################                     | ETA:   0:36:11\n"
     ]
    },
    {
     "name": "stdout",
     "output_type": "stream",
     "text": [
      "t_step: 50 \t, sample_time: 0.002 \tupdate_time: 0.005 \tlearn_time: 0.022 \tsum: 649.387 \tsize: 32790                        \n",
      "Episode 750\tTotal score (max over agents) this episode: 0.10000000149011612\n",
      "t_step: 10 \t, sample_time: 0.002 \tupdate_time: 0.005 \tlearn_time: 0.034 \tsum: 655.175 \tsize: 32811                        "
     ]
    },
    {
     "name": "stderr",
     "output_type": "stream",
     "text": [
      "training loop:  50% |#####################                     | ETA:   0:36:08\n"
     ]
    },
    {
     "name": "stdout",
     "output_type": "stream",
     "text": [
      "t_step: 10 \t, sample_time: 0.003 \tupdate_time: 0.004 \tlearn_time: 0.020 \tsum: 651.253 \tsize: 32812                        \n",
      "Episode 751\tTotal score (max over agents) this episode: 0.0\n",
      "t_step: 25 \t, sample_time: 0.003 \tupdate_time: 0.004 \tlearn_time: 0.013 \tsum: 652.214 \tsize: 32869                        "
     ]
    },
    {
     "name": "stderr",
     "output_type": "stream",
     "text": [
      "training loop:  50% |#####################                     | ETA:   0:36:05\n"
     ]
    },
    {
     "name": "stdout",
     "output_type": "stream",
     "text": [
      "t_step: 25 \t, sample_time: 0.006 \tupdate_time: 0.007 \tlearn_time: 0.029 \tsum: 647.641 \tsize: 32870                        \n",
      "Episode 752\tTotal score (max over agents) this episode: 0.10000000149011612\n",
      "t_step: 50 \t, sample_time: 0.002 \tupdate_time: 0.003 \tlearn_time: 0.012 \tsum: 656.683 \tsize: 32979                        "
     ]
    },
    {
     "name": "stderr",
     "output_type": "stream",
     "text": [
      "training loop:  50% |#####################                     | ETA:   0:36:05\n"
     ]
    },
    {
     "name": "stdout",
     "output_type": "stream",
     "text": [
      "t_step: 50 \t, sample_time: 0.002 \tupdate_time: 0.006 \tlearn_time: 0.012 \tsum: 651.835 \tsize: 32980                        \n",
      "Episode 753\tTotal score (max over agents) this episode: 0.10000000149011612\n",
      "t_step: 55 \t, sample_time: 0.002 \tupdate_time: 0.006 \tlearn_time: 0.015 \tsum: 654.672 \tsize: 33099                        "
     ]
    },
    {
     "name": "stderr",
     "output_type": "stream",
     "text": [
      "training loop:  50% |#####################                     | ETA:   0:36:06\n"
     ]
    },
    {
     "name": "stdout",
     "output_type": "stream",
     "text": [
      "t_step: 55 \t, sample_time: 0.003 \tupdate_time: 0.010 \tlearn_time: 0.020 \tsum: 647.406 \tsize: 33100                        \n",
      "Episode 754\tTotal score (max over agents) this episode: 0.10000000149011612\n",
      "t_step: 80 \t, sample_time: 0.004 \tupdate_time: 0.004 \tlearn_time: 0.013 \tsum: 659.529 \tsize: 33261                        "
     ]
    },
    {
     "name": "stderr",
     "output_type": "stream",
     "text": [
      "training loop:  50% |#####################                     | ETA:   0:36:09\n"
     ]
    },
    {
     "name": "stdout",
     "output_type": "stream",
     "text": [
      "t_step: 80 \t, sample_time: 0.003 \tupdate_time: 0.006 \tlearn_time: 0.013 \tsum: 650.797 \tsize: 33262                        \n",
      "Episode 755\tTotal score (max over agents) this episode: 0.20000000298023224\n",
      "t_step: 85 \t, sample_time: 0.002 \tupdate_time: 0.005 \tlearn_time: 0.011 \tsum: 652.771 \tsize: 33438                        "
     ]
    },
    {
     "name": "stderr",
     "output_type": "stream",
     "text": [
      "training loop:  50% |#####################                     | ETA:   0:36:15\n"
     ]
    },
    {
     "name": "stdout",
     "output_type": "stream",
     "text": [
      "\n",
      "Episode 756\tTotal score (max over agents) this episode: 0.20000000298023224\n",
      "t_step: 50 \t, sample_time: 0.011 \tupdate_time: 0.005 \tlearn_time: 0.031 \tsum: 654.103 \tsize: 33547                        "
     ]
    },
    {
     "name": "stderr",
     "output_type": "stream",
     "text": [
      "training loop:  50% |#####################                     | ETA:   0:36:15\n"
     ]
    },
    {
     "name": "stdout",
     "output_type": "stream",
     "text": [
      "t_step: 50 \t, sample_time: 0.004 \tupdate_time: 0.006 \tlearn_time: 0.070 \tsum: 654.318 \tsize: 33548                        \n",
      "Episode 757\tTotal score (max over agents) this episode: 0.10000000149011612\n",
      "t_step: 45 \t, sample_time: 0.003 \tupdate_time: 0.004 \tlearn_time: 0.070 \tsum: 654.872 \tsize: 33646                        "
     ]
    },
    {
     "name": "stderr",
     "output_type": "stream",
     "text": [
      "training loop:  50% |#####################                     | ETA:   0:36:15\n"
     ]
    },
    {
     "name": "stdout",
     "output_type": "stream",
     "text": [
      "t_step: 50 \t, sample_time: 0.003 \tupdate_time: 0.009 \tlearn_time: 0.018 \tsum: 655.663 \tsize: 33656                        \n",
      "Episode 758\tTotal score (max over agents) this episode: 0.10000000149011612\n",
      "t_step: 75 \t, sample_time: 0.002 \tupdate_time: 0.004 \tlearn_time: 0.010 \tsum: 658.023 \tsize: 33811                        "
     ]
    },
    {
     "name": "stderr",
     "output_type": "stream",
     "text": [
      "training loop:  50% |#####################                     | ETA:   0:36:19\n"
     ]
    },
    {
     "name": "stdout",
     "output_type": "stream",
     "text": [
      "t_step: 75 \t, sample_time: 0.002 \tupdate_time: 0.005 \tlearn_time: 0.013 \tsum: 656.869 \tsize: 33812                        \n",
      "Episode 759\tTotal score (max over agents) this episode: 0.20000000298023224\n",
      "t_step: 90 \t, sample_time: 0.002 \tupdate_time: 0.005 \tlearn_time: 0.029 \tsum: 660.871 \tsize: 33999                        "
     ]
    },
    {
     "name": "stderr",
     "output_type": "stream",
     "text": [
      "training loop:  50% |#####################                     | ETA:   0:36:26\n"
     ]
    },
    {
     "name": "stdout",
     "output_type": "stream",
     "text": [
      "t_step: 90 \t, sample_time: 0.005 \tupdate_time: 0.005 \tlearn_time: 0.073 \tsum: 654.878 \tsize: 34000                        \n",
      "Episode 760\tTotal score (max over agents) this episode: 0.20000000298023224\n",
      "t_step: 90 \t, sample_time: 0.003 \tupdate_time: 0.004 \tlearn_time: 0.011 \tsum: 666.920 \tsize: 34181                        "
     ]
    },
    {
     "name": "stderr",
     "output_type": "stream",
     "text": [
      "training loop:  50% |#####################                     | ETA:   0:36:33\n"
     ]
    },
    {
     "name": "stdout",
     "output_type": "stream",
     "text": [
      "t_step: 90 \t, sample_time: 0.002 \tupdate_time: 0.006 \tlearn_time: 0.013 \tsum: 656.594 \tsize: 34182                        \n",
      "Episode 761\tTotal score (max over agents) this episode: 0.20000000298023224\n",
      "t_step: 80 \t, sample_time: 0.003 \tupdate_time: 0.005 \tlearn_time: 0.038 \tsum: 656.775 \tsize: 34345                                                "
     ]
    },
    {
     "name": "stderr",
     "output_type": "stream",
     "text": [
      "training loop:  50% |#####################                     | ETA:   0:36:38\n"
     ]
    },
    {
     "name": "stdout",
     "output_type": "stream",
     "text": [
      "t_step: 80 \t, sample_time: 0.004 \tupdate_time: 0.006 \tlearn_time: 0.078 \tsum: 657.085 \tsize: 34346                        \n",
      "Episode 762\tTotal score (max over agents) this episode: 0.20000000298023224\n",
      "t_step: 90 \t, sample_time: 0.003 \tupdate_time: 0.004 \tlearn_time: 0.015 \tsum: 653.189 \tsize: 34527                        "
     ]
    },
    {
     "name": "stderr",
     "output_type": "stream",
     "text": [
      "training loop:  50% |#####################                     | ETA:   0:36:46\n"
     ]
    },
    {
     "name": "stdout",
     "output_type": "stream",
     "text": [
      "t_step: 90 \t, sample_time: 0.002 \tupdate_time: 0.006 \tlearn_time: 0.038 \tsum: 652.157 \tsize: 34528                        \n",
      "Episode 763\tTotal score (max over agents) this episode: 0.20000000298023224\n",
      "t_step: 145 \t, sample_time: 0.002 \tupdate_time: 0.006 \tlearn_time: 0.015 \tsum: 667.115 \tsize: 34821                        "
     ]
    },
    {
     "name": "stderr",
     "output_type": "stream",
     "text": [
      "training loop:  50% |#####################                     | ETA:   0:37:02\n"
     ]
    },
    {
     "name": "stdout",
     "output_type": "stream",
     "text": [
      "t_step: 145 \t, sample_time: 0.002 \tupdate_time: 0.005 \tlearn_time: 0.016 \tsum: 666.179 \tsize: 34822                        \n",
      "Episode 764\tTotal score (max over agents) this episode: 0.4000000059604645\n",
      "t_step: 55 \t, sample_time: 0.004 \tupdate_time: 0.014 \tlearn_time: 0.060 \tsum: 661.173 \tsize: 34937                        "
     ]
    },
    {
     "name": "stderr",
     "output_type": "stream",
     "text": [
      "training loop:  51% |#####################                     | ETA:   0:37:03\n"
     ]
    },
    {
     "name": "stdout",
     "output_type": "stream",
     "text": [
      "t_step: 55 \t, sample_time: 0.003 \tupdate_time: 0.006 \tlearn_time: 0.020 \tsum: 661.431 \tsize: 34938                        \n",
      "Episode 765\tTotal score (max over agents) this episode: 0.10000000149011612\n",
      "t_step: 90 \t, sample_time: 0.002 \tupdate_time: 0.015 \tlearn_time: 0.060 \tsum: 668.072 \tsize: 35119                        "
     ]
    },
    {
     "name": "stderr",
     "output_type": "stream",
     "text": [
      "training loop:  51% |#####################                     | ETA:   0:37:08\n"
     ]
    },
    {
     "name": "stdout",
     "output_type": "stream",
     "text": [
      "t_step: 90 \t, sample_time: 0.003 \tupdate_time: 0.004 \tlearn_time: 0.014 \tsum: 663.273 \tsize: 35120                        \n",
      "Episode 766\tTotal score (max over agents) this episode: 0.20000000298023224\n",
      "t_step: 105 \t, sample_time: 0.003 \tupdate_time: 0.005 \tlearn_time: 0.012 \tsum: 667.495 \tsize: 35333                        "
     ]
    },
    {
     "name": "stderr",
     "output_type": "stream",
     "text": [
      "training loop:  51% |#####################                     | ETA:   0:37:14\n"
     ]
    },
    {
     "name": "stdout",
     "output_type": "stream",
     "text": [
      "t_step: 105 \t, sample_time: 0.003 \tupdate_time: 0.006 \tlearn_time: 0.012 \tsum: 661.990 \tsize: 35334                        \n",
      "Episode 767\tTotal score (max over agents) this episode: 0.20000000298023224\n",
      "t_step: 215 \t, sample_time: 0.002 \tupdate_time: 0.003 \tlearn_time: 0.012 \tsum: 661.882 \tsize: 35765                                               "
     ]
    },
    {
     "name": "stderr",
     "output_type": "stream",
     "text": [
      "training loop:  51% |#####################                     | ETA:   0:37:32\n"
     ]
    },
    {
     "name": "stdout",
     "output_type": "stream",
     "text": [
      "t_step: 215 \t, sample_time: 0.002 \tupdate_time: 0.013 \tlearn_time: 0.036 \tsum: 664.244 \tsize: 35766                        \n",
      "Episode 768\tTotal score (max over agents) this episode: 0.5000000074505806\n",
      "\n",
      "Environment improved in 768 episodes!\tAverage Score: 0.08\n",
      "t_step: 70 \t, sample_time: 0.006 \tupdate_time: 0.007 \tlearn_time: 0.028 \tsum: 673.493 \tsize: 35915                        "
     ]
    },
    {
     "name": "stderr",
     "output_type": "stream",
     "text": [
      "training loop:  51% |#####################                     | ETA:   0:37:34\n"
     ]
    },
    {
     "name": "stdout",
     "output_type": "stream",
     "text": [
      "t_step: 70 \t, sample_time: 0.003 \tupdate_time: 0.007 \tlearn_time: 0.061 \tsum: 671.465 \tsize: 35916                        \n",
      "Episode 769\tTotal score (max over agents) this episode: 0.20000000298023224\n",
      "t_step: 30 \t, sample_time: 0.002 \tupdate_time: 0.007 \tlearn_time: 0.017 \tsum: 670.679 \tsize: 35983                        "
     ]
    },
    {
     "name": "stderr",
     "output_type": "stream",
     "text": [
      "training loop:  51% |#####################                     | ETA:   0:37:32\n"
     ]
    },
    {
     "name": "stdout",
     "output_type": "stream",
     "text": [
      "t_step: 30 \t, sample_time: 0.003 \tupdate_time: 0.005 \tlearn_time: 0.017 \tsum: 666.021 \tsize: 35984                        \n",
      "Episode 770\tTotal score (max over agents) this episode: 0.10000000149011612\n",
      "t_step: 30 \t, sample_time: 0.003 \tupdate_time: 0.006 \tlearn_time: 0.016 \tsum: 669.172 \tsize: 36049                        "
     ]
    },
    {
     "name": "stderr",
     "output_type": "stream",
     "text": [
      "training loop:  51% |#####################                     | ETA:   0:37:30\n"
     ]
    },
    {
     "name": "stdout",
     "output_type": "stream",
     "text": [
      "t_step: 30 \t, sample_time: 0.002 \tupdate_time: 0.003 \tlearn_time: 0.014 \tsum: 664.576 \tsize: 36050                        \n",
      "Episode 771\tTotal score (max over agents) this episode: 0.10000000149011612\n",
      "t_step: 30 \t, sample_time: 0.004 \tupdate_time: 0.005 \tlearn_time: 0.017 \tsum: 662.999 \tsize: 36116                        "
     ]
    },
    {
     "name": "stderr",
     "output_type": "stream",
     "text": [
      "training loop:  51% |#####################                     | ETA:   0:37:27\n"
     ]
    },
    {
     "name": "stdout",
     "output_type": "stream",
     "text": [
      "\n",
      "Episode 772\tTotal score (max over agents) this episode: 0.09000000171363354\n",
      "t_step: 25 \t, sample_time: 0.002 \tupdate_time: 0.004 \tlearn_time: 0.015 \tsum: 663.631 \tsize: 36170                        "
     ]
    },
    {
     "name": "stderr",
     "output_type": "stream",
     "text": [
      "training loop:  51% |#####################                     | ETA:   0:37:26\n"
     ]
    },
    {
     "name": "stdout",
     "output_type": "stream",
     "text": [
      "t_step: 30 \t, sample_time: 0.002 \tupdate_time: 0.004 \tlearn_time: 0.011 \tsum: 660.467 \tsize: 36180                        \n",
      "Episode 773\tTotal score (max over agents) this episode: 0.10000000149011612\n",
      "t_step: 30 \t, sample_time: 0.002 \tupdate_time: 0.003 \tlearn_time: 0.021 \tsum: 663.995 \tsize: 36247                        "
     ]
    },
    {
     "name": "stderr",
     "output_type": "stream",
     "text": [
      "training loop:  51% |#####################                     | ETA:   0:37:24\n"
     ]
    },
    {
     "name": "stdout",
     "output_type": "stream",
     "text": [
      "t_step: 30 \t, sample_time: 0.002 \tupdate_time: 0.005 \tlearn_time: 0.017 \tsum: 658.648 \tsize: 36248                        \n",
      "Episode 774\tTotal score (max over agents) this episode: 0.09000000171363354\n",
      "t_step: 25 \t, sample_time: 0.004 \tupdate_time: 0.004 \tlearn_time: 0.023 \tsum: 675.237 \tsize: 36301                        "
     ]
    },
    {
     "name": "stderr",
     "output_type": "stream",
     "text": [
      "training loop:  51% |#####################                     | ETA:   0:37:22\n"
     ]
    },
    {
     "name": "stdout",
     "output_type": "stream",
     "text": [
      "t_step: 25 \t, sample_time: 0.002 \tupdate_time: 0.003 \tlearn_time: 0.012 \tsum: 669.368 \tsize: 36302                        \n",
      "Episode 775\tTotal score (max over agents) this episode: 0.10000000149011612\n",
      "t_step: 25 \t, sample_time: 0.004 \tupdate_time: 0.008 \tlearn_time: 0.025 \tsum: 667.198 \tsize: 36362                        "
     ]
    },
    {
     "name": "stderr",
     "output_type": "stream",
     "text": [
      "training loop:  51% |#####################                     | ETA:   0:37:19\n"
     ]
    },
    {
     "name": "stdout",
     "output_type": "stream",
     "text": [
      "t_step: 30 \t, sample_time: 0.002 \tupdate_time: 0.005 \tlearn_time: 0.020 \tsum: 667.487 \tsize: 36372                        \n",
      "Episode 776\tTotal score (max over agents) this episode: 0.09000000171363354\n",
      "t_step: 25 \t, sample_time: 0.003 \tupdate_time: 0.007 \tlearn_time: 0.019 \tsum: 666.173 \tsize: 36425                        "
     ]
    },
    {
     "name": "stderr",
     "output_type": "stream",
     "text": [
      "training loop:  51% |#####################                     | ETA:   0:37:17\n"
     ]
    },
    {
     "name": "stdout",
     "output_type": "stream",
     "text": [
      "t_step: 25 \t, sample_time: 0.002 \tupdate_time: 0.004 \tlearn_time: 0.018 \tsum: 666.867 \tsize: 36426                        \n",
      "Episode 777\tTotal score (max over agents) this episode: 0.09000000171363354\n",
      "t_step: 30 \t, sample_time: 0.002 \tupdate_time: 0.003 \tlearn_time: 0.018 \tsum: 676.879 \tsize: 36493                        "
     ]
    },
    {
     "name": "stderr",
     "output_type": "stream",
     "text": [
      "training loop:  51% |#####################                     | ETA:   0:37:14\n"
     ]
    },
    {
     "name": "stdout",
     "output_type": "stream",
     "text": [
      "t_step: 30 \t, sample_time: 0.002 \tupdate_time: 0.003 \tlearn_time: 0.038 \tsum: 672.322 \tsize: 36494                        \n",
      "Episode 778\tTotal score (max over agents) this episode: 0.10000000149011612\n",
      "t_step: 30 \t, sample_time: 0.003 \tupdate_time: 0.005 \tlearn_time: 0.032 \tsum: 672.429 \tsize: 36555                        "
     ]
    },
    {
     "name": "stderr",
     "output_type": "stream",
     "text": [
      "training loop:  51% |#####################                     | ETA:   0:37:12\n"
     ]
    },
    {
     "name": "stdout",
     "output_type": "stream",
     "text": [
      "t_step: 30 \t, sample_time: 0.002 \tupdate_time: 0.004 \tlearn_time: 0.031 \tsum: 672.985 \tsize: 36556                        \n",
      "Episode 779\tTotal score (max over agents) this episode: 0.10000000149011612\n",
      "t_step: 30 \t, sample_time: 0.002 \tupdate_time: 0.003 \tlearn_time: 0.015 \tsum: 679.312 \tsize: 36621                        "
     ]
    },
    {
     "name": "stderr",
     "output_type": "stream",
     "text": [
      "training loop:  52% |#####################                     | ETA:   0:37:10\n"
     ]
    },
    {
     "name": "stdout",
     "output_type": "stream",
     "text": [
      "t_step: 30 \t, sample_time: 0.002 \tupdate_time: 0.003 \tlearn_time: 0.008 \tsum: 674.347 \tsize: 36622                        \n",
      "Episode 780\tTotal score (max over agents) this episode: 0.10000000149011612\n",
      "t_step: 30 \t, sample_time: 0.002 \tupdate_time: 0.006 \tlearn_time: 0.026 \tsum: 679.580 \tsize: 36685                        "
     ]
    },
    {
     "name": "stderr",
     "output_type": "stream",
     "text": [
      "training loop:  52% |#####################                     | ETA:   0:37:08\n"
     ]
    },
    {
     "name": "stdout",
     "output_type": "stream",
     "text": [
      "t_step: 30 \t, sample_time: 0.002 \tupdate_time: 0.004 \tlearn_time: 0.023 \tsum: 672.241 \tsize: 36686                        \n",
      "Episode 781\tTotal score (max over agents) this episode: 0.10000000149011612\n",
      "t_step: 25 \t, sample_time: 0.009 \tupdate_time: 0.006 \tlearn_time: 0.034 \tsum: 678.615 \tsize: 36739                        "
     ]
    },
    {
     "name": "stderr",
     "output_type": "stream",
     "text": [
      "training loop:  52% |#####################                     | ETA:   0:37:06\n"
     ]
    },
    {
     "name": "stdout",
     "output_type": "stream",
     "text": [
      "t_step: 25 \t, sample_time: 0.003 \tupdate_time: 0.006 \tlearn_time: 0.067 \tsum: 675.673 \tsize: 36740                        \n",
      "Episode 782\tTotal score (max over agents) this episode: 0.10000000149011612\n",
      "t_step: 25 \t, sample_time: 0.005 \tupdate_time: 0.003 \tlearn_time: 0.015 \tsum: 682.797 \tsize: 36799                        "
     ]
    },
    {
     "name": "stderr",
     "output_type": "stream",
     "text": [
      "training loop:  52% |#####################                     | ETA:   0:37:03\n"
     ]
    },
    {
     "name": "stdout",
     "output_type": "stream",
     "text": [
      "t_step: 25 \t, sample_time: 0.003 \tupdate_time: 0.004 \tlearn_time: 0.015 \tsum: 676.544 \tsize: 36800                        \n",
      "Episode 783\tTotal score (max over agents) this episode: 0.10000000149011612\n",
      "t_step: 25 \t, sample_time: 0.004 \tupdate_time: 0.007 \tlearn_time: 0.024 \tsum: 685.439 \tsize: 36859                        "
     ]
    },
    {
     "name": "stderr",
     "output_type": "stream",
     "text": [
      "training loop:  52% |#####################                     | ETA:   0:37:01\n"
     ]
    },
    {
     "name": "stdout",
     "output_type": "stream",
     "text": [
      "t_step: 25 \t, sample_time: 0.005 \tupdate_time: 0.007 \tlearn_time: 0.024 \tsum: 681.007 \tsize: 36860                        \n",
      "Episode 784\tTotal score (max over agents) this episode: 0.10000000149011612\n",
      "t_step: 25 \t, sample_time: 0.002 \tupdate_time: 0.003 \tlearn_time: 0.017 \tsum: 682.883 \tsize: 36919                        "
     ]
    },
    {
     "name": "stderr",
     "output_type": "stream",
     "text": [
      "training loop:  52% |#####################                     | ETA:   0:36:58\n"
     ]
    },
    {
     "name": "stdout",
     "output_type": "stream",
     "text": [
      "t_step: 25 \t, sample_time: 0.003 \tupdate_time: 0.007 \tlearn_time: 0.024 \tsum: 680.062 \tsize: 36920                        \n",
      "Episode 785\tTotal score (max over agents) this episode: 0.0\n",
      "t_step: 30 \t, sample_time: 0.002 \tupdate_time: 0.006 \tlearn_time: 0.020 \tsum: 694.349 \tsize: 36985                        "
     ]
    },
    {
     "name": "stderr",
     "output_type": "stream",
     "text": [
      "training loop:  52% |######################                    | ETA:   0:36:56\n"
     ]
    },
    {
     "name": "stdout",
     "output_type": "stream",
     "text": [
      "t_step: 30 \t, sample_time: 0.002 \tupdate_time: 0.005 \tlearn_time: 0.015 \tsum: 687.724 \tsize: 36986                        \n",
      "Episode 786\tTotal score (max over agents) this episode: 0.09000000171363354\n",
      "t_step: 25 \t, sample_time: 0.003 \tupdate_time: 0.004 \tlearn_time: 0.021 \tsum: 686.542 \tsize: 37037                        "
     ]
    },
    {
     "name": "stderr",
     "output_type": "stream",
     "text": [
      "training loop:  52% |######################                    | ETA:   0:36:53\n"
     ]
    },
    {
     "name": "stdout",
     "output_type": "stream",
     "text": [
      "t_step: 25 \t, sample_time: 0.003 \tupdate_time: 0.011 \tlearn_time: 0.026 \tsum: 684.251 \tsize: 37038                        \n",
      "Episode 787\tTotal score (max over agents) this episode: 0.09000000171363354\n",
      "t_step: 25 \t, sample_time: 0.004 \tupdate_time: 0.005 \tlearn_time: 0.014 \tsum: 691.146 \tsize: 37097                        "
     ]
    },
    {
     "name": "stderr",
     "output_type": "stream",
     "text": [
      "training loop:  52% |######################                    | ETA:   0:36:51\n"
     ]
    },
    {
     "name": "stdout",
     "output_type": "stream",
     "text": [
      "t_step: 25 \t, sample_time: 0.003 \tupdate_time: 0.005 \tlearn_time: 0.014 \tsum: 691.674 \tsize: 37098                        \n",
      "Episode 788\tTotal score (max over agents) this episode: 0.10000000149011612\n",
      "t_step: 10 \t, sample_time: 0.002 \tupdate_time: 0.006 \tlearn_time: 0.012 \tsum: 683.012 \tsize: 37128                        "
     ]
    },
    {
     "name": "stderr",
     "output_type": "stream",
     "text": [
      "training loop:  52% |######################                    | ETA:   0:36:48\n"
     ]
    },
    {
     "name": "stdout",
     "output_type": "stream",
     "text": [
      "t_step: 15 \t, sample_time: 0.002 \tupdate_time: 0.005 \tlearn_time: 0.018 \tsum: 685.361 \tsize: 37138                        \n",
      "Episode 789\tTotal score (max over agents) this episode: 0.0\n",
      "t_step: 25 \t, sample_time: 0.002 \tupdate_time: 0.005 \tlearn_time: 0.017 \tsum: 694.765 \tsize: 37189                        "
     ]
    },
    {
     "name": "stderr",
     "output_type": "stream",
     "text": [
      "training loop:  52% |######################                    | ETA:   0:36:46\n"
     ]
    },
    {
     "name": "stdout",
     "output_type": "stream",
     "text": [
      "t_step: 25 \t, sample_time: 0.003 \tupdate_time: 0.006 \tlearn_time: 0.017 \tsum: 688.542 \tsize: 37190                        \n",
      "Episode 790\tTotal score (max over agents) this episode: 0.10000000149011612\n",
      "t_step: 5 \t, sample_time: 0.003 \tupdate_time: 0.005 \tlearn_time: 0.011 \tsum: 683.960 \tsize: 37210                        "
     ]
    },
    {
     "name": "stderr",
     "output_type": "stream",
     "text": [
      "training loop:  52% |######################                    | ETA:   0:36:41\n"
     ]
    },
    {
     "name": "stdout",
     "output_type": "stream",
     "text": [
      "t_step: 10 \t, sample_time: 0.002 \tupdate_time: 0.004 \tlearn_time: 0.014 \tsum: 684.794 \tsize: 37220                        \n",
      "Episode 791\tTotal score (max over agents) this episode: 0.0\n",
      "t_step: 25 \t, sample_time: 0.002 \tupdate_time: 0.005 \tlearn_time: 0.011 \tsum: 684.322 \tsize: 37278                        "
     ]
    },
    {
     "name": "stderr",
     "output_type": "stream",
     "text": [
      "training loop:  52% |######################                    | ETA:   0:36:39\n"
     ]
    },
    {
     "name": "stdout",
     "output_type": "stream",
     "text": [
      "t_step: 30 \t, sample_time: 0.003 \tupdate_time: 0.004 \tlearn_time: 0.016 \tsum: 683.903 \tsize: 37288                        \n",
      "Episode 792\tTotal score (max over agents) this episode: 0.10000000149011612\n",
      "t_step: 25 \t, sample_time: 0.002 \tupdate_time: 0.003 \tlearn_time: 0.014 \tsum: 690.983 \tsize: 37339                        "
     ]
    },
    {
     "name": "stderr",
     "output_type": "stream",
     "text": [
      "training loop:  52% |######################                    | ETA:   0:36:36\n"
     ]
    },
    {
     "name": "stdout",
     "output_type": "stream",
     "text": [
      "t_step: 25 \t, sample_time: 0.002 \tupdate_time: 0.003 \tlearn_time: 0.013 \tsum: 687.991 \tsize: 37340                        \n",
      "Episode 793\tTotal score (max over agents) this episode: 0.09000000171363354\n",
      "t_step: 25 \t, sample_time: 0.002 \tupdate_time: 0.007 \tlearn_time: 0.028 \tsum: 692.591 \tsize: 37397                        "
     ]
    },
    {
     "name": "stderr",
     "output_type": "stream",
     "text": [
      "training loop:  52% |######################                    | ETA:   0:36:34\n"
     ]
    },
    {
     "name": "stdout",
     "output_type": "stream",
     "text": [
      "t_step: 25 \t, sample_time: 0.002 \tupdate_time: 0.017 \tlearn_time: 0.036 \tsum: 687.976 \tsize: 37398                        \n",
      "Episode 794\tTotal score (max over agents) this episode: 0.09000000171363354\n",
      "t_step: 10 \t, sample_time: 0.005 \tupdate_time: 0.006 \tlearn_time: 0.058 \tsum: 691.452 \tsize: 37427                        "
     ]
    },
    {
     "name": "stderr",
     "output_type": "stream",
     "text": [
      "training loop:  53% |######################                    | ETA:   0:36:31\n"
     ]
    },
    {
     "name": "stdout",
     "output_type": "stream",
     "text": [
      "t_step: 10 \t, sample_time: 0.003 \tupdate_time: 0.004 \tlearn_time: 0.011 \tsum: 688.909 \tsize: 37428                        \n",
      "Episode 795\tTotal score (max over agents) this episode: 0.0\n",
      "t_step: 25 \t, sample_time: 0.002 \tupdate_time: 0.004 \tlearn_time: 0.018 \tsum: 693.353 \tsize: 37485                        "
     ]
    },
    {
     "name": "stderr",
     "output_type": "stream",
     "text": [
      "training loop:  53% |######################                    | ETA:   0:36:28\n"
     ]
    },
    {
     "name": "stdout",
     "output_type": "stream",
     "text": [
      "t_step: 25 \t, sample_time: 0.003 \tupdate_time: 0.004 \tlearn_time: 0.016 \tsum: 691.742 \tsize: 37486                        \n",
      "Episode 796\tTotal score (max over agents) this episode: 0.10000000149011612\n",
      "t_step: 20 \t, sample_time: 0.002 \tupdate_time: 0.003 \tlearn_time: 0.012 \tsum: 690.940 \tsize: 37534                        "
     ]
    },
    {
     "name": "stderr",
     "output_type": "stream",
     "text": [
      "training loop:  53% |######################                    | ETA:   0:36:25\n"
     ]
    },
    {
     "name": "stdout",
     "output_type": "stream",
     "text": [
      "t_step: 25 \t, sample_time: 0.002 \tupdate_time: 0.004 \tlearn_time: 0.016 \tsum: 688.539 \tsize: 37544                        \n",
      "Episode 797\tTotal score (max over agents) this episode: 0.10000000149011612\n",
      "t_step: 10 \t, sample_time: 0.005 \tupdate_time: 0.006 \tlearn_time: 0.015 \tsum: 689.374 \tsize: 37571                        "
     ]
    },
    {
     "name": "stderr",
     "output_type": "stream",
     "text": [
      "training loop:  53% |######################                    | ETA:   0:36:21\n"
     ]
    },
    {
     "name": "stdout",
     "output_type": "stream",
     "text": [
      "t_step: 10 \t, sample_time: 0.002 \tupdate_time: 0.005 \tlearn_time: 0.025 \tsum: 688.494 \tsize: 37572                        \n",
      "Episode 798\tTotal score (max over agents) this episode: 0.0\n",
      "t_step: 30 \t, sample_time: 0.002 \tupdate_time: 0.004 \tlearn_time: 0.012 \tsum: 699.021 \tsize: 37642                        \n",
      "Episode 799\tTotal score (max over agents) this episode: 0.10000000149011612\n"
     ]
    },
    {
     "name": "stderr",
     "output_type": "stream",
     "text": [
      "training loop:  53% |######################                    | ETA:   0:36:19\n"
     ]
    },
    {
     "name": "stdout",
     "output_type": "stream",
     "text": [
      "t_step: 30 \t, sample_time: 0.003 \tupdate_time: 0.005 \tlearn_time: 0.014 \tsum: 704.852 \tsize: 37703                        "
     ]
    },
    {
     "name": "stderr",
     "output_type": "stream",
     "text": [
      "training loop:  53% |######################                    | ETA:   0:36:16\n"
     ]
    },
    {
     "name": "stdout",
     "output_type": "stream",
     "text": [
      "t_step: 30 \t, sample_time: 0.002 \tupdate_time: 0.005 \tlearn_time: 0.017 \tsum: 704.963 \tsize: 37704                        \n",
      "Episode 800\tTotal score (max over agents) this episode: 0.10000000149011612\n",
      "t_step: 40 \t, sample_time: 0.002 \tupdate_time: 0.009 \tlearn_time: 0.034 \tsum: 710.447 \tsize: 37785                        "
     ]
    },
    {
     "name": "stderr",
     "output_type": "stream",
     "text": [
      "training loop:  53% |######################                    | ETA:   0:36:15\n"
     ]
    },
    {
     "name": "stdout",
     "output_type": "stream",
     "text": [
      "t_step: 40 \t, sample_time: 0.003 \tupdate_time: 0.004 \tlearn_time: 0.015 \tsum: 705.007 \tsize: 37786                        \n",
      "Episode 801\tTotal score (max over agents) this episode: 0.10000000149011612\n",
      "t_step: 10 \t, sample_time: 0.004 \tupdate_time: 0.005 \tlearn_time: 0.016 \tsum: 713.237 \tsize: 37811                        "
     ]
    },
    {
     "name": "stderr",
     "output_type": "stream",
     "text": [
      "training loop:  53% |######################                    | ETA:   0:36:11\n"
     ]
    },
    {
     "name": "stdout",
     "output_type": "stream",
     "text": [
      "t_step: 10 \t, sample_time: 0.003 \tupdate_time: 0.004 \tlearn_time: 0.015 \tsum: 714.456 \tsize: 37812                        \n",
      "Episode 802\tTotal score (max over agents) this episode: 0.0\n",
      "t_step: 25 \t, sample_time: 0.002 \tupdate_time: 0.004 \tlearn_time: 0.012 \tsum: 721.143 \tsize: 37871                        "
     ]
    },
    {
     "name": "stderr",
     "output_type": "stream",
     "text": [
      "training loop:  53% |######################                    | ETA:   0:36:08\n"
     ]
    },
    {
     "name": "stdout",
     "output_type": "stream",
     "text": [
      "t_step: 25 \t, sample_time: 0.002 \tupdate_time: 0.004 \tlearn_time: 0.013 \tsum: 714.850 \tsize: 37872                        \n",
      "Episode 803\tTotal score (max over agents) this episode: 0.10000000149011612\n",
      "t_step: 30 \t, sample_time: 0.002 \tupdate_time: 0.003 \tlearn_time: 0.016 \tsum: 718.924 \tsize: 37939                        "
     ]
    },
    {
     "name": "stderr",
     "output_type": "stream",
     "text": [
      "training loop:  53% |######################                    | ETA:   0:36:06\n"
     ]
    },
    {
     "name": "stdout",
     "output_type": "stream",
     "text": [
      "t_step: 30 \t, sample_time: 0.002 \tupdate_time: 0.006 \tlearn_time: 0.018 \tsum: 715.659 \tsize: 37940                        \n",
      "Episode 804\tTotal score (max over agents) this episode: 0.10000000149011612\n",
      "t_step: 25 \t, sample_time: 0.003 \tupdate_time: 0.005 \tlearn_time: 0.013 \tsum: 715.002 \tsize: 37993                        "
     ]
    },
    {
     "name": "stderr",
     "output_type": "stream",
     "text": [
      "training loop:  53% |######################                    | ETA:   0:36:04\n"
     ]
    },
    {
     "name": "stdout",
     "output_type": "stream",
     "text": [
      "t_step: 25 \t, sample_time: 0.002 \tupdate_time: 0.007 \tlearn_time: 0.034 \tsum: 708.722 \tsize: 37994                        \n",
      "Episode 805\tTotal score (max over agents) this episode: 0.0\n",
      "t_step: 60 \t, sample_time: 0.002 \tupdate_time: 0.006 \tlearn_time: 0.014 \tsum: 698.471 \tsize: 38118                        "
     ]
    },
    {
     "name": "stderr",
     "output_type": "stream",
     "text": [
      "training loop:  53% |######################                    | ETA:   0:36:05\n"
     ]
    },
    {
     "name": "stdout",
     "output_type": "stream",
     "text": [
      "t_step: 65 \t, sample_time: 0.002 \tupdate_time: 0.003 \tlearn_time: 0.013 \tsum: 702.020 \tsize: 38128                        \n",
      "Episode 806\tTotal score (max over agents) this episode: 0.19000000320374966\n",
      "t_step: 30 \t, sample_time: 0.002 \tupdate_time: 0.005 \tlearn_time: 0.011 \tsum: 703.737 \tsize: 38189                        "
     ]
    },
    {
     "name": "stderr",
     "output_type": "stream",
     "text": [
      "training loop:  53% |######################                    | ETA:   0:36:03\n"
     ]
    },
    {
     "name": "stdout",
     "output_type": "stream",
     "text": [
      "t_step: 30 \t, sample_time: 0.002 \tupdate_time: 0.007 \tlearn_time: 0.045 \tsum: 703.828 \tsize: 38190                        \n",
      "Episode 807\tTotal score (max over agents) this episode: 0.10000000149011612\n",
      "t_step: 30 \t, sample_time: 0.002 \tupdate_time: 0.005 \tlearn_time: 0.013 \tsum: 706.675 \tsize: 38252                        "
     ]
    },
    {
     "name": "stderr",
     "output_type": "stream",
     "text": [
      "training loop:  53% |######################                    | ETA:   0:36:01\n"
     ]
    },
    {
     "name": "stdout",
     "output_type": "stream",
     "text": [
      "                        \n",
      "Episode 808\tTotal score (max over agents) this episode: 0.09000000171363354\n",
      "t_step: 30 \t, sample_time: 0.003 \tupdate_time: 0.005 \tlearn_time: 0.012 \tsum: 714.609 \tsize: 38313                        "
     ]
    },
    {
     "name": "stderr",
     "output_type": "stream",
     "text": [
      "training loop:  53% |######################                    | ETA:   0:36:00\n"
     ]
    },
    {
     "name": "stdout",
     "output_type": "stream",
     "text": [
      "t_step: 30 \t, sample_time: 0.003 \tupdate_time: 0.005 \tlearn_time: 0.015 \tsum: 711.471 \tsize: 38314                        \n",
      "Episode 809\tTotal score (max over agents) this episode: 0.10000000149011612\n",
      "t_step: 25 \t, sample_time: 0.002 \tupdate_time: 0.003 \tlearn_time: 0.019 \tsum: 716.167 \tsize: 38367                        "
     ]
    },
    {
     "name": "stderr",
     "output_type": "stream",
     "text": [
      "training loop:  54% |######################                    | ETA:   0:35:57\n"
     ]
    },
    {
     "name": "stdout",
     "output_type": "stream",
     "text": [
      "t_step: 25 \t, sample_time: 0.002 \tupdate_time: 0.004 \tlearn_time: 0.020 \tsum: 711.153 \tsize: 38368                        \n",
      "Episode 810\tTotal score (max over agents) this episode: 0.10000000149011612\n",
      "t_step: 30 \t, sample_time: 0.002 \tupdate_time: 0.005 \tlearn_time: 0.015 \tsum: 716.038 \tsize: 38437                        "
     ]
    },
    {
     "name": "stderr",
     "output_type": "stream",
     "text": [
      "training loop:  54% |######################                    | ETA:   0:35:54\n"
     ]
    },
    {
     "name": "stdout",
     "output_type": "stream",
     "text": [
      "t_step: 30 \t, sample_time: 0.003 \tupdate_time: 0.007 \tlearn_time: 0.044 \tsum: 709.050 \tsize: 38438                        \n",
      "Episode 811\tTotal score (max over agents) this episode: 0.10000000149011612\n",
      "t_step: 25 \t, sample_time: 0.003 \tupdate_time: 0.006 \tlearn_time: 0.020 \tsum: 712.064 \tsize: 38489                        "
     ]
    },
    {
     "name": "stderr",
     "output_type": "stream",
     "text": [
      "training loop:  54% |######################                    | ETA:   0:35:52\n"
     ]
    },
    {
     "name": "stdout",
     "output_type": "stream",
     "text": [
      "t_step: 25 \t, sample_time: 0.004 \tupdate_time: 0.008 \tlearn_time: 0.018 \tsum: 709.463 \tsize: 38490                        \n",
      "Episode 812\tTotal score (max over agents) this episode: 0.09000000171363354\n",
      "t_step: 105 \t, sample_time: 0.002 \tupdate_time: 0.004 \tlearn_time: 0.016 \tsum: 732.209 \tsize: 38709                        "
     ]
    },
    {
     "name": "stderr",
     "output_type": "stream",
     "text": [
      "training loop:  54% |######################                    | ETA:   0:35:56\n"
     ]
    },
    {
     "name": "stdout",
     "output_type": "stream",
     "text": [
      "t_step: 105 \t, sample_time: 0.002 \tupdate_time: 0.008 \tlearn_time: 0.016 \tsum: 722.082 \tsize: 38710                        \n",
      "Episode 813\tTotal score (max over agents) this episode: 0.30000000447034836\n",
      "t_step: 10 \t, sample_time: 0.002 \tupdate_time: 0.005 \tlearn_time: 0.016 \tsum: 722.432 \tsize: 38736                        "
     ]
    },
    {
     "name": "stderr",
     "output_type": "stream",
     "text": [
      "training loop:  54% |######################                    | ETA:   0:35:52\n"
     ]
    },
    {
     "name": "stdout",
     "output_type": "stream",
     "text": [
      "\n",
      "Episode 814\tTotal score (max over agents) this episode: 0.0\n",
      "t_step: 30 \t, sample_time: 0.003 \tupdate_time: 0.006 \tlearn_time: 0.021 \tsum: 733.587 \tsize: 38803                        "
     ]
    },
    {
     "name": "stderr",
     "output_type": "stream",
     "text": [
      "training loop:  54% |######################                    | ETA:   0:35:50\n"
     ]
    },
    {
     "name": "stdout",
     "output_type": "stream",
     "text": [
      "t_step: 30 \t, sample_time: 0.003 \tupdate_time: 0.005 \tlearn_time: 0.015 \tsum: 725.987 \tsize: 38804                        \n",
      "Episode 815\tTotal score (max over agents) this episode: 0.10000000149011612\n",
      "t_step: 25 \t, sample_time: 0.003 \tupdate_time: 0.004 \tlearn_time: 0.044 \tsum: 732.005 \tsize: 38855                        "
     ]
    },
    {
     "name": "stderr",
     "output_type": "stream",
     "text": [
      "training loop:  54% |######################                    | ETA:   0:35:48\n"
     ]
    },
    {
     "name": "stdout",
     "output_type": "stream",
     "text": [
      "t_step: 25 \t, sample_time: 0.002 \tupdate_time: 0.008 \tlearn_time: 0.016 \tsum: 725.149 \tsize: 38856                        \n",
      "Episode 816\tTotal score (max over agents) this episode: 0.10000000149011612\n",
      "t_step: 25 \t, sample_time: 0.002 \tupdate_time: 0.007 \tlearn_time: 0.033 \tsum: 727.351 \tsize: 38915                        "
     ]
    },
    {
     "name": "stderr",
     "output_type": "stream",
     "text": [
      "training loop:  54% |######################                    | ETA:   0:35:45\n"
     ]
    },
    {
     "name": "stdout",
     "output_type": "stream",
     "text": [
      "t_step: 25 \t, sample_time: 0.002 \tupdate_time: 0.003 \tlearn_time: 0.015 \tsum: 728.710 \tsize: 38916                        \n",
      "Episode 817\tTotal score (max over agents) this episode: 0.09000000171363354\n",
      "t_step: 65 \t, sample_time: 0.003 \tupdate_time: 0.004 \tlearn_time: 0.013 \tsum: 725.186 \tsize: 39055                        "
     ]
    },
    {
     "name": "stderr",
     "output_type": "stream",
     "text": [
      "training loop:  54% |######################                    | ETA:   0:35:47\n"
     ]
    },
    {
     "name": "stdout",
     "output_type": "stream",
     "text": [
      "t_step: 65 \t, sample_time: 0.004 \tupdate_time: 0.005 \tlearn_time: 0.024 \tsum: 726.139 \tsize: 39056                        \n",
      "Episode 818\tTotal score (max over agents) this episode: 0.20000000298023224\n",
      "t_step: 25 \t, sample_time: 0.004 \tupdate_time: 0.005 \tlearn_time: 0.047 \tsum: 731.327 \tsize: 39115                        "
     ]
    },
    {
     "name": "stderr",
     "output_type": "stream",
     "text": [
      "training loop:  54% |######################                    | ETA:   0:35:44\n"
     ]
    },
    {
     "name": "stdout",
     "output_type": "stream",
     "text": [
      "t_step: 25 \t, sample_time: 0.003 \tupdate_time: 0.006 \tlearn_time: 0.059 \tsum: 730.418 \tsize: 39116                        \n",
      "Episode 819\tTotal score (max over agents) this episode: 0.09000000171363354\n",
      "t_step: 35 \t, sample_time: 0.003 \tupdate_time: 0.005 \tlearn_time: 0.033 \tsum: 735.555 \tsize: 39195                        "
     ]
    },
    {
     "name": "stderr",
     "output_type": "stream",
     "text": [
      "training loop:  54% |######################                    | ETA:   0:35:42\n"
     ]
    },
    {
     "name": "stdout",
     "output_type": "stream",
     "text": [
      "t_step: 35 \t, sample_time: 0.003 \tupdate_time: 0.006 \tlearn_time: 0.024 \tsum: 730.527 \tsize: 39196                        \n",
      "Episode 820\tTotal score (max over agents) this episode: 0.10000000149011612\n",
      "t_step: 160 \t, sample_time: 0.002 \tupdate_time: 0.008 \tlearn_time: 0.115 \tsum: 748.137 \tsize: 39523                        "
     ]
    },
    {
     "name": "stderr",
     "output_type": "stream",
     "text": [
      "training loop:  54% |######################                    | ETA:   0:35:53\n"
     ]
    },
    {
     "name": "stdout",
     "output_type": "stream",
     "text": [
      "t_step: 160 \t, sample_time: 0.002 \tupdate_time: 0.003 \tlearn_time: 0.018 \tsum: 740.900 \tsize: 39524                        \n",
      "Episode 821\tTotal score (max over agents) this episode: 0.4000000059604645\n",
      "t_step: 65 \t, sample_time: 0.002 \tupdate_time: 0.007 \tlearn_time: 0.031 \tsum: 754.135 \tsize: 39661                        "
     ]
    },
    {
     "name": "stderr",
     "output_type": "stream",
     "text": [
      "training loop:  54% |#######################                   | ETA:   0:35:54\n"
     ]
    },
    {
     "name": "stdout",
     "output_type": "stream",
     "text": [
      "t_step: 65 \t, sample_time: 0.002 \tupdate_time: 0.005 \tlearn_time: 0.024 \tsum: 745.181 \tsize: 39662                        \n",
      "Episode 822\tTotal score (max over agents) this episode: 0.19000000320374966\n",
      "t_step: 145 \t, sample_time: 0.003 \tupdate_time: 0.007 \tlearn_time: 0.083 \tsum: 759.282 \tsize: 39953                        "
     ]
    },
    {
     "name": "stderr",
     "output_type": "stream",
     "text": [
      "training loop:  54% |#######################                   | ETA:   0:36:03\n"
     ]
    },
    {
     "name": "stdout",
     "output_type": "stream",
     "text": [
      "t_step: 145 \t, sample_time: 0.002 \tupdate_time: 0.008 \tlearn_time: 0.058 \tsum: 752.805 \tsize: 39954                        \n",
      "Episode 823\tTotal score (max over agents) this episode: 0.4000000059604645\n",
      "t_step: 20 \t, sample_time: 0.003 \tupdate_time: 0.006 \tlearn_time: 0.024 \tsum: 752.285 \tsize: 40000                        "
     ]
    },
    {
     "name": "stderr",
     "output_type": "stream",
     "text": [
      "training loop:  54% |#######################                   | ETA:   0:36:01\n"
     ]
    },
    {
     "name": "stdout",
     "output_type": "stream",
     "text": [
      "t_step: 25 \t, sample_time: 0.002 \tupdate_time: 0.005 \tlearn_time: 0.013 \tsum: 748.274 \tsize: 40010                        \n",
      "Episode 824\tTotal score (max over agents) this episode: 0.10000000149011612\n",
      "t_step: 65 \t, sample_time: 0.002 \tupdate_time: 0.004 \tlearn_time: 0.014 \tsum: 760.810 \tsize: 40149                        "
     ]
    },
    {
     "name": "stderr",
     "output_type": "stream",
     "text": [
      "training loop:  55% |#######################                   | ETA:   0:36:01\n"
     ]
    },
    {
     "name": "stdout",
     "output_type": "stream",
     "text": [
      "t_step: 65 \t, sample_time: 0.002 \tupdate_time: 0.007 \tlearn_time: 0.020 \tsum: 756.144 \tsize: 40150                        \n",
      "Episode 825\tTotal score (max over agents) this episode: 0.20000000298023224\n",
      "t_step: 165 \t, sample_time: 0.002 \tupdate_time: 0.004 \tlearn_time: 0.011 \tsum: 773.457 \tsize: 40485                        "
     ]
    },
    {
     "name": "stderr",
     "output_type": "stream",
     "text": [
      "training loop:  55% |#######################                   | ETA:   0:36:12\n"
     ]
    },
    {
     "name": "stdout",
     "output_type": "stream",
     "text": [
      "t_step: 165 \t, sample_time: 0.002 \tupdate_time: 0.003 \tlearn_time: 0.014 \tsum: 769.274 \tsize: 40486                        \n",
      "Episode 826\tTotal score (max over agents) this episode: 0.4000000059604645\n",
      "t_step: 65 \t, sample_time: 0.005 \tupdate_time: 0.007 \tlearn_time: 0.015 \tsum: 782.939 \tsize: 40621                        "
     ]
    },
    {
     "name": "stderr",
     "output_type": "stream",
     "text": [
      "training loop:  55% |#######################                   | ETA:   0:36:13\n"
     ]
    },
    {
     "name": "stdout",
     "output_type": "stream",
     "text": [
      "t_step: 65 \t, sample_time: 0.002 \tupdate_time: 0.004 \tlearn_time: 0.051 \tsum: 780.012 \tsize: 40622                        \n",
      "Episode 827\tTotal score (max over agents) this episode: 0.20000000298023224\n",
      "t_step: 25 \t, sample_time: 0.002 \tupdate_time: 0.007 \tlearn_time: 0.041 \tsum: 781.898 \tsize: 40679                        "
     ]
    },
    {
     "name": "stderr",
     "output_type": "stream",
     "text": [
      "training loop:  55% |#######################                   | ETA:   0:36:10\n"
     ]
    },
    {
     "name": "stdout",
     "output_type": "stream",
     "text": [
      "t_step: 25 \t, sample_time: 0.003 \tupdate_time: 0.006 \tlearn_time: 0.018 \tsum: 776.732 \tsize: 40680                        \n",
      "Episode 828\tTotal score (max over agents) this episode: 0.10000000149011612\n",
      "t_step: 65 \t, sample_time: 0.004 \tupdate_time: 0.004 \tlearn_time: 0.016 \tsum: 782.522 \tsize: 40819                        "
     ]
    },
    {
     "name": "stderr",
     "output_type": "stream",
     "text": [
      "training loop:  55% |#######################                   | ETA:   0:36:12\n"
     ]
    },
    {
     "name": "stdout",
     "output_type": "stream",
     "text": [
      "t_step: 65 \t, sample_time: 0.002 \tupdate_time: 0.004 \tlearn_time: 0.025 \tsum: 784.808 \tsize: 40820                        \n",
      "Episode 829\tTotal score (max over agents) this episode: 0.20000000298023224\n",
      "t_step: 140 \t, sample_time: 0.002 \tupdate_time: 0.005 \tlearn_time: 0.018 \tsum: 791.187 \tsize: 41106                        "
     ]
    },
    {
     "name": "stderr",
     "output_type": "stream",
     "text": [
      "training loop:  55% |#######################                   | ETA:   0:36:20\n"
     ]
    },
    {
     "name": "stdout",
     "output_type": "stream",
     "text": [
      "t_step: 145 \t, sample_time: 0.002 \tupdate_time: 0.004 \tlearn_time: 0.012 \tsum: 786.504 \tsize: 41116                        \n",
      "Episode 830\tTotal score (max over agents) this episode: 0.4000000059604645\n",
      "t_step: 30 \t, sample_time: 0.002 \tupdate_time: 0.013 \tlearn_time: 0.029 \tsum: 789.472 \tsize: 41183                        "
     ]
    },
    {
     "name": "stderr",
     "output_type": "stream",
     "text": [
      "training loop:  55% |#######################                   | ETA:   0:36:18\n"
     ]
    },
    {
     "name": "stdout",
     "output_type": "stream",
     "text": [
      "t_step: 30 \t, sample_time: 0.002 \tupdate_time: 0.004 \tlearn_time: 0.019 \tsum: 787.613 \tsize: 41184                        \n",
      "Episode 831\tTotal score (max over agents) this episode: 0.10000000149011612\n",
      "t_step: 110 \t, sample_time: 0.002 \tupdate_time: 0.004 \tlearn_time: 0.016 \tsum: 796.571 \tsize: 41405                        "
     ]
    },
    {
     "name": "stderr",
     "output_type": "stream",
     "text": [
      "training loop:  55% |#######################                   | ETA:   0:36:22\n"
     ]
    },
    {
     "name": "stdout",
     "output_type": "stream",
     "text": [
      "t_step: 110 \t, sample_time: 0.002 \tupdate_time: 0.004 \tlearn_time: 0.016 \tsum: 792.184 \tsize: 41406                        \n",
      "Episode 832\tTotal score (max over agents) this episode: 0.30000000447034836\n",
      "t_step: 30 \t, sample_time: 0.004 \tupdate_time: 0.004 \tlearn_time: 0.035 \tsum: 796.757 \tsize: 41467                        "
     ]
    },
    {
     "name": "stderr",
     "output_type": "stream",
     "text": [
      "training loop:  55% |#######################                   | ETA:   0:36:20\n"
     ]
    },
    {
     "name": "stdout",
     "output_type": "stream",
     "text": [
      "t_step: 30 \t, sample_time: 0.002 \tupdate_time: 0.004 \tlearn_time: 0.011 \tsum: 796.052 \tsize: 41468                        \n",
      "Episode 833\tTotal score (max over agents) this episode: 0.10000000149011612\n",
      "t_step: 25 \t, sample_time: 0.002 \tupdate_time: 0.004 \tlearn_time: 0.010 \tsum: 800.629 \tsize: 41520                        "
     ]
    },
    {
     "name": "stderr",
     "output_type": "stream",
     "text": [
      "training loop:  55% |#######################                   | ETA:   0:36:17\n"
     ]
    },
    {
     "name": "stdout",
     "output_type": "stream",
     "text": [
      "\n",
      "Episode 834\tTotal score (max over agents) this episode: 0.10000000149011612\n",
      "t_step: 30 \t, sample_time: 0.002 \tupdate_time: 0.012 \tlearn_time: 0.027 \tsum: 806.011 \tsize: 41589                        "
     ]
    },
    {
     "name": "stderr",
     "output_type": "stream",
     "text": [
      "training loop:  55% |#######################                   | ETA:   0:36:15\n"
     ]
    },
    {
     "name": "stdout",
     "output_type": "stream",
     "text": [
      "t_step: 30 \t, sample_time: 0.003 \tupdate_time: 0.003 \tlearn_time: 0.014 \tsum: 798.181 \tsize: 41590                        \n",
      "Episode 835\tTotal score (max over agents) this episode: 0.10000000149011612\n",
      "t_step: 30 \t, sample_time: 0.002 \tupdate_time: 0.004 \tlearn_time: 0.010 \tsum: 805.093 \tsize: 41651                        "
     ]
    },
    {
     "name": "stderr",
     "output_type": "stream",
     "text": [
      "training loop:  55% |#######################                   | ETA:   0:36:13\n"
     ]
    },
    {
     "name": "stdout",
     "output_type": "stream",
     "text": [
      "t_step: 30 \t, sample_time: 0.003 \tupdate_time: 0.004 \tlearn_time: 0.065 \tsum: 803.663 \tsize: 41652                        \n",
      "Episode 836\tTotal score (max over agents) this episode: 0.10000000149011612\n",
      "t_step: 65 \t, sample_time: 0.004 \tupdate_time: 0.005 \tlearn_time: 0.016 \tsum: 803.896 \tsize: 41783                        "
     ]
    },
    {
     "name": "stderr",
     "output_type": "stream",
     "text": [
      "training loop:  55% |#######################                   | ETA:   0:36:15\n"
     ]
    },
    {
     "name": "stdout",
     "output_type": "stream",
     "text": [
      "t_step: 65 \t, sample_time: 0.004 \tupdate_time: 0.006 \tlearn_time: 0.027 \tsum: 801.558 \tsize: 41784                        \n",
      "Episode 837\tTotal score (max over agents) this episode: 0.20000000298023224\n",
      "t_step: 60 \t, sample_time: 0.002 \tupdate_time: 0.009 \tlearn_time: 0.031 \tsum: 804.816 \tsize: 41913                        "
     ]
    },
    {
     "name": "stderr",
     "output_type": "stream",
     "text": [
      "training loop:  55% |#######################                   | ETA:   0:36:17\n"
     ]
    },
    {
     "name": "stdout",
     "output_type": "stream",
     "text": [
      "t_step: 60 \t, sample_time: 0.002 \tupdate_time: 0.003 \tlearn_time: 0.014 \tsum: 799.837 \tsize: 41914                        \n",
      "Episode 838\tTotal score (max over agents) this episode: 0.10000000149011612\n",
      "t_step: 30 \t, sample_time: 0.004 \tupdate_time: 0.004 \tlearn_time: 0.021 \tsum: 820.749 \tsize: 41981                        "
     ]
    },
    {
     "name": "stderr",
     "output_type": "stream",
     "text": [
      "training loop:  55% |#######################                   | ETA:   0:36:14\n"
     ]
    },
    {
     "name": "stdout",
     "output_type": "stream",
     "text": [
      "t_step: 30 \t, sample_time: 0.003 \tupdate_time: 0.006 \tlearn_time: 0.015 \tsum: 817.126 \tsize: 41982                        \n",
      "Episode 839\tTotal score (max over agents) this episode: 0.10000000149011612\n",
      "t_step: 25 \t, sample_time: 0.002 \tupdate_time: 0.003 \tlearn_time: 0.014 \tsum: 819.063 \tsize: 42033                        "
     ]
    },
    {
     "name": "stderr",
     "output_type": "stream",
     "text": [
      "training loop:  56% |#######################                   | ETA:   0:36:12\n"
     ]
    },
    {
     "name": "stdout",
     "output_type": "stream",
     "text": [
      "t_step: 25 \t, sample_time: 0.017 \tupdate_time: 0.004 \tlearn_time: 0.016 \tsum: 813.730 \tsize: 42034                        \n",
      "Episode 840\tTotal score (max over agents) this episode: 0.10000000149011612\n",
      "t_step: 65 \t, sample_time: 0.002 \tupdate_time: 0.004 \tlearn_time: 0.016 \tsum: 815.009 \tsize: 42173                        "
     ]
    },
    {
     "name": "stderr",
     "output_type": "stream",
     "text": [
      "training loop:  56% |#######################                   | ETA:   0:36:13\n"
     ]
    },
    {
     "name": "stdout",
     "output_type": "stream",
     "text": [
      "t_step: 65 \t, sample_time: 0.002 \tupdate_time: 0.003 \tlearn_time: 0.012 \tsum: 812.594 \tsize: 42174                        \n",
      "Episode 841\tTotal score (max over agents) this episode: 0.19000000320374966\n",
      "t_step: 30 \t, sample_time: 0.002 \tupdate_time: 0.008 \tlearn_time: 0.015 \tsum: 810.696 \tsize: 42241                        "
     ]
    },
    {
     "name": "stderr",
     "output_type": "stream",
     "text": [
      "training loop:  56% |#######################                   | ETA:   0:36:11\n"
     ]
    },
    {
     "name": "stdout",
     "output_type": "stream",
     "text": [
      "t_step: 30 \t, sample_time: 0.003 \tupdate_time: 0.004 \tlearn_time: 0.011 \tsum: 805.720 \tsize: 42242                        \n",
      "Episode 842\tTotal score (max over agents) this episode: 0.10000000149011612\n",
      "t_step: 25 \t, sample_time: 0.005 \tupdate_time: 0.004 \tlearn_time: 0.022 \tsum: 820.579 \tsize: 42297                        "
     ]
    },
    {
     "name": "stderr",
     "output_type": "stream",
     "text": [
      "training loop:  56% |#######################                   | ETA:   0:36:09\n"
     ]
    },
    {
     "name": "stdout",
     "output_type": "stream",
     "text": [
      "t_step: 25 \t, sample_time: 0.002 \tupdate_time: 0.006 \tlearn_time: 0.013 \tsum: 813.096 \tsize: 42298                        \n",
      "Episode 843\tTotal score (max over agents) this episode: 0.10000000149011612\n",
      "t_step: 65 \t, sample_time: 0.002 \tupdate_time: 0.005 \tlearn_time: 0.025 \tsum: 823.836 \tsize: 42437                        "
     ]
    },
    {
     "name": "stderr",
     "output_type": "stream",
     "text": [
      "training loop:  56% |#######################                   | ETA:   0:36:09\n"
     ]
    },
    {
     "name": "stdout",
     "output_type": "stream",
     "text": [
      "t_step: 65 \t, sample_time: 0.002 \tupdate_time: 0.004 \tlearn_time: 0.012 \tsum: 822.633 \tsize: 42438                        \n",
      "Episode 844\tTotal score (max over agents) this episode: 0.20000000298023224\n",
      "t_step: 30 \t, sample_time: 0.003 \tupdate_time: 0.006 \tlearn_time: 0.018 \tsum: 828.854 \tsize: 42501                        "
     ]
    },
    {
     "name": "stderr",
     "output_type": "stream",
     "text": [
      "training loop:  56% |#######################                   | ETA:   0:36:06\n"
     ]
    },
    {
     "name": "stdout",
     "output_type": "stream",
     "text": [
      "t_step: 30 \t, sample_time: 0.004 \tupdate_time: 0.007 \tlearn_time: 0.016 \tsum: 827.045 \tsize: 42502                        \n",
      "Episode 845\tTotal score (max over agents) this episode: 0.10000000149011612\n",
      "t_step: 45 \t, sample_time: 0.002 \tupdate_time: 0.007 \tlearn_time: 0.017 \tsum: 820.492 \tsize: 42598                        "
     ]
    },
    {
     "name": "stderr",
     "output_type": "stream",
     "text": [
      "training loop:  56% |#######################                   | ETA:   0:36:05\n"
     ]
    },
    {
     "name": "stdout",
     "output_type": "stream",
     "text": [
      "t_step: 50 \t, sample_time: 0.004 \tupdate_time: 0.005 \tlearn_time: 0.018 \tsum: 817.993 \tsize: 42608                        \n",
      "Episode 846\tTotal score (max over agents) this episode: 0.10000000149011612\n",
      "t_step: 145 \t, sample_time: 0.002 \tupdate_time: 0.010 \tlearn_time: 0.067 \tsum: 837.759 \tsize: 42899                        "
     ]
    },
    {
     "name": "stderr",
     "output_type": "stream",
     "text": [
      "training loop:  56% |#######################                   | ETA:   0:36:13\n"
     ]
    },
    {
     "name": "stdout",
     "output_type": "stream",
     "text": [
      "t_step: 145 \t, sample_time: 0.004 \tupdate_time: 0.004 \tlearn_time: 0.030 \tsum: 836.434 \tsize: 42900                        \n",
      "Episode 847\tTotal score (max over agents) this episode: 0.3900000061839819\n",
      "t_step: 90 \t, sample_time: 0.004 \tupdate_time: 0.005 \tlearn_time: 0.020 \tsum: 838.793 \tsize: 43085                        "
     ]
    },
    {
     "name": "stderr",
     "output_type": "stream",
     "text": [
      "training loop:  56% |#######################                   | ETA:   0:36:17\n"
     ]
    },
    {
     "name": "stdout",
     "output_type": "stream",
     "text": [
      "t_step: 90 \t, sample_time: 0.003 \tupdate_time: 0.005 \tlearn_time: 0.013 \tsum: 836.851 \tsize: 43086                        \n",
      "Episode 848\tTotal score (max over agents) this episode: 0.20000000298023224\n",
      "t_step: 50 \t, sample_time: 0.003 \tupdate_time: 0.004 \tlearn_time: 0.011 \tsum: 846.365 \tsize: 43187                        "
     ]
    },
    {
     "name": "stderr",
     "output_type": "stream",
     "text": [
      "training loop:  56% |#######################                   | ETA:   0:36:17\n"
     ]
    },
    {
     "name": "stdout",
     "output_type": "stream",
     "text": [
      "t_step: 50 \t, sample_time: 0.002 \tupdate_time: 0.004 \tlearn_time: 0.016 \tsum: 843.552 \tsize: 43188                        \n",
      "Episode 849\tTotal score (max over agents) this episode: 0.10000000149011612\n",
      "t_step: 65 \t, sample_time: 0.003 \tupdate_time: 0.006 \tlearn_time: 0.036 \tsum: 852.019 \tsize: 43321                        "
     ]
    },
    {
     "name": "stderr",
     "output_type": "stream",
     "text": [
      "training loop:  56% |#######################                   | ETA:   0:36:18\n"
     ]
    },
    {
     "name": "stdout",
     "output_type": "stream",
     "text": [
      "t_step: 65 \t, sample_time: 0.005 \tupdate_time: 0.007 \tlearn_time: 0.045 \tsum: 853.637 \tsize: 43322                        \n",
      "Episode 850\tTotal score (max over agents) this episode: 0.20000000298023224\n",
      "t_step: 30 \t, sample_time: 0.003 \tupdate_time: 0.003 \tlearn_time: 0.011 \tsum: 856.980 \tsize: 43389                        "
     ]
    },
    {
     "name": "stderr",
     "output_type": "stream",
     "text": [
      "training loop:  56% |#######################                   | ETA:   0:36:15\n"
     ]
    },
    {
     "name": "stdout",
     "output_type": "stream",
     "text": [
      "t_step: 30 \t, sample_time: 0.003 \tupdate_time: 0.006 \tlearn_time: 0.027 \tsum: 853.012 \tsize: 43390                        \n",
      "Episode 851\tTotal score (max over agents) this episode: 0.10000000149011612\n",
      "t_step: 100 \t, sample_time: 0.002 \tupdate_time: 0.004 \tlearn_time: 0.011 \tsum: 856.623 \tsize: 43591                        "
     ]
    },
    {
     "name": "stderr",
     "output_type": "stream",
     "text": [
      "training loop:  56% |#######################                   | ETA:   0:36:17\n"
     ]
    },
    {
     "name": "stdout",
     "output_type": "stream",
     "text": [
      "t_step: 100 \t, sample_time: 0.002 \tupdate_time: 0.003 \tlearn_time: 0.011 \tsum: 852.809 \tsize: 43592                        \n",
      "Episode 852\tTotal score (max over agents) this episode: 0.19000000320374966\n",
      "t_step: 65 \t, sample_time: 0.003 \tupdate_time: 0.005 \tlearn_time: 0.021 \tsum: 855.567 \tsize: 43725                        "
     ]
    },
    {
     "name": "stderr",
     "output_type": "stream",
     "text": [
      "training loop:  56% |#######################                   | ETA:   0:36:17\n"
     ]
    },
    {
     "name": "stdout",
     "output_type": "stream",
     "text": [
      "t_step: 65 \t, sample_time: 0.002 \tupdate_time: 0.005 \tlearn_time: 0.015 \tsum: 851.709 \tsize: 43726                        \n",
      "Episode 853\tTotal score (max over agents) this episode: 0.20000000298023224\n",
      "t_step: 30 \t, sample_time: 0.002 \tupdate_time: 0.004 \tlearn_time: 0.016 \tsum: 861.618 \tsize: 43791                        "
     ]
    },
    {
     "name": "stderr",
     "output_type": "stream",
     "text": [
      "training loop:  56% |#######################                   | ETA:   0:36:15\n"
     ]
    },
    {
     "name": "stdout",
     "output_type": "stream",
     "text": [
      "t_step: 30 \t, sample_time: 0.003 \tupdate_time: 0.009 \tlearn_time: 0.035 \tsum: 857.660 \tsize: 43792                        \n",
      "Episode 854\tTotal score (max over agents) this episode: 0.10000000149011612\n",
      "t_step: 20 \t, sample_time: 0.003 \tupdate_time: 0.004 \tlearn_time: 0.011 \tsum: 850.230 \tsize: 43836                        "
     ]
    },
    {
     "name": "stderr",
     "output_type": "stream",
     "text": [
      "training loop:  57% |#######################                   | ETA:   0:36:11\n"
     ]
    },
    {
     "name": "stdout",
     "output_type": "stream",
     "text": [
      "t_step: 25 \t, sample_time: 0.002 \tupdate_time: 0.003 \tlearn_time: 0.023 \tsum: 854.165 \tsize: 43846                        \n",
      "Episode 855\tTotal score (max over agents) this episode: 0.10000000149011612\n",
      "t_step: 25 \t, sample_time: 0.004 \tupdate_time: 0.007 \tlearn_time: 0.017 \tsum: 860.864 \tsize: 43905                        "
     ]
    },
    {
     "name": "stderr",
     "output_type": "stream",
     "text": [
      "training loop:  57% |#######################                   | ETA:   0:36:08\n"
     ]
    },
    {
     "name": "stdout",
     "output_type": "stream",
     "text": [
      "t_step: 25 \t, sample_time: 0.004 \tupdate_time: 0.006 \tlearn_time: 0.015 \tsum: 852.439 \tsize: 43906                        \n",
      "Episode 856\tTotal score (max over agents) this episode: 0.10000000149011612\n",
      "t_step: 25 \t, sample_time: 0.002 \tupdate_time: 0.004 \tlearn_time: 0.019 \tsum: 866.503 \tsize: 43965                        "
     ]
    },
    {
     "name": "stderr",
     "output_type": "stream",
     "text": [
      "training loop:  57% |#######################                   | ETA:   0:36:05\n"
     ]
    },
    {
     "name": "stdout",
     "output_type": "stream",
     "text": [
      "t_step: 25 \t, sample_time: 0.003 \tupdate_time: 0.008 \tlearn_time: 0.080 \tsum: 861.205 \tsize: 43966                        \n",
      "Episode 857\tTotal score (max over agents) this episode: 0.10000000149011612\n",
      "t_step: 30 \t, sample_time: 0.002 \tupdate_time: 0.009 \tlearn_time: 0.034 \tsum: 863.440 \tsize: 44035                        "
     ]
    },
    {
     "name": "stderr",
     "output_type": "stream",
     "text": [
      "training loop:  57% |########################                  | ETA:   0:36:03\n"
     ]
    },
    {
     "name": "stdout",
     "output_type": "stream",
     "text": [
      "t_step: 30 \t, sample_time: 0.003 \tupdate_time: 0.006 \tlearn_time: 0.027 \tsum: 861.946 \tsize: 44036                        \n",
      "Episode 858\tTotal score (max over agents) this episode: 0.10000000149011612\n",
      "t_step: 70 \t, sample_time: 0.005 \tupdate_time: 0.004 \tlearn_time: 0.018 \tsum: 868.624 \tsize: 44179                        "
     ]
    },
    {
     "name": "stderr",
     "output_type": "stream",
     "text": [
      "training loop:  57% |########################                  | ETA:   0:36:05\n"
     ]
    },
    {
     "name": "stdout",
     "output_type": "stream",
     "text": [
      "t_step: 70 \t, sample_time: 0.002 \tupdate_time: 0.006 \tlearn_time: 0.029 \tsum: 865.781 \tsize: 44180                        \n",
      "Episode 859\tTotal score (max over agents) this episode: 0.20000000298023224\n",
      "t_step: 70 \t, sample_time: 0.002 \tupdate_time: 0.003 \tlearn_time: 0.016 \tsum: 865.607 \tsize: 44321                        "
     ]
    },
    {
     "name": "stderr",
     "output_type": "stream",
     "text": [
      "training loop:  57% |########################                  | ETA:   0:36:07\n"
     ]
    },
    {
     "name": "stdout",
     "output_type": "stream",
     "text": [
      "t_step: 70 \t, sample_time: 0.003 \tupdate_time: 0.006 \tlearn_time: 0.037 \tsum: 861.248 \tsize: 44322                        \n",
      "Episode 860\tTotal score (max over agents) this episode: 0.10000000149011612\n",
      "t_step: 30 \t, sample_time: 0.011 \tupdate_time: 0.003 \tlearn_time: 0.080 \tsum: 871.194 \tsize: 44383                        "
     ]
    },
    {
     "name": "stderr",
     "output_type": "stream",
     "text": [
      "training loop:  57% |########################                  | ETA:   0:36:05\n"
     ]
    },
    {
     "name": "stdout",
     "output_type": "stream",
     "text": [
      "t_step: 30 \t, sample_time: 0.002 \tupdate_time: 0.005 \tlearn_time: 0.040 \tsum: 862.810 \tsize: 44384                        \n",
      "Episode 861\tTotal score (max over agents) this episode: 0.10000000149011612\n",
      "t_step: 25 \t, sample_time: 0.004 \tupdate_time: 0.007 \tlearn_time: 0.026 \tsum: 870.207 \tsize: 44435                        "
     ]
    },
    {
     "name": "stderr",
     "output_type": "stream",
     "text": [
      "training loop:  57% |########################                  | ETA:   0:36:02\n"
     ]
    },
    {
     "name": "stdout",
     "output_type": "stream",
     "text": [
      "t_step: 25 \t, sample_time: 0.004 \tupdate_time: 0.004 \tlearn_time: 0.021 \tsum: 867.177 \tsize: 44436                        \n",
      "Episode 862\tTotal score (max over agents) this episode: 0.10000000149011612\n",
      "t_step: 50 \t, sample_time: 0.002 \tupdate_time: 0.003 \tlearn_time: 0.010 \tsum: 876.918 \tsize: 44545                        "
     ]
    },
    {
     "name": "stderr",
     "output_type": "stream",
     "text": [
      "training loop:  57% |########################                  | ETA:   0:36:01\n"
     ]
    },
    {
     "name": "stdout",
     "output_type": "stream",
     "text": [
      "t_step: 50 \t, sample_time: 0.005 \tupdate_time: 0.005 \tlearn_time: 0.052 \tsum: 876.954 \tsize: 44546                        \n",
      "Episode 863\tTotal score (max over agents) this episode: 0.10000000149011612\n",
      "t_step: 70 \t, sample_time: 0.003 \tupdate_time: 0.004 \tlearn_time: 0.014 \tsum: 873.752 \tsize: 44689                        "
     ]
    },
    {
     "name": "stderr",
     "output_type": "stream",
     "text": [
      "training loop:  57% |########################                  | ETA:   0:36:03\n"
     ]
    },
    {
     "name": "stdout",
     "output_type": "stream",
     "text": [
      "t_step: 70 \t, sample_time: 0.017 \tupdate_time: 0.008 \tlearn_time: 0.024 \tsum: 872.620 \tsize: 44690                        \n",
      "Episode 864\tTotal score (max over agents) this episode: 0.20000000298023224\n",
      "t_step: 30 \t, sample_time: 0.002 \tupdate_time: 0.003 \tlearn_time: 0.009 \tsum: 878.917 \tsize: 44751                        "
     ]
    },
    {
     "name": "stderr",
     "output_type": "stream",
     "text": [
      "training loop:  57% |########################                  | ETA:   0:36:00\n"
     ]
    },
    {
     "name": "stdout",
     "output_type": "stream",
     "text": [
      "t_step: 30 \t, sample_time: 0.002 \tupdate_time: 0.004 \tlearn_time: 0.020 \tsum: 873.826 \tsize: 44752                        \n",
      "Episode 865\tTotal score (max over agents) this episode: 0.10000000149011612\n",
      "t_step: 30 \t, sample_time: 0.002 \tupdate_time: 0.005 \tlearn_time: 0.013 \tsum: 870.454 \tsize: 44814                        "
     ]
    },
    {
     "name": "stderr",
     "output_type": "stream",
     "text": [
      "training loop:  57% |########################                  | ETA:   0:35:57\n"
     ]
    },
    {
     "name": "stdout",
     "output_type": "stream",
     "text": [
      "                        \n",
      "Episode 866\tTotal score (max over agents) this episode: 0.10000000149011612\n",
      "t_step: 20 \t, sample_time: 0.002 \tupdate_time: 0.011 \tlearn_time: 0.020 \tsum: 879.045 \tsize: 44856                        "
     ]
    },
    {
     "name": "stderr",
     "output_type": "stream",
     "text": [
      "training loop:  57% |########################                  | ETA:   0:35:54\n"
     ]
    },
    {
     "name": "stdout",
     "output_type": "stream",
     "text": [
      "t_step: 25 \t, sample_time: 0.002 \tupdate_time: 0.004 \tlearn_time: 0.013 \tsum: 875.681 \tsize: 44866                        \n",
      "Episode 867\tTotal score (max over agents) this episode: 0.10000000149011612\n",
      "t_step: 25 \t, sample_time: 0.003 \tupdate_time: 0.005 \tlearn_time: 0.016 \tsum: 883.064 \tsize: 44923                        "
     ]
    },
    {
     "name": "stderr",
     "output_type": "stream",
     "text": [
      "training loop:  57% |########################                  | ETA:   0:35:51\n"
     ]
    },
    {
     "name": "stdout",
     "output_type": "stream",
     "text": [
      "t_step: 25 \t, sample_time: 0.002 \tupdate_time: 0.003 \tlearn_time: 0.013 \tsum: 879.277 \tsize: 44924                        \n",
      "Episode 868\tTotal score (max over agents) this episode: 0.10000000149011612\n",
      "t_step: 65 \t, sample_time: 0.002 \tupdate_time: 0.010 \tlearn_time: 0.102 \tsum: 889.230 \tsize: 45063                        "
     ]
    },
    {
     "name": "stderr",
     "output_type": "stream",
     "text": [
      "training loop:  57% |########################                  | ETA:   0:35:51\n"
     ]
    },
    {
     "name": "stdout",
     "output_type": "stream",
     "text": [
      "t_step: 65 \t, sample_time: 0.004 \tupdate_time: 0.004 \tlearn_time: 0.019 \tsum: 882.176 \tsize: 45064                        \n",
      "Episode 869\tTotal score (max over agents) this episode: 0.20000000298023224\n",
      "t_step: 180 \t, sample_time: 0.004 \tupdate_time: 0.007 \tlearn_time: 0.025 \tsum: 899.565 \tsize: 45427                        "
     ]
    },
    {
     "name": "stderr",
     "output_type": "stream",
     "text": [
      "training loop:  58% |########################                  | ETA:   0:36:00\n"
     ]
    },
    {
     "name": "stdout",
     "output_type": "stream",
     "text": [
      "t_step: 180 \t, sample_time: 0.002 \tupdate_time: 0.004 \tlearn_time: 0.014 \tsum: 890.494 \tsize: 45428                        \n",
      "Episode 870\tTotal score (max over agents) this episode: 0.4000000059604645\n",
      "t_step: 150 \t, sample_time: 0.003 \tupdate_time: 0.005 \tlearn_time: 0.029 \tsum: 909.823 \tsize: 45735                        "
     ]
    },
    {
     "name": "stderr",
     "output_type": "stream",
     "text": [
      "training loop:  58% |########################                  | ETA:   0:36:09\n"
     ]
    },
    {
     "name": "stdout",
     "output_type": "stream",
     "text": [
      "t_step: 150 \t, sample_time: 0.002 \tupdate_time: 0.005 \tlearn_time: 0.013 \tsum: 906.286 \tsize: 45736                        \n",
      "Episode 871\tTotal score (max over agents) this episode: 0.4000000059604645\n",
      "t_step: 110 \t, sample_time: 0.002 \tupdate_time: 0.005 \tlearn_time: 0.016 \tsum: 903.446 \tsize: 45957                        "
     ]
    },
    {
     "name": "stderr",
     "output_type": "stream",
     "text": [
      "training loop:  58% |########################                  | ETA:   0:36:15\n"
     ]
    },
    {
     "name": "stdout",
     "output_type": "stream",
     "text": [
      "t_step: 110 \t, sample_time: 0.006 \tupdate_time: 0.006 \tlearn_time: 0.020 \tsum: 898.584 \tsize: 45958                        \n",
      "Episode 872\tTotal score (max over agents) this episode: 0.30000000447034836\n",
      "t_step: 125 \t, sample_time: 0.002 \tupdate_time: 0.006 \tlearn_time: 0.014 \tsum: 914.018 \tsize: 46217                        "
     ]
    },
    {
     "name": "stderr",
     "output_type": "stream",
     "text": [
      "training loop:  58% |########################                  | ETA:   0:36:20\n"
     ]
    },
    {
     "name": "stdout",
     "output_type": "stream",
     "text": [
      "t_step: 125 \t, sample_time: 0.003 \tupdate_time: 0.005 \tlearn_time: 0.013 \tsum: 906.393 \tsize: 46218                        \n",
      "Episode 873\tTotal score (max over agents) this episode: 0.30000000447034836\n",
      "t_step: 45 \t, sample_time: 0.003 \tupdate_time: 0.006 \tlearn_time: 0.016 \tsum: 913.429 \tsize: 46314                        "
     ]
    },
    {
     "name": "stderr",
     "output_type": "stream",
     "text": [
      "training loop:  58% |########################                  | ETA:   0:36:18\n"
     ]
    },
    {
     "name": "stdout",
     "output_type": "stream",
     "text": [
      "\n",
      "Episode 874\tTotal score (max over agents) this episode: 0.10000000149011612\n",
      "t_step: 25 \t, sample_time: 0.002 \tupdate_time: 0.006 \tlearn_time: 0.031 \tsum: 914.880 \tsize: 46373                        "
     ]
    },
    {
     "name": "stderr",
     "output_type": "stream",
     "text": [
      "training loop:  58% |########################                  | ETA:   0:36:15\n"
     ]
    },
    {
     "name": "stdout",
     "output_type": "stream",
     "text": [
      "t_step: 25 \t, sample_time: 0.002 \tupdate_time: 0.006 \tlearn_time: 0.020 \tsum: 910.322 \tsize: 46374                        \n",
      "Episode 875\tTotal score (max over agents) this episode: 0.10000000149011612\n",
      "t_step: 105 \t, sample_time: 0.002 \tupdate_time: 0.005 \tlearn_time: 0.024 \tsum: 913.452 \tsize: 46593                        "
     ]
    },
    {
     "name": "stderr",
     "output_type": "stream",
     "text": [
      "training loop:  58% |########################                  | ETA:   0:36:17\n"
     ]
    },
    {
     "name": "stdout",
     "output_type": "stream",
     "text": [
      "t_step: 105 \t, sample_time: 0.003 \tupdate_time: 0.005 \tlearn_time: 0.013 \tsum: 908.198 \tsize: 46594                        \n",
      "Episode 876\tTotal score (max over agents) this episode: 0.20000000298023224\n",
      "t_step: 100 \t, sample_time: 0.002 \tupdate_time: 0.007 \tlearn_time: 0.015 \tsum: 921.211 \tsize: 46796                        "
     ]
    },
    {
     "name": "stderr",
     "output_type": "stream",
     "text": [
      "training loop:  58% |########################                  | ETA:   0:36:20\n"
     ]
    },
    {
     "name": "stdout",
     "output_type": "stream",
     "text": [
      "t_step: 105 \t, sample_time: 0.002 \tupdate_time: 0.004 \tlearn_time: 0.011 \tsum: 928.342 \tsize: 46806                        \n",
      "Episode 877\tTotal score (max over agents) this episode: 0.20000000298023224\n",
      "t_step: 20 \t, sample_time: 0.002 \tupdate_time: 0.004 \tlearn_time: 0.019 \tsum: 917.281 \tsize: 46850                        "
     ]
    },
    {
     "name": "stderr",
     "output_type": "stream",
     "text": [
      "training loop:  58% |########################                  | ETA:   0:36:16\n"
     ]
    },
    {
     "name": "stdout",
     "output_type": "stream",
     "text": [
      "t_step: 25 \t, sample_time: 0.002 \tupdate_time: 0.005 \tlearn_time: 0.012 \tsum: 917.910 \tsize: 46860                        \n",
      "Episode 878\tTotal score (max over agents) this episode: 0.10000000149011612\n",
      "t_step: 25 \t, sample_time: 0.002 \tupdate_time: 0.006 \tlearn_time: 0.019 \tsum: 922.772 \tsize: 46919                        "
     ]
    },
    {
     "name": "stderr",
     "output_type": "stream",
     "text": [
      "training loop:  58% |########################                  | ETA:   0:36:13\n"
     ]
    },
    {
     "name": "stdout",
     "output_type": "stream",
     "text": [
      "t_step: 25 \t, sample_time: 0.004 \tupdate_time: 0.005 \tlearn_time: 0.012 \tsum: 918.325 \tsize: 46920                        \n",
      "Episode 879\tTotal score (max over agents) this episode: 0.10000000149011612\n",
      "t_step: 50 \t, sample_time: 0.003 \tupdate_time: 0.004 \tlearn_time: 0.012 \tsum: 915.897 \tsize: 47029                        "
     ]
    },
    {
     "name": "stderr",
     "output_type": "stream",
     "text": [
      "training loop:  58% |########################                  | ETA:   0:36:11\n"
     ]
    },
    {
     "name": "stdout",
     "output_type": "stream",
     "text": [
      "t_step: 50 \t, sample_time: 0.004 \tupdate_time: 0.007 \tlearn_time: 0.022 \tsum: 912.502 \tsize: 47030                        \n",
      "Episode 880\tTotal score (max over agents) this episode: 0.10000000149011612\n",
      "t_step: 65 \t, sample_time: 0.002 \tupdate_time: 0.005 \tlearn_time: 0.013 \tsum: 926.075 \tsize: 47165                                                "
     ]
    },
    {
     "name": "stderr",
     "output_type": "stream",
     "text": [
      "training loop:  58% |########################                  | ETA:   0:36:11\n"
     ]
    },
    {
     "name": "stdout",
     "output_type": "stream",
     "text": [
      "t_step: 65 \t, sample_time: 0.002 \tupdate_time: 0.006 \tlearn_time: 0.022 \tsum: 923.385 \tsize: 47166                        \n",
      "Episode 881\tTotal score (max over agents) this episode: 0.20000000298023224\n",
      "t_step: 50 \t, sample_time: 0.002 \tupdate_time: 0.003 \tlearn_time: 0.012 \tsum: 924.381 \tsize: 47273                        "
     ]
    },
    {
     "name": "stderr",
     "output_type": "stream",
     "text": [
      "training loop:  58% |########################                  | ETA:   0:36:08\n"
     ]
    },
    {
     "name": "stdout",
     "output_type": "stream",
     "text": [
      "t_step: 50 \t, sample_time: 0.003 \tupdate_time: 0.004 \tlearn_time: 0.083 \tsum: 918.787 \tsize: 47274                        \n",
      "Episode 882\tTotal score (max over agents) this episode: 0.10000000149011612\n",
      "t_step: 60 \t, sample_time: 0.002 \tupdate_time: 0.004 \tlearn_time: 0.028 \tsum: 934.965 \tsize: 47395                        "
     ]
    },
    {
     "name": "stderr",
     "output_type": "stream",
     "text": [
      "training loop:  58% |########################                  | ETA:   0:36:07\n"
     ]
    },
    {
     "name": "stdout",
     "output_type": "stream",
     "text": [
      "t_step: 60 \t, sample_time: 0.002 \tupdate_time: 0.005 \tlearn_time: 0.024 \tsum: 932.183 \tsize: 47396                        \n",
      "Episode 883\tTotal score (max over agents) this episode: 0.10000000149011612\n",
      "t_step: 30 \t, sample_time: 0.004 \tupdate_time: 0.005 \tlearn_time: 0.090 \tsum: 925.439 \tsize: 47464                        "
     ]
    },
    {
     "name": "stderr",
     "output_type": "stream",
     "text": [
      "training loop:  58% |########################                  | ETA:   0:36:04\n"
     ]
    },
    {
     "name": "stdout",
     "output_type": "stream",
     "text": [
      "t_step: 35 \t, sample_time: 0.003 \tupdate_time: 0.005 \tlearn_time: 0.015 \tsum: 925.748 \tsize: 47474                        \n",
      "Episode 884\tTotal score (max over agents) this episode: 0.10000000149011612\n",
      "t_step: 100 \t, sample_time: 0.005 \tupdate_time: 0.006 \tlearn_time: 0.014 \tsum: 931.242 \tsize: 47675                                               "
     ]
    },
    {
     "name": "stderr",
     "output_type": "stream",
     "text": [
      "training loop:  59% |########################                  | ETA:   0:36:08\n"
     ]
    },
    {
     "name": "stdout",
     "output_type": "stream",
     "text": [
      "t_step: 100 \t, sample_time: 0.003 \tupdate_time: 0.008 \tlearn_time: 0.062 \tsum: 928.488 \tsize: 47676                        \n",
      "Episode 885\tTotal score (max over agents) this episode: 0.20000000298023224\n",
      "t_step: 110 \t, sample_time: 0.002 \tupdate_time: 0.022 \tlearn_time: 0.062 \tsum: 944.453 \tsize: 47899                        "
     ]
    },
    {
     "name": "stderr",
     "output_type": "stream",
     "text": [
      "training loop:  59% |########################                  | ETA:   0:36:13\n"
     ]
    },
    {
     "name": "stdout",
     "output_type": "stream",
     "text": [
      "t_step: 110 \t, sample_time: 0.004 \tupdate_time: 0.005 \tlearn_time: 0.052 \tsum: 942.667 \tsize: 47900                        \n",
      "Episode 886\tTotal score (max over agents) this episode: 0.30000000447034836\n",
      "t_step: 35 \t, sample_time: 0.003 \tupdate_time: 0.004 \tlearn_time: 0.014 \tsum: 956.415 \tsize: 47979                        "
     ]
    },
    {
     "name": "stderr",
     "output_type": "stream",
     "text": [
      "training loop:  59% |########################                  | ETA:   0:36:11\n"
     ]
    },
    {
     "name": "stdout",
     "output_type": "stream",
     "text": [
      "t_step: 35 \t, sample_time: 0.004 \tupdate_time: 0.006 \tlearn_time: 0.051 \tsum: 945.220 \tsize: 47980                        \n",
      "Episode 887\tTotal score (max over agents) this episode: 0.10000000149011612\n",
      "t_step: 25 \t, sample_time: 0.003 \tupdate_time: 0.006 \tlearn_time: 0.014 \tsum: 948.099 \tsize: 48031                        "
     ]
    },
    {
     "name": "stderr",
     "output_type": "stream",
     "text": [
      "training loop:  59% |########################                  | ETA:   0:36:08\n"
     ]
    },
    {
     "name": "stdout",
     "output_type": "stream",
     "text": [
      "t_step: 25 \t, sample_time: 0.002 \tupdate_time: 0.004 \tlearn_time: 0.038 \tsum: 942.817 \tsize: 48032                        \n",
      "Episode 888\tTotal score (max over agents) this episode: 0.10000000149011612\n",
      "t_step: 30 \t, sample_time: 0.002 \tupdate_time: 0.005 \tlearn_time: 0.024 \tsum: 958.291 \tsize: 48101                        "
     ]
    },
    {
     "name": "stderr",
     "output_type": "stream",
     "text": [
      "training loop:  59% |########################                  | ETA:   0:36:06\n"
     ]
    },
    {
     "name": "stdout",
     "output_type": "stream",
     "text": [
      "t_step: 30 \t, sample_time: 0.003 \tupdate_time: 0.006 \tlearn_time: 0.015 \tsum: 956.542 \tsize: 48102                        \n",
      "Episode 889\tTotal score (max over agents) this episode: 0.10000000149011612\n",
      "t_step: 25 \t, sample_time: 0.004 \tupdate_time: 0.005 \tlearn_time: 0.013 \tsum: 960.832 \tsize: 48159                        "
     ]
    },
    {
     "name": "stderr",
     "output_type": "stream",
     "text": [
      "training loop:  59% |########################                  | ETA:   0:36:03\n"
     ]
    },
    {
     "name": "stdout",
     "output_type": "stream",
     "text": [
      "t_step: 25 \t, sample_time: 0.002 \tupdate_time: 0.006 \tlearn_time: 0.016 \tsum: 953.910 \tsize: 48160                        \n",
      "Episode 890\tTotal score (max over agents) this episode: 0.10000000149011612\n",
      "t_step: 35 \t, sample_time: 0.004 \tupdate_time: 0.005 \tlearn_time: 0.014 \tsum: 957.013 \tsize: 48239                        "
     ]
    },
    {
     "name": "stderr",
     "output_type": "stream",
     "text": [
      "training loop:  59% |########################                  | ETA:   0:36:01\n"
     ]
    },
    {
     "name": "stdout",
     "output_type": "stream",
     "text": [
      "t_step: 35 \t, sample_time: 0.002 \tupdate_time: 0.004 \tlearn_time: 0.013 \tsum: 953.818 \tsize: 48240                        \n",
      "Episode 891\tTotal score (max over agents) this episode: 0.10000000149011612\n",
      "t_step: 30 \t, sample_time: 0.002 \tupdate_time: 0.009 \tlearn_time: 0.031 \tsum: 957.659 \tsize: 48309                        "
     ]
    },
    {
     "name": "stderr",
     "output_type": "stream",
     "text": [
      "training loop:  59% |########################                  | ETA:   0:35:58\n"
     ]
    },
    {
     "name": "stdout",
     "output_type": "stream",
     "text": [
      "t_step: 30 \t, sample_time: 0.003 \tupdate_time: 0.005 \tlearn_time: 0.014 \tsum: 956.353 \tsize: 48310                        \n",
      "Episode 892\tTotal score (max over agents) this episode: 0.10000000149011612\n",
      "t_step: 65 \t, sample_time: 0.003 \tupdate_time: 0.004 \tlearn_time: 0.014 \tsum: 962.648 \tsize: 48441                        "
     ]
    },
    {
     "name": "stderr",
     "output_type": "stream",
     "text": [
      "training loop:  59% |#########################                 | ETA:   0:35:58\n"
     ]
    },
    {
     "name": "stdout",
     "output_type": "stream",
     "text": [
      "t_step: 65 \t, sample_time: 0.004 \tupdate_time: 0.004 \tlearn_time: 0.019 \tsum: 959.511 \tsize: 48442                        \n",
      "Episode 893\tTotal score (max over agents) this episode: 0.10000000149011612\n",
      "t_step: 40 \t, sample_time: 0.002 \tupdate_time: 0.005 \tlearn_time: 0.017 \tsum: 960.791 \tsize: 48529                        "
     ]
    },
    {
     "name": "stderr",
     "output_type": "stream",
     "text": [
      "training loop:  59% |#########################                 | ETA:   0:35:55\n"
     ]
    },
    {
     "name": "stdout",
     "output_type": "stream",
     "text": [
      "t_step: 40 \t, sample_time: 0.002 \tupdate_time: 0.004 \tlearn_time: 0.013 \tsum: 954.946 \tsize: 48530                        \n",
      "Episode 894\tTotal score (max over agents) this episode: 0.10000000149011612\n",
      "t_step: 65 \t, sample_time: 0.011 \tupdate_time: 0.009 \tlearn_time: 0.020 \tsum: 959.997 \tsize: 48663                        "
     ]
    },
    {
     "name": "stderr",
     "output_type": "stream",
     "text": [
      "training loop:  59% |#########################                 | ETA:   0:35:55\n"
     ]
    },
    {
     "name": "stdout",
     "output_type": "stream",
     "text": [
      "t_step: 65 \t, sample_time: 0.002 \tupdate_time: 0.009 \tlearn_time: 0.063 \tsum: 955.930 \tsize: 48664                        \n",
      "Episode 895\tTotal score (max over agents) this episode: 0.20000000298023224\n",
      "t_step: 165 \t, sample_time: 0.004 \tupdate_time: 0.007 \tlearn_time: 0.032 \tsum: 965.020 \tsize: 48997                        "
     ]
    },
    {
     "name": "stderr",
     "output_type": "stream",
     "text": [
      "training loop:  59% |#########################                 | ETA:   0:36:03\n"
     ]
    },
    {
     "name": "stdout",
     "output_type": "stream",
     "text": [
      "t_step: 165 \t, sample_time: 0.002 \tupdate_time: 0.003 \tlearn_time: 0.016 \tsum: 964.264 \tsize: 48998                        \n",
      "Episode 896\tTotal score (max over agents) this episode: 0.4000000059604645\n",
      "t_step: 85 \t, sample_time: 0.003 \tupdate_time: 0.007 \tlearn_time: 0.024 \tsum: 977.239 \tsize: 49169                        "
     ]
    },
    {
     "name": "stderr",
     "output_type": "stream",
     "text": [
      "training loop:  59% |#########################                 | ETA:   0:36:04\n"
     ]
    },
    {
     "name": "stdout",
     "output_type": "stream",
     "text": [
      "t_step: 85 \t, sample_time: 0.003 \tupdate_time: 0.003 \tlearn_time: 0.015 \tsum: 974.512 \tsize: 49170                        \n",
      "Episode 897\tTotal score (max over agents) this episode: 0.20000000298023224\n",
      "t_step: 30 \t, sample_time: 0.005 \tupdate_time: 0.005 \tlearn_time: 0.016 \tsum: 981.045 \tsize: 49233                        "
     ]
    },
    {
     "name": "stderr",
     "output_type": "stream",
     "text": [
      "training loop:  59% |#########################                 | ETA:   0:36:00\n"
     ]
    },
    {
     "name": "stdout",
     "output_type": "stream",
     "text": [
      "t_step: 30 \t, sample_time: 0.008 \tupdate_time: 0.004 \tlearn_time: 0.020 \tsum: 970.981 \tsize: 49234                        \n",
      "Episode 898\tTotal score (max over agents) this episode: 0.09000000171363354\n",
      "t_step: 25 \t, sample_time: 0.003 \tupdate_time: 0.005 \tlearn_time: 0.014 \tsum: 979.329 \tsize: 49285                        "
     ]
    },
    {
     "name": "stderr",
     "output_type": "stream",
     "text": [
      "training loop:  59% |#########################                 | ETA:   0:35:57\n"
     ]
    },
    {
     "name": "stdout",
     "output_type": "stream",
     "text": [
      "t_step: 25 \t, sample_time: 0.002 \tupdate_time: 0.004 \tlearn_time: 0.024 \tsum: 972.578 \tsize: 49286                        \n",
      "Episode 899\tTotal score (max over agents) this episode: 0.10000000149011612\n",
      "t_step: 25 \t, sample_time: 0.002 \tupdate_time: 0.005 \tlearn_time: 0.013 \tsum: 975.536 \tsize: 49345                        "
     ]
    },
    {
     "name": "stderr",
     "output_type": "stream",
     "text": [
      "training loop:  60% |#########################                 | ETA:   0:35:54\n"
     ]
    },
    {
     "name": "stdout",
     "output_type": "stream",
     "text": [
      "t_step: 25 \t, sample_time: 0.005 \tupdate_time: 0.010 \tlearn_time: 0.068 \tsum: 972.008 \tsize: 49346                        \n",
      "Episode 900\tTotal score (max over agents) this episode: 0.10000000149011612\n",
      "t_step: 30 \t, sample_time: 0.004 \tupdate_time: 0.003 \tlearn_time: 0.039 \tsum: 978.634 \tsize: 49415                        "
     ]
    },
    {
     "name": "stderr",
     "output_type": "stream",
     "text": [
      "training loop:  60% |#########################                 | ETA:   0:35:51\n"
     ]
    },
    {
     "name": "stdout",
     "output_type": "stream",
     "text": [
      "t_step: 30 \t, sample_time: 0.002 \tupdate_time: 0.005 \tlearn_time: 0.059 \tsum: 975.492 \tsize: 49416                        \n",
      "Episode 901\tTotal score (max over agents) this episode: 0.10000000149011612\n",
      "t_step: 25 \t, sample_time: 0.002 \tupdate_time: 0.004 \tlearn_time: 0.033 \tsum: 979.091 \tsize: 49470                        "
     ]
    },
    {
     "name": "stderr",
     "output_type": "stream",
     "text": [
      "training loop:  60% |#########################                 | ETA:   0:35:48\n"
     ]
    },
    {
     "name": "stdout",
     "output_type": "stream",
     "text": [
      "t_step: 30 \t, sample_time: 0.003 \tupdate_time: 0.003 \tlearn_time: 0.017 \tsum: 980.385 \tsize: 49480                        \n",
      "Episode 902\tTotal score (max over agents) this episode: 0.09000000171363354\n",
      "t_step: 25 \t, sample_time: 0.002 \tupdate_time: 0.004 \tlearn_time: 0.014 \tsum: 977.498 \tsize: 49531                        "
     ]
    },
    {
     "name": "stderr",
     "output_type": "stream",
     "text": [
      "training loop:  60% |#########################                 | ETA:   0:35:44\n"
     ]
    },
    {
     "name": "stdout",
     "output_type": "stream",
     "text": [
      "t_step: 25 \t, sample_time: 0.003 \tupdate_time: 0.005 \tlearn_time: 0.036 \tsum: 978.973 \tsize: 49532                        \n",
      "Episode 903\tTotal score (max over agents) this episode: 0.10000000149011612\n",
      "t_step: 25 \t, sample_time: 0.004 \tupdate_time: 0.004 \tlearn_time: 0.025 \tsum: 982.285 \tsize: 49591                        "
     ]
    },
    {
     "name": "stderr",
     "output_type": "stream",
     "text": [
      "training loop:  60% |#########################                 | ETA:   0:35:41\n"
     ]
    },
    {
     "name": "stdout",
     "output_type": "stream",
     "text": [
      "t_step: 25 \t, sample_time: 0.002 \tupdate_time: 0.006 \tlearn_time: 0.016 \tsum: 974.807 \tsize: 49592                        \n",
      "Episode 904\tTotal score (max over agents) this episode: 0.10000000149011612\n",
      "t_step: 30 \t, sample_time: 0.003 \tupdate_time: 0.004 \tlearn_time: 0.050 \tsum: 981.116 \tsize: 49661                        "
     ]
    },
    {
     "name": "stderr",
     "output_type": "stream",
     "text": [
      "training loop:  60% |#########################                 | ETA:   0:35:38\n"
     ]
    },
    {
     "name": "stdout",
     "output_type": "stream",
     "text": [
      "t_step: 30 \t, sample_time: 0.002 \tupdate_time: 0.004 \tlearn_time: 0.021 \tsum: 977.030 \tsize: 49662                        \n",
      "Episode 905\tTotal score (max over agents) this episode: 0.10000000149011612\n",
      "t_step: 25 \t, sample_time: 0.002 \tupdate_time: 0.004 \tlearn_time: 0.013 \tsum: 975.679 \tsize: 49716                        "
     ]
    },
    {
     "name": "stderr",
     "output_type": "stream",
     "text": [
      "training loop:  60% |#########################                 | ETA:   0:35:34\n"
     ]
    },
    {
     "name": "stdout",
     "output_type": "stream",
     "text": [
      "\n",
      "Episode 906\tTotal score (max over agents) this episode: 0.10000000149011612\n",
      "t_step: 25 \t, sample_time: 0.002 \tupdate_time: 0.003 \tlearn_time: 0.066 \tsum: 983.291 \tsize: 49775                        "
     ]
    },
    {
     "name": "stderr",
     "output_type": "stream",
     "text": [
      "training loop:  60% |#########################                 | ETA:   0:35:31\n"
     ]
    },
    {
     "name": "stdout",
     "output_type": "stream",
     "text": [
      "t_step: 25 \t, sample_time: 0.002 \tupdate_time: 0.005 \tlearn_time: 0.014 \tsum: 983.460 \tsize: 49776                        \n",
      "Episode 907\tTotal score (max over agents) this episode: 0.10000000149011612\n",
      "t_step: 45 \t, sample_time: 0.002 \tupdate_time: 0.006 \tlearn_time: 0.016 \tsum: 978.793 \tsize: 49876                        "
     ]
    },
    {
     "name": "stderr",
     "output_type": "stream",
     "text": [
      "training loop:  60% |#########################                 | ETA:   0:35:29\n"
     ]
    },
    {
     "name": "stdout",
     "output_type": "stream",
     "text": [
      "\n",
      "Episode 908\tTotal score (max over agents) this episode: 0.10000000149011612\n",
      "t_step: 50 \t, sample_time: 0.002 \tupdate_time: 0.005 \tlearn_time: 0.019 \tsum: 996.930 \tsize: 49985                        "
     ]
    },
    {
     "name": "stderr",
     "output_type": "stream",
     "text": [
      "training loop:  60% |#########################                 | ETA:   0:35:27\n"
     ]
    },
    {
     "name": "stdout",
     "output_type": "stream",
     "text": [
      "t_step: 50 \t, sample_time: 0.004 \tupdate_time: 0.005 \tlearn_time: 0.027 \tsum: 987.210 \tsize: 49986                        \n",
      "Episode 909\tTotal score (max over agents) this episode: 0.10000000149011612\n",
      "t_step: 30 \t, sample_time: 0.002 \tupdate_time: 0.008 \tlearn_time: 0.046 \tsum: 992.568 \tsize: 50049                        "
     ]
    },
    {
     "name": "stderr",
     "output_type": "stream",
     "text": [
      "training loop:  60% |#########################                 | ETA:   0:35:24\n"
     ]
    },
    {
     "name": "stdout",
     "output_type": "stream",
     "text": [
      "t_step: 30 \t, sample_time: 0.002 \tupdate_time: 0.003 \tlearn_time: 0.076 \tsum: 990.872 \tsize: 50050                        \n",
      "Episode 910\tTotal score (max over agents) this episode: 0.10000000149011612\n",
      "t_step: 25 \t, sample_time: 0.005 \tupdate_time: 0.004 \tlearn_time: 0.013 \tsum: 988.030 \tsize: 50101                        "
     ]
    },
    {
     "name": "stderr",
     "output_type": "stream",
     "text": [
      "training loop:  60% |#########################                 | ETA:   0:35:20\n"
     ]
    },
    {
     "name": "stdout",
     "output_type": "stream",
     "text": [
      "t_step: 25 \t, sample_time: 0.003 \tupdate_time: 0.005 \tlearn_time: 0.025 \tsum: 987.634 \tsize: 50102                        \n",
      "Episode 911\tTotal score (max over agents) this episode: 0.09000000171363354\n",
      "t_step: 60 \t, sample_time: 0.002 \tupdate_time: 0.003 \tlearn_time: 0.010 \tsum: 993.277 \tsize: 50231                         "
     ]
    },
    {
     "name": "stderr",
     "output_type": "stream",
     "text": [
      "training loop:  60% |#########################                 | ETA:   0:35:19\n"
     ]
    },
    {
     "name": "stdout",
     "output_type": "stream",
     "text": [
      "t_step: 60 \t, sample_time: 0.003 \tupdate_time: 0.007 \tlearn_time: 0.014 \tsum: 986.398 \tsize: 50232                        \n",
      "Episode 912\tTotal score (max over agents) this episode: 0.10000000149011612\n",
      "t_step: 30 \t, sample_time: 0.002 \tupdate_time: 0.006 \tlearn_time: 0.069 \tsum: 992.536 \tsize: 50297                         "
     ]
    },
    {
     "name": "stderr",
     "output_type": "stream",
     "text": [
      "training loop:  60% |#########################                 | ETA:   0:35:16\n"
     ]
    },
    {
     "name": "stdout",
     "output_type": "stream",
     "text": [
      "t_step: 30 \t, sample_time: 0.002 \tupdate_time: 0.003 \tlearn_time: 0.011 \tsum: 988.494 \tsize: 50298                        \n",
      "Episode 913\tTotal score (max over agents) this episode: 0.10000000149011612\n",
      "t_step: 105 \t, sample_time: 0.003 \tupdate_time: 0.005 \tlearn_time: 0.029 \tsum: 997.037 \tsize: 50509                        "
     ]
    },
    {
     "name": "stderr",
     "output_type": "stream",
     "text": [
      "training loop:  60% |#########################                 | ETA:   0:35:20\n"
     ]
    },
    {
     "name": "stdout",
     "output_type": "stream",
     "text": [
      "t_step: 105 \t, sample_time: 0.002 \tupdate_time: 0.004 \tlearn_time: 0.022 \tsum: 992.772 \tsize: 50510                        \n",
      "Episode 914\tTotal score (max over agents) this episode: 0.30000000447034836\n",
      "t_step: 25 \t, sample_time: 0.004 \tupdate_time: 0.005 \tlearn_time: 0.021 \tsum: 996.012 \tsize: 50563                         "
     ]
    },
    {
     "name": "stderr",
     "output_type": "stream",
     "text": [
      "training loop:  61% |#########################                 | ETA:   0:35:17\n"
     ]
    },
    {
     "name": "stdout",
     "output_type": "stream",
     "text": [
      "t_step: 25 \t, sample_time: 0.008 \tupdate_time: 0.004 \tlearn_time: 0.035 \tsum: 994.480 \tsize: 50564                        \n",
      "Episode 915\tTotal score (max over agents) this episode: 0.09000000171363354\n",
      "t_step: 30 \t, sample_time: 0.004 \tupdate_time: 0.005 \tlearn_time: 0.056 \tsum: 1001.415 \tsize: 50629                        "
     ]
    },
    {
     "name": "stderr",
     "output_type": "stream",
     "text": [
      "training loop:  61% |#########################                 | ETA:   0:35:14\n"
     ]
    },
    {
     "name": "stdout",
     "output_type": "stream",
     "text": [
      "t_step: 30 \t, sample_time: 0.003 \tupdate_time: 0.005 \tlearn_time: 0.013 \tsum: 995.813 \tsize: 50630                        \n",
      "Episode 916\tTotal score (max over agents) this episode: 0.10000000149011612\n",
      "t_step: 25 \t, sample_time: 0.002 \tupdate_time: 0.007 \tlearn_time: 0.026 \tsum: 1005.339 \tsize: 50683                        "
     ]
    },
    {
     "name": "stderr",
     "output_type": "stream",
     "text": [
      "training loop:  61% |#########################                 | ETA:   0:35:11\n"
     ]
    },
    {
     "name": "stdout",
     "output_type": "stream",
     "text": [
      "t_step: 25 \t, sample_time: 0.003 \tupdate_time: 0.019 \tlearn_time: 0.058 \tsum: 998.445 \tsize: 50684                        \n",
      "Episode 917\tTotal score (max over agents) this episode: 0.10000000149011612\n",
      "t_step: 65 \t, sample_time: 0.002 \tupdate_time: 0.005 \tlearn_time: 0.094 \tsum: 1003.093 \tsize: 50823                        "
     ]
    },
    {
     "name": "stderr",
     "output_type": "stream",
     "text": [
      "training loop:  61% |#########################                 | ETA:   0:35:13\n"
     ]
    },
    {
     "name": "stdout",
     "output_type": "stream",
     "text": [
      "t_step: 65 \t, sample_time: 0.002 \tupdate_time: 0.003 \tlearn_time: 0.030 \tsum: 995.196 \tsize: 50824                        \n",
      "Episode 918\tTotal score (max over agents) this episode: 0.20000000298023224\n",
      "t_step: 30 \t, sample_time: 0.002 \tupdate_time: 0.004 \tlearn_time: 0.012 \tsum: 1006.056 \tsize: 50887                        "
     ]
    },
    {
     "name": "stderr",
     "output_type": "stream",
     "text": [
      "training loop:  61% |#########################                 | ETA:   0:35:10\n"
     ]
    },
    {
     "name": "stdout",
     "output_type": "stream",
     "text": [
      "t_step: 30 \t, sample_time: 0.005 \tupdate_time: 0.004 \tlearn_time: 0.038 \tsum: 994.510 \tsize: 50888                        \n",
      "Episode 919\tTotal score (max over agents) this episode: 0.10000000149011612\n",
      "t_step: 85 \t, sample_time: 0.003 \tupdate_time: 0.004 \tlearn_time: 0.011 \tsum: 1005.779 \tsize: 51061                        "
     ]
    },
    {
     "name": "stderr",
     "output_type": "stream",
     "text": [
      "training loop:  61% |#########################                 | ETA:   0:35:11\n"
     ]
    },
    {
     "name": "stdout",
     "output_type": "stream",
     "text": [
      "t_step: 85 \t, sample_time: 0.002 \tupdate_time: 0.005 \tlearn_time: 0.026 \tsum: 1006.934 \tsize: 51062                        \n",
      "Episode 920\tTotal score (max over agents) this episode: 0.20000000298023224\n",
      "t_step: 25 \t, sample_time: 0.002 \tupdate_time: 0.007 \tlearn_time: 0.032 \tsum: 1008.203 \tsize: 51119                        "
     ]
    },
    {
     "name": "stderr",
     "output_type": "stream",
     "text": [
      "training loop:  61% |#########################                 | ETA:   0:35:07\n"
     ]
    },
    {
     "name": "stdout",
     "output_type": "stream",
     "text": [
      "t_step: 25 \t, sample_time: 0.004 \tupdate_time: 0.007 \tlearn_time: 0.028 \tsum: 1001.874 \tsize: 51120                        \n",
      "Episode 921\tTotal score (max over agents) this episode: 0.10000000149011612\n",
      "t_step: 620 \t, sample_time: 0.003 \tupdate_time: 0.005 \tlearn_time: 0.012 \tsum: 1048.697 \tsize: 52369                        "
     ]
    },
    {
     "name": "stderr",
     "output_type": "stream",
     "text": [
      "training loop:  61% |#########################                 | ETA:   0:35:45\n"
     ]
    },
    {
     "name": "stdout",
     "output_type": "stream",
     "text": [
      "t_step: 620 \t, sample_time: 0.002 \tupdate_time: 0.005 \tlearn_time: 0.033 \tsum: 1045.215 \tsize: 52370                        \n",
      "Episode 922\tTotal score (max over agents) this episode: 1.600000023841858\n",
      "\n",
      "Environment improved in 922 episodes!\tAverage Score: 0.17\n",
      "t_step: 25 \t, sample_time: 0.002 \tupdate_time: 0.003 \tlearn_time: 0.010 \tsum: 1046.954 \tsize: 52429                        "
     ]
    },
    {
     "name": "stderr",
     "output_type": "stream",
     "text": [
      "training loop:  61% |#########################                 | ETA:   0:35:41\n"
     ]
    },
    {
     "name": "stdout",
     "output_type": "stream",
     "text": [
      "t_step: 25 \t, sample_time: 0.004 \tupdate_time: 0.006 \tlearn_time: 0.016 \tsum: 1045.199 \tsize: 52430                        \n",
      "Episode 923\tTotal score (max over agents) this episode: 0.09000000171363354\n",
      "t_step: 25 \t, sample_time: 0.002 \tupdate_time: 0.004 \tlearn_time: 0.014 \tsum: 1056.071 \tsize: 52489                        "
     ]
    },
    {
     "name": "stderr",
     "output_type": "stream",
     "text": [
      "training loop:  61% |#########################                 | ETA:   0:35:37\n"
     ]
    },
    {
     "name": "stdout",
     "output_type": "stream",
     "text": [
      "t_step: 25 \t, sample_time: 0.003 \tupdate_time: 0.007 \tlearn_time: 0.031 \tsum: 1049.378 \tsize: 52490                        \n",
      "Episode 924\tTotal score (max over agents) this episode: 0.10000000149011612\n",
      "t_step: 25 \t, sample_time: 0.003 \tupdate_time: 0.005 \tlearn_time: 0.022 \tsum: 1056.172 \tsize: 52549                        "
     ]
    },
    {
     "name": "stderr",
     "output_type": "stream",
     "text": [
      "training loop:  61% |#########################                 | ETA:   0:35:34\n"
     ]
    },
    {
     "name": "stdout",
     "output_type": "stream",
     "text": [
      "t_step: 25 \t, sample_time: 0.004 \tupdate_time: 0.005 \tlearn_time: 0.037 \tsum: 1050.752 \tsize: 52550                        \n",
      "Episode 925\tTotal score (max over agents) this episode: 0.10000000149011612\n",
      "t_step: 50 \t, sample_time: 0.003 \tupdate_time: 0.005 \tlearn_time: 0.023 \tsum: 1051.788 \tsize: 52659                        "
     ]
    },
    {
     "name": "stderr",
     "output_type": "stream",
     "text": [
      "training loop:  61% |#########################                 | ETA:   0:35:31\n"
     ]
    },
    {
     "name": "stdout",
     "output_type": "stream",
     "text": [
      "t_step: 50 \t, sample_time: 0.005 \tupdate_time: 0.004 \tlearn_time: 0.022 \tsum: 1050.240 \tsize: 52660                        \n",
      "Episode 926\tTotal score (max over agents) this episode: 0.10000000149011612\n",
      "t_step: 25 \t, sample_time: 0.003 \tupdate_time: 0.005 \tlearn_time: 0.016 \tsum: 1065.185 \tsize: 52713                        "
     ]
    },
    {
     "name": "stderr",
     "output_type": "stream",
     "text": [
      "training loop:  61% |#########################                 | ETA:   0:35:28\n"
     ]
    },
    {
     "name": "stdout",
     "output_type": "stream",
     "text": [
      "t_step: 25 \t, sample_time: 0.002 \tupdate_time: 0.006 \tlearn_time: 0.014 \tsum: 1062.479 \tsize: 52714                        \n",
      "Episode 927\tTotal score (max over agents) this episode: 0.10000000149011612\n",
      "t_step: 365 \t, sample_time: 0.004 \tupdate_time: 0.004 \tlearn_time: 0.034 \tsum: 1090.472 \tsize: 53453                        "
     ]
    },
    {
     "name": "stderr",
     "output_type": "stream",
     "text": [
      "training loop:  61% |#########################                 | ETA:   0:35:48\n"
     ]
    },
    {
     "name": "stdout",
     "output_type": "stream",
     "text": [
      "t_step: 365 \t, sample_time: 0.002 \tupdate_time: 0.005 \tlearn_time: 0.034 \tsum: 1084.737 \tsize: 53454                        \n",
      "Episode 928\tTotal score (max over agents) this episode: 0.9000000134110451\n",
      "t_step: 295 \t, sample_time: 0.003 \tupdate_time: 0.004 \tlearn_time: 0.019 \tsum: 1076.525 \tsize: 54050                        "
     ]
    },
    {
     "name": "stderr",
     "output_type": "stream",
     "text": [
      "training loop:  61% |##########################                | ETA:   0:36:08\n"
     ]
    },
    {
     "name": "stdout",
     "output_type": "stream",
     "text": [
      "\n",
      "Episode 929\tTotal score (max over agents) this episode: 0.800000011920929\n",
      "t_step: 25 \t, sample_time: 0.002 \tupdate_time: 0.018 \tlearn_time: 0.080 \tsum: 1088.335 \tsize: 54109                        "
     ]
    },
    {
     "name": "stderr",
     "output_type": "stream",
     "text": [
      "training loop:  62% |##########################                | ETA:   0:36:06\n"
     ]
    },
    {
     "name": "stdout",
     "output_type": "stream",
     "text": [
      "t_step: 25 \t, sample_time: 0.003 \tupdate_time: 0.006 \tlearn_time: 0.024 \tsum: 1081.834 \tsize: 54110                        \n",
      "Episode 930\tTotal score (max over agents) this episode: 0.09000000171363354\n",
      "t_step: 30 \t, sample_time: 0.003 \tupdate_time: 0.004 \tlearn_time: 0.081 \tsum: 1089.831 \tsize: 54179                        "
     ]
    },
    {
     "name": "stderr",
     "output_type": "stream",
     "text": [
      "training loop:  62% |##########################                | ETA:   0:36:03\n"
     ]
    },
    {
     "name": "stdout",
     "output_type": "stream",
     "text": [
      "t_step: 30 \t, sample_time: 0.003 \tupdate_time: 0.005 \tlearn_time: 0.025 \tsum: 1081.393 \tsize: 54180                        \n",
      "Episode 931\tTotal score (max over agents) this episode: 0.10000000149011612\n",
      "t_step: 25 \t, sample_time: 0.002 \tupdate_time: 0.005 \tlearn_time: 0.017 \tsum: 1087.846 \tsize: 54231                        "
     ]
    },
    {
     "name": "stderr",
     "output_type": "stream",
     "text": [
      "training loop:  62% |##########################                | ETA:   0:35:59\n"
     ]
    },
    {
     "name": "stdout",
     "output_type": "stream",
     "text": [
      "t_step: 25 \t, sample_time: 0.002 \tupdate_time: 0.005 \tlearn_time: 0.032 \tsum: 1080.494 \tsize: 54232                        \n",
      "Episode 932\tTotal score (max over agents) this episode: 0.10000000149011612\n",
      "t_step: 60 \t, sample_time: 0.002 \tupdate_time: 0.004 \tlearn_time: 0.018 \tsum: 1095.605 \tsize: 54361                        "
     ]
    },
    {
     "name": "stderr",
     "output_type": "stream",
     "text": [
      "training loop:  62% |##########################                | ETA:   0:35:59\n"
     ]
    },
    {
     "name": "stdout",
     "output_type": "stream",
     "text": [
      "t_step: 60 \t, sample_time: 0.004 \tupdate_time: 0.006 \tlearn_time: 0.020 \tsum: 1091.682 \tsize: 54362                        \n",
      "Episode 933\tTotal score (max over agents) this episode: 0.10000000149011612\n",
      "t_step: 140 \t, sample_time: 0.002 \tupdate_time: 0.004 \tlearn_time: 0.034 \tsum: 1106.757 \tsize: 54649                        "
     ]
    },
    {
     "name": "stderr",
     "output_type": "stream",
     "text": [
      "training loop:  62% |##########################                | ETA:   0:36:05\n"
     ]
    },
    {
     "name": "stdout",
     "output_type": "stream",
     "text": [
      "t_step: 140 \t, sample_time: 0.004 \tupdate_time: 0.009 \tlearn_time: 0.035 \tsum: 1102.920 \tsize: 54650                        \n",
      "Episode 934\tTotal score (max over agents) this episode: 0.4000000059604645\n",
      "t_step: 50 \t, sample_time: 0.004 \tupdate_time: 0.006 \tlearn_time: 0.032 \tsum: 1119.525 \tsize: 54759                        "
     ]
    },
    {
     "name": "stderr",
     "output_type": "stream",
     "text": [
      "training loop:  62% |##########################                | ETA:   0:36:04\n"
     ]
    },
    {
     "name": "stdout",
     "output_type": "stream",
     "text": [
      "t_step: 50 \t, sample_time: 0.002 \tupdate_time: 0.004 \tlearn_time: 0.020 \tsum: 1109.407 \tsize: 54760                        \n",
      "Episode 935\tTotal score (max over agents) this episode: 0.10000000149011612\n",
      "t_step: 180 \t, sample_time: 0.003 \tupdate_time: 0.004 \tlearn_time: 0.015 \tsum: 1123.995 \tsize: 55123                        "
     ]
    },
    {
     "name": "stderr",
     "output_type": "stream",
     "text": [
      "training loop:  62% |##########################                | ETA:   0:36:12\n"
     ]
    },
    {
     "name": "stdout",
     "output_type": "stream",
     "text": [
      "t_step: 180 \t, sample_time: 0.008 \tupdate_time: 0.004 \tlearn_time: 0.012 \tsum: 1116.031 \tsize: 55124                        \n",
      "Episode 936\tTotal score (max over agents) this episode: 0.5000000074505806\n",
      "t_step: 25 \t, sample_time: 0.002 \tupdate_time: 0.005 \tlearn_time: 0.012 \tsum: 1120.592 \tsize: 55177                        "
     ]
    },
    {
     "name": "stderr",
     "output_type": "stream",
     "text": [
      "training loop:  62% |##########################                | ETA:   0:36:08\n"
     ]
    },
    {
     "name": "stdout",
     "output_type": "stream",
     "text": [
      "t_step: 25 \t, sample_time: 0.002 \tupdate_time: 0.005 \tlearn_time: 0.012 \tsum: 1113.466 \tsize: 55178                        \n",
      "Episode 937\tTotal score (max over agents) this episode: 0.09000000171363354\n",
      "t_step: 25 \t, sample_time: 0.002 \tupdate_time: 0.005 \tlearn_time: 0.013 \tsum: 1113.701 \tsize: 55238                        "
     ]
    },
    {
     "name": "stderr",
     "output_type": "stream",
     "text": [
      "training loop:  62% |##########################                | ETA:   0:36:04\n"
     ]
    },
    {
     "name": "stdout",
     "output_type": "stream",
     "text": [
      "\n",
      "Episode 938\tTotal score (max over agents) this episode: 0.10000000149011612\n",
      "t_step: 50 \t, sample_time: 0.002 \tupdate_time: 0.006 \tlearn_time: 0.014 \tsum: 1122.401 \tsize: 55347                        "
     ]
    },
    {
     "name": "stderr",
     "output_type": "stream",
     "text": [
      "training loop:  62% |##########################                | ETA:   0:36:02\n"
     ]
    },
    {
     "name": "stdout",
     "output_type": "stream",
     "text": [
      "t_step: 50 \t, sample_time: 0.002 \tupdate_time: 0.003 \tlearn_time: 0.011 \tsum: 1117.915 \tsize: 55348                        \n",
      "Episode 939\tTotal score (max over agents) this episode: 0.10000000149011612\n",
      "t_step: 335 \t, sample_time: 0.002 \tupdate_time: 0.005 \tlearn_time: 0.014 \tsum: 1142.564 \tsize: 56021                        "
     ]
    },
    {
     "name": "stderr",
     "output_type": "stream",
     "text": [
      "training loop:  62% |##########################                | ETA:   0:36:21\n"
     ]
    },
    {
     "name": "stdout",
     "output_type": "stream",
     "text": [
      "t_step: 335 \t, sample_time: 0.002 \tupdate_time: 0.004 \tlearn_time: 0.034 \tsum: 1133.571 \tsize: 56022                        \n",
      "Episode 940\tTotal score (max over agents) this episode: 0.9000000134110451\n",
      "t_step: 220 \t, sample_time: 0.004 \tupdate_time: 0.006 \tlearn_time: 0.026 \tsum: 1150.030 \tsize: 56467                        "
     ]
    },
    {
     "name": "stderr",
     "output_type": "stream",
     "text": [
      "training loop:  62% |##########################                | ETA:   0:36:30\n"
     ]
    },
    {
     "name": "stdout",
     "output_type": "stream",
     "text": [
      "t_step: 220 \t, sample_time: 0.002 \tupdate_time: 0.004 \tlearn_time: 0.013 \tsum: 1144.933 \tsize: 56468                        \n",
      "Episode 941\tTotal score (max over agents) this episode: 0.5000000074505806\n",
      "t_step: 190 \t, sample_time: 0.004 \tupdate_time: 0.007 \tlearn_time: 0.032 \tsum: 1162.833 \tsize: 56853                        "
     ]
    },
    {
     "name": "stderr",
     "output_type": "stream",
     "text": [
      "training loop:  62% |##########################                | ETA:   0:36:37\n"
     ]
    },
    {
     "name": "stdout",
     "output_type": "stream",
     "text": [
      "t_step: 190 \t, sample_time: 0.003 \tupdate_time: 0.008 \tlearn_time: 0.017 \tsum: 1160.331 \tsize: 56854                        \n",
      "Episode 942\tTotal score (max over agents) this episode: 0.5000000074505806\n",
      "t_step: 30 \t, sample_time: 0.003 \tupdate_time: 0.008 \tlearn_time: 0.026 \tsum: 1153.271 \tsize: 56921                        "
     ]
    },
    {
     "name": "stderr",
     "output_type": "stream",
     "text": [
      "training loop:  62% |##########################                | ETA:   0:36:34\n"
     ]
    },
    {
     "name": "stdout",
     "output_type": "stream",
     "text": [
      "t_step: 30 \t, sample_time: 0.006 \tupdate_time: 0.006 \tlearn_time: 0.047 \tsum: 1149.057 \tsize: 56922                        \n",
      "Episode 943\tTotal score (max over agents) this episode: 0.10000000149011612\n",
      "t_step: 25 \t, sample_time: 0.016 \tupdate_time: 0.004 \tlearn_time: 0.093 \tsum: 1162.166 \tsize: 56973                        "
     ]
    },
    {
     "name": "stderr",
     "output_type": "stream",
     "text": [
      "training loop:  62% |##########################                | ETA:   0:36:30\n"
     ]
    },
    {
     "name": "stdout",
     "output_type": "stream",
     "text": [
      "t_step: 25 \t, sample_time: 0.002 \tupdate_time: 0.003 \tlearn_time: 0.048 \tsum: 1155.550 \tsize: 56974                        \n",
      "Episode 944\tTotal score (max over agents) this episode: 0.09000000171363354\n",
      "t_step: 65 \t, sample_time: 0.005 \tupdate_time: 0.005 \tlearn_time: 0.015 \tsum: 1161.241 \tsize: 57114                        "
     ]
    },
    {
     "name": "stderr",
     "output_type": "stream",
     "text": [
      "training loop:  63% |##########################                | ETA:   0:36:29\n"
     ]
    },
    {
     "name": "stdout",
     "output_type": "stream",
     "text": [
      "\n",
      "Episode 945\tTotal score (max over agents) this episode: 0.20000000298023224\n",
      "t_step: 25 \t, sample_time: 0.001 \tupdate_time: 0.003 \tlearn_time: 0.012 \tsum: 1170.322 \tsize: 57167                        "
     ]
    },
    {
     "name": "stderr",
     "output_type": "stream",
     "text": [
      "training loop:  63% |##########################                | ETA:   0:36:25\n"
     ]
    },
    {
     "name": "stdout",
     "output_type": "stream",
     "text": [
      "t_step: 25 \t, sample_time: 0.003 \tupdate_time: 0.006 \tlearn_time: 0.017 \tsum: 1165.841 \tsize: 57168                        \n",
      "Episode 946\tTotal score (max over agents) this episode: 0.10000000149011612\n",
      "t_step: 25 \t, sample_time: 0.002 \tupdate_time: 0.005 \tlearn_time: 0.022 \tsum: 1162.849 \tsize: 57228                        "
     ]
    },
    {
     "name": "stderr",
     "output_type": "stream",
     "text": [
      "training loop:  63% |##########################                | ETA:   0:36:22\n"
     ]
    },
    {
     "name": "stdout",
     "output_type": "stream",
     "text": [
      "t_step: 30 \t, sample_time: 0.004 \tupdate_time: 0.010 \tlearn_time: 0.036 \tsum: 1162.104 \tsize: 57238                        \n",
      "Episode 947\tTotal score (max over agents) this episode: 0.10000000149011612\n",
      "t_step: 25 \t, sample_time: 0.002 \tupdate_time: 0.004 \tlearn_time: 0.017 \tsum: 1165.376 \tsize: 57290                        "
     ]
    },
    {
     "name": "stderr",
     "output_type": "stream",
     "text": [
      "training loop:  63% |##########################                | ETA:   0:36:18\n"
     ]
    },
    {
     "name": "stdout",
     "output_type": "stream",
     "text": [
      "t_step: 30 \t, sample_time: 0.002 \tupdate_time: 0.005 \tlearn_time: 0.014 \tsum: 1164.692 \tsize: 57300                        \n",
      "Episode 948\tTotal score (max over agents) this episode: 0.10000000149011612\n",
      "t_step: 30 \t, sample_time: 0.002 \tupdate_time: 0.006 \tlearn_time: 0.013 \tsum: 1166.141 \tsize: 57361                        "
     ]
    },
    {
     "name": "stderr",
     "output_type": "stream",
     "text": [
      "training loop:  63% |##########################                | ETA:   0:36:14\n"
     ]
    },
    {
     "name": "stdout",
     "output_type": "stream",
     "text": [
      "t_step: 30 \t, sample_time: 0.002 \tupdate_time: 0.005 \tlearn_time: 0.013 \tsum: 1164.883 \tsize: 57362                        \n",
      "Episode 949\tTotal score (max over agents) this episode: 0.10000000149011612\n",
      "t_step: 50 \t, sample_time: 0.014 \tupdate_time: 0.005 \tlearn_time: 0.027 \tsum: 1181.311 \tsize: 57463                        "
     ]
    },
    {
     "name": "stderr",
     "output_type": "stream",
     "text": [
      "training loop:  63% |##########################                | ETA:   0:36:12\n"
     ]
    },
    {
     "name": "stdout",
     "output_type": "stream",
     "text": [
      "t_step: 50 \t, sample_time: 0.003 \tupdate_time: 0.004 \tlearn_time: 0.029 \tsum: 1168.360 \tsize: 57464                        \n",
      "Episode 950\tTotal score (max over agents) this episode: 0.10000000149011612\n",
      "t_step: 140 \t, sample_time: 0.003 \tupdate_time: 0.018 \tlearn_time: 0.032 \tsum: 1183.684 \tsize: 57747                        "
     ]
    },
    {
     "name": "stderr",
     "output_type": "stream",
     "text": [
      "training loop:  63% |##########################                | ETA:   0:36:15\n"
     ]
    },
    {
     "name": "stdout",
     "output_type": "stream",
     "text": [
      "t_step: 140 \t, sample_time: 0.004 \tupdate_time: 0.005 \tlearn_time: 0.041 \tsum: 1180.962 \tsize: 57748                        \n",
      "Episode 951\tTotal score (max over agents) this episode: 0.30000000447034836\n",
      "t_step: 100 \t, sample_time: 0.004 \tupdate_time: 0.005 \tlearn_time: 0.026 \tsum: 1189.118 \tsize: 57951                        "
     ]
    },
    {
     "name": "stderr",
     "output_type": "stream",
     "text": [
      "training loop:  63% |##########################                | ETA:   0:36:16\n"
     ]
    },
    {
     "name": "stdout",
     "output_type": "stream",
     "text": [
      "t_step: 100 \t, sample_time: 0.002 \tupdate_time: 0.003 \tlearn_time: 0.015 \tsum: 1190.673 \tsize: 57952                        \n",
      "Episode 952\tTotal score (max over agents) this episode: 0.30000000447034836\n",
      "t_step: 25 \t, sample_time: 0.002 \tupdate_time: 0.004 \tlearn_time: 0.010 \tsum: 1188.318 \tsize: 58012                        "
     ]
    },
    {
     "name": "stderr",
     "output_type": "stream",
     "text": [
      "training loop:  63% |##########################                | ETA:   0:36:12\n"
     ]
    },
    {
     "name": "stdout",
     "output_type": "stream",
     "text": [
      "\n",
      "Episode 953\tTotal score (max over agents) this episode: 0.09000000171363354\n",
      "t_step: 85 \t, sample_time: 0.002 \tupdate_time: 0.004 \tlearn_time: 0.012 \tsum: 1205.563 \tsize: 58191                        "
     ]
    },
    {
     "name": "stderr",
     "output_type": "stream",
     "text": [
      "training loop:  63% |##########################                | ETA:   0:36:12\n"
     ]
    },
    {
     "name": "stdout",
     "output_type": "stream",
     "text": [
      "t_step: 85 \t, sample_time: 0.002 \tupdate_time: 0.003 \tlearn_time: 0.047 \tsum: 1196.583 \tsize: 58192                        \n",
      "Episode 954\tTotal score (max over agents) this episode: 0.20000000298023224\n",
      "t_step: 65 \t, sample_time: 0.003 \tupdate_time: 0.004 \tlearn_time: 0.010 \tsum: 1204.353 \tsize: 58327                        "
     ]
    },
    {
     "name": "stderr",
     "output_type": "stream",
     "text": [
      "training loop:  63% |##########################                | ETA:   0:36:12\n"
     ]
    },
    {
     "name": "stdout",
     "output_type": "stream",
     "text": [
      "t_step: 65 \t, sample_time: 0.003 \tupdate_time: 0.006 \tlearn_time: 0.071 \tsum: 1197.722 \tsize: 58328                        \n",
      "Episode 955\tTotal score (max over agents) this episode: 0.20000000298023224\n",
      "t_step: 50 \t, sample_time: 0.004 \tupdate_time: 0.006 \tlearn_time: 0.012 \tsum: 1201.452 \tsize: 58433                        "
     ]
    },
    {
     "name": "stderr",
     "output_type": "stream",
     "text": [
      "training loop:  63% |##########################                | ETA:   0:36:09\n"
     ]
    },
    {
     "name": "stdout",
     "output_type": "stream",
     "text": [
      "t_step: 50 \t, sample_time: 0.002 \tupdate_time: 0.004 \tlearn_time: 0.019 \tsum: 1198.746 \tsize: 58434                        \n",
      "Episode 956\tTotal score (max over agents) this episode: 0.10000000149011612\n",
      "t_step: 70 \t, sample_time: 0.003 \tupdate_time: 0.005 \tlearn_time: 0.031 \tsum: 1207.210 \tsize: 58577                        "
     ]
    },
    {
     "name": "stderr",
     "output_type": "stream",
     "text": [
      "training loop:  63% |##########################                | ETA:   0:36:08\n"
     ]
    },
    {
     "name": "stdout",
     "output_type": "stream",
     "text": [
      "t_step: 70 \t, sample_time: 0.002 \tupdate_time: 0.008 \tlearn_time: 0.017 \tsum: 1202.551 \tsize: 58578                        \n",
      "Episode 957\tTotal score (max over agents) this episode: 0.20000000298023224\n",
      "t_step: 25 \t, sample_time: 0.002 \tupdate_time: 0.011 \tlearn_time: 0.020 \tsum: 1207.873 \tsize: 58631                        "
     ]
    },
    {
     "name": "stderr",
     "output_type": "stream",
     "text": [
      "training loop:  63% |##########################                | ETA:   0:36:04\n"
     ]
    },
    {
     "name": "stdout",
     "output_type": "stream",
     "text": [
      "t_step: 25 \t, sample_time: 0.002 \tupdate_time: 0.005 \tlearn_time: 0.017 \tsum: 1200.282 \tsize: 58632                        \n",
      "Episode 958\tTotal score (max over agents) this episode: 0.10000000149011612\n",
      "t_step: 30 \t, sample_time: 0.004 \tupdate_time: 0.017 \tlearn_time: 0.049 \tsum: 1207.917 \tsize: 58701                        "
     ]
    },
    {
     "name": "stderr",
     "output_type": "stream",
     "text": [
      "training loop:  63% |##########################                | ETA:   0:36:00\n"
     ]
    },
    {
     "name": "stdout",
     "output_type": "stream",
     "text": [
      "t_step: 30 \t, sample_time: 0.002 \tupdate_time: 0.005 \tlearn_time: 0.039 \tsum: 1205.346 \tsize: 58702                        \n",
      "Episode 959\tTotal score (max over agents) this episode: 0.10000000149011612\n",
      "t_step: 85 \t, sample_time: 0.004 \tupdate_time: 0.006 \tlearn_time: 0.028 \tsum: 1226.697 \tsize: 58877                        "
     ]
    },
    {
     "name": "stderr",
     "output_type": "stream",
     "text": [
      "training loop:  64% |##########################                | ETA:   0:36:01\n"
     ]
    },
    {
     "name": "stdout",
     "output_type": "stream",
     "text": [
      "t_step: 85 \t, sample_time: 0.004 \tupdate_time: 0.005 \tlearn_time: 0.025 \tsum: 1216.203 \tsize: 58878                        \n",
      "Episode 960\tTotal score (max over agents) this episode: 0.20000000298023224\n",
      "t_step: 105 \t, sample_time: 0.003 \tupdate_time: 0.005 \tlearn_time: 0.015 \tsum: 1234.996 \tsize: 59097                        "
     ]
    },
    {
     "name": "stderr",
     "output_type": "stream",
     "text": [
      "training loop:  64% |##########################                | ETA:   0:36:01\n"
     ]
    },
    {
     "name": "stdout",
     "output_type": "stream",
     "text": [
      "t_step: 105 \t, sample_time: 0.004 \tupdate_time: 0.004 \tlearn_time: 0.014 \tsum: 1223.564 \tsize: 59098                        \n",
      "Episode 961\tTotal score (max over agents) this episode: 0.30000000447034836\n",
      "t_step: 25 \t, sample_time: 0.002 \tupdate_time: 0.005 \tlearn_time: 0.011 \tsum: 1222.652 \tsize: 59149                        "
     ]
    },
    {
     "name": "stderr",
     "output_type": "stream",
     "text": [
      "training loop:  64% |##########################                | ETA:   0:35:57\n"
     ]
    },
    {
     "name": "stdout",
     "output_type": "stream",
     "text": [
      "t_step: 25 \t, sample_time: 0.002 \tupdate_time: 0.006 \tlearn_time: 0.016 \tsum: 1219.845 \tsize: 59150                        \n",
      "Episode 962\tTotal score (max over agents) this episode: 0.10000000149011612\n",
      "t_step: 25 \t, sample_time: 0.003 \tupdate_time: 0.005 \tlearn_time: 0.016 \tsum: 1229.689 \tsize: 59209                        "
     ]
    },
    {
     "name": "stderr",
     "output_type": "stream",
     "text": [
      "training loop:  64% |##########################                | ETA:   0:35:53\n"
     ]
    },
    {
     "name": "stdout",
     "output_type": "stream",
     "text": [
      "t_step: 25 \t, sample_time: 0.003 \tupdate_time: 0.007 \tlearn_time: 0.017 \tsum: 1220.162 \tsize: 59210                        \n",
      "Episode 963\tTotal score (max over agents) this episode: 0.10000000149011612\n",
      "t_step: 50 \t, sample_time: 0.003 \tupdate_time: 0.006 \tlearn_time: 0.017 \tsum: 1228.108 \tsize: 59319                        "
     ]
    },
    {
     "name": "stderr",
     "output_type": "stream",
     "text": [
      "training loop:  64% |##########################                | ETA:   0:35:50\n"
     ]
    },
    {
     "name": "stdout",
     "output_type": "stream",
     "text": [
      "t_step: 50 \t, sample_time: 0.002 \tupdate_time: 0.005 \tlearn_time: 0.016 \tsum: 1222.649 \tsize: 59320                        \n",
      "Episode 964\tTotal score (max over agents) this episode: 0.10000000149011612\n",
      "t_step: 25 \t, sample_time: 0.002 \tupdate_time: 0.006 \tlearn_time: 0.015 \tsum: 1218.068 \tsize: 59372                        "
     ]
    },
    {
     "name": "stderr",
     "output_type": "stream",
     "text": [
      "training loop:  64% |###########################               | ETA:   0:35:46\n"
     ]
    },
    {
     "name": "stdout",
     "output_type": "stream",
     "text": [
      "\n",
      "Episode 965\tTotal score (max over agents) this episode: 0.10000000149011612\n",
      "t_step: 65 \t, sample_time: 0.005 \tupdate_time: 0.006 \tlearn_time: 0.031 \tsum: 1223.641 \tsize: 59511                        "
     ]
    },
    {
     "name": "stderr",
     "output_type": "stream",
     "text": [
      "training loop:  64% |###########################               | ETA:   0:35:46\n"
     ]
    },
    {
     "name": "stdout",
     "output_type": "stream",
     "text": [
      "t_step: 65 \t, sample_time: 0.002 \tupdate_time: 0.006 \tlearn_time: 0.019 \tsum: 1219.872 \tsize: 59512                        \n",
      "Episode 966\tTotal score (max over agents) this episode: 0.10000000149011612\n",
      "t_step: 30 \t, sample_time: 0.005 \tupdate_time: 0.003 \tlearn_time: 0.063 \tsum: 1226.038 \tsize: 59579                        "
     ]
    },
    {
     "name": "stderr",
     "output_type": "stream",
     "text": [
      "training loop:  64% |###########################               | ETA:   0:35:43\n"
     ]
    },
    {
     "name": "stdout",
     "output_type": "stream",
     "text": [
      "t_step: 30 \t, sample_time: 0.003 \tupdate_time: 0.008 \tlearn_time: 0.050 \tsum: 1220.795 \tsize: 59580                        \n",
      "Episode 967\tTotal score (max over agents) this episode: 0.10000000149011612\n",
      "t_step: 25 \t, sample_time: 0.005 \tupdate_time: 0.005 \tlearn_time: 0.026 \tsum: 1229.528 \tsize: 59631                        "
     ]
    },
    {
     "name": "stderr",
     "output_type": "stream",
     "text": [
      "training loop:  64% |###########################               | ETA:   0:35:40\n"
     ]
    },
    {
     "name": "stdout",
     "output_type": "stream",
     "text": [
      "t_step: 25 \t, sample_time: 0.002 \tupdate_time: 0.006 \tlearn_time: 0.019 \tsum: 1224.806 \tsize: 59632                        \n",
      "Episode 968\tTotal score (max over agents) this episode: 0.10000000149011612\n",
      "t_step: 65 \t, sample_time: 0.003 \tupdate_time: 0.007 \tlearn_time: 0.015 \tsum: 1232.699 \tsize: 59771                        "
     ]
    },
    {
     "name": "stderr",
     "output_type": "stream",
     "text": [
      "training loop:  64% |###########################               | ETA:   0:35:39\n"
     ]
    },
    {
     "name": "stdout",
     "output_type": "stream",
     "text": [
      "t_step: 65 \t, sample_time: 0.004 \tupdate_time: 0.006 \tlearn_time: 0.027 \tsum: 1218.009 \tsize: 59772                        \n",
      "Episode 969\tTotal score (max over agents) this episode: 0.20000000298023224\n",
      "t_step: 50 \t, sample_time: 0.002 \tupdate_time: 0.009 \tlearn_time: 0.016 \tsum: 1225.837 \tsize: 59879                        "
     ]
    },
    {
     "name": "stderr",
     "output_type": "stream",
     "text": [
      "training loop:  64% |###########################               | ETA:   0:35:37\n"
     ]
    },
    {
     "name": "stdout",
     "output_type": "stream",
     "text": [
      "t_step: 50 \t, sample_time: 0.004 \tupdate_time: 0.005 \tlearn_time: 0.019 \tsum: 1218.528 \tsize: 59880                        \n",
      "Episode 970\tTotal score (max over agents) this episode: 0.10000000149011612\n",
      "t_step: 140 \t, sample_time: 0.002 \tupdate_time: 0.006 \tlearn_time: 0.025 \tsum: 1231.021 \tsize: 60163                                                "
     ]
    },
    {
     "name": "stderr",
     "output_type": "stream",
     "text": [
      "training loop:  64% |###########################               | ETA:   0:35:41\n"
     ]
    },
    {
     "name": "stdout",
     "output_type": "stream",
     "text": [
      "t_step: 140 \t, sample_time: 0.004 \tupdate_time: 0.004 \tlearn_time: 0.029 \tsum: 1221.201 \tsize: 60164                        \n",
      "Episode 971\tTotal score (max over agents) this episode: 0.4000000059604645\n",
      "t_step: 30 \t, sample_time: 0.003 \tupdate_time: 0.005 \tlearn_time: 0.011 \tsum: 1228.044 \tsize: 60231                        "
     ]
    },
    {
     "name": "stderr",
     "output_type": "stream",
     "text": [
      "training loop:  64% |###########################               | ETA:   0:35:38\n"
     ]
    },
    {
     "name": "stdout",
     "output_type": "stream",
     "text": [
      "t_step: 30 \t, sample_time: 0.002 \tupdate_time: 0.006 \tlearn_time: 0.014 \tsum: 1229.424 \tsize: 60232                        \n",
      "Episode 972\tTotal score (max over agents) this episode: 0.10000000149011612\n",
      "t_step: 25 \t, sample_time: 0.003 \tupdate_time: 0.007 \tlearn_time: 0.015 \tsum: 1229.818 \tsize: 60283                        "
     ]
    },
    {
     "name": "stderr",
     "output_type": "stream",
     "text": [
      "training loop:  64% |###########################               | ETA:   0:35:34\n"
     ]
    },
    {
     "name": "stdout",
     "output_type": "stream",
     "text": [
      "t_step: 25 \t, sample_time: 0.004 \tupdate_time: 0.006 \tlearn_time: 0.016 \tsum: 1229.359 \tsize: 60284                        \n",
      "Episode 973\tTotal score (max over agents) this episode: 0.10000000149011612\n",
      "t_step: 135 \t, sample_time: 0.002 \tupdate_time: 0.004 \tlearn_time: 0.013 \tsum: 1240.086 \tsize: 60564                        \n",
      "Episode 974\tTotal score (max over agents) this episode: 0.30000000447034836\n"
     ]
    },
    {
     "name": "stderr",
     "output_type": "stream",
     "text": [
      "training loop:  64% |###########################               | ETA:   0:35:37\n"
     ]
    },
    {
     "name": "stdout",
     "output_type": "stream",
     "text": [
      "t_step: 30 \t, sample_time: 0.006 \tupdate_time: 0.005 \tlearn_time: 0.016 \tsum: 1242.818 \tsize: 60633                        "
     ]
    },
    {
     "name": "stderr",
     "output_type": "stream",
     "text": [
      "training loop:  65% |###########################               | ETA:   0:35:33\n"
     ]
    },
    {
     "name": "stdout",
     "output_type": "stream",
     "text": [
      "t_step: 30 \t, sample_time: 0.003 \tupdate_time: 0.004 \tlearn_time: 0.016 \tsum: 1233.068 \tsize: 60634                        \n",
      "Episode 975\tTotal score (max over agents) this episode: 0.10000000149011612\n",
      "t_step: 45 \t, sample_time: 0.006 \tupdate_time: 0.007 \tlearn_time: 0.016 \tsum: 1237.495 \tsize: 60726                        "
     ]
    },
    {
     "name": "stderr",
     "output_type": "stream",
     "text": [
      "training loop:  65% |###########################               | ETA:   0:35:31\n"
     ]
    },
    {
     "name": "stdout",
     "output_type": "stream",
     "text": [
      "t_step: 50 \t, sample_time: 0.002 \tupdate_time: 0.006 \tlearn_time: 0.016 \tsum: 1237.339 \tsize: 60736                        \n",
      "Episode 976\tTotal score (max over agents) this episode: 0.10000000149011612\n",
      "t_step: 115 \t, sample_time: 0.002 \tupdate_time: 0.004 \tlearn_time: 0.013 \tsum: 1241.457 \tsize: 60967                        "
     ]
    },
    {
     "name": "stderr",
     "output_type": "stream",
     "text": [
      "training loop:  65% |###########################               | ETA:   0:35:32\n"
     ]
    },
    {
     "name": "stdout",
     "output_type": "stream",
     "text": [
      "t_step: 115 \t, sample_time: 0.002 \tupdate_time: 0.006 \tlearn_time: 0.025 \tsum: 1238.684 \tsize: 60968                        \n",
      "Episode 977\tTotal score (max over agents) this episode: 0.30000000447034836\n",
      "t_step: 30 \t, sample_time: 0.002 \tupdate_time: 0.009 \tlearn_time: 0.030 \tsum: 1249.119 \tsize: 61031                        "
     ]
    },
    {
     "name": "stderr",
     "output_type": "stream",
     "text": [
      "training loop:  65% |###########################               | ETA:   0:35:28\n"
     ]
    },
    {
     "name": "stdout",
     "output_type": "stream",
     "text": [
      "t_step: 30 \t, sample_time: 0.002 \tupdate_time: 0.006 \tlearn_time: 0.013 \tsum: 1239.286 \tsize: 61032                        \n",
      "Episode 978\tTotal score (max over agents) this episode: 0.10000000149011612\n",
      "t_step: 160 \t, sample_time: 0.004 \tupdate_time: 0.005 \tlearn_time: 0.017 \tsum: 1240.737 \tsize: 61357                        "
     ]
    },
    {
     "name": "stderr",
     "output_type": "stream",
     "text": [
      "training loop:  65% |###########################               | ETA:   0:35:31\n"
     ]
    },
    {
     "name": "stdout",
     "output_type": "stream",
     "text": [
      "t_step: 160 \t, sample_time: 0.003 \tupdate_time: 0.007 \tlearn_time: 0.045 \tsum: 1235.581 \tsize: 61358                        \n",
      "Episode 979\tTotal score (max over agents) this episode: 0.4000000059604645\n",
      "t_step: 75 \t, sample_time: 0.003 \tupdate_time: 0.012 \tlearn_time: 0.020 \tsum: 1263.785 \tsize: 61517                        "
     ]
    },
    {
     "name": "stderr",
     "output_type": "stream",
     "text": [
      "training loop:  65% |###########################               | ETA:   0:35:30\n"
     ]
    },
    {
     "name": "stdout",
     "output_type": "stream",
     "text": [
      "t_step: 75 \t, sample_time: 0.003 \tupdate_time: 0.007 \tlearn_time: 0.057 \tsum: 1251.593 \tsize: 61518                        \n",
      "Episode 980\tTotal score (max over agents) this episode: 0.10000000149011612\n",
      "t_step: 20 \t, sample_time: 0.004 \tupdate_time: 0.004 \tlearn_time: 0.014 \tsum: 1245.667 \tsize: 61562                        "
     ]
    },
    {
     "name": "stderr",
     "output_type": "stream",
     "text": [
      "training loop:  65% |###########################               | ETA:   0:35:26\n"
     ]
    },
    {
     "name": "stdout",
     "output_type": "stream",
     "text": [
      "t_step: 25 \t, sample_time: 0.002 \tupdate_time: 0.005 \tlearn_time: 0.013 \tsum: 1253.044 \tsize: 61572                        \n",
      "Episode 981\tTotal score (max over agents) this episode: 0.10000000149011612\n",
      "t_step: 235 \t, sample_time: 0.003 \tupdate_time: 0.004 \tlearn_time: 0.021 \tsum: 1263.424 \tsize: 62052                        "
     ]
    },
    {
     "name": "stderr",
     "output_type": "stream",
     "text": [
      "training loop:  65% |###########################               | ETA:   0:35:34\n"
     ]
    },
    {
     "name": "stdout",
     "output_type": "stream",
     "text": [
      "t_step: 240 \t, sample_time: 0.002 \tupdate_time: 0.004 \tlearn_time: 0.016 \tsum: 1269.854 \tsize: 62062                        \n",
      "Episode 982\tTotal score (max over agents) this episode: 0.6000000089406967\n",
      "t_step: 70 \t, sample_time: 0.002 \tupdate_time: 0.004 \tlearn_time: 0.012 \tsum: 1271.627 \tsize: 62206                        "
     ]
    },
    {
     "name": "stderr",
     "output_type": "stream",
     "text": [
      "training loop:  65% |###########################               | ETA:   0:35:33\n"
     ]
    },
    {
     "name": "stdout",
     "output_type": "stream",
     "text": [
      "\n",
      "Episode 983\tTotal score (max over agents) this episode: 0.20000000298023224\n",
      "t_step: 30 \t, sample_time: 0.003 \tupdate_time: 0.004 \tlearn_time: 0.021 \tsum: 1285.160 \tsize: 62273                        "
     ]
    },
    {
     "name": "stderr",
     "output_type": "stream",
     "text": [
      "training loop:  65% |###########################               | ETA:   0:35:28\n"
     ]
    },
    {
     "name": "stdout",
     "output_type": "stream",
     "text": [
      "t_step: 30 \t, sample_time: 0.002 \tupdate_time: 0.005 \tlearn_time: 0.015 \tsum: 1281.576 \tsize: 62274                        \n",
      "Episode 984\tTotal score (max over agents) this episode: 0.10000000149011612\n",
      "t_step: 140 \t, sample_time: 0.002 \tupdate_time: 0.009 \tlearn_time: 0.015 \tsum: 1285.161 \tsize: 62555                        "
     ]
    },
    {
     "name": "stderr",
     "output_type": "stream",
     "text": [
      "training loop:  65% |###########################               | ETA:   0:35:31\n"
     ]
    },
    {
     "name": "stdout",
     "output_type": "stream",
     "text": [
      "t_step: 140 \t, sample_time: 0.002 \tupdate_time: 0.006 \tlearn_time: 0.014 \tsum: 1286.252 \tsize: 62556                        \n",
      "Episode 985\tTotal score (max over agents) this episode: 0.4000000059604645\n",
      "t_step: 20 \t, sample_time: 0.002 \tupdate_time: 0.005 \tlearn_time: 0.017 \tsum: 1276.910 \tsize: 62600                        "
     ]
    },
    {
     "name": "stderr",
     "output_type": "stream",
     "text": [
      "training loop:  65% |###########################               | ETA:   0:35:27\n"
     ]
    },
    {
     "name": "stdout",
     "output_type": "stream",
     "text": [
      "t_step: 25 \t, sample_time: 0.002 \tupdate_time: 0.006 \tlearn_time: 0.014 \tsum: 1277.314 \tsize: 62610                        \n",
      "Episode 986\tTotal score (max over agents) this episode: 0.10000000149011612\n",
      "t_step: 335 \t, sample_time: 0.003 \tupdate_time: 0.004 \tlearn_time: 0.013 \tsum: 1305.104 \tsize: 63289                        "
     ]
    },
    {
     "name": "stderr",
     "output_type": "stream",
     "text": [
      "training loop:  65% |###########################               | ETA:   0:35:40\n"
     ]
    },
    {
     "name": "stdout",
     "output_type": "stream",
     "text": [
      "t_step: 335 \t, sample_time: 0.004 \tupdate_time: 0.006 \tlearn_time: 0.023 \tsum: 1301.249 \tsize: 63290                        \n",
      "Episode 987\tTotal score (max over agents) this episode: 0.8900000154972076\n",
      "t_step: 25 \t, sample_time: 0.003 \tupdate_time: 0.004 \tlearn_time: 0.015 \tsum: 1306.958 \tsize: 63343                        "
     ]
    },
    {
     "name": "stderr",
     "output_type": "stream",
     "text": [
      "training loop:  65% |###########################               | ETA:   0:35:36\n"
     ]
    },
    {
     "name": "stdout",
     "output_type": "stream",
     "text": [
      "t_step: 25 \t, sample_time: 0.002 \tupdate_time: 0.005 \tlearn_time: 0.052 \tsum: 1305.684 \tsize: 63344                        \n",
      "Episode 988\tTotal score (max over agents) this episode: 0.10000000149011612\n",
      "t_step: 30 \t, sample_time: 0.002 \tupdate_time: 0.005 \tlearn_time: 0.020 \tsum: 1309.184 \tsize: 63413                        "
     ]
    },
    {
     "name": "stderr",
     "output_type": "stream",
     "text": [
      "training loop:  65% |###########################               | ETA:   0:35:32\n"
     ]
    },
    {
     "name": "stdout",
     "output_type": "stream",
     "text": [
      "t_step: 30 \t, sample_time: 0.002 \tupdate_time: 0.005 \tlearn_time: 0.040 \tsum: 1300.251 \tsize: 63414                        \n",
      "Episode 989\tTotal score (max over agents) this episode: 0.10000000149011612\n",
      "t_step: 65 \t, sample_time: 0.002 \tupdate_time: 0.005 \tlearn_time: 0.051 \tsum: 1316.083 \tsize: 63547                        "
     ]
    },
    {
     "name": "stderr",
     "output_type": "stream",
     "text": [
      "training loop:  66% |###########################               | ETA:   0:35:30\n"
     ]
    },
    {
     "name": "stdout",
     "output_type": "stream",
     "text": [
      "t_step: 65 \t, sample_time: 0.002 \tupdate_time: 0.004 \tlearn_time: 0.016 \tsum: 1310.169 \tsize: 63548                        \n",
      "Episode 990\tTotal score (max over agents) this episode: 0.20000000298023224\n",
      "t_step: 45 \t, sample_time: 0.002 \tupdate_time: 0.003 \tlearn_time: 0.019 \tsum: 1315.518 \tsize: 63641                        "
     ]
    },
    {
     "name": "stderr",
     "output_type": "stream",
     "text": [
      "training loop:  66% |###########################               | ETA:   0:35:27\n"
     ]
    },
    {
     "name": "stdout",
     "output_type": "stream",
     "text": [
      "t_step: 45 \t, sample_time: 0.002 \tupdate_time: 0.004 \tlearn_time: 0.019 \tsum: 1313.932 \tsize: 63642                        \n",
      "Episode 991\tTotal score (max over agents) this episode: 0.10000000149011612\n",
      "t_step: 105 \t, sample_time: 0.002 \tupdate_time: 0.005 \tlearn_time: 0.011 \tsum: 1304.288 \tsize: 63861                        "
     ]
    },
    {
     "name": "stderr",
     "output_type": "stream",
     "text": [
      "training loop:  66% |###########################               | ETA:   0:35:26\n"
     ]
    },
    {
     "name": "stdout",
     "output_type": "stream",
     "text": [
      "t_step: 105 \t, sample_time: 0.002 \tupdate_time: 0.007 \tlearn_time: 0.017 \tsum: 1302.631 \tsize: 63862                        \n",
      "Episode 992\tTotal score (max over agents) this episode: 0.30000000447034836\n",
      "t_step: 190 \t, sample_time: 0.004 \tupdate_time: 0.004 \tlearn_time: 0.078 \tsum: 1310.674 \tsize: 64244                                               "
     ]
    },
    {
     "name": "stderr",
     "output_type": "stream",
     "text": [
      "training loop:  66% |###########################               | ETA:   0:35:31\n"
     ]
    },
    {
     "name": "stdout",
     "output_type": "stream",
     "text": [
      "t_step: 195 \t, sample_time: 0.002 \tupdate_time: 0.006 \tlearn_time: 0.013 \tsum: 1318.517 \tsize: 64254                        \n",
      "Episode 993\tTotal score (max over agents) this episode: 0.490000007674098\n",
      "t_step: 25 \t, sample_time: 0.005 \tupdate_time: 0.008 \tlearn_time: 0.028 \tsum: 1321.940 \tsize: 64309                        "
     ]
    },
    {
     "name": "stderr",
     "output_type": "stream",
     "text": [
      "training loop:  66% |###########################               | ETA:   0:35:26\n"
     ]
    },
    {
     "name": "stdout",
     "output_type": "stream",
     "text": [
      "t_step: 25 \t, sample_time: 0.002 \tupdate_time: 0.007 \tlearn_time: 0.015 \tsum: 1318.326 \tsize: 64310                        \n",
      "Episode 994\tTotal score (max over agents) this episode: 0.09000000171363354\n",
      "t_step: 30 \t, sample_time: 0.003 \tupdate_time: 0.006 \tlearn_time: 0.021 \tsum: 1330.576 \tsize: 64379                        "
     ]
    },
    {
     "name": "stderr",
     "output_type": "stream",
     "text": [
      "training loop:  66% |###########################               | ETA:   0:35:22\n"
     ]
    },
    {
     "name": "stdout",
     "output_type": "stream",
     "text": [
      "t_step: 30 \t, sample_time: 0.002 \tupdate_time: 0.003 \tlearn_time: 0.018 \tsum: 1319.116 \tsize: 64380                        \n",
      "Episode 995\tTotal score (max over agents) this episode: 0.10000000149011612\n",
      "t_step: 25 \t, sample_time: 0.003 \tupdate_time: 0.008 \tlearn_time: 0.018 \tsum: 1329.997 \tsize: 64433                        "
     ]
    },
    {
     "name": "stderr",
     "output_type": "stream",
     "text": [
      "training loop:  66% |###########################               | ETA:   0:35:18\n"
     ]
    },
    {
     "name": "stdout",
     "output_type": "stream",
     "text": [
      "t_step: 25 \t, sample_time: 0.002 \tupdate_time: 0.014 \tlearn_time: 0.036 \tsum: 1318.373 \tsize: 64434                        \n",
      "Episode 996\tTotal score (max over agents) this episode: 0.10000000149011612\n",
      "t_step: 25 \t, sample_time: 0.004 \tupdate_time: 0.003 \tlearn_time: 0.021 \tsum: 1326.079 \tsize: 64493                        "
     ]
    },
    {
     "name": "stderr",
     "output_type": "stream",
     "text": [
      "training loop:  66% |###########################               | ETA:   0:35:14\n"
     ]
    },
    {
     "name": "stdout",
     "output_type": "stream",
     "text": [
      "t_step: 25 \t, sample_time: 0.004 \tupdate_time: 0.012 \tlearn_time: 0.079 \tsum: 1319.395 \tsize: 64494                        \n",
      "Episode 997\tTotal score (max over agents) this episode: 0.10000000149011612\n",
      "t_step: 25 \t, sample_time: 0.003 \tupdate_time: 0.004 \tlearn_time: 0.016 \tsum: 1327.362 \tsize: 64554                        "
     ]
    },
    {
     "name": "stderr",
     "output_type": "stream",
     "text": [
      "training loop:  66% |###########################               | ETA:   0:35:09\n"
     ]
    },
    {
     "name": "stdout",
     "output_type": "stream",
     "text": [
      "\n",
      "Episode 998\tTotal score (max over agents) this episode: 0.09000000171363354\n",
      "t_step: 30 \t, sample_time: 0.003 \tupdate_time: 0.007 \tlearn_time: 0.064 \tsum: 1336.688 \tsize: 64623                        "
     ]
    },
    {
     "name": "stderr",
     "output_type": "stream",
     "text": [
      "training loop:  66% |###########################               | ETA:   0:35:05\n"
     ]
    },
    {
     "name": "stdout",
     "output_type": "stream",
     "text": [
      "t_step: 30 \t, sample_time: 0.002 \tupdate_time: 0.009 \tlearn_time: 0.015 \tsum: 1332.819 \tsize: 64624                        \n",
      "Episode 999\tTotal score (max over agents) this episode: 0.10000000149011612\n",
      "t_step: 55 \t, sample_time: 0.002 \tupdate_time: 0.004 \tlearn_time: 0.010 \tsum: 1322.703 \tsize: 64735                        "
     ]
    },
    {
     "name": "stderr",
     "output_type": "stream",
     "text": [
      "training loop:  66% |############################              | ETA:   0:35:03\n"
     ]
    },
    {
     "name": "stdout",
     "output_type": "stream",
     "text": [
      "t_step: 55 \t, sample_time: 0.002 \tupdate_time: 0.004 \tlearn_time: 0.031 \tsum: 1320.315 \tsize: 64736                        \n",
      "Episode 1000\tTotal score (max over agents) this episode: 0.10000000149011612\n",
      "t_step: 30 \t, sample_time: 0.002 \tupdate_time: 0.009 \tlearn_time: 0.015 \tsum: 1323.026 \tsize: 64798                        \n",
      "Episode 1001\tTotal score (max over agents) this episode: 0.10000000149011612\n"
     ]
    },
    {
     "name": "stderr",
     "output_type": "stream",
     "text": [
      "training loop:  66% |############################              | ETA:   0:34:58\n"
     ]
    },
    {
     "name": "stdout",
     "output_type": "stream",
     "text": [
      "t_step: 260 \t, sample_time: 0.003 \tupdate_time: 0.006 \tlearn_time: 0.026 \tsum: 1359.675 \tsize: 65319                                                "
     ]
    },
    {
     "name": "stderr",
     "output_type": "stream",
     "text": [
      "training loop:  66% |############################              | ETA:   0:35:06\n"
     ]
    },
    {
     "name": "stdout",
     "output_type": "stream",
     "text": [
      "t_step: 260 \t, sample_time: 0.002 \tupdate_time: 0.004 \tlearn_time: 0.017 \tsum: 1348.724 \tsize: 65320                        \n",
      "Episode 1002\tTotal score (max over agents) this episode: 0.7000000104308128\n",
      "t_step: 25 \t, sample_time: 0.002 \tupdate_time: 0.003 \tlearn_time: 0.021 \tsum: 1351.715 \tsize: 65371                        "
     ]
    },
    {
     "name": "stderr",
     "output_type": "stream",
     "text": [
      "training loop:  66% |############################              | ETA:   0:35:02\n"
     ]
    },
    {
     "name": "stdout",
     "output_type": "stream",
     "text": [
      "t_step: 25 \t, sample_time: 0.007 \tupdate_time: 0.005 \tlearn_time: 0.023 \tsum: 1340.030 \tsize: 65372                        \n",
      "Episode 1003\tTotal score (max over agents) this episode: 0.10000000149011612\n",
      "t_step: 30 \t, sample_time: 0.002 \tupdate_time: 0.005 \tlearn_time: 0.036 \tsum: 1354.419 \tsize: 65441                        "
     ]
    },
    {
     "name": "stderr",
     "output_type": "stream",
     "text": [
      "training loop:  66% |############################              | ETA:   0:34:57\n"
     ]
    },
    {
     "name": "stdout",
     "output_type": "stream",
     "text": [
      "t_step: 30 \t, sample_time: 0.002 \tupdate_time: 0.006 \tlearn_time: 0.027 \tsum: 1352.346 \tsize: 65442                        \n",
      "Episode 1004\tTotal score (max over agents) this episode: 0.10000000149011612\n",
      "t_step: 30 \t, sample_time: 0.002 \tupdate_time: 0.005 \tlearn_time: 0.014 \tsum: 1349.832 \tsize: 65505                        "
     ]
    },
    {
     "name": "stderr",
     "output_type": "stream",
     "text": [
      "training loop:  67% |############################              | ETA:   0:34:53\n"
     ]
    },
    {
     "name": "stdout",
     "output_type": "stream",
     "text": [
      "t_step: 30 \t, sample_time: 0.004 \tupdate_time: 0.004 \tlearn_time: 0.023 \tsum: 1349.075 \tsize: 65506                        \n",
      "Episode 1005\tTotal score (max over agents) this episode: 0.10000000149011612\n",
      "t_step: 25 \t, sample_time: 0.002 \tupdate_time: 0.003 \tlearn_time: 0.017 \tsum: 1358.366 \tsize: 65557                        "
     ]
    },
    {
     "name": "stderr",
     "output_type": "stream",
     "text": [
      "training loop:  67% |############################              | ETA:   0:34:49\n"
     ]
    },
    {
     "name": "stdout",
     "output_type": "stream",
     "text": [
      "t_step: 25 \t, sample_time: 0.002 \tupdate_time: 0.004 \tlearn_time: 0.030 \tsum: 1350.698 \tsize: 65558                        \n",
      "Episode 1006\tTotal score (max over agents) this episode: 0.10000000149011612\n",
      "t_step: 20 \t, sample_time: 0.005 \tupdate_time: 0.005 \tlearn_time: 0.020 \tsum: 1349.496 \tsize: 65608                        "
     ]
    },
    {
     "name": "stderr",
     "output_type": "stream",
     "text": [
      "training loop:  67% |############################              | ETA:   0:34:44\n"
     ]
    },
    {
     "name": "stdout",
     "output_type": "stream",
     "text": [
      "t_step: 25 \t, sample_time: 0.002 \tupdate_time: 0.007 \tlearn_time: 0.019 \tsum: 1355.071 \tsize: 65618                        \n",
      "Episode 1007\tTotal score (max over agents) this episode: 0.09000000171363354\n",
      "t_step: 35 \t, sample_time: 0.003 \tupdate_time: 0.008 \tlearn_time: 0.019 \tsum: 1359.977 \tsize: 65698                        "
     ]
    },
    {
     "name": "stderr",
     "output_type": "stream",
     "text": [
      "training loop:  67% |############################              | ETA:   0:34:40\n"
     ]
    },
    {
     "name": "stdout",
     "output_type": "stream",
     "text": [
      "\n",
      "Episode 1008\tTotal score (max over agents) this episode: 0.10000000149011612\n",
      "t_step: 85 \t, sample_time: 0.003 \tupdate_time: 0.005 \tlearn_time: 0.065 \tsum: 1369.842 \tsize: 65875                        "
     ]
    },
    {
     "name": "stderr",
     "output_type": "stream",
     "text": [
      "training loop:  67% |############################              | ETA:   0:34:39\n"
     ]
    },
    {
     "name": "stdout",
     "output_type": "stream",
     "text": [
      "t_step: 85 \t, sample_time: 0.004 \tupdate_time: 0.005 \tlearn_time: 0.054 \tsum: 1366.637 \tsize: 65876                        \n",
      "Episode 1009\tTotal score (max over agents) this episode: 0.20000000298023224\n",
      "t_step: 25 \t, sample_time: 0.003 \tupdate_time: 0.004 \tlearn_time: 0.020 \tsum: 1370.034 \tsize: 65934                        "
     ]
    },
    {
     "name": "stderr",
     "output_type": "stream",
     "text": [
      "training loop:  67% |############################              | ETA:   0:34:35\n"
     ]
    },
    {
     "name": "stdout",
     "output_type": "stream",
     "text": [
      "t_step: 30 \t, sample_time: 0.003 \tupdate_time: 0.004 \tlearn_time: 0.014 \tsum: 1367.100 \tsize: 65944                        \n",
      "Episode 1010\tTotal score (max over agents) this episode: 0.10000000149011612\n",
      "t_step: 65 \t, sample_time: 0.002 \tupdate_time: 0.007 \tlearn_time: 0.016 \tsum: 1380.402 \tsize: 66076                        "
     ]
    },
    {
     "name": "stderr",
     "output_type": "stream",
     "text": [
      "training loop:  67% |############################              | ETA:   0:34:33\n"
     ]
    },
    {
     "name": "stdout",
     "output_type": "stream",
     "text": [
      "t_step: 70 \t, sample_time: 0.003 \tupdate_time: 0.011 \tlearn_time: 0.017 \tsum: 1373.757 \tsize: 66086                        \n",
      "Episode 1011\tTotal score (max over agents) this episode: 0.20000000298023224\n",
      "t_step: 230 \t, sample_time: 0.006 \tupdate_time: 0.004 \tlearn_time: 0.020 \tsum: 1389.793 \tsize: 66551                        "
     ]
    },
    {
     "name": "stderr",
     "output_type": "stream",
     "text": [
      "training loop:  67% |############################              | ETA:   0:34:40\n"
     ]
    },
    {
     "name": "stdout",
     "output_type": "stream",
     "text": [
      "t_step: 230 \t, sample_time: 0.002 \tupdate_time: 0.003 \tlearn_time: 0.023 \tsum: 1379.685 \tsize: 66552                        \n",
      "Episode 1012\tTotal score (max over agents) this episode: 0.6000000089406967\n",
      "t_step: 140 \t, sample_time: 0.003 \tupdate_time: 0.015 \tlearn_time: 0.040 \tsum: 1404.620 \tsize: 66833                        "
     ]
    },
    {
     "name": "stderr",
     "output_type": "stream",
     "text": [
      "training loop:  67% |############################              | ETA:   0:34:42\n"
     ]
    },
    {
     "name": "stdout",
     "output_type": "stream",
     "text": [
      "t_step: 140 \t, sample_time: 0.003 \tupdate_time: 0.006 \tlearn_time: 0.024 \tsum: 1393.317 \tsize: 66834                        \n",
      "Episode 1013\tTotal score (max over agents) this episode: 0.30000000447034836\n",
      "t_step: 30 \t, sample_time: 0.013 \tupdate_time: 0.007 \tlearn_time: 0.031 \tsum: 1393.912 \tsize: 66903                        "
     ]
    },
    {
     "name": "stderr",
     "output_type": "stream",
     "text": [
      "training loop:  67% |############################              | ETA:   0:34:38\n"
     ]
    },
    {
     "name": "stdout",
     "output_type": "stream",
     "text": [
      "t_step: 30 \t, sample_time: 0.002 \tupdate_time: 0.004 \tlearn_time: 0.013 \tsum: 1385.718 \tsize: 66904                        \n",
      "Episode 1014\tTotal score (max over agents) this episode: 0.10000000149011612\n",
      "t_step: 30 \t, sample_time: 0.003 \tupdate_time: 0.007 \tlearn_time: 0.027 \tsum: 1396.961 \tsize: 66965                        "
     ]
    },
    {
     "name": "stderr",
     "output_type": "stream",
     "text": [
      "training loop:  67% |############################              | ETA:   0:34:34\n"
     ]
    },
    {
     "name": "stdout",
     "output_type": "stream",
     "text": [
      "t_step: 30 \t, sample_time: 0.004 \tupdate_time: 0.006 \tlearn_time: 0.013 \tsum: 1388.842 \tsize: 66966                        \n",
      "Episode 1015\tTotal score (max over agents) this episode: 0.10000000149011612\n",
      "t_step: 30 \t, sample_time: 0.002 \tupdate_time: 0.007 \tlearn_time: 0.051 \tsum: 1401.214 \tsize: 67027                        "
     ]
    },
    {
     "name": "stderr",
     "output_type": "stream",
     "text": [
      "training loop:  67% |############################              | ETA:   0:34:30\n"
     ]
    },
    {
     "name": "stdout",
     "output_type": "stream",
     "text": [
      "t_step: 30 \t, sample_time: 0.002 \tupdate_time: 0.005 \tlearn_time: 0.027 \tsum: 1393.391 \tsize: 67028                        \n",
      "Episode 1016\tTotal score (max over agents) this episode: 0.10000000149011612\n",
      "t_step: 25 \t, sample_time: 0.004 \tupdate_time: 0.006 \tlearn_time: 0.014 \tsum: 1401.563 \tsize: 67079                        "
     ]
    },
    {
     "name": "stderr",
     "output_type": "stream",
     "text": [
      "training loop:  67% |############################              | ETA:   0:34:26\n"
     ]
    },
    {
     "name": "stdout",
     "output_type": "stream",
     "text": [
      "t_step: 25 \t, sample_time: 0.005 \tupdate_time: 0.007 \tlearn_time: 0.016 \tsum: 1394.268 \tsize: 67080                        \n",
      "Episode 1017\tTotal score (max over agents) this episode: 0.10000000149011612\n",
      "t_step: 30 \t, sample_time: 0.003 \tupdate_time: 0.004 \tlearn_time: 0.019 \tsum: 1400.323 \tsize: 67149                        "
     ]
    },
    {
     "name": "stderr",
     "output_type": "stream",
     "text": [
      "training loop:  67% |############################              | ETA:   0:34:22\n"
     ]
    },
    {
     "name": "stdout",
     "output_type": "stream",
     "text": [
      "t_step: 30 \t, sample_time: 0.004 \tupdate_time: 0.004 \tlearn_time: 0.021 \tsum: 1396.123 \tsize: 67150                        \n",
      "Episode 1018\tTotal score (max over agents) this episode: 0.10000000149011612\n",
      "t_step: 25 \t, sample_time: 0.002 \tupdate_time: 0.005 \tlearn_time: 0.044 \tsum: 1396.127 \tsize: 67203                        "
     ]
    },
    {
     "name": "stderr",
     "output_type": "stream",
     "text": [
      "training loop:  67% |############################              | ETA:   0:34:18\n"
     ]
    },
    {
     "name": "stdout",
     "output_type": "stream",
     "text": [
      "t_step: 25 \t, sample_time: 0.002 \tupdate_time: 0.003 \tlearn_time: 0.017 \tsum: 1389.552 \tsize: 67204                        \n",
      "Episode 1019\tTotal score (max over agents) this episode: 0.10000000149011612\n",
      "t_step: 85 \t, sample_time: 0.003 \tupdate_time: 0.004 \tlearn_time: 0.014 \tsum: 1399.828 \tsize: 67384                        "
     ]
    },
    {
     "name": "stderr",
     "output_type": "stream",
     "text": [
      "training loop:  68% |############################              | ETA:   0:34:18\n"
     ]
    },
    {
     "name": "stdout",
     "output_type": "stream",
     "text": [
      "\n",
      "Episode 1020\tTotal score (max over agents) this episode: 0.20000000298023224\n",
      "t_step: 30 \t, sample_time: 0.002 \tupdate_time: 0.005 \tlearn_time: 0.031 \tsum: 1392.698 \tsize: 67453                        "
     ]
    },
    {
     "name": "stderr",
     "output_type": "stream",
     "text": [
      "training loop:  68% |############################              | ETA:   0:34:14\n"
     ]
    },
    {
     "name": "stdout",
     "output_type": "stream",
     "text": [
      "t_step: 30 \t, sample_time: 0.005 \tupdate_time: 0.004 \tlearn_time: 0.016 \tsum: 1390.898 \tsize: 67454                        \n",
      "Episode 1021\tTotal score (max over agents) this episode: 0.10000000149011612\n",
      "t_step: 295 \t, sample_time: 0.003 \tupdate_time: 0.012 \tlearn_time: 0.019 \tsum: 1409.544 \tsize: 68047                        "
     ]
    },
    {
     "name": "stderr",
     "output_type": "stream",
     "text": [
      "training loop:  68% |############################              | ETA:   0:34:29\n"
     ]
    },
    {
     "name": "stdout",
     "output_type": "stream",
     "text": [
      "t_step: 295 \t, sample_time: 0.002 \tupdate_time: 0.003 \tlearn_time: 0.025 \tsum: 1400.667 \tsize: 68048                        \n",
      "Episode 1022\tTotal score (max over agents) this episode: 0.800000011920929\n",
      "t_step: 30 \t, sample_time: 0.003 \tupdate_time: 0.009 \tlearn_time: 0.034 \tsum: 1425.600 \tsize: 68115                        "
     ]
    },
    {
     "name": "stderr",
     "output_type": "stream",
     "text": [
      "training loop:  68% |############################              | ETA:   0:34:25\n"
     ]
    },
    {
     "name": "stdout",
     "output_type": "stream",
     "text": [
      "t_step: 30 \t, sample_time: 0.002 \tupdate_time: 0.004 \tlearn_time: 0.035 \tsum: 1418.586 \tsize: 68116                        \n",
      "Episode 1023\tTotal score (max over agents) this episode: 0.10000000149011612\n",
      "t_step: 85 \t, sample_time: 0.005 \tupdate_time: 0.006 \tlearn_time: 0.014 \tsum: 1414.328 \tsize: 68287                        "
     ]
    },
    {
     "name": "stderr",
     "output_type": "stream",
     "text": [
      "training loop:  68% |############################              | ETA:   0:34:25\n"
     ]
    },
    {
     "name": "stdout",
     "output_type": "stream",
     "text": [
      "t_step: 85 \t, sample_time: 0.005 \tupdate_time: 0.005 \tlearn_time: 0.043 \tsum: 1412.816 \tsize: 68288                        \n",
      "Episode 1024\tTotal score (max over agents) this episode: 0.20000000298023224\n",
      "t_step: 85 \t, sample_time: 0.002 \tupdate_time: 0.006 \tlearn_time: 0.058 \tsum: 1414.895 \tsize: 68465                        "
     ]
    },
    {
     "name": "stderr",
     "output_type": "stream",
     "text": [
      "training loop:  68% |############################              | ETA:   0:34:25\n"
     ]
    },
    {
     "name": "stdout",
     "output_type": "stream",
     "text": [
      "t_step: 85 \t, sample_time: 0.003 \tupdate_time: 0.006 \tlearn_time: 0.016 \tsum: 1413.966 \tsize: 68466                        \n",
      "Episode 1025\tTotal score (max over agents) this episode: 0.20000000298023224\n",
      "t_step: 215 \t, sample_time: 0.006 \tupdate_time: 0.007 \tlearn_time: 0.076 \tsum: 1436.981 \tsize: 68901                        "
     ]
    },
    {
     "name": "stderr",
     "output_type": "stream",
     "text": [
      "training loop:  68% |############################              | ETA:   0:34:33\n"
     ]
    },
    {
     "name": "stdout",
     "output_type": "stream",
     "text": [
      "t_step: 215 \t, sample_time: 0.003 \tupdate_time: 0.007 \tlearn_time: 0.031 \tsum: 1429.029 \tsize: 68902                        \n",
      "Episode 1026\tTotal score (max over agents) this episode: 0.6000000089406967\n",
      "t_step: 65 \t, sample_time: 0.002 \tupdate_time: 0.007 \tlearn_time: 0.016 \tsum: 1433.838 \tsize: 69037                        "
     ]
    },
    {
     "name": "stderr",
     "output_type": "stream",
     "text": [
      "training loop:  68% |############################              | ETA:   0:34:32\n"
     ]
    },
    {
     "name": "stdout",
     "output_type": "stream",
     "text": [
      "t_step: 65 \t, sample_time: 0.003 \tupdate_time: 0.008 \tlearn_time: 0.032 \tsum: 1429.995 \tsize: 69038                        \n",
      "Episode 1027\tTotal score (max over agents) this episode: 0.20000000298023224\n",
      "t_step: 230 \t, sample_time: 0.008 \tupdate_time: 0.007 \tlearn_time: 0.015 \tsum: 1440.738 \tsize: 69505                        "
     ]
    },
    {
     "name": "stderr",
     "output_type": "stream",
     "text": [
      "training loop:  68% |############################              | ETA:   0:34:42\n"
     ]
    },
    {
     "name": "stdout",
     "output_type": "stream",
     "text": [
      "t_step: 230 \t, sample_time: 0.003 \tupdate_time: 0.009 \tlearn_time: 0.030 \tsum: 1436.589 \tsize: 69506                        \n",
      "Episode 1028\tTotal score (max over agents) this episode: 0.5000000074505806\n",
      "t_step: 510 \t, sample_time: 0.003 \tupdate_time: 0.008 \tlearn_time: 0.034 \tsum: 1459.950 \tsize: 70531                        "
     ]
    },
    {
     "name": "stderr",
     "output_type": "stream",
     "text": [
      "training loop:  68% |############################              | ETA:   0:35:08\n"
     ]
    },
    {
     "name": "stdout",
     "output_type": "stream",
     "text": [
      "t_step: 510 \t, sample_time: 0.005 \tupdate_time: 0.005 \tlearn_time: 0.035 \tsum: 1449.971 \tsize: 70532                        \n",
      "Episode 1029\tTotal score (max over agents) this episode: 1.3000000193715096\n",
      "t_step: 65 \t, sample_time: 0.003 \tupdate_time: 0.004 \tlearn_time: 0.021 \tsum: 1461.278 \tsize: 70667                        "
     ]
    },
    {
     "name": "stderr",
     "output_type": "stream",
     "text": [
      "training loop:  68% |############################              | ETA:   0:35:07\n"
     ]
    },
    {
     "name": "stdout",
     "output_type": "stream",
     "text": [
      "t_step: 65 \t, sample_time: 0.003 \tupdate_time: 0.007 \tlearn_time: 0.027 \tsum: 1449.963 \tsize: 70668                        \n",
      "Episode 1030\tTotal score (max over agents) this episode: 0.20000000298023224\n",
      "t_step: 25 \t, sample_time: 0.002 \tupdate_time: 0.007 \tlearn_time: 0.016 \tsum: 1463.562 \tsize: 70726                        "
     ]
    },
    {
     "name": "stderr",
     "output_type": "stream",
     "text": [
      "training loop:  68% |############################              | ETA:   0:35:02\n"
     ]
    },
    {
     "name": "stdout",
     "output_type": "stream",
     "text": [
      "\n",
      "Episode 1031\tTotal score (max over agents) this episode: 0.10000000149011612\n",
      "t_step: 155 \t, sample_time: 0.002 \tupdate_time: 0.005 \tlearn_time: 0.032 \tsum: 1476.088 \tsize: 71044                        "
     ]
    },
    {
     "name": "stderr",
     "output_type": "stream",
     "text": [
      "training loop:  68% |############################              | ETA:   0:35:07\n"
     ]
    },
    {
     "name": "stdout",
     "output_type": "stream",
     "text": [
      "t_step: 160 \t, sample_time: 0.002 \tupdate_time: 0.005 \tlearn_time: 0.013 \tsum: 1474.690 \tsize: 71054                        \n",
      "Episode 1032\tTotal score (max over agents) this episode: 0.4000000059604645\n",
      "t_step: 25 \t, sample_time: 0.002 \tupdate_time: 0.005 \tlearn_time: 0.025 \tsum: 1474.765 \tsize: 71106                        "
     ]
    },
    {
     "name": "stderr",
     "output_type": "stream",
     "text": [
      "training loop:  68% |############################              | ETA:   0:35:02\n"
     ]
    },
    {
     "name": "stdout",
     "output_type": "stream",
     "text": [
      "\n",
      "Episode 1033\tTotal score (max over agents) this episode: 0.10000000149011612\n",
      "t_step: 25 \t, sample_time: 0.003 \tupdate_time: 0.006 \tlearn_time: 0.018 \tsum: 1469.604 \tsize: 71166                        \n",
      "Episode 1034\tTotal score (max over agents) this episode: 0.10000000149011612\n"
     ]
    },
    {
     "name": "stderr",
     "output_type": "stream",
     "text": [
      "training loop:  68% |############################              | ETA:   0:34:57\n"
     ]
    },
    {
     "name": "stdout",
     "output_type": "stream",
     "text": [
      "t_step: 680 \t, sample_time: 0.002 \tupdate_time: 0.006 \tlearn_time: 0.020 \tsum: 1511.965 \tsize: 72533                        "
     ]
    },
    {
     "name": "stderr",
     "output_type": "stream",
     "text": [
      "training loop:  69% |############################              | ETA:   0:35:29\n"
     ]
    },
    {
     "name": "stdout",
     "output_type": "stream",
     "text": [
      "t_step: 680 \t, sample_time: 0.005 \tupdate_time: 0.006 \tlearn_time: 0.047 \tsum: 1505.429 \tsize: 72534                        \n",
      "Episode 1035\tTotal score (max over agents) this episode: 1.700000025331974\n",
      "\n",
      "Environment improved in 1035 episodes!\tAverage Score: 0.23\n",
      "t_step: 245 \t, sample_time: 0.004 \tupdate_time: 0.005 \tlearn_time: 0.012 \tsum: 1514.002 \tsize: 73025                        "
     ]
    },
    {
     "name": "stderr",
     "output_type": "stream",
     "text": [
      "training loop:  69% |#############################             | ETA:   0:35:39\n"
     ]
    },
    {
     "name": "stdout",
     "output_type": "stream",
     "text": [
      "t_step: 245 \t, sample_time: 0.003 \tupdate_time: 0.008 \tlearn_time: 0.083 \tsum: 1510.514 \tsize: 73026                        \n",
      "Episode 1036\tTotal score (max over agents) this episode: 0.6000000089406967\n",
      "t_step: 25 \t, sample_time: 0.002 \tupdate_time: 0.004 \tlearn_time: 0.027 \tsum: 1514.656 \tsize: 73083                        "
     ]
    },
    {
     "name": "stderr",
     "output_type": "stream",
     "text": [
      "training loop:  69% |#############################             | ETA:   0:35:34\n"
     ]
    },
    {
     "name": "stdout",
     "output_type": "stream",
     "text": [
      "t_step: 25 \t, sample_time: 0.005 \tupdate_time: 0.006 \tlearn_time: 0.019 \tsum: 1506.093 \tsize: 73084                        \n",
      "Episode 1037\tTotal score (max over agents) this episode: 0.09000000171363354\n",
      "t_step: 30 \t, sample_time: 0.002 \tupdate_time: 0.008 \tlearn_time: 0.024 \tsum: 1517.994 \tsize: 73151                        "
     ]
    },
    {
     "name": "stderr",
     "output_type": "stream",
     "text": [
      "training loop:  69% |#############################             | ETA:   0:35:30\n"
     ]
    },
    {
     "name": "stdout",
     "output_type": "stream",
     "text": [
      "t_step: 30 \t, sample_time: 0.005 \tupdate_time: 0.006 \tlearn_time: 0.061 \tsum: 1509.062 \tsize: 73152                        \n",
      "Episode 1038\tTotal score (max over agents) this episode: 0.10000000149011612\n",
      "t_step: 25 \t, sample_time: 0.009 \tupdate_time: 0.004 \tlearn_time: 0.027 \tsum: 1508.179 \tsize: 73203                        "
     ]
    },
    {
     "name": "stderr",
     "output_type": "stream",
     "text": [
      "training loop:  69% |#############################             | ETA:   0:35:26\n"
     ]
    },
    {
     "name": "stdout",
     "output_type": "stream",
     "text": [
      "t_step: 25 \t, sample_time: 0.005 \tupdate_time: 0.005 \tlearn_time: 0.023 \tsum: 1504.220 \tsize: 73204                        \n",
      "Episode 1039\tTotal score (max over agents) this episode: 0.10000000149011612\n",
      "t_step: 30 \t, sample_time: 0.003 \tupdate_time: 0.005 \tlearn_time: 0.011 \tsum: 1520.415 \tsize: 73273                        "
     ]
    },
    {
     "name": "stderr",
     "output_type": "stream",
     "text": [
      "training loop:  69% |#############################             | ETA:   0:35:21\n"
     ]
    },
    {
     "name": "stdout",
     "output_type": "stream",
     "text": [
      "t_step: 30 \t, sample_time: 0.003 \tupdate_time: 0.005 \tlearn_time: 0.055 \tsum: 1512.245 \tsize: 73274                        \n",
      "Episode 1040\tTotal score (max over agents) this episode: 0.10000000149011612\n",
      "t_step: 25 \t, sample_time: 0.002 \tupdate_time: 0.007 \tlearn_time: 0.023 \tsum: 1518.739 \tsize: 73333                        "
     ]
    },
    {
     "name": "stderr",
     "output_type": "stream",
     "text": [
      "training loop:  69% |#############################             | ETA:   0:35:16\n"
     ]
    },
    {
     "name": "stdout",
     "output_type": "stream",
     "text": [
      "t_step: 25 \t, sample_time: 0.002 \tupdate_time: 0.012 \tlearn_time: 0.055 \tsum: 1512.856 \tsize: 73334                        \n",
      "Episode 1041\tTotal score (max over agents) this episode: 0.10000000149011612\n",
      "t_step: 25 \t, sample_time: 0.005 \tupdate_time: 0.004 \tlearn_time: 0.011 \tsum: 1517.780 \tsize: 73393                        "
     ]
    },
    {
     "name": "stderr",
     "output_type": "stream",
     "text": [
      "training loop:  69% |#############################             | ETA:   0:35:12\n"
     ]
    },
    {
     "name": "stdout",
     "output_type": "stream",
     "text": [
      "t_step: 25 \t, sample_time: 0.005 \tupdate_time: 0.007 \tlearn_time: 0.025 \tsum: 1510.988 \tsize: 73394                        \n",
      "Episode 1042\tTotal score (max over agents) this episode: 0.10000000149011612\n",
      "t_step: 25 \t, sample_time: 0.002 \tupdate_time: 0.007 \tlearn_time: 0.018 \tsum: 1520.048 \tsize: 73454                        "
     ]
    },
    {
     "name": "stderr",
     "output_type": "stream",
     "text": [
      "training loop:  69% |#############################             | ETA:   0:35:07\n"
     ]
    },
    {
     "name": "stdout",
     "output_type": "stream",
     "text": [
      "t_step: 30 \t, sample_time: 0.003 \tupdate_time: 0.004 \tlearn_time: 0.011 \tsum: 1517.765 \tsize: 73464                        \n",
      "Episode 1043\tTotal score (max over agents) this episode: 0.10000000149011612\n",
      "t_step: 25 \t, sample_time: 0.002 \tupdate_time: 0.005 \tlearn_time: 0.014 \tsum: 1517.188 \tsize: 73515                        "
     ]
    },
    {
     "name": "stderr",
     "output_type": "stream",
     "text": [
      "training loop:  69% |#############################             | ETA:   0:35:03\n"
     ]
    },
    {
     "name": "stdout",
     "output_type": "stream",
     "text": [
      "t_step: 25 \t, sample_time: 0.004 \tupdate_time: 0.007 \tlearn_time: 0.035 \tsum: 1514.537 \tsize: 73516                        \n",
      "Episode 1044\tTotal score (max over agents) this episode: 0.10000000149011612\n",
      "t_step: 30 \t, sample_time: 0.006 \tupdate_time: 0.004 \tlearn_time: 0.019 \tsum: 1524.096 \tsize: 73585                        "
     ]
    },
    {
     "name": "stderr",
     "output_type": "stream",
     "text": [
      "training loop:  69% |#############################             | ETA:   0:34:59\n"
     ]
    },
    {
     "name": "stdout",
     "output_type": "stream",
     "text": [
      "t_step: 30 \t, sample_time: 0.003 \tupdate_time: 0.007 \tlearn_time: 0.025 \tsum: 1512.146 \tsize: 73586                        \n",
      "Episode 1045\tTotal score (max over agents) this episode: 0.09000000171363354\n",
      "t_step: 25 \t, sample_time: 0.003 \tupdate_time: 0.006 \tlearn_time: 0.026 \tsum: 1530.648 \tsize: 73637                        "
     ]
    },
    {
     "name": "stderr",
     "output_type": "stream",
     "text": [
      "training loop:  69% |#############################             | ETA:   0:34:54\n"
     ]
    },
    {
     "name": "stdout",
     "output_type": "stream",
     "text": [
      "t_step: 25 \t, sample_time: 0.005 \tupdate_time: 0.005 \tlearn_time: 0.047 \tsum: 1521.694 \tsize: 73638                        \n",
      "Episode 1046\tTotal score (max over agents) this episode: 0.10000000149011612\n",
      "t_step: 30 \t, sample_time: 0.003 \tupdate_time: 0.007 \tlearn_time: 0.040 \tsum: 1519.083 \tsize: 73707                        "
     ]
    },
    {
     "name": "stderr",
     "output_type": "stream",
     "text": [
      "training loop:  69% |#############################             | ETA:   0:34:50\n"
     ]
    },
    {
     "name": "stdout",
     "output_type": "stream",
     "text": [
      "t_step: 30 \t, sample_time: 0.002 \tupdate_time: 0.008 \tlearn_time: 0.017 \tsum: 1512.732 \tsize: 73708                        \n",
      "Episode 1047\tTotal score (max over agents) this episode: 0.10000000149011612\n",
      "t_step: 25 \t, sample_time: 0.002 \tupdate_time: 0.004 \tlearn_time: 0.012 \tsum: 1526.340 \tsize: 73759                        "
     ]
    },
    {
     "name": "stderr",
     "output_type": "stream",
     "text": [
      "training loop:  69% |#############################             | ETA:   0:34:45\n"
     ]
    },
    {
     "name": "stdout",
     "output_type": "stream",
     "text": [
      "t_step: 25 \t, sample_time: 0.002 \tupdate_time: 0.006 \tlearn_time: 0.032 \tsum: 1517.928 \tsize: 73760                        \n",
      "Episode 1048\tTotal score (max over agents) this episode: 0.10000000149011612\n",
      "t_step: 20 \t, sample_time: 0.005 \tupdate_time: 0.004 \tlearn_time: 0.015 \tsum: 1516.959 \tsize: 73810                        "
     ]
    },
    {
     "name": "stderr",
     "output_type": "stream",
     "text": [
      "training loop:  69% |#############################             | ETA:   0:34:40\n"
     ]
    },
    {
     "name": "stdout",
     "output_type": "stream",
     "text": [
      "t_step: 25 \t, sample_time: 0.003 \tupdate_time: 0.003 \tlearn_time: 0.012 \tsum: 1516.561 \tsize: 73820                        \n",
      "Episode 1049\tTotal score (max over agents) this episode: 0.09000000171363354\n",
      "t_step: 30 \t, sample_time: 0.005 \tupdate_time: 0.007 \tlearn_time: 0.035 \tsum: 1528.924 \tsize: 73887                        "
     ]
    },
    {
     "name": "stderr",
     "output_type": "stream",
     "text": [
      "training loop:  70% |#############################             | ETA:   0:34:35\n"
     ]
    },
    {
     "name": "stdout",
     "output_type": "stream",
     "text": [
      "t_step: 30 \t, sample_time: 0.004 \tupdate_time: 0.006 \tlearn_time: 0.036 \tsum: 1524.209 \tsize: 73888                        \n",
      "Episode 1050\tTotal score (max over agents) this episode: 0.10000000149011612\n",
      "t_step: 195 \t, sample_time: 0.002 \tupdate_time: 0.005 \tlearn_time: 0.033 \tsum: 1532.094 \tsize: 74282                        "
     ]
    },
    {
     "name": "stderr",
     "output_type": "stream",
     "text": [
      "training loop:  70% |#############################             | ETA:   0:34:38\n"
     ]
    },
    {
     "name": "stdout",
     "output_type": "stream",
     "text": [
      "t_step: 200 \t, sample_time: 0.003 \tupdate_time: 0.005 \tlearn_time: 0.014 \tsum: 1531.874 \tsize: 74292                        \n",
      "Episode 1051\tTotal score (max over agents) this episode: 0.5000000074505806\n",
      "t_step: 65 \t, sample_time: 0.002 \tupdate_time: 0.004 \tlearn_time: 0.021 \tsum: 1542.138 \tsize: 74427                        "
     ]
    },
    {
     "name": "stderr",
     "output_type": "stream",
     "text": [
      "training loop:  70% |#############################             | ETA:   0:34:35\n"
     ]
    },
    {
     "name": "stdout",
     "output_type": "stream",
     "text": [
      "t_step: 65 \t, sample_time: 0.004 \tupdate_time: 0.008 \tlearn_time: 0.028 \tsum: 1535.876 \tsize: 74428                        \n",
      "Episode 1052\tTotal score (max over agents) this episode: 0.20000000298023224\n",
      "t_step: 25 \t, sample_time: 0.002 \tupdate_time: 0.005 \tlearn_time: 0.015 \tsum: 1542.982 \tsize: 74485                        "
     ]
    },
    {
     "name": "stderr",
     "output_type": "stream",
     "text": [
      "training loop:  70% |#############################             | ETA:   0:34:30\n"
     ]
    },
    {
     "name": "stdout",
     "output_type": "stream",
     "text": [
      "t_step: 25 \t, sample_time: 0.003 \tupdate_time: 0.005 \tlearn_time: 0.014 \tsum: 1542.460 \tsize: 74486                        \n",
      "Episode 1053\tTotal score (max over agents) this episode: 0.10000000149011612\n",
      "t_step: 100 \t, sample_time: 0.003 \tupdate_time: 0.005 \tlearn_time: 0.013 \tsum: 1545.427 \tsize: 74696                        "
     ]
    },
    {
     "name": "stderr",
     "output_type": "stream",
     "text": [
      "training loop:  70% |#############################             | ETA:   0:34:29\n"
     ]
    },
    {
     "name": "stdout",
     "output_type": "stream",
     "text": [
      "\n",
      "Episode 1054\tTotal score (max over agents) this episode: 0.20000000298023224\n",
      "t_step: 65 \t, sample_time: 0.002 \tupdate_time: 0.005 \tlearn_time: 0.016 \tsum: 1550.677 \tsize: 74833                        "
     ]
    },
    {
     "name": "stderr",
     "output_type": "stream",
     "text": [
      "training loop:  70% |#############################             | ETA:   0:34:25\n"
     ]
    },
    {
     "name": "stdout",
     "output_type": "stream",
     "text": [
      "t_step: 65 \t, sample_time: 0.003 \tupdate_time: 0.005 \tlearn_time: 0.013 \tsum: 1544.558 \tsize: 74834                        \n",
      "Episode 1055\tTotal score (max over agents) this episode: 0.20000000298023224\n",
      "t_step: 30 \t, sample_time: 0.003 \tupdate_time: 0.006 \tlearn_time: 0.028 \tsum: 1546.205 \tsize: 74899                        "
     ]
    },
    {
     "name": "stderr",
     "output_type": "stream",
     "text": [
      "training loop:  70% |#############################             | ETA:   0:34:20\n"
     ]
    },
    {
     "name": "stdout",
     "output_type": "stream",
     "text": [
      "t_step: 30 \t, sample_time: 0.004 \tupdate_time: 0.005 \tlearn_time: 0.039 \tsum: 1541.048 \tsize: 74900                        \n",
      "Episode 1056\tTotal score (max over agents) this episode: 0.10000000149011612\n",
      "t_step: 25 \t, sample_time: 0.003 \tupdate_time: 0.005 \tlearn_time: 0.016 \tsum: 1541.879 \tsize: 74951                        "
     ]
    },
    {
     "name": "stderr",
     "output_type": "stream",
     "text": [
      "training loop:  70% |#############################             | ETA:   0:34:15\n"
     ]
    },
    {
     "name": "stdout",
     "output_type": "stream",
     "text": [
      "t_step: 25 \t, sample_time: 0.003 \tupdate_time: 0.006 \tlearn_time: 0.017 \tsum: 1537.965 \tsize: 74952                        \n",
      "Episode 1057\tTotal score (max over agents) this episode: 0.10000000149011612\n",
      "t_step: 30 \t, sample_time: 0.002 \tupdate_time: 0.004 \tlearn_time: 0.020 \tsum: 1555.935 \tsize: 75021                        "
     ]
    },
    {
     "name": "stderr",
     "output_type": "stream",
     "text": [
      "training loop:  70% |#############################             | ETA:   0:34:10\n"
     ]
    },
    {
     "name": "stdout",
     "output_type": "stream",
     "text": [
      "t_step: 30 \t, sample_time: 0.004 \tupdate_time: 0.004 \tlearn_time: 0.015 \tsum: 1546.471 \tsize: 75022                        \n",
      "Episode 1058\tTotal score (max over agents) this episode: 0.10000000149011612\n",
      "t_step: 25 \t, sample_time: 0.002 \tupdate_time: 0.004 \tlearn_time: 0.017 \tsum: 1549.238 \tsize: 75073                        "
     ]
    },
    {
     "name": "stderr",
     "output_type": "stream",
     "text": [
      "training loop:  70% |#############################             | ETA:   0:34:05\n"
     ]
    },
    {
     "name": "stdout",
     "output_type": "stream",
     "text": [
      "t_step: 25 \t, sample_time: 0.004 \tupdate_time: 0.005 \tlearn_time: 0.057 \tsum: 1538.514 \tsize: 75074                        \n",
      "Episode 1059\tTotal score (max over agents) this episode: 0.10000000149011612\n",
      "t_step: 30 \t, sample_time: 0.003 \tupdate_time: 0.005 \tlearn_time: 0.018 \tsum: 1545.387 \tsize: 75143                        "
     ]
    },
    {
     "name": "stderr",
     "output_type": "stream",
     "text": [
      "training loop:  70% |#############################             | ETA:   0:34:01\n"
     ]
    },
    {
     "name": "stdout",
     "output_type": "stream",
     "text": [
      "t_step: 30 \t, sample_time: 0.005 \tupdate_time: 0.009 \tlearn_time: 0.046 \tsum: 1547.665 \tsize: 75144                        \n",
      "Episode 1060\tTotal score (max over agents) this episode: 0.10000000149011612\n",
      "t_step: 25 \t, sample_time: 0.004 \tupdate_time: 0.005 \tlearn_time: 0.012 \tsum: 1540.157 \tsize: 75196                        "
     ]
    },
    {
     "name": "stderr",
     "output_type": "stream",
     "text": [
      "training loop:  70% |#############################             | ETA:   0:33:55\n"
     ]
    },
    {
     "name": "stdout",
     "output_type": "stream",
     "text": [
      "\n",
      "Episode 1061\tTotal score (max over agents) this episode: 0.10000000149011612\n",
      "t_step: 290 \t, sample_time: 0.003 \tupdate_time: 0.006 \tlearn_time: 0.032 \tsum: 1551.101 \tsize: 75786                        "
     ]
    },
    {
     "name": "stderr",
     "output_type": "stream",
     "text": [
      "training loop:  70% |#############################             | ETA:   0:34:03\n"
     ]
    },
    {
     "name": "stdout",
     "output_type": "stream",
     "text": [
      "t_step: 295 \t, sample_time: 0.003 \tupdate_time: 0.006 \tlearn_time: 0.027 \tsum: 1549.579 \tsize: 75796                        \n",
      "Episode 1062\tTotal score (max over agents) this episode: 0.7900000121444464\n",
      "t_step: 25 \t, sample_time: 0.002 \tupdate_time: 0.005 \tlearn_time: 0.012 \tsum: 1559.658 \tsize: 75851                        "
     ]
    },
    {
     "name": "stderr",
     "output_type": "stream",
     "text": [
      "training loop:  70% |#############################             | ETA:   0:33:57\n"
     ]
    },
    {
     "name": "stdout",
     "output_type": "stream",
     "text": [
      "t_step: 25 \t, sample_time: 0.002 \tupdate_time: 0.004 \tlearn_time: 0.014 \tsum: 1550.608 \tsize: 75852                        \n",
      "Episode 1063\tTotal score (max over agents) this episode: 0.10000000149011612\n",
      "t_step: 25 \t, sample_time: 0.002 \tupdate_time: 0.009 \tlearn_time: 0.018 \tsum: 1562.971 \tsize: 75909                        "
     ]
    },
    {
     "name": "stderr",
     "output_type": "stream",
     "text": [
      "training loop:  70% |#############################             | ETA:   0:33:52\n"
     ]
    },
    {
     "name": "stdout",
     "output_type": "stream",
     "text": [
      "t_step: 25 \t, sample_time: 0.003 \tupdate_time: 0.004 \tlearn_time: 0.010 \tsum: 1552.285 \tsize: 75910                        \n",
      "Episode 1064\tTotal score (max over agents) this episode: 0.10000000149011612\n",
      "t_step: 140 \t, sample_time: 0.003 \tupdate_time: 0.005 \tlearn_time: 0.029 \tsum: 1577.011 \tsize: 76200                        "
     ]
    },
    {
     "name": "stderr",
     "output_type": "stream",
     "text": [
      "training loop:  71% |#############################             | ETA:   0:33:53\n"
     ]
    },
    {
     "name": "stdout",
     "output_type": "stream",
     "text": [
      "t_step: 145 \t, sample_time: 0.003 \tupdate_time: 0.004 \tlearn_time: 0.011 \tsum: 1578.727 \tsize: 76210                        \n",
      "Episode 1065\tTotal score (max over agents) this episode: 0.4000000059604645\n",
      "t_step: 255 \t, sample_time: 0.002 \tupdate_time: 0.004 \tlearn_time: 0.011 \tsum: 1583.884 \tsize: 76723                                               "
     ]
    },
    {
     "name": "stderr",
     "output_type": "stream",
     "text": [
      "training loop:  71% |#############################             | ETA:   0:33:58\n"
     ]
    },
    {
     "name": "stdout",
     "output_type": "stream",
     "text": [
      "t_step: 255 \t, sample_time: 0.002 \tupdate_time: 0.005 \tlearn_time: 0.014 \tsum: 1577.799 \tsize: 76724                        \n",
      "Episode 1066\tTotal score (max over agents) this episode: 0.7000000104308128\n",
      "t_step: 25 \t, sample_time: 0.003 \tupdate_time: 0.005 \tlearn_time: 0.015 \tsum: 1581.974 \tsize: 76784                        "
     ]
    },
    {
     "name": "stderr",
     "output_type": "stream",
     "text": [
      "training loop:  71% |#############################             | ETA:   0:33:53\n"
     ]
    },
    {
     "name": "stdout",
     "output_type": "stream",
     "text": [
      "\n",
      "Episode 1067\tTotal score (max over agents) this episode: 0.10000000149011612\n",
      "t_step: 255 \t, sample_time: 0.006 \tupdate_time: 0.008 \tlearn_time: 0.031 \tsum: 1603.514 \tsize: 77301                        "
     ]
    },
    {
     "name": "stderr",
     "output_type": "stream",
     "text": [
      "training loop:  71% |#############################             | ETA:   0:33:59\n"
     ]
    },
    {
     "name": "stdout",
     "output_type": "stream",
     "text": [
      "t_step: 255 \t, sample_time: 0.003 \tupdate_time: 0.009 \tlearn_time: 0.067 \tsum: 1596.894 \tsize: 77302                        \n",
      "Episode 1068\tTotal score (max over agents) this episode: 0.7000000104308128\n",
      "t_step: 30 \t, sample_time: 0.002 \tupdate_time: 0.004 \tlearn_time: 0.013 \tsum: 1609.694 \tsize: 77369                        "
     ]
    },
    {
     "name": "stderr",
     "output_type": "stream",
     "text": [
      "training loop:  71% |#############################             | ETA:   0:33:54\n"
     ]
    },
    {
     "name": "stdout",
     "output_type": "stream",
     "text": [
      "t_step: 30 \t, sample_time: 0.002 \tupdate_time: 0.004 \tlearn_time: 0.017 \tsum: 1599.406 \tsize: 77370                        \n",
      "Episode 1069\tTotal score (max over agents) this episode: 0.10000000149011612\n",
      "t_step: 125 \t, sample_time: 0.006 \tupdate_time: 0.004 \tlearn_time: 0.014 \tsum: 1594.012 \tsize: 77621                        "
     ]
    },
    {
     "name": "stderr",
     "output_type": "stream",
     "text": [
      "training loop:  71% |#############################             | ETA:   0:33:53\n"
     ]
    },
    {
     "name": "stdout",
     "output_type": "stream",
     "text": [
      "t_step: 125 \t, sample_time: 0.002 \tupdate_time: 0.003 \tlearn_time: 0.012 \tsum: 1591.084 \tsize: 77622                        \n",
      "Episode 1070\tTotal score (max over agents) this episode: 0.30000000447034836\n",
      "t_step: 25 \t, sample_time: 0.003 \tupdate_time: 0.012 \tlearn_time: 0.024 \tsum: 1602.611 \tsize: 77673                        "
     ]
    },
    {
     "name": "stderr",
     "output_type": "stream",
     "text": [
      "training loop:  71% |#############################             | ETA:   0:33:49\n"
     ]
    },
    {
     "name": "stdout",
     "output_type": "stream",
     "text": [
      "t_step: 25 \t, sample_time: 0.013 \tupdate_time: 0.003 \tlearn_time: 0.031 \tsum: 1598.560 \tsize: 77674                        \n",
      "Episode 1071\tTotal score (max over agents) this episode: 0.10000000149011612\n",
      "t_step: 85 \t, sample_time: 0.003 \tupdate_time: 0.004 \tlearn_time: 0.013 \tsum: 1596.276 \tsize: 77854                        "
     ]
    },
    {
     "name": "stderr",
     "output_type": "stream",
     "text": [
      "training loop:  71% |##############################            | ETA:   0:33:46\n"
     ]
    },
    {
     "name": "stdout",
     "output_type": "stream",
     "text": [
      "\n",
      "Episode 1072\tTotal score (max over agents) this episode: 0.20000000298023224\n",
      "t_step: 75 \t, sample_time: 0.002 \tupdate_time: 0.007 \tlearn_time: 0.019 \tsum: 1605.705 \tsize: 78011                        "
     ]
    },
    {
     "name": "stderr",
     "output_type": "stream",
     "text": [
      "training loop:  71% |##############################            | ETA:   0:33:43\n"
     ]
    },
    {
     "name": "stdout",
     "output_type": "stream",
     "text": [
      "t_step: 75 \t, sample_time: 0.002 \tupdate_time: 0.003 \tlearn_time: 0.011 \tsum: 1603.516 \tsize: 78012                        \n",
      "Episode 1073\tTotal score (max over agents) this episode: 0.20000000298023224\n",
      "t_step: 105 \t, sample_time: 0.003 \tupdate_time: 0.005 \tlearn_time: 0.013 \tsum: 1629.066 \tsize: 78231                        "
     ]
    },
    {
     "name": "stderr",
     "output_type": "stream",
     "text": [
      "training loop:  71% |##############################            | ETA:   0:33:42\n"
     ]
    },
    {
     "name": "stdout",
     "output_type": "stream",
     "text": [
      "t_step: 105 \t, sample_time: 0.004 \tupdate_time: 0.005 \tlearn_time: 0.039 \tsum: 1614.426 \tsize: 78232                        \n",
      "Episode 1074\tTotal score (max over agents) this episode: 0.30000000447034836\n",
      "t_step: 25 \t, sample_time: 0.004 \tupdate_time: 0.005 \tlearn_time: 0.024 \tsum: 1618.114 \tsize: 78289                        "
     ]
    },
    {
     "name": "stderr",
     "output_type": "stream",
     "text": [
      "training loop:  71% |##############################            | ETA:   0:33:37\n"
     ]
    },
    {
     "name": "stdout",
     "output_type": "stream",
     "text": [
      "t_step: 25 \t, sample_time: 0.003 \tupdate_time: 0.009 \tlearn_time: 0.028 \tsum: 1613.373 \tsize: 78290                        \n",
      "Episode 1075\tTotal score (max over agents) this episode: 0.10000000149011612\n",
      "t_step: 25 \t, sample_time: 0.003 \tupdate_time: 0.005 \tlearn_time: 0.015 \tsum: 1615.770 \tsize: 78349                        "
     ]
    },
    {
     "name": "stderr",
     "output_type": "stream",
     "text": [
      "training loop:  71% |##############################            | ETA:   0:33:32\n"
     ]
    },
    {
     "name": "stdout",
     "output_type": "stream",
     "text": [
      "t_step: 25 \t, sample_time: 0.003 \tupdate_time: 0.004 \tlearn_time: 0.010 \tsum: 1608.569 \tsize: 78350                        \n",
      "Episode 1076\tTotal score (max over agents) this episode: 0.10000000149011612\n",
      "t_step: 45 \t, sample_time: 0.002 \tupdate_time: 0.006 \tlearn_time: 0.015 \tsum: 1627.836 \tsize: 78449                        "
     ]
    },
    {
     "name": "stderr",
     "output_type": "stream",
     "text": [
      "training loop:  71% |##############################            | ETA:   0:33:27\n"
     ]
    },
    {
     "name": "stdout",
     "output_type": "stream",
     "text": [
      "t_step: 45 \t, sample_time: 0.002 \tupdate_time: 0.004 \tlearn_time: 0.030 \tsum: 1619.688 \tsize: 78450                        \n",
      "Episode 1077\tTotal score (max over agents) this episode: 0.10000000149011612\n",
      "t_step: 50 \t, sample_time: 0.002 \tupdate_time: 0.004 \tlearn_time: 0.023 \tsum: 1631.761 \tsize: 78559                        "
     ]
    },
    {
     "name": "stderr",
     "output_type": "stream",
     "text": [
      "training loop:  71% |##############################            | ETA:   0:33:23\n"
     ]
    },
    {
     "name": "stdout",
     "output_type": "stream",
     "text": [
      "t_step: 50 \t, sample_time: 0.002 \tupdate_time: 0.004 \tlearn_time: 0.014 \tsum: 1627.420 \tsize: 78560                        \n",
      "Episode 1078\tTotal score (max over agents) this episode: 0.10000000149011612\n",
      "t_step: 25 \t, sample_time: 0.003 \tupdate_time: 0.005 \tlearn_time: 0.019 \tsum: 1631.631 \tsize: 78613                        "
     ]
    },
    {
     "name": "stderr",
     "output_type": "stream",
     "text": [
      "training loop:  71% |##############################            | ETA:   0:33:18\n"
     ]
    },
    {
     "name": "stdout",
     "output_type": "stream",
     "text": [
      "t_step: 25 \t, sample_time: 0.003 \tupdate_time: 0.007 \tlearn_time: 0.065 \tsum: 1626.088 \tsize: 78614                        \n",
      "Episode 1079\tTotal score (max over agents) this episode: 0.10000000149011612\n",
      "t_step: 105 \t, sample_time: 0.002 \tupdate_time: 0.003 \tlearn_time: 0.018 \tsum: 1626.242 \tsize: 78833                        "
     ]
    },
    {
     "name": "stderr",
     "output_type": "stream",
     "text": [
      "training loop:  72% |##############################            | ETA:   0:33:16\n"
     ]
    },
    {
     "name": "stdout",
     "output_type": "stream",
     "text": [
      "t_step: 105 \t, sample_time: 0.002 \tupdate_time: 0.004 \tlearn_time: 0.013 \tsum: 1619.827 \tsize: 78834                        \n",
      "Episode 1080\tTotal score (max over agents) this episode: 0.2900000046938658\n",
      "t_step: 105 \t, sample_time: 0.004 \tupdate_time: 0.012 \tlearn_time: 0.037 \tsum: 1639.204 \tsize: 79047                        "
     ]
    },
    {
     "name": "stderr",
     "output_type": "stream",
     "text": [
      "training loop:  72% |##############################            | ETA:   0:33:15\n"
     ]
    },
    {
     "name": "stdout",
     "output_type": "stream",
     "text": [
      "t_step: 105 \t, sample_time: 0.004 \tupdate_time: 0.006 \tlearn_time: 0.048 \tsum: 1634.278 \tsize: 79048                        \n",
      "Episode 1081\tTotal score (max over agents) this episode: 0.30000000447034836\n",
      "t_step: 25 \t, sample_time: 0.002 \tupdate_time: 0.004 \tlearn_time: 0.013 \tsum: 1650.320 \tsize: 79099                        "
     ]
    },
    {
     "name": "stderr",
     "output_type": "stream",
     "text": [
      "training loop:  72% |##############################            | ETA:   0:33:10\n"
     ]
    },
    {
     "name": "stdout",
     "output_type": "stream",
     "text": [
      "t_step: 25 \t, sample_time: 0.002 \tupdate_time: 0.004 \tlearn_time: 0.011 \tsum: 1647.060 \tsize: 79100                        \n",
      "Episode 1082\tTotal score (max over agents) this episode: 0.09000000171363354\n",
      "t_step: 25 \t, sample_time: 0.002 \tupdate_time: 0.004 \tlearn_time: 0.021 \tsum: 1644.882 \tsize: 79159                        "
     ]
    },
    {
     "name": "stderr",
     "output_type": "stream",
     "text": [
      "training loop:  72% |##############################            | ETA:   0:33:05\n"
     ]
    },
    {
     "name": "stdout",
     "output_type": "stream",
     "text": [
      "t_step: 25 \t, sample_time: 0.003 \tupdate_time: 0.008 \tlearn_time: 0.030 \tsum: 1635.940 \tsize: 79160                        \n",
      "Episode 1083\tTotal score (max over agents) this episode: 0.10000000149011612\n",
      "t_step: 30 \t, sample_time: 0.002 \tupdate_time: 0.005 \tlearn_time: 0.014 \tsum: 1647.973 \tsize: 79229                        "
     ]
    },
    {
     "name": "stderr",
     "output_type": "stream",
     "text": [
      "training loop:  72% |##############################            | ETA:   0:33:00\n"
     ]
    },
    {
     "name": "stdout",
     "output_type": "stream",
     "text": [
      "t_step: 30 \t, sample_time: 0.002 \tupdate_time: 0.005 \tlearn_time: 0.077 \tsum: 1638.590 \tsize: 79230                        \n",
      "Episode 1084\tTotal score (max over agents) this episode: 0.10000000149011612\n",
      "t_step: 30 \t, sample_time: 0.002 \tupdate_time: 0.005 \tlearn_time: 0.016 \tsum: 1647.975 \tsize: 79291                        "
     ]
    },
    {
     "name": "stderr",
     "output_type": "stream",
     "text": [
      "training loop:  72% |##############################            | ETA:   0:32:56\n"
     ]
    },
    {
     "name": "stdout",
     "output_type": "stream",
     "text": [
      "t_step: 30 \t, sample_time: 0.002 \tupdate_time: 0.012 \tlearn_time: 0.037 \tsum: 1643.453 \tsize: 79292                        \n",
      "Episode 1085\tTotal score (max over agents) this episode: 0.10000000149011612\n",
      "t_step: 25 \t, sample_time: 0.002 \tupdate_time: 0.004 \tlearn_time: 0.035 \tsum: 1649.082 \tsize: 79343                        "
     ]
    },
    {
     "name": "stderr",
     "output_type": "stream",
     "text": [
      "training loop:  72% |##############################            | ETA:   0:32:51\n"
     ]
    },
    {
     "name": "stdout",
     "output_type": "stream",
     "text": [
      "t_step: 25 \t, sample_time: 0.002 \tupdate_time: 0.005 \tlearn_time: 0.013 \tsum: 1642.514 \tsize: 79344                        \n",
      "Episode 1086\tTotal score (max over agents) this episode: 0.10000000149011612\n",
      "t_step: 120 \t, sample_time: 0.003 \tupdate_time: 0.005 \tlearn_time: 0.018 \tsum: 1652.059 \tsize: 79593                        "
     ]
    },
    {
     "name": "stderr",
     "output_type": "stream",
     "text": [
      "training loop:  72% |##############################            | ETA:   0:32:51\n"
     ]
    },
    {
     "name": "stdout",
     "output_type": "stream",
     "text": [
      "t_step: 120 \t, sample_time: 0.005 \tupdate_time: 0.019 \tlearn_time: 0.128 \tsum: 1643.071 \tsize: 79594                        \n",
      "Episode 1087\tTotal score (max over agents) this episode: 0.30000000447034836\n",
      "t_step: 25 \t, sample_time: 0.002 \tupdate_time: 0.009 \tlearn_time: 0.016 \tsum: 1648.163 \tsize: 79649                        "
     ]
    },
    {
     "name": "stderr",
     "output_type": "stream",
     "text": [
      "training loop:  72% |##############################            | ETA:   0:32:46\n"
     ]
    },
    {
     "name": "stdout",
     "output_type": "stream",
     "text": [
      "t_step: 25 \t, sample_time: 0.005 \tupdate_time: 0.007 \tlearn_time: 0.014 \tsum: 1648.076 \tsize: 79650                        \n",
      "Episode 1088\tTotal score (max over agents) this episode: 0.10000000149011612\n",
      "t_step: 25 \t, sample_time: 0.002 \tupdate_time: 0.004 \tlearn_time: 0.033 \tsum: 1650.095 \tsize: 79707                        "
     ]
    },
    {
     "name": "stderr",
     "output_type": "stream",
     "text": [
      "training loop:  72% |##############################            | ETA:   0:32:41\n"
     ]
    },
    {
     "name": "stdout",
     "output_type": "stream",
     "text": [
      "t_step: 25 \t, sample_time: 0.004 \tupdate_time: 0.006 \tlearn_time: 0.020 \tsum: 1646.754 \tsize: 79708                        \n",
      "Episode 1089\tTotal score (max over agents) this episode: 0.09000000171363354\n",
      "t_step: 30 \t, sample_time: 0.003 \tupdate_time: 0.005 \tlearn_time: 0.015 \tsum: 1654.638 \tsize: 79775                        "
     ]
    },
    {
     "name": "stderr",
     "output_type": "stream",
     "text": [
      "training loop:  72% |##############################            | ETA:   0:32:36\n"
     ]
    },
    {
     "name": "stdout",
     "output_type": "stream",
     "text": [
      "t_step: 30 \t, sample_time: 0.007 \tupdate_time: 0.004 \tlearn_time: 0.048 \tsum: 1649.273 \tsize: 79776                        \n",
      "Episode 1090\tTotal score (max over agents) this episode: 0.10000000149011612\n",
      "t_step: 25 \t, sample_time: 0.002 \tupdate_time: 0.004 \tlearn_time: 0.031 \tsum: 1662.519 \tsize: 79829                        "
     ]
    },
    {
     "name": "stderr",
     "output_type": "stream",
     "text": [
      "training loop:  72% |##############################            | ETA:   0:32:31\n"
     ]
    },
    {
     "name": "stdout",
     "output_type": "stream",
     "text": [
      "t_step: 25 \t, sample_time: 0.003 \tupdate_time: 0.007 \tlearn_time: 0.044 \tsum: 1656.871 \tsize: 79830                        \n",
      "Episode 1091\tTotal score (max over agents) this episode: 0.10000000149011612\n",
      "t_step: 10 \t, sample_time: 0.003 \tupdate_time: 0.004 \tlearn_time: 0.042 \tsum: 1667.078 \tsize: 79859                        "
     ]
    },
    {
     "name": "stderr",
     "output_type": "stream",
     "text": [
      "training loop:  72% |##############################            | ETA:   0:32:26\n"
     ]
    },
    {
     "name": "stdout",
     "output_type": "stream",
     "text": [
      "t_step: 10 \t, sample_time: 0.003 \tupdate_time: 0.005 \tlearn_time: 0.037 \tsum: 1662.094 \tsize: 79860                        \n",
      "Episode 1092\tTotal score (max over agents) this episode: 0.0\n",
      "t_step: 25 \t, sample_time: 0.002 \tupdate_time: 0.005 \tlearn_time: 0.057 \tsum: 1651.466 \tsize: 79917                        "
     ]
    },
    {
     "name": "stderr",
     "output_type": "stream",
     "text": [
      "training loop:  72% |##############################            | ETA:   0:32:21\n"
     ]
    },
    {
     "name": "stdout",
     "output_type": "stream",
     "text": [
      "t_step: 25 \t, sample_time: 0.003 \tupdate_time: 0.013 \tlearn_time: 0.030 \tsum: 1647.542 \tsize: 79918                        \n",
      "Episode 1093\tTotal score (max over agents) this episode: 0.10000000149011612\n",
      "t_step: 10 \t, sample_time: 0.004 \tupdate_time: 0.004 \tlearn_time: 0.035 \tsum: 1660.034 \tsize: 79947                        "
     ]
    },
    {
     "name": "stderr",
     "output_type": "stream",
     "text": [
      "training loop:  72% |##############################            | ETA:   0:32:15\n"
     ]
    },
    {
     "name": "stdout",
     "output_type": "stream",
     "text": [
      "t_step: 10 \t, sample_time: 0.003 \tupdate_time: 0.010 \tlearn_time: 0.017 \tsum: 1658.415 \tsize: 79948                        \n",
      "Episode 1094\tTotal score (max over agents) this episode: 0.0\n",
      "t_step: 25 \t, sample_time: 0.002 \tupdate_time: 0.005 \tlearn_time: 0.017 \tsum: 1671.002 \tsize: 80007                        "
     ]
    },
    {
     "name": "stderr",
     "output_type": "stream",
     "text": [
      "training loop:  73% |##############################            | ETA:   0:32:10\n"
     ]
    },
    {
     "name": "stdout",
     "output_type": "stream",
     "text": [
      "t_step: 25 \t, sample_time: 0.004 \tupdate_time: 0.009 \tlearn_time: 0.082 \tsum: 1664.088 \tsize: 80008                        \n",
      "Episode 1095\tTotal score (max over agents) this episode: 0.10000000149011612\n",
      "t_step: 30 \t, sample_time: 0.002 \tupdate_time: 0.004 \tlearn_time: 0.019 \tsum: 1677.246 \tsize: 80075                        "
     ]
    },
    {
     "name": "stderr",
     "output_type": "stream",
     "text": [
      "training loop:  73% |##############################            | ETA:   0:32:06\n"
     ]
    },
    {
     "name": "stdout",
     "output_type": "stream",
     "text": [
      "t_step: 30 \t, sample_time: 0.008 \tupdate_time: 0.009 \tlearn_time: 0.057 \tsum: 1670.444 \tsize: 80076                        \n",
      "Episode 1096\tTotal score (max over agents) this episode: 0.10000000149011612\n",
      "t_step: 30 \t, sample_time: 0.002 \tupdate_time: 0.005 \tlearn_time: 0.014 \tsum: 1672.563 \tsize: 80137                        "
     ]
    },
    {
     "name": "stderr",
     "output_type": "stream",
     "text": [
      "training loop:  73% |##############################            | ETA:   0:32:01\n"
     ]
    },
    {
     "name": "stdout",
     "output_type": "stream",
     "text": [
      "t_step: 30 \t, sample_time: 0.005 \tupdate_time: 0.007 \tlearn_time: 0.041 \tsum: 1666.957 \tsize: 80138                        \n",
      "Episode 1097\tTotal score (max over agents) this episode: 0.10000000149011612\n",
      "t_step: 50 \t, sample_time: 0.004 \tupdate_time: 0.008 \tlearn_time: 0.015 \tsum: 1670.145 \tsize: 80239                        "
     ]
    },
    {
     "name": "stderr",
     "output_type": "stream",
     "text": [
      "training loop:  73% |##############################            | ETA:   0:31:57\n"
     ]
    },
    {
     "name": "stdout",
     "output_type": "stream",
     "text": [
      "t_step: 50 \t, sample_time: 0.003 \tupdate_time: 0.005 \tlearn_time: 0.023 \tsum: 1663.516 \tsize: 80240                        \n",
      "Episode 1098\tTotal score (max over agents) this episode: 0.10000000149011612\n",
      "t_step: 25 \t, sample_time: 0.002 \tupdate_time: 0.008 \tlearn_time: 0.023 \tsum: 1676.396 \tsize: 80293                        "
     ]
    },
    {
     "name": "stderr",
     "output_type": "stream",
     "text": [
      "training loop:  73% |##############################            | ETA:   0:31:53\n"
     ]
    },
    {
     "name": "stdout",
     "output_type": "stream",
     "text": [
      "t_step: 25 \t, sample_time: 0.002 \tupdate_time: 0.003 \tlearn_time: 0.024 \tsum: 1666.296 \tsize: 80294                        \n",
      "Episode 1099\tTotal score (max over agents) this episode: 0.10000000149011612\n",
      "t_step: 30 \t, sample_time: 0.003 \tupdate_time: 0.004 \tlearn_time: 0.021 \tsum: 1671.327 \tsize: 80361                        "
     ]
    },
    {
     "name": "stderr",
     "output_type": "stream",
     "text": [
      "training loop:  73% |##############################            | ETA:   0:31:48\n"
     ]
    },
    {
     "name": "stdout",
     "output_type": "stream",
     "text": [
      "t_step: 30 \t, sample_time: 0.003 \tupdate_time: 0.008 \tlearn_time: 0.048 \tsum: 1661.292 \tsize: 80362                        \n",
      "Episode 1100\tTotal score (max over agents) this episode: 0.10000000149011612\n",
      "t_step: 180 \t, sample_time: 0.019 \tupdate_time: 0.005 \tlearn_time: 0.013 \tsum: 1684.754 \tsize: 80725                        "
     ]
    },
    {
     "name": "stderr",
     "output_type": "stream",
     "text": [
      "training loop:  73% |##############################            | ETA:   0:31:51\n"
     ]
    },
    {
     "name": "stdout",
     "output_type": "stream",
     "text": [
      "t_step: 180 \t, sample_time: 0.002 \tupdate_time: 0.005 \tlearn_time: 0.012 \tsum: 1672.573 \tsize: 80726                        \n",
      "Episode 1101\tTotal score (max over agents) this episode: 0.5000000074505806\n",
      "t_step: 290 \t, sample_time: 0.002 \tupdate_time: 0.007 \tlearn_time: 0.016 \tsum: 1682.284 \tsize: 81310                        "
     ]
    },
    {
     "name": "stderr",
     "output_type": "stream",
     "text": [
      "training loop:  73% |##############################            | ETA:   0:31:58\n"
     ]
    },
    {
     "name": "stdout",
     "output_type": "stream",
     "text": [
      "t_step: 295 \t, sample_time: 0.002 \tupdate_time: 0.005 \tlearn_time: 0.016 \tsum: 1679.218 \tsize: 81320                        \n",
      "Episode 1102\tTotal score (max over agents) this episode: 0.800000011920929\n",
      "t_step: 65 \t, sample_time: 0.003 \tupdate_time: 0.011 \tlearn_time: 0.020 \tsum: 1679.133 \tsize: 81452                        "
     ]
    },
    {
     "name": "stderr",
     "output_type": "stream",
     "text": [
      "training loop:  73% |##############################            | ETA:   0:31:54\n"
     ]
    },
    {
     "name": "stdout",
     "output_type": "stream",
     "text": [
      "\n",
      "Episode 1103\tTotal score (max over agents) this episode: 0.20000000298023224\n",
      "t_step: 65 \t, sample_time: 0.002 \tupdate_time: 0.004 \tlearn_time: 0.013 \tsum: 1682.987 \tsize: 81591                        "
     ]
    },
    {
     "name": "stderr",
     "output_type": "stream",
     "text": [
      "training loop:  73% |##############################            | ETA:   0:31:51\n"
     ]
    },
    {
     "name": "stdout",
     "output_type": "stream",
     "text": [
      "t_step: 65 \t, sample_time: 0.002 \tupdate_time: 0.007 \tlearn_time: 0.041 \tsum: 1675.614 \tsize: 81592                        \n",
      "Episode 1104\tTotal score (max over agents) this episode: 0.20000000298023224\n",
      "t_step: 85 \t, sample_time: 0.002 \tupdate_time: 0.009 \tlearn_time: 0.030 \tsum: 1694.614 \tsize: 81767                        "
     ]
    },
    {
     "name": "stderr",
     "output_type": "stream",
     "text": [
      "training loop:  73% |##############################            | ETA:   0:31:48\n"
     ]
    },
    {
     "name": "stdout",
     "output_type": "stream",
     "text": [
      "t_step: 85 \t, sample_time: 0.003 \tupdate_time: 0.003 \tlearn_time: 0.009 \tsum: 1689.712 \tsize: 81768                        \n",
      "Episode 1105\tTotal score (max over agents) this episode: 0.20000000298023224\n",
      "t_step: 675 \t, sample_time: 0.003 \tupdate_time: 0.006 \tlearn_time: 0.032 \tsum: 1719.052 \tsize: 83127                        "
     ]
    },
    {
     "name": "stderr",
     "output_type": "stream",
     "text": [
      "training loop:  73% |##############################            | ETA:   0:32:10\n"
     ]
    },
    {
     "name": "stdout",
     "output_type": "stream",
     "text": [
      "t_step: 675 \t, sample_time: 0.003 \tupdate_time: 0.006 \tlearn_time: 0.026 \tsum: 1715.351 \tsize: 83128                        \n",
      "Episode 1106\tTotal score (max over agents) this episode: 1.8000000268220901\n",
      "\n",
      "Environment improved in 1106 episodes!\tAverage Score: 0.24\n",
      "t_step: 60 \t, sample_time: 0.004 \tupdate_time: 0.006 \tlearn_time: 0.013 \tsum: 1721.218 \tsize: 83249                        "
     ]
    },
    {
     "name": "stderr",
     "output_type": "stream",
     "text": [
      "training loop:  73% |##############################            | ETA:   0:32:06\n"
     ]
    },
    {
     "name": "stdout",
     "output_type": "stream",
     "text": [
      "t_step: 60 \t, sample_time: 0.002 \tupdate_time: 0.006 \tlearn_time: 0.025 \tsum: 1713.598 \tsize: 83250                        \n",
      "Episode 1107\tTotal score (max over agents) this episode: 0.20000000298023224\n",
      "t_step: 25 \t, sample_time: 0.003 \tupdate_time: 0.005 \tlearn_time: 0.071 \tsum: 1728.293 \tsize: 83309                        "
     ]
    },
    {
     "name": "stderr",
     "output_type": "stream",
     "text": [
      "training loop:  73% |###############################           | ETA:   0:32:01\n"
     ]
    },
    {
     "name": "stdout",
     "output_type": "stream",
     "text": [
      "t_step: 25 \t, sample_time: 0.002 \tupdate_time: 0.005 \tlearn_time: 0.015 \tsum: 1717.592 \tsize: 83310                        \n",
      "Episode 1108\tTotal score (max over agents) this episode: 0.10000000149011612\n",
      "t_step: 390 \t, sample_time: 0.008 \tupdate_time: 0.007 \tlearn_time: 0.043 \tsum: 1757.734 \tsize: 84099                        "
     ]
    },
    {
     "name": "stderr",
     "output_type": "stream",
     "text": [
      "training loop:  73% |###############################           | ETA:   0:32:11\n"
     ]
    },
    {
     "name": "stdout",
     "output_type": "stream",
     "text": [
      "t_step: 390 \t, sample_time: 0.003 \tupdate_time: 0.006 \tlearn_time: 0.032 \tsum: 1750.277 \tsize: 84100                        \n",
      "Episode 1109\tTotal score (max over agents) this episode: 1.0000000149011612\n",
      "t_step: 25 \t, sample_time: 0.006 \tupdate_time: 0.006 \tlearn_time: 0.031 \tsum: 1754.839 \tsize: 84157                        "
     ]
    },
    {
     "name": "stderr",
     "output_type": "stream",
     "text": [
      "training loop:  74% |###############################           | ETA:   0:32:06\n"
     ]
    },
    {
     "name": "stdout",
     "output_type": "stream",
     "text": [
      "t_step: 25 \t, sample_time: 0.003 \tupdate_time: 0.005 \tlearn_time: 0.035 \tsum: 1747.552 \tsize: 84158                        \n",
      "Episode 1110\tTotal score (max over agents) this episode: 0.10000000149011612\n",
      "t_step: 45 \t, sample_time: 0.003 \tupdate_time: 0.005 \tlearn_time: 0.016 \tsum: 1743.702 \tsize: 84257                        "
     ]
    },
    {
     "name": "stderr",
     "output_type": "stream",
     "text": [
      "training loop:  74% |###############################           | ETA:   0:32:01\n"
     ]
    },
    {
     "name": "stdout",
     "output_type": "stream",
     "text": [
      "t_step: 45 \t, sample_time: 0.003 \tupdate_time: 0.004 \tlearn_time: 0.012 \tsum: 1742.812 \tsize: 84258                        \n",
      "Episode 1111\tTotal score (max over agents) this episode: 0.10000000149011612\n",
      "t_step: 370 \t, sample_time: 0.003 \tupdate_time: 0.006 \tlearn_time: 0.016 \tsum: 1769.946 \tsize: 85001                        "
     ]
    },
    {
     "name": "stderr",
     "output_type": "stream",
     "text": [
      "training loop:  74% |###############################           | ETA:   0:32:10\n"
     ]
    },
    {
     "name": "stdout",
     "output_type": "stream",
     "text": [
      "t_step: 370 \t, sample_time: 0.002 \tupdate_time: 0.006 \tlearn_time: 0.020 \tsum: 1763.765 \tsize: 85002                        \n",
      "Episode 1112\tTotal score (max over agents) this episode: 1.0000000149011612\n",
      "t_step: 215 \t, sample_time: 0.002 \tupdate_time: 0.005 \tlearn_time: 0.017 \tsum: 1790.750 \tsize: 85437                        "
     ]
    },
    {
     "name": "stderr",
     "output_type": "stream",
     "text": [
      "training loop:  74% |###############################           | ETA:   0:32:12\n"
     ]
    },
    {
     "name": "stdout",
     "output_type": "stream",
     "text": [
      "t_step: 215 \t, sample_time: 0.003 \tupdate_time: 0.004 \tlearn_time: 0.027 \tsum: 1784.936 \tsize: 85438                        \n",
      "Episode 1113\tTotal score (max over agents) this episode: 0.6000000089406967\n",
      "t_step: 65 \t, sample_time: 0.004 \tupdate_time: 0.005 \tlearn_time: 0.017 \tsum: 1786.224 \tsize: 85577                        "
     ]
    },
    {
     "name": "stderr",
     "output_type": "stream",
     "text": [
      "training loop:  74% |###############################           | ETA:   0:32:09\n"
     ]
    },
    {
     "name": "stdout",
     "output_type": "stream",
     "text": [
      "t_step: 65 \t, sample_time: 0.002 \tupdate_time: 0.005 \tlearn_time: 0.018 \tsum: 1782.445 \tsize: 85578                        \n",
      "Episode 1114\tTotal score (max over agents) this episode: 0.20000000298023224\n",
      "t_step: 390 \t, sample_time: 0.002 \tupdate_time: 0.004 \tlearn_time: 0.013 \tsum: 1792.140 \tsize: 86363                        "
     ]
    },
    {
     "name": "stderr",
     "output_type": "stream",
     "text": [
      "training loop:  74% |###############################           | ETA:   0:32:20\n"
     ]
    },
    {
     "name": "stdout",
     "output_type": "stream",
     "text": [
      "t_step: 390 \t, sample_time: 0.003 \tupdate_time: 0.015 \tlearn_time: 0.038 \tsum: 1788.358 \tsize: 86364                        \n",
      "Episode 1115\tTotal score (max over agents) this episode: 1.0000000149011612\n",
      "t_step: 25 \t, sample_time: 0.003 \tupdate_time: 0.004 \tlearn_time: 0.019 \tsum: 1784.416 \tsize: 86415                        "
     ]
    },
    {
     "name": "stderr",
     "output_type": "stream",
     "text": [
      "training loop:  74% |###############################           | ETA:   0:32:14\n"
     ]
    },
    {
     "name": "stdout",
     "output_type": "stream",
     "text": [
      "t_step: 25 \t, sample_time: 0.005 \tupdate_time: 0.005 \tlearn_time: 0.027 \tsum: 1778.321 \tsize: 86416                        \n",
      "Episode 1116\tTotal score (max over agents) this episode: 0.10000000149011612\n",
      "t_step: 25 \t, sample_time: 0.002 \tupdate_time: 0.005 \tlearn_time: 0.018 \tsum: 1777.402 \tsize: 86475                        "
     ]
    },
    {
     "name": "stderr",
     "output_type": "stream",
     "text": [
      "training loop:  74% |###############################           | ETA:   0:32:09\n"
     ]
    },
    {
     "name": "stdout",
     "output_type": "stream",
     "text": [
      "t_step: 25 \t, sample_time: 0.007 \tupdate_time: 0.013 \tlearn_time: 0.063 \tsum: 1771.520 \tsize: 86476                        \n",
      "Episode 1117\tTotal score (max over agents) this episode: 0.10000000149011612\n",
      "t_step: 615 \t, sample_time: 0.006 \tupdate_time: 0.006 \tlearn_time: 0.037 \tsum: 1827.652 \tsize: 87715                        "
     ]
    },
    {
     "name": "stderr",
     "output_type": "stream",
     "text": [
      "training loop:  74% |###############################           | ETA:   0:32:27\n"
     ]
    },
    {
     "name": "stdout",
     "output_type": "stream",
     "text": [
      "t_step: 615 \t, sample_time: 0.003 \tupdate_time: 0.006 \tlearn_time: 0.025 \tsum: 1821.987 \tsize: 87716                        \n",
      "Episode 1118\tTotal score (max over agents) this episode: 1.600000023841858\n",
      "t_step: 25 \t, sample_time: 0.003 \tupdate_time: 0.007 \tlearn_time: 0.039 \tsum: 1825.699 \tsize: 87775                        "
     ]
    },
    {
     "name": "stderr",
     "output_type": "stream",
     "text": [
      "training loop:  74% |###############################           | ETA:   0:32:21\n"
     ]
    },
    {
     "name": "stdout",
     "output_type": "stream",
     "text": [
      "t_step: 25 \t, sample_time: 0.003 \tupdate_time: 0.006 \tlearn_time: 0.014 \tsum: 1820.467 \tsize: 87776                        \n",
      "Episode 1119\tTotal score (max over agents) this episode: 0.10000000149011612\n",
      "t_step: 25 \t, sample_time: 0.014 \tupdate_time: 0.007 \tlearn_time: 0.024 \tsum: 1823.754 \tsize: 87835                        "
     ]
    },
    {
     "name": "stderr",
     "output_type": "stream",
     "text": [
      "training loop:  74% |###############################           | ETA:   0:32:16\n"
     ]
    },
    {
     "name": "stdout",
     "output_type": "stream",
     "text": [
      "t_step: 25 \t, sample_time: 0.003 \tupdate_time: 0.007 \tlearn_time: 0.014 \tsum: 1822.729 \tsize: 87836                        \n",
      "Episode 1120\tTotal score (max over agents) this episode: 0.10000000149011612\n",
      "t_step: 100 \t, sample_time: 0.004 \tupdate_time: 0.015 \tlearn_time: 0.064 \tsum: 1826.265 \tsize: 88046                        "
     ]
    },
    {
     "name": "stderr",
     "output_type": "stream",
     "text": [
      "training loop:  74% |###############################           | ETA:   0:32:13\n"
     ]
    },
    {
     "name": "stdout",
     "output_type": "stream",
     "text": [
      "t_step: 105 \t, sample_time: 0.004 \tupdate_time: 0.005 \tlearn_time: 0.014 \tsum: 1821.677 \tsize: 88056                        \n",
      "Episode 1121\tTotal score (max over agents) this episode: 0.30000000447034836\n",
      "t_step: 60 \t, sample_time: 0.003 \tupdate_time: 0.007 \tlearn_time: 0.014 \tsum: 1814.039 \tsize: 88178                        "
     ]
    },
    {
     "name": "stderr",
     "output_type": "stream",
     "text": [
      "training loop:  74% |###############################           | ETA:   0:32:09\n"
     ]
    },
    {
     "name": "stdout",
     "output_type": "stream",
     "text": [
      "t_step: 65 \t, sample_time: 0.002 \tupdate_time: 0.004 \tlearn_time: 0.012 \tsum: 1817.489 \tsize: 88188                        \n",
      "Episode 1122\tTotal score (max over agents) this episode: 0.20000000298023224\n",
      "t_step: 30 \t, sample_time: 0.003 \tupdate_time: 0.005 \tlearn_time: 0.030 \tsum: 1829.831 \tsize: 88253                        "
     ]
    },
    {
     "name": "stderr",
     "output_type": "stream",
     "text": [
      "training loop:  74% |###############################           | ETA:   0:32:04\n"
     ]
    },
    {
     "name": "stdout",
     "output_type": "stream",
     "text": [
      "t_step: 30 \t, sample_time: 0.005 \tupdate_time: 0.004 \tlearn_time: 0.022 \tsum: 1821.066 \tsize: 88254                        \n",
      "Episode 1123\tTotal score (max over agents) this episode: 0.10000000149011612\n",
      "t_step: 290 \t, sample_time: 0.006 \tupdate_time: 0.005 \tlearn_time: 0.017 \tsum: 1855.777 \tsize: 88835                        "
     ]
    },
    {
     "name": "stderr",
     "output_type": "stream",
     "text": [
      "training loop:  74% |###############################           | ETA:   0:32:09\n"
     ]
    },
    {
     "name": "stdout",
     "output_type": "stream",
     "text": [
      "t_step: 290 \t, sample_time: 0.003 \tupdate_time: 0.005 \tlearn_time: 0.018 \tsum: 1849.179 \tsize: 88836                        \n",
      "Episode 1124\tTotal score (max over agents) this episode: 0.7900000121444464\n",
      "t_step: 25 \t, sample_time: 0.002 \tupdate_time: 0.004 \tlearn_time: 0.009 \tsum: 1841.396 \tsize: 88889                        "
     ]
    },
    {
     "name": "stderr",
     "output_type": "stream",
     "text": [
      "training loop:  75% |###############################           | ETA:   0:32:03\n"
     ]
    },
    {
     "name": "stdout",
     "output_type": "stream",
     "text": [
      "t_step: 25 \t, sample_time: 0.002 \tupdate_time: 0.004 \tlearn_time: 0.016 \tsum: 1840.675 \tsize: 88890                        \n",
      "Episode 1125\tTotal score (max over agents) this episode: 0.10000000149011612\n",
      "t_step: 25 \t, sample_time: 0.003 \tupdate_time: 0.005 \tlearn_time: 0.026 \tsum: 1852.710 \tsize: 88947                        "
     ]
    },
    {
     "name": "stderr",
     "output_type": "stream",
     "text": [
      "training loop:  75% |###############################           | ETA:   0:31:57\n"
     ]
    },
    {
     "name": "stdout",
     "output_type": "stream",
     "text": [
      "t_step: 25 \t, sample_time: 0.002 \tupdate_time: 0.007 \tlearn_time: 0.035 \tsum: 1848.132 \tsize: 88948                        \n",
      "Episode 1126\tTotal score (max over agents) this episode: 0.10000000149011612\n",
      "t_step: 25 \t, sample_time: 0.003 \tupdate_time: 0.004 \tlearn_time: 0.020 \tsum: 1845.100 \tsize: 89007                        "
     ]
    },
    {
     "name": "stderr",
     "output_type": "stream",
     "text": [
      "training loop:  75% |###############################           | ETA:   0:31:52\n"
     ]
    },
    {
     "name": "stdout",
     "output_type": "stream",
     "text": [
      "t_step: 25 \t, sample_time: 0.002 \tupdate_time: 0.005 \tlearn_time: 0.013 \tsum: 1844.517 \tsize: 89008                        \n",
      "Episode 1127\tTotal score (max over agents) this episode: 0.10000000149011612\n",
      "t_step: 410 \t, sample_time: 0.002 \tupdate_time: 0.005 \tlearn_time: 0.026 \tsum: 1862.017 \tsize: 89837                                                                        "
     ]
    },
    {
     "name": "stderr",
     "output_type": "stream",
     "text": [
      "training loop:  75% |###############################           | ETA:   0:32:02\n"
     ]
    },
    {
     "name": "stdout",
     "output_type": "stream",
     "text": [
      "t_step: 410 \t, sample_time: 0.003 \tupdate_time: 0.005 \tlearn_time: 0.014 \tsum: 1856.064 \tsize: 89838                        \n",
      "Episode 1128\tTotal score (max over agents) this episode: 1.1000000163912773\n",
      "t_step: 155 \t, sample_time: 0.002 \tupdate_time: 0.004 \tlearn_time: 0.016 \tsum: 1851.651 \tsize: 90152                        "
     ]
    },
    {
     "name": "stderr",
     "output_type": "stream",
     "text": [
      "training loop:  75% |###############################           | ETA:   0:32:01\n"
     ]
    },
    {
     "name": "stdout",
     "output_type": "stream",
     "text": [
      "t_step: 160 \t, sample_time: 0.002 \tupdate_time: 0.004 \tlearn_time: 0.012 \tsum: 1860.956 \tsize: 90162                        \n",
      "Episode 1129\tTotal score (max over agents) this episode: 0.4000000059604645\n",
      "t_step: 80 \t, sample_time: 0.002 \tupdate_time: 0.005 \tlearn_time: 0.015 \tsum: 1875.821 \tsize: 90331                        "
     ]
    },
    {
     "name": "stderr",
     "output_type": "stream",
     "text": [
      "training loop:  75% |###############################           | ETA:   0:31:57\n"
     ]
    },
    {
     "name": "stdout",
     "output_type": "stream",
     "text": [
      "t_step: 80 \t, sample_time: 0.002 \tupdate_time: 0.004 \tlearn_time: 0.014 \tsum: 1868.505 \tsize: 90332                        \n",
      "Episode 1130\tTotal score (max over agents) this episode: 0.20000000298023224\n",
      "t_step: 65 \t, sample_time: 0.003 \tupdate_time: 0.008 \tlearn_time: 0.018 \tsum: 1877.464 \tsize: 90465                        "
     ]
    },
    {
     "name": "stderr",
     "output_type": "stream",
     "text": [
      "training loop:  75% |###############################           | ETA:   0:31:53\n"
     ]
    },
    {
     "name": "stdout",
     "output_type": "stream",
     "text": [
      "t_step: 65 \t, sample_time: 0.004 \tupdate_time: 0.005 \tlearn_time: 0.012 \tsum: 1874.573 \tsize: 90466                        \n",
      "Episode 1131\tTotal score (max over agents) this episode: 0.20000000298023224\n",
      "t_step: 30 \t, sample_time: 0.003 \tupdate_time: 0.006 \tlearn_time: 0.017 \tsum: 1861.451 \tsize: 90529                        "
     ]
    },
    {
     "name": "stderr",
     "output_type": "stream",
     "text": [
      "training loop:  75% |###############################           | ETA:   0:31:48\n"
     ]
    },
    {
     "name": "stdout",
     "output_type": "stream",
     "text": [
      "t_step: 30 \t, sample_time: 0.003 \tupdate_time: 0.004 \tlearn_time: 0.029 \tsum: 1859.377 \tsize: 90530                        \n",
      "Episode 1132\tTotal score (max over agents) this episode: 0.10000000149011612\n",
      "t_step: 85 \t, sample_time: 0.002 \tupdate_time: 0.009 \tlearn_time: 0.050 \tsum: 1882.019 \tsize: 90701                        "
     ]
    },
    {
     "name": "stderr",
     "output_type": "stream",
     "text": [
      "training loop:  75% |###############################           | ETA:   0:31:45\n"
     ]
    },
    {
     "name": "stdout",
     "output_type": "stream",
     "text": [
      "t_step: 85 \t, sample_time: 0.004 \tupdate_time: 0.004 \tlearn_time: 0.011 \tsum: 1873.084 \tsize: 90702                        \n",
      "Episode 1133\tTotal score (max over agents) this episode: 0.20000000298023224\n",
      "t_step: 65 \t, sample_time: 0.003 \tupdate_time: 0.004 \tlearn_time: 0.011 \tsum: 1869.126 \tsize: 90835                        "
     ]
    },
    {
     "name": "stderr",
     "output_type": "stream",
     "text": [
      "training loop:  75% |###############################           | ETA:   0:31:41\n"
     ]
    },
    {
     "name": "stdout",
     "output_type": "stream",
     "text": [
      "t_step: 65 \t, sample_time: 0.003 \tupdate_time: 0.007 \tlearn_time: 0.022 \tsum: 1863.926 \tsize: 90836                        \n",
      "Episode 1134\tTotal score (max over agents) this episode: 0.10000000149011612\n",
      "t_step: 345 \t, sample_time: 0.002 \tupdate_time: 0.006 \tlearn_time: 0.017 \tsum: 1883.784 \tsize: 91530                        "
     ]
    },
    {
     "name": "stderr",
     "output_type": "stream",
     "text": [
      "training loop:  75% |###############################           | ETA:   0:31:48\n"
     ]
    },
    {
     "name": "stdout",
     "output_type": "stream",
     "text": [
      "\n",
      "Episode 1135\tTotal score (max over agents) this episode: 0.9000000134110451\n",
      "t_step: 25 \t, sample_time: 0.003 \tupdate_time: 0.008 \tlearn_time: 0.014 \tsum: 1896.670 \tsize: 91585                        "
     ]
    },
    {
     "name": "stderr",
     "output_type": "stream",
     "text": [
      "training loop:  75% |###############################           | ETA:   0:31:42\n"
     ]
    },
    {
     "name": "stdout",
     "output_type": "stream",
     "text": [
      "t_step: 25 \t, sample_time: 0.003 \tupdate_time: 0.004 \tlearn_time: 0.012 \tsum: 1887.527 \tsize: 91586                        \n",
      "Episode 1136\tTotal score (max over agents) this episode: 0.10000000149011612\n",
      "t_step: 140 \t, sample_time: 0.002 \tupdate_time: 0.004 \tlearn_time: 0.014 \tsum: 1898.596 \tsize: 91875                        "
     ]
    },
    {
     "name": "stderr",
     "output_type": "stream",
     "text": [
      "training loop:  75% |###############################           | ETA:   0:31:41\n"
     ]
    },
    {
     "name": "stdout",
     "output_type": "stream",
     "text": [
      "t_step: 140 \t, sample_time: 0.002 \tupdate_time: 0.005 \tlearn_time: 0.015 \tsum: 1886.886 \tsize: 91876                        \n",
      "Episode 1137\tTotal score (max over agents) this episode: 0.4000000059604645\n",
      "t_step: 25 \t, sample_time: 0.004 \tupdate_time: 0.005 \tlearn_time: 0.011 \tsum: 1895.292 \tsize: 91934                        "
     ]
    },
    {
     "name": "stderr",
     "output_type": "stream",
     "text": [
      "training loop:  75% |###############################           | ETA:   0:31:35\n"
     ]
    },
    {
     "name": "stdout",
     "output_type": "stream",
     "text": [
      "t_step: 30 \t, sample_time: 0.002 \tupdate_time: 0.003 \tlearn_time: 0.009 \tsum: 1890.338 \tsize: 91944                        \n",
      "Episode 1138\tTotal score (max over agents) this episode: 0.10000000149011612\n",
      "t_step: 140 \t, sample_time: 0.002 \tupdate_time: 0.004 \tlearn_time: 0.012 \tsum: 1901.582 \tsize: 92226                        "
     ]
    },
    {
     "name": "stderr",
     "output_type": "stream",
     "text": [
      "training loop:  75% |###############################           | ETA:   0:31:34\n"
     ]
    },
    {
     "name": "stdout",
     "output_type": "stream",
     "text": [
      "\n",
      "Episode 1139\tTotal score (max over agents) this episode: 0.3900000061839819\n",
      "t_step: 65 \t, sample_time: 0.002 \tupdate_time: 0.005 \tlearn_time: 0.012 \tsum: 1898.712 \tsize: 92361                        "
     ]
    },
    {
     "name": "stderr",
     "output_type": "stream",
     "text": [
      "training loop:  76% |###############################           | ETA:   0:31:29\n"
     ]
    },
    {
     "name": "stdout",
     "output_type": "stream",
     "text": [
      "t_step: 65 \t, sample_time: 0.003 \tupdate_time: 0.007 \tlearn_time: 0.045 \tsum: 1890.107 \tsize: 92362                        \n",
      "Episode 1140\tTotal score (max over agents) this episode: 0.19000000320374966\n",
      "t_step: 100 \t, sample_time: 0.003 \tupdate_time: 0.005 \tlearn_time: 0.013 \tsum: 1908.268 \tsize: 92565                        "
     ]
    },
    {
     "name": "stderr",
     "output_type": "stream",
     "text": [
      "training loop:  76% |###############################           | ETA:   0:31:27\n"
     ]
    },
    {
     "name": "stdout",
     "output_type": "stream",
     "text": [
      "t_step: 100 \t, sample_time: 0.004 \tupdate_time: 0.005 \tlearn_time: 0.014 \tsum: 1901.993 \tsize: 92566                        \n",
      "Episode 1141\tTotal score (max over agents) this episode: 0.30000000447034836\n",
      "t_step: 370 \t, sample_time: 0.003 \tupdate_time: 0.006 \tlearn_time: 0.028 \tsum: 1926.566 \tsize: 93315                        "
     ]
    },
    {
     "name": "stderr",
     "output_type": "stream",
     "text": [
      "training loop:  76% |###############################           | ETA:   0:31:33\n"
     ]
    },
    {
     "name": "stdout",
     "output_type": "stream",
     "text": [
      "t_step: 370 \t, sample_time: 0.002 \tupdate_time: 0.005 \tlearn_time: 0.016 \tsum: 1917.577 \tsize: 93316                        \n",
      "Episode 1142\tTotal score (max over agents) this episode: 1.0000000149011612\n",
      "t_step: 980 \t, sample_time: 0.002 \tupdate_time: 0.004 \tlearn_time: 0.054 \tsum: 1963.771 \tsize: 95281                        "
     ]
    },
    {
     "name": "stderr",
     "output_type": "stream",
     "text": [
      "training loop:  76% |################################          | ETA:   0:32:02\n"
     ]
    },
    {
     "name": "stdout",
     "output_type": "stream",
     "text": [
      "t_step: 980 \t, sample_time: 0.003 \tupdate_time: 0.004 \tlearn_time: 0.013 \tsum: 1954.453 \tsize: 95282                        \n",
      "Episode 1143\tTotal score (max over agents) this episode: 2.600000038743019\n",
      "\n",
      "Environment improved in 1143 episodes!\tAverage Score: 0.30\n",
      "t_step: 275 \t, sample_time: 0.002 \tupdate_time: 0.004 \tlearn_time: 0.011 \tsum: 1982.144 \tsize: 95842                        "
     ]
    },
    {
     "name": "stderr",
     "output_type": "stream",
     "text": [
      "training loop:  76% |################################          | ETA:   0:32:05\n"
     ]
    },
    {
     "name": "stdout",
     "output_type": "stream",
     "text": [
      "\n",
      "Episode 1144\tTotal score (max over agents) this episode: 0.7000000104308128\n",
      "t_step: 195 \t, sample_time: 0.003 \tupdate_time: 0.004 \tlearn_time: 0.030 \tsum: 1993.194 \tsize: 96241                        "
     ]
    },
    {
     "name": "stderr",
     "output_type": "stream",
     "text": [
      "training loop:  76% |################################          | ETA:   0:32:06\n"
     ]
    },
    {
     "name": "stdout",
     "output_type": "stream",
     "text": [
      "t_step: 195 \t, sample_time: 0.002 \tupdate_time: 0.006 \tlearn_time: 0.030 \tsum: 1988.830 \tsize: 96242                        \n",
      "Episode 1145\tTotal score (max over agents) this episode: 0.5000000074505806\n",
      "t_step: 65 \t, sample_time: 0.002 \tupdate_time: 0.005 \tlearn_time: 0.014 \tsum: 1998.606 \tsize: 96381                        "
     ]
    },
    {
     "name": "stderr",
     "output_type": "stream",
     "text": [
      "training loop:  76% |################################          | ETA:   0:32:01\n"
     ]
    },
    {
     "name": "stdout",
     "output_type": "stream",
     "text": [
      "t_step: 65 \t, sample_time: 0.002 \tupdate_time: 0.013 \tlearn_time: 0.018 \tsum: 1992.851 \tsize: 96382                        \n",
      "Episode 1146\tTotal score (max over agents) this episode: 0.20000000298023224\n",
      "t_step: 140 \t, sample_time: 0.003 \tupdate_time: 0.006 \tlearn_time: 0.015 \tsum: 2005.990 \tsize: 96665                        "
     ]
    },
    {
     "name": "stderr",
     "output_type": "stream",
     "text": [
      "training loop:  76% |################################          | ETA:   0:32:00\n"
     ]
    },
    {
     "name": "stdout",
     "output_type": "stream",
     "text": [
      "t_step: 140 \t, sample_time: 0.005 \tupdate_time: 0.005 \tlearn_time: 0.058 \tsum: 1995.190 \tsize: 96666                        \n",
      "Episode 1147\tTotal score (max over agents) this episode: 0.4000000059604645\n",
      "t_step: 65 \t, sample_time: 0.002 \tupdate_time: 0.006 \tlearn_time: 0.028 \tsum: 2002.681 \tsize: 96805                        "
     ]
    },
    {
     "name": "stderr",
     "output_type": "stream",
     "text": [
      "training loop:  76% |################################          | ETA:   0:31:55\n"
     ]
    },
    {
     "name": "stdout",
     "output_type": "stream",
     "text": [
      "t_step: 65 \t, sample_time: 0.003 \tupdate_time: 0.004 \tlearn_time: 0.030 \tsum: 1996.485 \tsize: 96806                        \n",
      "Episode 1148\tTotal score (max over agents) this episode: 0.10000000149011612\n",
      "t_step: 25 \t, sample_time: 0.008 \tupdate_time: 0.007 \tlearn_time: 0.040 \tsum: 2001.262 \tsize: 96861                        "
     ]
    },
    {
     "name": "stderr",
     "output_type": "stream",
     "text": [
      "training loop:  76% |################################          | ETA:   0:31:49\n"
     ]
    },
    {
     "name": "stdout",
     "output_type": "stream",
     "text": [
      "t_step: 25 \t, sample_time: 0.003 \tupdate_time: 0.005 \tlearn_time: 0.011 \tsum: 1988.347 \tsize: 96862                        \n",
      "Episode 1149\tTotal score (max over agents) this episode: 0.10000000149011612\n",
      "t_step: 595 \t, sample_time: 0.004 \tupdate_time: 0.009 \tlearn_time: 0.030 \tsum: 2002.997 \tsize: 98060                                                "
     ]
    },
    {
     "name": "stderr",
     "output_type": "stream",
     "text": [
      "training loop:  76% |################################          | ETA:   0:32:03\n"
     ]
    },
    {
     "name": "stdout",
     "output_type": "stream",
     "text": [
      "t_step: 600 \t, sample_time: 0.003 \tupdate_time: 0.004 \tlearn_time: 0.012 \tsum: 2010.365 \tsize: 98070                        \n",
      "Episode 1150\tTotal score (max over agents) this episode: 1.5900000240653753\n",
      "t_step: 30 \t, sample_time: 0.003 \tupdate_time: 0.004 \tlearn_time: 0.011 \tsum: 2020.002 \tsize: 98133                        "
     ]
    },
    {
     "name": "stderr",
     "output_type": "stream",
     "text": [
      "training loop:  76% |################################          | ETA:   0:31:57\n"
     ]
    },
    {
     "name": "stdout",
     "output_type": "stream",
     "text": [
      "t_step: 30 \t, sample_time: 0.004 \tupdate_time: 0.005 \tlearn_time: 0.038 \tsum: 2009.678 \tsize: 98134                        \n",
      "Episode 1151\tTotal score (max over agents) this episode: 0.10000000149011612\n",
      "t_step: 295 \t, sample_time: 0.003 \tupdate_time: 0.004 \tlearn_time: 0.012 \tsum: 2030.253 \tsize: 98727                                                "
     ]
    },
    {
     "name": "stderr",
     "output_type": "stream",
     "text": [
      "training loop:  76% |################################          | ETA:   0:32:01\n"
     ]
    },
    {
     "name": "stdout",
     "output_type": "stream",
     "text": [
      "t_step: 295 \t, sample_time: 0.005 \tupdate_time: 0.005 \tlearn_time: 0.014 \tsum: 2023.498 \tsize: 98728                        \n",
      "Episode 1152\tTotal score (max over agents) this episode: 0.800000011920929\n",
      "t_step: 485 \t, sample_time: 0.002 \tupdate_time: 0.007 \tlearn_time: 0.017 \tsum: 2050.828 \tsize: 99705                        "
     ]
    },
    {
     "name": "stderr",
     "output_type": "stream",
     "text": [
      "training loop:  76% |################################          | ETA:   0:32:12\n"
     ]
    },
    {
     "name": "stdout",
     "output_type": "stream",
     "text": [
      "t_step: 485 \t, sample_time: 0.002 \tupdate_time: 0.005 \tlearn_time: 0.035 \tsum: 2046.422 \tsize: 99706                        \n",
      "Episode 1153\tTotal score (max over agents) this episode: 1.3000000193715096\n",
      "t_step: 105 \t, sample_time: 0.005 \tupdate_time: 0.005 \tlearn_time: 0.016 \tsum: 2057.010 \tsize: 99921                        "
     ]
    },
    {
     "name": "stderr",
     "output_type": "stream",
     "text": [
      "training loop:  76% |################################          | ETA:   0:32:08\n"
     ]
    },
    {
     "name": "stdout",
     "output_type": "stream",
     "text": [
      "t_step: 105 \t, sample_time: 0.003 \tupdate_time: 0.007 \tlearn_time: 0.019 \tsum: 2052.863 \tsize: 99922                        \n",
      "Episode 1154\tTotal score (max over agents) this episode: 0.30000000447034836\n",
      "t_step: 60 \t, sample_time: 0.004 \tupdate_time: 0.007 \tlearn_time: 0.083 \tsum: 2049.588 \tsize: 100046                        "
     ]
    },
    {
     "name": "stderr",
     "output_type": "stream",
     "text": [
      "training loop:  77% |################################          | ETA:   0:32:04\n"
     ]
    },
    {
     "name": "stdout",
     "output_type": "stream",
     "text": [
      "t_step: 65 \t, sample_time: 0.003 \tupdate_time: 0.004 \tlearn_time: 0.012 \tsum: 2051.460 \tsize: 100056                        \n",
      "Episode 1155\tTotal score (max over agents) this episode: 0.20000000298023224\n",
      "t_step: 65 \t, sample_time: 0.002 \tupdate_time: 0.005 \tlearn_time: 0.013 \tsum: 2053.741 \tsize: 100193                        "
     ]
    },
    {
     "name": "stderr",
     "output_type": "stream",
     "text": [
      "training loop:  77% |################################          | ETA:   0:31:59\n"
     ]
    },
    {
     "name": "stdout",
     "output_type": "stream",
     "text": [
      "t_step: 65 \t, sample_time: 0.004 \tupdate_time: 0.005 \tlearn_time: 0.014 \tsum: 2039.101 \tsize: 100194                        \n",
      "Episode 1156\tTotal score (max over agents) this episode: 0.20000000298023224\n",
      "t_step: 25 \t, sample_time: 0.002 \tupdate_time: 0.005 \tlearn_time: 0.012 \tsum: 2048.809 \tsize: 100250                        "
     ]
    },
    {
     "name": "stderr",
     "output_type": "stream",
     "text": [
      "training loop:  77% |################################          | ETA:   0:31:53\n"
     ]
    },
    {
     "name": "stdout",
     "output_type": "stream",
     "text": [
      "\n",
      "Episode 1157\tTotal score (max over agents) this episode: 0.10000000149011612\n",
      "t_step: 120 \t, sample_time: 0.003 \tupdate_time: 0.003 \tlearn_time: 0.012 \tsum: 2067.817 \tsize: 100497                        "
     ]
    },
    {
     "name": "stderr",
     "output_type": "stream",
     "text": [
      "training loop:  77% |################################          | ETA:   0:31:50\n"
     ]
    },
    {
     "name": "stdout",
     "output_type": "stream",
     "text": [
      "t_step: 120 \t, sample_time: 0.003 \tupdate_time: 0.006 \tlearn_time: 0.016 \tsum: 2064.503 \tsize: 100498                        \n",
      "Episode 1158\tTotal score (max over agents) this episode: 0.2900000046938658\n",
      "t_step: 45 \t, sample_time: 0.004 \tupdate_time: 0.007 \tlearn_time: 0.016 \tsum: 2054.554 \tsize: 100596                                                "
     ]
    },
    {
     "name": "stderr",
     "output_type": "stream",
     "text": [
      "training loop:  77% |################################          | ETA:   0:31:45\n"
     ]
    },
    {
     "name": "stdout",
     "output_type": "stream",
     "text": [
      "t_step: 50 \t, sample_time: 0.003 \tupdate_time: 0.008 \tlearn_time: 0.019 \tsum: 2053.255 \tsize: 100606                        \n",
      "Episode 1159\tTotal score (max over agents) this episode: 0.10000000149011612\n",
      "t_step: 45 \t, sample_time: 0.002 \tupdate_time: 0.006 \tlearn_time: 0.013 \tsum: 2063.239 \tsize: 100702                        "
     ]
    },
    {
     "name": "stderr",
     "output_type": "stream",
     "text": [
      "training loop:  77% |################################          | ETA:   0:31:40\n"
     ]
    },
    {
     "name": "stdout",
     "output_type": "stream",
     "text": [
      "t_step: 50 \t, sample_time: 0.003 \tupdate_time: 0.004 \tlearn_time: 0.014 \tsum: 2065.450 \tsize: 100712                        \n",
      "Episode 1160\tTotal score (max over agents) this episode: 0.10000000149011612\n",
      "t_step: 30 \t, sample_time: 0.003 \tupdate_time: 0.006 \tlearn_time: 0.016 \tsum: 2071.123 \tsize: 100779                        "
     ]
    },
    {
     "name": "stderr",
     "output_type": "stream",
     "text": [
      "training loop:  77% |################################          | ETA:   0:31:34\n"
     ]
    },
    {
     "name": "stdout",
     "output_type": "stream",
     "text": [
      "t_step: 30 \t, sample_time: 0.005 \tupdate_time: 0.006 \tlearn_time: 0.060 \tsum: 2065.364 \tsize: 100780                        \n",
      "Episode 1161\tTotal score (max over agents) this episode: 0.10000000149011612\n",
      "t_step: 25 \t, sample_time: 0.002 \tupdate_time: 0.005 \tlearn_time: 0.013 \tsum: 2085.786 \tsize: 100831                        "
     ]
    },
    {
     "name": "stderr",
     "output_type": "stream",
     "text": [
      "training loop:  77% |################################          | ETA:   0:31:27\n"
     ]
    },
    {
     "name": "stdout",
     "output_type": "stream",
     "text": [
      "t_step: 25 \t, sample_time: 0.003 \tupdate_time: 0.006 \tlearn_time: 0.016 \tsum: 2078.457 \tsize: 100832                        \n",
      "Episode 1162\tTotal score (max over agents) this episode: 0.10000000149011612\n",
      "t_step: 30 \t, sample_time: 0.003 \tupdate_time: 0.004 \tlearn_time: 0.015 \tsum: 2089.580 \tsize: 100901                        "
     ]
    },
    {
     "name": "stderr",
     "output_type": "stream",
     "text": [
      "training loop:  77% |################################          | ETA:   0:31:22\n"
     ]
    },
    {
     "name": "stdout",
     "output_type": "stream",
     "text": [
      "t_step: 30 \t, sample_time: 0.006 \tupdate_time: 0.006 \tlearn_time: 0.026 \tsum: 2081.276 \tsize: 100902                        \n",
      "Episode 1163\tTotal score (max over agents) this episode: 0.10000000149011612\n",
      "t_step: 25 \t, sample_time: 0.002 \tupdate_time: 0.004 \tlearn_time: 0.010 \tsum: 2089.797 \tsize: 100961                        "
     ]
    },
    {
     "name": "stderr",
     "output_type": "stream",
     "text": [
      "training loop:  77% |################################          | ETA:   0:31:15\n"
     ]
    },
    {
     "name": "stdout",
     "output_type": "stream",
     "text": [
      "t_step: 25 \t, sample_time: 0.002 \tupdate_time: 0.008 \tlearn_time: 0.015 \tsum: 2079.755 \tsize: 100962                        \n",
      "Episode 1164\tTotal score (max over agents) this episode: 0.10000000149011612\n",
      "t_step: 30 \t, sample_time: 0.003 \tupdate_time: 0.005 \tlearn_time: 0.029 \tsum: 2093.677 \tsize: 101031                        "
     ]
    },
    {
     "name": "stderr",
     "output_type": "stream",
     "text": [
      "training loop:  77% |################################          | ETA:   0:31:10\n"
     ]
    },
    {
     "name": "stdout",
     "output_type": "stream",
     "text": [
      "t_step: 30 \t, sample_time: 0.005 \tupdate_time: 0.006 \tlearn_time: 0.028 \tsum: 2088.757 \tsize: 101032                        \n",
      "Episode 1165\tTotal score (max over agents) this episode: 0.10000000149011612\n",
      "t_step: 25 \t, sample_time: 0.004 \tupdate_time: 0.006 \tlearn_time: 0.020 \tsum: 2101.453 \tsize: 101083                        "
     ]
    },
    {
     "name": "stderr",
     "output_type": "stream",
     "text": [
      "training loop:  77% |################################          | ETA:   0:31:03\n"
     ]
    },
    {
     "name": "stdout",
     "output_type": "stream",
     "text": [
      "t_step: 25 \t, sample_time: 0.004 \tupdate_time: 0.006 \tlearn_time: 0.017 \tsum: 2095.669 \tsize: 101084                        \n",
      "Episode 1166\tTotal score (max over agents) this episode: 0.09000000171363354\n",
      "t_step: 30 \t, sample_time: 0.002 \tupdate_time: 0.005 \tlearn_time: 0.014 \tsum: 2090.696 \tsize: 101153                        "
     ]
    },
    {
     "name": "stderr",
     "output_type": "stream",
     "text": [
      "training loop:  77% |################################          | ETA:   0:30:57\n"
     ]
    },
    {
     "name": "stdout",
     "output_type": "stream",
     "text": [
      "t_step: 30 \t, sample_time: 0.005 \tupdate_time: 0.005 \tlearn_time: 0.021 \tsum: 2083.663 \tsize: 101154                        \n",
      "Episode 1167\tTotal score (max over agents) this episode: 0.10000000149011612\n",
      "t_step: 25 \t, sample_time: 0.003 \tupdate_time: 0.005 \tlearn_time: 0.019 \tsum: 2093.064 \tsize: 101205                        "
     ]
    },
    {
     "name": "stderr",
     "output_type": "stream",
     "text": [
      "training loop:  77% |################################          | ETA:   0:30:51\n"
     ]
    },
    {
     "name": "stdout",
     "output_type": "stream",
     "text": [
      "t_step: 25 \t, sample_time: 0.003 \tupdate_time: 0.006 \tlearn_time: 0.014 \tsum: 2082.951 \tsize: 101206                        \n",
      "Episode 1168\tTotal score (max over agents) this episode: 0.09000000171363354\n",
      "t_step: 35 \t, sample_time: 0.004 \tupdate_time: 0.006 \tlearn_time: 0.024 \tsum: 2086.070 \tsize: 101283                        "
     ]
    },
    {
     "name": "stderr",
     "output_type": "stream",
     "text": [
      "training loop:  77% |################################          | ETA:   0:30:45\n"
     ]
    },
    {
     "name": "stdout",
     "output_type": "stream",
     "text": [
      "t_step: 35 \t, sample_time: 0.004 \tupdate_time: 0.009 \tlearn_time: 0.029 \tsum: 2073.649 \tsize: 101284                        \n",
      "Episode 1169\tTotal score (max over agents) this episode: 0.10000000149011612\n",
      "t_step: 25 \t, sample_time: 0.010 \tupdate_time: 0.009 \tlearn_time: 0.031 \tsum: 2079.729 \tsize: 101339                        "
     ]
    },
    {
     "name": "stderr",
     "output_type": "stream",
     "text": [
      "training loop:  78% |################################          | ETA:   0:30:39\n"
     ]
    },
    {
     "name": "stdout",
     "output_type": "stream",
     "text": [
      "t_step: 25 \t, sample_time: 0.006 \tupdate_time: 0.005 \tlearn_time: 0.011 \tsum: 2080.023 \tsize: 101340                        \n",
      "Episode 1170\tTotal score (max over agents) this episode: 0.10000000149011612\n",
      "t_step: 405 \t, sample_time: 0.003 \tupdate_time: 0.007 \tlearn_time: 0.019 \tsum: 2094.588 \tsize: 102159                        "
     ]
    },
    {
     "name": "stderr",
     "output_type": "stream",
     "text": [
      "training loop:  78% |################################          | ETA:   0:30:46\n"
     ]
    },
    {
     "name": "stdout",
     "output_type": "stream",
     "text": [
      "t_step: 405 \t, sample_time: 0.002 \tupdate_time: 0.005 \tlearn_time: 0.012 \tsum: 2086.267 \tsize: 102160                        \n",
      "Episode 1171\tTotal score (max over agents) this episode: 1.0900000166147947\n",
      "t_step: 25 \t, sample_time: 0.003 \tupdate_time: 0.008 \tlearn_time: 0.026 \tsum: 2096.773 \tsize: 102215                        "
     ]
    },
    {
     "name": "stderr",
     "output_type": "stream",
     "text": [
      "training loop:  78% |################################          | ETA:   0:30:40\n"
     ]
    },
    {
     "name": "stdout",
     "output_type": "stream",
     "text": [
      "t_step: 25 \t, sample_time: 0.003 \tupdate_time: 0.007 \tlearn_time: 0.034 \tsum: 2089.068 \tsize: 102216                        \n",
      "Episode 1172\tTotal score (max over agents) this episode: 0.10000000149011612\n",
      "t_step: 655 \t, sample_time: 0.003 \tupdate_time: 0.005 \tlearn_time: 0.025 \tsum: 2137.343 \tsize: 103536                        "
     ]
    },
    {
     "name": "stderr",
     "output_type": "stream",
     "text": [
      "training loop:  78% |################################          | ETA:   0:30:54\n"
     ]
    },
    {
     "name": "stdout",
     "output_type": "stream",
     "text": [
      "\n",
      "Episode 1173\tTotal score (max over agents) this episode: 1.700000025331974\n",
      "t_step: 155 \t, sample_time: 0.002 \tupdate_time: 0.006 \tlearn_time: 0.016 \tsum: 2143.496 \tsize: 103850                        "
     ]
    },
    {
     "name": "stderr",
     "output_type": "stream",
     "text": [
      "training loop:  78% |################################          | ETA:   0:30:52\n"
     ]
    },
    {
     "name": "stdout",
     "output_type": "stream",
     "text": [
      "\n",
      "Episode 1174\tTotal score (max over agents) this episode: 0.4000000059604645\n",
      "t_step: 410 \t, sample_time: 0.003 \tupdate_time: 0.004 \tlearn_time: 0.011 \tsum: 2179.166 \tsize: 104679                        "
     ]
    },
    {
     "name": "stderr",
     "output_type": "stream",
     "text": [
      "training loop:  78% |################################          | ETA:   0:31:00\n"
     ]
    },
    {
     "name": "stdout",
     "output_type": "stream",
     "text": [
      "t_step: 410 \t, sample_time: 0.006 \tupdate_time: 0.007 \tlearn_time: 0.015 \tsum: 2172.898 \tsize: 104680                        \n",
      "Episode 1175\tTotal score (max over agents) this episode: 1.1000000163912773\n",
      "t_step: 105 \t, sample_time: 0.020 \tupdate_time: 0.006 \tlearn_time: 0.015 \tsum: 2185.729 \tsize: 104899                                              "
     ]
    },
    {
     "name": "stderr",
     "output_type": "stream",
     "text": [
      "training loop:  78% |################################          | ETA:   0:30:56\n"
     ]
    },
    {
     "name": "stdout",
     "output_type": "stream",
     "text": [
      "t_step: 105 \t, sample_time: 0.003 \tupdate_time: 0.009 \tlearn_time: 0.025 \tsum: 2174.191 \tsize: 104900                        \n",
      "Episode 1176\tTotal score (max over agents) this episode: 0.30000000447034836\n",
      "t_step: 25 \t, sample_time: 0.002 \tupdate_time: 0.006 \tlearn_time: 0.018 \tsum: 2167.494 \tsize: 104955                        "
     ]
    },
    {
     "name": "stderr",
     "output_type": "stream",
     "text": [
      "training loop:  78% |################################          | ETA:   0:30:50\n"
     ]
    },
    {
     "name": "stdout",
     "output_type": "stream",
     "text": [
      "t_step: 25 \t, sample_time: 0.008 \tupdate_time: 0.004 \tlearn_time: 0.130 \tsum: 2167.269 \tsize: 104956                        \n",
      "Episode 1177\tTotal score (max over agents) this episode: 0.10000000149011612\n",
      "t_step: 105 \t, sample_time: 0.002 \tupdate_time: 0.006 \tlearn_time: 0.020 \tsum: 2181.369 \tsize: 105173                        "
     ]
    },
    {
     "name": "stderr",
     "output_type": "stream",
     "text": [
      "training loop:  78% |################################          | ETA:   0:30:46\n"
     ]
    },
    {
     "name": "stdout",
     "output_type": "stream",
     "text": [
      "t_step: 105 \t, sample_time: 0.004 \tupdate_time: 0.005 \tlearn_time: 0.022 \tsum: 2179.920 \tsize: 105174                        \n",
      "Episode 1178\tTotal score (max over agents) this episode: 0.30000000447034836\n",
      "t_step: 220 \t, sample_time: 0.003 \tupdate_time: 0.005 \tlearn_time: 0.017 \tsum: 2180.532 \tsize: 105617                                                "
     ]
    },
    {
     "name": "stderr",
     "output_type": "stream",
     "text": [
      "training loop:  78% |#################################         | ETA:   0:30:46\n"
     ]
    },
    {
     "name": "stdout",
     "output_type": "stream",
     "text": [
      "t_step: 220 \t, sample_time: 0.009 \tupdate_time: 0.008 \tlearn_time: 0.052 \tsum: 2175.353 \tsize: 105618                        \n",
      "Episode 1179\tTotal score (max over agents) this episode: 0.6000000089406967\n",
      "t_step: 25 \t, sample_time: 0.003 \tupdate_time: 0.005 \tlearn_time: 0.021 \tsum: 2171.279 \tsize: 105669                        "
     ]
    },
    {
     "name": "stderr",
     "output_type": "stream",
     "text": [
      "training loop:  78% |#################################         | ETA:   0:30:40\n"
     ]
    },
    {
     "name": "stdout",
     "output_type": "stream",
     "text": [
      "t_step: 25 \t, sample_time: 0.002 \tupdate_time: 0.007 \tlearn_time: 0.015 \tsum: 2163.349 \tsize: 105670                        \n",
      "Episode 1180\tTotal score (max over agents) this episode: 0.10000000149011612\n",
      "t_step: 215 \t, sample_time: 0.002 \tupdate_time: 0.005 \tlearn_time: 0.013 \tsum: 2175.088 \tsize: 106109                        "
     ]
    },
    {
     "name": "stderr",
     "output_type": "stream",
     "text": [
      "training loop:  78% |#################################         | ETA:   0:30:41\n"
     ]
    },
    {
     "name": "stdout",
     "output_type": "stream",
     "text": [
      "t_step: 215 \t, sample_time: 0.003 \tupdate_time: 0.007 \tlearn_time: 0.017 \tsum: 2176.089 \tsize: 106110                        \n",
      "Episode 1181\tTotal score (max over agents) this episode: 0.5900000091642141\n",
      "t_step: 105 \t, sample_time: 0.004 \tupdate_time: 0.018 \tlearn_time: 0.117 \tsum: 2196.512 \tsize: 106325                        "
     ]
    },
    {
     "name": "stderr",
     "output_type": "stream",
     "text": [
      "training loop:  78% |#################################         | ETA:   0:30:37\n"
     ]
    },
    {
     "name": "stdout",
     "output_type": "stream",
     "text": [
      "t_step: 105 \t, sample_time: 0.003 \tupdate_time: 0.006 \tlearn_time: 0.022 \tsum: 2185.775 \tsize: 106326                        \n",
      "Episode 1182\tTotal score (max over agents) this episode: 0.30000000447034836\n",
      "t_step: 10 \t, sample_time: 0.004 \tupdate_time: 0.009 \tlearn_time: 0.032 \tsum: 2195.505 \tsize: 106349                        "
     ]
    },
    {
     "name": "stderr",
     "output_type": "stream",
     "text": [
      "training loop:  78% |#################################         | ETA:   0:30:31\n"
     ]
    },
    {
     "name": "stdout",
     "output_type": "stream",
     "text": [
      "t_step: 10 \t, sample_time: 0.002 \tupdate_time: 0.005 \tlearn_time: 0.026 \tsum: 2188.495 \tsize: 106350                        \n",
      "Episode 1183\tTotal score (max over agents) this episode: 0.0\n",
      "t_step: 235 \t, sample_time: 0.002 \tupdate_time: 0.005 \tlearn_time: 0.012 \tsum: 2195.990 \tsize: 106827                        "
     ]
    },
    {
     "name": "stderr",
     "output_type": "stream",
     "text": [
      "training loop:  78% |#################################         | ETA:   0:30:32\n"
     ]
    },
    {
     "name": "stdout",
     "output_type": "stream",
     "text": [
      "t_step: 235 \t, sample_time: 0.008 \tupdate_time: 0.007 \tlearn_time: 0.086 \tsum: 2188.341 \tsize: 106828                        \n",
      "Episode 1184\tTotal score (max over agents) this episode: 0.6000000089406967\n",
      "t_step: 65 \t, sample_time: 0.002 \tupdate_time: 0.010 \tlearn_time: 0.110 \tsum: 2197.274 \tsize: 106965                        "
     ]
    },
    {
     "name": "stderr",
     "output_type": "stream",
     "text": [
      "training loop:  79% |#################################         | ETA:   0:30:29\n"
     ]
    },
    {
     "name": "stdout",
     "output_type": "stream",
     "text": [
      "t_step: 65 \t, sample_time: 0.002 \tupdate_time: 0.010 \tlearn_time: 0.082 \tsum: 2190.623 \tsize: 106966                        \n",
      "Episode 1185\tTotal score (max over agents) this episode: 0.20000000298023224\n",
      "t_step: 25 \t, sample_time: 0.003 \tupdate_time: 0.007 \tlearn_time: 0.095 \tsum: 2194.971 \tsize: 107021                        "
     ]
    },
    {
     "name": "stderr",
     "output_type": "stream",
     "text": [
      "training loop:  79% |#################################         | ETA:   0:30:23\n"
     ]
    },
    {
     "name": "stdout",
     "output_type": "stream",
     "text": [
      "t_step: 25 \t, sample_time: 0.007 \tupdate_time: 0.006 \tlearn_time: 0.039 \tsum: 2185.885 \tsize: 107022                        \n",
      "Episode 1186\tTotal score (max over agents) this episode: 0.10000000149011612\n",
      "t_step: 25 \t, sample_time: 0.005 \tupdate_time: 0.007 \tlearn_time: 0.083 \tsum: 2188.877 \tsize: 107081                        "
     ]
    },
    {
     "name": "stderr",
     "output_type": "stream",
     "text": [
      "training loop:  79% |#################################         | ETA:   0:30:18\n"
     ]
    },
    {
     "name": "stdout",
     "output_type": "stream",
     "text": [
      "t_step: 25 \t, sample_time: 0.003 \tupdate_time: 0.005 \tlearn_time: 0.077 \tsum: 2184.929 \tsize: 107082                        \n",
      "Episode 1187\tTotal score (max over agents) this episode: 0.10000000149011612\n",
      "t_step: 65 \t, sample_time: 0.003 \tupdate_time: 0.006 \tlearn_time: 0.073 \tsum: 2188.016 \tsize: 107221                        "
     ]
    },
    {
     "name": "stderr",
     "output_type": "stream",
     "text": [
      "training loop:  79% |#################################         | ETA:   0:30:17\n"
     ]
    },
    {
     "name": "stdout",
     "output_type": "stream",
     "text": [
      "t_step: 65 \t, sample_time: 0.004 \tupdate_time: 0.007 \tlearn_time: 0.022 \tsum: 2188.721 \tsize: 107222                        \n",
      "Episode 1188\tTotal score (max over agents) this episode: 0.20000000298023224\n",
      "t_step: 100 \t, sample_time: 0.004 \tupdate_time: 0.010 \tlearn_time: 0.124 \tsum: 2213.865 \tsize: 107429                        "
     ]
    },
    {
     "name": "stderr",
     "output_type": "stream",
     "text": [
      "training loop:  79% |#################################         | ETA:   0:30:16\n"
     ]
    },
    {
     "name": "stdout",
     "output_type": "stream",
     "text": [
      "t_step: 100 \t, sample_time: 0.011 \tupdate_time: 0.008 \tlearn_time: 0.046 \tsum: 2211.973 \tsize: 107430                        \n",
      "Episode 1189\tTotal score (max over agents) this episode: 0.30000000447034836\n",
      "t_step: 25 \t, sample_time: 0.003 \tupdate_time: 0.008 \tlearn_time: 0.035 \tsum: 2203.658 \tsize: 107489                        "
     ]
    },
    {
     "name": "stderr",
     "output_type": "stream",
     "text": [
      "training loop:  79% |#################################         | ETA:   0:30:11\n"
     ]
    },
    {
     "name": "stdout",
     "output_type": "stream",
     "text": [
      "t_step: 25 \t, sample_time: 0.005 \tupdate_time: 0.009 \tlearn_time: 0.106 \tsum: 2199.537 \tsize: 107490                        \n",
      "Episode 1190\tTotal score (max over agents) this episode: 0.09000000171363354\n",
      "t_step: 100 \t, sample_time: 0.007 \tupdate_time: 0.006 \tlearn_time: 0.066 \tsum: 2205.745 \tsize: 107697                        "
     ]
    },
    {
     "name": "stderr",
     "output_type": "stream",
     "text": [
      "training loop:  79% |#################################         | ETA:   0:30:10\n"
     ]
    },
    {
     "name": "stdout",
     "output_type": "stream",
     "text": [
      "t_step: 100 \t, sample_time: 0.004 \tupdate_time: 0.007 \tlearn_time: 0.017 \tsum: 2200.281 \tsize: 107698                        \n",
      "Episode 1191\tTotal score (max over agents) this episode: 0.20000000298023224\n",
      "t_step: 140 \t, sample_time: 0.005 \tupdate_time: 0.008 \tlearn_time: 0.094 \tsum: 2209.953 \tsize: 107979                        "
     ]
    },
    {
     "name": "stderr",
     "output_type": "stream",
     "text": [
      "training loop:  79% |#################################         | ETA:   0:30:12\n"
     ]
    },
    {
     "name": "stdout",
     "output_type": "stream",
     "text": [
      "t_step: 140 \t, sample_time: 0.002 \tupdate_time: 0.009 \tlearn_time: 0.220 \tsum: 2202.624 \tsize: 107980                        \n",
      "Episode 1192\tTotal score (max over agents) this episode: 0.4000000059604645\n",
      "t_step: 105 \t, sample_time: 0.003 \tupdate_time: 0.007 \tlearn_time: 0.015 \tsum: 2227.448 \tsize: 108197                        "
     ]
    },
    {
     "name": "stderr",
     "output_type": "stream",
     "text": [
      "training loop:  79% |#################################         | ETA:   0:30:11\n"
     ]
    },
    {
     "name": "stdout",
     "output_type": "stream",
     "text": [
      "t_step: 105 \t, sample_time: 0.003 \tupdate_time: 0.006 \tlearn_time: 0.018 \tsum: 2217.435 \tsize: 108198                        \n",
      "Episode 1193\tTotal score (max over agents) this episode: 0.30000000447034836\n",
      "t_step: 25 \t, sample_time: 0.004 \tupdate_time: 0.004 \tlearn_time: 0.012 \tsum: 2222.697 \tsize: 108249                        "
     ]
    },
    {
     "name": "stderr",
     "output_type": "stream",
     "text": [
      "training loop:  79% |#################################         | ETA:   0:30:05\n"
     ]
    },
    {
     "name": "stdout",
     "output_type": "stream",
     "text": [
      "t_step: 25 \t, sample_time: 0.002 \tupdate_time: 0.004 \tlearn_time: 0.020 \tsum: 2214.885 \tsize: 108250                        \n",
      "Episode 1194\tTotal score (max over agents) this episode: 0.10000000149011612\n",
      "t_step: 25 \t, sample_time: 0.002 \tupdate_time: 0.004 \tlearn_time: 0.075 \tsum: 2208.610 \tsize: 108309                        "
     ]
    },
    {
     "name": "stderr",
     "output_type": "stream",
     "text": [
      "training loop:  79% |#################################         | ETA:   0:30:00\n"
     ]
    },
    {
     "name": "stdout",
     "output_type": "stream",
     "text": [
      "t_step: 25 \t, sample_time: 0.004 \tupdate_time: 0.009 \tlearn_time: 0.075 \tsum: 2209.273 \tsize: 108310                        \n",
      "Episode 1195\tTotal score (max over agents) this episode: 0.10000000149011612\n",
      "t_step: 105 \t, sample_time: 0.003 \tupdate_time: 0.009 \tlearn_time: 0.097 \tsum: 2230.749 \tsize: 108529                        "
     ]
    },
    {
     "name": "stderr",
     "output_type": "stream",
     "text": [
      "training loop:  79% |#################################         | ETA:   0:30:00\n"
     ]
    },
    {
     "name": "stdout",
     "output_type": "stream",
     "text": [
      "t_step: 105 \t, sample_time: 0.003 \tupdate_time: 0.007 \tlearn_time: 0.037 \tsum: 2222.532 \tsize: 108530                        \n",
      "Episode 1196\tTotal score (max over agents) this episode: 0.30000000447034836\n",
      "t_step: 50 \t, sample_time: 0.004 \tupdate_time: 0.005 \tlearn_time: 0.018 \tsum: 2234.647 \tsize: 108633                        "
     ]
    },
    {
     "name": "stderr",
     "output_type": "stream",
     "text": [
      "training loop:  79% |#################################         | ETA:   0:29:56\n"
     ]
    },
    {
     "name": "stdout",
     "output_type": "stream",
     "text": [
      "t_step: 50 \t, sample_time: 0.004 \tupdate_time: 0.017 \tlearn_time: 0.047 \tsum: 2226.525 \tsize: 108634                        \n",
      "Episode 1197\tTotal score (max over agents) this episode: 0.10000000149011612\n",
      "t_step: 65 \t, sample_time: 0.003 \tupdate_time: 0.007 \tlearn_time: 0.029 \tsum: 2228.464 \tsize: 108767                        "
     ]
    },
    {
     "name": "stderr",
     "output_type": "stream",
     "text": [
      "training loop:  79% |#################################         | ETA:   0:29:51\n"
     ]
    },
    {
     "name": "stdout",
     "output_type": "stream",
     "text": [
      "t_step: 65 \t, sample_time: 0.003 \tupdate_time: 0.005 \tlearn_time: 0.035 \tsum: 2224.181 \tsize: 108768                        \n",
      "Episode 1198\tTotal score (max over agents) this episode: 0.20000000298023224\n",
      "t_step: 25 \t, sample_time: 0.003 \tupdate_time: 0.006 \tlearn_time: 0.014 \tsum: 2245.495 \tsize: 108823                        "
     ]
    },
    {
     "name": "stderr",
     "output_type": "stream",
     "text": [
      "training loop:  79% |#################################         | ETA:   0:29:45\n"
     ]
    },
    {
     "name": "stdout",
     "output_type": "stream",
     "text": [
      "t_step: 25 \t, sample_time: 0.003 \tupdate_time: 0.009 \tlearn_time: 0.017 \tsum: 2241.311 \tsize: 108824                        \n",
      "Episode 1199\tTotal score (max over agents) this episode: 0.10000000149011612\n",
      "t_step: 25 \t, sample_time: 0.002 \tupdate_time: 0.007 \tlearn_time: 0.033 \tsum: 2242.261 \tsize: 108881                        "
     ]
    },
    {
     "name": "stderr",
     "output_type": "stream",
     "text": [
      "training loop:  80% |#################################         | ETA:   0:29:39\n"
     ]
    },
    {
     "name": "stdout",
     "output_type": "stream",
     "text": [
      "t_step: 25 \t, sample_time: 0.002 \tupdate_time: 0.005 \tlearn_time: 0.024 \tsum: 2232.461 \tsize: 108882                        \n",
      "Episode 1200\tTotal score (max over agents) this episode: 0.10000000149011612\n",
      "t_step: 160 \t, sample_time: 0.003 \tupdate_time: 0.007 \tlearn_time: 0.029 \tsum: 2254.056 \tsize: 109211                        "
     ]
    },
    {
     "name": "stderr",
     "output_type": "stream",
     "text": [
      "training loop:  80% |#################################         | ETA:   0:29:37\n"
     ]
    },
    {
     "name": "stdout",
     "output_type": "stream",
     "text": [
      "t_step: 160 \t, sample_time: 0.002 \tupdate_time: 0.006 \tlearn_time: 0.017 \tsum: 2242.130 \tsize: 109212                        \n",
      "Episode 1201\tTotal score (max over agents) this episode: 0.4000000059604645\n",
      "t_step: 70 \t, sample_time: 0.003 \tupdate_time: 0.004 \tlearn_time: 0.018 \tsum: 2233.636 \tsize: 109359                        "
     ]
    },
    {
     "name": "stderr",
     "output_type": "stream",
     "text": [
      "training loop:  80% |#################################         | ETA:   0:29:33\n"
     ]
    },
    {
     "name": "stdout",
     "output_type": "stream",
     "text": [
      "t_step: 70 \t, sample_time: 0.002 \tupdate_time: 0.007 \tlearn_time: 0.047 \tsum: 2231.709 \tsize: 109360                        \n",
      "Episode 1202\tTotal score (max over agents) this episode: 0.10000000149011612\n",
      "t_step: 65 \t, sample_time: 0.003 \tupdate_time: 0.012 \tlearn_time: 0.025 \tsum: 2249.053 \tsize: 109493                        "
     ]
    },
    {
     "name": "stderr",
     "output_type": "stream",
     "text": [
      "training loop:  80% |#################################         | ETA:   0:29:28\n"
     ]
    },
    {
     "name": "stdout",
     "output_type": "stream",
     "text": [
      "t_step: 65 \t, sample_time: 0.004 \tupdate_time: 0.008 \tlearn_time: 0.145 \tsum: 2237.601 \tsize: 109494                        \n",
      "Episode 1203\tTotal score (max over agents) this episode: 0.20000000298023224\n",
      "t_step: 25 \t, sample_time: 0.002 \tupdate_time: 0.007 \tlearn_time: 0.027 \tsum: 2239.682 \tsize: 109551                        "
     ]
    },
    {
     "name": "stderr",
     "output_type": "stream",
     "text": [
      "training loop:  80% |#################################         | ETA:   0:29:21\n"
     ]
    },
    {
     "name": "stdout",
     "output_type": "stream",
     "text": [
      "t_step: 25 \t, sample_time: 0.002 \tupdate_time: 0.005 \tlearn_time: 0.029 \tsum: 2239.547 \tsize: 109552                        \n",
      "Episode 1204\tTotal score (max over agents) this episode: 0.10000000149011612\n",
      "t_step: 30 \t, sample_time: 0.003 \tupdate_time: 0.006 \tlearn_time: 0.064 \tsum: 2248.545 \tsize: 109621                        "
     ]
    },
    {
     "name": "stderr",
     "output_type": "stream",
     "text": [
      "training loop:  80% |#################################         | ETA:   0:29:15\n"
     ]
    },
    {
     "name": "stdout",
     "output_type": "stream",
     "text": [
      "t_step: 30 \t, sample_time: 0.003 \tupdate_time: 0.004 \tlearn_time: 0.026 \tsum: 2239.208 \tsize: 109622                        \n",
      "Episode 1205\tTotal score (max over agents) this episode: 0.10000000149011612\n",
      "t_step: 60 \t, sample_time: 0.003 \tupdate_time: 0.007 \tlearn_time: 0.051 \tsum: 2253.013 \tsize: 109743                        "
     ]
    },
    {
     "name": "stderr",
     "output_type": "stream",
     "text": [
      "training loop:  80% |#################################         | ETA:   0:29:10\n"
     ]
    },
    {
     "name": "stdout",
     "output_type": "stream",
     "text": [
      "t_step: 60 \t, sample_time: 0.003 \tupdate_time: 0.006 \tlearn_time: 0.024 \tsum: 2240.157 \tsize: 109744                        \n",
      "Episode 1206\tTotal score (max over agents) this episode: 0.19000000320374966\n",
      "t_step: 85 \t, sample_time: 0.004 \tupdate_time: 0.005 \tlearn_time: 0.022 \tsum: 2249.651 \tsize: 109924                        "
     ]
    },
    {
     "name": "stderr",
     "output_type": "stream",
     "text": [
      "training loop:  80% |#################################         | ETA:   0:29:05\n"
     ]
    },
    {
     "name": "stdout",
     "output_type": "stream",
     "text": [
      "\n",
      "Episode 1207\tTotal score (max over agents) this episode: 0.20000000298023224\n",
      "t_step: 65 \t, sample_time: 0.003 \tupdate_time: 0.004 \tlearn_time: 0.014 \tsum: 2248.531 \tsize: 110063                                                "
     ]
    },
    {
     "name": "stderr",
     "output_type": "stream",
     "text": [
      "training loop:  80% |#################################         | ETA:   0:29:00\n"
     ]
    },
    {
     "name": "stdout",
     "output_type": "stream",
     "text": [
      "t_step: 65 \t, sample_time: 0.002 \tupdate_time: 0.008 \tlearn_time: 0.029 \tsum: 2246.182 \tsize: 110064                        \n",
      "Episode 1208\tTotal score (max over agents) this episode: 0.20000000298023224\n",
      "t_step: 65 \t, sample_time: 0.003 \tupdate_time: 0.005 \tlearn_time: 0.023 \tsum: 2274.154 \tsize: 110199                        "
     ]
    },
    {
     "name": "stderr",
     "output_type": "stream",
     "text": [
      "training loop:  80% |#################################         | ETA:   0:28:55\n"
     ]
    },
    {
     "name": "stdout",
     "output_type": "stream",
     "text": [
      "t_step: 65 \t, sample_time: 0.003 \tupdate_time: 0.008 \tlearn_time: 0.017 \tsum: 2263.895 \tsize: 110200                        \n",
      "Episode 1209\tTotal score (max over agents) this episode: 0.20000000298023224\n",
      "t_step: 135 \t, sample_time: 0.004 \tupdate_time: 0.007 \tlearn_time: 0.034 \tsum: 2251.239 \tsize: 110476                                                                       "
     ]
    },
    {
     "name": "stderr",
     "output_type": "stream",
     "text": [
      "training loop:  80% |#################################         | ETA:   0:28:52\n"
     ]
    },
    {
     "name": "stdout",
     "output_type": "stream",
     "text": [
      "t_step: 140 \t, sample_time: 0.004 \tupdate_time: 0.005 \tlearn_time: 0.015 \tsum: 2245.101 \tsize: 110486                        \n",
      "Episode 1210\tTotal score (max over agents) this episode: 0.4000000059604645\n",
      "t_step: 520 \t, sample_time: 0.004 \tupdate_time: 0.006 \tlearn_time: 0.013 \tsum: 2293.074 \tsize: 111534                        "
     ]
    },
    {
     "name": "stderr",
     "output_type": "stream",
     "text": [
      "training loop:  80% |#################################         | ETA:   0:29:00\n"
     ]
    },
    {
     "name": "stdout",
     "output_type": "stream",
     "text": [
      "\n",
      "Episode 1211\tTotal score (max over agents) this episode: 1.4000000208616257\n",
      "t_step: 355 \t, sample_time: 0.003 \tupdate_time: 0.006 \tlearn_time: 0.014 \tsum: 2320.905 \tsize: 112251                        "
     ]
    },
    {
     "name": "stderr",
     "output_type": "stream",
     "text": [
      "training loop:  80% |#################################         | ETA:   0:29:03\n"
     ]
    },
    {
     "name": "stdout",
     "output_type": "stream",
     "text": [
      "t_step: 355 \t, sample_time: 0.003 \tupdate_time: 0.008 \tlearn_time: 0.022 \tsum: 2314.627 \tsize: 112252                        \n",
      "Episode 1212\tTotal score (max over agents) this episode: 0.9000000134110451\n",
      "t_step: 100 \t, sample_time: 0.003 \tupdate_time: 0.006 \tlearn_time: 0.014 \tsum: 2315.405 \tsize: 112454                        "
     ]
    },
    {
     "name": "stderr",
     "output_type": "stream",
     "text": [
      "training loop:  80% |#################################         | ETA:   0:28:59\n"
     ]
    },
    {
     "name": "stdout",
     "output_type": "stream",
     "text": [
      "t_step: 105 \t, sample_time: 0.003 \tupdate_time: 0.004 \tlearn_time: 0.017 \tsum: 2325.024 \tsize: 112464                        \n",
      "Episode 1213\tTotal score (max over agents) this episode: 0.30000000447034836\n",
      "t_step: 65 \t, sample_time: 0.004 \tupdate_time: 0.004 \tlearn_time: 0.031 \tsum: 2341.122 \tsize: 112595                        "
     ]
    },
    {
     "name": "stderr",
     "output_type": "stream",
     "text": [
      "training loop:  80% |#################################         | ETA:   0:28:54\n"
     ]
    },
    {
     "name": "stdout",
     "output_type": "stream",
     "text": [
      "t_step: 65 \t, sample_time: 0.003 \tupdate_time: 0.005 \tlearn_time: 0.025 \tsum: 2329.941 \tsize: 112596                        \n",
      "Episode 1214\tTotal score (max over agents) this episode: 0.20000000298023224\n",
      "t_step: 25 \t, sample_time: 0.003 \tupdate_time: 0.006 \tlearn_time: 0.022 \tsum: 2328.675 \tsize: 112650                        "
     ]
    },
    {
     "name": "stderr",
     "output_type": "stream",
     "text": [
      "training loop:  81% |##################################        | ETA:   0:28:48\n"
     ]
    },
    {
     "name": "stdout",
     "output_type": "stream",
     "text": [
      "\n",
      "Episode 1215\tTotal score (max over agents) this episode: 0.10000000149011612\n",
      "t_step: 25 \t, sample_time: 0.002 \tupdate_time: 0.004 \tlearn_time: 0.010 \tsum: 2346.429 \tsize: 112709                        "
     ]
    },
    {
     "name": "stderr",
     "output_type": "stream",
     "text": [
      "training loop:  81% |##################################        | ETA:   0:28:41\n"
     ]
    },
    {
     "name": "stdout",
     "output_type": "stream",
     "text": [
      "t_step: 25 \t, sample_time: 0.006 \tupdate_time: 0.005 \tlearn_time: 0.026 \tsum: 2337.674 \tsize: 112710                        \n",
      "Episode 1216\tTotal score (max over agents) this episode: 0.10000000149011612\n",
      "t_step: 255 \t, sample_time: 0.003 \tupdate_time: 0.004 \tlearn_time: 0.012 \tsum: 2344.972 \tsize: 113227                                                "
     ]
    },
    {
     "name": "stderr",
     "output_type": "stream",
     "text": [
      "training loop:  81% |##################################        | ETA:   0:28:42\n"
     ]
    },
    {
     "name": "stdout",
     "output_type": "stream",
     "text": [
      "t_step: 255 \t, sample_time: 0.002 \tupdate_time: 0.009 \tlearn_time: 0.041 \tsum: 2343.209 \tsize: 113228                        \n",
      "Episode 1217\tTotal score (max over agents) this episode: 0.7000000104308128\n",
      "t_step: 65 \t, sample_time: 0.006 \tupdate_time: 0.008 \tlearn_time: 0.071 \tsum: 2352.030 \tsize: 113361                        "
     ]
    },
    {
     "name": "stderr",
     "output_type": "stream",
     "text": [
      "training loop:  81% |##################################        | ETA:   0:28:37\n"
     ]
    },
    {
     "name": "stdout",
     "output_type": "stream",
     "text": [
      "t_step: 65 \t, sample_time: 0.003 \tupdate_time: 0.004 \tlearn_time: 0.038 \tsum: 2343.473 \tsize: 113362                        \n",
      "Episode 1218\tTotal score (max over agents) this episode: 0.20000000298023224\n",
      "t_step: 90 \t, sample_time: 0.002 \tupdate_time: 0.004 \tlearn_time: 0.012 \tsum: 2354.712 \tsize: 113549                        "
     ]
    },
    {
     "name": "stderr",
     "output_type": "stream",
     "text": [
      "training loop:  81% |##################################        | ETA:   0:28:33\n"
     ]
    },
    {
     "name": "stdout",
     "output_type": "stream",
     "text": [
      "t_step: 90 \t, sample_time: 0.005 \tupdate_time: 0.006 \tlearn_time: 0.013 \tsum: 2350.773 \tsize: 113550                        \n",
      "Episode 1219\tTotal score (max over agents) this episode: 0.20000000298023224\n",
      "t_step: 65 \t, sample_time: 0.003 \tupdate_time: 0.007 \tlearn_time: 0.047 \tsum: 2368.471 \tsize: 113681                        "
     ]
    },
    {
     "name": "stderr",
     "output_type": "stream",
     "text": [
      "training loop:  81% |##################################        | ETA:   0:28:28\n"
     ]
    },
    {
     "name": "stdout",
     "output_type": "stream",
     "text": [
      "t_step: 65 \t, sample_time: 0.003 \tupdate_time: 0.006 \tlearn_time: 0.026 \tsum: 2363.427 \tsize: 113682                        \n",
      "Episode 1220\tTotal score (max over agents) this episode: 0.20000000298023224\n",
      "t_step: 65 \t, sample_time: 0.003 \tupdate_time: 0.004 \tlearn_time: 0.054 \tsum: 2354.341 \tsize: 113815                        "
     ]
    },
    {
     "name": "stderr",
     "output_type": "stream",
     "text": [
      "training loop:  81% |##################################        | ETA:   0:28:23\n"
     ]
    },
    {
     "name": "stdout",
     "output_type": "stream",
     "text": [
      "t_step: 65 \t, sample_time: 0.003 \tupdate_time: 0.008 \tlearn_time: 0.022 \tsum: 2356.179 \tsize: 113816                        \n",
      "Episode 1221\tTotal score (max over agents) this episode: 0.20000000298023224\n",
      "t_step: 25 \t, sample_time: 0.004 \tupdate_time: 0.005 \tlearn_time: 0.020 \tsum: 2367.465 \tsize: 113869                        "
     ]
    },
    {
     "name": "stderr",
     "output_type": "stream",
     "text": [
      "training loop:  81% |##################################        | ETA:   0:28:16\n"
     ]
    },
    {
     "name": "stdout",
     "output_type": "stream",
     "text": [
      "t_step: 25 \t, sample_time: 0.003 \tupdate_time: 0.018 \tlearn_time: 0.030 \tsum: 2360.136 \tsize: 113870                        \n",
      "Episode 1222\tTotal score (max over agents) this episode: 0.10000000149011612\n",
      "t_step: 25 \t, sample_time: 0.002 \tupdate_time: 0.004 \tlearn_time: 0.054 \tsum: 2366.860 \tsize: 113929                        "
     ]
    },
    {
     "name": "stderr",
     "output_type": "stream",
     "text": [
      "training loop:  81% |##################################        | ETA:   0:28:10\n"
     ]
    },
    {
     "name": "stdout",
     "output_type": "stream",
     "text": [
      "t_step: 25 \t, sample_time: 0.003 \tupdate_time: 0.009 \tlearn_time: 0.017 \tsum: 2363.112 \tsize: 113930                        \n",
      "Episode 1223\tTotal score (max over agents) this episode: 0.09000000171363354\n",
      "t_step: 25 \t, sample_time: 0.002 \tupdate_time: 0.008 \tlearn_time: 0.024 \tsum: 2367.707 \tsize: 113989                        "
     ]
    },
    {
     "name": "stderr",
     "output_type": "stream",
     "text": [
      "training loop:  81% |##################################        | ETA:   0:28:04\n"
     ]
    },
    {
     "name": "stdout",
     "output_type": "stream",
     "text": [
      "t_step: 25 \t, sample_time: 0.003 \tupdate_time: 0.004 \tlearn_time: 0.017 \tsum: 2362.230 \tsize: 113990                        \n",
      "Episode 1224\tTotal score (max over agents) this episode: 0.09000000171363354\n",
      "t_step: 25 \t, sample_time: 0.002 \tupdate_time: 0.007 \tlearn_time: 0.016 \tsum: 2368.011 \tsize: 114049                        "
     ]
    },
    {
     "name": "stderr",
     "output_type": "stream",
     "text": [
      "training loop:  81% |##################################        | ETA:   0:27:57\n"
     ]
    },
    {
     "name": "stdout",
     "output_type": "stream",
     "text": [
      "t_step: 25 \t, sample_time: 0.002 \tupdate_time: 0.004 \tlearn_time: 0.051 \tsum: 2365.365 \tsize: 114050                        \n",
      "Episode 1225\tTotal score (max over agents) this episode: 0.10000000149011612\n",
      "t_step: 140 \t, sample_time: 0.002 \tupdate_time: 0.004 \tlearn_time: 0.015 \tsum: 2379.327 \tsize: 114339                        "
     ]
    },
    {
     "name": "stderr",
     "output_type": "stream",
     "text": [
      "training loop:  81% |##################################        | ETA:   0:27:55\n"
     ]
    },
    {
     "name": "stdout",
     "output_type": "stream",
     "text": [
      "t_step: 140 \t, sample_time: 0.003 \tupdate_time: 0.005 \tlearn_time: 0.019 \tsum: 2371.369 \tsize: 114340                        \n",
      "Episode 1226\tTotal score (max over agents) this episode: 0.4000000059604645\n",
      "t_step: 215 \t, sample_time: 0.009 \tupdate_time: 0.005 \tlearn_time: 0.075 \tsum: 2391.597 \tsize: 114779                        "
     ]
    },
    {
     "name": "stderr",
     "output_type": "stream",
     "text": [
      "training loop:  81% |##################################        | ETA:   0:27:54\n"
     ]
    },
    {
     "name": "stdout",
     "output_type": "stream",
     "text": [
      "t_step: 215 \t, sample_time: 0.004 \tupdate_time: 0.006 \tlearn_time: 0.015 \tsum: 2379.015 \tsize: 114780                        \n",
      "Episode 1227\tTotal score (max over agents) this episode: 0.6000000089406967\n",
      "t_step: 65 \t, sample_time: 0.002 \tupdate_time: 0.008 \tlearn_time: 0.050 \tsum: 2386.011 \tsize: 114919                        "
     ]
    },
    {
     "name": "stderr",
     "output_type": "stream",
     "text": [
      "training loop:  81% |##################################        | ETA:   0:27:49\n"
     ]
    },
    {
     "name": "stdout",
     "output_type": "stream",
     "text": [
      "t_step: 65 \t, sample_time: 0.004 \tupdate_time: 0.007 \tlearn_time: 0.033 \tsum: 2379.846 \tsize: 114920                        \n",
      "Episode 1228\tTotal score (max over agents) this episode: 0.10000000149011612\n",
      "t_step: 25 \t, sample_time: 0.003 \tupdate_time: 0.007 \tlearn_time: 0.035 \tsum: 2398.560 \tsize: 114977                        "
     ]
    },
    {
     "name": "stderr",
     "output_type": "stream",
     "text": [
      "training loop:  81% |##################################        | ETA:   0:27:42\n"
     ]
    },
    {
     "name": "stdout",
     "output_type": "stream",
     "text": [
      "t_step: 25 \t, sample_time: 0.003 \tupdate_time: 0.006 \tlearn_time: 0.015 \tsum: 2392.743 \tsize: 114978                        \n",
      "Episode 1229\tTotal score (max over agents) this episode: 0.10000000149011612\n",
      "t_step: 160 \t, sample_time: 0.004 \tupdate_time: 0.007 \tlearn_time: 0.041 \tsum: 2399.369 \tsize: 115307                        "
     ]
    },
    {
     "name": "stderr",
     "output_type": "stream",
     "text": [
      "training loop:  82% |##################################        | ETA:   0:27:40\n"
     ]
    },
    {
     "name": "stdout",
     "output_type": "stream",
     "text": [
      "t_step: 160 \t, sample_time: 0.005 \tupdate_time: 0.007 \tlearn_time: 0.057 \tsum: 2393.714 \tsize: 115308                        \n",
      "Episode 1230\tTotal score (max over agents) this episode: 0.3900000061839819\n",
      "t_step: 25 \t, sample_time: 0.002 \tupdate_time: 0.004 \tlearn_time: 0.012 \tsum: 2398.704 \tsize: 115361                        "
     ]
    },
    {
     "name": "stderr",
     "output_type": "stream",
     "text": [
      "training loop:  82% |##################################        | ETA:   0:27:33\n"
     ]
    },
    {
     "name": "stdout",
     "output_type": "stream",
     "text": [
      "t_step: 25 \t, sample_time: 0.003 \tupdate_time: 0.005 \tlearn_time: 0.044 \tsum: 2389.897 \tsize: 115362                        \n",
      "Episode 1231\tTotal score (max over agents) this episode: 0.10000000149011612\n",
      "t_step: 275 \t, sample_time: 0.004 \tupdate_time: 0.005 \tlearn_time: 0.019 \tsum: 2425.551 \tsize: 115919                        "
     ]
    },
    {
     "name": "stderr",
     "output_type": "stream",
     "text": [
      "training loop:  82% |##################################        | ETA:   0:27:33\n"
     ]
    },
    {
     "name": "stdout",
     "output_type": "stream",
     "text": [
      "t_step: 275 \t, sample_time: 0.002 \tupdate_time: 0.006 \tlearn_time: 0.028 \tsum: 2421.596 \tsize: 115920                        \n",
      "Episode 1232\tTotal score (max over agents) this episode: 0.7000000104308128\n",
      "t_step: 50 \t, sample_time: 0.003 \tupdate_time: 0.005 \tlearn_time: 0.032 \tsum: 2406.791 \tsize: 116029                        "
     ]
    },
    {
     "name": "stderr",
     "output_type": "stream",
     "text": [
      "training loop:  82% |##################################        | ETA:   0:27:27\n"
     ]
    },
    {
     "name": "stdout",
     "output_type": "stream",
     "text": [
      "t_step: 50 \t, sample_time: 0.005 \tupdate_time: 0.005 \tlearn_time: 0.016 \tsum: 2408.923 \tsize: 116030                        \n",
      "Episode 1233\tTotal score (max over agents) this episode: 0.10000000149011612\n",
      "t_step: 65 \t, sample_time: 0.003 \tupdate_time: 0.007 \tlearn_time: 0.038 \tsum: 2415.808 \tsize: 116163                                                "
     ]
    },
    {
     "name": "stderr",
     "output_type": "stream",
     "text": [
      "training loop:  82% |##################################        | ETA:   0:27:22\n"
     ]
    },
    {
     "name": "stdout",
     "output_type": "stream",
     "text": [
      "t_step: 65 \t, sample_time: 0.003 \tupdate_time: 0.006 \tlearn_time: 0.017 \tsum: 2412.567 \tsize: 116164                        \n",
      "Episode 1234\tTotal score (max over agents) this episode: 0.20000000298023224\n",
      "t_step: 50 \t, sample_time: 0.002 \tupdate_time: 0.005 \tlearn_time: 0.011 \tsum: 2418.235 \tsize: 116270                        "
     ]
    },
    {
     "name": "stderr",
     "output_type": "stream",
     "text": [
      "training loop:  82% |##################################        | ETA:   0:27:16\n"
     ]
    },
    {
     "name": "stdout",
     "output_type": "stream",
     "text": [
      "\n",
      "Episode 1235\tTotal score (max over agents) this episode: 0.10000000149011612\n",
      "t_step: 10 \t, sample_time: 0.005 \tupdate_time: 0.007 \tlearn_time: 0.047 \tsum: 2426.369 \tsize: 116293                        "
     ]
    },
    {
     "name": "stderr",
     "output_type": "stream",
     "text": [
      "training loop:  82% |##################################        | ETA:   0:27:09\n"
     ]
    },
    {
     "name": "stdout",
     "output_type": "stream",
     "text": [
      "t_step: 10 \t, sample_time: 0.002 \tupdate_time: 0.004 \tlearn_time: 0.023 \tsum: 2424.831 \tsize: 116294                        \n",
      "Episode 1236\tTotal score (max over agents) this episode: 0.0\n",
      "t_step: 25 \t, sample_time: 0.004 \tupdate_time: 0.007 \tlearn_time: 0.029 \tsum: 2438.541 \tsize: 116351                        "
     ]
    },
    {
     "name": "stderr",
     "output_type": "stream",
     "text": [
      "training loop:  82% |##################################        | ETA:   0:27:02\n"
     ]
    },
    {
     "name": "stdout",
     "output_type": "stream",
     "text": [
      "t_step: 25 \t, sample_time: 0.003 \tupdate_time: 0.005 \tlearn_time: 0.014 \tsum: 2432.058 \tsize: 116352                        \n",
      "Episode 1237\tTotal score (max over agents) this episode: 0.10000000149011612\n",
      "t_step: 65 \t, sample_time: 0.003 \tupdate_time: 0.008 \tlearn_time: 0.025 \tsum: 2422.245 \tsize: 116490                        "
     ]
    },
    {
     "name": "stderr",
     "output_type": "stream",
     "text": [
      "training loop:  82% |##################################        | ETA:   0:26:57\n"
     ]
    },
    {
     "name": "stdout",
     "output_type": "stream",
     "text": [
      "                        \n",
      "Episode 1238\tTotal score (max over agents) this episode: 0.20000000298023224\n",
      "t_step: 25 \t, sample_time: 0.003 \tupdate_time: 0.006 \tlearn_time: 0.026 \tsum: 2426.766 \tsize: 116547                        "
     ]
    },
    {
     "name": "stderr",
     "output_type": "stream",
     "text": [
      "training loop:  82% |##################################        | ETA:   0:26:50\n"
     ]
    },
    {
     "name": "stdout",
     "output_type": "stream",
     "text": [
      "t_step: 25 \t, sample_time: 0.004 \tupdate_time: 0.009 \tlearn_time: 0.049 \tsum: 2421.379 \tsize: 116548                        \n",
      "Episode 1239\tTotal score (max over agents) this episode: 0.10000000149011612\n",
      "t_step: 25 \t, sample_time: 0.003 \tupdate_time: 0.009 \tlearn_time: 0.022 \tsum: 2419.054 \tsize: 116605                        "
     ]
    },
    {
     "name": "stderr",
     "output_type": "stream",
     "text": [
      "training loop:  82% |##################################        | ETA:   0:26:44\n"
     ]
    },
    {
     "name": "stdout",
     "output_type": "stream",
     "text": [
      "t_step: 25 \t, sample_time: 0.003 \tupdate_time: 0.006 \tlearn_time: 0.020 \tsum: 2412.286 \tsize: 116606                        \n",
      "Episode 1240\tTotal score (max over agents) this episode: 0.10000000149011612\n",
      "t_step: 65 \t, sample_time: 0.002 \tupdate_time: 0.004 \tlearn_time: 0.047 \tsum: 2419.122 \tsize: 116745                        "
     ]
    },
    {
     "name": "stderr",
     "output_type": "stream",
     "text": [
      "training loop:  82% |##################################        | ETA:   0:26:38\n"
     ]
    },
    {
     "name": "stdout",
     "output_type": "stream",
     "text": [
      "t_step: 65 \t, sample_time: 0.005 \tupdate_time: 0.005 \tlearn_time: 0.013 \tsum: 2420.563 \tsize: 116746                        \n",
      "Episode 1241\tTotal score (max over agents) this episode: 0.20000000298023224\n",
      "t_step: 100 \t, sample_time: 0.002 \tupdate_time: 0.007 \tlearn_time: 0.015 \tsum: 2436.745 \tsize: 116953                        "
     ]
    },
    {
     "name": "stderr",
     "output_type": "stream",
     "text": [
      "training loop:  82% |##################################        | ETA:   0:26:34\n"
     ]
    },
    {
     "name": "stdout",
     "output_type": "stream",
     "text": [
      "t_step: 100 \t, sample_time: 0.003 \tupdate_time: 0.005 \tlearn_time: 0.014 \tsum: 2432.805 \tsize: 116954                        \n",
      "Episode 1242\tTotal score (max over agents) this episode: 0.20000000298023224\n",
      "t_step: 45 \t, sample_time: 0.004 \tupdate_time: 0.004 \tlearn_time: 0.023 \tsum: 2429.110 \tsize: 117050                        "
     ]
    },
    {
     "name": "stderr",
     "output_type": "stream",
     "text": [
      "training loop:  82% |##################################        | ETA:   0:26:28\n"
     ]
    },
    {
     "name": "stdout",
     "output_type": "stream",
     "text": [
      "t_step: 50 \t, sample_time: 0.002 \tupdate_time: 0.005 \tlearn_time: 0.011 \tsum: 2436.018 \tsize: 117060                        \n",
      "Episode 1243\tTotal score (max over agents) this episode: 0.10000000149011612\n",
      "t_step: 20 \t, sample_time: 0.003 \tupdate_time: 0.005 \tlearn_time: 0.038 \tsum: 2443.137 \tsize: 117101                        "
     ]
    },
    {
     "name": "stderr",
     "output_type": "stream",
     "text": [
      "training loop:  82% |##################################        | ETA:   0:26:21\n"
     ]
    },
    {
     "name": "stdout",
     "output_type": "stream",
     "text": [
      "t_step: 20 \t, sample_time: 0.002 \tupdate_time: 0.004 \tlearn_time: 0.016 \tsum: 2430.293 \tsize: 117102                        \n",
      "Episode 1244\tTotal score (max over agents) this episode: 0.0\n",
      "t_step: 390 \t, sample_time: 0.002 \tupdate_time: 0.006 \tlearn_time: 0.023 \tsum: 2423.404 \tsize: 117885                        "
     ]
    },
    {
     "name": "stderr",
     "output_type": "stream",
     "text": [
      "training loop:  83% |##################################        | ETA:   0:26:25\n"
     ]
    },
    {
     "name": "stdout",
     "output_type": "stream",
     "text": [
      "t_step: 390 \t, sample_time: 0.003 \tupdate_time: 0.004 \tlearn_time: 0.014 \tsum: 2418.680 \tsize: 117886                        \n",
      "Episode 1245\tTotal score (max over agents) this episode: 1.0000000149011612\n",
      "t_step: 100 \t, sample_time: 0.005 \tupdate_time: 0.005 \tlearn_time: 0.013 \tsum: 2433.069 \tsize: 118087                        "
     ]
    },
    {
     "name": "stderr",
     "output_type": "stream",
     "text": [
      "training loop:  83% |##################################        | ETA:   0:26:21\n"
     ]
    },
    {
     "name": "stdout",
     "output_type": "stream",
     "text": [
      "t_step: 100 \t, sample_time: 0.002 \tupdate_time: 0.006 \tlearn_time: 0.019 \tsum: 2428.287 \tsize: 118088                        \n",
      "Episode 1246\tTotal score (max over agents) this episode: 0.20000000298023224\n",
      "t_step: 25 \t, sample_time: 0.003 \tupdate_time: 0.004 \tlearn_time: 0.011 \tsum: 2429.405 \tsize: 118147                        "
     ]
    },
    {
     "name": "stderr",
     "output_type": "stream",
     "text": [
      "training loop:  83% |##################################        | ETA:   0:26:14\n"
     ]
    },
    {
     "name": "stdout",
     "output_type": "stream",
     "text": [
      "t_step: 25 \t, sample_time: 0.004 \tupdate_time: 0.004 \tlearn_time: 0.013 \tsum: 2425.920 \tsize: 118148                        \n",
      "Episode 1247\tTotal score (max over agents) this episode: 0.10000000149011612\n",
      "t_step: 65 \t, sample_time: 0.005 \tupdate_time: 0.007 \tlearn_time: 0.029 \tsum: 2438.489 \tsize: 118285                        "
     ]
    },
    {
     "name": "stderr",
     "output_type": "stream",
     "text": [
      "training loop:  83% |##################################        | ETA:   0:26:09\n"
     ]
    },
    {
     "name": "stdout",
     "output_type": "stream",
     "text": [
      "t_step: 65 \t, sample_time: 0.003 \tupdate_time: 0.008 \tlearn_time: 0.023 \tsum: 2439.406 \tsize: 118286                        \n",
      "Episode 1248\tTotal score (max over agents) this episode: 0.19000000320374966\n",
      "t_step: 100 \t, sample_time: 0.004 \tupdate_time: 0.006 \tlearn_time: 0.032 \tsum: 2451.266 \tsize: 118489                        "
     ]
    },
    {
     "name": "stderr",
     "output_type": "stream",
     "text": [
      "training loop:  83% |##################################        | ETA:   0:26:05\n"
     ]
    },
    {
     "name": "stdout",
     "output_type": "stream",
     "text": [
      "t_step: 100 \t, sample_time: 0.003 \tupdate_time: 0.004 \tlearn_time: 0.020 \tsum: 2441.640 \tsize: 118490                        \n",
      "Episode 1249\tTotal score (max over agents) this episode: 0.20000000298023224\n",
      "t_step: 100 \t, sample_time: 0.002 \tupdate_time: 0.005 \tlearn_time: 0.023 \tsum: 2446.466 \tsize: 118693                        "
     ]
    },
    {
     "name": "stderr",
     "output_type": "stream",
     "text": [
      "training loop:  83% |###################################       | ETA:   0:26:01\n"
     ]
    },
    {
     "name": "stdout",
     "output_type": "stream",
     "text": [
      "t_step: 100 \t, sample_time: 0.002 \tupdate_time: 0.006 \tlearn_time: 0.015 \tsum: 2439.527 \tsize: 118694                        \n",
      "Episode 1250\tTotal score (max over agents) this episode: 0.2900000046938658\n",
      "t_step: 105 \t, sample_time: 0.005 \tupdate_time: 0.006 \tlearn_time: 0.021 \tsum: 2438.098 \tsize: 118913                        "
     ]
    },
    {
     "name": "stderr",
     "output_type": "stream",
     "text": [
      "training loop:  83% |###################################       | ETA:   0:25:57\n"
     ]
    },
    {
     "name": "stdout",
     "output_type": "stream",
     "text": [
      "t_step: 105 \t, sample_time: 0.003 \tupdate_time: 0.010 \tlearn_time: 0.031 \tsum: 2433.215 \tsize: 118914                        \n",
      "Episode 1251\tTotal score (max over agents) this episode: 0.30000000447034836\n",
      "t_step: 330 \t, sample_time: 0.005 \tupdate_time: 0.005 \tlearn_time: 0.013 \tsum: 2464.482 \tsize: 119575                        "
     ]
    },
    {
     "name": "stderr",
     "output_type": "stream",
     "text": [
      "training loop:  83% |###################################       | ETA:   0:26:00\n"
     ]
    },
    {
     "name": "stdout",
     "output_type": "stream",
     "text": [
      "t_step: 330 \t, sample_time: 0.003 \tupdate_time: 0.005 \tlearn_time: 0.028 \tsum: 2456.987 \tsize: 119576                        \n",
      "Episode 1252\tTotal score (max over agents) this episode: 0.8900000136345625\n",
      "t_step: 25 \t, sample_time: 0.011 \tupdate_time: 0.010 \tlearn_time: 0.041 \tsum: 2463.407 \tsize: 119631                        "
     ]
    },
    {
     "name": "stderr",
     "output_type": "stream",
     "text": [
      "training loop:  83% |###################################       | ETA:   0:25:53\n"
     ]
    },
    {
     "name": "stdout",
     "output_type": "stream",
     "text": [
      "t_step: 25 \t, sample_time: 0.003 \tupdate_time: 0.004 \tlearn_time: 0.012 \tsum: 2452.475 \tsize: 119632                        \n",
      "Episode 1253\tTotal score (max over agents) this episode: 0.10000000149011612\n",
      "t_step: 10 \t, sample_time: 0.003 \tupdate_time: 0.007 \tlearn_time: 0.083 \tsum: 2454.766 \tsize: 119661                        "
     ]
    },
    {
     "name": "stderr",
     "output_type": "stream",
     "text": [
      "training loop:  83% |###################################       | ETA:   0:25:46\n"
     ]
    },
    {
     "name": "stdout",
     "output_type": "stream",
     "text": [
      "t_step: 10 \t, sample_time: 0.006 \tupdate_time: 0.012 \tlearn_time: 0.087 \tsum: 2448.194 \tsize: 119662                        \n",
      "Episode 1254\tTotal score (max over agents) this episode: 0.0\n",
      "t_step: 65 \t, sample_time: 0.005 \tupdate_time: 0.005 \tlearn_time: 0.014 \tsum: 2464.716 \tsize: 119799                        "
     ]
    },
    {
     "name": "stderr",
     "output_type": "stream",
     "text": [
      "training loop:  83% |###################################       | ETA:   0:25:41\n"
     ]
    },
    {
     "name": "stdout",
     "output_type": "stream",
     "text": [
      "t_step: 65 \t, sample_time: 0.003 \tupdate_time: 0.005 \tlearn_time: 0.015 \tsum: 2459.786 \tsize: 119800                        \n",
      "Episode 1255\tTotal score (max over agents) this episode: 0.20000000298023224\n",
      "t_step: 30 \t, sample_time: 0.004 \tupdate_time: 0.005 \tlearn_time: 0.027 \tsum: 2455.541 \tsize: 119865                        "
     ]
    },
    {
     "name": "stderr",
     "output_type": "stream",
     "text": [
      "training loop:  83% |###################################       | ETA:   0:25:34\n"
     ]
    },
    {
     "name": "stdout",
     "output_type": "stream",
     "text": [
      "t_step: 30 \t, sample_time: 0.010 \tupdate_time: 0.008 \tlearn_time: 0.054 \tsum: 2447.025 \tsize: 119866                        \n",
      "Episode 1256\tTotal score (max over agents) this episode: 0.10000000149011612\n",
      "t_step: 25 \t, sample_time: 0.003 \tupdate_time: 0.004 \tlearn_time: 0.010 \tsum: 2460.809 \tsize: 119917                        "
     ]
    },
    {
     "name": "stderr",
     "output_type": "stream",
     "text": [
      "training loop:  83% |###################################       | ETA:   0:25:28\n"
     ]
    },
    {
     "name": "stdout",
     "output_type": "stream",
     "text": [
      "t_step: 25 \t, sample_time: 0.005 \tupdate_time: 0.007 \tlearn_time: 0.017 \tsum: 2456.503 \tsize: 119918                        \n",
      "Episode 1257\tTotal score (max over agents) this episode: 0.10000000149011612\n",
      "t_step: 65 \t, sample_time: 0.002 \tupdate_time: 0.006 \tlearn_time: 0.038 \tsum: 2452.410 \tsize: 120055                        "
     ]
    },
    {
     "name": "stderr",
     "output_type": "stream",
     "text": [
      "training loop:  83% |###################################       | ETA:   0:25:22\n"
     ]
    },
    {
     "name": "stdout",
     "output_type": "stream",
     "text": [
      "t_step: 65 \t, sample_time: 0.002 \tupdate_time: 0.006 \tlearn_time: 0.017 \tsum: 2450.049 \tsize: 120056                        \n",
      "Episode 1258\tTotal score (max over agents) this episode: 0.20000000298023224\n",
      "t_step: 25 \t, sample_time: 0.003 \tupdate_time: 0.005 \tlearn_time: 0.015 \tsum: 2460.146 \tsize: 120113                        "
     ]
    },
    {
     "name": "stderr",
     "output_type": "stream",
     "text": [
      "training loop:  83% |###################################       | ETA:   0:25:16\n"
     ]
    },
    {
     "name": "stdout",
     "output_type": "stream",
     "text": [
      "t_step: 25 \t, sample_time: 0.004 \tupdate_time: 0.008 \tlearn_time: 0.039 \tsum: 2452.252 \tsize: 120114                        \n",
      "Episode 1259\tTotal score (max over agents) this episode: 0.10000000149011612\n",
      "t_step: 215 \t, sample_time: 0.004 \tupdate_time: 0.009 \tlearn_time: 0.032 \tsum: 2469.644 \tsize: 120553                        "
     ]
    },
    {
     "name": "stderr",
     "output_type": "stream",
     "text": [
      "training loop:  84% |###################################       | ETA:   0:25:14\n"
     ]
    },
    {
     "name": "stdout",
     "output_type": "stream",
     "text": [
      "t_step: 215 \t, sample_time: 0.005 \tupdate_time: 0.005 \tlearn_time: 0.017 \tsum: 2467.284 \tsize: 120554                        \n",
      "Episode 1260\tTotal score (max over agents) this episode: 0.5900000091642141\n",
      "t_step: 60 \t, sample_time: 0.003 \tupdate_time: 0.005 \tlearn_time: 0.073 \tsum: 2476.364 \tsize: 120679                        "
     ]
    },
    {
     "name": "stderr",
     "output_type": "stream",
     "text": [
      "training loop:  84% |###################################       | ETA:   0:25:08\n"
     ]
    },
    {
     "name": "stdout",
     "output_type": "stream",
     "text": [
      "t_step: 60 \t, sample_time: 0.003 \tupdate_time: 0.007 \tlearn_time: 0.024 \tsum: 2470.286 \tsize: 120680                        \n",
      "Episode 1261\tTotal score (max over agents) this episode: 0.19000000320374966\n",
      "t_step: 50 \t, sample_time: 0.002 \tupdate_time: 0.009 \tlearn_time: 0.017 \tsum: 2474.880 \tsize: 120789                        "
     ]
    },
    {
     "name": "stderr",
     "output_type": "stream",
     "text": [
      "training loop:  84% |###################################       | ETA:   0:25:01\n"
     ]
    },
    {
     "name": "stdout",
     "output_type": "stream",
     "text": [
      "t_step: 50 \t, sample_time: 0.003 \tupdate_time: 0.005 \tlearn_time: 0.016 \tsum: 2471.553 \tsize: 120790                        \n",
      "Episode 1262\tTotal score (max over agents) this episode: 0.10000000149011612\n",
      "t_step: 105 \t, sample_time: 0.004 \tupdate_time: 0.004 \tlearn_time: 0.020 \tsum: 2485.907 \tsize: 121003                        "
     ]
    },
    {
     "name": "stderr",
     "output_type": "stream",
     "text": [
      "training loop:  84% |###################################       | ETA:   0:24:57\n"
     ]
    },
    {
     "name": "stdout",
     "output_type": "stream",
     "text": [
      "t_step: 105 \t, sample_time: 0.003 \tupdate_time: 0.009 \tlearn_time: 0.018 \tsum: 2473.228 \tsize: 121004                        \n",
      "Episode 1263\tTotal score (max over agents) this episode: 0.30000000447034836\n",
      "t_step: 65 \t, sample_time: 0.002 \tupdate_time: 0.007 \tlearn_time: 0.057 \tsum: 2496.772 \tsize: 121135                        "
     ]
    },
    {
     "name": "stderr",
     "output_type": "stream",
     "text": [
      "training loop:  84% |###################################       | ETA:   0:24:51\n"
     ]
    },
    {
     "name": "stdout",
     "output_type": "stream",
     "text": [
      "t_step: 65 \t, sample_time: 0.004 \tupdate_time: 0.006 \tlearn_time: 0.018 \tsum: 2492.285 \tsize: 121136                        \n",
      "Episode 1264\tTotal score (max over agents) this episode: 0.20000000298023224\n",
      "t_step: 140 \t, sample_time: 0.003 \tupdate_time: 0.007 \tlearn_time: 0.016 \tsum: 2489.238 \tsize: 121419                        "
     ]
    },
    {
     "name": "stderr",
     "output_type": "stream",
     "text": [
      "training loop:  84% |###################################       | ETA:   0:24:47\n"
     ]
    },
    {
     "name": "stdout",
     "output_type": "stream",
     "text": [
      "t_step: 140 \t, sample_time: 0.003 \tupdate_time: 0.008 \tlearn_time: 0.026 \tsum: 2485.716 \tsize: 121420                        \n",
      "Episode 1265\tTotal score (max over agents) this episode: 0.4000000059604645\n",
      "t_step: 65 \t, sample_time: 0.002 \tupdate_time: 0.004 \tlearn_time: 0.012 \tsum: 2486.690 \tsize: 121559                        "
     ]
    },
    {
     "name": "stderr",
     "output_type": "stream",
     "text": [
      "training loop:  84% |###################################       | ETA:   0:24:41\n"
     ]
    },
    {
     "name": "stdout",
     "output_type": "stream",
     "text": [
      "t_step: 65 \t, sample_time: 0.006 \tupdate_time: 0.006 \tlearn_time: 0.043 \tsum: 2481.907 \tsize: 121560                        \n",
      "Episode 1266\tTotal score (max over agents) this episode: 0.20000000298023224\n",
      "t_step: 50 \t, sample_time: 0.004 \tupdate_time: 0.005 \tlearn_time: 0.014 \tsum: 2509.432 \tsize: 121665                        "
     ]
    },
    {
     "name": "stderr",
     "output_type": "stream",
     "text": [
      "training loop:  84% |###################################       | ETA:   0:24:35\n"
     ]
    },
    {
     "name": "stdout",
     "output_type": "stream",
     "text": [
      "t_step: 50 \t, sample_time: 0.004 \tupdate_time: 0.005 \tlearn_time: 0.019 \tsum: 2495.620 \tsize: 121666                        \n",
      "Episode 1267\tTotal score (max over agents) this episode: 0.10000000149011612\n",
      "t_step: 295 \t, sample_time: 0.003 \tupdate_time: 0.005 \tlearn_time: 0.018 \tsum: 2510.891 \tsize: 122259                        "
     ]
    },
    {
     "name": "stderr",
     "output_type": "stream",
     "text": [
      "training loop:  84% |###################################       | ETA:   0:24:35\n"
     ]
    },
    {
     "name": "stdout",
     "output_type": "stream",
     "text": [
      "t_step: 295 \t, sample_time: 0.004 \tupdate_time: 0.006 \tlearn_time: 0.018 \tsum: 2504.219 \tsize: 122260                        \n",
      "Episode 1268\tTotal score (max over agents) this episode: 0.800000011920929\n",
      "t_step: 180 \t, sample_time: 0.004 \tupdate_time: 0.004 \tlearn_time: 0.015 \tsum: 2503.467 \tsize: 122623                        "
     ]
    },
    {
     "name": "stderr",
     "output_type": "stream",
     "text": [
      "training loop:  84% |###################################       | ETA:   0:24:31\n"
     ]
    },
    {
     "name": "stdout",
     "output_type": "stream",
     "text": [
      "t_step: 180 \t, sample_time: 0.003 \tupdate_time: 0.007 \tlearn_time: 0.015 \tsum: 2497.950 \tsize: 122624                        \n",
      "Episode 1269\tTotal score (max over agents) this episode: 0.5000000074505806\n",
      "t_step: 85 \t, sample_time: 0.002 \tupdate_time: 0.004 \tlearn_time: 0.014 \tsum: 2495.348 \tsize: 122797                        "
     ]
    },
    {
     "name": "stderr",
     "output_type": "stream",
     "text": [
      "training loop:  84% |###################################       | ETA:   0:24:26\n"
     ]
    },
    {
     "name": "stdout",
     "output_type": "stream",
     "text": [
      "t_step: 85 \t, sample_time: 0.002 \tupdate_time: 0.005 \tlearn_time: 0.022 \tsum: 2492.349 \tsize: 122798                        \n",
      "Episode 1270\tTotal score (max over agents) this episode: 0.20000000298023224\n",
      "t_step: 175 \t, sample_time: 0.002 \tupdate_time: 0.007 \tlearn_time: 0.028 \tsum: 2516.298 \tsize: 123158                        "
     ]
    },
    {
     "name": "stderr",
     "output_type": "stream",
     "text": [
      "training loop:  84% |###################################       | ETA:   0:24:22\n"
     ]
    },
    {
     "name": "stdout",
     "output_type": "stream",
     "text": [
      "t_step: 180 \t, sample_time: 0.002 \tupdate_time: 0.013 \tlearn_time: 0.031 \tsum: 2514.795 \tsize: 123168                        \n",
      "Episode 1271\tTotal score (max over agents) this episode: 0.5000000074505806\n",
      "t_step: 430 \t, sample_time: 0.003 \tupdate_time: 0.004 \tlearn_time: 0.023 \tsum: 2545.035 \tsize: 124031                                                "
     ]
    },
    {
     "name": "stderr",
     "output_type": "stream",
     "text": [
      "training loop:  84% |###################################       | ETA:   0:24:25\n"
     ]
    },
    {
     "name": "stdout",
     "output_type": "stream",
     "text": [
      "t_step: 430 \t, sample_time: 0.003 \tupdate_time: 0.010 \tlearn_time: 0.037 \tsum: 2530.492 \tsize: 124032                        \n",
      "Episode 1272\tTotal score (max over agents) this episode: 1.1000000163912773\n",
      "t_step: 1000 \t, sample_time: 0.002 \tupdate_time: 0.005 \tlearn_time: 0.017 \tsum: 2564.320 \tsize: 126037                                                                       "
     ]
    },
    {
     "name": "stderr",
     "output_type": "stream",
     "text": [
      "training loop:  84% |###################################       | ETA:   0:24:41\n"
     ]
    },
    {
     "name": "stdout",
     "output_type": "stream",
     "text": [
      "t_step: 1000 \t, sample_time: 0.003 \tupdate_time: 0.004 \tlearn_time: 0.013 \tsum: 2561.493 \tsize: 126038                        \n",
      "Episode 1273\tTotal score (max over agents) this episode: 2.600000038743019\n",
      "t_step: 245 \t, sample_time: 0.002 \tupdate_time: 0.006 \tlearn_time: 0.027 \tsum: 2569.178 \tsize: 126530                        "
     ]
    },
    {
     "name": "stderr",
     "output_type": "stream",
     "text": [
      "training loop:  84% |###################################       | ETA:   0:24:39\n"
     ]
    },
    {
     "name": "stdout",
     "output_type": "stream",
     "text": [
      "t_step: 250 \t, sample_time: 0.002 \tupdate_time: 0.004 \tlearn_time: 0.010 \tsum: 2569.497 \tsize: 126540                        \n",
      "Episode 1274\tTotal score (max over agents) this episode: 0.6900000106543303\n",
      "t_step: 960 \t, sample_time: 0.003 \tupdate_time: 0.007 \tlearn_time: 0.016 \tsum: 2612.338 \tsize: 128461                        "
     ]
    },
    {
     "name": "stderr",
     "output_type": "stream",
     "text": [
      "training loop:  85% |###################################       | ETA:   0:24:54\n"
     ]
    },
    {
     "name": "stdout",
     "output_type": "stream",
     "text": [
      "t_step: 960 \t, sample_time: 0.003 \tupdate_time: 0.004 \tlearn_time: 0.011 \tsum: 2597.172 \tsize: 128462                        \n",
      "Episode 1275\tTotal score (max over agents) this episode: 2.500000037252903\n",
      "t_step: 1000 \t, sample_time: 0.002 \tupdate_time: 0.006 \tlearn_time: 0.095 \tsum: 2624.590 \tsize: 130469                        "
     ]
    },
    {
     "name": "stderr",
     "output_type": "stream",
     "text": [
      "training loop:  85% |###################################       | ETA:   0:25:12\n"
     ]
    },
    {
     "name": "stdout",
     "output_type": "stream",
     "text": [
      "t_step: 1000 \t, sample_time: 0.003 \tupdate_time: 0.005 \tlearn_time: 0.033 \tsum: 2624.375 \tsize: 130470                        \n",
      "Episode 1276\tTotal score (max over agents) this episode: 2.600000038743019\n",
      "t_step: 205 \t, sample_time: 0.003 \tupdate_time: 0.005 \tlearn_time: 0.036 \tsum: 2623.929 \tsize: 130881                        "
     ]
    },
    {
     "name": "stderr",
     "output_type": "stream",
     "text": [
      "training loop:  85% |###################################       | ETA:   0:25:09\n"
     ]
    },
    {
     "name": "stdout",
     "output_type": "stream",
     "text": [
      "t_step: 205 \t, sample_time: 0.003 \tupdate_time: 0.007 \tlearn_time: 0.020 \tsum: 2621.074 \tsize: 130882                        \n",
      "Episode 1277\tTotal score (max over agents) this episode: 0.6000000089406967\n",
      "t_step: 1000 \t, sample_time: 0.002 \tupdate_time: 0.012 \tlearn_time: 0.026 \tsum: 2662.352 \tsize: 132885                        "
     ]
    },
    {
     "name": "stderr",
     "output_type": "stream",
     "text": [
      "training loop:  85% |###################################       | ETA:   0:25:28\n"
     ]
    },
    {
     "name": "stdout",
     "output_type": "stream",
     "text": [
      "t_step: 1000 \t, sample_time: 0.003 \tupdate_time: 0.005 \tlearn_time: 0.018 \tsum: 2646.951 \tsize: 132886                        \n",
      "Episode 1278\tTotal score (max over agents) this episode: 2.600000038743019\n",
      "t_step: 465 \t, sample_time: 0.003 \tupdate_time: 0.005 \tlearn_time: 0.015 \tsum: 2700.739 \tsize: 133818                        "
     ]
    },
    {
     "name": "stderr",
     "output_type": "stream",
     "text": [
      "training loop:  85% |###################################       | ETA:   0:25:32\n"
     ]
    },
    {
     "name": "stdout",
     "output_type": "stream",
     "text": [
      "t_step: 470 \t, sample_time: 0.003 \tupdate_time: 0.007 \tlearn_time: 0.020 \tsum: 2692.797 \tsize: 133828                        \n",
      "Episode 1279\tTotal score (max over agents) this episode: 1.290000019595027\n",
      "t_step: 1000 \t, sample_time: 0.005 \tupdate_time: 0.005 \tlearn_time: 0.029 \tsum: 2712.802 \tsize: 135831                        "
     ]
    },
    {
     "name": "stderr",
     "output_type": "stream",
     "text": [
      "training loop:  85% |###################################       | ETA:   0:25:46\n"
     ]
    },
    {
     "name": "stdout",
     "output_type": "stream",
     "text": [
      "t_step: 1000 \t, sample_time: 0.002 \tupdate_time: 0.007 \tlearn_time: 0.016 \tsum: 2707.263 \tsize: 135832                        \n",
      "Episode 1280\tTotal score (max over agents) this episode: 2.600000038743019\n",
      "t_step: 35 \t, sample_time: 0.003 \tupdate_time: 0.006 \tlearn_time: 0.022 \tsum: 2706.910 \tsize: 135903                        "
     ]
    },
    {
     "name": "stderr",
     "output_type": "stream",
     "text": [
      "training loop:  85% |###################################       | ETA:   0:25:39\n"
     ]
    },
    {
     "name": "stdout",
     "output_type": "stream",
     "text": [
      "t_step: 35 \t, sample_time: 0.002 \tupdate_time: 0.006 \tlearn_time: 0.133 \tsum: 2700.156 \tsize: 135904                        \n",
      "Episode 1281\tTotal score (max over agents) this episode: 0.10000000149011612\n",
      "t_step: 25 \t, sample_time: 0.004 \tupdate_time: 0.005 \tlearn_time: 0.014 \tsum: 2708.287 \tsize: 135957                        "
     ]
    },
    {
     "name": "stderr",
     "output_type": "stream",
     "text": [
      "training loop:  85% |###################################       | ETA:   0:25:32\n"
     ]
    },
    {
     "name": "stdout",
     "output_type": "stream",
     "text": [
      "t_step: 25 \t, sample_time: 0.005 \tupdate_time: 0.003 \tlearn_time: 0.014 \tsum: 2698.224 \tsize: 135958                        \n",
      "Episode 1282\tTotal score (max over agents) this episode: 0.10000000149011612\n",
      "t_step: 315 \t, sample_time: 0.003 \tupdate_time: 0.006 \tlearn_time: 0.016 \tsum: 2726.147 \tsize: 136597                        "
     ]
    },
    {
     "name": "stderr",
     "output_type": "stream",
     "text": [
      "training loop:  85% |###################################       | ETA:   0:25:31\n"
     ]
    },
    {
     "name": "stdout",
     "output_type": "stream",
     "text": [
      "t_step: 315 \t, sample_time: 0.003 \tupdate_time: 0.006 \tlearn_time: 0.025 \tsum: 2723.889 \tsize: 136598                        \n",
      "Episode 1283\tTotal score (max over agents) this episode: 0.800000011920929\n",
      "t_step: 65 \t, sample_time: 0.002 \tupdate_time: 0.006 \tlearn_time: 0.030 \tsum: 2748.214 \tsize: 136733                        "
     ]
    },
    {
     "name": "stderr",
     "output_type": "stream",
     "text": [
      "training loop:  85% |###################################       | ETA:   0:25:25\n"
     ]
    },
    {
     "name": "stdout",
     "output_type": "stream",
     "text": [
      "t_step: 65 \t, sample_time: 0.002 \tupdate_time: 0.006 \tlearn_time: 0.029 \tsum: 2738.347 \tsize: 136734                        \n",
      "Episode 1284\tTotal score (max over agents) this episode: 0.20000000298023224\n",
      "t_step: 70 \t, sample_time: 0.004 \tupdate_time: 0.009 \tlearn_time: 0.083 \tsum: 2740.238 \tsize: 136881                        "
     ]
    },
    {
     "name": "stderr",
     "output_type": "stream",
     "text": [
      "training loop:  85% |###################################       | ETA:   0:25:19\n"
     ]
    },
    {
     "name": "stdout",
     "output_type": "stream",
     "text": [
      "t_step: 70 \t, sample_time: 0.005 \tupdate_time: 0.006 \tlearn_time: 0.022 \tsum: 2729.775 \tsize: 136882                        \n",
      "Episode 1285\tTotal score (max over agents) this episode: 0.20000000298023224\n",
      "t_step: 540 \t, sample_time: 0.004 \tupdate_time: 0.009 \tlearn_time: 0.018 \tsum: 2764.981 \tsize: 137965                        "
     ]
    },
    {
     "name": "stderr",
     "output_type": "stream",
     "text": [
      "training loop:  85% |####################################      | ETA:   0:25:24\n"
     ]
    },
    {
     "name": "stdout",
     "output_type": "stream",
     "text": [
      "t_step: 540 \t, sample_time: 0.002 \tupdate_time: 0.005 \tlearn_time: 0.015 \tsum: 2757.200 \tsize: 137966                        \n",
      "Episode 1286\tTotal score (max over agents) this episode: 1.4000000208616257\n",
      "t_step: 1000 \t, sample_time: 0.002 \tupdate_time: 0.007 \tlearn_time: 0.022 \tsum: 2795.987 \tsize: 139975                                               "
     ]
    },
    {
     "name": "stderr",
     "output_type": "stream",
     "text": [
      "training loop:  85% |####################################      | ETA:   0:25:38\n"
     ]
    },
    {
     "name": "stdout",
     "output_type": "stream",
     "text": [
      "t_step: 1000 \t, sample_time: 0.004 \tupdate_time: 0.004 \tlearn_time: 0.021 \tsum: 2788.956 \tsize: 139976                        \n",
      "Episode 1287\tTotal score (max over agents) this episode: 2.600000038743019\n",
      "t_step: 1000 \t, sample_time: 0.004 \tupdate_time: 0.006 \tlearn_time: 0.017 \tsum: 2843.787 \tsize: 141977                        "
     ]
    },
    {
     "name": "stderr",
     "output_type": "stream",
     "text": [
      "training loop:  85% |####################################      | ETA:   0:25:55\n"
     ]
    },
    {
     "name": "stdout",
     "output_type": "stream",
     "text": [
      "t_step: 1000 \t, sample_time: 0.003 \tupdate_time: 0.008 \tlearn_time: 0.015 \tsum: 2835.493 \tsize: 141978                        \n",
      "Episode 1288\tTotal score (max over agents) this episode: 2.7000000402331352\n",
      "\n",
      "Environment improved in 1288 episodes!\tAverage Score: 0.46\n",
      "t_step: 995 \t, sample_time: 0.003 \tupdate_time: 0.005 \tlearn_time: 0.013 \tsum: 2849.699 \tsize: 143970                        "
     ]
    },
    {
     "name": "stderr",
     "output_type": "stream",
     "text": [
      "training loop:  85% |####################################      | ETA:   0:26:12\n"
     ]
    },
    {
     "name": "stdout",
     "output_type": "stream",
     "text": [
      "t_step: 1000 \t, sample_time: 0.004 \tupdate_time: 0.006 \tlearn_time: 0.016 \tsum: 2844.222 \tsize: 143980                        \n",
      "Episode 1289\tTotal score (max over agents) this episode: 2.600000038743019\n",
      "t_step: 835 \t, sample_time: 0.003 \tupdate_time: 0.006 \tlearn_time: 0.021 \tsum: 2868.777 \tsize: 145651                        "
     ]
    },
    {
     "name": "stderr",
     "output_type": "stream",
     "text": [
      "training loop:  86% |####################################      | ETA:   0:26:21\n"
     ]
    },
    {
     "name": "stdout",
     "output_type": "stream",
     "text": [
      "t_step: 835 \t, sample_time: 0.002 \tupdate_time: 0.008 \tlearn_time: 0.016 \tsum: 2861.433 \tsize: 145652                        \n",
      "Episode 1290\tTotal score (max over agents) this episode: 2.2000000327825546\n",
      "training done\n",
      "t_step: 565 \t, sample_time: 0.004 \tupdate_time: 0.007 \tlearn_time: 0.142 \tsum: 2914.017 \tsize: 146787                        "
     ]
    },
    {
     "name": "stderr",
     "output_type": "stream",
     "text": [
      "training loop:  86% |####################################      | ETA:   0:26:25\n"
     ]
    },
    {
     "name": "stdout",
     "output_type": "stream",
     "text": [
      "t_step: 565 \t, sample_time: 0.003 \tupdate_time: 0.007 \tlearn_time: 0.068 \tsum: 2904.953 \tsize: 146788                        \n",
      "Episode 1291\tTotal score (max over agents) this episode: 1.5000000223517418\n",
      "training done\n",
      "t_step: 1000 \t, sample_time: 0.002 \tupdate_time: 0.004 \tlearn_time: 0.011 \tsum: 2929.952 \tsize: 148789                                               "
     ]
    },
    {
     "name": "stderr",
     "output_type": "stream",
     "text": [
      "training loop:  86% |####################################      | ETA:   0:26:37\n"
     ]
    },
    {
     "name": "stdout",
     "output_type": "stream",
     "text": [
      "t_step: 1000 \t, sample_time: 0.003 \tupdate_time: 0.004 \tlearn_time: 0.021 \tsum: 2927.033 \tsize: 148790                        \n",
      "Episode 1292\tTotal score (max over agents) this episode: 2.600000038743019\n",
      "training done\n",
      "t_step: 1000 \t, sample_time: 0.004 \tupdate_time: 0.004 \tlearn_time: 0.016 \tsum: 2968.743 \tsize: 150791                        "
     ]
    },
    {
     "name": "stderr",
     "output_type": "stream",
     "text": [
      "training loop:  86% |####################################      | ETA:   0:26:49\n"
     ]
    },
    {
     "name": "stdout",
     "output_type": "stream",
     "text": [
      "t_step: 1000 \t, sample_time: 0.002 \tupdate_time: 0.006 \tlearn_time: 0.033 \tsum: 2965.915 \tsize: 150792                        \n",
      "Episode 1293\tTotal score (max over agents) this episode: 2.7000000402331352\n",
      "training done\n",
      "t_step: 390 \t, sample_time: 0.003 \tupdate_time: 0.010 \tlearn_time: 0.026 \tsum: 2957.838 \tsize: 151573                        "
     ]
    },
    {
     "name": "stderr",
     "output_type": "stream",
     "text": [
      "training loop:  86% |####################################      | ETA:   0:26:48\n"
     ]
    },
    {
     "name": "stdout",
     "output_type": "stream",
     "text": [
      "t_step: 390 \t, sample_time: 0.002 \tupdate_time: 0.004 \tlearn_time: 0.032 \tsum: 2949.314 \tsize: 151574                        \n",
      "Episode 1294\tTotal score (max over agents) this episode: 1.0000000149011612\n",
      "training done\n",
      "t_step: 390 \t, sample_time: 0.003 \tupdate_time: 0.006 \tlearn_time: 0.015 \tsum: 2977.579 \tsize: 152357                        "
     ]
    },
    {
     "name": "stderr",
     "output_type": "stream",
     "text": [
      "training loop:  86% |####################################      | ETA:   0:26:47\n"
     ]
    },
    {
     "name": "stdout",
     "output_type": "stream",
     "text": [
      "t_step: 390 \t, sample_time: 0.003 \tupdate_time: 0.007 \tlearn_time: 0.023 \tsum: 2962.889 \tsize: 152358                        \n",
      "Episode 1295\tTotal score (max over agents) this episode: 1.0000000149011612\n",
      "training done\n",
      "t_step: 425 \t, sample_time: 0.002 \tupdate_time: 0.005 \tlearn_time: 0.013 \tsum: 2987.929 \tsize: 153213                        "
     ]
    },
    {
     "name": "stderr",
     "output_type": "stream",
     "text": [
      "training loop:  86% |####################################      | ETA:   0:26:47\n"
     ]
    },
    {
     "name": "stdout",
     "output_type": "stream",
     "text": [
      "t_step: 425 \t, sample_time: 0.003 \tupdate_time: 0.005 \tlearn_time: 0.025 \tsum: 2989.547 \tsize: 153214                        \n",
      "Episode 1296\tTotal score (max over agents) this episode: 1.1000000163912773\n",
      "training done\n",
      "t_step: 315 \t, sample_time: 0.003 \tupdate_time: 0.006 \tlearn_time: 0.014 \tsum: 3005.303 \tsize: 153847                                               "
     ]
    },
    {
     "name": "stderr",
     "output_type": "stream",
     "text": [
      "training loop:  86% |####################################      | ETA:   0:26:44\n"
     ]
    },
    {
     "name": "stdout",
     "output_type": "stream",
     "text": [
      "t_step: 315 \t, sample_time: 0.003 \tupdate_time: 0.008 \tlearn_time: 0.021 \tsum: 2998.755 \tsize: 153848                        \n",
      "Episode 1297\tTotal score (max over agents) this episode: 0.800000011920929\n",
      "training done\n",
      "t_step: 240 \t, sample_time: 0.003 \tupdate_time: 0.005 \tlearn_time: 0.017 \tsum: 3025.645 \tsize: 154333                        "
     ]
    },
    {
     "name": "stderr",
     "output_type": "stream",
     "text": [
      "training loop:  86% |####################################      | ETA:   0:26:40\n"
     ]
    },
    {
     "name": "stdout",
     "output_type": "stream",
     "text": [
      "t_step: 240 \t, sample_time: 0.002 \tupdate_time: 0.006 \tlearn_time: 0.039 \tsum: 3020.164 \tsize: 154334                        \n",
      "Episode 1298\tTotal score (max over agents) this episode: 0.6000000089406967\n",
      "training done\n",
      "t_step: 145 \t, sample_time: 0.004 \tupdate_time: 0.005 \tlearn_time: 0.027 \tsum: 3039.440 \tsize: 154627                        "
     ]
    },
    {
     "name": "stderr",
     "output_type": "stream",
     "text": [
      "training loop:  86% |####################################      | ETA:   0:26:34\n"
     ]
    },
    {
     "name": "stdout",
     "output_type": "stream",
     "text": [
      "t_step: 145 \t, sample_time: 0.003 \tupdate_time: 0.007 \tlearn_time: 0.017 \tsum: 3029.569 \tsize: 154628                        \n",
      "Episode 1299\tTotal score (max over agents) this episode: 0.4000000059604645\n",
      "training done\n",
      "t_step: 1000 \t, sample_time: 0.003 \tupdate_time: 0.005 \tlearn_time: 0.015 \tsum: 3056.843 \tsize: 156629                        "
     ]
    },
    {
     "name": "stderr",
     "output_type": "stream",
     "text": [
      "training loop:  86% |####################################      | ETA:   0:26:45\n"
     ]
    },
    {
     "name": "stdout",
     "output_type": "stream",
     "text": [
      "t_step: 1000 \t, sample_time: 0.005 \tupdate_time: 0.005 \tlearn_time: 0.037 \tsum: 3047.135 \tsize: 156630                        \n",
      "Episode 1300\tTotal score (max over agents) this episode: 2.600000038743019\n",
      "training done\n",
      "t_step: 355 \t, sample_time: 0.002 \tupdate_time: 0.006 \tlearn_time: 0.012 \tsum: 3075.258 \tsize: 157341                        "
     ]
    },
    {
     "name": "stderr",
     "output_type": "stream",
     "text": [
      "training loop:  86% |####################################      | ETA:   0:26:43\n"
     ]
    },
    {
     "name": "stdout",
     "output_type": "stream",
     "text": [
      "t_step: 355 \t, sample_time: 0.003 \tupdate_time: 0.005 \tlearn_time: 0.015 \tsum: 3070.844 \tsize: 157342                        \n",
      "Episode 1301\tTotal score (max over agents) this episode: 1.0000000149011612\n",
      "training done\n",
      "t_step: 715 \t, sample_time: 0.003 \tupdate_time: 0.004 \tlearn_time: 0.019 \tsum: 3107.767 \tsize: 158779                        "
     ]
    },
    {
     "name": "stderr",
     "output_type": "stream",
     "text": [
      "training loop:  86% |####################################      | ETA:   0:26:48\n"
     ]
    },
    {
     "name": "stdout",
     "output_type": "stream",
     "text": [
      "t_step: 715 \t, sample_time: 0.002 \tupdate_time: 0.005 \tlearn_time: 0.022 \tsum: 3098.141 \tsize: 158780                        \n",
      "Episode 1302\tTotal score (max over agents) this episode: 1.9000000283122063\n",
      "training done\n",
      "t_step: 1000 \t, sample_time: 0.003 \tupdate_time: 0.004 \tlearn_time: 0.013 \tsum: 3108.467 \tsize: 160787                        "
     ]
    },
    {
     "name": "stderr",
     "output_type": "stream",
     "text": [
      "training loop:  86% |####################################      | ETA:   0:26:59\n"
     ]
    },
    {
     "name": "stdout",
     "output_type": "stream",
     "text": [
      "t_step: 1000 \t, sample_time: 0.005 \tupdate_time: 0.009 \tlearn_time: 0.022 \tsum: 3103.469 \tsize: 160788                        \n",
      "Episode 1303\tTotal score (max over agents) this episode: 2.600000038743019\n",
      "training done\n",
      "t_step: 210 \t, sample_time: 0.002 \tupdate_time: 0.007 \tlearn_time: 0.015 \tsum: 3133.690 \tsize: 161209                        "
     ]
    },
    {
     "name": "stderr",
     "output_type": "stream",
     "text": [
      "training loop:  86% |####################################      | ETA:   0:26:53\n"
     ]
    },
    {
     "name": "stdout",
     "output_type": "stream",
     "text": [
      "t_step: 210 \t, sample_time: 0.003 \tupdate_time: 0.004 \tlearn_time: 0.033 \tsum: 3127.486 \tsize: 161210                        \n",
      "Episode 1304\tTotal score (max over agents) this episode: 0.6000000089406967\n",
      "training done\n",
      "t_step: 315 \t, sample_time: 0.003 \tupdate_time: 0.005 \tlearn_time: 0.015 \tsum: 3105.431 \tsize: 161843                        "
     ]
    },
    {
     "name": "stderr",
     "output_type": "stream",
     "text": [
      "training loop:  87% |####################################      | ETA:   0:26:50\n"
     ]
    },
    {
     "name": "stdout",
     "output_type": "stream",
     "text": [
      "t_step: 315 \t, sample_time: 0.002 \tupdate_time: 0.004 \tlearn_time: 0.012 \tsum: 3101.671 \tsize: 161844                        \n",
      "Episode 1305\tTotal score (max over agents) this episode: 0.800000011920929\n",
      "training done\n",
      "t_step: 25 \t, sample_time: 0.003 \tupdate_time: 0.006 \tlearn_time: 0.016 \tsum: 3113.302 \tsize: 161900                        "
     ]
    },
    {
     "name": "stderr",
     "output_type": "stream",
     "text": [
      "training loop:  87% |####################################      | ETA:   0:26:41\n"
     ]
    },
    {
     "name": "stdout",
     "output_type": "stream",
     "text": [
      "\n",
      "Episode 1306\tTotal score (max over agents) this episode: 0.10000000149011612\n",
      "training done\n",
      "t_step: 165 \t, sample_time: 0.003 \tupdate_time: 0.006 \tlearn_time: 0.023 \tsum: 3121.890 \tsize: 162239                        "
     ]
    },
    {
     "name": "stderr",
     "output_type": "stream",
     "text": [
      "training loop:  87% |####################################      | ETA:   0:26:35\n"
     ]
    },
    {
     "name": "stdout",
     "output_type": "stream",
     "text": [
      "t_step: 165 \t, sample_time: 0.004 \tupdate_time: 0.007 \tlearn_time: 0.018 \tsum: 3116.176 \tsize: 162240                        \n",
      "Episode 1307\tTotal score (max over agents) this episode: 0.4000000059604645\n",
      "training done\n",
      "t_step: 30 \t, sample_time: 0.002 \tupdate_time: 0.004 \tlearn_time: 0.018 \tsum: 3128.411 \tsize: 162301                        "
     ]
    },
    {
     "name": "stderr",
     "output_type": "stream",
     "text": [
      "training loop:  87% |####################################      | ETA:   0:26:27\n"
     ]
    },
    {
     "name": "stdout",
     "output_type": "stream",
     "text": [
      "t_step: 30 \t, sample_time: 0.003 \tupdate_time: 0.008 \tlearn_time: 0.034 \tsum: 3122.604 \tsize: 162302                        \n",
      "Episode 1308\tTotal score (max over agents) this episode: 0.10000000149011612\n",
      "training done\n",
      "t_step: 600 \t, sample_time: 0.002 \tupdate_time: 0.009 \tlearn_time: 0.017 \tsum: 3141.538 \tsize: 163503                                                "
     ]
    },
    {
     "name": "stderr",
     "output_type": "stream",
     "text": [
      "training loop:  87% |####################################      | ETA:   0:26:28\n"
     ]
    },
    {
     "name": "stdout",
     "output_type": "stream",
     "text": [
      "t_step: 600 \t, sample_time: 0.002 \tupdate_time: 0.005 \tlearn_time: 0.017 \tsum: 3135.528 \tsize: 163504                        \n",
      "Episode 1309\tTotal score (max over agents) this episode: 1.600000023841858\n",
      "training done\n",
      "t_step: 145 \t, sample_time: 0.002 \tupdate_time: 0.004 \tlearn_time: 0.012 \tsum: 3173.686 \tsize: 163799                        "
     ]
    },
    {
     "name": "stderr",
     "output_type": "stream",
     "text": [
      "training loop:  87% |####################################      | ETA:   0:26:22\n"
     ]
    },
    {
     "name": "stdout",
     "output_type": "stream",
     "text": [
      "t_step: 145 \t, sample_time: 0.003 \tupdate_time: 0.005 \tlearn_time: 0.013 \tsum: 3168.064 \tsize: 163800                        \n",
      "Episode 1310\tTotal score (max over agents) this episode: 0.4000000059604645\n",
      "training done\n",
      "t_step: 50 \t, sample_time: 0.004 \tupdate_time: 0.005 \tlearn_time: 0.038 \tsum: 3158.953 \tsize: 163907                        "
     ]
    },
    {
     "name": "stderr",
     "output_type": "stream",
     "text": [
      "training loop:  87% |####################################      | ETA:   0:26:13\n"
     ]
    },
    {
     "name": "stdout",
     "output_type": "stream",
     "text": [
      "t_step: 50 \t, sample_time: 0.002 \tupdate_time: 0.005 \tlearn_time: 0.012 \tsum: 3150.491 \tsize: 163908                        \n",
      "Episode 1311\tTotal score (max over agents) this episode: 0.10000000149011612\n",
      "training done\n",
      "t_step: 25 \t, sample_time: 0.004 \tupdate_time: 0.005 \tlearn_time: 0.012 \tsum: 3159.523 \tsize: 163961                        "
     ]
    },
    {
     "name": "stderr",
     "output_type": "stream",
     "text": [
      "training loop:  87% |####################################      | ETA:   0:26:05\n"
     ]
    },
    {
     "name": "stdout",
     "output_type": "stream",
     "text": [
      "t_step: 25 \t, sample_time: 0.003 \tupdate_time: 0.004 \tlearn_time: 0.014 \tsum: 3143.177 \tsize: 163962                        \n",
      "Episode 1312\tTotal score (max over agents) this episode: 0.09000000171363354\n",
      "training done\n",
      "t_step: 180 \t, sample_time: 0.006 \tupdate_time: 0.006 \tlearn_time: 0.041 \tsum: 3174.916 \tsize: 164331                                               "
     ]
    },
    {
     "name": "stderr",
     "output_type": "stream",
     "text": [
      "training loop:  87% |####################################      | ETA:   0:25:59\n"
     ]
    },
    {
     "name": "stdout",
     "output_type": "stream",
     "text": [
      "t_step: 180 \t, sample_time: 0.003 \tupdate_time: 0.008 \tlearn_time: 0.018 \tsum: 3169.813 \tsize: 164332                        \n",
      "Episode 1313\tTotal score (max over agents) this episode: 0.4000000059604645\n",
      "training done\n",
      "t_step: 45 \t, sample_time: 0.004 \tupdate_time: 0.005 \tlearn_time: 0.025 \tsum: 3182.674 \tsize: 164431                        "
     ]
    },
    {
     "name": "stderr",
     "output_type": "stream",
     "text": [
      "training loop:  87% |####################################      | ETA:   0:25:50\n"
     ]
    },
    {
     "name": "stdout",
     "output_type": "stream",
     "text": [
      "t_step: 45 \t, sample_time: 0.003 \tupdate_time: 0.007 \tlearn_time: 0.035 \tsum: 3178.297 \tsize: 164432                        \n",
      "Episode 1314\tTotal score (max over agents) this episode: 0.10000000149011612\n",
      "training done\n",
      "t_step: 30 \t, sample_time: 0.004 \tupdate_time: 0.007 \tlearn_time: 0.015 \tsum: 3169.691 \tsize: 164501                        "
     ]
    },
    {
     "name": "stderr",
     "output_type": "stream",
     "text": [
      "training loop:  87% |####################################      | ETA:   0:25:41\n"
     ]
    },
    {
     "name": "stdout",
     "output_type": "stream",
     "text": [
      "t_step: 30 \t, sample_time: 0.003 \tupdate_time: 0.005 \tlearn_time: 0.018 \tsum: 3163.087 \tsize: 164502                        \n",
      "Episode 1315\tTotal score (max over agents) this episode: 0.10000000149011612\n",
      "training done\n",
      "t_step: 30 \t, sample_time: 0.005 \tupdate_time: 0.006 \tlearn_time: 0.019 \tsum: 3177.621 \tsize: 164565                        "
     ]
    },
    {
     "name": "stderr",
     "output_type": "stream",
     "text": [
      "training loop:  87% |####################################      | ETA:   0:25:33\n"
     ]
    },
    {
     "name": "stdout",
     "output_type": "stream",
     "text": [
      "t_step: 30 \t, sample_time: 0.002 \tupdate_time: 0.006 \tlearn_time: 0.016 \tsum: 3171.518 \tsize: 164566                        \n",
      "Episode 1316\tTotal score (max over agents) this episode: 0.10000000149011612\n",
      "training done\n",
      "t_step: 485 \t, sample_time: 0.002 \tupdate_time: 0.006 \tlearn_time: 0.014 \tsum: 3206.242 \tsize: 165537                        "
     ]
    },
    {
     "name": "stderr",
     "output_type": "stream",
     "text": [
      "training loop:  87% |####################################      | ETA:   0:25:34\n"
     ]
    },
    {
     "name": "stdout",
     "output_type": "stream",
     "text": [
      "t_step: 485 \t, sample_time: 0.003 \tupdate_time: 0.005 \tlearn_time: 0.016 \tsum: 3206.197 \tsize: 165538                        \n",
      "Episode 1317\tTotal score (max over agents) this episode: 1.3000000193715096\n",
      "training done\n",
      "t_step: 25 \t, sample_time: 0.002 \tupdate_time: 0.005 \tlearn_time: 0.018 \tsum: 3226.198 \tsize: 165595                        "
     ]
    },
    {
     "name": "stderr",
     "output_type": "stream",
     "text": [
      "training loop:  87% |####################################      | ETA:   0:25:25\n"
     ]
    },
    {
     "name": "stdout",
     "output_type": "stream",
     "text": [
      "t_step: 25 \t, sample_time: 0.004 \tupdate_time: 0.007 \tlearn_time: 0.031 \tsum: 3211.540 \tsize: 165596                        \n",
      "Episode 1318\tTotal score (max over agents) this episode: 0.10000000149011612\n",
      "training done\n",
      "t_step: 25 \t, sample_time: 0.002 \tupdate_time: 0.007 \tlearn_time: 0.015 \tsum: 3209.516 \tsize: 165655                        "
     ]
    },
    {
     "name": "stderr",
     "output_type": "stream",
     "text": [
      "training loop:  87% |####################################      | ETA:   0:25:16\n"
     ]
    },
    {
     "name": "stdout",
     "output_type": "stream",
     "text": [
      "t_step: 25 \t, sample_time: 0.004 \tupdate_time: 0.006 \tlearn_time: 0.018 \tsum: 3195.770 \tsize: 165656                        \n",
      "Episode 1319\tTotal score (max over agents) this episode: 0.10000000149011612\n",
      "training done\n",
      "t_step: 315 \t, sample_time: 0.003 \tupdate_time: 0.004 \tlearn_time: 0.030 \tsum: 3233.517 \tsize: 166295                        "
     ]
    },
    {
     "name": "stderr",
     "output_type": "stream",
     "text": [
      "training loop:  88% |####################################      | ETA:   0:25:13\n"
     ]
    },
    {
     "name": "stdout",
     "output_type": "stream",
     "text": [
      "t_step: 315 \t, sample_time: 0.004 \tupdate_time: 0.005 \tlearn_time: 0.015 \tsum: 3225.896 \tsize: 166296                        \n",
      "Episode 1320\tTotal score (max over agents) this episode: 0.800000011920929\n",
      "training done\n",
      "t_step: 215 \t, sample_time: 0.002 \tupdate_time: 0.006 \tlearn_time: 0.021 \tsum: 3226.742 \tsize: 166729                        "
     ]
    },
    {
     "name": "stderr",
     "output_type": "stream",
     "text": [
      "training loop:  88% |####################################      | ETA:   0:25:08\n"
     ]
    },
    {
     "name": "stdout",
     "output_type": "stream",
     "text": [
      "t_step: 215 \t, sample_time: 0.004 \tupdate_time: 0.004 \tlearn_time: 0.029 \tsum: 3222.517 \tsize: 166730                        \n",
      "Episode 1321\tTotal score (max over agents) this episode: 0.5000000074505806\n",
      "training done\n",
      "t_step: 30 \t, sample_time: 0.004 \tupdate_time: 0.007 \tlearn_time: 0.019 \tsum: 3223.423 \tsize: 166799                        "
     ]
    },
    {
     "name": "stderr",
     "output_type": "stream",
     "text": [
      "training loop:  88% |#####################################     | ETA:   0:24:59\n"
     ]
    },
    {
     "name": "stdout",
     "output_type": "stream",
     "text": [
      "t_step: 30 \t, sample_time: 0.003 \tupdate_time: 0.007 \tlearn_time: 0.028 \tsum: 3223.020 \tsize: 166800                        \n",
      "Episode 1322\tTotal score (max over agents) this episode: 0.09000000171363354\n",
      "training done\n",
      "t_step: 25 \t, sample_time: 0.002 \tupdate_time: 0.010 \tlearn_time: 0.033 \tsum: 3235.331 \tsize: 166851                        "
     ]
    },
    {
     "name": "stderr",
     "output_type": "stream",
     "text": [
      "training loop:  88% |#####################################     | ETA:   0:24:50\n"
     ]
    },
    {
     "name": "stdout",
     "output_type": "stream",
     "text": [
      "t_step: 25 \t, sample_time: 0.004 \tupdate_time: 0.008 \tlearn_time: 0.033 \tsum: 3228.378 \tsize: 166852                        \n",
      "Episode 1323\tTotal score (max over agents) this episode: 0.10000000149011612\n",
      "training done\n",
      "t_step: 105 \t, sample_time: 0.004 \tupdate_time: 0.007 \tlearn_time: 0.018 \tsum: 3220.079 \tsize: 167071                        "
     ]
    },
    {
     "name": "stderr",
     "output_type": "stream",
     "text": [
      "training loop:  88% |#####################################     | ETA:   0:24:44\n"
     ]
    },
    {
     "name": "stdout",
     "output_type": "stream",
     "text": [
      "t_step: 105 \t, sample_time: 0.005 \tupdate_time: 0.011 \tlearn_time: 0.050 \tsum: 3213.810 \tsize: 167072                        \n",
      "Episode 1324\tTotal score (max over agents) this episode: 0.30000000447034836\n",
      "training done\n",
      "t_step: 490 \t, sample_time: 0.002 \tupdate_time: 0.006 \tlearn_time: 0.030 \tsum: 3237.845 \tsize: 168059                        "
     ]
    },
    {
     "name": "stderr",
     "output_type": "stream",
     "text": [
      "training loop:  88% |#####################################     | ETA:   0:24:45\n"
     ]
    },
    {
     "name": "stdout",
     "output_type": "stream",
     "text": [
      "t_step: 490 \t, sample_time: 0.002 \tupdate_time: 0.006 \tlearn_time: 0.013 \tsum: 3234.146 \tsize: 168060                        \n",
      "Episode 1325\tTotal score (max over agents) this episode: 1.3000000193715096\n",
      "training done\n",
      "t_step: 65 \t, sample_time: 0.005 \tupdate_time: 0.009 \tlearn_time: 0.190 \tsum: 3224.866 \tsize: 168191                        "
     ]
    },
    {
     "name": "stderr",
     "output_type": "stream",
     "text": [
      "training loop:  88% |#####################################     | ETA:   0:24:36\n"
     ]
    },
    {
     "name": "stdout",
     "output_type": "stream",
     "text": [
      "t_step: 65 \t, sample_time: 0.003 \tupdate_time: 0.007 \tlearn_time: 0.019 \tsum: 3220.245 \tsize: 168192                        \n",
      "Episode 1326\tTotal score (max over agents) this episode: 0.20000000298023224\n",
      "training done\n",
      "t_step: 695 \t, sample_time: 0.004 \tupdate_time: 0.006 \tlearn_time: 0.068 \tsum: 3261.679 \tsize: 169589                                                "
     ]
    },
    {
     "name": "stderr",
     "output_type": "stream",
     "text": [
      "training loop:  88% |#####################################     | ETA:   0:24:39\n"
     ]
    },
    {
     "name": "stdout",
     "output_type": "stream",
     "text": [
      "t_step: 695 \t, sample_time: 0.003 \tupdate_time: 0.005 \tlearn_time: 0.014 \tsum: 3254.002 \tsize: 169590                        \n",
      "Episode 1327\tTotal score (max over agents) this episode: 1.8000000268220901\n",
      "training done\n",
      "t_step: 295 \t, sample_time: 0.003 \tupdate_time: 0.005 \tlearn_time: 0.022 \tsum: 3285.851 \tsize: 170185                        "
     ]
    },
    {
     "name": "stderr",
     "output_type": "stream",
     "text": [
      "training loop:  88% |#####################################     | ETA:   0:24:34\n"
     ]
    },
    {
     "name": "stdout",
     "output_type": "stream",
     "text": [
      "t_step: 295 \t, sample_time: 0.002 \tupdate_time: 0.005 \tlearn_time: 0.011 \tsum: 3279.469 \tsize: 170186                        \n",
      "Episode 1328\tTotal score (max over agents) this episode: 0.800000011920929\n",
      "training done\n",
      "t_step: 1000 \t, sample_time: 0.002 \tupdate_time: 0.006 \tlearn_time: 0.014 \tsum: 3327.624 \tsize: 172187                        "
     ]
    },
    {
     "name": "stderr",
     "output_type": "stream",
     "text": [
      "training loop:  88% |#####################################     | ETA:   0:24:42\n"
     ]
    },
    {
     "name": "stdout",
     "output_type": "stream",
     "text": [
      "t_step: 1000 \t, sample_time: 0.004 \tupdate_time: 0.006 \tlearn_time: 0.027 \tsum: 3323.271 \tsize: 172188                        \n",
      "Episode 1329\tTotal score (max over agents) this episode: 2.600000038743019\n",
      "training done\n",
      "t_step: 260 \t, sample_time: 0.003 \tupdate_time: 0.007 \tlearn_time: 0.085 \tsum: 3322.130 \tsize: 172709                        "
     ]
    },
    {
     "name": "stderr",
     "output_type": "stream",
     "text": [
      "training loop:  88% |#####################################     | ETA:   0:24:38\n"
     ]
    },
    {
     "name": "stdout",
     "output_type": "stream",
     "text": [
      "t_step: 260 \t, sample_time: 0.002 \tupdate_time: 0.005 \tlearn_time: 0.027 \tsum: 3320.257 \tsize: 172710                        \n",
      "Episode 1330\tTotal score (max over agents) this episode: 0.7000000104308128\n",
      "training done\n",
      "t_step: 140 \t, sample_time: 0.004 \tupdate_time: 0.008 \tlearn_time: 0.034 \tsum: 3321.021 \tsize: 172993                        "
     ]
    },
    {
     "name": "stderr",
     "output_type": "stream",
     "text": [
      "training loop:  88% |#####################################     | ETA:   0:24:31\n"
     ]
    },
    {
     "name": "stdout",
     "output_type": "stream",
     "text": [
      "t_step: 140 \t, sample_time: 0.004 \tupdate_time: 0.014 \tlearn_time: 0.056 \tsum: 3315.656 \tsize: 172994                        \n",
      "Episode 1331\tTotal score (max over agents) this episode: 0.4000000059604645\n",
      "training done\n",
      "t_step: 205 \t, sample_time: 0.002 \tupdate_time: 0.005 \tlearn_time: 0.029 \tsum: 3347.001 \tsize: 173411                        "
     ]
    },
    {
     "name": "stderr",
     "output_type": "stream",
     "text": [
      "training loop:  88% |#####################################     | ETA:   0:24:25\n"
     ]
    },
    {
     "name": "stdout",
     "output_type": "stream",
     "text": [
      "t_step: 205 \t, sample_time: 0.004 \tupdate_time: 0.007 \tlearn_time: 0.028 \tsum: 3340.187 \tsize: 173412                        \n",
      "Episode 1332\tTotal score (max over agents) this episode: 0.5000000074505806\n",
      "training done\n",
      "t_step: 25 \t, sample_time: 0.004 \tupdate_time: 0.008 \tlearn_time: 0.025 \tsum: 3338.337 \tsize: 173467                        "
     ]
    },
    {
     "name": "stderr",
     "output_type": "stream",
     "text": [
      "training loop:  88% |#####################################     | ETA:   0:24:16\n"
     ]
    },
    {
     "name": "stdout",
     "output_type": "stream",
     "text": [
      "t_step: 25 \t, sample_time: 0.004 \tupdate_time: 0.007 \tlearn_time: 0.019 \tsum: 3323.708 \tsize: 173468                        \n",
      "Episode 1333\tTotal score (max over agents) this episode: 0.10000000149011612\n",
      "training done\n",
      "t_step: 175 \t, sample_time: 0.003 \tupdate_time: 0.004 \tlearn_time: 0.013 \tsum: 3353.863 \tsize: 173825                        "
     ]
    },
    {
     "name": "stderr",
     "output_type": "stream",
     "text": [
      "training loop:  88% |#####################################     | ETA:   0:24:10\n"
     ]
    },
    {
     "name": "stdout",
     "output_type": "stream",
     "text": [
      "t_step: 175 \t, sample_time: 0.004 \tupdate_time: 0.008 \tlearn_time: 0.055 \tsum: 3352.856 \tsize: 173826                        \n",
      "Episode 1334\tTotal score (max over agents) this episode: 0.5000000074505806\n",
      "training done\n",
      "t_step: 290 \t, sample_time: 0.003 \tupdate_time: 0.006 \tlearn_time: 0.015 \tsum: 3363.892 \tsize: 174410                        "
     ]
    },
    {
     "name": "stderr",
     "output_type": "stream",
     "text": [
      "training loop:  89% |#####################################     | ETA:   0:24:06\n"
     ]
    },
    {
     "name": "stdout",
     "output_type": "stream",
     "text": [
      "t_step: 295 \t, sample_time: 0.002 \tupdate_time: 0.005 \tlearn_time: 0.013 \tsum: 3363.476 \tsize: 174420                        \n",
      "Episode 1335\tTotal score (max over agents) this episode: 0.7900000121444464\n",
      "training done\n",
      "t_step: 25 \t, sample_time: 0.016 \tupdate_time: 0.008 \tlearn_time: 0.029 \tsum: 3384.307 \tsize: 174471                        "
     ]
    },
    {
     "name": "stderr",
     "output_type": "stream",
     "text": [
      "training loop:  89% |#####################################     | ETA:   0:23:57\n"
     ]
    },
    {
     "name": "stdout",
     "output_type": "stream",
     "text": [
      "t_step: 25 \t, sample_time: 0.004 \tupdate_time: 0.006 \tlearn_time: 0.029 \tsum: 3375.417 \tsize: 174472                        \n",
      "Episode 1336\tTotal score (max over agents) this episode: 0.10000000149011612\n",
      "training done\n",
      "t_step: 30 \t, sample_time: 0.002 \tupdate_time: 0.007 \tlearn_time: 0.016 \tsum: 3386.048 \tsize: 174541                        "
     ]
    },
    {
     "name": "stderr",
     "output_type": "stream",
     "text": [
      "training loop:  89% |#####################################     | ETA:   0:23:48\n"
     ]
    },
    {
     "name": "stdout",
     "output_type": "stream",
     "text": [
      "t_step: 30 \t, sample_time: 0.003 \tupdate_time: 0.008 \tlearn_time: 0.048 \tsum: 3382.225 \tsize: 174542                        \n",
      "Episode 1337\tTotal score (max over agents) this episode: 0.10000000149011612\n",
      "training done\n",
      "t_step: 65 \t, sample_time: 0.005 \tupdate_time: 0.004 \tlearn_time: 0.013 \tsum: 3385.013 \tsize: 174673                        "
     ]
    },
    {
     "name": "stderr",
     "output_type": "stream",
     "text": [
      "training loop:  89% |#####################################     | ETA:   0:23:39\n"
     ]
    },
    {
     "name": "stdout",
     "output_type": "stream",
     "text": [
      "t_step: 65 \t, sample_time: 0.002 \tupdate_time: 0.005 \tlearn_time: 0.016 \tsum: 3376.586 \tsize: 174674                        \n",
      "Episode 1338\tTotal score (max over agents) this episode: 0.20000000298023224\n",
      "training done\n",
      "t_step: 105 \t, sample_time: 0.003 \tupdate_time: 0.006 \tlearn_time: 0.026 \tsum: 3378.848 \tsize: 174889                        "
     ]
    },
    {
     "name": "stderr",
     "output_type": "stream",
     "text": [
      "training loop:  89% |#####################################     | ETA:   0:23:31\n"
     ]
    },
    {
     "name": "stdout",
     "output_type": "stream",
     "text": [
      "t_step: 105 \t, sample_time: 0.003 \tupdate_time: 0.008 \tlearn_time: 0.017 \tsum: 3366.489 \tsize: 174890                        \n",
      "Episode 1339\tTotal score (max over agents) this episode: 0.30000000447034836\n",
      "training done\n",
      "t_step: 45 \t, sample_time: 0.002 \tupdate_time: 0.005 \tlearn_time: 0.112 \tsum: 3384.575 \tsize: 174985                        "
     ]
    },
    {
     "name": "stderr",
     "output_type": "stream",
     "text": [
      "training loop:  89% |#####################################     | ETA:   0:23:22\n"
     ]
    },
    {
     "name": "stdout",
     "output_type": "stream",
     "text": [
      "t_step: 45 \t, sample_time: 0.002 \tupdate_time: 0.008 \tlearn_time: 0.031 \tsum: 3370.249 \tsize: 174986                        \n",
      "Episode 1340\tTotal score (max over agents) this episode: 0.10000000149011612\n",
      "training done\n",
      "t_step: 10 \t, sample_time: 0.004 \tupdate_time: 0.008 \tlearn_time: 0.082 \tsum: 3386.722 \tsize: 175015                        "
     ]
    },
    {
     "name": "stderr",
     "output_type": "stream",
     "text": [
      "training loop:  89% |#####################################     | ETA:   0:23:13\n"
     ]
    },
    {
     "name": "stdout",
     "output_type": "stream",
     "text": [
      "t_step: 10 \t, sample_time: 0.004 \tupdate_time: 0.006 \tlearn_time: 0.017 \tsum: 3376.256 \tsize: 175016                        \n",
      "Episode 1341\tTotal score (max over agents) this episode: 0.0\n",
      "training done\n",
      "t_step: 200 \t, sample_time: 0.002 \tupdate_time: 0.004 \tlearn_time: 0.028 \tsum: 3378.456 \tsize: 175423                        "
     ]
    },
    {
     "name": "stderr",
     "output_type": "stream",
     "text": [
      "training loop:  89% |#####################################     | ETA:   0:23:06\n"
     ]
    },
    {
     "name": "stdout",
     "output_type": "stream",
     "text": [
      "t_step: 200 \t, sample_time: 0.003 \tupdate_time: 0.010 \tlearn_time: 0.017 \tsum: 3370.383 \tsize: 175424                        \n",
      "Episode 1342\tTotal score (max over agents) this episode: 0.5000000074505806\n",
      "training done\n",
      "t_step: 25 \t, sample_time: 0.005 \tupdate_time: 0.010 \tlearn_time: 0.058 \tsum: 3374.070 \tsize: 175481                        "
     ]
    },
    {
     "name": "stderr",
     "output_type": "stream",
     "text": [
      "training loop:  89% |#####################################     | ETA:   0:22:57\n"
     ]
    },
    {
     "name": "stdout",
     "output_type": "stream",
     "text": [
      "t_step: 25 \t, sample_time: 0.003 \tupdate_time: 0.006 \tlearn_time: 0.014 \tsum: 3367.924 \tsize: 175482                        \n",
      "Episode 1343\tTotal score (max over agents) this episode: 0.10000000149011612\n",
      "training done\n",
      "t_step: 50 \t, sample_time: 0.003 \tupdate_time: 0.009 \tlearn_time: 0.020 \tsum: 3384.107 \tsize: 175591                        "
     ]
    },
    {
     "name": "stderr",
     "output_type": "stream",
     "text": [
      "training loop:  89% |#####################################     | ETA:   0:22:48\n"
     ]
    },
    {
     "name": "stdout",
     "output_type": "stream",
     "text": [
      "t_step: 50 \t, sample_time: 0.004 \tupdate_time: 0.005 \tlearn_time: 0.012 \tsum: 3380.139 \tsize: 175592                        \n",
      "Episode 1344\tTotal score (max over agents) this episode: 0.10000000149011612\n",
      "training done\n",
      "t_step: 355 \t, sample_time: 0.003 \tupdate_time: 0.006 \tlearn_time: 0.015 \tsum: 3377.937 \tsize: 176303                        "
     ]
    },
    {
     "name": "stderr",
     "output_type": "stream",
     "text": [
      "training loop:  89% |#####################################     | ETA:   0:22:45\n"
     ]
    },
    {
     "name": "stdout",
     "output_type": "stream",
     "text": [
      "t_step: 355 \t, sample_time: 0.002 \tupdate_time: 0.007 \tlearn_time: 0.020 \tsum: 3372.025 \tsize: 176304                        \n",
      "Episode 1345\tTotal score (max over agents) this episode: 0.9000000134110451\n",
      "training done\n",
      "t_step: 1000 \t, sample_time: 0.003 \tupdate_time: 0.009 \tlearn_time: 0.031 \tsum: 3425.734 \tsize: 178307                        "
     ]
    },
    {
     "name": "stderr",
     "output_type": "stream",
     "text": [
      "training loop:  89% |#####################################     | ETA:   0:22:52\n"
     ]
    },
    {
     "name": "stdout",
     "output_type": "stream",
     "text": [
      "t_step: 1000 \t, sample_time: 0.003 \tupdate_time: 0.004 \tlearn_time: 0.063 \tsum: 3419.451 \tsize: 178308                        \n",
      "Episode 1346\tTotal score (max over agents) this episode: 2.600000038743019\n",
      "training done\n",
      "t_step: 265 \t, sample_time: 0.003 \tupdate_time: 0.005 \tlearn_time: 0.036 \tsum: 3428.481 \tsize: 178839                        "
     ]
    },
    {
     "name": "stderr",
     "output_type": "stream",
     "text": [
      "training loop:  89% |#####################################     | ETA:   0:22:47\n"
     ]
    },
    {
     "name": "stdout",
     "output_type": "stream",
     "text": [
      "t_step: 265 \t, sample_time: 0.003 \tupdate_time: 0.006 \tlearn_time: 0.021 \tsum: 3420.633 \tsize: 178840                        \n",
      "Episode 1347\tTotal score (max over agents) this episode: 0.7000000104308128\n",
      "training done\n",
      "t_step: 25 \t, sample_time: 0.006 \tupdate_time: 0.005 \tlearn_time: 0.039 \tsum: 3419.962 \tsize: 178895                        "
     ]
    },
    {
     "name": "stderr",
     "output_type": "stream",
     "text": [
      "training loop:  89% |#####################################     | ETA:   0:22:38\n"
     ]
    },
    {
     "name": "stdout",
     "output_type": "stream",
     "text": [
      "t_step: 25 \t, sample_time: 0.004 \tupdate_time: 0.005 \tlearn_time: 0.014 \tsum: 3413.128 \tsize: 178896                        \n",
      "Episode 1348\tTotal score (max over agents) this episode: 0.10000000149011612\n",
      "training done\n",
      "t_step: 385 \t, sample_time: 0.003 \tupdate_time: 0.008 \tlearn_time: 0.018 \tsum: 3427.721 \tsize: 179673                        "
     ]
    },
    {
     "name": "stderr",
     "output_type": "stream",
     "text": [
      "training loop:  89% |#####################################     | ETA:   0:22:35\n"
     ]
    },
    {
     "name": "stdout",
     "output_type": "stream",
     "text": [
      "t_step: 385 \t, sample_time: 0.003 \tupdate_time: 0.009 \tlearn_time: 0.033 \tsum: 3421.561 \tsize: 179674                        \n",
      "Episode 1349\tTotal score (max over agents) this episode: 1.0000000149011612\n",
      "training done\n",
      "t_step: 480 \t, sample_time: 0.003 \tupdate_time: 0.005 \tlearn_time: 0.021 \tsum: 3426.381 \tsize: 180637                        "
     ]
    },
    {
     "name": "stderr",
     "output_type": "stream",
     "text": [
      "training loop:  90% |#####################################     | ETA:   0:22:34\n"
     ]
    },
    {
     "name": "stdout",
     "output_type": "stream",
     "text": [
      "t_step: 480 \t, sample_time: 0.003 \tupdate_time: 0.005 \tlearn_time: 0.025 \tsum: 3419.805 \tsize: 180638                        \n",
      "Episode 1350\tTotal score (max over agents) this episode: 1.3000000193715096\n",
      "training done\n",
      "t_step: 50 \t, sample_time: 0.003 \tupdate_time: 0.005 \tlearn_time: 0.015 \tsum: 3430.238 \tsize: 180747                        "
     ]
    },
    {
     "name": "stderr",
     "output_type": "stream",
     "text": [
      "training loop:  90% |#####################################     | ETA:   0:22:25\n"
     ]
    },
    {
     "name": "stdout",
     "output_type": "stream",
     "text": [
      "t_step: 50 \t, sample_time: 0.002 \tupdate_time: 0.005 \tlearn_time: 0.034 \tsum: 3423.152 \tsize: 180748                        \n",
      "Episode 1351\tTotal score (max over agents) this episode: 0.10000000149011612\n",
      "training done\n",
      "t_step: 275 \t, sample_time: 0.004 \tupdate_time: 0.007 \tlearn_time: 0.045 \tsum: 3448.942 \tsize: 181301                        "
     ]
    },
    {
     "name": "stderr",
     "output_type": "stream",
     "text": [
      "training loop:  90% |#####################################     | ETA:   0:22:20\n"
     ]
    },
    {
     "name": "stdout",
     "output_type": "stream",
     "text": [
      "t_step: 275 \t, sample_time: 0.003 \tupdate_time: 0.009 \tlearn_time: 0.034 \tsum: 3444.460 \tsize: 181302                        \n",
      "Episode 1352\tTotal score (max over agents) this episode: 0.7000000104308128\n",
      "training done\n",
      "t_step: 370 \t, sample_time: 0.003 \tupdate_time: 0.004 \tlearn_time: 0.009 \tsum: 3445.977 \tsize: 182052                        "
     ]
    },
    {
     "name": "stderr",
     "output_type": "stream",
     "text": [
      "training loop:  90% |#####################################     | ETA:   0:22:16\n"
     ]
    },
    {
     "name": "stdout",
     "output_type": "stream",
     "text": [
      "\n",
      "Episode 1353\tTotal score (max over agents) this episode: 1.0000000149011612\n",
      "training done\n",
      "t_step: 325 \t, sample_time: 0.002 \tupdate_time: 0.006 \tlearn_time: 0.013 \tsum: 3442.899 \tsize: 182712                        "
     ]
    },
    {
     "name": "stderr",
     "output_type": "stream",
     "text": [
      "training loop:  90% |#####################################     | ETA:   0:22:11\n"
     ]
    },
    {
     "name": "stdout",
     "output_type": "stream",
     "text": [
      "t_step: 330 \t, sample_time: 0.003 \tupdate_time: 0.005 \tlearn_time: 0.013 \tsum: 3440.680 \tsize: 182722                        \n",
      "Episode 1354\tTotal score (max over agents) this episode: 0.9000000134110451\n",
      "training done\n",
      "t_step: 50 \t, sample_time: 0.002 \tupdate_time: 0.008 \tlearn_time: 0.068 \tsum: 3459.325 \tsize: 182825                        "
     ]
    },
    {
     "name": "stderr",
     "output_type": "stream",
     "text": [
      "training loop:  90% |#####################################     | ETA:   0:22:02\n"
     ]
    },
    {
     "name": "stdout",
     "output_type": "stream",
     "text": [
      "t_step: 50 \t, sample_time: 0.004 \tupdate_time: 0.005 \tlearn_time: 0.026 \tsum: 3460.602 \tsize: 182826                        \n",
      "Episode 1355\tTotal score (max over agents) this episode: 0.10000000149011612\n",
      "training done\n",
      "t_step: 350 \t, sample_time: 0.002 \tupdate_time: 0.005 \tlearn_time: 0.015 \tsum: 3460.062 \tsize: 183529                        "
     ]
    },
    {
     "name": "stderr",
     "output_type": "stream",
     "text": [
      "training loop:  90% |#####################################     | ETA:   0:21:57\n"
     ]
    },
    {
     "name": "stdout",
     "output_type": "stream",
     "text": [
      "t_step: 350 \t, sample_time: 0.003 \tupdate_time: 0.005 \tlearn_time: 0.017 \tsum: 3458.850 \tsize: 183530                        \n",
      "Episode 1356\tTotal score (max over agents) this episode: 0.9000000134110451\n",
      "training done\n",
      "t_step: 120 \t, sample_time: 0.003 \tupdate_time: 0.005 \tlearn_time: 0.011 \tsum: 3477.319 \tsize: 183773                        "
     ]
    },
    {
     "name": "stderr",
     "output_type": "stream",
     "text": [
      "training loop:  90% |#####################################     | ETA:   0:21:48\n"
     ]
    },
    {
     "name": "stdout",
     "output_type": "stream",
     "text": [
      "t_step: 120 \t, sample_time: 0.002 \tupdate_time: 0.004 \tlearn_time: 0.031 \tsum: 3472.937 \tsize: 183774                        \n",
      "Episode 1357\tTotal score (max over agents) this episode: 0.30000000447034836\n",
      "training done\n",
      "t_step: 450 \t, sample_time: 0.003 \tupdate_time: 0.004 \tlearn_time: 0.042 \tsum: 3496.469 \tsize: 184679                        "
     ]
    },
    {
     "name": "stderr",
     "output_type": "stream",
     "text": [
      "training loop:  90% |######################################    | ETA:   0:21:44\n"
     ]
    },
    {
     "name": "stdout",
     "output_type": "stream",
     "text": [
      "t_step: 450 \t, sample_time: 0.002 \tupdate_time: 0.004 \tlearn_time: 0.017 \tsum: 3491.805 \tsize: 184680                        \n",
      "Episode 1358\tTotal score (max over agents) this episode: 1.2000000178813934\n",
      "training done\n",
      "t_step: 995 \t, sample_time: 0.002 \tupdate_time: 0.008 \tlearn_time: 0.023 \tsum: 3508.932 \tsize: 186674                        "
     ]
    },
    {
     "name": "stderr",
     "output_type": "stream",
     "text": [
      "training loop:  90% |######################################    | ETA:   0:21:48\n"
     ]
    },
    {
     "name": "stdout",
     "output_type": "stream",
     "text": [
      "t_step: 1000 \t, sample_time: 0.004 \tupdate_time: 0.006 \tlearn_time: 0.014 \tsum: 3507.309 \tsize: 186684                        \n",
      "Episode 1359\tTotal score (max over agents) this episode: 2.600000038743019\n",
      "training done\n",
      "t_step: 1000 \t, sample_time: 0.005 \tupdate_time: 0.006 \tlearn_time: 0.018 \tsum: 3552.850 \tsize: 188685                        "
     ]
    },
    {
     "name": "stderr",
     "output_type": "stream",
     "text": [
      "training loop:  90% |######################################    | ETA:   0:21:51\n"
     ]
    },
    {
     "name": "stdout",
     "output_type": "stream",
     "text": [
      "t_step: 1000 \t, sample_time: 0.004 \tupdate_time: 0.005 \tlearn_time: 0.015 \tsum: 3545.800 \tsize: 188686                        \n",
      "Episode 1360\tTotal score (max over agents) this episode: 2.7000000402331352\n",
      "training done\n",
      "t_step: 405 \t, sample_time: 0.002 \tupdate_time: 0.011 \tlearn_time: 0.019 \tsum: 3566.736 \tsize: 189497                                                "
     ]
    },
    {
     "name": "stderr",
     "output_type": "stream",
     "text": [
      "training loop:  90% |######################################    | ETA:   0:21:46\n"
     ]
    },
    {
     "name": "stdout",
     "output_type": "stream",
     "text": [
      "t_step: 405 \t, sample_time: 0.004 \tupdate_time: 0.009 \tlearn_time: 0.021 \tsum: 3561.539 \tsize: 189498                        \n",
      "Episode 1361\tTotal score (max over agents) this episode: 1.1000000163912773\n",
      "training done\n",
      "t_step: 25 \t, sample_time: 0.003 \tupdate_time: 0.012 \tlearn_time: 0.030 \tsum: 3582.310 \tsize: 189557                        "
     ]
    },
    {
     "name": "stderr",
     "output_type": "stream",
     "text": [
      "training loop:  90% |######################################    | ETA:   0:21:36\n"
     ]
    },
    {
     "name": "stdout",
     "output_type": "stream",
     "text": [
      "t_step: 25 \t, sample_time: 0.002 \tupdate_time: 0.007 \tlearn_time: 0.015 \tsum: 3574.087 \tsize: 189558                        \n",
      "Episode 1362\tTotal score (max over agents) this episode: 0.10000000149011612\n",
      "training done\n",
      "t_step: 460 \t, sample_time: 0.004 \tupdate_time: 0.010 \tlearn_time: 0.064 \tsum: 3610.849 \tsize: 190485                        "
     ]
    },
    {
     "name": "stderr",
     "output_type": "stream",
     "text": [
      "training loop:  90% |######################################    | ETA:   0:21:32\n"
     ]
    },
    {
     "name": "stdout",
     "output_type": "stream",
     "text": [
      "t_step: 460 \t, sample_time: 0.003 \tupdate_time: 0.005 \tlearn_time: 0.045 \tsum: 3609.065 \tsize: 190486                        \n",
      "Episode 1363\tTotal score (max over agents) this episode: 1.2000000178813934\n",
      "training done\n",
      "t_step: 65 \t, sample_time: 0.003 \tupdate_time: 0.006 \tlearn_time: 0.015 \tsum: 3608.808 \tsize: 190623                        "
     ]
    },
    {
     "name": "stderr",
     "output_type": "stream",
     "text": [
      "training loop:  90% |######################################    | ETA:   0:21:23\n"
     ]
    },
    {
     "name": "stdout",
     "output_type": "stream",
     "text": [
      "t_step: 65 \t, sample_time: 0.003 \tupdate_time: 0.006 \tlearn_time: 0.018 \tsum: 3598.038 \tsize: 190624                        \n",
      "Episode 1364\tTotal score (max over agents) this episode: 0.19000000320374966\n",
      "training done\n",
      "t_step: 950 \t, sample_time: 0.002 \tupdate_time: 0.004 \tlearn_time: 0.011 \tsum: 3630.887 \tsize: 192525                                                "
     ]
    },
    {
     "name": "stderr",
     "output_type": "stream",
     "text": [
      "training loop:  91% |######################################    | ETA:   0:21:26\n"
     ]
    },
    {
     "name": "stdout",
     "output_type": "stream",
     "text": [
      "t_step: 950 \t, sample_time: 0.002 \tupdate_time: 0.003 \tlearn_time: 0.013 \tsum: 3626.353 \tsize: 192526                        \n",
      "Episode 1365\tTotal score (max over agents) this episode: 2.500000037252903\n",
      "training done\n",
      "t_step: 465 \t, sample_time: 0.004 \tupdate_time: 0.007 \tlearn_time: 0.022 \tsum: 3674.869 \tsize: 193457                        "
     ]
    },
    {
     "name": "stderr",
     "output_type": "stream",
     "text": [
      "training loop:  91% |######################################    | ETA:   0:21:22\n"
     ]
    },
    {
     "name": "stdout",
     "output_type": "stream",
     "text": [
      "t_step: 465 \t, sample_time: 0.004 \tupdate_time: 0.004 \tlearn_time: 0.010 \tsum: 3662.505 \tsize: 193458                        \n",
      "Episode 1366\tTotal score (max over agents) this episode: 1.2000000178813934\n",
      "training done\n",
      "t_step: 25 \t, sample_time: 0.002 \tupdate_time: 0.003 \tlearn_time: 0.016 \tsum: 3669.913 \tsize: 193517                        "
     ]
    },
    {
     "name": "stderr",
     "output_type": "stream",
     "text": [
      "training loop:  91% |######################################    | ETA:   0:21:12\n"
     ]
    },
    {
     "name": "stdout",
     "output_type": "stream",
     "text": [
      "t_step: 25 \t, sample_time: 0.005 \tupdate_time: 0.007 \tlearn_time: 0.019 \tsum: 3666.738 \tsize: 193518                        \n",
      "Episode 1367\tTotal score (max over agents) this episode: 0.10000000149011612\n",
      "training done\n",
      "t_step: 440 \t, sample_time: 0.003 \tupdate_time: 0.004 \tlearn_time: 0.032 \tsum: 3685.979 \tsize: 194405                        "
     ]
    },
    {
     "name": "stderr",
     "output_type": "stream",
     "text": [
      "training loop:  91% |######################################    | ETA:   0:21:08\n"
     ]
    },
    {
     "name": "stdout",
     "output_type": "stream",
     "text": [
      "t_step: 440 \t, sample_time: 0.009 \tupdate_time: 0.012 \tlearn_time: 0.087 \tsum: 3684.818 \tsize: 194406                        \n",
      "Episode 1368\tTotal score (max over agents) this episode: 1.2000000178813934\n",
      "training done\n",
      "t_step: 50 \t, sample_time: 0.004 \tupdate_time: 0.006 \tlearn_time: 0.170 \tsum: 3688.918 \tsize: 194513                        "
     ]
    },
    {
     "name": "stderr",
     "output_type": "stream",
     "text": [
      "training loop:  91% |######################################    | ETA:   0:20:58\n"
     ]
    },
    {
     "name": "stdout",
     "output_type": "stream",
     "text": [
      "t_step: 50 \t, sample_time: 0.004 \tupdate_time: 0.017 \tlearn_time: 0.028 \tsum: 3677.122 \tsize: 194514                        \n",
      "Episode 1369\tTotal score (max over agents) this episode: 0.10000000149011612\n",
      "training done\n",
      "t_step: 90 \t, sample_time: 0.004 \tupdate_time: 0.006 \tlearn_time: 0.025 \tsum: 3694.496 \tsize: 194697                        "
     ]
    },
    {
     "name": "stderr",
     "output_type": "stream",
     "text": [
      "training loop:  91% |######################################    | ETA:   0:20:48\n"
     ]
    },
    {
     "name": "stdout",
     "output_type": "stream",
     "text": [
      "t_step: 90 \t, sample_time: 0.003 \tupdate_time: 0.006 \tlearn_time: 0.052 \tsum: 3688.831 \tsize: 194698                        \n",
      "Episode 1370\tTotal score (max over agents) this episode: 0.20000000298023224\n",
      "training done\n",
      "t_step: 60 \t, sample_time: 0.002 \tupdate_time: 0.003 \tlearn_time: 0.009 \tsum: 3680.645 \tsize: 194820                        "
     ]
    },
    {
     "name": "stderr",
     "output_type": "stream",
     "text": [
      "training loop:  91% |######################################    | ETA:   0:20:39\n"
     ]
    },
    {
     "name": "stdout",
     "output_type": "stream",
     "text": [
      "\n",
      "Episode 1371\tTotal score (max over agents) this episode: 0.20000000298023224\n",
      "training done\n",
      "t_step: 545 \t, sample_time: 0.006 \tupdate_time: 0.007 \tlearn_time: 0.016 \tsum: 3720.188 \tsize: 195919                        "
     ]
    },
    {
     "name": "stderr",
     "output_type": "stream",
     "text": [
      "training loop:  91% |######################################    | ETA:   0:20:36\n"
     ]
    },
    {
     "name": "stdout",
     "output_type": "stream",
     "text": [
      "t_step: 545 \t, sample_time: 0.006 \tupdate_time: 0.006 \tlearn_time: 0.023 \tsum: 3708.090 \tsize: 195920                        \n",
      "Episode 1372\tTotal score (max over agents) this episode: 1.4000000208616257\n",
      "training done\n",
      "t_step: 25 \t, sample_time: 0.005 \tupdate_time: 0.010 \tlearn_time: 0.029 \tsum: 3732.722 \tsize: 195973                        "
     ]
    },
    {
     "name": "stderr",
     "output_type": "stream",
     "text": [
      "training loop:  91% |######################################    | ETA:   0:20:26\n"
     ]
    },
    {
     "name": "stdout",
     "output_type": "stream",
     "text": [
      "t_step: 25 \t, sample_time: 0.003 \tupdate_time: 0.004 \tlearn_time: 0.025 \tsum: 3725.632 \tsize: 195974                        \n",
      "Episode 1373\tTotal score (max over agents) this episode: 0.09000000171363354\n",
      "training done\n",
      "t_step: 165 \t, sample_time: 0.007 \tupdate_time: 0.008 \tlearn_time: 0.081 \tsum: 3738.124 \tsize: 196311                        "
     ]
    },
    {
     "name": "stderr",
     "output_type": "stream",
     "text": [
      "training loop:  91% |######################################    | ETA:   0:20:18\n"
     ]
    },
    {
     "name": "stdout",
     "output_type": "stream",
     "text": [
      "t_step: 165 \t, sample_time: 0.004 \tupdate_time: 0.005 \tlearn_time: 0.059 \tsum: 3729.438 \tsize: 196312                        \n",
      "Episode 1374\tTotal score (max over agents) this episode: 0.4000000059604645\n",
      "training done\n",
      "t_step: 30 \t, sample_time: 0.005 \tupdate_time: 0.008 \tlearn_time: 0.072 \tsum: 3761.713 \tsize: 196373                        "
     ]
    },
    {
     "name": "stderr",
     "output_type": "stream",
     "text": [
      "training loop:  91% |######################################    | ETA:   0:20:08\n"
     ]
    },
    {
     "name": "stdout",
     "output_type": "stream",
     "text": [
      "t_step: 30 \t, sample_time: 0.004 \tupdate_time: 0.005 \tlearn_time: 0.012 \tsum: 3756.862 \tsize: 196374                        \n",
      "Episode 1375\tTotal score (max over agents) this episode: 0.10000000149011612\n",
      "training done\n",
      "t_step: 125 \t, sample_time: 0.006 \tupdate_time: 0.007 \tlearn_time: 0.020 \tsum: 3739.997 \tsize: 196625                        "
     ]
    },
    {
     "name": "stderr",
     "output_type": "stream",
     "text": [
      "training loop:  91% |######################################    | ETA:   0:19:59\n"
     ]
    },
    {
     "name": "stdout",
     "output_type": "stream",
     "text": [
      "t_step: 125 \t, sample_time: 0.002 \tupdate_time: 0.006 \tlearn_time: 0.023 \tsum: 3734.838 \tsize: 196626                        \n",
      "Episode 1376\tTotal score (max over agents) this episode: 0.30000000447034836\n",
      "training done\n",
      "t_step: 370 \t, sample_time: 0.003 \tupdate_time: 0.004 \tlearn_time: 0.036 \tsum: 3730.593 \tsize: 197371                        "
     ]
    },
    {
     "name": "stderr",
     "output_type": "stream",
     "text": [
      "training loop:  91% |######################################    | ETA:   0:19:54\n"
     ]
    },
    {
     "name": "stdout",
     "output_type": "stream",
     "text": [
      "t_step: 370 \t, sample_time: 0.002 \tupdate_time: 0.006 \tlearn_time: 0.058 \tsum: 3726.123 \tsize: 197372                        \n",
      "Episode 1377\tTotal score (max over agents) this episode: 1.0000000149011612\n",
      "training done\n",
      "t_step: 235 \t, sample_time: 0.002 \tupdate_time: 0.007 \tlearn_time: 0.015 \tsum: 3743.460 \tsize: 197844                        "
     ]
    },
    {
     "name": "stderr",
     "output_type": "stream",
     "text": [
      "training loop:  91% |######################################    | ETA:   0:19:47\n"
     ]
    },
    {
     "name": "stdout",
     "output_type": "stream",
     "text": [
      "t_step: 240 \t, sample_time: 0.003 \tupdate_time: 0.005 \tlearn_time: 0.011 \tsum: 3747.474 \tsize: 197854                        \n",
      "Episode 1378\tTotal score (max over agents) this episode: 0.6000000089406967\n",
      "training done\n",
      "t_step: 25 \t, sample_time: 0.002 \tupdate_time: 0.006 \tlearn_time: 0.030 \tsum: 3736.091 \tsize: 197909                        "
     ]
    },
    {
     "name": "stderr",
     "output_type": "stream",
     "text": [
      "training loop:  91% |######################################    | ETA:   0:19:36\n"
     ]
    },
    {
     "name": "stdout",
     "output_type": "stream",
     "text": [
      "t_step: 25 \t, sample_time: 0.003 \tupdate_time: 0.006 \tlearn_time: 0.041 \tsum: 3730.625 \tsize: 197910                        \n",
      "Episode 1379\tTotal score (max over agents) this episode: 0.10000000149011612\n",
      "training done\n",
      "t_step: 135 \t, sample_time: 0.006 \tupdate_time: 0.010 \tlearn_time: 0.057 \tsum: 3744.212 \tsize: 198187                        "
     ]
    },
    {
     "name": "stderr",
     "output_type": "stream",
     "text": [
      "training loop:  92% |######################################    | ETA:   0:19:28\n"
     ]
    },
    {
     "name": "stdout",
     "output_type": "stream",
     "text": [
      "t_step: 135 \t, sample_time: 0.003 \tupdate_time: 0.005 \tlearn_time: 0.057 \tsum: 3738.594 \tsize: 198188                        \n",
      "Episode 1380\tTotal score (max over agents) this episode: 0.4000000059604645\n",
      "training done\n",
      "t_step: 295 \t, sample_time: 0.003 \tupdate_time: 0.006 \tlearn_time: 0.037 \tsum: 3750.189 \tsize: 198785                        "
     ]
    },
    {
     "name": "stderr",
     "output_type": "stream",
     "text": [
      "training loop:  92% |######################################    | ETA:   0:19:20\n"
     ]
    },
    {
     "name": "stdout",
     "output_type": "stream",
     "text": [
      "t_step: 295 \t, sample_time: 0.003 \tupdate_time: 0.005 \tlearn_time: 0.036 \tsum: 3747.111 \tsize: 198786                        \n",
      "Episode 1381\tTotal score (max over agents) this episode: 0.800000011920929\n",
      "training done\n",
      "t_step: 80 \t, sample_time: 0.002 \tupdate_time: 0.006 \tlearn_time: 0.015 \tsum: 3753.239 \tsize: 198951                        "
     ]
    },
    {
     "name": "stderr",
     "output_type": "stream",
     "text": [
      "training loop:  92% |######################################    | ETA:   0:19:11\n"
     ]
    },
    {
     "name": "stdout",
     "output_type": "stream",
     "text": [
      "t_step: 80 \t, sample_time: 0.002 \tupdate_time: 0.008 \tlearn_time: 0.034 \tsum: 3755.965 \tsize: 198952                        \n",
      "Episode 1382\tTotal score (max over agents) this episode: 0.20000000298023224\n",
      "training done\n",
      "t_step: 25 \t, sample_time: 0.003 \tupdate_time: 0.005 \tlearn_time: 0.013 \tsum: 3758.289 \tsize: 199011                        "
     ]
    },
    {
     "name": "stderr",
     "output_type": "stream",
     "text": [
      "training loop:  92% |######################################    | ETA:   0:19:01\n"
     ]
    },
    {
     "name": "stdout",
     "output_type": "stream",
     "text": [
      "t_step: 25 \t, sample_time: 0.004 \tupdate_time: 0.005 \tlearn_time: 0.016 \tsum: 3752.695 \tsize: 199012                        \n",
      "Episode 1383\tTotal score (max over agents) this episode: 0.10000000149011612\n",
      "training done\n",
      "t_step: 25 \t, sample_time: 0.003 \tupdate_time: 0.007 \tlearn_time: 0.023 \tsum: 3764.075 \tsize: 199071                        "
     ]
    },
    {
     "name": "stderr",
     "output_type": "stream",
     "text": [
      "training loop:  92% |######################################    | ETA:   0:18:50\n"
     ]
    },
    {
     "name": "stdout",
     "output_type": "stream",
     "text": [
      "t_step: 25 \t, sample_time: 0.002 \tupdate_time: 0.004 \tlearn_time: 0.026 \tsum: 3757.752 \tsize: 199072                        \n",
      "Episode 1384\tTotal score (max over agents) this episode: 0.10000000149011612\n",
      "training done\n",
      "t_step: 405 \t, sample_time: 0.002 \tupdate_time: 0.006 \tlearn_time: 0.014 \tsum: 3766.505 \tsize: 199891                        "
     ]
    },
    {
     "name": "stderr",
     "output_type": "stream",
     "text": [
      "training loop:  92% |######################################    | ETA:   0:18:44\n"
     ]
    },
    {
     "name": "stdout",
     "output_type": "stream",
     "text": [
      "t_step: 405 \t, sample_time: 0.002 \tupdate_time: 0.007 \tlearn_time: 0.016 \tsum: 3753.349 \tsize: 199892                        \n",
      "Episode 1385\tTotal score (max over agents) this episode: 1.1000000163912773\n",
      "training done\n",
      "t_step: 105 \t, sample_time: 0.004 \tupdate_time: 0.006 \tlearn_time: 0.015 \tsum: 3788.002 \tsize: 200111                        "
     ]
    },
    {
     "name": "stderr",
     "output_type": "stream",
     "text": [
      "training loop:  92% |######################################    | ETA:   0:18:35\n"
     ]
    },
    {
     "name": "stdout",
     "output_type": "stream",
     "text": [
      "t_step: 105 \t, sample_time: 0.003 \tupdate_time: 0.007 \tlearn_time: 0.164 \tsum: 3775.763 \tsize: 200112                        \n",
      "Episode 1386\tTotal score (max over agents) this episode: 0.30000000447034836\n",
      "training done\n",
      "t_step: 180 \t, sample_time: 0.004 \tupdate_time: 0.010 \tlearn_time: 0.017 \tsum: 3757.534 \tsize: 200475                        "
     ]
    },
    {
     "name": "stderr",
     "output_type": "stream",
     "text": [
      "training loop:  92% |######################################    | ETA:   0:18:26\n"
     ]
    },
    {
     "name": "stdout",
     "output_type": "stream",
     "text": [
      "t_step: 180 \t, sample_time: 0.002 \tupdate_time: 0.004 \tlearn_time: 0.023 \tsum: 3752.440 \tsize: 200476                        \n",
      "Episode 1387\tTotal score (max over agents) this episode: 0.5000000074505806\n",
      "training done\n",
      "t_step: 445 \t, sample_time: 0.003 \tupdate_time: 0.007 \tlearn_time: 0.036 \tsum: 3755.995 \tsize: 201369                        "
     ]
    },
    {
     "name": "stderr",
     "output_type": "stream",
     "text": [
      "training loop:  92% |######################################    | ETA:   0:18:22\n"
     ]
    },
    {
     "name": "stdout",
     "output_type": "stream",
     "text": [
      "t_step: 445 \t, sample_time: 0.002 \tupdate_time: 0.005 \tlearn_time: 0.014 \tsum: 3743.329 \tsize: 201370                        \n",
      "Episode 1388\tTotal score (max over agents) this episode: 1.2000000178813934\n",
      "training done\n",
      "t_step: 640 \t, sample_time: 0.002 \tupdate_time: 0.004 \tlearn_time: 0.015 \tsum: 3758.961 \tsize: 202657                        "
     ]
    },
    {
     "name": "stderr",
     "output_type": "stream",
     "text": [
      "training loop:  92% |######################################    | ETA:   0:18:19\n"
     ]
    },
    {
     "name": "stdout",
     "output_type": "stream",
     "text": [
      "t_step: 640 \t, sample_time: 0.003 \tupdate_time: 0.004 \tlearn_time: 0.018 \tsum: 3759.952 \tsize: 202658                        \n",
      "Episode 1389\tTotal score (max over agents) this episode: 1.700000025331974\n",
      "training done\n",
      "t_step: 525 \t, sample_time: 0.003 \tupdate_time: 0.008 \tlearn_time: 0.019 \tsum: 3813.637 \tsize: 203713                        "
     ]
    },
    {
     "name": "stderr",
     "output_type": "stream",
     "text": [
      "training loop:  92% |######################################    | ETA:   0:18:14\n"
     ]
    },
    {
     "name": "stdout",
     "output_type": "stream",
     "text": [
      "t_step: 525 \t, sample_time: 0.002 \tupdate_time: 0.006 \tlearn_time: 0.017 \tsum: 3805.290 \tsize: 203714                        \n",
      "Episode 1390\tTotal score (max over agents) this episode: 1.4000000208616257\n",
      "training done\n",
      "t_step: 1000 \t, sample_time: 0.002 \tupdate_time: 0.008 \tlearn_time: 0.017 \tsum: 3857.830 \tsize: 205721                                               "
     ]
    },
    {
     "name": "stderr",
     "output_type": "stream",
     "text": [
      "training loop:  92% |######################################    | ETA:   0:18:16\n"
     ]
    },
    {
     "name": "stdout",
     "output_type": "stream",
     "text": [
      "t_step: 1000 \t, sample_time: 0.002 \tupdate_time: 0.005 \tlearn_time: 0.033 \tsum: 3850.287 \tsize: 205722                        \n",
      "Episode 1391\tTotal score (max over agents) this episode: 2.600000038743019\n",
      "training done\n",
      "t_step: 95 \t, sample_time: 0.003 \tupdate_time: 0.010 \tlearn_time: 0.030 \tsum: 3848.933 \tsize: 205913                        "
     ]
    },
    {
     "name": "stderr",
     "output_type": "stream",
     "text": [
      "training loop:  92% |######################################    | ETA:   0:18:06\n"
     ]
    },
    {
     "name": "stdout",
     "output_type": "stream",
     "text": [
      "t_step: 95 \t, sample_time: 0.002 \tupdate_time: 0.006 \tlearn_time: 0.027 \tsum: 3847.126 \tsize: 205914                        \n",
      "Episode 1392\tTotal score (max over agents) this episode: 0.30000000447034836\n",
      "training done\n",
      "t_step: 180 \t, sample_time: 0.003 \tupdate_time: 0.006 \tlearn_time: 0.013 \tsum: 3867.220 \tsize: 206281                        "
     ]
    },
    {
     "name": "stderr",
     "output_type": "stream",
     "text": [
      "training loop:  92% |#######################################   | ETA:   0:17:57\n"
     ]
    },
    {
     "name": "stdout",
     "output_type": "stream",
     "text": [
      "t_step: 180 \t, sample_time: 0.003 \tupdate_time: 0.008 \tlearn_time: 0.042 \tsum: 3851.173 \tsize: 206282                        \n",
      "Episode 1393\tTotal score (max over agents) this episode: 0.5000000074505806\n",
      "training done\n",
      "t_step: 1000 \t, sample_time: 0.005 \tupdate_time: 0.008 \tlearn_time: 0.071 \tsum: 3881.004 \tsize: 208291                        "
     ]
    },
    {
     "name": "stderr",
     "output_type": "stream",
     "text": [
      "training loop:  92% |#######################################   | ETA:   0:17:57\n"
     ]
    },
    {
     "name": "stdout",
     "output_type": "stream",
     "text": [
      "t_step: 1000 \t, sample_time: 0.004 \tupdate_time: 0.016 \tlearn_time: 0.028 \tsum: 3879.037 \tsize: 208292                        \n",
      "Episode 1394\tTotal score (max over agents) this episode: 2.600000038743019\n",
      "training done\n",
      "t_step: 630 \t, sample_time: 0.002 \tupdate_time: 0.006 \tlearn_time: 0.013 \tsum: 3903.019 \tsize: 209553                        "
     ]
    },
    {
     "name": "stderr",
     "output_type": "stream",
     "text": [
      "training loop:  93% |#######################################   | ETA:   0:17:52\n"
     ]
    },
    {
     "name": "stdout",
     "output_type": "stream",
     "text": [
      "t_step: 630 \t, sample_time: 0.002 \tupdate_time: 0.006 \tlearn_time: 0.015 \tsum: 3901.740 \tsize: 209554                        \n",
      "Episode 1395\tTotal score (max over agents) this episode: 1.700000025331974\n",
      "training done\n",
      "t_step: 310 \t, sample_time: 0.003 \tupdate_time: 0.007 \tlearn_time: 0.019 \tsum: 3924.387 \tsize: 210179                        "
     ]
    },
    {
     "name": "stderr",
     "output_type": "stream",
     "text": [
      "training loop:  93% |#######################################   | ETA:   0:17:44\n"
     ]
    },
    {
     "name": "stdout",
     "output_type": "stream",
     "text": [
      "t_step: 310 \t, sample_time: 0.003 \tupdate_time: 0.010 \tlearn_time: 0.036 \tsum: 3914.709 \tsize: 210180                        \n",
      "Episode 1396\tTotal score (max over agents) this episode: 0.7900000121444464\n",
      "training done\n",
      "t_step: 25 \t, sample_time: 0.005 \tupdate_time: 0.008 \tlearn_time: 0.052 \tsum: 3918.606 \tsize: 210233                                                "
     ]
    },
    {
     "name": "stderr",
     "output_type": "stream",
     "text": [
      "training loop:  93% |#######################################   | ETA:   0:17:33\n"
     ]
    },
    {
     "name": "stdout",
     "output_type": "stream",
     "text": [
      "t_step: 25 \t, sample_time: 0.004 \tupdate_time: 0.009 \tlearn_time: 0.048 \tsum: 3908.592 \tsize: 210234                        \n",
      "Episode 1397\tTotal score (max over agents) this episode: 0.10000000149011612\n",
      "training done\n",
      "t_step: 105 \t, sample_time: 0.014 \tupdate_time: 0.006 \tlearn_time: 0.013 \tsum: 3937.700 \tsize: 210453                        "
     ]
    },
    {
     "name": "stderr",
     "output_type": "stream",
     "text": [
      "training loop:  93% |#######################################   | ETA:   0:17:24\n"
     ]
    },
    {
     "name": "stdout",
     "output_type": "stream",
     "text": [
      "t_step: 105 \t, sample_time: 0.005 \tupdate_time: 0.006 \tlearn_time: 0.053 \tsum: 3931.636 \tsize: 210454                        \n",
      "Episode 1398\tTotal score (max over agents) this episode: 0.30000000447034836\n",
      "training done\n",
      "t_step: 140 \t, sample_time: 0.002 \tupdate_time: 0.005 \tlearn_time: 0.015 \tsum: 3941.936 \tsize: 210737                        "
     ]
    },
    {
     "name": "stderr",
     "output_type": "stream",
     "text": [
      "training loop:  93% |#######################################   | ETA:   0:17:14\n"
     ]
    },
    {
     "name": "stdout",
     "output_type": "stream",
     "text": [
      "t_step: 140 \t, sample_time: 0.005 \tupdate_time: 0.006 \tlearn_time: 0.015 \tsum: 3937.897 \tsize: 210738                        \n",
      "Episode 1399\tTotal score (max over agents) this episode: 0.3900000061839819\n",
      "training done\n",
      "t_step: 25 \t, sample_time: 0.003 \tupdate_time: 0.009 \tlearn_time: 0.030 \tsum: 3930.932 \tsize: 210793                        "
     ]
    },
    {
     "name": "stderr",
     "output_type": "stream",
     "text": [
      "training loop:  93% |#######################################   | ETA:   0:17:03\n"
     ]
    },
    {
     "name": "stdout",
     "output_type": "stream",
     "text": [
      "t_step: 25 \t, sample_time: 0.003 \tupdate_time: 0.009 \tlearn_time: 0.030 \tsum: 3918.328 \tsize: 210794                        \n",
      "Episode 1400\tTotal score (max over agents) this episode: 0.10000000149011612\n",
      "training done\n",
      "t_step: 65 \t, sample_time: 0.003 \tupdate_time: 0.007 \tlearn_time: 0.027 \tsum: 3934.661 \tsize: 210933                        "
     ]
    },
    {
     "name": "stderr",
     "output_type": "stream",
     "text": [
      "training loop:  93% |#######################################   | ETA:   0:16:53\n"
     ]
    },
    {
     "name": "stdout",
     "output_type": "stream",
     "text": [
      "t_step: 65 \t, sample_time: 0.003 \tupdate_time: 0.007 \tlearn_time: 0.014 \tsum: 3926.837 \tsize: 210934                        \n",
      "Episode 1401\tTotal score (max over agents) this episode: 0.20000000298023224\n",
      "training done\n",
      "t_step: 25 \t, sample_time: 0.002 \tupdate_time: 0.009 \tlearn_time: 0.026 \tsum: 3927.916 \tsize: 210989                        "
     ]
    },
    {
     "name": "stderr",
     "output_type": "stream",
     "text": [
      "training loop:  93% |#######################################   | ETA:   0:16:42\n"
     ]
    },
    {
     "name": "stdout",
     "output_type": "stream",
     "text": [
      "t_step: 25 \t, sample_time: 0.003 \tupdate_time: 0.006 \tlearn_time: 0.013 \tsum: 3921.602 \tsize: 210990                        \n",
      "Episode 1402\tTotal score (max over agents) this episode: 0.10000000149011612\n",
      "training done\n",
      "t_step: 30 \t, sample_time: 0.002 \tupdate_time: 0.007 \tlearn_time: 0.017 \tsum: 3931.101 \tsize: 211060                        "
     ]
    },
    {
     "name": "stderr",
     "output_type": "stream",
     "text": [
      "training loop:  93% |#######################################   | ETA:   0:16:32\n"
     ]
    },
    {
     "name": "stdout",
     "output_type": "stream",
     "text": [
      "\n",
      "Episode 1403\tTotal score (max over agents) this episode: 0.10000000149011612\n",
      "training done\n",
      "t_step: 30 \t, sample_time: 0.004 \tupdate_time: 0.005 \tlearn_time: 0.027 \tsum: 3953.160 \tsize: 211127                        "
     ]
    },
    {
     "name": "stderr",
     "output_type": "stream",
     "text": [
      "training loop:  93% |#######################################   | ETA:   0:16:21\n"
     ]
    },
    {
     "name": "stdout",
     "output_type": "stream",
     "text": [
      "t_step: 30 \t, sample_time: 0.003 \tupdate_time: 0.004 \tlearn_time: 0.085 \tsum: 3953.397 \tsize: 211128                        \n",
      "Episode 1404\tTotal score (max over agents) this episode: 0.10000000149011612\n",
      "training done\n",
      "t_step: 25 \t, sample_time: 0.002 \tupdate_time: 0.005 \tlearn_time: 0.022 \tsum: 3948.349 \tsize: 211179                        "
     ]
    },
    {
     "name": "stderr",
     "output_type": "stream",
     "text": [
      "training loop:  93% |#######################################   | ETA:   0:16:11\n"
     ]
    },
    {
     "name": "stdout",
     "output_type": "stream",
     "text": [
      "t_step: 25 \t, sample_time: 0.005 \tupdate_time: 0.010 \tlearn_time: 0.087 \tsum: 3935.753 \tsize: 211180                        \n",
      "Episode 1405\tTotal score (max over agents) this episode: 0.10000000149011612\n",
      "training done\n",
      "t_step: 25 \t, sample_time: 0.003 \tupdate_time: 0.005 \tlearn_time: 0.028 \tsum: 3927.649 \tsize: 211239                        "
     ]
    },
    {
     "name": "stderr",
     "output_type": "stream",
     "text": [
      "training loop:  93% |#######################################   | ETA:   0:16:00\n"
     ]
    },
    {
     "name": "stdout",
     "output_type": "stream",
     "text": [
      "t_step: 25 \t, sample_time: 0.002 \tupdate_time: 0.005 \tlearn_time: 0.013 \tsum: 3916.911 \tsize: 211240                        \n",
      "Episode 1406\tTotal score (max over agents) this episode: 0.10000000149011612\n",
      "training done\n",
      "t_step: 370 \t, sample_time: 0.003 \tupdate_time: 0.006 \tlearn_time: 0.015 \tsum: 3949.499 \tsize: 211990                        "
     ]
    },
    {
     "name": "stderr",
     "output_type": "stream",
     "text": [
      "training loop:  93% |#######################################   | ETA:   0:15:52\n"
     ]
    },
    {
     "name": "stdout",
     "output_type": "stream",
     "text": [
      "\n",
      "Episode 1407\tTotal score (max over agents) this episode: 1.0000000149011612\n",
      "training done\n",
      "t_step: 25 \t, sample_time: 0.003 \tupdate_time: 0.007 \tlearn_time: 0.036 \tsum: 3962.559 \tsize: 212045                                                "
     ]
    },
    {
     "name": "stderr",
     "output_type": "stream",
     "text": [
      "training loop:  93% |#######################################   | ETA:   0:15:42\n"
     ]
    },
    {
     "name": "stdout",
     "output_type": "stream",
     "text": [
      "t_step: 25 \t, sample_time: 0.004 \tupdate_time: 0.006 \tlearn_time: 0.014 \tsum: 3956.831 \tsize: 212046                        \n",
      "Episode 1408\tTotal score (max over agents) this episode: 0.10000000149011612\n",
      "training done\n",
      "t_step: 960 \t, sample_time: 0.003 \tupdate_time: 0.009 \tlearn_time: 0.069 \tsum: 4006.002 \tsize: 213975                        "
     ]
    },
    {
     "name": "stderr",
     "output_type": "stream",
     "text": [
      "training loop:  93% |#######################################   | ETA:   0:15:40\n"
     ]
    },
    {
     "name": "stdout",
     "output_type": "stream",
     "text": [
      "t_step: 960 \t, sample_time: 0.004 \tupdate_time: 0.008 \tlearn_time: 0.015 \tsum: 4002.321 \tsize: 213976                        \n",
      "Episode 1409\tTotal score (max over agents) this episode: 2.500000037252903\n",
      "training done\n",
      "t_step: 275 \t, sample_time: 0.004 \tupdate_time: 0.005 \tlearn_time: 0.033 \tsum: 4026.559 \tsize: 214535                        "
     ]
    },
    {
     "name": "stderr",
     "output_type": "stream",
     "text": [
      "training loop:  94% |#######################################   | ETA:   0:15:32\n"
     ]
    },
    {
     "name": "stdout",
     "output_type": "stream",
     "text": [
      "t_step: 275 \t, sample_time: 0.004 \tupdate_time: 0.006 \tlearn_time: 0.038 \tsum: 4013.574 \tsize: 214536                        \n",
      "Episode 1410\tTotal score (max over agents) this episode: 0.7000000104308128\n",
      "training done\n",
      "t_step: 425 \t, sample_time: 0.004 \tupdate_time: 0.006 \tlearn_time: 0.022 \tsum: 4048.651 \tsize: 215395                        "
     ]
    },
    {
     "name": "stderr",
     "output_type": "stream",
     "text": [
      "training loop:  94% |#######################################   | ETA:   0:15:25\n"
     ]
    },
    {
     "name": "stdout",
     "output_type": "stream",
     "text": [
      "t_step: 425 \t, sample_time: 0.005 \tupdate_time: 0.007 \tlearn_time: 0.027 \tsum: 4044.716 \tsize: 215396                        \n",
      "Episode 1411\tTotal score (max over agents) this episode: 1.1000000163912773\n",
      "training done\n",
      "t_step: 180 \t, sample_time: 0.002 \tupdate_time: 0.004 \tlearn_time: 0.010 \tsum: 4035.783 \tsize: 215763                        "
     ]
    },
    {
     "name": "stderr",
     "output_type": "stream",
     "text": [
      "training loop:  94% |#######################################   | ETA:   0:15:16\n"
     ]
    },
    {
     "name": "stdout",
     "output_type": "stream",
     "text": [
      "t_step: 180 \t, sample_time: 0.004 \tupdate_time: 0.010 \tlearn_time: 0.062 \tsum: 4027.076 \tsize: 215764                        \n",
      "Episode 1412\tTotal score (max over agents) this episode: 0.5000000074505806\n",
      "training done\n",
      "t_step: 135 \t, sample_time: 0.003 \tupdate_time: 0.007 \tlearn_time: 0.040 \tsum: 4044.137 \tsize: 216035                        "
     ]
    },
    {
     "name": "stderr",
     "output_type": "stream",
     "text": [
      "training loop:  94% |#######################################   | ETA:   0:15:06\n"
     ]
    },
    {
     "name": "stdout",
     "output_type": "stream",
     "text": [
      "t_step: 135 \t, sample_time: 0.003 \tupdate_time: 0.005 \tlearn_time: 0.014 \tsum: 4038.723 \tsize: 216036                        \n",
      "Episode 1413\tTotal score (max over agents) this episode: 0.30000000447034836\n",
      "training done\n",
      "t_step: 1000 \t, sample_time: 0.002 \tupdate_time: 0.006 \tlearn_time: 0.082 \tsum: 4074.596 \tsize: 218037                        "
     ]
    },
    {
     "name": "stderr",
     "output_type": "stream",
     "text": [
      "training loop:  94% |#######################################   | ETA:   0:15:03\n"
     ]
    },
    {
     "name": "stdout",
     "output_type": "stream",
     "text": [
      "t_step: 1000 \t, sample_time: 0.003 \tupdate_time: 0.005 \tlearn_time: 0.014 \tsum: 4066.432 \tsize: 218038                        \n",
      "Episode 1414\tTotal score (max over agents) this episode: 2.600000038743019\n",
      "training done\n",
      "t_step: 550 \t, sample_time: 0.006 \tupdate_time: 0.007 \tlearn_time: 0.136 \tsum: 4077.305 \tsize: 219139                        "
     ]
    },
    {
     "name": "stderr",
     "output_type": "stream",
     "text": [
      "training loop:  94% |#######################################   | ETA:   0:14:57\n"
     ]
    },
    {
     "name": "stdout",
     "output_type": "stream",
     "text": [
      "t_step: 550 \t, sample_time: 0.003 \tupdate_time: 0.007 \tlearn_time: 0.030 \tsum: 4068.945 \tsize: 219140                        \n",
      "Episode 1415\tTotal score (max over agents) this episode: 1.5000000223517418\n",
      "training done\n",
      "t_step: 25 \t, sample_time: 0.005 \tupdate_time: 0.006 \tlearn_time: 0.014 \tsum: 4072.056 \tsize: 219197                        "
     ]
    },
    {
     "name": "stderr",
     "output_type": "stream",
     "text": [
      "training loop:  94% |#######################################   | ETA:   0:14:46\n"
     ]
    },
    {
     "name": "stdout",
     "output_type": "stream",
     "text": [
      "t_step: 25 \t, sample_time: 0.003 \tupdate_time: 0.009 \tlearn_time: 0.047 \tsum: 4067.122 \tsize: 219198                        \n",
      "Episode 1416\tTotal score (max over agents) this episode: 0.10000000149011612\n",
      "training done\n",
      "t_step: 1000 \t, sample_time: 0.003 \tupdate_time: 0.005 \tlearn_time: 0.052 \tsum: 4093.936 \tsize: 221207                        "
     ]
    },
    {
     "name": "stderr",
     "output_type": "stream",
     "text": [
      "training loop:  94% |#######################################   | ETA:   0:14:43\n"
     ]
    },
    {
     "name": "stdout",
     "output_type": "stream",
     "text": [
      "t_step: 1000 \t, sample_time: 0.003 \tupdate_time: 0.005 \tlearn_time: 0.015 \tsum: 4087.785 \tsize: 221208                        \n",
      "Episode 1417\tTotal score (max over agents) this episode: 2.600000038743019\n",
      "training done\n",
      "t_step: 1000 \t, sample_time: 0.003 \tupdate_time: 0.004 \tlearn_time: 0.045 \tsum: 4103.939 \tsize: 223209                                                                       "
     ]
    },
    {
     "name": "stderr",
     "output_type": "stream",
     "text": [
      "training loop:  94% |#######################################   | ETA:   0:14:40\n"
     ]
    },
    {
     "name": "stdout",
     "output_type": "stream",
     "text": [
      "t_step: 1000 \t, sample_time: 0.003 \tupdate_time: 0.005 \tlearn_time: 0.014 \tsum: 4099.555 \tsize: 223210                        \n",
      "Episode 1418\tTotal score (max over agents) this episode: 2.600000038743019\n",
      "training done\n",
      "t_step: 5 \t, sample_time: 0.003 \tupdate_time: 0.009 \tlearn_time: 0.023 \tsum: 4104.543 \tsize: 223221                        "
     ]
    },
    {
     "name": "stderr",
     "output_type": "stream",
     "text": [
      "training loop:  94% |#######################################   | ETA:   0:14:29\n"
     ]
    },
    {
     "name": "stdout",
     "output_type": "stream",
     "text": [
      "t_step: 5 \t, sample_time: 0.004 \tupdate_time: 0.006 \tlearn_time: 0.021 \tsum: 4097.356 \tsize: 223222                        \n",
      "Episode 1419\tTotal score (max over agents) this episode: 0.0\n",
      "training done\n",
      "t_step: 60 \t, sample_time: 0.003 \tupdate_time: 0.006 \tlearn_time: 0.025 \tsum: 4100.072 \tsize: 223346                        "
     ]
    },
    {
     "name": "stderr",
     "output_type": "stream",
     "text": [
      "training loop:  94% |#######################################   | ETA:   0:14:18\n"
     ]
    },
    {
     "name": "stdout",
     "output_type": "stream",
     "text": [
      "t_step: 65 \t, sample_time: 0.002 \tupdate_time: 0.006 \tlearn_time: 0.014 \tsum: 4100.130 \tsize: 223356                        \n",
      "Episode 1420\tTotal score (max over agents) this episode: 0.19000000320374966\n",
      "training done\n",
      "t_step: 25 \t, sample_time: 0.002 \tupdate_time: 0.005 \tlearn_time: 0.038 \tsum: 4105.364 \tsize: 223407                        "
     ]
    },
    {
     "name": "stderr",
     "output_type": "stream",
     "text": [
      "training loop:  94% |#######################################   | ETA:   0:14:07\n"
     ]
    },
    {
     "name": "stdout",
     "output_type": "stream",
     "text": [
      "t_step: 25 \t, sample_time: 0.004 \tupdate_time: 0.005 \tlearn_time: 0.030 \tsum: 4094.881 \tsize: 223408                        \n",
      "Episode 1421\tTotal score (max over agents) this episode: 0.10000000149011612\n",
      "training done\n",
      "t_step: 50 \t, sample_time: 0.003 \tupdate_time: 0.005 \tlearn_time: 0.054 \tsum: 4119.922 \tsize: 223517                        "
     ]
    },
    {
     "name": "stderr",
     "output_type": "stream",
     "text": [
      "training loop:  94% |#######################################   | ETA:   0:13:56\n"
     ]
    },
    {
     "name": "stdout",
     "output_type": "stream",
     "text": [
      "t_step: 50 \t, sample_time: 0.003 \tupdate_time: 0.006 \tlearn_time: 0.014 \tsum: 4112.137 \tsize: 223518                        \n",
      "Episode 1422\tTotal score (max over agents) this episode: 0.10000000149011612\n",
      "training done\n",
      "t_step: 25 \t, sample_time: 0.002 \tupdate_time: 0.006 \tlearn_time: 0.013 \tsum: 4109.633 \tsize: 223571                        "
     ]
    },
    {
     "name": "stderr",
     "output_type": "stream",
     "text": [
      "training loop:  94% |#######################################   | ETA:   0:13:45\n"
     ]
    },
    {
     "name": "stdout",
     "output_type": "stream",
     "text": [
      "t_step: 25 \t, sample_time: 0.005 \tupdate_time: 0.004 \tlearn_time: 0.015 \tsum: 4108.638 \tsize: 223572                        \n",
      "Episode 1423\tTotal score (max over agents) this episode: 0.09000000171363354\n",
      "training done\n",
      "t_step: 30 \t, sample_time: 0.003 \tupdate_time: 0.004 \tlearn_time: 0.015 \tsum: 4131.104 \tsize: 223641                        "
     ]
    },
    {
     "name": "stderr",
     "output_type": "stream",
     "text": [
      "training loop:  94% |#######################################   | ETA:   0:13:34\n"
     ]
    },
    {
     "name": "stdout",
     "output_type": "stream",
     "text": [
      "t_step: 30 \t, sample_time: 0.002 \tupdate_time: 0.006 \tlearn_time: 0.018 \tsum: 4123.850 \tsize: 223642                        \n",
      "Episode 1424\tTotal score (max over agents) this episode: 0.10000000149011612\n",
      "training done\n",
      "t_step: 55 \t, sample_time: 0.003 \tupdate_time: 0.007 \tlearn_time: 0.015 \tsum: 4138.952 \tsize: 223755                        "
     ]
    },
    {
     "name": "stderr",
     "output_type": "stream",
     "text": [
      "training loop:  95% |#######################################   | ETA:   0:13:23\n"
     ]
    },
    {
     "name": "stdout",
     "output_type": "stream",
     "text": [
      "t_step: 55 \t, sample_time: 0.004 \tupdate_time: 0.005 \tlearn_time: 0.029 \tsum: 4122.858 \tsize: 223756                        \n",
      "Episode 1425\tTotal score (max over agents) this episode: 0.10000000149011612\n",
      "training done\n",
      "t_step: 25 \t, sample_time: 0.003 \tupdate_time: 0.005 \tlearn_time: 0.018 \tsum: 4108.623 \tsize: 223809                        "
     ]
    },
    {
     "name": "stderr",
     "output_type": "stream",
     "text": [
      "training loop:  95% |#######################################   | ETA:   0:13:12\n"
     ]
    },
    {
     "name": "stdout",
     "output_type": "stream",
     "text": [
      "t_step: 25 \t, sample_time: 0.003 \tupdate_time: 0.009 \tlearn_time: 0.026 \tsum: 4104.318 \tsize: 223810                        \n",
      "Episode 1426\tTotal score (max over agents) this episode: 0.10000000149011612\n",
      "training done\n",
      "t_step: 30 \t, sample_time: 0.003 \tupdate_time: 0.011 \tlearn_time: 0.020 \tsum: 4129.776 \tsize: 223879                        "
     ]
    },
    {
     "name": "stderr",
     "output_type": "stream",
     "text": [
      "training loop:  95% |#######################################   | ETA:   0:13:01\n"
     ]
    },
    {
     "name": "stdout",
     "output_type": "stream",
     "text": [
      "t_step: 30 \t, sample_time: 0.005 \tupdate_time: 0.007 \tlearn_time: 0.055 \tsum: 4124.467 \tsize: 223880                        \n",
      "Episode 1427\tTotal score (max over agents) this episode: 0.10000000149011612\n",
      "training done\n",
      "t_step: 25 \t, sample_time: 0.004 \tupdate_time: 0.007 \tlearn_time: 0.016 \tsum: 4131.440 \tsize: 223931                        "
     ]
    },
    {
     "name": "stderr",
     "output_type": "stream",
     "text": [
      "training loop:  95% |#######################################   | ETA:   0:12:50\n"
     ]
    },
    {
     "name": "stdout",
     "output_type": "stream",
     "text": [
      "t_step: 25 \t, sample_time: 0.002 \tupdate_time: 0.006 \tlearn_time: 0.017 \tsum: 4127.517 \tsize: 223932                        \n",
      "Episode 1428\tTotal score (max over agents) this episode: 0.09000000171363354\n",
      "training done\n",
      "t_step: 65 \t, sample_time: 0.002 \tupdate_time: 0.004 \tlearn_time: 0.018 \tsum: 4127.626 \tsize: 224069                        "
     ]
    },
    {
     "name": "stderr",
     "output_type": "stream",
     "text": [
      "training loop:  95% |########################################  | ETA:   0:12:40\n"
     ]
    },
    {
     "name": "stdout",
     "output_type": "stream",
     "text": [
      "t_step: 65 \t, sample_time: 0.005 \tupdate_time: 0.008 \tlearn_time: 0.060 \tsum: 4122.343 \tsize: 224070                        \n",
      "Episode 1429\tTotal score (max over agents) this episode: 0.19000000320374966\n",
      "training done\n",
      "t_step: 25 \t, sample_time: 0.003 \tupdate_time: 0.006 \tlearn_time: 0.015 \tsum: 4134.752 \tsize: 224125                        "
     ]
    },
    {
     "name": "stderr",
     "output_type": "stream",
     "text": [
      "training loop:  95% |########################################  | ETA:   0:12:29\n"
     ]
    },
    {
     "name": "stdout",
     "output_type": "stream",
     "text": [
      "t_step: 25 \t, sample_time: 0.007 \tupdate_time: 0.008 \tlearn_time: 0.021 \tsum: 4132.565 \tsize: 224126                        \n",
      "Episode 1430\tTotal score (max over agents) this episode: 0.10000000149011612\n",
      "training done\n",
      "t_step: 30 \t, sample_time: 0.002 \tupdate_time: 0.004 \tlearn_time: 0.033 \tsum: 4141.195 \tsize: 224195                        "
     ]
    },
    {
     "name": "stderr",
     "output_type": "stream",
     "text": [
      "training loop:  95% |########################################  | ETA:   0:12:18\n"
     ]
    },
    {
     "name": "stdout",
     "output_type": "stream",
     "text": [
      "t_step: 30 \t, sample_time: 0.003 \tupdate_time: 0.005 \tlearn_time: 0.021 \tsum: 4133.314 \tsize: 224196                        \n",
      "Episode 1431\tTotal score (max over agents) this episode: 0.10000000149011612\n",
      "training done\n",
      "t_step: 65 \t, sample_time: 0.004 \tupdate_time: 0.006 \tlearn_time: 0.013 \tsum: 4150.977 \tsize: 224327                        "
     ]
    },
    {
     "name": "stderr",
     "output_type": "stream",
     "text": [
      "training loop:  95% |########################################  | ETA:   0:12:07\n"
     ]
    },
    {
     "name": "stdout",
     "output_type": "stream",
     "text": [
      "t_step: 65 \t, sample_time: 0.003 \tupdate_time: 0.005 \tlearn_time: 0.020 \tsum: 4145.470 \tsize: 224328                        \n",
      "Episode 1432\tTotal score (max over agents) this episode: 0.19000000320374966\n",
      "training done\n",
      "t_step: 30 \t, sample_time: 0.004 \tupdate_time: 0.005 \tlearn_time: 0.043 \tsum: 4137.347 \tsize: 224393                        "
     ]
    },
    {
     "name": "stderr",
     "output_type": "stream",
     "text": [
      "training loop:  95% |########################################  | ETA:   0:11:56\n"
     ]
    },
    {
     "name": "stdout",
     "output_type": "stream",
     "text": [
      "t_step: 30 \t, sample_time: 0.004 \tupdate_time: 0.006 \tlearn_time: 0.082 \tsum: 4128.054 \tsize: 224394                        \n",
      "Episode 1433\tTotal score (max over agents) this episode: 0.10000000149011612\n",
      "training done\n",
      "t_step: 25 \t, sample_time: 0.004 \tupdate_time: 0.007 \tlearn_time: 0.071 \tsum: 4121.010 \tsize: 224445                        "
     ]
    },
    {
     "name": "stderr",
     "output_type": "stream",
     "text": [
      "training loop:  95% |########################################  | ETA:   0:11:45\n"
     ]
    },
    {
     "name": "stdout",
     "output_type": "stream",
     "text": [
      "t_step: 25 \t, sample_time: 0.002 \tupdate_time: 0.005 \tlearn_time: 0.043 \tsum: 4117.814 \tsize: 224446                        \n",
      "Episode 1434\tTotal score (max over agents) this episode: 0.09000000171363354\n",
      "training done\n",
      "t_step: 30 \t, sample_time: 0.002 \tupdate_time: 0.005 \tlearn_time: 0.059 \tsum: 4119.179 \tsize: 224515                        "
     ]
    },
    {
     "name": "stderr",
     "output_type": "stream",
     "text": [
      "training loop:  95% |########################################  | ETA:   0:11:35\n"
     ]
    },
    {
     "name": "stdout",
     "output_type": "stream",
     "text": [
      "t_step: 30 \t, sample_time: 0.004 \tupdate_time: 0.005 \tlearn_time: 0.013 \tsum: 4111.630 \tsize: 224516                        \n",
      "Episode 1435\tTotal score (max over agents) this episode: 0.10000000149011612\n",
      "training done\n",
      "t_step: 25 \t, sample_time: 0.005 \tupdate_time: 0.006 \tlearn_time: 0.066 \tsum: 4136.160 \tsize: 224567                        "
     ]
    },
    {
     "name": "stderr",
     "output_type": "stream",
     "text": [
      "training loop:  95% |########################################  | ETA:   0:11:24\n"
     ]
    },
    {
     "name": "stdout",
     "output_type": "stream",
     "text": [
      "t_step: 25 \t, sample_time: 0.003 \tupdate_time: 0.007 \tlearn_time: 0.022 \tsum: 4127.900 \tsize: 224568                        \n",
      "Episode 1436\tTotal score (max over agents) this episode: 0.09000000171363354\n",
      "training done\n",
      "t_step: 25 \t, sample_time: 0.002 \tupdate_time: 0.007 \tlearn_time: 0.032 \tsum: 4132.706 \tsize: 224625                        "
     ]
    },
    {
     "name": "stderr",
     "output_type": "stream",
     "text": [
      "training loop:  95% |########################################  | ETA:   0:11:13\n"
     ]
    },
    {
     "name": "stdout",
     "output_type": "stream",
     "text": [
      "t_step: 25 \t, sample_time: 0.003 \tupdate_time: 0.009 \tlearn_time: 0.023 \tsum: 4129.088 \tsize: 224626                        \n",
      "Episode 1437\tTotal score (max over agents) this episode: 0.09000000171363354\n",
      "training done\n",
      "t_step: 25 \t, sample_time: 0.002 \tupdate_time: 0.007 \tlearn_time: 0.048 \tsum: 4163.296 \tsize: 224685                        "
     ]
    },
    {
     "name": "stderr",
     "output_type": "stream",
     "text": [
      "training loop:  95% |########################################  | ETA:   0:11:02\n"
     ]
    },
    {
     "name": "stdout",
     "output_type": "stream",
     "text": [
      "t_step: 25 \t, sample_time: 0.004 \tupdate_time: 0.021 \tlearn_time: 0.175 \tsum: 4153.285 \tsize: 224686                        \n",
      "Episode 1438\tTotal score (max over agents) this episode: 0.09000000171363354\n",
      "training done\n",
      "t_step: 30 \t, sample_time: 0.005 \tupdate_time: 0.006 \tlearn_time: 0.025 \tsum: 4149.403 \tsize: 224753                        "
     ]
    },
    {
     "name": "stderr",
     "output_type": "stream",
     "text": [
      "training loop:  95% |########################################  | ETA:   0:10:51\n"
     ]
    },
    {
     "name": "stdout",
     "output_type": "stream",
     "text": [
      "t_step: 30 \t, sample_time: 0.005 \tupdate_time: 0.005 \tlearn_time: 0.013 \tsum: 4145.904 \tsize: 224754                        \n",
      "Episode 1439\tTotal score (max over agents) this episode: 0.10000000149011612\n",
      "training done\n",
      "t_step: 25 \t, sample_time: 0.002 \tupdate_time: 0.006 \tlearn_time: 0.016 \tsum: 4157.559 \tsize: 224805                        "
     ]
    },
    {
     "name": "stderr",
     "output_type": "stream",
     "text": [
      "training loop:  96% |########################################  | ETA:   0:10:40\n"
     ]
    },
    {
     "name": "stdout",
     "output_type": "stream",
     "text": [
      "t_step: 25 \t, sample_time: 0.002 \tupdate_time: 0.008 \tlearn_time: 0.018 \tsum: 4152.532 \tsize: 224806                        \n",
      "Episode 1440\tTotal score (max over agents) this episode: 0.10000000149011612\n",
      "training done\n",
      "t_step: 25 \t, sample_time: 0.003 \tupdate_time: 0.005 \tlearn_time: 0.024 \tsum: 4154.724 \tsize: 224865                        "
     ]
    },
    {
     "name": "stderr",
     "output_type": "stream",
     "text": [
      "training loop:  96% |########################################  | ETA:   0:10:29\n"
     ]
    },
    {
     "name": "stdout",
     "output_type": "stream",
     "text": [
      "t_step: 25 \t, sample_time: 0.002 \tupdate_time: 0.005 \tlearn_time: 0.132 \tsum: 4146.779 \tsize: 224866                        \n",
      "Episode 1441\tTotal score (max over agents) this episode: 0.09000000171363354\n",
      "training done\n",
      "t_step: 30 \t, sample_time: 0.003 \tupdate_time: 0.004 \tlearn_time: 0.032 \tsum: 4159.501 \tsize: 224935                        "
     ]
    },
    {
     "name": "stderr",
     "output_type": "stream",
     "text": [
      "training loop:  96% |########################################  | ETA:   0:10:19\n"
     ]
    },
    {
     "name": "stdout",
     "output_type": "stream",
     "text": [
      "t_step: 30 \t, sample_time: 0.004 \tupdate_time: 0.008 \tlearn_time: 0.017 \tsum: 4152.151 \tsize: 224936                        \n",
      "Episode 1442\tTotal score (max over agents) this episode: 0.10000000149011612\n",
      "training done\n",
      "t_step: 30 \t, sample_time: 0.003 \tupdate_time: 0.006 \tlearn_time: 0.020 \tsum: 4160.967 \tsize: 224997                        "
     ]
    },
    {
     "name": "stderr",
     "output_type": "stream",
     "text": [
      "training loop:  96% |########################################  | ETA:   0:10:08\n"
     ]
    },
    {
     "name": "stdout",
     "output_type": "stream",
     "text": [
      "t_step: 30 \t, sample_time: 0.003 \tupdate_time: 0.004 \tlearn_time: 0.012 \tsum: 4156.375 \tsize: 224998                        \n",
      "Episode 1443\tTotal score (max over agents) this episode: 0.10000000149011612\n",
      "training done\n",
      "t_step: 25 \t, sample_time: 0.002 \tupdate_time: 0.005 \tlearn_time: 0.024 \tsum: 4162.695 \tsize: 225051                        "
     ]
    },
    {
     "name": "stderr",
     "output_type": "stream",
     "text": [
      "training loop:  96% |########################################  | ETA:   0:09:57\n"
     ]
    },
    {
     "name": "stdout",
     "output_type": "stream",
     "text": [
      "t_step: 25 \t, sample_time: 0.004 \tupdate_time: 0.008 \tlearn_time: 0.027 \tsum: 4157.535 \tsize: 225052                        \n",
      "Episode 1444\tTotal score (max over agents) this episode: 0.09000000171363354\n",
      "training done\n",
      "t_step: 25 \t, sample_time: 0.002 \tupdate_time: 0.008 \tlearn_time: 0.030 \tsum: 4146.511 \tsize: 225111                        "
     ]
    },
    {
     "name": "stderr",
     "output_type": "stream",
     "text": [
      "training loop:  96% |########################################  | ETA:   0:09:46\n"
     ]
    },
    {
     "name": "stdout",
     "output_type": "stream",
     "text": [
      "t_step: 25 \t, sample_time: 0.002 \tupdate_time: 0.005 \tlearn_time: 0.014 \tsum: 4141.639 \tsize: 225112                        \n",
      "Episode 1445\tTotal score (max over agents) this episode: 0.10000000149011612\n",
      "training done\n",
      "t_step: 25 \t, sample_time: 0.002 \tupdate_time: 0.010 \tlearn_time: 0.023 \tsum: 4168.427 \tsize: 225171                        "
     ]
    },
    {
     "name": "stderr",
     "output_type": "stream",
     "text": [
      "training loop:  96% |########################################  | ETA:   0:09:35\n"
     ]
    },
    {
     "name": "stdout",
     "output_type": "stream",
     "text": [
      "t_step: 25 \t, sample_time: 0.005 \tupdate_time: 0.006 \tlearn_time: 0.019 \tsum: 4159.118 \tsize: 225172                        \n",
      "Episode 1446\tTotal score (max over agents) this episode: 0.09000000171363354\n",
      "training done\n",
      "t_step: 25 \t, sample_time: 0.008 \tupdate_time: 0.005 \tlearn_time: 0.023 \tsum: 4173.072 \tsize: 225229                        "
     ]
    },
    {
     "name": "stderr",
     "output_type": "stream",
     "text": [
      "training loop:  96% |########################################  | ETA:   0:09:24\n"
     ]
    },
    {
     "name": "stdout",
     "output_type": "stream",
     "text": [
      "t_step: 25 \t, sample_time: 0.007 \tupdate_time: 0.008 \tlearn_time: 0.034 \tsum: 4158.958 \tsize: 225230                        \n",
      "Episode 1447\tTotal score (max over agents) this episode: 0.10000000149011612\n",
      "training done\n",
      "t_step: 65 \t, sample_time: 0.004 \tupdate_time: 0.009 \tlearn_time: 0.021 \tsum: 4172.368 \tsize: 225369                        "
     ]
    },
    {
     "name": "stderr",
     "output_type": "stream",
     "text": [
      "training loop:  96% |########################################  | ETA:   0:09:13\n"
     ]
    },
    {
     "name": "stdout",
     "output_type": "stream",
     "text": [
      "t_step: 65 \t, sample_time: 0.003 \tupdate_time: 0.005 \tlearn_time: 0.014 \tsum: 4162.987 \tsize: 225370                        \n",
      "Episode 1448\tTotal score (max over agents) this episode: 0.20000000298023224\n",
      "training done\n",
      "t_step: 25 \t, sample_time: 0.004 \tupdate_time: 0.004 \tlearn_time: 0.013 \tsum: 4165.951 \tsize: 225427                        "
     ]
    },
    {
     "name": "stderr",
     "output_type": "stream",
     "text": [
      "training loop:  96% |########################################  | ETA:   0:09:03\n"
     ]
    },
    {
     "name": "stdout",
     "output_type": "stream",
     "text": [
      "t_step: 25 \t, sample_time: 0.004 \tupdate_time: 0.004 \tlearn_time: 0.014 \tsum: 4161.142 \tsize: 225428                        \n",
      "Episode 1449\tTotal score (max over agents) this episode: 0.10000000149011612\n",
      "training done\n",
      "t_step: 30 \t, sample_time: 0.004 \tupdate_time: 0.004 \tlearn_time: 0.011 \tsum: 4171.095 \tsize: 225497                        "
     ]
    },
    {
     "name": "stderr",
     "output_type": "stream",
     "text": [
      "training loop:  96% |########################################  | ETA:   0:08:52\n"
     ]
    },
    {
     "name": "stdout",
     "output_type": "stream",
     "text": [
      "t_step: 30 \t, sample_time: 0.003 \tupdate_time: 0.007 \tlearn_time: 0.014 \tsum: 4151.119 \tsize: 225498                        \n",
      "Episode 1450\tTotal score (max over agents) this episode: 0.10000000149011612\n",
      "training done\n",
      "t_step: 65 \t, sample_time: 0.003 \tupdate_time: 0.006 \tlearn_time: 0.017 \tsum: 4177.425 \tsize: 225631                        "
     ]
    },
    {
     "name": "stderr",
     "output_type": "stream",
     "text": [
      "training loop:  96% |########################################  | ETA:   0:08:41\n"
     ]
    },
    {
     "name": "stdout",
     "output_type": "stream",
     "text": [
      "t_step: 65 \t, sample_time: 0.003 \tupdate_time: 0.007 \tlearn_time: 0.016 \tsum: 4162.038 \tsize: 225632                        \n",
      "Episode 1451\tTotal score (max over agents) this episode: 0.19000000320374966\n",
      "training done\n",
      "t_step: 60 \t, sample_time: 0.009 \tupdate_time: 0.008 \tlearn_time: 0.030 \tsum: 4147.252 \tsize: 225758                        "
     ]
    },
    {
     "name": "stderr",
     "output_type": "stream",
     "text": [
      "training loop:  96% |########################################  | ETA:   0:08:30\n"
     ]
    },
    {
     "name": "stdout",
     "output_type": "stream",
     "text": [
      "t_step: 65 \t, sample_time: 0.004 \tupdate_time: 0.004 \tlearn_time: 0.010 \tsum: 4147.631 \tsize: 225768                        \n",
      "Episode 1452\tTotal score (max over agents) this episode: 0.10000000149011612\n",
      "training done\n",
      "t_step: 25 \t, sample_time: 0.002 \tupdate_time: 0.004 \tlearn_time: 0.016 \tsum: 4162.073 \tsize: 225827                        "
     ]
    },
    {
     "name": "stderr",
     "output_type": "stream",
     "text": [
      "training loop:  96% |########################################  | ETA:   0:08:20\n"
     ]
    },
    {
     "name": "stdout",
     "output_type": "stream",
     "text": [
      "t_step: 25 \t, sample_time: 0.004 \tupdate_time: 0.005 \tlearn_time: 0.032 \tsum: 4155.364 \tsize: 225828                        \n",
      "Episode 1453\tTotal score (max over agents) this episode: 0.10000000149011612\n",
      "training done\n",
      "t_step: 50 \t, sample_time: 0.002 \tupdate_time: 0.005 \tlearn_time: 0.019 \tsum: 4165.669 \tsize: 225937                        "
     ]
    },
    {
     "name": "stderr",
     "output_type": "stream",
     "text": [
      "training loop:  96% |########################################  | ETA:   0:08:09\n"
     ]
    },
    {
     "name": "stdout",
     "output_type": "stream",
     "text": [
      "t_step: 50 \t, sample_time: 0.002 \tupdate_time: 0.008 \tlearn_time: 0.033 \tsum: 4164.481 \tsize: 225938                        \n",
      "Episode 1454\tTotal score (max over agents) this episode: 0.10000000149011612\n",
      "training done\n",
      "t_step: 65 \t, sample_time: 0.003 \tupdate_time: 0.005 \tlearn_time: 0.017 \tsum: 4175.727 \tsize: 226071                        "
     ]
    },
    {
     "name": "stderr",
     "output_type": "stream",
     "text": [
      "training loop:  97% |########################################  | ETA:   0:07:58\n"
     ]
    },
    {
     "name": "stdout",
     "output_type": "stream",
     "text": [
      "t_step: 65 \t, sample_time: 0.003 \tupdate_time: 0.010 \tlearn_time: 0.088 \tsum: 4171.564 \tsize: 226072                        \n",
      "Episode 1455\tTotal score (max over agents) this episode: 0.20000000298023224\n",
      "training done\n",
      "t_step: 25 \t, sample_time: 0.003 \tupdate_time: 0.009 \tlearn_time: 0.025 \tsum: 4175.863 \tsize: 226128                        "
     ]
    },
    {
     "name": "stderr",
     "output_type": "stream",
     "text": [
      "training loop:  97% |########################################  | ETA:   0:07:47\n"
     ]
    },
    {
     "name": "stdout",
     "output_type": "stream",
     "text": [
      "\n",
      "Episode 1456\tTotal score (max over agents) this episode: 0.09000000171363354\n",
      "training done\n",
      "t_step: 25 \t, sample_time: 0.003 \tupdate_time: 0.006 \tlearn_time: 0.015 \tsum: 4167.167 \tsize: 226187                        "
     ]
    },
    {
     "name": "stderr",
     "output_type": "stream",
     "text": [
      "training loop:  97% |########################################  | ETA:   0:07:36\n"
     ]
    },
    {
     "name": "stdout",
     "output_type": "stream",
     "text": [
      "t_step: 25 \t, sample_time: 0.002 \tupdate_time: 0.004 \tlearn_time: 0.014 \tsum: 4163.560 \tsize: 226188                        \n",
      "Episode 1457\tTotal score (max over agents) this episode: 0.09000000171363354\n",
      "training done\n",
      "t_step: 25 \t, sample_time: 0.003 \tupdate_time: 0.007 \tlearn_time: 0.087 \tsum: 4189.995 \tsize: 226247                        "
     ]
    },
    {
     "name": "stderr",
     "output_type": "stream",
     "text": [
      "training loop:  97% |########################################  | ETA:   0:07:26\n"
     ]
    },
    {
     "name": "stdout",
     "output_type": "stream",
     "text": [
      "t_step: 25 \t, sample_time: 0.003 \tupdate_time: 0.005 \tlearn_time: 0.027 \tsum: 4176.759 \tsize: 226248                        \n",
      "Episode 1458\tTotal score (max over agents) this episode: 0.09000000171363354\n",
      "training done\n",
      "t_step: 25 \t, sample_time: 0.003 \tupdate_time: 0.007 \tlearn_time: 0.017 \tsum: 4175.416 \tsize: 226307                        "
     ]
    },
    {
     "name": "stderr",
     "output_type": "stream",
     "text": [
      "training loop:  97% |########################################  | ETA:   0:07:15\n"
     ]
    },
    {
     "name": "stdout",
     "output_type": "stream",
     "text": [
      "t_step: 25 \t, sample_time: 0.003 \tupdate_time: 0.008 \tlearn_time: 0.031 \tsum: 4166.551 \tsize: 226308                        \n",
      "Episode 1459\tTotal score (max over agents) this episode: 0.10000000149011612\n",
      "training done\n",
      "t_step: 25 \t, sample_time: 0.004 \tupdate_time: 0.007 \tlearn_time: 0.016 \tsum: 4170.661 \tsize: 226367                        "
     ]
    },
    {
     "name": "stderr",
     "output_type": "stream",
     "text": [
      "training loop:  97% |########################################  | ETA:   0:07:04\n"
     ]
    },
    {
     "name": "stdout",
     "output_type": "stream",
     "text": [
      "t_step: 25 \t, sample_time: 0.005 \tupdate_time: 0.005 \tlearn_time: 0.020 \tsum: 4158.545 \tsize: 226368                        \n",
      "Episode 1460\tTotal score (max over agents) this episode: 0.09000000171363354\n",
      "training done\n",
      "t_step: 30 \t, sample_time: 0.010 \tupdate_time: 0.011 \tlearn_time: 0.019 \tsum: 4187.080 \tsize: 226437                        "
     ]
    },
    {
     "name": "stderr",
     "output_type": "stream",
     "text": [
      "training loop:  97% |########################################  | ETA:   0:06:53\n"
     ]
    },
    {
     "name": "stdout",
     "output_type": "stream",
     "text": [
      "t_step: 30 \t, sample_time: 0.003 \tupdate_time: 0.005 \tlearn_time: 0.029 \tsum: 4173.598 \tsize: 226438                        \n",
      "Episode 1461\tTotal score (max over agents) this episode: 0.10000000149011612\n",
      "t_step: 25 \t, sample_time: 0.002 \tupdate_time: 0.005 \tlearn_time: 0.015 \tsum: 4162.873 \tsize: 226489                        "
     ]
    },
    {
     "name": "stderr",
     "output_type": "stream",
     "text": [
      "training loop:  97% |########################################  | ETA:   0:06:43\n"
     ]
    },
    {
     "name": "stdout",
     "output_type": "stream",
     "text": [
      "t_step: 25 \t, sample_time: 0.003 \tupdate_time: 0.005 \tlearn_time: 0.012 \tsum: 4163.983 \tsize: 226490                        \n",
      "Episode 1462\tTotal score (max over agents) this episode: 0.09000000171363354\n",
      "t_step: 85 \t, sample_time: 0.003 \tupdate_time: 0.005 \tlearn_time: 0.016 \tsum: 4155.090 \tsize: 226670                        "
     ]
    },
    {
     "name": "stderr",
     "output_type": "stream",
     "text": [
      "training loop:  97% |########################################  | ETA:   0:06:32\n"
     ]
    },
    {
     "name": "stdout",
     "output_type": "stream",
     "text": [
      "t_step: 90 \t, sample_time: 0.003 \tupdate_time: 0.008 \tlearn_time: 0.016 \tsum: 4153.422 \tsize: 226680                        \n",
      "Episode 1463\tTotal score (max over agents) this episode: 0.20000000298023224\n",
      "t_step: 55 \t, sample_time: 0.003 \tupdate_time: 0.005 \tlearn_time: 0.016 \tsum: 4176.927 \tsize: 226791                        "
     ]
    },
    {
     "name": "stderr",
     "output_type": "stream",
     "text": [
      "training loop:  97% |########################################  | ETA:   0:06:21\n"
     ]
    },
    {
     "name": "stdout",
     "output_type": "stream",
     "text": [
      "t_step: 55 \t, sample_time: 0.007 \tupdate_time: 0.005 \tlearn_time: 0.018 \tsum: 4168.299 \tsize: 226792                        \n",
      "Episode 1464\tTotal score (max over agents) this episode: 0.10000000149011612\n",
      "t_step: 30 \t, sample_time: 0.002 \tupdate_time: 0.004 \tlearn_time: 0.015 \tsum: 4186.398 \tsize: 226857                        "
     ]
    },
    {
     "name": "stderr",
     "output_type": "stream",
     "text": [
      "training loop:  97% |######################################### | ETA:   0:06:11\n"
     ]
    },
    {
     "name": "stdout",
     "output_type": "stream",
     "text": [
      "t_step: 30 \t, sample_time: 0.004 \tupdate_time: 0.010 \tlearn_time: 0.066 \tsum: 4179.092 \tsize: 226858                        \n",
      "Episode 1465\tTotal score (max over agents) this episode: 0.10000000149011612\n",
      "t_step: 25 \t, sample_time: 0.002 \tupdate_time: 0.004 \tlearn_time: 0.013 \tsum: 4187.878 \tsize: 226911                        "
     ]
    },
    {
     "name": "stderr",
     "output_type": "stream",
     "text": [
      "training loop:  97% |######################################### | ETA:   0:06:00\n"
     ]
    },
    {
     "name": "stdout",
     "output_type": "stream",
     "text": [
      "t_step: 25 \t, sample_time: 0.004 \tupdate_time: 0.005 \tlearn_time: 0.022 \tsum: 4179.225 \tsize: 226912                        \n",
      "Episode 1466\tTotal score (max over agents) this episode: 0.10000000149011612\n",
      "t_step: 255 \t, sample_time: 0.003 \tupdate_time: 0.004 \tlearn_time: 0.011 \tsum: 4224.584 \tsize: 227431                        "
     ]
    },
    {
     "name": "stderr",
     "output_type": "stream",
     "text": [
      "training loop:  97% |######################################### | ETA:   0:05:50\n"
     ]
    },
    {
     "name": "stdout",
     "output_type": "stream",
     "text": [
      "t_step: 255 \t, sample_time: 0.003 \tupdate_time: 0.007 \tlearn_time: 0.022 \tsum: 4218.644 \tsize: 227432                        \n",
      "Episode 1467\tTotal score (max over agents) this episode: 0.6900000106543303\n",
      "t_step: 20 \t, sample_time: 0.003 \tupdate_time: 0.004 \tlearn_time: 0.021 \tsum: 4227.802 \tsize: 227478                        "
     ]
    },
    {
     "name": "stderr",
     "output_type": "stream",
     "text": [
      "training loop:  97% |######################################### | ETA:   0:05:39\n"
     ]
    },
    {
     "name": "stdout",
     "output_type": "stream",
     "text": [
      "t_step: 25 \t, sample_time: 0.002 \tupdate_time: 0.004 \tlearn_time: 0.011 \tsum: 4228.882 \tsize: 227488                        \n",
      "Episode 1468\tTotal score (max over agents) this episode: 0.10000000149011612\n",
      "t_step: 100 \t, sample_time: 0.003 \tupdate_time: 0.005 \tlearn_time: 0.025 \tsum: 4217.570 \tsize: 227697                        "
     ]
    },
    {
     "name": "stderr",
     "output_type": "stream",
     "text": [
      "training loop:  97% |######################################### | ETA:   0:05:28\n"
     ]
    },
    {
     "name": "stdout",
     "output_type": "stream",
     "text": [
      "t_step: 100 \t, sample_time: 0.003 \tupdate_time: 0.008 \tlearn_time: 0.021 \tsum: 4206.630 \tsize: 227698                        \n",
      "Episode 1469\tTotal score (max over agents) this episode: 0.30000000447034836\n",
      "t_step: 140 \t, sample_time: 0.004 \tupdate_time: 0.006 \tlearn_time: 0.044 \tsum: 4214.597 \tsize: 227985                                              "
     ]
    },
    {
     "name": "stderr",
     "output_type": "stream",
     "text": [
      "training loop:  98% |######################################### | ETA:   0:05:18\n"
     ]
    },
    {
     "name": "stdout",
     "output_type": "stream",
     "text": [
      "t_step: 140 \t, sample_time: 0.002 \tupdate_time: 0.006 \tlearn_time: 0.057 \tsum: 4210.082 \tsize: 227986                        \n",
      "Episode 1470\tTotal score (max over agents) this episode: 0.4000000059604645\n",
      "t_step: 25 \t, sample_time: 0.003 \tupdate_time: 0.006 \tlearn_time: 0.015 \tsum: 4224.651 \tsize: 228041                        "
     ]
    },
    {
     "name": "stderr",
     "output_type": "stream",
     "text": [
      "training loop:  98% |######################################### | ETA:   0:05:07\n"
     ]
    },
    {
     "name": "stdout",
     "output_type": "stream",
     "text": [
      "t_step: 25 \t, sample_time: 0.003 \tupdate_time: 0.008 \tlearn_time: 0.044 \tsum: 4215.703 \tsize: 228042                        \n",
      "Episode 1471\tTotal score (max over agents) this episode: 0.10000000149011612\n",
      "t_step: 40 \t, sample_time: 0.005 \tupdate_time: 0.011 \tlearn_time: 0.043 \tsum: 4228.757 \tsize: 228131                        "
     ]
    },
    {
     "name": "stderr",
     "output_type": "stream",
     "text": [
      "training loop:  98% |######################################### | ETA:   0:04:57\n"
     ]
    },
    {
     "name": "stdout",
     "output_type": "stream",
     "text": [
      "t_step: 40 \t, sample_time: 0.004 \tupdate_time: 0.008 \tlearn_time: 0.052 \tsum: 4225.273 \tsize: 228132                        \n",
      "Episode 1472\tTotal score (max over agents) this episode: 0.0\n",
      "t_step: 30 \t, sample_time: 0.003 \tupdate_time: 0.011 \tlearn_time: 0.043 \tsum: 4238.512 \tsize: 228195                        "
     ]
    },
    {
     "name": "stderr",
     "output_type": "stream",
     "text": [
      "training loop:  98% |######################################### | ETA:   0:04:46\n"
     ]
    },
    {
     "name": "stdout",
     "output_type": "stream",
     "text": [
      "t_step: 30 \t, sample_time: 0.003 \tupdate_time: 0.008 \tlearn_time: 0.029 \tsum: 4228.875 \tsize: 228196                        \n",
      "Episode 1473\tTotal score (max over agents) this episode: 0.09000000171363354\n",
      "t_step: 30 \t, sample_time: 0.003 \tupdate_time: 0.007 \tlearn_time: 0.032 \tsum: 4232.830 \tsize: 228257                        "
     ]
    },
    {
     "name": "stderr",
     "output_type": "stream",
     "text": [
      "training loop:  98% |######################################### | ETA:   0:04:35\n"
     ]
    },
    {
     "name": "stdout",
     "output_type": "stream",
     "text": [
      "t_step: 30 \t, sample_time: 0.002 \tupdate_time: 0.010 \tlearn_time: 0.062 \tsum: 4226.482 \tsize: 228258                        \n",
      "Episode 1474\tTotal score (max over agents) this episode: 0.10000000149011612\n",
      "t_step: 140 \t, sample_time: 0.003 \tupdate_time: 0.007 \tlearn_time: 0.039 \tsum: 4218.342 \tsize: 228541                        "
     ]
    },
    {
     "name": "stderr",
     "output_type": "stream",
     "text": [
      "training loop:  98% |######################################### | ETA:   0:04:25\n"
     ]
    },
    {
     "name": "stdout",
     "output_type": "stream",
     "text": [
      "t_step: 140 \t, sample_time: 0.003 \tupdate_time: 0.010 \tlearn_time: 0.022 \tsum: 4215.454 \tsize: 228542                        \n",
      "Episode 1475\tTotal score (max over agents) this episode: 0.4000000059604645\n",
      "t_step: 180 \t, sample_time: 0.002 \tupdate_time: 0.006 \tlearn_time: 0.038 \tsum: 4238.121 \tsize: 228903                        "
     ]
    },
    {
     "name": "stderr",
     "output_type": "stream",
     "text": [
      "training loop:  98% |######################################### | ETA:   0:04:15\n"
     ]
    },
    {
     "name": "stdout",
     "output_type": "stream",
     "text": [
      "t_step: 180 \t, sample_time: 0.002 \tupdate_time: 0.004 \tlearn_time: 0.035 \tsum: 4238.404 \tsize: 228904                        \n",
      "Episode 1476\tTotal score (max over agents) this episode: 0.490000007674098\n",
      "t_step: 25 \t, sample_time: 0.002 \tupdate_time: 0.007 \tlearn_time: 0.025 \tsum: 4226.882 \tsize: 228955                        "
     ]
    },
    {
     "name": "stderr",
     "output_type": "stream",
     "text": [
      "training loop:  98% |######################################### | ETA:   0:04:04\n"
     ]
    },
    {
     "name": "stdout",
     "output_type": "stream",
     "text": [
      "t_step: 25 \t, sample_time: 0.003 \tupdate_time: 0.007 \tlearn_time: 0.017 \tsum: 4219.505 \tsize: 228956                        \n",
      "Episode 1477\tTotal score (max over agents) this episode: 0.10000000149011612\n",
      "t_step: 25 \t, sample_time: 0.003 \tupdate_time: 0.005 \tlearn_time: 0.014 \tsum: 4232.870 \tsize: 229015                        "
     ]
    },
    {
     "name": "stderr",
     "output_type": "stream",
     "text": [
      "training loop:  98% |######################################### | ETA:   0:03:53\n"
     ]
    },
    {
     "name": "stdout",
     "output_type": "stream",
     "text": [
      "t_step: 25 \t, sample_time: 0.002 \tupdate_time: 0.004 \tlearn_time: 0.011 \tsum: 4226.257 \tsize: 229016                        \n",
      "Episode 1478\tTotal score (max over agents) this episode: 0.10000000149011612\n",
      "t_step: 25 \t, sample_time: 0.003 \tupdate_time: 0.006 \tlearn_time: 0.056 \tsum: 4236.855 \tsize: 229075                        "
     ]
    },
    {
     "name": "stderr",
     "output_type": "stream",
     "text": [
      "training loop:  98% |######################################### | ETA:   0:03:42\n"
     ]
    },
    {
     "name": "stdout",
     "output_type": "stream",
     "text": [
      "t_step: 25 \t, sample_time: 0.003 \tupdate_time: 0.011 \tlearn_time: 0.024 \tsum: 4230.231 \tsize: 229076                        \n",
      "Episode 1479\tTotal score (max over agents) this episode: 0.09000000171363354\n",
      "t_step: 25 \t, sample_time: 0.004 \tupdate_time: 0.009 \tlearn_time: 0.132 \tsum: 4246.168 \tsize: 229135                        "
     ]
    },
    {
     "name": "stderr",
     "output_type": "stream",
     "text": [
      "training loop:  98% |######################################### | ETA:   0:03:32\n"
     ]
    },
    {
     "name": "stdout",
     "output_type": "stream",
     "text": [
      "t_step: 25 \t, sample_time: 0.002 \tupdate_time: 0.004 \tlearn_time: 0.047 \tsum: 4232.682 \tsize: 229136                        \n",
      "Episode 1480\tTotal score (max over agents) this episode: 0.10000000149011612\n",
      "t_step: 25 \t, sample_time: 0.003 \tupdate_time: 0.008 \tlearn_time: 0.022 \tsum: 4255.723 \tsize: 229195                        "
     ]
    },
    {
     "name": "stderr",
     "output_type": "stream",
     "text": [
      "training loop:  98% |######################################### | ETA:   0:03:21\n"
     ]
    },
    {
     "name": "stdout",
     "output_type": "stream",
     "text": [
      "t_step: 25 \t, sample_time: 0.003 \tupdate_time: 0.006 \tlearn_time: 0.032 \tsum: 4244.137 \tsize: 229196                        \n",
      "Episode 1481\tTotal score (max over agents) this episode: 0.10000000149011612\n",
      "t_step: 25 \t, sample_time: 0.005 \tupdate_time: 0.008 \tlearn_time: 0.039 \tsum: 4244.049 \tsize: 229255                        "
     ]
    },
    {
     "name": "stderr",
     "output_type": "stream",
     "text": [
      "training loop:  98% |######################################### | ETA:   0:03:10\n"
     ]
    },
    {
     "name": "stdout",
     "output_type": "stream",
     "text": [
      "t_step: 25 \t, sample_time: 0.003 \tupdate_time: 0.006 \tlearn_time: 0.020 \tsum: 4240.405 \tsize: 229256                        \n",
      "Episode 1482\tTotal score (max over agents) this episode: 0.09000000171363354\n",
      "t_step: 60 \t, sample_time: 0.004 \tupdate_time: 0.008 \tlearn_time: 0.015 \tsum: 4254.033 \tsize: 229385                        "
     ]
    },
    {
     "name": "stderr",
     "output_type": "stream",
     "text": [
      "training loop:  98% |######################################### | ETA:   0:03:00\n"
     ]
    },
    {
     "name": "stdout",
     "output_type": "stream",
     "text": [
      "t_step: 60 \t, sample_time: 0.003 \tupdate_time: 0.010 \tlearn_time: 0.018 \tsum: 4244.935 \tsize: 229386                        \n",
      "Episode 1483\tTotal score (max over agents) this episode: 0.20000000298023224\n",
      "t_step: 30 \t, sample_time: 0.005 \tupdate_time: 0.007 \tlearn_time: 0.019 \tsum: 4258.987 \tsize: 229455                        "
     ]
    },
    {
     "name": "stderr",
     "output_type": "stream",
     "text": [
      "training loop:  98% |######################################### | ETA:   0:02:49\n"
     ]
    },
    {
     "name": "stdout",
     "output_type": "stream",
     "text": [
      "t_step: 30 \t, sample_time: 0.004 \tupdate_time: 0.005 \tlearn_time: 0.014 \tsum: 4250.853 \tsize: 229456                        \n",
      "Episode 1484\tTotal score (max over agents) this episode: 0.09000000171363354\n",
      "t_step: 25 \t, sample_time: 0.004 \tupdate_time: 0.005 \tlearn_time: 0.013 \tsum: 4246.391 \tsize: 229507                        "
     ]
    },
    {
     "name": "stderr",
     "output_type": "stream",
     "text": [
      "training loop:  99% |######################################### | ETA:   0:02:38\n"
     ]
    },
    {
     "name": "stdout",
     "output_type": "stream",
     "text": [
      "t_step: 25 \t, sample_time: 0.006 \tupdate_time: 0.013 \tlearn_time: 0.027 \tsum: 4236.261 \tsize: 229508                        \n",
      "Episode 1485\tTotal score (max over agents) this episode: 0.10000000149011612\n",
      "t_step: 30 \t, sample_time: 0.003 \tupdate_time: 0.008 \tlearn_time: 0.019 \tsum: 4257.570 \tsize: 229575                        "
     ]
    },
    {
     "name": "stderr",
     "output_type": "stream",
     "text": [
      "training loop:  99% |######################################### | ETA:   0:02:28\n"
     ]
    },
    {
     "name": "stdout",
     "output_type": "stream",
     "text": [
      "t_step: 30 \t, sample_time: 0.004 \tupdate_time: 0.011 \tlearn_time: 0.026 \tsum: 4244.646 \tsize: 229576                        \n",
      "Episode 1486\tTotal score (max over agents) this episode: 0.10000000149011612\n",
      "t_step: 65 \t, sample_time: 0.003 \tupdate_time: 0.007 \tlearn_time: 0.017 \tsum: 4265.344 \tsize: 229709                        "
     ]
    },
    {
     "name": "stderr",
     "output_type": "stream",
     "text": [
      "training loop:  99% |######################################### | ETA:   0:02:17\n"
     ]
    },
    {
     "name": "stdout",
     "output_type": "stream",
     "text": [
      "t_step: 65 \t, sample_time: 0.003 \tupdate_time: 0.008 \tlearn_time: 0.040 \tsum: 4256.686 \tsize: 229710                        \n",
      "Episode 1487\tTotal score (max over agents) this episode: 0.20000000298023224\n",
      "t_step: 30 \t, sample_time: 0.004 \tupdate_time: 0.006 \tlearn_time: 0.025 \tsum: 4253.575 \tsize: 229777                        "
     ]
    },
    {
     "name": "stderr",
     "output_type": "stream",
     "text": [
      "training loop:  99% |######################################### | ETA:   0:02:07\n"
     ]
    },
    {
     "name": "stdout",
     "output_type": "stream",
     "text": [
      "t_step: 30 \t, sample_time: 0.003 \tupdate_time: 0.005 \tlearn_time: 0.013 \tsum: 4251.911 \tsize: 229778                        \n",
      "Episode 1488\tTotal score (max over agents) this episode: 0.10000000149011612\n",
      "t_step: 65 \t, sample_time: 0.013 \tupdate_time: 0.006 \tlearn_time: 0.044 \tsum: 4252.016 \tsize: 229911                        "
     ]
    },
    {
     "name": "stderr",
     "output_type": "stream",
     "text": [
      "training loop:  99% |######################################### | ETA:   0:01:56\n"
     ]
    },
    {
     "name": "stdout",
     "output_type": "stream",
     "text": [
      "t_step: 65 \t, sample_time: 0.002 \tupdate_time: 0.008 \tlearn_time: 0.032 \tsum: 4252.731 \tsize: 229912                        \n",
      "Episode 1489\tTotal score (max over agents) this episode: 0.20000000298023224\n",
      "t_step: 25 \t, sample_time: 0.005 \tupdate_time: 0.006 \tlearn_time: 0.019 \tsum: 4271.008 \tsize: 229969                        "
     ]
    },
    {
     "name": "stderr",
     "output_type": "stream",
     "text": [
      "training loop:  99% |######################################### | ETA:   0:01:45\n"
     ]
    },
    {
     "name": "stdout",
     "output_type": "stream",
     "text": [
      "t_step: 25 \t, sample_time: 0.004 \tupdate_time: 0.005 \tlearn_time: 0.015 \tsum: 4265.486 \tsize: 229970                        \n",
      "Episode 1490\tTotal score (max over agents) this episode: 0.10000000149011612\n",
      "t_step: 25 \t, sample_time: 0.003 \tupdate_time: 0.008 \tlearn_time: 0.032 \tsum: 4267.478 \tsize: 230029                        "
     ]
    },
    {
     "name": "stderr",
     "output_type": "stream",
     "text": [
      "training loop:  99% |######################################### | ETA:   0:01:35\n"
     ]
    },
    {
     "name": "stdout",
     "output_type": "stream",
     "text": [
      "t_step: 25 \t, sample_time: 0.003 \tupdate_time: 0.006 \tlearn_time: 0.047 \tsum: 4262.041 \tsize: 230030                        \n",
      "Episode 1491\tTotal score (max over agents) this episode: 0.10000000149011612\n",
      "t_step: 25 \t, sample_time: 0.002 \tupdate_time: 0.006 \tlearn_time: 0.043 \tsum: 4254.698 \tsize: 230089                        "
     ]
    },
    {
     "name": "stderr",
     "output_type": "stream",
     "text": [
      "training loop:  99% |######################################### | ETA:   0:01:24\n"
     ]
    },
    {
     "name": "stdout",
     "output_type": "stream",
     "text": [
      "t_step: 25 \t, sample_time: 0.003 \tupdate_time: 0.008 \tlearn_time: 0.085 \tsum: 4248.891 \tsize: 230090                        \n",
      "Episode 1492\tTotal score (max over agents) this episode: 0.09000000171363354\n",
      "t_step: 25 \t, sample_time: 0.013 \tupdate_time: 0.005 \tlearn_time: 0.022 \tsum: 4261.580 \tsize: 230149                        "
     ]
    },
    {
     "name": "stderr",
     "output_type": "stream",
     "text": [
      "training loop:  99% |######################################### | ETA:   0:01:14\n"
     ]
    },
    {
     "name": "stdout",
     "output_type": "stream",
     "text": [
      "t_step: 25 \t, sample_time: 0.002 \tupdate_time: 0.005 \tlearn_time: 0.012 \tsum: 4255.768 \tsize: 230150                        \n",
      "Episode 1493\tTotal score (max over agents) this episode: 0.09000000171363354\n",
      "t_step: 25 \t, sample_time: 0.017 \tupdate_time: 0.006 \tlearn_time: 0.066 \tsum: 4268.953 \tsize: 230209                        "
     ]
    },
    {
     "name": "stderr",
     "output_type": "stream",
     "text": [
      "training loop:  99% |######################################### | ETA:   0:01:03\n"
     ]
    },
    {
     "name": "stdout",
     "output_type": "stream",
     "text": [
      "t_step: 25 \t, sample_time: 0.003 \tupdate_time: 0.009 \tlearn_time: 0.016 \tsum: 4263.153 \tsize: 230210                        \n",
      "Episode 1494\tTotal score (max over agents) this episode: 0.10000000149011612\n",
      "t_step: 25 \t, sample_time: 0.003 \tupdate_time: 0.006 \tlearn_time: 0.026 \tsum: 4268.981 \tsize: 230269                        "
     ]
    },
    {
     "name": "stderr",
     "output_type": "stream",
     "text": [
      "training loop:  99% |######################################### | ETA:   0:00:52\n"
     ]
    },
    {
     "name": "stdout",
     "output_type": "stream",
     "text": [
      "t_step: 25 \t, sample_time: 0.003 \tupdate_time: 0.005 \tlearn_time: 0.136 \tsum: 4257.894 \tsize: 230270                        \n",
      "Episode 1495\tTotal score (max over agents) this episode: 0.10000000149011612\n",
      "t_step: 25 \t, sample_time: 0.005 \tupdate_time: 0.008 \tlearn_time: 0.038 \tsum: 4264.441 \tsize: 230329                        "
     ]
    },
    {
     "name": "stderr",
     "output_type": "stream",
     "text": [
      "training loop:  99% |######################################### | ETA:   0:00:42\n"
     ]
    },
    {
     "name": "stdout",
     "output_type": "stream",
     "text": [
      "t_step: 25 \t, sample_time: 0.003 \tupdate_time: 0.010 \tlearn_time: 0.020 \tsum: 4259.829 \tsize: 230330                        \n",
      "Episode 1496\tTotal score (max over agents) this episode: 0.10000000149011612\n",
      "t_step: 30 \t, sample_time: 0.004 \tupdate_time: 0.008 \tlearn_time: 0.024 \tsum: 4278.725 \tsize: 230399                        "
     ]
    },
    {
     "name": "stderr",
     "output_type": "stream",
     "text": [
      "training loop:  99% |######################################### | ETA:   0:00:31\n"
     ]
    },
    {
     "name": "stdout",
     "output_type": "stream",
     "text": [
      "t_step: 30 \t, sample_time: 0.003 \tupdate_time: 0.007 \tlearn_time: 0.043 \tsum: 4270.686 \tsize: 230400                        \n",
      "Episode 1497\tTotal score (max over agents) this episode: 0.09000000171363354\n",
      "t_step: 65 \t, sample_time: 0.002 \tupdate_time: 0.005 \tlearn_time: 0.012 \tsum: 4268.776 \tsize: 230531                        "
     ]
    },
    {
     "name": "stderr",
     "output_type": "stream",
     "text": [
      "training loop:  99% |######################################### | ETA:   0:00:21\n"
     ]
    },
    {
     "name": "stdout",
     "output_type": "stream",
     "text": [
      "t_step: 65 \t, sample_time: 0.008 \tupdate_time: 0.010 \tlearn_time: 0.026 \tsum: 4264.544 \tsize: 230532                        \n",
      "Episode 1498\tTotal score (max over agents) this episode: 0.19000000320374966\n",
      "t_step: 25 \t, sample_time: 0.006 \tupdate_time: 0.006 \tlearn_time: 0.018 \tsum: 4268.421 \tsize: 230585                        "
     ]
    },
    {
     "name": "stderr",
     "output_type": "stream",
     "text": [
      "training loop:  99% |######################################### | ETA:   0:00:10\n"
     ]
    },
    {
     "name": "stdout",
     "output_type": "stream",
     "text": [
      "t_step: 25 \t, sample_time: 0.004 \tupdate_time: 0.006 \tlearn_time: 0.018 \tsum: 4271.985 \tsize: 230586                        \n",
      "Episode 1499\tTotal score (max over agents) this episode: 0.09000000171363354\n",
      "t_step: 80 \t, sample_time: 0.003 \tupdate_time: 0.004 \tlearn_time: 0.012 \tsum: 4282.160 \tsize: 230753                        "
     ]
    },
    {
     "name": "stderr",
     "output_type": "stream",
     "text": [
      "training loop: 100% |##########################################| ETA:  00:00:00\n"
     ]
    },
    {
     "name": "stdout",
     "output_type": "stream",
     "text": [
      "t_step: 80 \t, sample_time: 0.003 \tupdate_time: 0.005 \tlearn_time: 0.013 \tsum: 4264.444 \tsize: 230754                        \n",
      "Episode 1500\tTotal score (max over agents) this episode: 0.19000000320374966\n"
     ]
    },
    {
     "name": "stderr",
     "output_type": "stream",
     "text": [
      "training loop: 100% |##########################################| Time:  4:24:04\n"
     ]
    }
   ],
   "source": [
    "# ddpg with prioritized experience replay\n",
    "prioritized_learn = True\n",
    "scores = Learn(env, 1500, 10000, 0.0, 0.5, prioritized_learn)"
   ]
  }
 ],
 "metadata": {
  "kernelspec": {
   "display_name": "drlnd",
   "language": "python",
   "name": "drlnd"
  },
  "language_info": {
   "codemirror_mode": {
    "name": "ipython",
    "version": 3
   },
   "file_extension": ".py",
   "mimetype": "text/x-python",
   "name": "python",
   "nbconvert_exporter": "python",
   "pygments_lexer": "ipython3",
   "version": "3.6.13"
  }
 },
 "nbformat": 4,
 "nbformat_minor": 2
}
